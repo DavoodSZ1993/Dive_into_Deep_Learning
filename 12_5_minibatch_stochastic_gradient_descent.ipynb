{
  "nbformat": 4,
  "nbformat_minor": 0,
  "metadata": {
    "colab": {
      "provenance": [],
      "authorship_tag": "ABX9TyNuwzNNSw3ilIL03hAcb5fB",
      "include_colab_link": true
    },
    "kernelspec": {
      "name": "python3",
      "display_name": "Python 3"
    },
    "language_info": {
      "name": "python"
    }
  },
  "cells": [
    {
      "cell_type": "markdown",
      "metadata": {
        "id": "view-in-github",
        "colab_type": "text"
      },
      "source": [
        "<a href=\"https://colab.research.google.com/github/DavoodSZ1993/Dive_into_Deep_Learning/blob/main/12_5_minibatch_stochastic_gradient_descent.ipynb\" target=\"_parent\"><img src=\"https://colab.research.google.com/assets/colab-badge.svg\" alt=\"Open In Colab\"/></a>"
      ]
    },
    {
      "cell_type": "code",
      "execution_count": 1,
      "metadata": {
        "colab": {
          "base_uri": "https://localhost:8080/"
        },
        "id": "Bo_6oOGd14Zl",
        "outputId": "01d10da6-9217-4613-81ab-f423d426d743"
      },
      "outputs": [
        {
          "output_type": "stream",
          "name": "stdout",
          "text": [
            "\u001b[2K     \u001b[90m━━━━━━━━━━━━━━━━━━━━━━━━━━━━━━━━━━━━━━━━\u001b[0m \u001b[32m93.0/93.0 kB\u001b[0m \u001b[31m3.6 MB/s\u001b[0m eta \u001b[36m0:00:00\u001b[0m\n",
            "\u001b[2K     \u001b[90m━━━━━━━━━━━━━━━━━━━━━━━━━━━━━━━━━━━━━━\u001b[0m \u001b[32m121.2/121.2 kB\u001b[0m \u001b[31m12.7 MB/s\u001b[0m eta \u001b[36m0:00:00\u001b[0m\n",
            "\u001b[2K     \u001b[90m━━━━━━━━━━━━━━━━━━━━━━━━━━━━━━━━━━━━━━━━\u001b[0m \u001b[32m84.9/84.9 kB\u001b[0m \u001b[31m8.4 MB/s\u001b[0m eta \u001b[36m0:00:00\u001b[0m\n",
            "\u001b[2K     \u001b[90m━━━━━━━━━━━━━━━━━━━━━━━━━━━━━━━━━━━━━━━━\u001b[0m \u001b[32m1.6/1.6 MB\u001b[0m \u001b[31m40.1 MB/s\u001b[0m eta \u001b[36m0:00:00\u001b[0m\n",
            "\u001b[?25h"
          ]
        }
      ],
      "source": [
        "!pip install d2l==1.0.0-alpha1.post0 --quiet"
      ]
    },
    {
      "cell_type": "markdown",
      "source": [
        "## 12.5 Minibatch Stochastic Gradient Descent"
      ],
      "metadata": {
        "id": "2c2hjtn12EDK"
      }
    },
    {
      "cell_type": "markdown",
      "source": [
        "### 12.5.1 Vectorization and Caches"
      ],
      "metadata": {
        "id": "xcztT2oI5aJk"
      }
    },
    {
      "cell_type": "code",
      "source": [
        "%matplotlib inline\n",
        "import time\n",
        "import numpy as np\n",
        "import torch\n",
        "from torch import nn\n",
        "from d2l import torch as d2l"
      ],
      "metadata": {
        "id": "vYTCK6ww2I_o"
      },
      "execution_count": 2,
      "outputs": []
    },
    {
      "cell_type": "code",
      "source": [
        "A = torch.zeros(256, 256)\n",
        "B = torch.randn(256, 256)\n",
        "C = torch.randn(256, 256)"
      ],
      "metadata": {
        "id": "vS3PpdDG5vIV"
      },
      "execution_count": 3,
      "outputs": []
    },
    {
      "cell_type": "code",
      "source": [
        "class Timer:\n",
        "  def __init__(self):\n",
        "    self.times = []\n",
        "    self.start()\n",
        "\n",
        "  def start(self):\n",
        "    self.tik = time.time()\n",
        "\n",
        "  def stop(self):\n",
        "    self.times.append(time.time() - self.tik)\n",
        "    return self.times[-1]\n",
        "\n",
        "  def avg(self):\n",
        "    return sum(self.times) / len(self.times)\n",
        "\n",
        "  def sum(self):\n",
        "    return sum(self.times)\n",
        "\n",
        "  def cumsum(self):\n",
        "    return np.array(self.times).cumsum().tolist()\n",
        "\n",
        "timer = Timer()"
      ],
      "metadata": {
        "id": "gdu3t1jY6Gl6"
      },
      "execution_count": 5,
      "outputs": []
    },
    {
      "cell_type": "code",
      "source": [
        "# Compute A = BC one element at a time\n",
        "timer.start()\n",
        "for i in range(256):\n",
        "  for j in range(256):\n",
        "    A[i, j] = torch.dot(B[i, :], C[:, j])\n",
        "timer.stop()"
      ],
      "metadata": {
        "colab": {
          "base_uri": "https://localhost:8080/"
        },
        "id": "ZFtsrFUU7EF0",
        "outputId": "4d7b5e3c-24b8-4e4e-b05c-fea8ccc62819"
      },
      "execution_count": 6,
      "outputs": [
        {
          "output_type": "execute_result",
          "data": {
            "text/plain": [
              "1.885279893875122"
            ]
          },
          "metadata": {},
          "execution_count": 6
        }
      ]
    },
    {
      "cell_type": "code",
      "source": [
        "# Compute A = BC one column at a time\n",
        "timer.start()\n",
        "for j in range(256):\n",
        "  A[:, j] = torch.mv(B, C[:, j])\n",
        "timer.stop()"
      ],
      "metadata": {
        "colab": {
          "base_uri": "https://localhost:8080/"
        },
        "id": "V1tvS8Km7bMl",
        "outputId": "0dc2fd8c-0f08-4459-868a-c2f9566f94c2"
      },
      "execution_count": 7,
      "outputs": [
        {
          "output_type": "execute_result",
          "data": {
            "text/plain": [
              "0.022409915924072266"
            ]
          },
          "metadata": {},
          "execution_count": 7
        }
      ]
    },
    {
      "cell_type": "code",
      "source": [
        "## COmpute A = BC in one go\n",
        "timer.start()\n",
        "A = torch.mm(B, C)\n",
        "timer.stop()\n",
        "\n",
        "gigaflops = [0.03 / i for i in timer.times]\n",
        "print(f'performance in Gigaflops: element {gigaflops[0]: .3f}, '\n",
        "      f'column {gigaflops[1]: .3f}, full {gigaflops[2]: .3f}')"
      ],
      "metadata": {
        "colab": {
          "base_uri": "https://localhost:8080/"
        },
        "id": "8QG8-bT177CA",
        "outputId": "a60c1e3a-7e6b-4682-df5d-e01a7a96b789"
      },
      "execution_count": 10,
      "outputs": [
        {
          "output_type": "stream",
          "name": "stdout",
          "text": [
            "performance in Gigaflops: element  0.016, column  1.339, full  1.600\n"
          ]
        }
      ]
    },
    {
      "cell_type": "markdown",
      "source": [
        "### 12.5.2 Minibatches"
      ],
      "metadata": {
        "id": "OTExhQtz8-vC"
      }
    },
    {
      "cell_type": "code",
      "source": [],
      "metadata": {
        "id": "a_6CV0XE9DHf"
      },
      "execution_count": null,
      "outputs": []
    }
  ]
}