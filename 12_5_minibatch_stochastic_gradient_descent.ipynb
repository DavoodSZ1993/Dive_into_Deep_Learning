{
  "nbformat": 4,
  "nbformat_minor": 0,
  "metadata": {
    "colab": {
      "provenance": [],
      "authorship_tag": "ABX9TyMVWWMOtFJ9NlIGkYTMuWvb",
      "include_colab_link": true
    },
    "kernelspec": {
      "name": "python3",
      "display_name": "Python 3"
    },
    "language_info": {
      "name": "python"
    }
  },
  "cells": [
    {
      "cell_type": "markdown",
      "metadata": {
        "id": "view-in-github",
        "colab_type": "text"
      },
      "source": [
        "<a href=\"https://colab.research.google.com/github/DavoodSZ1993/Dive_into_Deep_Learning/blob/main/12_5_minibatch_stochastic_gradient_descent.ipynb\" target=\"_parent\"><img src=\"https://colab.research.google.com/assets/colab-badge.svg\" alt=\"Open In Colab\"/></a>"
      ]
    },
    {
      "cell_type": "code",
      "execution_count": 1,
      "metadata": {
        "colab": {
          "base_uri": "https://localhost:8080/"
        },
        "id": "Bo_6oOGd14Zl",
        "outputId": "3c864756-11a2-4a8a-c5a2-f52a5897b0ae"
      },
      "outputs": [
        {
          "output_type": "stream",
          "name": "stdout",
          "text": [
            "\u001b[2K     \u001b[90m━━━━━━━━━━━━━━━━━━━━━━━━━━━━━━━━━━━━━━━━\u001b[0m \u001b[32m93.0/93.0 kB\u001b[0m \u001b[31m5.0 MB/s\u001b[0m eta \u001b[36m0:00:00\u001b[0m\n",
            "\u001b[2K     \u001b[90m━━━━━━━━━━━━━━━━━━━━━━━━━━━━━━━━━━━━━━━\u001b[0m \u001b[32m121.2/121.2 kB\u001b[0m \u001b[31m9.6 MB/s\u001b[0m eta \u001b[36m0:00:00\u001b[0m\n",
            "\u001b[2K     \u001b[90m━━━━━━━━━━━━━━━━━━━━━━━━━━━━━━━━━━━━━━━━\u001b[0m \u001b[32m84.9/84.9 kB\u001b[0m \u001b[31m9.5 MB/s\u001b[0m eta \u001b[36m0:00:00\u001b[0m\n",
            "\u001b[2K     \u001b[90m━━━━━━━━━━━━━━━━━━━━━━━━━━━━━━━━━━━━━━━━\u001b[0m \u001b[32m1.6/1.6 MB\u001b[0m \u001b[31m68.6 MB/s\u001b[0m eta \u001b[36m0:00:00\u001b[0m\n",
            "\u001b[?25h"
          ]
        }
      ],
      "source": [
        "!pip install d2l==1.0.0-alpha1.post0 --quiet"
      ]
    },
    {
      "cell_type": "markdown",
      "source": [
        "## 12.5 Minibatch Stochastic Gradient Descent"
      ],
      "metadata": {
        "id": "2c2hjtn12EDK"
      }
    },
    {
      "cell_type": "markdown",
      "source": [
        "### 12.5.1 Vectorization and Caches"
      ],
      "metadata": {
        "id": "xcztT2oI5aJk"
      }
    },
    {
      "cell_type": "code",
      "source": [
        "%matplotlib inline\n",
        "import time\n",
        "import numpy as np\n",
        "import torch\n",
        "from torch import nn\n",
        "from d2l import torch as d2l"
      ],
      "metadata": {
        "id": "vYTCK6ww2I_o"
      },
      "execution_count": 2,
      "outputs": []
    },
    {
      "cell_type": "code",
      "source": [
        "A = torch.zeros(256, 256)\n",
        "B = torch.randn(256, 256)\n",
        "C = torch.randn(256, 256)"
      ],
      "metadata": {
        "id": "vS3PpdDG5vIV"
      },
      "execution_count": 3,
      "outputs": []
    },
    {
      "cell_type": "code",
      "source": [
        "class Timer:\n",
        "  def __init__(self):\n",
        "    self.times = []\n",
        "    self.start()\n",
        "\n",
        "  def start(self):\n",
        "    self.tik = time.time()\n",
        "\n",
        "  def stop(self):\n",
        "    self.times.append(time.time() - self.tik)\n",
        "    return self.times[-1]\n",
        "\n",
        "  def avg(self):\n",
        "    return sum(self.times) / len(self.times)\n",
        "\n",
        "  def sum(self):\n",
        "    return sum(self.times)\n",
        "\n",
        "  def cumsum(self):\n",
        "    return np.array(self.times).cumsum().tolist()\n",
        "\n",
        "timer = Timer()"
      ],
      "metadata": {
        "id": "gdu3t1jY6Gl6"
      },
      "execution_count": 4,
      "outputs": []
    },
    {
      "cell_type": "code",
      "source": [
        "# Compute A = BC one element at a time\n",
        "timer.start()\n",
        "for i in range(256):\n",
        "  for j in range(256):\n",
        "    A[i, j] = torch.dot(B[i, :], C[:, j])\n",
        "timer.stop()"
      ],
      "metadata": {
        "colab": {
          "base_uri": "https://localhost:8080/"
        },
        "id": "ZFtsrFUU7EF0",
        "outputId": "971e22fa-9a23-4cd5-d6aa-e37efd4aa62b"
      },
      "execution_count": 5,
      "outputs": [
        {
          "output_type": "execute_result",
          "data": {
            "text/plain": [
              "1.3486497402191162"
            ]
          },
          "metadata": {},
          "execution_count": 5
        }
      ]
    },
    {
      "cell_type": "code",
      "source": [
        "# Compute A = BC one column at a time\n",
        "timer.start()\n",
        "for j in range(256):\n",
        "  A[:, j] = torch.mv(B, C[:, j])\n",
        "timer.stop()"
      ],
      "metadata": {
        "colab": {
          "base_uri": "https://localhost:8080/"
        },
        "id": "V1tvS8Km7bMl",
        "outputId": "2fc1904f-5c3f-4b4e-bd2e-dc37e3567ffd"
      },
      "execution_count": 6,
      "outputs": [
        {
          "output_type": "execute_result",
          "data": {
            "text/plain": [
              "0.015790462493896484"
            ]
          },
          "metadata": {},
          "execution_count": 6
        }
      ]
    },
    {
      "cell_type": "code",
      "source": [
        "## COmpute A = BC in one go\n",
        "timer.start()\n",
        "A = torch.mm(B, C)\n",
        "timer.stop()\n",
        "\n",
        "gigaflops = [0.03 / i for i in timer.times]\n",
        "print(f'performance in Gigaflops: element {gigaflops[0]: .3f}, '\n",
        "      f'column {gigaflops[1]: .3f}, full {gigaflops[2]: .3f}')"
      ],
      "metadata": {
        "colab": {
          "base_uri": "https://localhost:8080/"
        },
        "id": "8QG8-bT177CA",
        "outputId": "831bed72-74ac-44b9-ecc1-34ce3f80a615"
      },
      "execution_count": 7,
      "outputs": [
        {
          "output_type": "stream",
          "name": "stdout",
          "text": [
            "performance in Gigaflops: element  0.022, column  1.900, full  1.722\n"
          ]
        }
      ]
    },
    {
      "cell_type": "markdown",
      "source": [
        "### 12.5.2 Minibatches"
      ],
      "metadata": {
        "id": "OTExhQtz8-vC"
      }
    },
    {
      "cell_type": "code",
      "source": [
        "timer.start()\n",
        "for j in range(0, 256, 64):\n",
        "  A[:, j:j+64] = torch.mm(B, C[:, j:j+64])\n",
        "timer.stop()\n",
        "print(f'performance in Gigaflops: block {0.03 / timer.times[3]: .3f}')"
      ],
      "metadata": {
        "colab": {
          "base_uri": "https://localhost:8080/"
        },
        "id": "a_6CV0XE9DHf",
        "outputId": "0f57c8f4-4ec9-48bc-b31b-3609888ace46"
      },
      "execution_count": 8,
      "outputs": [
        {
          "output_type": "stream",
          "name": "stdout",
          "text": [
            "performance in Gigaflops: block  7.647\n"
          ]
        }
      ]
    },
    {
      "cell_type": "markdown",
      "source": [
        "### 12.5.3 Reading the Dataset"
      ],
      "metadata": {
        "id": "0CBRx43vJKKH"
      }
    },
    {
      "cell_type": "code",
      "source": [
        "d2l.DATA_HUB['airfoil'] = (d2l.DATA_URL + 'airfoil_self_noise.dat',\n",
        "                           '76e5be1548fd8222e5074cf0faae75edff8cf93f')\n",
        "\n",
        "def get_data_ch11(batch_size=10, n=1500):\n",
        "  data = np.genfromtxt(d2l.download('airfoil'),\n",
        "                       dtype=np.float32, delimiter='\\t')\n",
        "  data = torch.from_numpy((data - data.mean(axis=0)) / data.std(axis=0))\n",
        "  data_iter = d2l.load_array((data[:n, :-1], data[:n, -1]),\n",
        "                             batch_size, is_train=True)\n",
        "  return data_iter, data.shape[1] - 1"
      ],
      "metadata": {
        "id": "9ZhmsdUoJPwT"
      },
      "execution_count": 9,
      "outputs": []
    },
    {
      "cell_type": "markdown",
      "source": [
        "### 12.5.4 Implementation from Scratch"
      ],
      "metadata": {
        "id": "jRvcvDRV8LoK"
      }
    },
    {
      "cell_type": "code",
      "source": [],
      "metadata": {
        "id": "5ys8z6go8Qzi"
      },
      "execution_count": null,
      "outputs": []
    }
  ]
}