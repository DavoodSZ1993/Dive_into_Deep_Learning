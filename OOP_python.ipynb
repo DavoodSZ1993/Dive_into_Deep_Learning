{
  "nbformat": 4,
  "nbformat_minor": 0,
  "metadata": {
    "colab": {
      "provenance": [],
      "authorship_tag": "ABX9TyP9PGangTxUBYOtAVvPTPQC",
      "include_colab_link": true
    },
    "kernelspec": {
      "name": "python3",
      "display_name": "Python 3"
    },
    "language_info": {
      "name": "python"
    }
  },
  "cells": [
    {
      "cell_type": "markdown",
      "metadata": {
        "id": "view-in-github",
        "colab_type": "text"
      },
      "source": [
        "<a href=\"https://colab.research.google.com/github/DavoodSZ1993/Dive_into_Deep_Learning/blob/main/OOP_python.ipynb\" target=\"_parent\"><img src=\"https://colab.research.google.com/assets/colab-badge.svg\" alt=\"Open In Colab\"/></a>"
      ]
    },
    {
      "cell_type": "markdown",
      "source": [
        "## Creating Class and Instantiate Objects"
      ],
      "metadata": {
        "id": "FOkPOY0OyOau"
      }
    },
    {
      "cell_type": "code",
      "execution_count": 3,
      "metadata": {
        "colab": {
          "base_uri": "https://localhost:8080/"
        },
        "id": "_-atoHAYxpJb",
        "outputId": "1ad3b32b-d074-4723-be7d-f649267788f3"
      },
      "outputs": [
        {
          "output_type": "execute_result",
          "data": {
            "text/plain": [
              "__main__.Item"
            ]
          },
          "metadata": {},
          "execution_count": 3
        }
      ],
      "source": [
        "class Item:\n",
        "  pass\n",
        "\n",
        "item1 = Item()\n",
        "\n",
        "type(item1)"
      ]
    },
    {
      "cell_type": "code",
      "source": [
        "class Animal:\n",
        "  def __init__(self, name, num_legs, mammal):   # Instructor\n",
        "    self.name = name\n",
        "    self.num_legs = num_legs\n",
        "    self.mammal = mammal\n",
        "\n",
        "  def is_mammal(self):                         # Method\n",
        "    if self.mammal:\n",
        "      print(f'{self.name} is a mammal.')\n",
        "    else:\n",
        "      print(f'{self.name} is not a mammal.')\n",
        "\n",
        "dog = Animal('Dog', 4, True)\n",
        "dog.is_mammal()\n",
        "\n",
        "  "
      ],
      "metadata": {
        "colab": {
          "base_uri": "https://localhost:8080/"
        },
        "id": "gAYIWwyjysdn",
        "outputId": "e14e7615-e6c8-4c87-9e61-ca253f698db7"
      },
      "execution_count": 7,
      "outputs": [
        {
          "output_type": "stream",
          "name": "stdout",
          "text": [
            "Dog is a mammal.\n"
          ]
        }
      ]
    }
  ]
}