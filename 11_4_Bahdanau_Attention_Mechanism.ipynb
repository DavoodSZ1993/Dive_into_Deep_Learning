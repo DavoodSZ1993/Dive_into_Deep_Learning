{
  "nbformat": 4,
  "nbformat_minor": 0,
  "metadata": {
    "colab": {
      "provenance": [],
      "authorship_tag": "ABX9TyMDHLJXaYsBB4hiedBfaVYs",
      "include_colab_link": true
    },
    "kernelspec": {
      "name": "python3",
      "display_name": "Python 3"
    },
    "language_info": {
      "name": "python"
    }
  },
  "cells": [
    {
      "cell_type": "markdown",
      "metadata": {
        "id": "view-in-github",
        "colab_type": "text"
      },
      "source": [
        "<a href=\"https://colab.research.google.com/github/DavoodSZ1993/Dive_into_Deep_Learning/blob/main/11_4_Bahdanau_Attention_Mechanism.ipynb\" target=\"_parent\"><img src=\"https://colab.research.google.com/assets/colab-badge.svg\" alt=\"Open In Colab\"/></a>"
      ]
    },
    {
      "cell_type": "code",
      "execution_count": 1,
      "metadata": {
        "id": "OuZyd9Qf3qeB",
        "outputId": "cdd73b6e-58fe-43e4-db53-6aa4ac7fc698",
        "colab": {
          "base_uri": "https://localhost:8080/"
        }
      },
      "outputs": [
        {
          "output_type": "stream",
          "name": "stdout",
          "text": [
            "\u001b[2K     \u001b[90m━━━━━━━━━━━━━━━━━━━━━━━━━━━━━━━━━━━━━━━━\u001b[0m \u001b[32m93.0/93.0 KB\u001b[0m \u001b[31m1.2 MB/s\u001b[0m eta \u001b[36m0:00:00\u001b[0m\n",
            "\u001b[2K     \u001b[90m━━━━━━━━━━━━━━━━━━━━━━━━━━━━━━━━━━━━━━━\u001b[0m \u001b[32m120.9/120.9 KB\u001b[0m \u001b[31m4.9 MB/s\u001b[0m eta \u001b[36m0:00:00\u001b[0m\n",
            "\u001b[2K     \u001b[90m━━━━━━━━━━━━━━━━━━━━━━━━━━━━━━━━━━━━━━━━\u001b[0m \u001b[32m83.6/83.6 KB\u001b[0m \u001b[31m4.8 MB/s\u001b[0m eta \u001b[36m0:00:00\u001b[0m\n",
            "\u001b[2K     \u001b[90m━━━━━━━━━━━━━━━━━━━━━━━━━━━━━━━━━━━━━━━━\u001b[0m \u001b[32m1.6/1.6 MB\u001b[0m \u001b[31m17.7 MB/s\u001b[0m eta \u001b[36m0:00:00\u001b[0m\n",
            "\u001b[?25h"
          ]
        }
      ],
      "source": [
        "!pip install d2l==1.0.0-alpha1.post0 --quiet"
      ]
    },
    {
      "cell_type": "markdown",
      "source": [
        "## 11.4 The Bahdanau Attention Mechanism"
      ],
      "metadata": {
        "id": "buANBUDv4IsF"
      }
    },
    {
      "cell_type": "code",
      "source": [
        "import torch\n",
        "from torch import nn\n",
        "from d2l import torch as d2l"
      ],
      "metadata": {
        "id": "KI1U2rDY4NPy",
        "outputId": "db4a3cdc-c7af-4255-d76e-a0903d9899a3",
        "colab": {
          "base_uri": "https://localhost:8080/"
        }
      },
      "execution_count": 2,
      "outputs": [
        {
          "output_type": "stream",
          "name": "stderr",
          "text": [
            "/usr/local/lib/python3.9/dist-packages/torch/cuda/__init__.py:497: UserWarning: Can't initialize NVML\n",
            "  warnings.warn(\"Can't initialize NVML\")\n"
          ]
        }
      ]
    },
    {
      "cell_type": "markdown",
      "source": [
        "### 11.4.2 Defining the Decoder with Attention"
      ],
      "metadata": {
        "id": "pL8_HJr29tbY"
      }
    },
    {
      "cell_type": "code",
      "source": [
        "class AttentionDecoder(d2l.Decoder):\n",
        "  def __init__(self):\n",
        "    super().__init__()\n",
        "\n",
        "  @property\n",
        "  def attention_weights(self):\n",
        "    raise NotImplementedError"
      ],
      "metadata": {
        "id": "n1KBMfwb93uB"
      },
      "execution_count": 3,
      "outputs": []
    },
    {
      "cell_type": "code",
      "source": [
        "class Seq2SeqAttentionDecoder(AttentionDecoder):\n",
        "  def __init__(self, vocab_size, embed_size, num_hiddens, num_layers, dropout=0):\n",
        "    super().__init__()\n",
        "    self.attention = d2l.AdditiveAttention(num_hiddens, dropout)\n",
        "    self.embedding = nn.Embedding(vocab_size, embed_size)\n",
        "    self.rnn = nn.GRU(\n",
        "        embed_size + num_hiddens, num_hiddens, num_layers, dropout=dropout)\n",
        "    self.dense = nn.LazyLinear(vocab_size)\n",
        "    self.apply(d2l.init_seq2seq)\n",
        "\n",
        "  def init_state(self, enc_outputs, enc_valid_lens):\n",
        "    # Shape of outputs: (num_steps, batch_size, num_hiddens)\n",
        "    # Shape of hidden_state: (num_layers, batch_size, num_hiddens)\n",
        "    outputs, hidden_state = enc_outputs\n",
        "    return (outputs.permute(1, 0, 2), hidden_state, enc_valid_lens)\n",
        "\n",
        "  def forward(self, X, state):\n",
        "    # Shape of enc_outputs: (batch_size, num_steps, num_hiddens).\n",
        "    # Shape of hidden_state: (num_layers, batch_size, num_hiddens).\n",
        "    enc_outputs, hidden_state, enc_valid_lens = state\n",
        "    # Shape of the output X: (num_steps, batch_size, embed_size).\n",
        "    X = self.embedding(X).permute(1, 0, 2)\n",
        "    outputs, self._attention_weights = [], []\n",
        "    for x in X:\n",
        "      # Shape of query: (batch_size, 1, num_hiddnes)\n",
        "      query = torch.unsqueeze(hidden_state[-1], dim=1)\n",
        "      # Shape of context: (batch_size, 1, num_hiddens)\n",
        "      context = self.attention(\n",
        "          query, enc_outputs, enc_outputs, enc_valid_lens)\n",
        "      # Concatenate on the feature dimension\n",
        "      x = torch.cat((context, torch.unsqueeze(x, dim=1)), dim=-1)\n",
        "      # Reshape x as (1, batch_size, embed_size + num_hiddens)\n",
        "      out, hidden_state = self.rnn(x.permute(1, 0, 2), hidden_state)\n",
        "      outputs.append(out)\n",
        "      self._attention_weights.append(self.attention.attention_weights)\n",
        "    # After fully connected layer transformations, shape of outputs:\n",
        "    # (num_steps, batch_size, vocab_size)\n",
        "    outputs = self.dense(torch.cat(outputs, dim=0))\n",
        "    return outputs.permute(1, 0, 2), [enc_outputs, hidden_state, enc_valid_lens]\n",
        "\n",
        "  @property\n",
        "  def attention_weights(self):\n",
        "    return self._attention_weights"
      ],
      "metadata": {
        "id": "3i4GF5lzVzIg"
      },
      "execution_count": 4,
      "outputs": []
    },
    {
      "cell_type": "code",
      "source": [
        "vocab_size, embed_size, num_hiddens, num_layers = 10, 8, 16, 2\n",
        "batch_size, num_steps = 4, 7\n",
        "encoder = d2l.Seq2SeqEncoder(vocab_size, embed_size, num_hiddens, num_layers)\n",
        "decoder = Seq2SeqAttentionDecoder(vocab_size, embed_size, num_hiddens, num_layers)\n",
        "X = torch.zeros((batch_size, num_steps), dtype=torch.long)\n",
        "state = decoder.init_state(encoder(X), None)\n",
        "output, state = decoder(X, state)\n",
        "d2l.check_shape(output, (batch_size, num_steps, vocab_size))\n",
        "d2l.check_shape(state[0], (batch_size, num_steps, num_hiddens))\n",
        "d2l.check_shape(state[1][0], (batch_size, num_hiddens))\n"
      ],
      "metadata": {
        "id": "iprFZcjiacll"
      },
      "execution_count": 6,
      "outputs": []
    }
  ]
}