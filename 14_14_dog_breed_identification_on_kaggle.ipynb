{
  "nbformat": 4,
  "nbformat_minor": 0,
  "metadata": {
    "colab": {
      "provenance": [],
      "authorship_tag": "ABX9TyN1v0HWcwoz+9HB4ytsVFOL",
      "include_colab_link": true
    },
    "kernelspec": {
      "name": "python3",
      "display_name": "Python 3"
    },
    "language_info": {
      "name": "python"
    }
  },
  "cells": [
    {
      "cell_type": "markdown",
      "metadata": {
        "id": "view-in-github",
        "colab_type": "text"
      },
      "source": [
        "<a href=\"https://colab.research.google.com/github/DavoodSZ1993/Dive_into_Deep_Learning/blob/main/14_14_dog_breed_identification_on_kaggle.ipynb\" target=\"_parent\"><img src=\"https://colab.research.google.com/assets/colab-badge.svg\" alt=\"Open In Colab\"/></a>"
      ]
    },
    {
      "cell_type": "code",
      "execution_count": 1,
      "metadata": {
        "id": "zthX_6NK5mpg",
        "colab": {
          "base_uri": "https://localhost:8080/"
        },
        "outputId": "00a42fc4-9648-4824-c2ed-742bbbe19c9a"
      },
      "outputs": [
        {
          "output_type": "stream",
          "name": "stdout",
          "text": [
            "\u001b[2K     \u001b[90m━━━━━━━━━━━━━━━━━━━━━━━━━━━━━━━━━━━━━━━━\u001b[0m \u001b[32m93.0/93.0 kB\u001b[0m \u001b[31m3.6 MB/s\u001b[0m eta \u001b[36m0:00:00\u001b[0m\n",
            "\u001b[2K     \u001b[90m━━━━━━━━━━━━━━━━━━━━━━━━━━━━━━━━━━━━━━\u001b[0m \u001b[32m121.9/121.9 kB\u001b[0m \u001b[31m12.3 MB/s\u001b[0m eta \u001b[36m0:00:00\u001b[0m\n",
            "\u001b[2K     \u001b[90m━━━━━━━━━━━━━━━━━━━━━━━━━━━━━━━━━━━━━━━━\u001b[0m \u001b[32m84.9/84.9 kB\u001b[0m \u001b[31m8.6 MB/s\u001b[0m eta \u001b[36m0:00:00\u001b[0m\n",
            "\u001b[2K     \u001b[90m━━━━━━━━━━━━━━━━━━━━━━━━━━━━━━━━━━━━━━━━\u001b[0m \u001b[32m1.6/1.6 MB\u001b[0m \u001b[31m38.3 MB/s\u001b[0m eta \u001b[36m0:00:00\u001b[0m\n",
            "\u001b[?25h"
          ]
        }
      ],
      "source": [
        "!pip install d2l==1.0.0-alpha1.post0 --quiet"
      ]
    },
    {
      "cell_type": "markdown",
      "source": [
        "## 14.14 Dog Breed Identification (ImageNet Dogs) on Kaggle"
      ],
      "metadata": {
        "id": "YIUgmJEt5v-D"
      }
    },
    {
      "cell_type": "code",
      "source": [
        "import os\n",
        "import torch\n",
        "import torchvision\n",
        "from torch import nn\n",
        "from d2l import torch as d2l"
      ],
      "metadata": {
        "id": "BiR63pLy526C"
      },
      "execution_count": 2,
      "outputs": []
    },
    {
      "cell_type": "markdown",
      "source": [
        "### 14.14.1 Obtaining and Organizing the Dataset"
      ],
      "metadata": {
        "id": "sVJQdV_IcDfh"
      }
    },
    {
      "cell_type": "markdown",
      "source": [
        "#### Downloading the Dataset"
      ],
      "metadata": {
        "id": "ThvyfOF-cgQ4"
      }
    },
    {
      "cell_type": "code",
      "source": [
        "d2l.DATA_HUB['dog_tiny'] = (d2l.DATA_URL + 'kaggle_dog_tiny.zip',\n",
        "                            '0cb91d09b814ecdc07b50f31f8dcad3e81d6a86d')\n",
        "\n",
        "demo = True\n",
        "if demo:\n",
        "  data_dir = d2l.download_extract('dog_tiny')\n",
        "else:\n",
        "  data_dir = os.path.join('..', 'data', 'dog-breed-identification')"
      ],
      "metadata": {
        "colab": {
          "base_uri": "https://localhost:8080/"
        },
        "id": "oi8Tkl-9cJQW",
        "outputId": "0081e448-fc10-4c61-d021-4a7a92fc5ef9"
      },
      "execution_count": 3,
      "outputs": [
        {
          "output_type": "stream",
          "name": "stdout",
          "text": [
            "Downloading ../data/kaggle_dog_tiny.zip from http://d2l-data.s3-accelerate.amazonaws.com/kaggle_dog_tiny.zip...\n"
          ]
        }
      ]
    },
    {
      "cell_type": "markdown",
      "source": [
        "#### Organizing the Dataset"
      ],
      "metadata": {
        "id": "OpBKtibvdRNa"
      }
    },
    {
      "cell_type": "code",
      "source": [
        "def reorg_dog_data(data_dir, valid_ratio):\n",
        "  labels = d2l.read_csv_labels(os.path.join(data_dir, 'labels.csv'))\n",
        "  d2l.reorg_train_valid(data_dir, labels, valid_ratio)\n",
        "  d2l.reorg_test(data_dir)\n",
        "\n",
        "batch_size = 32 if demo else 128\n",
        "valid_ratio = 0.1\n",
        "reorg_dog_data(data_dir, valid_ratio)"
      ],
      "metadata": {
        "id": "NQaRQSQydU8f"
      },
      "execution_count": 5,
      "outputs": []
    },
    {
      "cell_type": "markdown",
      "source": [
        "### 14.14.2 Image Augmentation"
      ],
      "metadata": {
        "id": "SiINkdOEeT3A"
      }
    },
    {
      "cell_type": "code",
      "source": [
        "transform_train = torchvision.transforms.Compose([\n",
        "    torchvision.transforms.RandomResizedCrop(224, scale=(0.08, 1),\n",
        "                                             ratio=(3.0/4.0, 4.0/3.0)),\n",
        "    torchvision.transforms.RandomHorizontalFlip(),\n",
        "    torchvision.transforms.ColorJitter(brightness=0.4,\n",
        "                                       contrast=0.4,\n",
        "                                       saturation=0.4),\n",
        "    torchvision.transforms.ToTensor(),\n",
        "    torchvision.transforms.Normalize([0.485, 0.456, 0.406],\n",
        "                                     [0.229, 0.224, 0.225])])"
      ],
      "metadata": {
        "id": "z8CCCiJdeXI-"
      },
      "execution_count": 6,
      "outputs": []
    },
    {
      "cell_type": "code",
      "source": [
        "transform_test = torchvision.transforms.Compose([\n",
        "    torchvision.transforms.Resize(256),\n",
        "    torchvision.transforms.CenterCrop(224),\n",
        "    torchvision.transforms.ToTensor(),\n",
        "    torchvision.transforms.Normalize([0.485, 0.456, 0.406],\n",
        "                                     [0.229, 0.224, 0.225])])"
      ],
      "metadata": {
        "id": "IRxVbbCPfNZ3"
      },
      "execution_count": 7,
      "outputs": []
    }
  ]
}