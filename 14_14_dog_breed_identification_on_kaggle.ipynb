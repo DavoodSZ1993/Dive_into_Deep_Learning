{
  "nbformat": 4,
  "nbformat_minor": 0,
  "metadata": {
    "colab": {
      "provenance": [],
      "authorship_tag": "ABX9TyP7yAPv8bBIlOB+mEbNEG+i",
      "include_colab_link": true
    },
    "kernelspec": {
      "name": "python3",
      "display_name": "Python 3"
    },
    "language_info": {
      "name": "python"
    }
  },
  "cells": [
    {
      "cell_type": "markdown",
      "metadata": {
        "id": "view-in-github",
        "colab_type": "text"
      },
      "source": [
        "<a href=\"https://colab.research.google.com/github/DavoodSZ1993/Dive_into_Deep_Learning/blob/main/14_14_dog_breed_identification_on_kaggle.ipynb\" target=\"_parent\"><img src=\"https://colab.research.google.com/assets/colab-badge.svg\" alt=\"Open In Colab\"/></a>"
      ]
    },
    {
      "cell_type": "code",
      "execution_count": 1,
      "metadata": {
        "id": "zthX_6NK5mpg",
        "colab": {
          "base_uri": "https://localhost:8080/"
        },
        "outputId": "00a42fc4-9648-4824-c2ed-742bbbe19c9a"
      },
      "outputs": [
        {
          "output_type": "stream",
          "name": "stdout",
          "text": [
            "\u001b[2K     \u001b[90m━━━━━━━━━━━━━━━━━━━━━━━━━━━━━━━━━━━━━━━━\u001b[0m \u001b[32m93.0/93.0 kB\u001b[0m \u001b[31m3.6 MB/s\u001b[0m eta \u001b[36m0:00:00\u001b[0m\n",
            "\u001b[2K     \u001b[90m━━━━━━━━━━━━━━━━━━━━━━━━━━━━━━━━━━━━━━\u001b[0m \u001b[32m121.9/121.9 kB\u001b[0m \u001b[31m12.3 MB/s\u001b[0m eta \u001b[36m0:00:00\u001b[0m\n",
            "\u001b[2K     \u001b[90m━━━━━━━━━━━━━━━━━━━━━━━━━━━━━━━━━━━━━━━━\u001b[0m \u001b[32m84.9/84.9 kB\u001b[0m \u001b[31m8.6 MB/s\u001b[0m eta \u001b[36m0:00:00\u001b[0m\n",
            "\u001b[2K     \u001b[90m━━━━━━━━━━━━━━━━━━━━━━━━━━━━━━━━━━━━━━━━\u001b[0m \u001b[32m1.6/1.6 MB\u001b[0m \u001b[31m38.3 MB/s\u001b[0m eta \u001b[36m0:00:00\u001b[0m\n",
            "\u001b[?25h"
          ]
        }
      ],
      "source": [
        "!pip install d2l==1.0.0-alpha1.post0 --quiet"
      ]
    },
    {
      "cell_type": "markdown",
      "source": [
        "## 14.14 Dog Breed Identification (ImageNet Dogs) on Kaggle"
      ],
      "metadata": {
        "id": "YIUgmJEt5v-D"
      }
    },
    {
      "cell_type": "code",
      "source": [
        "import os\n",
        "import torch\n",
        "import torchvision\n",
        "from torch import nn\n",
        "from d2l import torch as d2l"
      ],
      "metadata": {
        "id": "BiR63pLy526C"
      },
      "execution_count": 2,
      "outputs": []
    },
    {
      "cell_type": "markdown",
      "source": [
        "### 14.14.1 Obtaining and Organizing the Dataset"
      ],
      "metadata": {
        "id": "sVJQdV_IcDfh"
      }
    },
    {
      "cell_type": "markdown",
      "source": [
        "#### Downloading the Dataset"
      ],
      "metadata": {
        "id": "ThvyfOF-cgQ4"
      }
    },
    {
      "cell_type": "code",
      "source": [
        "d2l.DATA_HUB['dog_tiny'] = (d2l.DATA_URL + 'kaggle_dog_tiny.zip',\n",
        "                            '0cb91d09b814ecdc07b50f31f8dcad3e81d6a86d')\n",
        "\n",
        "demo = True\n",
        "if demo:\n",
        "  data_dir = d2l.download_extract('dog_tiny')\n",
        "else:\n",
        "  data_dir = os.path.join('..', 'data', 'dog-breed-identification')"
      ],
      "metadata": {
        "colab": {
          "base_uri": "https://localhost:8080/"
        },
        "id": "oi8Tkl-9cJQW",
        "outputId": "0081e448-fc10-4c61-d021-4a7a92fc5ef9"
      },
      "execution_count": 3,
      "outputs": [
        {
          "output_type": "stream",
          "name": "stdout",
          "text": [
            "Downloading ../data/kaggle_dog_tiny.zip from http://d2l-data.s3-accelerate.amazonaws.com/kaggle_dog_tiny.zip...\n"
          ]
        }
      ]
    },
    {
      "cell_type": "markdown",
      "source": [
        "#### Organizing the Dataset"
      ],
      "metadata": {
        "id": "OpBKtibvdRNa"
      }
    },
    {
      "cell_type": "code",
      "source": [
        "def reorg_dog_data(data_dir, valid_ratio):\n",
        "  labels = d2l.read_csv_labels(os.path.join(data_dir, 'labels.csv'))\n",
        "  d2l.reorg_train_valid(data_dir, labels, valid_ratio)\n",
        "  d2l.reorg_test(data_dir)\n",
        "\n",
        "batch_size = 32 if demo else 128\n",
        "valid_ratio = 0.1\n",
        "reorg_dog_data(data_dir, valid_ratio)"
      ],
      "metadata": {
        "id": "NQaRQSQydU8f"
      },
      "execution_count": 5,
      "outputs": []
    },
    {
      "cell_type": "markdown",
      "source": [
        "### 14.14.2 Image Augmentation"
      ],
      "metadata": {
        "id": "SiINkdOEeT3A"
      }
    },
    {
      "cell_type": "code",
      "source": [
        "transform_train = torchvision.transforms.Compose([\n",
        "    torchvision.transforms.RandomResizedCrop(224, scale=(0.08, 1),\n",
        "                                             ratio=(3.0/4.0, 4.0/3.0)),\n",
        "    torchvision.transforms.RandomHorizontalFlip(),\n",
        "    torchvision.transforms.ColorJitter(brightness=0.4,\n",
        "                                       contrast=0.4,\n",
        "                                       saturation=0.4),\n",
        "    torchvision.transforms.ToTensor(),\n",
        "    torchvision.transforms.Normalize([0.485, 0.456, 0.406],\n",
        "                                     [0.229, 0.224, 0.225])])"
      ],
      "metadata": {
        "id": "z8CCCiJdeXI-"
      },
      "execution_count": 6,
      "outputs": []
    },
    {
      "cell_type": "code",
      "source": [
        "transform_test = torchvision.transforms.Compose([\n",
        "    torchvision.transforms.Resize(256),\n",
        "    torchvision.transforms.CenterCrop(224),\n",
        "    torchvision.transforms.ToTensor(),\n",
        "    torchvision.transforms.Normalize([0.485, 0.456, 0.406],\n",
        "                                     [0.229, 0.224, 0.225])])"
      ],
      "metadata": {
        "id": "IRxVbbCPfNZ3"
      },
      "execution_count": 7,
      "outputs": []
    },
    {
      "cell_type": "markdown",
      "source": [
        "### 14.14.3 Reading the Dataset"
      ],
      "metadata": {
        "id": "5P5XEcDvfyVv"
      }
    },
    {
      "cell_type": "code",
      "source": [
        "train_ds, train_valid_ds = [torchvision.datasets.ImageFolder(\n",
        "    os.path.join(data_dir, 'train_valid_test', folder),\n",
        "    transform=transform_train) for folder in ['train', 'train_valid']]\n",
        "\n",
        "valid_ds, test_ds = [torchvision.datasets.ImageFolder(\n",
        "    os.path.join(data_dir, 'train_valid_test', folder),\n",
        "    transform=transform_test) for folder in ['valid', 'test']]"
      ],
      "metadata": {
        "id": "aLQRpybxf1qL"
      },
      "execution_count": 8,
      "outputs": []
    },
    {
      "cell_type": "code",
      "source": [
        "train_iter, train_valid_iter = [torch.utils.data.DataLoader(\n",
        "    dataset, batch_size, shuffle=True, drop_last=True)\n",
        "    for dataset in (train_ds, train_valid_ds)]\n",
        "\n",
        "valid_iter = torch.utils.data.DataLoader(valid_ds, batch_size, shuffle=False,\n",
        "                                         drop_last=True)\n",
        "\n",
        "test_iter = torch.utils.data.DataLoader(test_ds, batch_size, shuffle=False,\n",
        "                                        drop_last=False)"
      ],
      "metadata": {
        "id": "r16MDmKEgw6p"
      },
      "execution_count": 11,
      "outputs": []
    },
    {
      "cell_type": "markdown",
      "source": [
        "### 14.14.4 Fine-Tuning a Pretrained Model"
      ],
      "metadata": {
        "id": "cvGwFcTcht1_"
      }
    },
    {
      "cell_type": "code",
      "source": [
        "def get_net(devices):\n",
        "  finetune_net = nn.Sequential()\n",
        "  finetune_net.features = torchvision.models.resnet34(pretrained=True)\n",
        "  finetune_net.output_new = nn.Sequential(nn.Linear(1000, 256),\n",
        "                                          nn.ReLU(),\n",
        "                                          nn.Linear(256, 120))\n",
        "  finetune_net = finetune_net.to(devices[0])\n",
        "  for param in finetune_net.features.parameters():\n",
        "    param.requires_grad = False\n",
        "  return finetune_net"
      ],
      "metadata": {
        "id": "VSg9s_gghzYC"
      },
      "execution_count": 12,
      "outputs": []
    },
    {
      "cell_type": "code",
      "source": [
        "loss = nn.CrossEntropyLoss(reduction='none')\n",
        "\n",
        "def evaluate_loss(data_iter, net, devices):\n",
        "  l_sum, n = 0.0, 0\n",
        "  for features, labels in data_iter:\n",
        "    features, labels = features.to(devices[0]), labels.to(devices[0])\n",
        "    outputs = net(features)\n",
        "    l = loss(outputs, labels)\n",
        "    l_sum += l.sum()\n",
        "    n += labels.numel()\n",
        "  return l_sum / n"
      ],
      "metadata": {
        "id": "Ii9_RqpYjLif"
      },
      "execution_count": 13,
      "outputs": []
    }
  ]
}