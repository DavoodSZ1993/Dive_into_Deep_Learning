{
  "nbformat": 4,
  "nbformat_minor": 0,
  "metadata": {
    "colab": {
      "provenance": [],
      "authorship_tag": "ABX9TyN43rUo7Zk2F+LX20uOkcWa",
      "include_colab_link": true
    },
    "kernelspec": {
      "name": "python3",
      "display_name": "Python 3"
    },
    "language_info": {
      "name": "python"
    }
  },
  "cells": [
    {
      "cell_type": "markdown",
      "metadata": {
        "id": "view-in-github",
        "colab_type": "text"
      },
      "source": [
        "<a href=\"https://colab.research.google.com/github/DavoodSZ1993/Dive_into_Deep_Learning/blob/main/14_4_anchor_boxes.ipynb\" target=\"_parent\"><img src=\"https://colab.research.google.com/assets/colab-badge.svg\" alt=\"Open In Colab\"/></a>"
      ]
    },
    {
      "cell_type": "code",
      "execution_count": 5,
      "metadata": {
        "id": "Rd8l1S34J7Za"
      },
      "outputs": [],
      "source": [
        "!pip install d2l==1.0.0-alpha1.post0 --quiet"
      ]
    },
    {
      "cell_type": "markdown",
      "source": [
        "## 14.4 Anchor Boxes"
      ],
      "metadata": {
        "id": "Ay0JNWyoKCYY"
      }
    },
    {
      "cell_type": "code",
      "source": [
        "%matplotlib inline\n",
        "import torch\n",
        "from d2l import torch as d2l\n",
        "\n",
        "torch.set_printoptions(2)"
      ],
      "metadata": {
        "id": "4Giu6-SZKFMW"
      },
      "execution_count": 6,
      "outputs": []
    },
    {
      "cell_type": "markdown",
      "source": [
        "### 14.4.1 Generating Multiple Anchor Boxes"
      ],
      "metadata": {
        "id": "JKGN_6G2Ko_x"
      }
    },
    {
      "cell_type": "code",
      "source": [
        "def multibox_prior(data, sizes, ratios):\n",
        "  in_height, in_width = data.shape[-2:]\n",
        "  device, num_sizes, num_ratios = data.device, len(sizes), len(ratios)\n",
        "  boxes_per_pixel = (num_sizes + num_ratios - 1)\n",
        "  size_tensor = torch.tensor(sizes, device=device)\n",
        "  ratio_tensor = torch.tensor(ratios, device=device)\n",
        "\n",
        "  offset_h, offset_w = 0.5, 0.5\n",
        "  steps_h = 1.0 / in_height\n",
        "  steps_w = 1.0 / in_width\n",
        "\n",
        "  center_h = (torch.arange(in_height, device=device) + offset_h) * steps_h\n",
        "  center_w = (torch.arange(in_width, device=device) + offset_w) * steps_w\n",
        "  shift_y, shift_x = torch.meshgrid(center_h, center_w, indexing='ij')\n",
        "  shift_y, shift_x = shift_y.reshape(-1), shift_x.reshape(-1)\n",
        "\n",
        "  w = torch.cat((size_tensor * torch.sqrt(ratio_tensor[0]),\n",
        "                 sizes[0] * torch.sqrt(ratio_tensor[1:])))\\\n",
        "                 * in_height / in_width\n",
        "  h = torch.cat((size_tensor / torch.sqrt(ratio_tensor[0]),\n",
        "                 sizes[0] / torch.sqrt(ratio_tensor[1:])))\n",
        "  anchor_manipulations = torch.stack((-w, -h, w, h)).T.repeat(\n",
        "                                     in_height * in_width, 1) / 2\n",
        "  \n",
        "  out_grid = torch.stack([shift_x, shift_y, shift_x, shift_y],\n",
        "                         dim=1).repeat_interleave(boxes_per_pixel, dim=0)\n",
        "  output = out_grid + anchor_manipulations\n",
        "  return output.unsqueeze(0)"
      ],
      "metadata": {
        "id": "RXc4fjiPQHuK"
      },
      "execution_count": 18,
      "outputs": []
    },
    {
      "cell_type": "code",
      "source": [
        "from PIL import Image\n",
        "import torchvision.transforms as T\n",
        "\n",
        "\n",
        "img = Image.open('catdog.jpg')\n",
        "aug = T.Compose([T.Resize((561, 728)),\n",
        "                 T.ToTensor()])\n",
        "img = aug(img)\n",
        "h, w = img.shape[1:]"
      ],
      "metadata": {
        "id": "UvqfMQnOXGvA"
      },
      "execution_count": 19,
      "outputs": []
    },
    {
      "cell_type": "code",
      "source": [
        "print(h, w)\n",
        "X = torch.rand(size=(1, 3, h, w)) # COnstruct input data\n",
        "Y = multibox_prior(X, sizes=[0.75, 0.5, 0.25], ratios=[1, 2, 0.5])\n",
        "Y.shape"
      ],
      "metadata": {
        "colab": {
          "base_uri": "https://localhost:8080/"
        },
        "id": "2HascExkYBxU",
        "outputId": "663b0bd7-cac9-4625-a3aa-f04bc952cbb1"
      },
      "execution_count": 20,
      "outputs": [
        {
          "output_type": "stream",
          "name": "stdout",
          "text": [
            "561 728\n"
          ]
        },
        {
          "output_type": "execute_result",
          "data": {
            "text/plain": [
              "torch.Size([1, 2042040, 4])"
            ]
          },
          "metadata": {},
          "execution_count": 20
        }
      ]
    },
    {
      "cell_type": "code",
      "source": [
        "boxes = Y.reshape(h, w, 5, 4)\n",
        "boxes[250, 250, 0, :]"
      ],
      "metadata": {
        "colab": {
          "base_uri": "https://localhost:8080/"
        },
        "id": "1pK-NKv1awdz",
        "outputId": "1f6ec985-d5fc-494c-d1ee-e7e674a0aeb3"
      },
      "execution_count": 21,
      "outputs": [
        {
          "output_type": "execute_result",
          "data": {
            "text/plain": [
              "tensor([0.06, 0.07, 0.63, 0.82])"
            ]
          },
          "metadata": {},
          "execution_count": 21
        }
      ]
    },
    {
      "cell_type": "code",
      "source": [
        "def show_bboxes(axes, bboxes, labels=None, colors=None):\n",
        "\n",
        "  def make_list(obj, default_values=None):\n",
        "    if obj is None:\n",
        "      obj = default_values\n",
        "    elif not isinstance(obj, (list, tuple)):\n",
        "      obj = [obj]\n",
        "    return obj\n",
        "\n",
        "  labels = make_list(labels)\n",
        "  colors = make_list(colors, ['b', 'g', 'r', 'm', 'c'])\n",
        "  for i, bbox in enumerate(bboxes):\n",
        "    color = colors[i % len(colors)]\n",
        "    rect = d2l.bbox_to_rect(bbox.detach().numpy(), color)\n",
        "    axes.add_patch(rect)\n",
        "    if labels and len(labels) > i:\n",
        "      text_color = 'k' if color == 'w' else 'w'\n",
        "      axes.text(rect.xy[0], rect.xy[1], labels[i],\n",
        "                va='center', ha='center', fontsize=9, color=text_color,\n",
        "                bbox=dict(facecolor=color, lw=0))\n",
        "\n"
      ],
      "metadata": {
        "id": "EV8vwXJkbCii"
      },
      "execution_count": 22,
      "outputs": []
    }
  ]
}