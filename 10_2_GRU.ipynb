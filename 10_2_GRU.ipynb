{
  "nbformat": 4,
  "nbformat_minor": 0,
  "metadata": {
    "colab": {
      "provenance": [],
      "authorship_tag": "ABX9TyNKSqfZtr2Yi9IXZ/go81Ak",
      "include_colab_link": true
    },
    "kernelspec": {
      "name": "python3",
      "display_name": "Python 3"
    },
    "language_info": {
      "name": "python"
    },
    "accelerator": "GPU",
    "gpuClass": "standard"
  },
  "cells": [
    {
      "cell_type": "markdown",
      "metadata": {
        "id": "view-in-github",
        "colab_type": "text"
      },
      "source": [
        "<a href=\"https://colab.research.google.com/github/DavoodSZ1993/Dive_into_Deep_Learning/blob/main/10_2_GRU.ipynb\" target=\"_parent\"><img src=\"https://colab.research.google.com/assets/colab-badge.svg\" alt=\"Open In Colab\"/></a>"
      ]
    },
    {
      "cell_type": "code",
      "execution_count": 1,
      "metadata": {
        "colab": {
          "base_uri": "https://localhost:8080/"
        },
        "id": "SOTOw52-uyGG",
        "outputId": "d536c19e-f49a-4d53-8a93-69863794bce4"
      },
      "outputs": [
        {
          "output_type": "stream",
          "name": "stdout",
          "text": [
            "\u001b[2K     \u001b[90m━━━━━━━━━━━━━━━━━━━━━━━━━━━━━━━━━━━━━━━━\u001b[0m \u001b[32m93.0/93.0 KB\u001b[0m \u001b[31m1.4 MB/s\u001b[0m eta \u001b[36m0:00:00\u001b[0m\n",
            "\u001b[2K     \u001b[90m━━━━━━━━━━━━━━━━━━━━━━━━━━━━━━━━━━━━━━━\u001b[0m \u001b[32m121.0/121.0 KB\u001b[0m \u001b[31m8.1 MB/s\u001b[0m eta \u001b[36m0:00:00\u001b[0m\n",
            "\u001b[2K     \u001b[90m━━━━━━━━━━━━━━━━━━━━━━━━━━━━━━━━━━━━━━━━\u001b[0m \u001b[32m83.6/83.6 KB\u001b[0m \u001b[31m4.3 MB/s\u001b[0m eta \u001b[36m0:00:00\u001b[0m\n",
            "\u001b[2K     \u001b[90m━━━━━━━━━━━━━━━━━━━━━━━━━━━━━━━━━━━━━━━━\u001b[0m \u001b[32m1.6/1.6 MB\u001b[0m \u001b[31m51.0 MB/s\u001b[0m eta \u001b[36m0:00:00\u001b[0m\n",
            "\u001b[?25h"
          ]
        }
      ],
      "source": [
        "!pip install d2l==1.0.0-alpha1.post0 --quiet"
      ]
    },
    {
      "cell_type": "markdown",
      "source": [
        "## 10.2 Gated Recurrent Units (GRU)"
      ],
      "metadata": {
        "id": "E8CvfOGnvA-H"
      }
    },
    {
      "cell_type": "markdown",
      "source": [
        "### 10.2.4 Implementation from Scratch"
      ],
      "metadata": {
        "id": "JGcMgLFEvi-0"
      }
    },
    {
      "cell_type": "code",
      "source": [
        "import torch\n",
        "from torch import nn\n",
        "from d2l import torch as d2l"
      ],
      "metadata": {
        "id": "rQKqAwU2vRjN"
      },
      "execution_count": 2,
      "outputs": []
    },
    {
      "cell_type": "markdown",
      "source": [
        "#### Initializing Model Parameters"
      ],
      "metadata": {
        "id": "bKDxnSgFvuTu"
      }
    },
    {
      "cell_type": "code",
      "source": [
        "class GRUScratch(d2l.Module):\n",
        "  def __init__(self, num_inputs, num_hiddens, sigma=0.01):\n",
        "    super().__init__()\n",
        "    self.save_hyperparameters()\n",
        "\n",
        "    init_weight = lambda *shape: nn.Parameter(torch.randn(*shape) * sigma)\n",
        "    triple = lambda: (init_weight(num_inputs, num_hiddens),\n",
        "                      init_weight(num_hiddens, num_hiddens),\n",
        "                      nn.Parameter(torch.zeros(num_hiddens)))\n",
        "    self.W_xz, self.W_hz, self.b_z = triple() # Update gate\n",
        "    self.W_xr, self.W_hr, self.b_r = triple() # Reset gate\n",
        "    self.W_xh, self.W_hh, self.b_h = triple() # Candidate hidden state"
      ],
      "metadata": {
        "id": "LxC6L2A3vzV4"
      },
      "execution_count": 3,
      "outputs": []
    },
    {
      "cell_type": "markdown",
      "source": [
        "#### Defining the Model"
      ],
      "metadata": {
        "id": "-IfpFA-Pw6uY"
      }
    },
    {
      "cell_type": "code",
      "source": [
        "@d2l.add_to_class(GRUScratch)\n",
        "def forward(self, inputs, H=None):\n",
        "  if H is None:\n",
        "    # Initial state with shape: (batch_size, num_hiddens)\n",
        "    H = torch.zeros((inputs.shape[1], self.num_hiddens), device=inputs.device)\n",
        "\n",
        "  outputs = []\n",
        "  for X in inputs: \n",
        "    Z = torch.sigmoid(torch.matmul(X, self.W_xz) +\n",
        "                      torch.matmul(H, self.W_hz) + self.b_z)\n",
        "    R = torch.sigmoid(torch.matmul(X, self.W_xr) +\n",
        "                  torch.matmul(H, self.W_hr) + self.b_r)\n",
        "    H_tilde = torch.sigmoid(torch.matmul(X, self.W_xh) +\n",
        "                  torch.matmul(R * H, self.W_hh) + self.b_h)\n",
        "    H = Z * H + (1 - Z) * H_tilde\n",
        "    outputs.append(H)\n",
        "  return outputs, H"
      ],
      "metadata": {
        "id": "Lc4vEe0dw9Q9"
      },
      "execution_count": 4,
      "outputs": []
    },
    {
      "cell_type": "markdown",
      "source": [
        "#### Training"
      ],
      "metadata": {
        "id": "5kktD2OqyR5d"
      }
    },
    {
      "cell_type": "code",
      "source": [],
      "metadata": {
        "id": "Nwz2lidbyUCt"
      },
      "execution_count": null,
      "outputs": []
    }
  ]
}