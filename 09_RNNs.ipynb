{
  "nbformat": 4,
  "nbformat_minor": 0,
  "metadata": {
    "colab": {
      "provenance": [],
      "authorship_tag": "ABX9TyMjbzCtYyN3f0xnzaim+0aR",
      "include_colab_link": true
    },
    "kernelspec": {
      "name": "python3",
      "display_name": "Python 3"
    },
    "language_info": {
      "name": "python"
    }
  },
  "cells": [
    {
      "cell_type": "markdown",
      "metadata": {
        "id": "view-in-github",
        "colab_type": "text"
      },
      "source": [
        "<a href=\"https://colab.research.google.com/github/DavoodSZ1993/Dive_into_Deep_Learning/blob/main/09_RNNs.ipynb\" target=\"_parent\"><img src=\"https://colab.research.google.com/assets/colab-badge.svg\" alt=\"Open In Colab\"/></a>"
      ]
    },
    {
      "cell_type": "code",
      "execution_count": null,
      "metadata": {
        "id": "UNY5J2rAE6Uv"
      },
      "outputs": [],
      "source": [
        "!pip install d2l==1.0.0-alpha1.post0 --quiet"
      ]
    },
    {
      "cell_type": "markdown",
      "source": [
        "## 9.1 Working with Sequences"
      ],
      "metadata": {
        "id": "xkjFgTsDFTUj"
      }
    },
    {
      "cell_type": "markdown",
      "source": [
        "### 9.1.3 Training"
      ],
      "metadata": {
        "id": "FluZl0H8FZ-i"
      }
    },
    {
      "cell_type": "code",
      "source": [],
      "metadata": {
        "id": "ApfjfO6XFc_9"
      },
      "execution_count": null,
      "outputs": []
    }
  ]
}