{
  "nbformat": 4,
  "nbformat_minor": 0,
  "metadata": {
    "colab": {
      "provenance": [],
      "authorship_tag": "ABX9TyMLkRA6J4MM7jQgGfdbDf+c",
      "include_colab_link": true
    },
    "kernelspec": {
      "name": "python3",
      "display_name": "Python 3"
    },
    "language_info": {
      "name": "python"
    }
  },
  "cells": [
    {
      "cell_type": "markdown",
      "metadata": {
        "id": "view-in-github",
        "colab_type": "text"
      },
      "source": [
        "<a href=\"https://colab.research.google.com/github/DavoodSZ1993/Dive_into_Deep_Learning/blob/main/11_1_exercises.ipynb\" target=\"_parent\"><img src=\"https://colab.research.google.com/assets/colab-badge.svg\" alt=\"Open In Colab\"/></a>"
      ]
    },
    {
      "cell_type": "code",
      "execution_count": null,
      "metadata": {
        "id": "3lEUYGna-jQ-"
      },
      "outputs": [],
      "source": [
        "!pip install d2l==1.0.0-alpha1.post0 --quiet"
      ]
    },
    {
      "cell_type": "markdown",
      "source": [
        "### 11.1.3 Exercises"
      ],
      "metadata": {
        "id": "_ZXGcCrG-tUy"
      }
    },
    {
      "cell_type": "markdown",
      "source": [
        "**Question 1**: Suppose that you wanted to reimplement approximate (key, query matches) as used in classical datasets, which attention function would you pick?\n",
        "\n",
        "**Answer**: I would certainly choose a probability distribution (e.g., normal distribution) as a candidate for my attention function. As a result, the attention function would have the highest coefficient in exact matches and becomes smaller and smaller as the query moves away from the exact key."
      ],
      "metadata": {
        "id": "9VNWo_J_-w6B"
      }
    },
    {
      "cell_type": "markdown",
      "source": [
        "**Question 2**: Suppose that the attention function is given by $α(q,k_i) = q^Tk_i$ and that $k_i=v_i$ for $i = 1, ..., m$. Denote by $p(k_i;q)$ the probability distribution over keys when using the softmax normalization in eq_softmax_attention. Prove that $∇_q Attention(q, 𝒟) = Cov_{p(k_i;q)}[k_i]$."
      ],
      "metadata": {
        "id": "HOmj-bgHAavE"
      }
    }
  ]
}
