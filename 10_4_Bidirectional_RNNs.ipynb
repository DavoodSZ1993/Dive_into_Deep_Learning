{
  "nbformat": 4,
  "nbformat_minor": 0,
  "metadata": {
    "colab": {
      "provenance": [],
      "authorship_tag": "ABX9TyPl0pfOE/bOaN+rpniOxc+D",
      "include_colab_link": true
    },
    "kernelspec": {
      "name": "python3",
      "display_name": "Python 3"
    },
    "language_info": {
      "name": "python"
    }
  },
  "cells": [
    {
      "cell_type": "markdown",
      "metadata": {
        "id": "view-in-github",
        "colab_type": "text"
      },
      "source": [
        "<a href=\"https://colab.research.google.com/github/DavoodSZ1993/Dive_into_Deep_Learning/blob/main/10_4_Bidirectional_RNNs.ipynb\" target=\"_parent\"><img src=\"https://colab.research.google.com/assets/colab-badge.svg\" alt=\"Open In Colab\"/></a>"
      ]
    },
    {
      "cell_type": "code",
      "execution_count": 2,
      "metadata": {
        "colab": {
          "base_uri": "https://localhost:8080/"
        },
        "id": "RJxpDe4KYlb7",
        "outputId": "bb919725-e624-46a6-afbd-efd75ac02054"
      },
      "outputs": [
        {
          "output_type": "stream",
          "name": "stdout",
          "text": [
            "\u001b[2K     \u001b[90m━━━━━━━━━━━━━━━━━━━━━━━━━━━━━━━━━━━━━━━━\u001b[0m \u001b[32m93.0/93.0 KB\u001b[0m \u001b[31m6.9 MB/s\u001b[0m eta \u001b[36m0:00:00\u001b[0m\n",
            "\u001b[2K     \u001b[90m━━━━━━━━━━━━━━━━━━━━━━━━━━━━━━━━━━━━━━\u001b[0m \u001b[32m121.0/121.0 KB\u001b[0m \u001b[31m14.5 MB/s\u001b[0m eta \u001b[36m0:00:00\u001b[0m\n",
            "\u001b[2K     \u001b[90m━━━━━━━━━━━━━━━━━━━━━━━━━━━━━━━━━━━━━━━━\u001b[0m \u001b[32m83.6/83.6 KB\u001b[0m \u001b[31m4.7 MB/s\u001b[0m eta \u001b[36m0:00:00\u001b[0m\n",
            "\u001b[2K     \u001b[90m━━━━━━━━━━━━━━━━━━━━━━━━━━━━━━━━━━━━━━━━\u001b[0m \u001b[32m1.6/1.6 MB\u001b[0m \u001b[31m68.5 MB/s\u001b[0m eta \u001b[36m0:00:00\u001b[0m\n",
            "\u001b[?25h"
          ]
        }
      ],
      "source": [
        "!pip install d2l==1.0.0-alpha1.post0 --quiet"
      ]
    },
    {
      "cell_type": "markdown",
      "source": [
        "## 10.4 Bidirectional Recurrent neural Networks"
      ],
      "metadata": {
        "id": "RtGV4xiwY-i3"
      }
    },
    {
      "cell_type": "code",
      "source": [
        "import torch\n",
        "from torch import nn\n",
        "from d2l import torch as d2l"
      ],
      "metadata": {
        "colab": {
          "base_uri": "https://localhost:8080/"
        },
        "id": "UimpbUTdZDxm",
        "outputId": "1319f8cd-75c4-4dcf-b726-4e017769c672"
      },
      "execution_count": 3,
      "outputs": [
        {
          "output_type": "stream",
          "name": "stderr",
          "text": [
            "/usr/local/lib/python3.8/dist-packages/torch/cuda/__init__.py:497: UserWarning: Can't initialize NVML\n",
            "  warnings.warn(\"Can't initialize NVML\")\n"
          ]
        }
      ]
    },
    {
      "cell_type": "markdown",
      "source": [
        "### 10.4.1 Implementation from Scratch"
      ],
      "metadata": {
        "id": "xh9IKIR0Zh87"
      }
    },
    {
      "cell_type": "code",
      "source": [
        "class BiRNNScratch(d2l.Module):\n",
        "  def __init__(self, num_inputs, num_hiddens, sigma=0.01):\n",
        "    super().__init__()\n",
        "    self.save_hyperparameters()\n",
        "\n",
        "    self.f_rnn = d2l.RNNScratch(num_inputs, num_hiddens, sigma)\n",
        "    self.b_rnn = d2l.RNNScratch(num_inputs, num_hiddens, sigma)\n",
        "    self.num_hiddens *=2"
      ],
      "metadata": {
        "id": "AcXunpNNZl_u"
      },
      "execution_count": 4,
      "outputs": []
    },
    {
      "cell_type": "code",
      "source": [
        "@d2l.add_to_class(BiRNNScratch)\n",
        "def forward(self, inputs, Hs=None):\n",
        "  f_H, b_H = Hs if Hs is not None else (None, None)\n",
        "\n",
        "  f_outputs, f_H = self.f_rnn(inputs, f_H)\n",
        "  b_outputs, b_H = self.b_rnn(reversed(inputs), b_H)\n",
        "  outputs = [torch.cat((f, b), -1) for f, b in zip(f_outputs, reversed(b_outputs))]\n",
        "\n",
        "  return outputs, (f_H, b_H)"
      ],
      "metadata": {
        "id": "g7c3gvXeaH8x"
      },
      "execution_count": 5,
      "outputs": []
    },
    {
      "cell_type": "markdown",
      "source": [
        "### 10.4.2 Concise Implementation"
      ],
      "metadata": {
        "id": "24FK284la_Rn"
      }
    },
    {
      "cell_type": "code",
      "source": [
        "class BiGRU(d2l.RNN):\n",
        "  def __init__(self, num_inputs, num_hiddens):\n",
        "    d2l.Module.__init__(self)\n",
        "    self.save_hyperparameters()\n",
        "\n",
        "    self.rnn = nn.GRU(num_inputs, num_hiddens, bidirectional=True)\n",
        "    self.num_hiddens = self.num_hiddens * 2"
      ],
      "metadata": {
        "id": "Q1ZrrxWkbEUG"
      },
      "execution_count": 6,
      "outputs": []
    }
  ]
}