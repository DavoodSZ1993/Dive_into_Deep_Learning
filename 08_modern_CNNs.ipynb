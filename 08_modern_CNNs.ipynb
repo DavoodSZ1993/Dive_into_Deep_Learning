{
  "nbformat": 4,
  "nbformat_minor": 0,
  "metadata": {
    "colab": {
      "provenance": [],
      "authorship_tag": "ABX9TyOyf/MZOrDH0Z72TiV1bpZq",
      "include_colab_link": true
    },
    "kernelspec": {
      "name": "python3",
      "display_name": "Python 3"
    },
    "language_info": {
      "name": "python"
    }
  },
  "cells": [
    {
      "cell_type": "markdown",
      "metadata": {
        "id": "view-in-github",
        "colab_type": "text"
      },
      "source": [
        "<a href=\"https://colab.research.google.com/github/DavoodSZ1993/Dive_into_Deep_Learning/blob/main/08_modern_CNNs.ipynb\" target=\"_parent\"><img src=\"https://colab.research.google.com/assets/colab-badge.svg\" alt=\"Open In Colab\"/></a>"
      ]
    },
    {
      "cell_type": "markdown",
      "source": [
        "## 8.1 Deep Convolutional Neural Networks (AlexNet)"
      ],
      "metadata": {
        "id": "QE9ZWRVtEp3J"
      }
    },
    {
      "cell_type": "markdown",
      "source": [
        "### 8.1.2 AlexNet"
      ],
      "metadata": {
        "id": "1y87DLV1EySX"
      }
    },
    {
      "cell_type": "code",
      "execution_count": null,
      "metadata": {
        "id": "VdnWNI9tEVC7"
      },
      "outputs": [],
      "source": []
    }
  ]
}