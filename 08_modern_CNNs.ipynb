{
  "nbformat": 4,
  "nbformat_minor": 0,
  "metadata": {
    "colab": {
      "provenance": [],
      "authorship_tag": "ABX9TyOdo6NDBzKyXOiLbBgY1IB0",
      "include_colab_link": true
    },
    "kernelspec": {
      "name": "python3",
      "display_name": "Python 3"
    },
    "language_info": {
      "name": "python"
    },
    "accelerator": "GPU",
    "gpuClass": "standard",
    "widgets": {
      "application/vnd.jupyter.widget-state+json": {
        "449e37d70bd845249656b83014b3c75f": {
          "model_module": "@jupyter-widgets/controls",
          "model_name": "HBoxModel",
          "model_module_version": "1.5.0",
          "state": {
            "_dom_classes": [],
            "_model_module": "@jupyter-widgets/controls",
            "_model_module_version": "1.5.0",
            "_model_name": "HBoxModel",
            "_view_count": null,
            "_view_module": "@jupyter-widgets/controls",
            "_view_module_version": "1.5.0",
            "_view_name": "HBoxView",
            "box_style": "",
            "children": [
              "IPY_MODEL_a85e99d332b04bf9ba42824a95925b8b",
              "IPY_MODEL_bc2f9f23ab454ce0915d85b6be82d737",
              "IPY_MODEL_3469fded03a2459786a3c951cea1d133"
            ],
            "layout": "IPY_MODEL_c9d97d32d3ea4013a0025348fac7a5ad"
          }
        },
        "a85e99d332b04bf9ba42824a95925b8b": {
          "model_module": "@jupyter-widgets/controls",
          "model_name": "HTMLModel",
          "model_module_version": "1.5.0",
          "state": {
            "_dom_classes": [],
            "_model_module": "@jupyter-widgets/controls",
            "_model_module_version": "1.5.0",
            "_model_name": "HTMLModel",
            "_view_count": null,
            "_view_module": "@jupyter-widgets/controls",
            "_view_module_version": "1.5.0",
            "_view_name": "HTMLView",
            "description": "",
            "description_tooltip": null,
            "layout": "IPY_MODEL_339daf0fe3d4480ba45774570117e396",
            "placeholder": "​",
            "style": "IPY_MODEL_574a5b3b07c04db49b033b67f87e6907",
            "value": "100%"
          }
        },
        "bc2f9f23ab454ce0915d85b6be82d737": {
          "model_module": "@jupyter-widgets/controls",
          "model_name": "FloatProgressModel",
          "model_module_version": "1.5.0",
          "state": {
            "_dom_classes": [],
            "_model_module": "@jupyter-widgets/controls",
            "_model_module_version": "1.5.0",
            "_model_name": "FloatProgressModel",
            "_view_count": null,
            "_view_module": "@jupyter-widgets/controls",
            "_view_module_version": "1.5.0",
            "_view_name": "ProgressView",
            "bar_style": "success",
            "description": "",
            "description_tooltip": null,
            "layout": "IPY_MODEL_d2fae395a525424eb41dabe46b39298f",
            "max": 26421880,
            "min": 0,
            "orientation": "horizontal",
            "style": "IPY_MODEL_67a3b644dd944234864f0682a12d4b5a",
            "value": 26421880
          }
        },
        "3469fded03a2459786a3c951cea1d133": {
          "model_module": "@jupyter-widgets/controls",
          "model_name": "HTMLModel",
          "model_module_version": "1.5.0",
          "state": {
            "_dom_classes": [],
            "_model_module": "@jupyter-widgets/controls",
            "_model_module_version": "1.5.0",
            "_model_name": "HTMLModel",
            "_view_count": null,
            "_view_module": "@jupyter-widgets/controls",
            "_view_module_version": "1.5.0",
            "_view_name": "HTMLView",
            "description": "",
            "description_tooltip": null,
            "layout": "IPY_MODEL_0539a685941c45f38f6c4bd014fa2869",
            "placeholder": "​",
            "style": "IPY_MODEL_2dd03e84f09b4ec4b4d8029eb6e9685b",
            "value": " 26421880/26421880 [00:01&lt;00:00, 30813247.41it/s]"
          }
        },
        "c9d97d32d3ea4013a0025348fac7a5ad": {
          "model_module": "@jupyter-widgets/base",
          "model_name": "LayoutModel",
          "model_module_version": "1.2.0",
          "state": {
            "_model_module": "@jupyter-widgets/base",
            "_model_module_version": "1.2.0",
            "_model_name": "LayoutModel",
            "_view_count": null,
            "_view_module": "@jupyter-widgets/base",
            "_view_module_version": "1.2.0",
            "_view_name": "LayoutView",
            "align_content": null,
            "align_items": null,
            "align_self": null,
            "border": null,
            "bottom": null,
            "display": null,
            "flex": null,
            "flex_flow": null,
            "grid_area": null,
            "grid_auto_columns": null,
            "grid_auto_flow": null,
            "grid_auto_rows": null,
            "grid_column": null,
            "grid_gap": null,
            "grid_row": null,
            "grid_template_areas": null,
            "grid_template_columns": null,
            "grid_template_rows": null,
            "height": null,
            "justify_content": null,
            "justify_items": null,
            "left": null,
            "margin": null,
            "max_height": null,
            "max_width": null,
            "min_height": null,
            "min_width": null,
            "object_fit": null,
            "object_position": null,
            "order": null,
            "overflow": null,
            "overflow_x": null,
            "overflow_y": null,
            "padding": null,
            "right": null,
            "top": null,
            "visibility": null,
            "width": null
          }
        },
        "339daf0fe3d4480ba45774570117e396": {
          "model_module": "@jupyter-widgets/base",
          "model_name": "LayoutModel",
          "model_module_version": "1.2.0",
          "state": {
            "_model_module": "@jupyter-widgets/base",
            "_model_module_version": "1.2.0",
            "_model_name": "LayoutModel",
            "_view_count": null,
            "_view_module": "@jupyter-widgets/base",
            "_view_module_version": "1.2.0",
            "_view_name": "LayoutView",
            "align_content": null,
            "align_items": null,
            "align_self": null,
            "border": null,
            "bottom": null,
            "display": null,
            "flex": null,
            "flex_flow": null,
            "grid_area": null,
            "grid_auto_columns": null,
            "grid_auto_flow": null,
            "grid_auto_rows": null,
            "grid_column": null,
            "grid_gap": null,
            "grid_row": null,
            "grid_template_areas": null,
            "grid_template_columns": null,
            "grid_template_rows": null,
            "height": null,
            "justify_content": null,
            "justify_items": null,
            "left": null,
            "margin": null,
            "max_height": null,
            "max_width": null,
            "min_height": null,
            "min_width": null,
            "object_fit": null,
            "object_position": null,
            "order": null,
            "overflow": null,
            "overflow_x": null,
            "overflow_y": null,
            "padding": null,
            "right": null,
            "top": null,
            "visibility": null,
            "width": null
          }
        },
        "574a5b3b07c04db49b033b67f87e6907": {
          "model_module": "@jupyter-widgets/controls",
          "model_name": "DescriptionStyleModel",
          "model_module_version": "1.5.0",
          "state": {
            "_model_module": "@jupyter-widgets/controls",
            "_model_module_version": "1.5.0",
            "_model_name": "DescriptionStyleModel",
            "_view_count": null,
            "_view_module": "@jupyter-widgets/base",
            "_view_module_version": "1.2.0",
            "_view_name": "StyleView",
            "description_width": ""
          }
        },
        "d2fae395a525424eb41dabe46b39298f": {
          "model_module": "@jupyter-widgets/base",
          "model_name": "LayoutModel",
          "model_module_version": "1.2.0",
          "state": {
            "_model_module": "@jupyter-widgets/base",
            "_model_module_version": "1.2.0",
            "_model_name": "LayoutModel",
            "_view_count": null,
            "_view_module": "@jupyter-widgets/base",
            "_view_module_version": "1.2.0",
            "_view_name": "LayoutView",
            "align_content": null,
            "align_items": null,
            "align_self": null,
            "border": null,
            "bottom": null,
            "display": null,
            "flex": null,
            "flex_flow": null,
            "grid_area": null,
            "grid_auto_columns": null,
            "grid_auto_flow": null,
            "grid_auto_rows": null,
            "grid_column": null,
            "grid_gap": null,
            "grid_row": null,
            "grid_template_areas": null,
            "grid_template_columns": null,
            "grid_template_rows": null,
            "height": null,
            "justify_content": null,
            "justify_items": null,
            "left": null,
            "margin": null,
            "max_height": null,
            "max_width": null,
            "min_height": null,
            "min_width": null,
            "object_fit": null,
            "object_position": null,
            "order": null,
            "overflow": null,
            "overflow_x": null,
            "overflow_y": null,
            "padding": null,
            "right": null,
            "top": null,
            "visibility": null,
            "width": null
          }
        },
        "67a3b644dd944234864f0682a12d4b5a": {
          "model_module": "@jupyter-widgets/controls",
          "model_name": "ProgressStyleModel",
          "model_module_version": "1.5.0",
          "state": {
            "_model_module": "@jupyter-widgets/controls",
            "_model_module_version": "1.5.0",
            "_model_name": "ProgressStyleModel",
            "_view_count": null,
            "_view_module": "@jupyter-widgets/base",
            "_view_module_version": "1.2.0",
            "_view_name": "StyleView",
            "bar_color": null,
            "description_width": ""
          }
        },
        "0539a685941c45f38f6c4bd014fa2869": {
          "model_module": "@jupyter-widgets/base",
          "model_name": "LayoutModel",
          "model_module_version": "1.2.0",
          "state": {
            "_model_module": "@jupyter-widgets/base",
            "_model_module_version": "1.2.0",
            "_model_name": "LayoutModel",
            "_view_count": null,
            "_view_module": "@jupyter-widgets/base",
            "_view_module_version": "1.2.0",
            "_view_name": "LayoutView",
            "align_content": null,
            "align_items": null,
            "align_self": null,
            "border": null,
            "bottom": null,
            "display": null,
            "flex": null,
            "flex_flow": null,
            "grid_area": null,
            "grid_auto_columns": null,
            "grid_auto_flow": null,
            "grid_auto_rows": null,
            "grid_column": null,
            "grid_gap": null,
            "grid_row": null,
            "grid_template_areas": null,
            "grid_template_columns": null,
            "grid_template_rows": null,
            "height": null,
            "justify_content": null,
            "justify_items": null,
            "left": null,
            "margin": null,
            "max_height": null,
            "max_width": null,
            "min_height": null,
            "min_width": null,
            "object_fit": null,
            "object_position": null,
            "order": null,
            "overflow": null,
            "overflow_x": null,
            "overflow_y": null,
            "padding": null,
            "right": null,
            "top": null,
            "visibility": null,
            "width": null
          }
        },
        "2dd03e84f09b4ec4b4d8029eb6e9685b": {
          "model_module": "@jupyter-widgets/controls",
          "model_name": "DescriptionStyleModel",
          "model_module_version": "1.5.0",
          "state": {
            "_model_module": "@jupyter-widgets/controls",
            "_model_module_version": "1.5.0",
            "_model_name": "DescriptionStyleModel",
            "_view_count": null,
            "_view_module": "@jupyter-widgets/base",
            "_view_module_version": "1.2.0",
            "_view_name": "StyleView",
            "description_width": ""
          }
        },
        "000f3883a548404f8ade488acedeea4d": {
          "model_module": "@jupyter-widgets/controls",
          "model_name": "HBoxModel",
          "model_module_version": "1.5.0",
          "state": {
            "_dom_classes": [],
            "_model_module": "@jupyter-widgets/controls",
            "_model_module_version": "1.5.0",
            "_model_name": "HBoxModel",
            "_view_count": null,
            "_view_module": "@jupyter-widgets/controls",
            "_view_module_version": "1.5.0",
            "_view_name": "HBoxView",
            "box_style": "",
            "children": [
              "IPY_MODEL_1d77e807a5824cacaae45902f741d09a",
              "IPY_MODEL_f37c1e022da04a11b625390c047c211e",
              "IPY_MODEL_72a9953d465447a9ae3aff06dde3f41a"
            ],
            "layout": "IPY_MODEL_0505d60f391c48118bc2a87d4332e2eb"
          }
        },
        "1d77e807a5824cacaae45902f741d09a": {
          "model_module": "@jupyter-widgets/controls",
          "model_name": "HTMLModel",
          "model_module_version": "1.5.0",
          "state": {
            "_dom_classes": [],
            "_model_module": "@jupyter-widgets/controls",
            "_model_module_version": "1.5.0",
            "_model_name": "HTMLModel",
            "_view_count": null,
            "_view_module": "@jupyter-widgets/controls",
            "_view_module_version": "1.5.0",
            "_view_name": "HTMLView",
            "description": "",
            "description_tooltip": null,
            "layout": "IPY_MODEL_60cb9c1596ff4c7bba7f2ec642d1332e",
            "placeholder": "​",
            "style": "IPY_MODEL_89f1e313e39e448f81c530eaf1c85fb4",
            "value": "100%"
          }
        },
        "f37c1e022da04a11b625390c047c211e": {
          "model_module": "@jupyter-widgets/controls",
          "model_name": "FloatProgressModel",
          "model_module_version": "1.5.0",
          "state": {
            "_dom_classes": [],
            "_model_module": "@jupyter-widgets/controls",
            "_model_module_version": "1.5.0",
            "_model_name": "FloatProgressModel",
            "_view_count": null,
            "_view_module": "@jupyter-widgets/controls",
            "_view_module_version": "1.5.0",
            "_view_name": "ProgressView",
            "bar_style": "success",
            "description": "",
            "description_tooltip": null,
            "layout": "IPY_MODEL_355c3a99892d4247841edaa3f0a3d764",
            "max": 29515,
            "min": 0,
            "orientation": "horizontal",
            "style": "IPY_MODEL_bfac0474664f4d2ba7adb70de303a5ef",
            "value": 29515
          }
        },
        "72a9953d465447a9ae3aff06dde3f41a": {
          "model_module": "@jupyter-widgets/controls",
          "model_name": "HTMLModel",
          "model_module_version": "1.5.0",
          "state": {
            "_dom_classes": [],
            "_model_module": "@jupyter-widgets/controls",
            "_model_module_version": "1.5.0",
            "_model_name": "HTMLModel",
            "_view_count": null,
            "_view_module": "@jupyter-widgets/controls",
            "_view_module_version": "1.5.0",
            "_view_name": "HTMLView",
            "description": "",
            "description_tooltip": null,
            "layout": "IPY_MODEL_0f40a1a2391a40a388582169515408f9",
            "placeholder": "​",
            "style": "IPY_MODEL_f8dfd0b582dc44eea2e19c302b6f4ee9",
            "value": " 29515/29515 [00:00&lt;00:00, 335324.82it/s]"
          }
        },
        "0505d60f391c48118bc2a87d4332e2eb": {
          "model_module": "@jupyter-widgets/base",
          "model_name": "LayoutModel",
          "model_module_version": "1.2.0",
          "state": {
            "_model_module": "@jupyter-widgets/base",
            "_model_module_version": "1.2.0",
            "_model_name": "LayoutModel",
            "_view_count": null,
            "_view_module": "@jupyter-widgets/base",
            "_view_module_version": "1.2.0",
            "_view_name": "LayoutView",
            "align_content": null,
            "align_items": null,
            "align_self": null,
            "border": null,
            "bottom": null,
            "display": null,
            "flex": null,
            "flex_flow": null,
            "grid_area": null,
            "grid_auto_columns": null,
            "grid_auto_flow": null,
            "grid_auto_rows": null,
            "grid_column": null,
            "grid_gap": null,
            "grid_row": null,
            "grid_template_areas": null,
            "grid_template_columns": null,
            "grid_template_rows": null,
            "height": null,
            "justify_content": null,
            "justify_items": null,
            "left": null,
            "margin": null,
            "max_height": null,
            "max_width": null,
            "min_height": null,
            "min_width": null,
            "object_fit": null,
            "object_position": null,
            "order": null,
            "overflow": null,
            "overflow_x": null,
            "overflow_y": null,
            "padding": null,
            "right": null,
            "top": null,
            "visibility": null,
            "width": null
          }
        },
        "60cb9c1596ff4c7bba7f2ec642d1332e": {
          "model_module": "@jupyter-widgets/base",
          "model_name": "LayoutModel",
          "model_module_version": "1.2.0",
          "state": {
            "_model_module": "@jupyter-widgets/base",
            "_model_module_version": "1.2.0",
            "_model_name": "LayoutModel",
            "_view_count": null,
            "_view_module": "@jupyter-widgets/base",
            "_view_module_version": "1.2.0",
            "_view_name": "LayoutView",
            "align_content": null,
            "align_items": null,
            "align_self": null,
            "border": null,
            "bottom": null,
            "display": null,
            "flex": null,
            "flex_flow": null,
            "grid_area": null,
            "grid_auto_columns": null,
            "grid_auto_flow": null,
            "grid_auto_rows": null,
            "grid_column": null,
            "grid_gap": null,
            "grid_row": null,
            "grid_template_areas": null,
            "grid_template_columns": null,
            "grid_template_rows": null,
            "height": null,
            "justify_content": null,
            "justify_items": null,
            "left": null,
            "margin": null,
            "max_height": null,
            "max_width": null,
            "min_height": null,
            "min_width": null,
            "object_fit": null,
            "object_position": null,
            "order": null,
            "overflow": null,
            "overflow_x": null,
            "overflow_y": null,
            "padding": null,
            "right": null,
            "top": null,
            "visibility": null,
            "width": null
          }
        },
        "89f1e313e39e448f81c530eaf1c85fb4": {
          "model_module": "@jupyter-widgets/controls",
          "model_name": "DescriptionStyleModel",
          "model_module_version": "1.5.0",
          "state": {
            "_model_module": "@jupyter-widgets/controls",
            "_model_module_version": "1.5.0",
            "_model_name": "DescriptionStyleModel",
            "_view_count": null,
            "_view_module": "@jupyter-widgets/base",
            "_view_module_version": "1.2.0",
            "_view_name": "StyleView",
            "description_width": ""
          }
        },
        "355c3a99892d4247841edaa3f0a3d764": {
          "model_module": "@jupyter-widgets/base",
          "model_name": "LayoutModel",
          "model_module_version": "1.2.0",
          "state": {
            "_model_module": "@jupyter-widgets/base",
            "_model_module_version": "1.2.0",
            "_model_name": "LayoutModel",
            "_view_count": null,
            "_view_module": "@jupyter-widgets/base",
            "_view_module_version": "1.2.0",
            "_view_name": "LayoutView",
            "align_content": null,
            "align_items": null,
            "align_self": null,
            "border": null,
            "bottom": null,
            "display": null,
            "flex": null,
            "flex_flow": null,
            "grid_area": null,
            "grid_auto_columns": null,
            "grid_auto_flow": null,
            "grid_auto_rows": null,
            "grid_column": null,
            "grid_gap": null,
            "grid_row": null,
            "grid_template_areas": null,
            "grid_template_columns": null,
            "grid_template_rows": null,
            "height": null,
            "justify_content": null,
            "justify_items": null,
            "left": null,
            "margin": null,
            "max_height": null,
            "max_width": null,
            "min_height": null,
            "min_width": null,
            "object_fit": null,
            "object_position": null,
            "order": null,
            "overflow": null,
            "overflow_x": null,
            "overflow_y": null,
            "padding": null,
            "right": null,
            "top": null,
            "visibility": null,
            "width": null
          }
        },
        "bfac0474664f4d2ba7adb70de303a5ef": {
          "model_module": "@jupyter-widgets/controls",
          "model_name": "ProgressStyleModel",
          "model_module_version": "1.5.0",
          "state": {
            "_model_module": "@jupyter-widgets/controls",
            "_model_module_version": "1.5.0",
            "_model_name": "ProgressStyleModel",
            "_view_count": null,
            "_view_module": "@jupyter-widgets/base",
            "_view_module_version": "1.2.0",
            "_view_name": "StyleView",
            "bar_color": null,
            "description_width": ""
          }
        },
        "0f40a1a2391a40a388582169515408f9": {
          "model_module": "@jupyter-widgets/base",
          "model_name": "LayoutModel",
          "model_module_version": "1.2.0",
          "state": {
            "_model_module": "@jupyter-widgets/base",
            "_model_module_version": "1.2.0",
            "_model_name": "LayoutModel",
            "_view_count": null,
            "_view_module": "@jupyter-widgets/base",
            "_view_module_version": "1.2.0",
            "_view_name": "LayoutView",
            "align_content": null,
            "align_items": null,
            "align_self": null,
            "border": null,
            "bottom": null,
            "display": null,
            "flex": null,
            "flex_flow": null,
            "grid_area": null,
            "grid_auto_columns": null,
            "grid_auto_flow": null,
            "grid_auto_rows": null,
            "grid_column": null,
            "grid_gap": null,
            "grid_row": null,
            "grid_template_areas": null,
            "grid_template_columns": null,
            "grid_template_rows": null,
            "height": null,
            "justify_content": null,
            "justify_items": null,
            "left": null,
            "margin": null,
            "max_height": null,
            "max_width": null,
            "min_height": null,
            "min_width": null,
            "object_fit": null,
            "object_position": null,
            "order": null,
            "overflow": null,
            "overflow_x": null,
            "overflow_y": null,
            "padding": null,
            "right": null,
            "top": null,
            "visibility": null,
            "width": null
          }
        },
        "f8dfd0b582dc44eea2e19c302b6f4ee9": {
          "model_module": "@jupyter-widgets/controls",
          "model_name": "DescriptionStyleModel",
          "model_module_version": "1.5.0",
          "state": {
            "_model_module": "@jupyter-widgets/controls",
            "_model_module_version": "1.5.0",
            "_model_name": "DescriptionStyleModel",
            "_view_count": null,
            "_view_module": "@jupyter-widgets/base",
            "_view_module_version": "1.2.0",
            "_view_name": "StyleView",
            "description_width": ""
          }
        },
        "6fe7e15488f443298551c0556d3941b9": {
          "model_module": "@jupyter-widgets/controls",
          "model_name": "HBoxModel",
          "model_module_version": "1.5.0",
          "state": {
            "_dom_classes": [],
            "_model_module": "@jupyter-widgets/controls",
            "_model_module_version": "1.5.0",
            "_model_name": "HBoxModel",
            "_view_count": null,
            "_view_module": "@jupyter-widgets/controls",
            "_view_module_version": "1.5.0",
            "_view_name": "HBoxView",
            "box_style": "",
            "children": [
              "IPY_MODEL_de24cdbb868b43268c3026239f7ab167",
              "IPY_MODEL_3d681481935847308ae80172c223ee54",
              "IPY_MODEL_29079286c7644e51b4c7c1610c201f73"
            ],
            "layout": "IPY_MODEL_1a2b5776782549e685b70b9cce60351d"
          }
        },
        "de24cdbb868b43268c3026239f7ab167": {
          "model_module": "@jupyter-widgets/controls",
          "model_name": "HTMLModel",
          "model_module_version": "1.5.0",
          "state": {
            "_dom_classes": [],
            "_model_module": "@jupyter-widgets/controls",
            "_model_module_version": "1.5.0",
            "_model_name": "HTMLModel",
            "_view_count": null,
            "_view_module": "@jupyter-widgets/controls",
            "_view_module_version": "1.5.0",
            "_view_name": "HTMLView",
            "description": "",
            "description_tooltip": null,
            "layout": "IPY_MODEL_5799ae26f26b4800a9fe1874248e2ce3",
            "placeholder": "​",
            "style": "IPY_MODEL_c371f110a8f0466ab3ee9e67cacd9a2a",
            "value": "100%"
          }
        },
        "3d681481935847308ae80172c223ee54": {
          "model_module": "@jupyter-widgets/controls",
          "model_name": "FloatProgressModel",
          "model_module_version": "1.5.0",
          "state": {
            "_dom_classes": [],
            "_model_module": "@jupyter-widgets/controls",
            "_model_module_version": "1.5.0",
            "_model_name": "FloatProgressModel",
            "_view_count": null,
            "_view_module": "@jupyter-widgets/controls",
            "_view_module_version": "1.5.0",
            "_view_name": "ProgressView",
            "bar_style": "success",
            "description": "",
            "description_tooltip": null,
            "layout": "IPY_MODEL_74cdfdddaac3443da8db96a67b37eac4",
            "max": 4422102,
            "min": 0,
            "orientation": "horizontal",
            "style": "IPY_MODEL_f6e489711ec94794bc8abd38672e0137",
            "value": 4422102
          }
        },
        "29079286c7644e51b4c7c1610c201f73": {
          "model_module": "@jupyter-widgets/controls",
          "model_name": "HTMLModel",
          "model_module_version": "1.5.0",
          "state": {
            "_dom_classes": [],
            "_model_module": "@jupyter-widgets/controls",
            "_model_module_version": "1.5.0",
            "_model_name": "HTMLModel",
            "_view_count": null,
            "_view_module": "@jupyter-widgets/controls",
            "_view_module_version": "1.5.0",
            "_view_name": "HTMLView",
            "description": "",
            "description_tooltip": null,
            "layout": "IPY_MODEL_6d59ec51a966446c978372afc0abad9f",
            "placeholder": "​",
            "style": "IPY_MODEL_c1b4b7bf02f2443ab9fd4941f4c1d5b7",
            "value": " 4422102/4422102 [00:00&lt;00:00, 4261856.01it/s]"
          }
        },
        "1a2b5776782549e685b70b9cce60351d": {
          "model_module": "@jupyter-widgets/base",
          "model_name": "LayoutModel",
          "model_module_version": "1.2.0",
          "state": {
            "_model_module": "@jupyter-widgets/base",
            "_model_module_version": "1.2.0",
            "_model_name": "LayoutModel",
            "_view_count": null,
            "_view_module": "@jupyter-widgets/base",
            "_view_module_version": "1.2.0",
            "_view_name": "LayoutView",
            "align_content": null,
            "align_items": null,
            "align_self": null,
            "border": null,
            "bottom": null,
            "display": null,
            "flex": null,
            "flex_flow": null,
            "grid_area": null,
            "grid_auto_columns": null,
            "grid_auto_flow": null,
            "grid_auto_rows": null,
            "grid_column": null,
            "grid_gap": null,
            "grid_row": null,
            "grid_template_areas": null,
            "grid_template_columns": null,
            "grid_template_rows": null,
            "height": null,
            "justify_content": null,
            "justify_items": null,
            "left": null,
            "margin": null,
            "max_height": null,
            "max_width": null,
            "min_height": null,
            "min_width": null,
            "object_fit": null,
            "object_position": null,
            "order": null,
            "overflow": null,
            "overflow_x": null,
            "overflow_y": null,
            "padding": null,
            "right": null,
            "top": null,
            "visibility": null,
            "width": null
          }
        },
        "5799ae26f26b4800a9fe1874248e2ce3": {
          "model_module": "@jupyter-widgets/base",
          "model_name": "LayoutModel",
          "model_module_version": "1.2.0",
          "state": {
            "_model_module": "@jupyter-widgets/base",
            "_model_module_version": "1.2.0",
            "_model_name": "LayoutModel",
            "_view_count": null,
            "_view_module": "@jupyter-widgets/base",
            "_view_module_version": "1.2.0",
            "_view_name": "LayoutView",
            "align_content": null,
            "align_items": null,
            "align_self": null,
            "border": null,
            "bottom": null,
            "display": null,
            "flex": null,
            "flex_flow": null,
            "grid_area": null,
            "grid_auto_columns": null,
            "grid_auto_flow": null,
            "grid_auto_rows": null,
            "grid_column": null,
            "grid_gap": null,
            "grid_row": null,
            "grid_template_areas": null,
            "grid_template_columns": null,
            "grid_template_rows": null,
            "height": null,
            "justify_content": null,
            "justify_items": null,
            "left": null,
            "margin": null,
            "max_height": null,
            "max_width": null,
            "min_height": null,
            "min_width": null,
            "object_fit": null,
            "object_position": null,
            "order": null,
            "overflow": null,
            "overflow_x": null,
            "overflow_y": null,
            "padding": null,
            "right": null,
            "top": null,
            "visibility": null,
            "width": null
          }
        },
        "c371f110a8f0466ab3ee9e67cacd9a2a": {
          "model_module": "@jupyter-widgets/controls",
          "model_name": "DescriptionStyleModel",
          "model_module_version": "1.5.0",
          "state": {
            "_model_module": "@jupyter-widgets/controls",
            "_model_module_version": "1.5.0",
            "_model_name": "DescriptionStyleModel",
            "_view_count": null,
            "_view_module": "@jupyter-widgets/base",
            "_view_module_version": "1.2.0",
            "_view_name": "StyleView",
            "description_width": ""
          }
        },
        "74cdfdddaac3443da8db96a67b37eac4": {
          "model_module": "@jupyter-widgets/base",
          "model_name": "LayoutModel",
          "model_module_version": "1.2.0",
          "state": {
            "_model_module": "@jupyter-widgets/base",
            "_model_module_version": "1.2.0",
            "_model_name": "LayoutModel",
            "_view_count": null,
            "_view_module": "@jupyter-widgets/base",
            "_view_module_version": "1.2.0",
            "_view_name": "LayoutView",
            "align_content": null,
            "align_items": null,
            "align_self": null,
            "border": null,
            "bottom": null,
            "display": null,
            "flex": null,
            "flex_flow": null,
            "grid_area": null,
            "grid_auto_columns": null,
            "grid_auto_flow": null,
            "grid_auto_rows": null,
            "grid_column": null,
            "grid_gap": null,
            "grid_row": null,
            "grid_template_areas": null,
            "grid_template_columns": null,
            "grid_template_rows": null,
            "height": null,
            "justify_content": null,
            "justify_items": null,
            "left": null,
            "margin": null,
            "max_height": null,
            "max_width": null,
            "min_height": null,
            "min_width": null,
            "object_fit": null,
            "object_position": null,
            "order": null,
            "overflow": null,
            "overflow_x": null,
            "overflow_y": null,
            "padding": null,
            "right": null,
            "top": null,
            "visibility": null,
            "width": null
          }
        },
        "f6e489711ec94794bc8abd38672e0137": {
          "model_module": "@jupyter-widgets/controls",
          "model_name": "ProgressStyleModel",
          "model_module_version": "1.5.0",
          "state": {
            "_model_module": "@jupyter-widgets/controls",
            "_model_module_version": "1.5.0",
            "_model_name": "ProgressStyleModel",
            "_view_count": null,
            "_view_module": "@jupyter-widgets/base",
            "_view_module_version": "1.2.0",
            "_view_name": "StyleView",
            "bar_color": null,
            "description_width": ""
          }
        },
        "6d59ec51a966446c978372afc0abad9f": {
          "model_module": "@jupyter-widgets/base",
          "model_name": "LayoutModel",
          "model_module_version": "1.2.0",
          "state": {
            "_model_module": "@jupyter-widgets/base",
            "_model_module_version": "1.2.0",
            "_model_name": "LayoutModel",
            "_view_count": null,
            "_view_module": "@jupyter-widgets/base",
            "_view_module_version": "1.2.0",
            "_view_name": "LayoutView",
            "align_content": null,
            "align_items": null,
            "align_self": null,
            "border": null,
            "bottom": null,
            "display": null,
            "flex": null,
            "flex_flow": null,
            "grid_area": null,
            "grid_auto_columns": null,
            "grid_auto_flow": null,
            "grid_auto_rows": null,
            "grid_column": null,
            "grid_gap": null,
            "grid_row": null,
            "grid_template_areas": null,
            "grid_template_columns": null,
            "grid_template_rows": null,
            "height": null,
            "justify_content": null,
            "justify_items": null,
            "left": null,
            "margin": null,
            "max_height": null,
            "max_width": null,
            "min_height": null,
            "min_width": null,
            "object_fit": null,
            "object_position": null,
            "order": null,
            "overflow": null,
            "overflow_x": null,
            "overflow_y": null,
            "padding": null,
            "right": null,
            "top": null,
            "visibility": null,
            "width": null
          }
        },
        "c1b4b7bf02f2443ab9fd4941f4c1d5b7": {
          "model_module": "@jupyter-widgets/controls",
          "model_name": "DescriptionStyleModel",
          "model_module_version": "1.5.0",
          "state": {
            "_model_module": "@jupyter-widgets/controls",
            "_model_module_version": "1.5.0",
            "_model_name": "DescriptionStyleModel",
            "_view_count": null,
            "_view_module": "@jupyter-widgets/base",
            "_view_module_version": "1.2.0",
            "_view_name": "StyleView",
            "description_width": ""
          }
        },
        "75bc9626fa484f678fd119c53420e492": {
          "model_module": "@jupyter-widgets/controls",
          "model_name": "HBoxModel",
          "model_module_version": "1.5.0",
          "state": {
            "_dom_classes": [],
            "_model_module": "@jupyter-widgets/controls",
            "_model_module_version": "1.5.0",
            "_model_name": "HBoxModel",
            "_view_count": null,
            "_view_module": "@jupyter-widgets/controls",
            "_view_module_version": "1.5.0",
            "_view_name": "HBoxView",
            "box_style": "",
            "children": [
              "IPY_MODEL_ee95fd536f094cb4abb8ffe3919bfc60",
              "IPY_MODEL_4506bc7d68094be2933f875c1fdbe54e",
              "IPY_MODEL_df06634327b4457d9ccd2331dad08537"
            ],
            "layout": "IPY_MODEL_2582c68e9f57453a8a9f6e98c7e1b4d4"
          }
        },
        "ee95fd536f094cb4abb8ffe3919bfc60": {
          "model_module": "@jupyter-widgets/controls",
          "model_name": "HTMLModel",
          "model_module_version": "1.5.0",
          "state": {
            "_dom_classes": [],
            "_model_module": "@jupyter-widgets/controls",
            "_model_module_version": "1.5.0",
            "_model_name": "HTMLModel",
            "_view_count": null,
            "_view_module": "@jupyter-widgets/controls",
            "_view_module_version": "1.5.0",
            "_view_name": "HTMLView",
            "description": "",
            "description_tooltip": null,
            "layout": "IPY_MODEL_d00897724a3d4132a3411be41ad08caf",
            "placeholder": "​",
            "style": "IPY_MODEL_338b507aa68c432092e6f9ad84e49eb9",
            "value": "100%"
          }
        },
        "4506bc7d68094be2933f875c1fdbe54e": {
          "model_module": "@jupyter-widgets/controls",
          "model_name": "FloatProgressModel",
          "model_module_version": "1.5.0",
          "state": {
            "_dom_classes": [],
            "_model_module": "@jupyter-widgets/controls",
            "_model_module_version": "1.5.0",
            "_model_name": "FloatProgressModel",
            "_view_count": null,
            "_view_module": "@jupyter-widgets/controls",
            "_view_module_version": "1.5.0",
            "_view_name": "ProgressView",
            "bar_style": "success",
            "description": "",
            "description_tooltip": null,
            "layout": "IPY_MODEL_fc1ec32dbe534772b02d657498469add",
            "max": 5148,
            "min": 0,
            "orientation": "horizontal",
            "style": "IPY_MODEL_d549ade5e8704f80a2de32541eca3a34",
            "value": 5148
          }
        },
        "df06634327b4457d9ccd2331dad08537": {
          "model_module": "@jupyter-widgets/controls",
          "model_name": "HTMLModel",
          "model_module_version": "1.5.0",
          "state": {
            "_dom_classes": [],
            "_model_module": "@jupyter-widgets/controls",
            "_model_module_version": "1.5.0",
            "_model_name": "HTMLModel",
            "_view_count": null,
            "_view_module": "@jupyter-widgets/controls",
            "_view_module_version": "1.5.0",
            "_view_name": "HTMLView",
            "description": "",
            "description_tooltip": null,
            "layout": "IPY_MODEL_f9f66ed934b2418ea0854e4e68acfeaf",
            "placeholder": "​",
            "style": "IPY_MODEL_abddc5ff9f54437f8b86191e15bcf49b",
            "value": " 5148/5148 [00:00&lt;00:00, 250627.11it/s]"
          }
        },
        "2582c68e9f57453a8a9f6e98c7e1b4d4": {
          "model_module": "@jupyter-widgets/base",
          "model_name": "LayoutModel",
          "model_module_version": "1.2.0",
          "state": {
            "_model_module": "@jupyter-widgets/base",
            "_model_module_version": "1.2.0",
            "_model_name": "LayoutModel",
            "_view_count": null,
            "_view_module": "@jupyter-widgets/base",
            "_view_module_version": "1.2.0",
            "_view_name": "LayoutView",
            "align_content": null,
            "align_items": null,
            "align_self": null,
            "border": null,
            "bottom": null,
            "display": null,
            "flex": null,
            "flex_flow": null,
            "grid_area": null,
            "grid_auto_columns": null,
            "grid_auto_flow": null,
            "grid_auto_rows": null,
            "grid_column": null,
            "grid_gap": null,
            "grid_row": null,
            "grid_template_areas": null,
            "grid_template_columns": null,
            "grid_template_rows": null,
            "height": null,
            "justify_content": null,
            "justify_items": null,
            "left": null,
            "margin": null,
            "max_height": null,
            "max_width": null,
            "min_height": null,
            "min_width": null,
            "object_fit": null,
            "object_position": null,
            "order": null,
            "overflow": null,
            "overflow_x": null,
            "overflow_y": null,
            "padding": null,
            "right": null,
            "top": null,
            "visibility": null,
            "width": null
          }
        },
        "d00897724a3d4132a3411be41ad08caf": {
          "model_module": "@jupyter-widgets/base",
          "model_name": "LayoutModel",
          "model_module_version": "1.2.0",
          "state": {
            "_model_module": "@jupyter-widgets/base",
            "_model_module_version": "1.2.0",
            "_model_name": "LayoutModel",
            "_view_count": null,
            "_view_module": "@jupyter-widgets/base",
            "_view_module_version": "1.2.0",
            "_view_name": "LayoutView",
            "align_content": null,
            "align_items": null,
            "align_self": null,
            "border": null,
            "bottom": null,
            "display": null,
            "flex": null,
            "flex_flow": null,
            "grid_area": null,
            "grid_auto_columns": null,
            "grid_auto_flow": null,
            "grid_auto_rows": null,
            "grid_column": null,
            "grid_gap": null,
            "grid_row": null,
            "grid_template_areas": null,
            "grid_template_columns": null,
            "grid_template_rows": null,
            "height": null,
            "justify_content": null,
            "justify_items": null,
            "left": null,
            "margin": null,
            "max_height": null,
            "max_width": null,
            "min_height": null,
            "min_width": null,
            "object_fit": null,
            "object_position": null,
            "order": null,
            "overflow": null,
            "overflow_x": null,
            "overflow_y": null,
            "padding": null,
            "right": null,
            "top": null,
            "visibility": null,
            "width": null
          }
        },
        "338b507aa68c432092e6f9ad84e49eb9": {
          "model_module": "@jupyter-widgets/controls",
          "model_name": "DescriptionStyleModel",
          "model_module_version": "1.5.0",
          "state": {
            "_model_module": "@jupyter-widgets/controls",
            "_model_module_version": "1.5.0",
            "_model_name": "DescriptionStyleModel",
            "_view_count": null,
            "_view_module": "@jupyter-widgets/base",
            "_view_module_version": "1.2.0",
            "_view_name": "StyleView",
            "description_width": ""
          }
        },
        "fc1ec32dbe534772b02d657498469add": {
          "model_module": "@jupyter-widgets/base",
          "model_name": "LayoutModel",
          "model_module_version": "1.2.0",
          "state": {
            "_model_module": "@jupyter-widgets/base",
            "_model_module_version": "1.2.0",
            "_model_name": "LayoutModel",
            "_view_count": null,
            "_view_module": "@jupyter-widgets/base",
            "_view_module_version": "1.2.0",
            "_view_name": "LayoutView",
            "align_content": null,
            "align_items": null,
            "align_self": null,
            "border": null,
            "bottom": null,
            "display": null,
            "flex": null,
            "flex_flow": null,
            "grid_area": null,
            "grid_auto_columns": null,
            "grid_auto_flow": null,
            "grid_auto_rows": null,
            "grid_column": null,
            "grid_gap": null,
            "grid_row": null,
            "grid_template_areas": null,
            "grid_template_columns": null,
            "grid_template_rows": null,
            "height": null,
            "justify_content": null,
            "justify_items": null,
            "left": null,
            "margin": null,
            "max_height": null,
            "max_width": null,
            "min_height": null,
            "min_width": null,
            "object_fit": null,
            "object_position": null,
            "order": null,
            "overflow": null,
            "overflow_x": null,
            "overflow_y": null,
            "padding": null,
            "right": null,
            "top": null,
            "visibility": null,
            "width": null
          }
        },
        "d549ade5e8704f80a2de32541eca3a34": {
          "model_module": "@jupyter-widgets/controls",
          "model_name": "ProgressStyleModel",
          "model_module_version": "1.5.0",
          "state": {
            "_model_module": "@jupyter-widgets/controls",
            "_model_module_version": "1.5.0",
            "_model_name": "ProgressStyleModel",
            "_view_count": null,
            "_view_module": "@jupyter-widgets/base",
            "_view_module_version": "1.2.0",
            "_view_name": "StyleView",
            "bar_color": null,
            "description_width": ""
          }
        },
        "f9f66ed934b2418ea0854e4e68acfeaf": {
          "model_module": "@jupyter-widgets/base",
          "model_name": "LayoutModel",
          "model_module_version": "1.2.0",
          "state": {
            "_model_module": "@jupyter-widgets/base",
            "_model_module_version": "1.2.0",
            "_model_name": "LayoutModel",
            "_view_count": null,
            "_view_module": "@jupyter-widgets/base",
            "_view_module_version": "1.2.0",
            "_view_name": "LayoutView",
            "align_content": null,
            "align_items": null,
            "align_self": null,
            "border": null,
            "bottom": null,
            "display": null,
            "flex": null,
            "flex_flow": null,
            "grid_area": null,
            "grid_auto_columns": null,
            "grid_auto_flow": null,
            "grid_auto_rows": null,
            "grid_column": null,
            "grid_gap": null,
            "grid_row": null,
            "grid_template_areas": null,
            "grid_template_columns": null,
            "grid_template_rows": null,
            "height": null,
            "justify_content": null,
            "justify_items": null,
            "left": null,
            "margin": null,
            "max_height": null,
            "max_width": null,
            "min_height": null,
            "min_width": null,
            "object_fit": null,
            "object_position": null,
            "order": null,
            "overflow": null,
            "overflow_x": null,
            "overflow_y": null,
            "padding": null,
            "right": null,
            "top": null,
            "visibility": null,
            "width": null
          }
        },
        "abddc5ff9f54437f8b86191e15bcf49b": {
          "model_module": "@jupyter-widgets/controls",
          "model_name": "DescriptionStyleModel",
          "model_module_version": "1.5.0",
          "state": {
            "_model_module": "@jupyter-widgets/controls",
            "_model_module_version": "1.5.0",
            "_model_name": "DescriptionStyleModel",
            "_view_count": null,
            "_view_module": "@jupyter-widgets/base",
            "_view_module_version": "1.2.0",
            "_view_name": "StyleView",
            "description_width": ""
          }
        }
      }
    }
  },
  "cells": [
    {
      "cell_type": "markdown",
      "metadata": {
        "id": "view-in-github",
        "colab_type": "text"
      },
      "source": [
        "<a href=\"https://colab.research.google.com/github/DavoodSZ1993/Dive_into_Deep_Learning/blob/main/08_modern_CNNs.ipynb\" target=\"_parent\"><img src=\"https://colab.research.google.com/assets/colab-badge.svg\" alt=\"Open In Colab\"/></a>"
      ]
    },
    {
      "cell_type": "markdown",
      "source": [
        "## 8.1 Deep Convolutional Neural Networks (AlexNet)"
      ],
      "metadata": {
        "id": "QE9ZWRVtEp3J"
      }
    },
    {
      "cell_type": "markdown",
      "source": [
        "### 8.1.2 AlexNet"
      ],
      "metadata": {
        "id": "1y87DLV1EySX"
      }
    },
    {
      "cell_type": "code",
      "execution_count": 1,
      "metadata": {
        "colab": {
          "base_uri": "https://localhost:8080/"
        },
        "id": "VdnWNI9tEVC7",
        "outputId": "ae17d4e9-7fed-4320-fadc-53b59af03641"
      },
      "outputs": [
        {
          "output_type": "stream",
          "name": "stdout",
          "text": [
            "\u001b[2K     \u001b[90m━━━━━━━━━━━━━━━━━━━━━━━━━━━━━━━━━━━━━━━━\u001b[0m \u001b[32m93.0/93.0 KB\u001b[0m \u001b[31m5.0 MB/s\u001b[0m eta \u001b[36m0:00:00\u001b[0m\n",
            "\u001b[2K     \u001b[90m━━━━━━━━━━━━━━━━━━━━━━━━━━━━━━━━━━━━━━━\u001b[0m \u001b[32m121.0/121.0 KB\u001b[0m \u001b[31m6.9 MB/s\u001b[0m eta \u001b[36m0:00:00\u001b[0m\n",
            "\u001b[2K     \u001b[90m━━━━━━━━━━━━━━━━━━━━━━━━━━━━━━━━━━━━━━━━\u001b[0m \u001b[32m83.6/83.6 KB\u001b[0m \u001b[31m5.5 MB/s\u001b[0m eta \u001b[36m0:00:00\u001b[0m\n",
            "\u001b[2K     \u001b[90m━━━━━━━━━━━━━━━━━━━━━━━━━━━━━━━━━━━━━━━━\u001b[0m \u001b[32m1.6/1.6 MB\u001b[0m \u001b[31m52.9 MB/s\u001b[0m eta \u001b[36m0:00:00\u001b[0m\n",
            "\u001b[?25h"
          ]
        }
      ],
      "source": [
        "!pip install d2l==1.0.0-alpha1.post0 --quiet"
      ]
    },
    {
      "cell_type": "code",
      "source": [
        "import torch\n",
        "from torch import nn\n",
        "from d2l import torch as d2l"
      ],
      "metadata": {
        "id": "cjBleWIAFWS2"
      },
      "execution_count": null,
      "outputs": []
    },
    {
      "cell_type": "code",
      "source": [
        "class AlexNet(d2l.Classifier):\n",
        "  def __init__(self, lr=0.1, num_classes=10):\n",
        "    super().__init__()\n",
        "    self.save_hyperparameters()\n",
        "\n",
        "    self.net = nn.Sequential(\n",
        "        nn.LazyConv2d(96, kernel_size=11, stride=4, padding=1),\n",
        "        nn.ReLU(), nn.MaxPool2d(kernel_size=3, stride=2),\n",
        "        nn.LazyConv2d(256, kernel_size=5, padding=2), nn.ReLU(),\n",
        "        nn.MaxPool2d(kernel_size=3, stride=2),\n",
        "        nn.LazyConv2d(384, kernel_size=3, padding=1), nn.ReLU(),\n",
        "        nn.LazyConv2d(384, kernel_size=3, padding=1), nn.ReLU(),\n",
        "        nn.LazyConv2d(256, kernel_size=3, padding=1), nn.ReLU(),\n",
        "        nn.MaxPool2d(kernel_size=3, stride=2), nn.Flatten(),\n",
        "        nn.LazyLinear(4096), nn.ReLU(), nn.Dropout(p=0.5),\n",
        "        nn.LazyLinear(4096), nn.ReLU(), nn.Dropout(p=0.5),\n",
        "        nn.LazyLinear(num_classes))\n",
        "    self.net.apply(d2l.init_cnn)"
      ],
      "metadata": {
        "id": "Du_cI-ReFfyO"
      },
      "execution_count": null,
      "outputs": []
    },
    {
      "cell_type": "code",
      "source": [
        "AlexNet().layer_summary((1, 1, 224, 224))"
      ],
      "metadata": {
        "colab": {
          "base_uri": "https://localhost:8080/"
        },
        "id": "0z5vKUYqHSh2",
        "outputId": "1034fe22-5427-48d4-b8ce-9094c0bd1c93"
      },
      "execution_count": null,
      "outputs": [
        {
          "output_type": "stream",
          "name": "stdout",
          "text": [
            "Conv2d output shape:\t torch.Size([1, 96, 54, 54])\n",
            "ReLU output shape:\t torch.Size([1, 96, 54, 54])\n",
            "MaxPool2d output shape:\t torch.Size([1, 96, 26, 26])\n",
            "Conv2d output shape:\t torch.Size([1, 256, 26, 26])\n",
            "ReLU output shape:\t torch.Size([1, 256, 26, 26])\n",
            "MaxPool2d output shape:\t torch.Size([1, 256, 12, 12])\n",
            "Conv2d output shape:\t torch.Size([1, 384, 12, 12])\n",
            "ReLU output shape:\t torch.Size([1, 384, 12, 12])\n",
            "Conv2d output shape:\t torch.Size([1, 384, 12, 12])\n",
            "ReLU output shape:\t torch.Size([1, 384, 12, 12])\n",
            "Conv2d output shape:\t torch.Size([1, 256, 12, 12])\n",
            "ReLU output shape:\t torch.Size([1, 256, 12, 12])\n",
            "MaxPool2d output shape:\t torch.Size([1, 256, 5, 5])\n",
            "Flatten output shape:\t torch.Size([1, 6400])\n",
            "Linear output shape:\t torch.Size([1, 4096])\n",
            "ReLU output shape:\t torch.Size([1, 4096])\n",
            "Dropout output shape:\t torch.Size([1, 4096])\n",
            "Linear output shape:\t torch.Size([1, 4096])\n",
            "ReLU output shape:\t torch.Size([1, 4096])\n",
            "Dropout output shape:\t torch.Size([1, 4096])\n",
            "Linear output shape:\t torch.Size([1, 10])\n"
          ]
        }
      ]
    },
    {
      "cell_type": "markdown",
      "source": [
        "### 8.1.3 Training"
      ],
      "metadata": {
        "id": "hadAkPozH-mt"
      }
    },
    {
      "cell_type": "code",
      "source": [
        "model = AlexNet(lr=0.01)\n",
        "data = d2l.FashionMNIST(batch_size=128, resize=(224, 224))\n",
        "trainer = d2l.Trainer(max_epochs=10, num_gpus=1)\n",
        "trainer.fit(model, data)"
      ],
      "metadata": {
        "colab": {
          "base_uri": "https://localhost:8080/",
          "height": 262
        },
        "id": "1h04YyXtIBCG",
        "outputId": "2d1d1389-42b8-423c-b364-ac6758a3f83e"
      },
      "execution_count": null,
      "outputs": [
        {
          "output_type": "display_data",
          "data": {
            "text/plain": [
              "<Figure size 252x180 with 1 Axes>"
            ],
            "image/svg+xml": "<?xml version=\"1.0\" encoding=\"utf-8\" standalone=\"no\"?>\n<!DOCTYPE svg PUBLIC \"-//W3C//DTD SVG 1.1//EN\"\n  \"http://www.w3.org/Graphics/SVG/1.1/DTD/svg11.dtd\">\n<!-- Created with matplotlib (https://matplotlib.org/) -->\n<svg height=\"180.65625pt\" version=\"1.1\" viewBox=\"0 0 238.965625 180.65625\" width=\"238.965625pt\" xmlns=\"http://www.w3.org/2000/svg\" xmlns:xlink=\"http://www.w3.org/1999/xlink\">\n <defs>\n  <style type=\"text/css\">\n*{stroke-linecap:butt;stroke-linejoin:round;}\n  </style>\n </defs>\n <g id=\"figure_1\">\n  <g id=\"patch_1\">\n   <path d=\"M 0 180.65625 \nL 238.965625 180.65625 \nL 238.965625 0 \nL 0 0 \nz\n\" style=\"fill:none;\"/>\n  </g>\n  <g id=\"axes_1\">\n   <g id=\"patch_2\">\n    <path d=\"M 30.103125 143.1 \nL 225.403125 143.1 \nL 225.403125 7.2 \nL 30.103125 7.2 \nz\n\" style=\"fill:#ffffff;\"/>\n   </g>\n   <g id=\"matplotlib.axis_1\">\n    <g id=\"xtick_1\">\n     <g id=\"line2d_1\">\n      <defs>\n       <path d=\"M 0 0 \nL 0 3.5 \n\" id=\"m340290eb97\" style=\"stroke:#000000;stroke-width:0.8;\"/>\n      </defs>\n      <g>\n       <use style=\"stroke:#000000;stroke-width:0.8;\" x=\"30.103125\" xlink:href=\"#m340290eb97\" y=\"143.1\"/>\n      </g>\n     </g>\n     <g id=\"text_1\">\n      <!-- 0 -->\n      <defs>\n       <path d=\"M 31.78125 66.40625 \nQ 24.171875 66.40625 20.328125 58.90625 \nQ 16.5 51.421875 16.5 36.375 \nQ 16.5 21.390625 20.328125 13.890625 \nQ 24.171875 6.390625 31.78125 6.390625 \nQ 39.453125 6.390625 43.28125 13.890625 \nQ 47.125 21.390625 47.125 36.375 \nQ 47.125 51.421875 43.28125 58.90625 \nQ 39.453125 66.40625 31.78125 66.40625 \nz\nM 31.78125 74.21875 \nQ 44.046875 74.21875 50.515625 64.515625 \nQ 56.984375 54.828125 56.984375 36.375 \nQ 56.984375 17.96875 50.515625 8.265625 \nQ 44.046875 -1.421875 31.78125 -1.421875 \nQ 19.53125 -1.421875 13.0625 8.265625 \nQ 6.59375 17.96875 6.59375 36.375 \nQ 6.59375 54.828125 13.0625 64.515625 \nQ 19.53125 74.21875 31.78125 74.21875 \nz\n\" id=\"DejaVuSans-48\"/>\n      </defs>\n      <g transform=\"translate(26.921875 157.698438)scale(0.1 -0.1)\">\n       <use xlink:href=\"#DejaVuSans-48\"/>\n      </g>\n     </g>\n    </g>\n    <g id=\"xtick_2\">\n     <g id=\"line2d_2\">\n      <g>\n       <use style=\"stroke:#000000;stroke-width:0.8;\" x=\"69.163125\" xlink:href=\"#m340290eb97\" y=\"143.1\"/>\n      </g>\n     </g>\n     <g id=\"text_2\">\n      <!-- 2 -->\n      <defs>\n       <path d=\"M 19.1875 8.296875 \nL 53.609375 8.296875 \nL 53.609375 0 \nL 7.328125 0 \nL 7.328125 8.296875 \nQ 12.9375 14.109375 22.625 23.890625 \nQ 32.328125 33.6875 34.8125 36.53125 \nQ 39.546875 41.84375 41.421875 45.53125 \nQ 43.3125 49.21875 43.3125 52.78125 \nQ 43.3125 58.59375 39.234375 62.25 \nQ 35.15625 65.921875 28.609375 65.921875 \nQ 23.96875 65.921875 18.8125 64.3125 \nQ 13.671875 62.703125 7.8125 59.421875 \nL 7.8125 69.390625 \nQ 13.765625 71.78125 18.9375 73 \nQ 24.125 74.21875 28.421875 74.21875 \nQ 39.75 74.21875 46.484375 68.546875 \nQ 53.21875 62.890625 53.21875 53.421875 \nQ 53.21875 48.921875 51.53125 44.890625 \nQ 49.859375 40.875 45.40625 35.40625 \nQ 44.1875 33.984375 37.640625 27.21875 \nQ 31.109375 20.453125 19.1875 8.296875 \nz\n\" id=\"DejaVuSans-50\"/>\n      </defs>\n      <g transform=\"translate(65.981875 157.698438)scale(0.1 -0.1)\">\n       <use xlink:href=\"#DejaVuSans-50\"/>\n      </g>\n     </g>\n    </g>\n    <g id=\"xtick_3\">\n     <g id=\"line2d_3\">\n      <g>\n       <use style=\"stroke:#000000;stroke-width:0.8;\" x=\"108.223125\" xlink:href=\"#m340290eb97\" y=\"143.1\"/>\n      </g>\n     </g>\n     <g id=\"text_3\">\n      <!-- 4 -->\n      <defs>\n       <path d=\"M 37.796875 64.3125 \nL 12.890625 25.390625 \nL 37.796875 25.390625 \nz\nM 35.203125 72.90625 \nL 47.609375 72.90625 \nL 47.609375 25.390625 \nL 58.015625 25.390625 \nL 58.015625 17.1875 \nL 47.609375 17.1875 \nL 47.609375 0 \nL 37.796875 0 \nL 37.796875 17.1875 \nL 4.890625 17.1875 \nL 4.890625 26.703125 \nz\n\" id=\"DejaVuSans-52\"/>\n      </defs>\n      <g transform=\"translate(105.041875 157.698438)scale(0.1 -0.1)\">\n       <use xlink:href=\"#DejaVuSans-52\"/>\n      </g>\n     </g>\n    </g>\n    <g id=\"xtick_4\">\n     <g id=\"line2d_4\">\n      <g>\n       <use style=\"stroke:#000000;stroke-width:0.8;\" x=\"147.283125\" xlink:href=\"#m340290eb97\" y=\"143.1\"/>\n      </g>\n     </g>\n     <g id=\"text_4\">\n      <!-- 6 -->\n      <defs>\n       <path d=\"M 33.015625 40.375 \nQ 26.375 40.375 22.484375 35.828125 \nQ 18.609375 31.296875 18.609375 23.390625 \nQ 18.609375 15.53125 22.484375 10.953125 \nQ 26.375 6.390625 33.015625 6.390625 \nQ 39.65625 6.390625 43.53125 10.953125 \nQ 47.40625 15.53125 47.40625 23.390625 \nQ 47.40625 31.296875 43.53125 35.828125 \nQ 39.65625 40.375 33.015625 40.375 \nz\nM 52.59375 71.296875 \nL 52.59375 62.3125 \nQ 48.875 64.0625 45.09375 64.984375 \nQ 41.3125 65.921875 37.59375 65.921875 \nQ 27.828125 65.921875 22.671875 59.328125 \nQ 17.53125 52.734375 16.796875 39.40625 \nQ 19.671875 43.65625 24.015625 45.921875 \nQ 28.375 48.1875 33.59375 48.1875 \nQ 44.578125 48.1875 50.953125 41.515625 \nQ 57.328125 34.859375 57.328125 23.390625 \nQ 57.328125 12.15625 50.6875 5.359375 \nQ 44.046875 -1.421875 33.015625 -1.421875 \nQ 20.359375 -1.421875 13.671875 8.265625 \nQ 6.984375 17.96875 6.984375 36.375 \nQ 6.984375 53.65625 15.1875 63.9375 \nQ 23.390625 74.21875 37.203125 74.21875 \nQ 40.921875 74.21875 44.703125 73.484375 \nQ 48.484375 72.75 52.59375 71.296875 \nz\n\" id=\"DejaVuSans-54\"/>\n      </defs>\n      <g transform=\"translate(144.101875 157.698438)scale(0.1 -0.1)\">\n       <use xlink:href=\"#DejaVuSans-54\"/>\n      </g>\n     </g>\n    </g>\n    <g id=\"xtick_5\">\n     <g id=\"line2d_5\">\n      <g>\n       <use style=\"stroke:#000000;stroke-width:0.8;\" x=\"186.343125\" xlink:href=\"#m340290eb97\" y=\"143.1\"/>\n      </g>\n     </g>\n     <g id=\"text_5\">\n      <!-- 8 -->\n      <defs>\n       <path d=\"M 31.78125 34.625 \nQ 24.75 34.625 20.71875 30.859375 \nQ 16.703125 27.09375 16.703125 20.515625 \nQ 16.703125 13.921875 20.71875 10.15625 \nQ 24.75 6.390625 31.78125 6.390625 \nQ 38.8125 6.390625 42.859375 10.171875 \nQ 46.921875 13.96875 46.921875 20.515625 \nQ 46.921875 27.09375 42.890625 30.859375 \nQ 38.875 34.625 31.78125 34.625 \nz\nM 21.921875 38.8125 \nQ 15.578125 40.375 12.03125 44.71875 \nQ 8.5 49.078125 8.5 55.328125 \nQ 8.5 64.0625 14.71875 69.140625 \nQ 20.953125 74.21875 31.78125 74.21875 \nQ 42.671875 74.21875 48.875 69.140625 \nQ 55.078125 64.0625 55.078125 55.328125 \nQ 55.078125 49.078125 51.53125 44.71875 \nQ 48 40.375 41.703125 38.8125 \nQ 48.828125 37.15625 52.796875 32.3125 \nQ 56.78125 27.484375 56.78125 20.515625 \nQ 56.78125 9.90625 50.3125 4.234375 \nQ 43.84375 -1.421875 31.78125 -1.421875 \nQ 19.734375 -1.421875 13.25 4.234375 \nQ 6.78125 9.90625 6.78125 20.515625 \nQ 6.78125 27.484375 10.78125 32.3125 \nQ 14.796875 37.15625 21.921875 38.8125 \nz\nM 18.3125 54.390625 \nQ 18.3125 48.734375 21.84375 45.5625 \nQ 25.390625 42.390625 31.78125 42.390625 \nQ 38.140625 42.390625 41.71875 45.5625 \nQ 45.3125 48.734375 45.3125 54.390625 \nQ 45.3125 60.0625 41.71875 63.234375 \nQ 38.140625 66.40625 31.78125 66.40625 \nQ 25.390625 66.40625 21.84375 63.234375 \nQ 18.3125 60.0625 18.3125 54.390625 \nz\n\" id=\"DejaVuSans-56\"/>\n      </defs>\n      <g transform=\"translate(183.161875 157.698438)scale(0.1 -0.1)\">\n       <use xlink:href=\"#DejaVuSans-56\"/>\n      </g>\n     </g>\n    </g>\n    <g id=\"xtick_6\">\n     <g id=\"line2d_6\">\n      <g>\n       <use style=\"stroke:#000000;stroke-width:0.8;\" x=\"225.403125\" xlink:href=\"#m340290eb97\" y=\"143.1\"/>\n      </g>\n     </g>\n     <g id=\"text_6\">\n      <!-- 10 -->\n      <defs>\n       <path d=\"M 12.40625 8.296875 \nL 28.515625 8.296875 \nL 28.515625 63.921875 \nL 10.984375 60.40625 \nL 10.984375 69.390625 \nL 28.421875 72.90625 \nL 38.28125 72.90625 \nL 38.28125 8.296875 \nL 54.390625 8.296875 \nL 54.390625 0 \nL 12.40625 0 \nz\n\" id=\"DejaVuSans-49\"/>\n      </defs>\n      <g transform=\"translate(219.040625 157.698438)scale(0.1 -0.1)\">\n       <use xlink:href=\"#DejaVuSans-49\"/>\n       <use x=\"63.623047\" xlink:href=\"#DejaVuSans-48\"/>\n      </g>\n     </g>\n    </g>\n    <g id=\"text_7\">\n     <!-- epoch -->\n     <defs>\n      <path d=\"M 56.203125 29.59375 \nL 56.203125 25.203125 \nL 14.890625 25.203125 \nQ 15.484375 15.921875 20.484375 11.0625 \nQ 25.484375 6.203125 34.421875 6.203125 \nQ 39.59375 6.203125 44.453125 7.46875 \nQ 49.3125 8.734375 54.109375 11.28125 \nL 54.109375 2.78125 \nQ 49.265625 0.734375 44.1875 -0.34375 \nQ 39.109375 -1.421875 33.890625 -1.421875 \nQ 20.796875 -1.421875 13.15625 6.1875 \nQ 5.515625 13.8125 5.515625 26.8125 \nQ 5.515625 40.234375 12.765625 48.109375 \nQ 20.015625 56 32.328125 56 \nQ 43.359375 56 49.78125 48.890625 \nQ 56.203125 41.796875 56.203125 29.59375 \nz\nM 47.21875 32.234375 \nQ 47.125 39.59375 43.09375 43.984375 \nQ 39.0625 48.390625 32.421875 48.390625 \nQ 24.90625 48.390625 20.390625 44.140625 \nQ 15.875 39.890625 15.1875 32.171875 \nz\n\" id=\"DejaVuSans-101\"/>\n      <path d=\"M 18.109375 8.203125 \nL 18.109375 -20.796875 \nL 9.078125 -20.796875 \nL 9.078125 54.6875 \nL 18.109375 54.6875 \nL 18.109375 46.390625 \nQ 20.953125 51.265625 25.265625 53.625 \nQ 29.59375 56 35.59375 56 \nQ 45.5625 56 51.78125 48.09375 \nQ 58.015625 40.1875 58.015625 27.296875 \nQ 58.015625 14.40625 51.78125 6.484375 \nQ 45.5625 -1.421875 35.59375 -1.421875 \nQ 29.59375 -1.421875 25.265625 0.953125 \nQ 20.953125 3.328125 18.109375 8.203125 \nz\nM 48.6875 27.296875 \nQ 48.6875 37.203125 44.609375 42.84375 \nQ 40.53125 48.484375 33.40625 48.484375 \nQ 26.265625 48.484375 22.1875 42.84375 \nQ 18.109375 37.203125 18.109375 27.296875 \nQ 18.109375 17.390625 22.1875 11.75 \nQ 26.265625 6.109375 33.40625 6.109375 \nQ 40.53125 6.109375 44.609375 11.75 \nQ 48.6875 17.390625 48.6875 27.296875 \nz\n\" id=\"DejaVuSans-112\"/>\n      <path d=\"M 30.609375 48.390625 \nQ 23.390625 48.390625 19.1875 42.75 \nQ 14.984375 37.109375 14.984375 27.296875 \nQ 14.984375 17.484375 19.15625 11.84375 \nQ 23.34375 6.203125 30.609375 6.203125 \nQ 37.796875 6.203125 41.984375 11.859375 \nQ 46.1875 17.53125 46.1875 27.296875 \nQ 46.1875 37.015625 41.984375 42.703125 \nQ 37.796875 48.390625 30.609375 48.390625 \nz\nM 30.609375 56 \nQ 42.328125 56 49.015625 48.375 \nQ 55.71875 40.765625 55.71875 27.296875 \nQ 55.71875 13.875 49.015625 6.21875 \nQ 42.328125 -1.421875 30.609375 -1.421875 \nQ 18.84375 -1.421875 12.171875 6.21875 \nQ 5.515625 13.875 5.515625 27.296875 \nQ 5.515625 40.765625 12.171875 48.375 \nQ 18.84375 56 30.609375 56 \nz\n\" id=\"DejaVuSans-111\"/>\n      <path d=\"M 48.78125 52.59375 \nL 48.78125 44.1875 \nQ 44.96875 46.296875 41.140625 47.34375 \nQ 37.3125 48.390625 33.40625 48.390625 \nQ 24.65625 48.390625 19.8125 42.84375 \nQ 14.984375 37.3125 14.984375 27.296875 \nQ 14.984375 17.28125 19.8125 11.734375 \nQ 24.65625 6.203125 33.40625 6.203125 \nQ 37.3125 6.203125 41.140625 7.25 \nQ 44.96875 8.296875 48.78125 10.40625 \nL 48.78125 2.09375 \nQ 45.015625 0.34375 40.984375 -0.53125 \nQ 36.96875 -1.421875 32.421875 -1.421875 \nQ 20.0625 -1.421875 12.78125 6.34375 \nQ 5.515625 14.109375 5.515625 27.296875 \nQ 5.515625 40.671875 12.859375 48.328125 \nQ 20.21875 56 33.015625 56 \nQ 37.15625 56 41.109375 55.140625 \nQ 45.0625 54.296875 48.78125 52.59375 \nz\n\" id=\"DejaVuSans-99\"/>\n      <path d=\"M 54.890625 33.015625 \nL 54.890625 0 \nL 45.90625 0 \nL 45.90625 32.71875 \nQ 45.90625 40.484375 42.875 44.328125 \nQ 39.84375 48.1875 33.796875 48.1875 \nQ 26.515625 48.1875 22.3125 43.546875 \nQ 18.109375 38.921875 18.109375 30.90625 \nL 18.109375 0 \nL 9.078125 0 \nL 9.078125 75.984375 \nL 18.109375 75.984375 \nL 18.109375 46.1875 \nQ 21.34375 51.125 25.703125 53.5625 \nQ 30.078125 56 35.796875 56 \nQ 45.21875 56 50.046875 50.171875 \nQ 54.890625 44.34375 54.890625 33.015625 \nz\n\" id=\"DejaVuSans-104\"/>\n     </defs>\n     <g transform=\"translate(112.525 171.376563)scale(0.1 -0.1)\">\n      <use xlink:href=\"#DejaVuSans-101\"/>\n      <use x=\"61.523438\" xlink:href=\"#DejaVuSans-112\"/>\n      <use x=\"125\" xlink:href=\"#DejaVuSans-111\"/>\n      <use x=\"186.181641\" xlink:href=\"#DejaVuSans-99\"/>\n      <use x=\"241.162109\" xlink:href=\"#DejaVuSans-104\"/>\n     </g>\n    </g>\n   </g>\n   <g id=\"matplotlib.axis_2\">\n    <g id=\"ytick_1\">\n     <g id=\"line2d_7\">\n      <defs>\n       <path d=\"M 0 0 \nL -3.5 0 \n\" id=\"m26f9230e84\" style=\"stroke:#000000;stroke-width:0.8;\"/>\n      </defs>\n      <g>\n       <use style=\"stroke:#000000;stroke-width:0.8;\" x=\"30.103125\" xlink:href=\"#m26f9230e84\" y=\"117.871701\"/>\n      </g>\n     </g>\n     <g id=\"text_8\">\n      <!-- 0.5 -->\n      <defs>\n       <path d=\"M 10.6875 12.40625 \nL 21 12.40625 \nL 21 0 \nL 10.6875 0 \nz\n\" id=\"DejaVuSans-46\"/>\n       <path d=\"M 10.796875 72.90625 \nL 49.515625 72.90625 \nL 49.515625 64.59375 \nL 19.828125 64.59375 \nL 19.828125 46.734375 \nQ 21.96875 47.46875 24.109375 47.828125 \nQ 26.265625 48.1875 28.421875 48.1875 \nQ 40.625 48.1875 47.75 41.5 \nQ 54.890625 34.8125 54.890625 23.390625 \nQ 54.890625 11.625 47.5625 5.09375 \nQ 40.234375 -1.421875 26.90625 -1.421875 \nQ 22.3125 -1.421875 17.546875 -0.640625 \nQ 12.796875 0.140625 7.71875 1.703125 \nL 7.71875 11.625 \nQ 12.109375 9.234375 16.796875 8.0625 \nQ 21.484375 6.890625 26.703125 6.890625 \nQ 35.15625 6.890625 40.078125 11.328125 \nQ 45.015625 15.765625 45.015625 23.390625 \nQ 45.015625 31 40.078125 35.4375 \nQ 35.15625 39.890625 26.703125 39.890625 \nQ 22.75 39.890625 18.8125 39.015625 \nQ 14.890625 38.140625 10.796875 36.28125 \nz\n\" id=\"DejaVuSans-53\"/>\n      </defs>\n      <g transform=\"translate(7.2 121.67092)scale(0.1 -0.1)\">\n       <use xlink:href=\"#DejaVuSans-48\"/>\n       <use x=\"63.623047\" xlink:href=\"#DejaVuSans-46\"/>\n       <use x=\"95.410156\" xlink:href=\"#DejaVuSans-53\"/>\n      </g>\n     </g>\n    </g>\n    <g id=\"ytick_2\">\n     <g id=\"line2d_8\">\n      <g>\n       <use style=\"stroke:#000000;stroke-width:0.8;\" x=\"30.103125\" xlink:href=\"#m26f9230e84\" y=\"88.876521\"/>\n      </g>\n     </g>\n     <g id=\"text_9\">\n      <!-- 1.0 -->\n      <g transform=\"translate(7.2 92.67574)scale(0.1 -0.1)\">\n       <use xlink:href=\"#DejaVuSans-49\"/>\n       <use x=\"63.623047\" xlink:href=\"#DejaVuSans-46\"/>\n       <use x=\"95.410156\" xlink:href=\"#DejaVuSans-48\"/>\n      </g>\n     </g>\n    </g>\n    <g id=\"ytick_3\">\n     <g id=\"line2d_9\">\n      <g>\n       <use style=\"stroke:#000000;stroke-width:0.8;\" x=\"30.103125\" xlink:href=\"#m26f9230e84\" y=\"59.881341\"/>\n      </g>\n     </g>\n     <g id=\"text_10\">\n      <!-- 1.5 -->\n      <g transform=\"translate(7.2 63.68056)scale(0.1 -0.1)\">\n       <use xlink:href=\"#DejaVuSans-49\"/>\n       <use x=\"63.623047\" xlink:href=\"#DejaVuSans-46\"/>\n       <use x=\"95.410156\" xlink:href=\"#DejaVuSans-53\"/>\n      </g>\n     </g>\n    </g>\n    <g id=\"ytick_4\">\n     <g id=\"line2d_10\">\n      <g>\n       <use style=\"stroke:#000000;stroke-width:0.8;\" x=\"30.103125\" xlink:href=\"#m26f9230e84\" y=\"30.886161\"/>\n      </g>\n     </g>\n     <g id=\"text_11\">\n      <!-- 2.0 -->\n      <g transform=\"translate(7.2 34.68538)scale(0.1 -0.1)\">\n       <use xlink:href=\"#DejaVuSans-50\"/>\n       <use x=\"63.623047\" xlink:href=\"#DejaVuSans-46\"/>\n       <use x=\"95.410156\" xlink:href=\"#DejaVuSans-48\"/>\n      </g>\n     </g>\n    </g>\n   </g>\n   <g id=\"line2d_11\">\n    <path clip-path=\"url(#p837116bc2c)\" d=\"M 34.954394 13.377273 \n\" style=\"fill:none;stroke:#1f77b4;stroke-linecap:square;stroke-width:1.5;\"/>\n   </g>\n   <g id=\"line2d_12\">\n    <path clip-path=\"url(#p837116bc2c)\" d=\"M 34.954394 13.377273 \nL 44.698573 13.505367 \n\" style=\"fill:none;stroke:#1f77b4;stroke-linecap:square;stroke-width:1.5;\"/>\n   </g>\n   <g id=\"line2d_13\">\n    <path clip-path=\"url(#p837116bc2c)\" d=\"M 34.954394 13.377273 \nL 44.698573 13.505367 \n\" style=\"fill:none;stroke:#1f77b4;stroke-linecap:square;stroke-width:1.5;\"/>\n   </g>\n   <g id=\"line2d_14\">\n    <path clip-path=\"url(#p837116bc2c)\" d=\"M 49.633125 13.654825 \n\" style=\"fill:none;stroke:#ff7f0e;stroke-dasharray:5.55,2.4;stroke-dashoffset:0;stroke-width:1.5;\"/>\n   </g>\n   <g id=\"line2d_15\"/>\n   <g id=\"line2d_16\">\n    <path clip-path=\"url(#p837116bc2c)\" d=\"M 34.954394 13.377273 \nL 44.698573 13.505367 \n\" style=\"fill:none;stroke:#1f77b4;stroke-linecap:square;stroke-width:1.5;\"/>\n   </g>\n   <g id=\"line2d_17\">\n    <path clip-path=\"url(#p837116bc2c)\" d=\"M 49.633125 13.654825 \n\" style=\"fill:none;stroke:#ff7f0e;stroke-dasharray:5.55,2.4;stroke-dashoffset:0;stroke-width:1.5;\"/>\n   </g>\n   <g id=\"line2d_18\">\n    <path clip-path=\"url(#p837116bc2c)\" d=\"M 49.633125 136.922727 \n\" style=\"fill:none;stroke:#2ca02c;stroke-dasharray:9.6,2.4,1.5,2.4;stroke-dashoffset:0;stroke-width:1.5;\"/>\n   </g>\n   <g id=\"line2d_19\">\n    <path clip-path=\"url(#p837116bc2c)\" d=\"M 34.954394 13.377273 \nL 44.698573 13.505367 \nL 54.442752 14.118535 \n\" style=\"fill:none;stroke:#1f77b4;stroke-linecap:square;stroke-width:1.5;\"/>\n   </g>\n   <g id=\"line2d_20\">\n    <path clip-path=\"url(#p837116bc2c)\" d=\"M 49.633125 13.654825 \n\" style=\"fill:none;stroke:#ff7f0e;stroke-dasharray:5.55,2.4;stroke-dashoffset:0;stroke-width:1.5;\"/>\n   </g>\n   <g id=\"line2d_21\">\n    <path clip-path=\"url(#p837116bc2c)\" d=\"M 49.633125 136.922727 \n\" style=\"fill:none;stroke:#2ca02c;stroke-dasharray:9.6,2.4,1.5,2.4;stroke-dashoffset:0;stroke-width:1.5;\"/>\n   </g>\n   <g id=\"line2d_22\">\n    <path clip-path=\"url(#p837116bc2c)\" d=\"M 34.954394 13.377273 \nL 44.698573 13.505367 \nL 54.442752 14.118535 \nL 64.186931 61.672717 \n\" style=\"fill:none;stroke:#1f77b4;stroke-linecap:square;stroke-width:1.5;\"/>\n   </g>\n   <g id=\"line2d_23\">\n    <path clip-path=\"url(#p837116bc2c)\" d=\"M 49.633125 13.654825 \n\" style=\"fill:none;stroke:#ff7f0e;stroke-dasharray:5.55,2.4;stroke-dashoffset:0;stroke-width:1.5;\"/>\n   </g>\n   <g id=\"line2d_24\">\n    <path clip-path=\"url(#p837116bc2c)\" d=\"M 49.633125 136.922727 \n\" style=\"fill:none;stroke:#2ca02c;stroke-dasharray:9.6,2.4,1.5,2.4;stroke-dashoffset:0;stroke-width:1.5;\"/>\n   </g>\n   <g id=\"line2d_25\">\n    <path clip-path=\"url(#p837116bc2c)\" d=\"M 34.954394 13.377273 \nL 44.698573 13.505367 \nL 54.442752 14.118535 \nL 64.186931 61.672717 \n\" style=\"fill:none;stroke:#1f77b4;stroke-linecap:square;stroke-width:1.5;\"/>\n   </g>\n   <g id=\"line2d_26\">\n    <path clip-path=\"url(#p837116bc2c)\" d=\"M 49.633125 13.654825 \nL 69.163125 87.353739 \n\" style=\"fill:none;stroke:#ff7f0e;stroke-dasharray:5.55,2.4;stroke-dashoffset:0;stroke-width:1.5;\"/>\n   </g>\n   <g id=\"line2d_27\">\n    <path clip-path=\"url(#p837116bc2c)\" d=\"M 49.633125 136.922727 \n\" style=\"fill:none;stroke:#2ca02c;stroke-dasharray:9.6,2.4,1.5,2.4;stroke-dashoffset:0;stroke-width:1.5;\"/>\n   </g>\n   <g id=\"line2d_28\">\n    <path clip-path=\"url(#p837116bc2c)\" d=\"M 34.954394 13.377273 \nL 44.698573 13.505367 \nL 54.442752 14.118535 \nL 64.186931 61.672717 \n\" style=\"fill:none;stroke:#1f77b4;stroke-linecap:square;stroke-width:1.5;\"/>\n   </g>\n   <g id=\"line2d_29\">\n    <path clip-path=\"url(#p837116bc2c)\" d=\"M 49.633125 13.654825 \nL 69.163125 87.353739 \n\" style=\"fill:none;stroke:#ff7f0e;stroke-dasharray:5.55,2.4;stroke-dashoffset:0;stroke-width:1.5;\"/>\n   </g>\n   <g id=\"line2d_30\">\n    <path clip-path=\"url(#p837116bc2c)\" d=\"M 49.633125 136.922727 \nL 69.163125 112.962707 \n\" style=\"fill:none;stroke:#2ca02c;stroke-dasharray:9.6,2.4,1.5,2.4;stroke-dashoffset:0;stroke-width:1.5;\"/>\n   </g>\n   <g id=\"line2d_31\">\n    <path clip-path=\"url(#p837116bc2c)\" d=\"M 34.954394 13.377273 \nL 44.698573 13.505367 \nL 54.442752 14.118535 \nL 64.186931 61.672717 \nL 73.93111 88.200915 \n\" style=\"fill:none;stroke:#1f77b4;stroke-linecap:square;stroke-width:1.5;\"/>\n   </g>\n   <g id=\"line2d_32\">\n    <path clip-path=\"url(#p837116bc2c)\" d=\"M 49.633125 13.654825 \nL 69.163125 87.353739 \n\" style=\"fill:none;stroke:#ff7f0e;stroke-dasharray:5.55,2.4;stroke-dashoffset:0;stroke-width:1.5;\"/>\n   </g>\n   <g id=\"line2d_33\">\n    <path clip-path=\"url(#p837116bc2c)\" d=\"M 49.633125 136.922727 \nL 69.163125 112.962707 \n\" style=\"fill:none;stroke:#2ca02c;stroke-dasharray:9.6,2.4,1.5,2.4;stroke-dashoffset:0;stroke-width:1.5;\"/>\n   </g>\n   <g id=\"line2d_34\">\n    <path clip-path=\"url(#p837116bc2c)\" d=\"M 34.954394 13.377273 \nL 44.698573 13.505367 \nL 54.442752 14.118535 \nL 64.186931 61.672717 \nL 73.93111 88.200915 \nL 83.675289 95.258682 \n\" style=\"fill:none;stroke:#1f77b4;stroke-linecap:square;stroke-width:1.5;\"/>\n   </g>\n   <g id=\"line2d_35\">\n    <path clip-path=\"url(#p837116bc2c)\" d=\"M 49.633125 13.654825 \nL 69.163125 87.353739 \n\" style=\"fill:none;stroke:#ff7f0e;stroke-dasharray:5.55,2.4;stroke-dashoffset:0;stroke-width:1.5;\"/>\n   </g>\n   <g id=\"line2d_36\">\n    <path clip-path=\"url(#p837116bc2c)\" d=\"M 49.633125 136.922727 \nL 69.163125 112.962707 \n\" style=\"fill:none;stroke:#2ca02c;stroke-dasharray:9.6,2.4,1.5,2.4;stroke-dashoffset:0;stroke-width:1.5;\"/>\n   </g>\n   <g id=\"line2d_37\">\n    <path clip-path=\"url(#p837116bc2c)\" d=\"M 34.954394 13.377273 \nL 44.698573 13.505367 \nL 54.442752 14.118535 \nL 64.186931 61.672717 \nL 73.93111 88.200915 \nL 83.675289 95.258682 \n\" style=\"fill:none;stroke:#1f77b4;stroke-linecap:square;stroke-width:1.5;\"/>\n   </g>\n   <g id=\"line2d_38\">\n    <path clip-path=\"url(#p837116bc2c)\" d=\"M 49.633125 13.654825 \nL 69.163125 87.353739 \nL 88.693125 97.145471 \n\" style=\"fill:none;stroke:#ff7f0e;stroke-dasharray:5.55,2.4;stroke-dashoffset:0;stroke-width:1.5;\"/>\n   </g>\n   <g id=\"line2d_39\">\n    <path clip-path=\"url(#p837116bc2c)\" d=\"M 49.633125 136.922727 \nL 69.163125 112.962707 \n\" style=\"fill:none;stroke:#2ca02c;stroke-dasharray:9.6,2.4,1.5,2.4;stroke-dashoffset:0;stroke-width:1.5;\"/>\n   </g>\n   <g id=\"line2d_40\">\n    <path clip-path=\"url(#p837116bc2c)\" d=\"M 34.954394 13.377273 \nL 44.698573 13.505367 \nL 54.442752 14.118535 \nL 64.186931 61.672717 \nL 73.93111 88.200915 \nL 83.675289 95.258682 \n\" style=\"fill:none;stroke:#1f77b4;stroke-linecap:square;stroke-width:1.5;\"/>\n   </g>\n   <g id=\"line2d_41\">\n    <path clip-path=\"url(#p837116bc2c)\" d=\"M 49.633125 13.654825 \nL 69.163125 87.353739 \nL 88.693125 97.145471 \n\" style=\"fill:none;stroke:#ff7f0e;stroke-dasharray:5.55,2.4;stroke-dashoffset:0;stroke-width:1.5;\"/>\n   </g>\n   <g id=\"line2d_42\">\n    <path clip-path=\"url(#p837116bc2c)\" d=\"M 49.633125 136.922727 \nL 69.163125 112.962707 \nL 88.693125 107.726829 \n\" style=\"fill:none;stroke:#2ca02c;stroke-dasharray:9.6,2.4,1.5,2.4;stroke-dashoffset:0;stroke-width:1.5;\"/>\n   </g>\n   <g id=\"line2d_43\">\n    <path clip-path=\"url(#p837116bc2c)\" d=\"M 34.954394 13.377273 \nL 44.698573 13.505367 \nL 54.442752 14.118535 \nL 64.186931 61.672717 \nL 73.93111 88.200915 \nL 83.675289 95.258682 \nL 93.419468 98.730207 \n\" style=\"fill:none;stroke:#1f77b4;stroke-linecap:square;stroke-width:1.5;\"/>\n   </g>\n   <g id=\"line2d_44\">\n    <path clip-path=\"url(#p837116bc2c)\" d=\"M 49.633125 13.654825 \nL 69.163125 87.353739 \nL 88.693125 97.145471 \n\" style=\"fill:none;stroke:#ff7f0e;stroke-dasharray:5.55,2.4;stroke-dashoffset:0;stroke-width:1.5;\"/>\n   </g>\n   <g id=\"line2d_45\">\n    <path clip-path=\"url(#p837116bc2c)\" d=\"M 49.633125 136.922727 \nL 69.163125 112.962707 \nL 88.693125 107.726829 \n\" style=\"fill:none;stroke:#2ca02c;stroke-dasharray:9.6,2.4,1.5,2.4;stroke-dashoffset:0;stroke-width:1.5;\"/>\n   </g>\n   <g id=\"line2d_46\">\n    <path clip-path=\"url(#p837116bc2c)\" d=\"M 34.954394 13.377273 \nL 44.698573 13.505367 \nL 54.442752 14.118535 \nL 64.186931 61.672717 \nL 73.93111 88.200915 \nL 83.675289 95.258682 \nL 93.419468 98.730207 \nL 103.163647 103.155956 \n\" style=\"fill:none;stroke:#1f77b4;stroke-linecap:square;stroke-width:1.5;\"/>\n   </g>\n   <g id=\"line2d_47\">\n    <path clip-path=\"url(#p837116bc2c)\" d=\"M 49.633125 13.654825 \nL 69.163125 87.353739 \nL 88.693125 97.145471 \n\" style=\"fill:none;stroke:#ff7f0e;stroke-dasharray:5.55,2.4;stroke-dashoffset:0;stroke-width:1.5;\"/>\n   </g>\n   <g id=\"line2d_48\">\n    <path clip-path=\"url(#p837116bc2c)\" d=\"M 49.633125 136.922727 \nL 69.163125 112.962707 \nL 88.693125 107.726829 \n\" style=\"fill:none;stroke:#2ca02c;stroke-dasharray:9.6,2.4,1.5,2.4;stroke-dashoffset:0;stroke-width:1.5;\"/>\n   </g>\n   <g id=\"line2d_49\">\n    <path clip-path=\"url(#p837116bc2c)\" d=\"M 34.954394 13.377273 \nL 44.698573 13.505367 \nL 54.442752 14.118535 \nL 64.186931 61.672717 \nL 73.93111 88.200915 \nL 83.675289 95.258682 \nL 93.419468 98.730207 \nL 103.163647 103.155956 \n\" style=\"fill:none;stroke:#1f77b4;stroke-linecap:square;stroke-width:1.5;\"/>\n   </g>\n   <g id=\"line2d_50\">\n    <path clip-path=\"url(#p837116bc2c)\" d=\"M 49.633125 13.654825 \nL 69.163125 87.353739 \nL 88.693125 97.145471 \nL 108.223125 103.304241 \n\" style=\"fill:none;stroke:#ff7f0e;stroke-dasharray:5.55,2.4;stroke-dashoffset:0;stroke-width:1.5;\"/>\n   </g>\n   <g id=\"line2d_51\">\n    <path clip-path=\"url(#p837116bc2c)\" d=\"M 49.633125 136.922727 \nL 69.163125 112.962707 \nL 88.693125 107.726829 \n\" style=\"fill:none;stroke:#2ca02c;stroke-dasharray:9.6,2.4,1.5,2.4;stroke-dashoffset:0;stroke-width:1.5;\"/>\n   </g>\n   <g id=\"line2d_52\">\n    <path clip-path=\"url(#p837116bc2c)\" d=\"M 34.954394 13.377273 \nL 44.698573 13.505367 \nL 54.442752 14.118535 \nL 64.186931 61.672717 \nL 73.93111 88.200915 \nL 83.675289 95.258682 \nL 93.419468 98.730207 \nL 103.163647 103.155956 \n\" style=\"fill:none;stroke:#1f77b4;stroke-linecap:square;stroke-width:1.5;\"/>\n   </g>\n   <g id=\"line2d_53\">\n    <path clip-path=\"url(#p837116bc2c)\" d=\"M 49.633125 13.654825 \nL 69.163125 87.353739 \nL 88.693125 97.145471 \nL 108.223125 103.304241 \n\" style=\"fill:none;stroke:#ff7f0e;stroke-dasharray:5.55,2.4;stroke-dashoffset:0;stroke-width:1.5;\"/>\n   </g>\n   <g id=\"line2d_54\">\n    <path clip-path=\"url(#p837116bc2c)\" d=\"M 49.633125 136.922727 \nL 69.163125 112.962707 \nL 88.693125 107.726829 \nL 108.223125 105.495989 \n\" style=\"fill:none;stroke:#2ca02c;stroke-dasharray:9.6,2.4,1.5,2.4;stroke-dashoffset:0;stroke-width:1.5;\"/>\n   </g>\n   <g id=\"line2d_55\">\n    <path clip-path=\"url(#p837116bc2c)\" d=\"M 34.954394 13.377273 \nL 44.698573 13.505367 \nL 54.442752 14.118535 \nL 64.186931 61.672717 \nL 73.93111 88.200915 \nL 83.675289 95.258682 \nL 93.419468 98.730207 \nL 103.163647 103.155956 \nL 112.907826 106.010267 \n\" style=\"fill:none;stroke:#1f77b4;stroke-linecap:square;stroke-width:1.5;\"/>\n   </g>\n   <g id=\"line2d_56\">\n    <path clip-path=\"url(#p837116bc2c)\" d=\"M 49.633125 13.654825 \nL 69.163125 87.353739 \nL 88.693125 97.145471 \nL 108.223125 103.304241 \n\" style=\"fill:none;stroke:#ff7f0e;stroke-dasharray:5.55,2.4;stroke-dashoffset:0;stroke-width:1.5;\"/>\n   </g>\n   <g id=\"line2d_57\">\n    <path clip-path=\"url(#p837116bc2c)\" d=\"M 49.633125 136.922727 \nL 69.163125 112.962707 \nL 88.693125 107.726829 \nL 108.223125 105.495989 \n\" style=\"fill:none;stroke:#2ca02c;stroke-dasharray:9.6,2.4,1.5,2.4;stroke-dashoffset:0;stroke-width:1.5;\"/>\n   </g>\n   <g id=\"line2d_58\">\n    <path clip-path=\"url(#p837116bc2c)\" d=\"M 34.954394 13.377273 \nL 44.698573 13.505367 \nL 54.442752 14.118535 \nL 64.186931 61.672717 \nL 73.93111 88.200915 \nL 83.675289 95.258682 \nL 93.419468 98.730207 \nL 103.163647 103.155956 \nL 112.907826 106.010267 \nL 122.652006 108.45233 \n\" style=\"fill:none;stroke:#1f77b4;stroke-linecap:square;stroke-width:1.5;\"/>\n   </g>\n   <g id=\"line2d_59\">\n    <path clip-path=\"url(#p837116bc2c)\" d=\"M 49.633125 13.654825 \nL 69.163125 87.353739 \nL 88.693125 97.145471 \nL 108.223125 103.304241 \n\" style=\"fill:none;stroke:#ff7f0e;stroke-dasharray:5.55,2.4;stroke-dashoffset:0;stroke-width:1.5;\"/>\n   </g>\n   <g id=\"line2d_60\">\n    <path clip-path=\"url(#p837116bc2c)\" d=\"M 49.633125 136.922727 \nL 69.163125 112.962707 \nL 88.693125 107.726829 \nL 108.223125 105.495989 \n\" style=\"fill:none;stroke:#2ca02c;stroke-dasharray:9.6,2.4,1.5,2.4;stroke-dashoffset:0;stroke-width:1.5;\"/>\n   </g>\n   <g id=\"line2d_61\">\n    <path clip-path=\"url(#p837116bc2c)\" d=\"M 34.954394 13.377273 \nL 44.698573 13.505367 \nL 54.442752 14.118535 \nL 64.186931 61.672717 \nL 73.93111 88.200915 \nL 83.675289 95.258682 \nL 93.419468 98.730207 \nL 103.163647 103.155956 \nL 112.907826 106.010267 \nL 122.652006 108.45233 \n\" style=\"fill:none;stroke:#1f77b4;stroke-linecap:square;stroke-width:1.5;\"/>\n   </g>\n   <g id=\"line2d_62\">\n    <path clip-path=\"url(#p837116bc2c)\" d=\"M 49.633125 13.654825 \nL 69.163125 87.353739 \nL 88.693125 97.145471 \nL 108.223125 103.304241 \nL 127.753125 109.732584 \n\" style=\"fill:none;stroke:#ff7f0e;stroke-dasharray:5.55,2.4;stroke-dashoffset:0;stroke-width:1.5;\"/>\n   </g>\n   <g id=\"line2d_63\">\n    <path clip-path=\"url(#p837116bc2c)\" d=\"M 49.633125 136.922727 \nL 69.163125 112.962707 \nL 88.693125 107.726829 \nL 108.223125 105.495989 \n\" style=\"fill:none;stroke:#2ca02c;stroke-dasharray:9.6,2.4,1.5,2.4;stroke-dashoffset:0;stroke-width:1.5;\"/>\n   </g>\n   <g id=\"line2d_64\">\n    <path clip-path=\"url(#p837116bc2c)\" d=\"M 34.954394 13.377273 \nL 44.698573 13.505367 \nL 54.442752 14.118535 \nL 64.186931 61.672717 \nL 73.93111 88.200915 \nL 83.675289 95.258682 \nL 93.419468 98.730207 \nL 103.163647 103.155956 \nL 112.907826 106.010267 \nL 122.652006 108.45233 \n\" style=\"fill:none;stroke:#1f77b4;stroke-linecap:square;stroke-width:1.5;\"/>\n   </g>\n   <g id=\"line2d_65\">\n    <path clip-path=\"url(#p837116bc2c)\" d=\"M 49.633125 13.654825 \nL 69.163125 87.353739 \nL 88.693125 97.145471 \nL 108.223125 103.304241 \nL 127.753125 109.732584 \n\" style=\"fill:none;stroke:#ff7f0e;stroke-dasharray:5.55,2.4;stroke-dashoffset:0;stroke-width:1.5;\"/>\n   </g>\n   <g id=\"line2d_66\">\n    <path clip-path=\"url(#p837116bc2c)\" d=\"M 49.633125 136.922727 \nL 69.163125 112.962707 \nL 88.693125 107.726829 \nL 108.223125 105.495989 \nL 127.753125 102.921061 \n\" style=\"fill:none;stroke:#2ca02c;stroke-dasharray:9.6,2.4,1.5,2.4;stroke-dashoffset:0;stroke-width:1.5;\"/>\n   </g>\n   <g id=\"line2d_67\">\n    <path clip-path=\"url(#p837116bc2c)\" d=\"M 34.954394 13.377273 \nL 44.698573 13.505367 \nL 54.442752 14.118535 \nL 64.186931 61.672717 \nL 73.93111 88.200915 \nL 83.675289 95.258682 \nL 93.419468 98.730207 \nL 103.163647 103.155956 \nL 112.907826 106.010267 \nL 122.652006 108.45233 \nL 132.396185 110.926087 \n\" style=\"fill:none;stroke:#1f77b4;stroke-linecap:square;stroke-width:1.5;\"/>\n   </g>\n   <g id=\"line2d_68\">\n    <path clip-path=\"url(#p837116bc2c)\" d=\"M 49.633125 13.654825 \nL 69.163125 87.353739 \nL 88.693125 97.145471 \nL 108.223125 103.304241 \nL 127.753125 109.732584 \n\" style=\"fill:none;stroke:#ff7f0e;stroke-dasharray:5.55,2.4;stroke-dashoffset:0;stroke-width:1.5;\"/>\n   </g>\n   <g id=\"line2d_69\">\n    <path clip-path=\"url(#p837116bc2c)\" d=\"M 49.633125 136.922727 \nL 69.163125 112.962707 \nL 88.693125 107.726829 \nL 108.223125 105.495989 \nL 127.753125 102.921061 \n\" style=\"fill:none;stroke:#2ca02c;stroke-dasharray:9.6,2.4,1.5,2.4;stroke-dashoffset:0;stroke-width:1.5;\"/>\n   </g>\n   <g id=\"line2d_70\">\n    <path clip-path=\"url(#p837116bc2c)\" d=\"M 34.954394 13.377273 \nL 44.698573 13.505367 \nL 54.442752 14.118535 \nL 64.186931 61.672717 \nL 73.93111 88.200915 \nL 83.675289 95.258682 \nL 93.419468 98.730207 \nL 103.163647 103.155956 \nL 112.907826 106.010267 \nL 122.652006 108.45233 \nL 132.396185 110.926087 \nL 142.140364 112.594734 \n\" style=\"fill:none;stroke:#1f77b4;stroke-linecap:square;stroke-width:1.5;\"/>\n   </g>\n   <g id=\"line2d_71\">\n    <path clip-path=\"url(#p837116bc2c)\" d=\"M 49.633125 13.654825 \nL 69.163125 87.353739 \nL 88.693125 97.145471 \nL 108.223125 103.304241 \nL 127.753125 109.732584 \n\" style=\"fill:none;stroke:#ff7f0e;stroke-dasharray:5.55,2.4;stroke-dashoffset:0;stroke-width:1.5;\"/>\n   </g>\n   <g id=\"line2d_72\">\n    <path clip-path=\"url(#p837116bc2c)\" d=\"M 49.633125 136.922727 \nL 69.163125 112.962707 \nL 88.693125 107.726829 \nL 108.223125 105.495989 \nL 127.753125 102.921061 \n\" style=\"fill:none;stroke:#2ca02c;stroke-dasharray:9.6,2.4,1.5,2.4;stroke-dashoffset:0;stroke-width:1.5;\"/>\n   </g>\n   <g id=\"line2d_73\">\n    <path clip-path=\"url(#p837116bc2c)\" d=\"M 34.954394 13.377273 \nL 44.698573 13.505367 \nL 54.442752 14.118535 \nL 64.186931 61.672717 \nL 73.93111 88.200915 \nL 83.675289 95.258682 \nL 93.419468 98.730207 \nL 103.163647 103.155956 \nL 112.907826 106.010267 \nL 122.652006 108.45233 \nL 132.396185 110.926087 \nL 142.140364 112.594734 \n\" style=\"fill:none;stroke:#1f77b4;stroke-linecap:square;stroke-width:1.5;\"/>\n   </g>\n   <g id=\"line2d_74\">\n    <path clip-path=\"url(#p837116bc2c)\" d=\"M 49.633125 13.654825 \nL 69.163125 87.353739 \nL 88.693125 97.145471 \nL 108.223125 103.304241 \nL 127.753125 109.732584 \nL 147.283125 113.148228 \n\" style=\"fill:none;stroke:#ff7f0e;stroke-dasharray:5.55,2.4;stroke-dashoffset:0;stroke-width:1.5;\"/>\n   </g>\n   <g id=\"line2d_75\">\n    <path clip-path=\"url(#p837116bc2c)\" d=\"M 49.633125 136.922727 \nL 69.163125 112.962707 \nL 88.693125 107.726829 \nL 108.223125 105.495989 \nL 127.753125 102.921061 \n\" style=\"fill:none;stroke:#2ca02c;stroke-dasharray:9.6,2.4,1.5,2.4;stroke-dashoffset:0;stroke-width:1.5;\"/>\n   </g>\n   <g id=\"line2d_76\">\n    <path clip-path=\"url(#p837116bc2c)\" d=\"M 34.954394 13.377273 \nL 44.698573 13.505367 \nL 54.442752 14.118535 \nL 64.186931 61.672717 \nL 73.93111 88.200915 \nL 83.675289 95.258682 \nL 93.419468 98.730207 \nL 103.163647 103.155956 \nL 112.907826 106.010267 \nL 122.652006 108.45233 \nL 132.396185 110.926087 \nL 142.140364 112.594734 \n\" style=\"fill:none;stroke:#1f77b4;stroke-linecap:square;stroke-width:1.5;\"/>\n   </g>\n   <g id=\"line2d_77\">\n    <path clip-path=\"url(#p837116bc2c)\" d=\"M 49.633125 13.654825 \nL 69.163125 87.353739 \nL 88.693125 97.145471 \nL 108.223125 103.304241 \nL 127.753125 109.732584 \nL 147.283125 113.148228 \n\" style=\"fill:none;stroke:#ff7f0e;stroke-dasharray:5.55,2.4;stroke-dashoffset:0;stroke-width:1.5;\"/>\n   </g>\n   <g id=\"line2d_78\">\n    <path clip-path=\"url(#p837116bc2c)\" d=\"M 49.633125 136.922727 \nL 69.163125 112.962707 \nL 88.693125 107.726829 \nL 108.223125 105.495989 \nL 127.753125 102.921061 \nL 147.283125 101.510299 \n\" style=\"fill:none;stroke:#2ca02c;stroke-dasharray:9.6,2.4,1.5,2.4;stroke-dashoffset:0;stroke-width:1.5;\"/>\n   </g>\n   <g id=\"line2d_79\">\n    <path clip-path=\"url(#p837116bc2c)\" d=\"M 34.954394 13.377273 \nL 44.698573 13.505367 \nL 54.442752 14.118535 \nL 64.186931 61.672717 \nL 73.93111 88.200915 \nL 83.675289 95.258682 \nL 93.419468 98.730207 \nL 103.163647 103.155956 \nL 112.907826 106.010267 \nL 122.652006 108.45233 \nL 132.396185 110.926087 \nL 142.140364 112.594734 \nL 151.884543 114.483667 \n\" style=\"fill:none;stroke:#1f77b4;stroke-linecap:square;stroke-width:1.5;\"/>\n   </g>\n   <g id=\"line2d_80\">\n    <path clip-path=\"url(#p837116bc2c)\" d=\"M 49.633125 13.654825 \nL 69.163125 87.353739 \nL 88.693125 97.145471 \nL 108.223125 103.304241 \nL 127.753125 109.732584 \nL 147.283125 113.148228 \n\" style=\"fill:none;stroke:#ff7f0e;stroke-dasharray:5.55,2.4;stroke-dashoffset:0;stroke-width:1.5;\"/>\n   </g>\n   <g id=\"line2d_81\">\n    <path clip-path=\"url(#p837116bc2c)\" d=\"M 49.633125 136.922727 \nL 69.163125 112.962707 \nL 88.693125 107.726829 \nL 108.223125 105.495989 \nL 127.753125 102.921061 \nL 147.283125 101.510299 \n\" style=\"fill:none;stroke:#2ca02c;stroke-dasharray:9.6,2.4,1.5,2.4;stroke-dashoffset:0;stroke-width:1.5;\"/>\n   </g>\n   <g id=\"line2d_82\">\n    <path clip-path=\"url(#p837116bc2c)\" d=\"M 34.954394 13.377273 \nL 44.698573 13.505367 \nL 54.442752 14.118535 \nL 64.186931 61.672717 \nL 73.93111 88.200915 \nL 83.675289 95.258682 \nL 93.419468 98.730207 \nL 103.163647 103.155956 \nL 112.907826 106.010267 \nL 122.652006 108.45233 \nL 132.396185 110.926087 \nL 142.140364 112.594734 \nL 151.884543 114.483667 \nL 161.628722 115.624648 \n\" style=\"fill:none;stroke:#1f77b4;stroke-linecap:square;stroke-width:1.5;\"/>\n   </g>\n   <g id=\"line2d_83\">\n    <path clip-path=\"url(#p837116bc2c)\" d=\"M 49.633125 13.654825 \nL 69.163125 87.353739 \nL 88.693125 97.145471 \nL 108.223125 103.304241 \nL 127.753125 109.732584 \nL 147.283125 113.148228 \n\" style=\"fill:none;stroke:#ff7f0e;stroke-dasharray:5.55,2.4;stroke-dashoffset:0;stroke-width:1.5;\"/>\n   </g>\n   <g id=\"line2d_84\">\n    <path clip-path=\"url(#p837116bc2c)\" d=\"M 49.633125 136.922727 \nL 69.163125 112.962707 \nL 88.693125 107.726829 \nL 108.223125 105.495989 \nL 127.753125 102.921061 \nL 147.283125 101.510299 \n\" style=\"fill:none;stroke:#2ca02c;stroke-dasharray:9.6,2.4,1.5,2.4;stroke-dashoffset:0;stroke-width:1.5;\"/>\n   </g>\n   <g id=\"line2d_85\">\n    <path clip-path=\"url(#p837116bc2c)\" d=\"M 34.954394 13.377273 \nL 44.698573 13.505367 \nL 54.442752 14.118535 \nL 64.186931 61.672717 \nL 73.93111 88.200915 \nL 83.675289 95.258682 \nL 93.419468 98.730207 \nL 103.163647 103.155956 \nL 112.907826 106.010267 \nL 122.652006 108.45233 \nL 132.396185 110.926087 \nL 142.140364 112.594734 \nL 151.884543 114.483667 \nL 161.628722 115.624648 \n\" style=\"fill:none;stroke:#1f77b4;stroke-linecap:square;stroke-width:1.5;\"/>\n   </g>\n   <g id=\"line2d_86\">\n    <path clip-path=\"url(#p837116bc2c)\" d=\"M 49.633125 13.654825 \nL 69.163125 87.353739 \nL 88.693125 97.145471 \nL 108.223125 103.304241 \nL 127.753125 109.732584 \nL 147.283125 113.148228 \nL 166.813125 114.766984 \n\" style=\"fill:none;stroke:#ff7f0e;stroke-dasharray:5.55,2.4;stroke-dashoffset:0;stroke-width:1.5;\"/>\n   </g>\n   <g id=\"line2d_87\">\n    <path clip-path=\"url(#p837116bc2c)\" d=\"M 49.633125 136.922727 \nL 69.163125 112.962707 \nL 88.693125 107.726829 \nL 108.223125 105.495989 \nL 127.753125 102.921061 \nL 147.283125 101.510299 \n\" style=\"fill:none;stroke:#2ca02c;stroke-dasharray:9.6,2.4,1.5,2.4;stroke-dashoffset:0;stroke-width:1.5;\"/>\n   </g>\n   <g id=\"line2d_88\">\n    <path clip-path=\"url(#p837116bc2c)\" d=\"M 34.954394 13.377273 \nL 44.698573 13.505367 \nL 54.442752 14.118535 \nL 64.186931 61.672717 \nL 73.93111 88.200915 \nL 83.675289 95.258682 \nL 93.419468 98.730207 \nL 103.163647 103.155956 \nL 112.907826 106.010267 \nL 122.652006 108.45233 \nL 132.396185 110.926087 \nL 142.140364 112.594734 \nL 151.884543 114.483667 \nL 161.628722 115.624648 \n\" style=\"fill:none;stroke:#1f77b4;stroke-linecap:square;stroke-width:1.5;\"/>\n   </g>\n   <g id=\"line2d_89\">\n    <path clip-path=\"url(#p837116bc2c)\" d=\"M 49.633125 13.654825 \nL 69.163125 87.353739 \nL 88.693125 97.145471 \nL 108.223125 103.304241 \nL 127.753125 109.732584 \nL 147.283125 113.148228 \nL 166.813125 114.766984 \n\" style=\"fill:none;stroke:#ff7f0e;stroke-dasharray:5.55,2.4;stroke-dashoffset:0;stroke-width:1.5;\"/>\n   </g>\n   <g id=\"line2d_90\">\n    <path clip-path=\"url(#p837116bc2c)\" d=\"M 49.633125 136.922727 \nL 69.163125 112.962707 \nL 88.693125 107.726829 \nL 108.223125 105.495989 \nL 127.753125 102.921061 \nL 147.283125 101.510299 \nL 166.813125 100.787713 \n\" style=\"fill:none;stroke:#2ca02c;stroke-dasharray:9.6,2.4,1.5,2.4;stroke-dashoffset:0;stroke-width:1.5;\"/>\n   </g>\n   <g id=\"line2d_91\">\n    <path clip-path=\"url(#p837116bc2c)\" d=\"M 34.954394 13.377273 \nL 44.698573 13.505367 \nL 54.442752 14.118535 \nL 64.186931 61.672717 \nL 73.93111 88.200915 \nL 83.675289 95.258682 \nL 93.419468 98.730207 \nL 103.163647 103.155956 \nL 112.907826 106.010267 \nL 122.652006 108.45233 \nL 132.396185 110.926087 \nL 142.140364 112.594734 \nL 151.884543 114.483667 \nL 161.628722 115.624648 \nL 171.372901 116.416439 \n\" style=\"fill:none;stroke:#1f77b4;stroke-linecap:square;stroke-width:1.5;\"/>\n   </g>\n   <g id=\"line2d_92\">\n    <path clip-path=\"url(#p837116bc2c)\" d=\"M 49.633125 13.654825 \nL 69.163125 87.353739 \nL 88.693125 97.145471 \nL 108.223125 103.304241 \nL 127.753125 109.732584 \nL 147.283125 113.148228 \nL 166.813125 114.766984 \n\" style=\"fill:none;stroke:#ff7f0e;stroke-dasharray:5.55,2.4;stroke-dashoffset:0;stroke-width:1.5;\"/>\n   </g>\n   <g id=\"line2d_93\">\n    <path clip-path=\"url(#p837116bc2c)\" d=\"M 49.633125 136.922727 \nL 69.163125 112.962707 \nL 88.693125 107.726829 \nL 108.223125 105.495989 \nL 127.753125 102.921061 \nL 147.283125 101.510299 \nL 166.813125 100.787713 \n\" style=\"fill:none;stroke:#2ca02c;stroke-dasharray:9.6,2.4,1.5,2.4;stroke-dashoffset:0;stroke-width:1.5;\"/>\n   </g>\n   <g id=\"line2d_94\">\n    <path clip-path=\"url(#p837116bc2c)\" d=\"M 34.954394 13.377273 \nL 44.698573 13.505367 \nL 54.442752 14.118535 \nL 64.186931 61.672717 \nL 73.93111 88.200915 \nL 83.675289 95.258682 \nL 93.419468 98.730207 \nL 103.163647 103.155956 \nL 112.907826 106.010267 \nL 122.652006 108.45233 \nL 132.396185 110.926087 \nL 142.140364 112.594734 \nL 151.884543 114.483667 \nL 161.628722 115.624648 \nL 171.372901 116.416439 \nL 181.11708 118.128168 \n\" style=\"fill:none;stroke:#1f77b4;stroke-linecap:square;stroke-width:1.5;\"/>\n   </g>\n   <g id=\"line2d_95\">\n    <path clip-path=\"url(#p837116bc2c)\" d=\"M 49.633125 13.654825 \nL 69.163125 87.353739 \nL 88.693125 97.145471 \nL 108.223125 103.304241 \nL 127.753125 109.732584 \nL 147.283125 113.148228 \nL 166.813125 114.766984 \n\" style=\"fill:none;stroke:#ff7f0e;stroke-dasharray:5.55,2.4;stroke-dashoffset:0;stroke-width:1.5;\"/>\n   </g>\n   <g id=\"line2d_96\">\n    <path clip-path=\"url(#p837116bc2c)\" d=\"M 49.633125 136.922727 \nL 69.163125 112.962707 \nL 88.693125 107.726829 \nL 108.223125 105.495989 \nL 127.753125 102.921061 \nL 147.283125 101.510299 \nL 166.813125 100.787713 \n\" style=\"fill:none;stroke:#2ca02c;stroke-dasharray:9.6,2.4,1.5,2.4;stroke-dashoffset:0;stroke-width:1.5;\"/>\n   </g>\n   <g id=\"line2d_97\">\n    <path clip-path=\"url(#p837116bc2c)\" d=\"M 34.954394 13.377273 \nL 44.698573 13.505367 \nL 54.442752 14.118535 \nL 64.186931 61.672717 \nL 73.93111 88.200915 \nL 83.675289 95.258682 \nL 93.419468 98.730207 \nL 103.163647 103.155956 \nL 112.907826 106.010267 \nL 122.652006 108.45233 \nL 132.396185 110.926087 \nL 142.140364 112.594734 \nL 151.884543 114.483667 \nL 161.628722 115.624648 \nL 171.372901 116.416439 \nL 181.11708 118.128168 \n\" style=\"fill:none;stroke:#1f77b4;stroke-linecap:square;stroke-width:1.5;\"/>\n   </g>\n   <g id=\"line2d_98\">\n    <path clip-path=\"url(#p837116bc2c)\" d=\"M 49.633125 13.654825 \nL 69.163125 87.353739 \nL 88.693125 97.145471 \nL 108.223125 103.304241 \nL 127.753125 109.732584 \nL 147.283125 113.148228 \nL 166.813125 114.766984 \nL 186.343125 117.571345 \n\" style=\"fill:none;stroke:#ff7f0e;stroke-dasharray:5.55,2.4;stroke-dashoffset:0;stroke-width:1.5;\"/>\n   </g>\n   <g id=\"line2d_99\">\n    <path clip-path=\"url(#p837116bc2c)\" d=\"M 49.633125 136.922727 \nL 69.163125 112.962707 \nL 88.693125 107.726829 \nL 108.223125 105.495989 \nL 127.753125 102.921061 \nL 147.283125 101.510299 \nL 166.813125 100.787713 \n\" style=\"fill:none;stroke:#2ca02c;stroke-dasharray:9.6,2.4,1.5,2.4;stroke-dashoffset:0;stroke-width:1.5;\"/>\n   </g>\n   <g id=\"line2d_100\">\n    <path clip-path=\"url(#p837116bc2c)\" d=\"M 34.954394 13.377273 \nL 44.698573 13.505367 \nL 54.442752 14.118535 \nL 64.186931 61.672717 \nL 73.93111 88.200915 \nL 83.675289 95.258682 \nL 93.419468 98.730207 \nL 103.163647 103.155956 \nL 112.907826 106.010267 \nL 122.652006 108.45233 \nL 132.396185 110.926087 \nL 142.140364 112.594734 \nL 151.884543 114.483667 \nL 161.628722 115.624648 \nL 171.372901 116.416439 \nL 181.11708 118.128168 \n\" style=\"fill:none;stroke:#1f77b4;stroke-linecap:square;stroke-width:1.5;\"/>\n   </g>\n   <g id=\"line2d_101\">\n    <path clip-path=\"url(#p837116bc2c)\" d=\"M 49.633125 13.654825 \nL 69.163125 87.353739 \nL 88.693125 97.145471 \nL 108.223125 103.304241 \nL 127.753125 109.732584 \nL 147.283125 113.148228 \nL 166.813125 114.766984 \nL 186.343125 117.571345 \n\" style=\"fill:none;stroke:#ff7f0e;stroke-dasharray:5.55,2.4;stroke-dashoffset:0;stroke-width:1.5;\"/>\n   </g>\n   <g id=\"line2d_102\">\n    <path clip-path=\"url(#p837116bc2c)\" d=\"M 49.633125 136.922727 \nL 69.163125 112.962707 \nL 88.693125 107.726829 \nL 108.223125 105.495989 \nL 127.753125 102.921061 \nL 147.283125 101.510299 \nL 166.813125 100.787713 \nL 186.343125 99.956167 \n\" style=\"fill:none;stroke:#2ca02c;stroke-dasharray:9.6,2.4,1.5,2.4;stroke-dashoffset:0;stroke-width:1.5;\"/>\n   </g>\n   <g id=\"line2d_103\">\n    <path clip-path=\"url(#p837116bc2c)\" d=\"M 34.954394 13.377273 \nL 44.698573 13.505367 \nL 54.442752 14.118535 \nL 64.186931 61.672717 \nL 73.93111 88.200915 \nL 83.675289 95.258682 \nL 93.419468 98.730207 \nL 103.163647 103.155956 \nL 112.907826 106.010267 \nL 122.652006 108.45233 \nL 132.396185 110.926087 \nL 142.140364 112.594734 \nL 151.884543 114.483667 \nL 161.628722 115.624648 \nL 171.372901 116.416439 \nL 181.11708 118.128168 \nL 190.861259 118.513783 \n\" style=\"fill:none;stroke:#1f77b4;stroke-linecap:square;stroke-width:1.5;\"/>\n   </g>\n   <g id=\"line2d_104\">\n    <path clip-path=\"url(#p837116bc2c)\" d=\"M 49.633125 13.654825 \nL 69.163125 87.353739 \nL 88.693125 97.145471 \nL 108.223125 103.304241 \nL 127.753125 109.732584 \nL 147.283125 113.148228 \nL 166.813125 114.766984 \nL 186.343125 117.571345 \n\" style=\"fill:none;stroke:#ff7f0e;stroke-dasharray:5.55,2.4;stroke-dashoffset:0;stroke-width:1.5;\"/>\n   </g>\n   <g id=\"line2d_105\">\n    <path clip-path=\"url(#p837116bc2c)\" d=\"M 49.633125 136.922727 \nL 69.163125 112.962707 \nL 88.693125 107.726829 \nL 108.223125 105.495989 \nL 127.753125 102.921061 \nL 147.283125 101.510299 \nL 166.813125 100.787713 \nL 186.343125 99.956167 \n\" style=\"fill:none;stroke:#2ca02c;stroke-dasharray:9.6,2.4,1.5,2.4;stroke-dashoffset:0;stroke-width:1.5;\"/>\n   </g>\n   <g id=\"line2d_106\">\n    <path clip-path=\"url(#p837116bc2c)\" d=\"M 34.954394 13.377273 \nL 44.698573 13.505367 \nL 54.442752 14.118535 \nL 64.186931 61.672717 \nL 73.93111 88.200915 \nL 83.675289 95.258682 \nL 93.419468 98.730207 \nL 103.163647 103.155956 \nL 112.907826 106.010267 \nL 122.652006 108.45233 \nL 132.396185 110.926087 \nL 142.140364 112.594734 \nL 151.884543 114.483667 \nL 161.628722 115.624648 \nL 171.372901 116.416439 \nL 181.11708 118.128168 \nL 190.861259 118.513783 \nL 200.605438 119.994405 \n\" style=\"fill:none;stroke:#1f77b4;stroke-linecap:square;stroke-width:1.5;\"/>\n   </g>\n   <g id=\"line2d_107\">\n    <path clip-path=\"url(#p837116bc2c)\" d=\"M 49.633125 13.654825 \nL 69.163125 87.353739 \nL 88.693125 97.145471 \nL 108.223125 103.304241 \nL 127.753125 109.732584 \nL 147.283125 113.148228 \nL 166.813125 114.766984 \nL 186.343125 117.571345 \n\" style=\"fill:none;stroke:#ff7f0e;stroke-dasharray:5.55,2.4;stroke-dashoffset:0;stroke-width:1.5;\"/>\n   </g>\n   <g id=\"line2d_108\">\n    <path clip-path=\"url(#p837116bc2c)\" d=\"M 49.633125 136.922727 \nL 69.163125 112.962707 \nL 88.693125 107.726829 \nL 108.223125 105.495989 \nL 127.753125 102.921061 \nL 147.283125 101.510299 \nL 166.813125 100.787713 \nL 186.343125 99.956167 \n\" style=\"fill:none;stroke:#2ca02c;stroke-dasharray:9.6,2.4,1.5,2.4;stroke-dashoffset:0;stroke-width:1.5;\"/>\n   </g>\n   <g id=\"line2d_109\">\n    <path clip-path=\"url(#p837116bc2c)\" d=\"M 34.954394 13.377273 \nL 44.698573 13.505367 \nL 54.442752 14.118535 \nL 64.186931 61.672717 \nL 73.93111 88.200915 \nL 83.675289 95.258682 \nL 93.419468 98.730207 \nL 103.163647 103.155956 \nL 112.907826 106.010267 \nL 122.652006 108.45233 \nL 132.396185 110.926087 \nL 142.140364 112.594734 \nL 151.884543 114.483667 \nL 161.628722 115.624648 \nL 171.372901 116.416439 \nL 181.11708 118.128168 \nL 190.861259 118.513783 \nL 200.605438 119.994405 \n\" style=\"fill:none;stroke:#1f77b4;stroke-linecap:square;stroke-width:1.5;\"/>\n   </g>\n   <g id=\"line2d_110\">\n    <path clip-path=\"url(#p837116bc2c)\" d=\"M 49.633125 13.654825 \nL 69.163125 87.353739 \nL 88.693125 97.145471 \nL 108.223125 103.304241 \nL 127.753125 109.732584 \nL 147.283125 113.148228 \nL 166.813125 114.766984 \nL 186.343125 117.571345 \nL 205.873125 120.042636 \n\" style=\"fill:none;stroke:#ff7f0e;stroke-dasharray:5.55,2.4;stroke-dashoffset:0;stroke-width:1.5;\"/>\n   </g>\n   <g id=\"line2d_111\">\n    <path clip-path=\"url(#p837116bc2c)\" d=\"M 49.633125 136.922727 \nL 69.163125 112.962707 \nL 88.693125 107.726829 \nL 108.223125 105.495989 \nL 127.753125 102.921061 \nL 147.283125 101.510299 \nL 166.813125 100.787713 \nL 186.343125 99.956167 \n\" style=\"fill:none;stroke:#2ca02c;stroke-dasharray:9.6,2.4,1.5,2.4;stroke-dashoffset:0;stroke-width:1.5;\"/>\n   </g>\n   <g id=\"line2d_112\">\n    <path clip-path=\"url(#p837116bc2c)\" d=\"M 34.954394 13.377273 \nL 44.698573 13.505367 \nL 54.442752 14.118535 \nL 64.186931 61.672717 \nL 73.93111 88.200915 \nL 83.675289 95.258682 \nL 93.419468 98.730207 \nL 103.163647 103.155956 \nL 112.907826 106.010267 \nL 122.652006 108.45233 \nL 132.396185 110.926087 \nL 142.140364 112.594734 \nL 151.884543 114.483667 \nL 161.628722 115.624648 \nL 171.372901 116.416439 \nL 181.11708 118.128168 \nL 190.861259 118.513783 \nL 200.605438 119.994405 \n\" style=\"fill:none;stroke:#1f77b4;stroke-linecap:square;stroke-width:1.5;\"/>\n   </g>\n   <g id=\"line2d_113\">\n    <path clip-path=\"url(#p837116bc2c)\" d=\"M 49.633125 13.654825 \nL 69.163125 87.353739 \nL 88.693125 97.145471 \nL 108.223125 103.304241 \nL 127.753125 109.732584 \nL 147.283125 113.148228 \nL 166.813125 114.766984 \nL 186.343125 117.571345 \nL 205.873125 120.042636 \n\" style=\"fill:none;stroke:#ff7f0e;stroke-dasharray:5.55,2.4;stroke-dashoffset:0;stroke-width:1.5;\"/>\n   </g>\n   <g id=\"line2d_114\">\n    <path clip-path=\"url(#p837116bc2c)\" d=\"M 49.633125 136.922727 \nL 69.163125 112.962707 \nL 88.693125 107.726829 \nL 108.223125 105.495989 \nL 127.753125 102.921061 \nL 147.283125 101.510299 \nL 166.813125 100.787713 \nL 186.343125 99.956167 \nL 205.873125 98.832145 \n\" style=\"fill:none;stroke:#2ca02c;stroke-dasharray:9.6,2.4,1.5,2.4;stroke-dashoffset:0;stroke-width:1.5;\"/>\n   </g>\n   <g id=\"line2d_115\">\n    <path clip-path=\"url(#p837116bc2c)\" d=\"M 34.954394 13.377273 \nL 44.698573 13.505367 \nL 54.442752 14.118535 \nL 64.186931 61.672717 \nL 73.93111 88.200915 \nL 83.675289 95.258682 \nL 93.419468 98.730207 \nL 103.163647 103.155956 \nL 112.907826 106.010267 \nL 122.652006 108.45233 \nL 132.396185 110.926087 \nL 142.140364 112.594734 \nL 151.884543 114.483667 \nL 161.628722 115.624648 \nL 171.372901 116.416439 \nL 181.11708 118.128168 \nL 190.861259 118.513783 \nL 200.605438 119.994405 \nL 210.349618 120.562488 \n\" style=\"fill:none;stroke:#1f77b4;stroke-linecap:square;stroke-width:1.5;\"/>\n   </g>\n   <g id=\"line2d_116\">\n    <path clip-path=\"url(#p837116bc2c)\" d=\"M 49.633125 13.654825 \nL 69.163125 87.353739 \nL 88.693125 97.145471 \nL 108.223125 103.304241 \nL 127.753125 109.732584 \nL 147.283125 113.148228 \nL 166.813125 114.766984 \nL 186.343125 117.571345 \nL 205.873125 120.042636 \n\" style=\"fill:none;stroke:#ff7f0e;stroke-dasharray:5.55,2.4;stroke-dashoffset:0;stroke-width:1.5;\"/>\n   </g>\n   <g id=\"line2d_117\">\n    <path clip-path=\"url(#p837116bc2c)\" d=\"M 49.633125 136.922727 \nL 69.163125 112.962707 \nL 88.693125 107.726829 \nL 108.223125 105.495989 \nL 127.753125 102.921061 \nL 147.283125 101.510299 \nL 166.813125 100.787713 \nL 186.343125 99.956167 \nL 205.873125 98.832145 \n\" style=\"fill:none;stroke:#2ca02c;stroke-dasharray:9.6,2.4,1.5,2.4;stroke-dashoffset:0;stroke-width:1.5;\"/>\n   </g>\n   <g id=\"line2d_118\">\n    <path clip-path=\"url(#p837116bc2c)\" d=\"M 34.954394 13.377273 \nL 44.698573 13.505367 \nL 54.442752 14.118535 \nL 64.186931 61.672717 \nL 73.93111 88.200915 \nL 83.675289 95.258682 \nL 93.419468 98.730207 \nL 103.163647 103.155956 \nL 112.907826 106.010267 \nL 122.652006 108.45233 \nL 132.396185 110.926087 \nL 142.140364 112.594734 \nL 151.884543 114.483667 \nL 161.628722 115.624648 \nL 171.372901 116.416439 \nL 181.11708 118.128168 \nL 190.861259 118.513783 \nL 200.605438 119.994405 \nL 210.349618 120.562488 \nL 220.093797 121.004387 \n\" style=\"fill:none;stroke:#1f77b4;stroke-linecap:square;stroke-width:1.5;\"/>\n   </g>\n   <g id=\"line2d_119\">\n    <path clip-path=\"url(#p837116bc2c)\" d=\"M 49.633125 13.654825 \nL 69.163125 87.353739 \nL 88.693125 97.145471 \nL 108.223125 103.304241 \nL 127.753125 109.732584 \nL 147.283125 113.148228 \nL 166.813125 114.766984 \nL 186.343125 117.571345 \nL 205.873125 120.042636 \n\" style=\"fill:none;stroke:#ff7f0e;stroke-dasharray:5.55,2.4;stroke-dashoffset:0;stroke-width:1.5;\"/>\n   </g>\n   <g id=\"line2d_120\">\n    <path clip-path=\"url(#p837116bc2c)\" d=\"M 49.633125 136.922727 \nL 69.163125 112.962707 \nL 88.693125 107.726829 \nL 108.223125 105.495989 \nL 127.753125 102.921061 \nL 147.283125 101.510299 \nL 166.813125 100.787713 \nL 186.343125 99.956167 \nL 205.873125 98.832145 \n\" style=\"fill:none;stroke:#2ca02c;stroke-dasharray:9.6,2.4,1.5,2.4;stroke-dashoffset:0;stroke-width:1.5;\"/>\n   </g>\n   <g id=\"line2d_121\">\n    <path clip-path=\"url(#p837116bc2c)\" d=\"M 34.954394 13.377273 \nL 44.698573 13.505367 \nL 54.442752 14.118535 \nL 64.186931 61.672717 \nL 73.93111 88.200915 \nL 83.675289 95.258682 \nL 93.419468 98.730207 \nL 103.163647 103.155956 \nL 112.907826 106.010267 \nL 122.652006 108.45233 \nL 132.396185 110.926087 \nL 142.140364 112.594734 \nL 151.884543 114.483667 \nL 161.628722 115.624648 \nL 171.372901 116.416439 \nL 181.11708 118.128168 \nL 190.861259 118.513783 \nL 200.605438 119.994405 \nL 210.349618 120.562488 \nL 220.093797 121.004387 \n\" style=\"fill:none;stroke:#1f77b4;stroke-linecap:square;stroke-width:1.5;\"/>\n   </g>\n   <g id=\"line2d_122\">\n    <path clip-path=\"url(#p837116bc2c)\" d=\"M 49.633125 13.654825 \nL 69.163125 87.353739 \nL 88.693125 97.145471 \nL 108.223125 103.304241 \nL 127.753125 109.732584 \nL 147.283125 113.148228 \nL 166.813125 114.766984 \nL 186.343125 117.571345 \nL 205.873125 120.042636 \nL 225.403125 121.388933 \n\" style=\"fill:none;stroke:#ff7f0e;stroke-dasharray:5.55,2.4;stroke-dashoffset:0;stroke-width:1.5;\"/>\n   </g>\n   <g id=\"line2d_123\">\n    <path clip-path=\"url(#p837116bc2c)\" d=\"M 49.633125 136.922727 \nL 69.163125 112.962707 \nL 88.693125 107.726829 \nL 108.223125 105.495989 \nL 127.753125 102.921061 \nL 147.283125 101.510299 \nL 166.813125 100.787713 \nL 186.343125 99.956167 \nL 205.873125 98.832145 \n\" style=\"fill:none;stroke:#2ca02c;stroke-dasharray:9.6,2.4,1.5,2.4;stroke-dashoffset:0;stroke-width:1.5;\"/>\n   </g>\n   <g id=\"line2d_124\">\n    <path clip-path=\"url(#p837116bc2c)\" d=\"M 34.954394 13.377273 \nL 44.698573 13.505367 \nL 54.442752 14.118535 \nL 64.186931 61.672717 \nL 73.93111 88.200915 \nL 83.675289 95.258682 \nL 93.419468 98.730207 \nL 103.163647 103.155956 \nL 112.907826 106.010267 \nL 122.652006 108.45233 \nL 132.396185 110.926087 \nL 142.140364 112.594734 \nL 151.884543 114.483667 \nL 161.628722 115.624648 \nL 171.372901 116.416439 \nL 181.11708 118.128168 \nL 190.861259 118.513783 \nL 200.605438 119.994405 \nL 210.349618 120.562488 \nL 220.093797 121.004387 \n\" style=\"fill:none;stroke:#1f77b4;stroke-linecap:square;stroke-width:1.5;\"/>\n   </g>\n   <g id=\"line2d_125\">\n    <path clip-path=\"url(#p837116bc2c)\" d=\"M 49.633125 13.654825 \nL 69.163125 87.353739 \nL 88.693125 97.145471 \nL 108.223125 103.304241 \nL 127.753125 109.732584 \nL 147.283125 113.148228 \nL 166.813125 114.766984 \nL 186.343125 117.571345 \nL 205.873125 120.042636 \nL 225.403125 121.388933 \n\" style=\"fill:none;stroke:#ff7f0e;stroke-dasharray:5.55,2.4;stroke-dashoffset:0;stroke-width:1.5;\"/>\n   </g>\n   <g id=\"line2d_126\">\n    <path clip-path=\"url(#p837116bc2c)\" d=\"M 49.633125 136.922727 \nL 69.163125 112.962707 \nL 88.693125 107.726829 \nL 108.223125 105.495989 \nL 127.753125 102.921061 \nL 147.283125 101.510299 \nL 166.813125 100.787713 \nL 186.343125 99.956167 \nL 205.873125 98.832145 \nL 225.403125 98.390564 \n\" style=\"fill:none;stroke:#2ca02c;stroke-dasharray:9.6,2.4,1.5,2.4;stroke-dashoffset:0;stroke-width:1.5;\"/>\n   </g>\n   <g id=\"patch_3\">\n    <path d=\"M 30.103125 143.1 \nL 30.103125 7.2 \n\" style=\"fill:none;stroke:#000000;stroke-linecap:square;stroke-linejoin:miter;stroke-width:0.8;\"/>\n   </g>\n   <g id=\"patch_4\">\n    <path d=\"M 225.403125 143.1 \nL 225.403125 7.2 \n\" style=\"fill:none;stroke:#000000;stroke-linecap:square;stroke-linejoin:miter;stroke-width:0.8;\"/>\n   </g>\n   <g id=\"patch_5\">\n    <path d=\"M 30.103125 143.1 \nL 225.403125 143.1 \n\" style=\"fill:none;stroke:#000000;stroke-linecap:square;stroke-linejoin:miter;stroke-width:0.8;\"/>\n   </g>\n   <g id=\"patch_6\">\n    <path d=\"M 30.103125 7.2 \nL 225.403125 7.2 \n\" style=\"fill:none;stroke:#000000;stroke-linecap:square;stroke-linejoin:miter;stroke-width:0.8;\"/>\n   </g>\n   <g id=\"legend_1\">\n    <g id=\"patch_7\">\n     <path d=\"M 138.8125 60.06875 \nL 218.403125 60.06875 \nQ 220.403125 60.06875 220.403125 58.06875 \nL 220.403125 14.2 \nQ 220.403125 12.2 218.403125 12.2 \nL 138.8125 12.2 \nQ 136.8125 12.2 136.8125 14.2 \nL 136.8125 58.06875 \nQ 136.8125 60.06875 138.8125 60.06875 \nz\n\" style=\"fill:#ffffff;opacity:0.8;stroke:#cccccc;stroke-linejoin:miter;\"/>\n    </g>\n    <g id=\"line2d_127\">\n     <path d=\"M 140.8125 20.298437 \nL 160.8125 20.298437 \n\" style=\"fill:none;stroke:#1f77b4;stroke-linecap:square;stroke-width:1.5;\"/>\n    </g>\n    <g id=\"line2d_128\"/>\n    <g id=\"text_12\">\n     <!-- train_loss -->\n     <defs>\n      <path d=\"M 18.3125 70.21875 \nL 18.3125 54.6875 \nL 36.8125 54.6875 \nL 36.8125 47.703125 \nL 18.3125 47.703125 \nL 18.3125 18.015625 \nQ 18.3125 11.328125 20.140625 9.421875 \nQ 21.96875 7.515625 27.59375 7.515625 \nL 36.8125 7.515625 \nL 36.8125 0 \nL 27.59375 0 \nQ 17.1875 0 13.234375 3.875 \nQ 9.28125 7.765625 9.28125 18.015625 \nL 9.28125 47.703125 \nL 2.6875 47.703125 \nL 2.6875 54.6875 \nL 9.28125 54.6875 \nL 9.28125 70.21875 \nz\n\" id=\"DejaVuSans-116\"/>\n      <path d=\"M 41.109375 46.296875 \nQ 39.59375 47.171875 37.8125 47.578125 \nQ 36.03125 48 33.890625 48 \nQ 26.265625 48 22.1875 43.046875 \nQ 18.109375 38.09375 18.109375 28.8125 \nL 18.109375 0 \nL 9.078125 0 \nL 9.078125 54.6875 \nL 18.109375 54.6875 \nL 18.109375 46.1875 \nQ 20.953125 51.171875 25.484375 53.578125 \nQ 30.03125 56 36.53125 56 \nQ 37.453125 56 38.578125 55.875 \nQ 39.703125 55.765625 41.0625 55.515625 \nz\n\" id=\"DejaVuSans-114\"/>\n      <path d=\"M 34.28125 27.484375 \nQ 23.390625 27.484375 19.1875 25 \nQ 14.984375 22.515625 14.984375 16.5 \nQ 14.984375 11.71875 18.140625 8.90625 \nQ 21.296875 6.109375 26.703125 6.109375 \nQ 34.1875 6.109375 38.703125 11.40625 \nQ 43.21875 16.703125 43.21875 25.484375 \nL 43.21875 27.484375 \nz\nM 52.203125 31.203125 \nL 52.203125 0 \nL 43.21875 0 \nL 43.21875 8.296875 \nQ 40.140625 3.328125 35.546875 0.953125 \nQ 30.953125 -1.421875 24.3125 -1.421875 \nQ 15.921875 -1.421875 10.953125 3.296875 \nQ 6 8.015625 6 15.921875 \nQ 6 25.140625 12.171875 29.828125 \nQ 18.359375 34.515625 30.609375 34.515625 \nL 43.21875 34.515625 \nL 43.21875 35.40625 \nQ 43.21875 41.609375 39.140625 45 \nQ 35.0625 48.390625 27.6875 48.390625 \nQ 23 48.390625 18.546875 47.265625 \nQ 14.109375 46.140625 10.015625 43.890625 \nL 10.015625 52.203125 \nQ 14.9375 54.109375 19.578125 55.046875 \nQ 24.21875 56 28.609375 56 \nQ 40.484375 56 46.34375 49.84375 \nQ 52.203125 43.703125 52.203125 31.203125 \nz\n\" id=\"DejaVuSans-97\"/>\n      <path d=\"M 9.421875 54.6875 \nL 18.40625 54.6875 \nL 18.40625 0 \nL 9.421875 0 \nz\nM 9.421875 75.984375 \nL 18.40625 75.984375 \nL 18.40625 64.59375 \nL 9.421875 64.59375 \nz\n\" id=\"DejaVuSans-105\"/>\n      <path d=\"M 54.890625 33.015625 \nL 54.890625 0 \nL 45.90625 0 \nL 45.90625 32.71875 \nQ 45.90625 40.484375 42.875 44.328125 \nQ 39.84375 48.1875 33.796875 48.1875 \nQ 26.515625 48.1875 22.3125 43.546875 \nQ 18.109375 38.921875 18.109375 30.90625 \nL 18.109375 0 \nL 9.078125 0 \nL 9.078125 54.6875 \nL 18.109375 54.6875 \nL 18.109375 46.1875 \nQ 21.34375 51.125 25.703125 53.5625 \nQ 30.078125 56 35.796875 56 \nQ 45.21875 56 50.046875 50.171875 \nQ 54.890625 44.34375 54.890625 33.015625 \nz\n\" id=\"DejaVuSans-110\"/>\n      <path d=\"M 50.984375 -16.609375 \nL 50.984375 -23.578125 \nL -0.984375 -23.578125 \nL -0.984375 -16.609375 \nz\n\" id=\"DejaVuSans-95\"/>\n      <path d=\"M 9.421875 75.984375 \nL 18.40625 75.984375 \nL 18.40625 0 \nL 9.421875 0 \nz\n\" id=\"DejaVuSans-108\"/>\n      <path d=\"M 44.28125 53.078125 \nL 44.28125 44.578125 \nQ 40.484375 46.53125 36.375 47.5 \nQ 32.28125 48.484375 27.875 48.484375 \nQ 21.1875 48.484375 17.84375 46.4375 \nQ 14.5 44.390625 14.5 40.28125 \nQ 14.5 37.15625 16.890625 35.375 \nQ 19.28125 33.59375 26.515625 31.984375 \nL 29.59375 31.296875 \nQ 39.15625 29.25 43.1875 25.515625 \nQ 47.21875 21.78125 47.21875 15.09375 \nQ 47.21875 7.46875 41.1875 3.015625 \nQ 35.15625 -1.421875 24.609375 -1.421875 \nQ 20.21875 -1.421875 15.453125 -0.5625 \nQ 10.6875 0.296875 5.421875 2 \nL 5.421875 11.28125 \nQ 10.40625 8.6875 15.234375 7.390625 \nQ 20.0625 6.109375 24.8125 6.109375 \nQ 31.15625 6.109375 34.5625 8.28125 \nQ 37.984375 10.453125 37.984375 14.40625 \nQ 37.984375 18.0625 35.515625 20.015625 \nQ 33.0625 21.96875 24.703125 23.78125 \nL 21.578125 24.515625 \nQ 13.234375 26.265625 9.515625 29.90625 \nQ 5.8125 33.546875 5.8125 39.890625 \nQ 5.8125 47.609375 11.28125 51.796875 \nQ 16.75 56 26.8125 56 \nQ 31.78125 56 36.171875 55.265625 \nQ 40.578125 54.546875 44.28125 53.078125 \nz\n\" id=\"DejaVuSans-115\"/>\n     </defs>\n     <g transform=\"translate(168.8125 23.798437)scale(0.1 -0.1)\">\n      <use xlink:href=\"#DejaVuSans-116\"/>\n      <use x=\"39.208984\" xlink:href=\"#DejaVuSans-114\"/>\n      <use x=\"80.322266\" xlink:href=\"#DejaVuSans-97\"/>\n      <use x=\"141.601562\" xlink:href=\"#DejaVuSans-105\"/>\n      <use x=\"169.384766\" xlink:href=\"#DejaVuSans-110\"/>\n      <use x=\"232.763672\" xlink:href=\"#DejaVuSans-95\"/>\n      <use x=\"282.763672\" xlink:href=\"#DejaVuSans-108\"/>\n      <use x=\"310.546875\" xlink:href=\"#DejaVuSans-111\"/>\n      <use x=\"371.728516\" xlink:href=\"#DejaVuSans-115\"/>\n      <use x=\"423.828125\" xlink:href=\"#DejaVuSans-115\"/>\n     </g>\n    </g>\n    <g id=\"line2d_129\">\n     <path d=\"M 140.8125 35.254687 \nL 160.8125 35.254687 \n\" style=\"fill:none;stroke:#ff7f0e;stroke-dasharray:5.55,2.4;stroke-dashoffset:0;stroke-width:1.5;\"/>\n    </g>\n    <g id=\"line2d_130\"/>\n    <g id=\"text_13\">\n     <!-- val_loss -->\n     <defs>\n      <path d=\"M 2.984375 54.6875 \nL 12.5 54.6875 \nL 29.59375 8.796875 \nL 46.6875 54.6875 \nL 56.203125 54.6875 \nL 35.6875 0 \nL 23.484375 0 \nz\n\" id=\"DejaVuSans-118\"/>\n     </defs>\n     <g transform=\"translate(168.8125 38.754687)scale(0.1 -0.1)\">\n      <use xlink:href=\"#DejaVuSans-118\"/>\n      <use x=\"59.179688\" xlink:href=\"#DejaVuSans-97\"/>\n      <use x=\"120.458984\" xlink:href=\"#DejaVuSans-108\"/>\n      <use x=\"148.242188\" xlink:href=\"#DejaVuSans-95\"/>\n      <use x=\"198.242188\" xlink:href=\"#DejaVuSans-108\"/>\n      <use x=\"226.025391\" xlink:href=\"#DejaVuSans-111\"/>\n      <use x=\"287.207031\" xlink:href=\"#DejaVuSans-115\"/>\n      <use x=\"339.306641\" xlink:href=\"#DejaVuSans-115\"/>\n     </g>\n    </g>\n    <g id=\"line2d_131\">\n     <path d=\"M 140.8125 50.210937 \nL 160.8125 50.210937 \n\" style=\"fill:none;stroke:#2ca02c;stroke-dasharray:9.6,2.4,1.5,2.4;stroke-dashoffset:0;stroke-width:1.5;\"/>\n    </g>\n    <g id=\"line2d_132\"/>\n    <g id=\"text_14\">\n     <!-- val_acc -->\n     <g transform=\"translate(168.8125 53.710937)scale(0.1 -0.1)\">\n      <use xlink:href=\"#DejaVuSans-118\"/>\n      <use x=\"59.179688\" xlink:href=\"#DejaVuSans-97\"/>\n      <use x=\"120.458984\" xlink:href=\"#DejaVuSans-108\"/>\n      <use x=\"148.242188\" xlink:href=\"#DejaVuSans-95\"/>\n      <use x=\"198.242188\" xlink:href=\"#DejaVuSans-97\"/>\n      <use x=\"259.521484\" xlink:href=\"#DejaVuSans-99\"/>\n      <use x=\"314.501953\" xlink:href=\"#DejaVuSans-99\"/>\n     </g>\n    </g>\n   </g>\n  </g>\n </g>\n <defs>\n  <clipPath id=\"p837116bc2c\">\n   <rect height=\"135.9\" width=\"195.3\" x=\"30.103125\" y=\"7.2\"/>\n  </clipPath>\n </defs>\n</svg>\n"
          },
          "metadata": {
            "needs_background": "light"
          }
        }
      ]
    },
    {
      "cell_type": "markdown",
      "source": [
        "## 8.2 Networks Using Blocks (VGG)"
      ],
      "metadata": {
        "id": "7Lg5THLxMwTx"
      }
    },
    {
      "cell_type": "markdown",
      "source": [
        "### 8.2.1 VGG Blocks"
      ],
      "metadata": {
        "id": "_WzDi8VlM1Eh"
      }
    },
    {
      "cell_type": "code",
      "source": [
        "import torch\n",
        "from torch import nn\n",
        "from d2l import torch as d2l"
      ],
      "metadata": {
        "id": "xeToiPepM4R0"
      },
      "execution_count": null,
      "outputs": []
    },
    {
      "cell_type": "code",
      "source": [
        "def vgg_block(num_convs, out_channels):\n",
        "  layers = []\n",
        "\n",
        "  for _ in range(num_convs):\n",
        "    layers.append(nn.LazyConv2d(out_channels, kernel_size=3, padding=1))\n",
        "    layers.append(nn.ReLU())\n",
        "\n",
        "  layers.append(nn.MaxPool2d(kernel_size=2, stride=2))\n",
        "  return nn.Sequential(*layers)"
      ],
      "metadata": {
        "id": "Qws2e4g2NFHx"
      },
      "execution_count": null,
      "outputs": []
    },
    {
      "cell_type": "markdown",
      "source": [
        "### 8.2.2 VGG Network"
      ],
      "metadata": {
        "id": "nSuPmyPVN5kL"
      }
    },
    {
      "cell_type": "code",
      "source": [
        "class VGG(d2l.Classifier):\n",
        "  def __init__(self, arch, lr=0.1, num_classes=10):\n",
        "    super().__init__()\n",
        "\n",
        "    self.save_hyperparameters()\n",
        "    conv_blks = []\n",
        "    for (num_convs, out_channels) in arch:\n",
        "      conv_blks.append(vgg_block(num_convs, out_channels))\n",
        "\n",
        "    self.net = nn.Sequential(\n",
        "        *conv_blks, nn.Flatten(),\n",
        "        nn.LazyLinear(4096), nn.ReLU(), nn.Dropout(p=0.5),\n",
        "        nn.LazyLinear(4096), nn.ReLU(), nn.Dropout(p=0.5),\n",
        "        nn.LazyLinear(num_classes))\n",
        "    self.net.apply(d2l.init_cnn)"
      ],
      "metadata": {
        "id": "WrJVjUUzN_ux"
      },
      "execution_count": null,
      "outputs": []
    },
    {
      "cell_type": "code",
      "source": [
        "arch = ((1, 64),    # num_conv, out_channels\n",
        "        (1, 128),\n",
        "        (2, 256),\n",
        "        (2, 512),\n",
        "        (2, 512))\n",
        "\n",
        "VGG(arch).layer_summary((1, 1, 224, 224))"
      ],
      "metadata": {
        "colab": {
          "base_uri": "https://localhost:8080/"
        },
        "id": "St7j_76ePUMY",
        "outputId": "8cfd105b-ee3d-4b41-9930-daa167344b7f"
      },
      "execution_count": null,
      "outputs": [
        {
          "output_type": "stream",
          "name": "stderr",
          "text": [
            "/usr/local/lib/python3.8/dist-packages/torch/nn/modules/lazy.py:180: UserWarning: Lazy modules are a new feature under heavy development so changes to the API or functionality can happen at any moment.\n",
            "  warnings.warn('Lazy modules are a new feature under heavy development '\n"
          ]
        },
        {
          "output_type": "stream",
          "name": "stdout",
          "text": [
            "Sequential output shape:\t torch.Size([1, 64, 112, 112])\n",
            "Sequential output shape:\t torch.Size([1, 128, 56, 56])\n",
            "Sequential output shape:\t torch.Size([1, 256, 28, 28])\n",
            "Sequential output shape:\t torch.Size([1, 512, 14, 14])\n",
            "Sequential output shape:\t torch.Size([1, 512, 7, 7])\n",
            "Flatten output shape:\t torch.Size([1, 25088])\n",
            "Linear output shape:\t torch.Size([1, 4096])\n",
            "ReLU output shape:\t torch.Size([1, 4096])\n",
            "Dropout output shape:\t torch.Size([1, 4096])\n",
            "Linear output shape:\t torch.Size([1, 4096])\n",
            "ReLU output shape:\t torch.Size([1, 4096])\n",
            "Dropout output shape:\t torch.Size([1, 4096])\n",
            "Linear output shape:\t torch.Size([1, 10])\n"
          ]
        }
      ]
    },
    {
      "cell_type": "markdown",
      "source": [
        "### 8.2.3 Training"
      ],
      "metadata": {
        "id": "_n1eARnuQH7A"
      }
    },
    {
      "cell_type": "code",
      "source": [
        "arch = ((1, 16), (1, 32), (2, 64), (2, 128), (2, 128))\n",
        "\n",
        "model = VGG(arch, lr=0.01)\n",
        "trainer = d2l.Trainer(max_epochs=10, num_gpus=1)\n",
        "data = d2l.FashionMNIST(batch_size=128, resize=(224, 224))\n",
        "model.apply_init([next(iter(data.get_dataloader(True)))[0]], d2l.init_cnn)\n",
        "trainer.fit(model, data)"
      ],
      "metadata": {
        "colab": {
          "base_uri": "https://localhost:8080/",
          "height": 262
        },
        "id": "fQeVZX8hQKW6",
        "outputId": "7f8b1014-6020-4d16-94d8-bad40eb9f453"
      },
      "execution_count": null,
      "outputs": [
        {
          "output_type": "display_data",
          "data": {
            "text/plain": [
              "<Figure size 252x180 with 1 Axes>"
            ],
            "image/svg+xml": "<?xml version=\"1.0\" encoding=\"utf-8\" standalone=\"no\"?>\n<!DOCTYPE svg PUBLIC \"-//W3C//DTD SVG 1.1//EN\"\n  \"http://www.w3.org/Graphics/SVG/1.1/DTD/svg11.dtd\">\n<!-- Created with matplotlib (https://matplotlib.org/) -->\n<svg height=\"180.65625pt\" version=\"1.1\" viewBox=\"0 0 238.965625 180.65625\" width=\"238.965625pt\" xmlns=\"http://www.w3.org/2000/svg\" xmlns:xlink=\"http://www.w3.org/1999/xlink\">\n <defs>\n  <style type=\"text/css\">\n*{stroke-linecap:butt;stroke-linejoin:round;}\n  </style>\n </defs>\n <g id=\"figure_1\">\n  <g id=\"patch_1\">\n   <path d=\"M 0 180.65625 \nL 238.965625 180.65625 \nL 238.965625 0 \nL 0 0 \nz\n\" style=\"fill:none;\"/>\n  </g>\n  <g id=\"axes_1\">\n   <g id=\"patch_2\">\n    <path d=\"M 30.103125 143.1 \nL 225.403125 143.1 \nL 225.403125 7.2 \nL 30.103125 7.2 \nz\n\" style=\"fill:#ffffff;\"/>\n   </g>\n   <g id=\"matplotlib.axis_1\">\n    <g id=\"xtick_1\">\n     <g id=\"line2d_1\">\n      <defs>\n       <path d=\"M 0 0 \nL 0 3.5 \n\" id=\"me8fe788346\" style=\"stroke:#000000;stroke-width:0.8;\"/>\n      </defs>\n      <g>\n       <use style=\"stroke:#000000;stroke-width:0.8;\" x=\"30.103125\" xlink:href=\"#me8fe788346\" y=\"143.1\"/>\n      </g>\n     </g>\n     <g id=\"text_1\">\n      <!-- 0 -->\n      <defs>\n       <path d=\"M 31.78125 66.40625 \nQ 24.171875 66.40625 20.328125 58.90625 \nQ 16.5 51.421875 16.5 36.375 \nQ 16.5 21.390625 20.328125 13.890625 \nQ 24.171875 6.390625 31.78125 6.390625 \nQ 39.453125 6.390625 43.28125 13.890625 \nQ 47.125 21.390625 47.125 36.375 \nQ 47.125 51.421875 43.28125 58.90625 \nQ 39.453125 66.40625 31.78125 66.40625 \nz\nM 31.78125 74.21875 \nQ 44.046875 74.21875 50.515625 64.515625 \nQ 56.984375 54.828125 56.984375 36.375 \nQ 56.984375 17.96875 50.515625 8.265625 \nQ 44.046875 -1.421875 31.78125 -1.421875 \nQ 19.53125 -1.421875 13.0625 8.265625 \nQ 6.59375 17.96875 6.59375 36.375 \nQ 6.59375 54.828125 13.0625 64.515625 \nQ 19.53125 74.21875 31.78125 74.21875 \nz\n\" id=\"DejaVuSans-48\"/>\n      </defs>\n      <g transform=\"translate(26.921875 157.698438)scale(0.1 -0.1)\">\n       <use xlink:href=\"#DejaVuSans-48\"/>\n      </g>\n     </g>\n    </g>\n    <g id=\"xtick_2\">\n     <g id=\"line2d_2\">\n      <g>\n       <use style=\"stroke:#000000;stroke-width:0.8;\" x=\"69.163125\" xlink:href=\"#me8fe788346\" y=\"143.1\"/>\n      </g>\n     </g>\n     <g id=\"text_2\">\n      <!-- 2 -->\n      <defs>\n       <path d=\"M 19.1875 8.296875 \nL 53.609375 8.296875 \nL 53.609375 0 \nL 7.328125 0 \nL 7.328125 8.296875 \nQ 12.9375 14.109375 22.625 23.890625 \nQ 32.328125 33.6875 34.8125 36.53125 \nQ 39.546875 41.84375 41.421875 45.53125 \nQ 43.3125 49.21875 43.3125 52.78125 \nQ 43.3125 58.59375 39.234375 62.25 \nQ 35.15625 65.921875 28.609375 65.921875 \nQ 23.96875 65.921875 18.8125 64.3125 \nQ 13.671875 62.703125 7.8125 59.421875 \nL 7.8125 69.390625 \nQ 13.765625 71.78125 18.9375 73 \nQ 24.125 74.21875 28.421875 74.21875 \nQ 39.75 74.21875 46.484375 68.546875 \nQ 53.21875 62.890625 53.21875 53.421875 \nQ 53.21875 48.921875 51.53125 44.890625 \nQ 49.859375 40.875 45.40625 35.40625 \nQ 44.1875 33.984375 37.640625 27.21875 \nQ 31.109375 20.453125 19.1875 8.296875 \nz\n\" id=\"DejaVuSans-50\"/>\n      </defs>\n      <g transform=\"translate(65.981875 157.698438)scale(0.1 -0.1)\">\n       <use xlink:href=\"#DejaVuSans-50\"/>\n      </g>\n     </g>\n    </g>\n    <g id=\"xtick_3\">\n     <g id=\"line2d_3\">\n      <g>\n       <use style=\"stroke:#000000;stroke-width:0.8;\" x=\"108.223125\" xlink:href=\"#me8fe788346\" y=\"143.1\"/>\n      </g>\n     </g>\n     <g id=\"text_3\">\n      <!-- 4 -->\n      <defs>\n       <path d=\"M 37.796875 64.3125 \nL 12.890625 25.390625 \nL 37.796875 25.390625 \nz\nM 35.203125 72.90625 \nL 47.609375 72.90625 \nL 47.609375 25.390625 \nL 58.015625 25.390625 \nL 58.015625 17.1875 \nL 47.609375 17.1875 \nL 47.609375 0 \nL 37.796875 0 \nL 37.796875 17.1875 \nL 4.890625 17.1875 \nL 4.890625 26.703125 \nz\n\" id=\"DejaVuSans-52\"/>\n      </defs>\n      <g transform=\"translate(105.041875 157.698438)scale(0.1 -0.1)\">\n       <use xlink:href=\"#DejaVuSans-52\"/>\n      </g>\n     </g>\n    </g>\n    <g id=\"xtick_4\">\n     <g id=\"line2d_4\">\n      <g>\n       <use style=\"stroke:#000000;stroke-width:0.8;\" x=\"147.283125\" xlink:href=\"#me8fe788346\" y=\"143.1\"/>\n      </g>\n     </g>\n     <g id=\"text_4\">\n      <!-- 6 -->\n      <defs>\n       <path d=\"M 33.015625 40.375 \nQ 26.375 40.375 22.484375 35.828125 \nQ 18.609375 31.296875 18.609375 23.390625 \nQ 18.609375 15.53125 22.484375 10.953125 \nQ 26.375 6.390625 33.015625 6.390625 \nQ 39.65625 6.390625 43.53125 10.953125 \nQ 47.40625 15.53125 47.40625 23.390625 \nQ 47.40625 31.296875 43.53125 35.828125 \nQ 39.65625 40.375 33.015625 40.375 \nz\nM 52.59375 71.296875 \nL 52.59375 62.3125 \nQ 48.875 64.0625 45.09375 64.984375 \nQ 41.3125 65.921875 37.59375 65.921875 \nQ 27.828125 65.921875 22.671875 59.328125 \nQ 17.53125 52.734375 16.796875 39.40625 \nQ 19.671875 43.65625 24.015625 45.921875 \nQ 28.375 48.1875 33.59375 48.1875 \nQ 44.578125 48.1875 50.953125 41.515625 \nQ 57.328125 34.859375 57.328125 23.390625 \nQ 57.328125 12.15625 50.6875 5.359375 \nQ 44.046875 -1.421875 33.015625 -1.421875 \nQ 20.359375 -1.421875 13.671875 8.265625 \nQ 6.984375 17.96875 6.984375 36.375 \nQ 6.984375 53.65625 15.1875 63.9375 \nQ 23.390625 74.21875 37.203125 74.21875 \nQ 40.921875 74.21875 44.703125 73.484375 \nQ 48.484375 72.75 52.59375 71.296875 \nz\n\" id=\"DejaVuSans-54\"/>\n      </defs>\n      <g transform=\"translate(144.101875 157.698438)scale(0.1 -0.1)\">\n       <use xlink:href=\"#DejaVuSans-54\"/>\n      </g>\n     </g>\n    </g>\n    <g id=\"xtick_5\">\n     <g id=\"line2d_5\">\n      <g>\n       <use style=\"stroke:#000000;stroke-width:0.8;\" x=\"186.343125\" xlink:href=\"#me8fe788346\" y=\"143.1\"/>\n      </g>\n     </g>\n     <g id=\"text_5\">\n      <!-- 8 -->\n      <defs>\n       <path d=\"M 31.78125 34.625 \nQ 24.75 34.625 20.71875 30.859375 \nQ 16.703125 27.09375 16.703125 20.515625 \nQ 16.703125 13.921875 20.71875 10.15625 \nQ 24.75 6.390625 31.78125 6.390625 \nQ 38.8125 6.390625 42.859375 10.171875 \nQ 46.921875 13.96875 46.921875 20.515625 \nQ 46.921875 27.09375 42.890625 30.859375 \nQ 38.875 34.625 31.78125 34.625 \nz\nM 21.921875 38.8125 \nQ 15.578125 40.375 12.03125 44.71875 \nQ 8.5 49.078125 8.5 55.328125 \nQ 8.5 64.0625 14.71875 69.140625 \nQ 20.953125 74.21875 31.78125 74.21875 \nQ 42.671875 74.21875 48.875 69.140625 \nQ 55.078125 64.0625 55.078125 55.328125 \nQ 55.078125 49.078125 51.53125 44.71875 \nQ 48 40.375 41.703125 38.8125 \nQ 48.828125 37.15625 52.796875 32.3125 \nQ 56.78125 27.484375 56.78125 20.515625 \nQ 56.78125 9.90625 50.3125 4.234375 \nQ 43.84375 -1.421875 31.78125 -1.421875 \nQ 19.734375 -1.421875 13.25 4.234375 \nQ 6.78125 9.90625 6.78125 20.515625 \nQ 6.78125 27.484375 10.78125 32.3125 \nQ 14.796875 37.15625 21.921875 38.8125 \nz\nM 18.3125 54.390625 \nQ 18.3125 48.734375 21.84375 45.5625 \nQ 25.390625 42.390625 31.78125 42.390625 \nQ 38.140625 42.390625 41.71875 45.5625 \nQ 45.3125 48.734375 45.3125 54.390625 \nQ 45.3125 60.0625 41.71875 63.234375 \nQ 38.140625 66.40625 31.78125 66.40625 \nQ 25.390625 66.40625 21.84375 63.234375 \nQ 18.3125 60.0625 18.3125 54.390625 \nz\n\" id=\"DejaVuSans-56\"/>\n      </defs>\n      <g transform=\"translate(183.161875 157.698438)scale(0.1 -0.1)\">\n       <use xlink:href=\"#DejaVuSans-56\"/>\n      </g>\n     </g>\n    </g>\n    <g id=\"xtick_6\">\n     <g id=\"line2d_6\">\n      <g>\n       <use style=\"stroke:#000000;stroke-width:0.8;\" x=\"225.403125\" xlink:href=\"#me8fe788346\" y=\"143.1\"/>\n      </g>\n     </g>\n     <g id=\"text_6\">\n      <!-- 10 -->\n      <defs>\n       <path d=\"M 12.40625 8.296875 \nL 28.515625 8.296875 \nL 28.515625 63.921875 \nL 10.984375 60.40625 \nL 10.984375 69.390625 \nL 28.421875 72.90625 \nL 38.28125 72.90625 \nL 38.28125 8.296875 \nL 54.390625 8.296875 \nL 54.390625 0 \nL 12.40625 0 \nz\n\" id=\"DejaVuSans-49\"/>\n      </defs>\n      <g transform=\"translate(219.040625 157.698438)scale(0.1 -0.1)\">\n       <use xlink:href=\"#DejaVuSans-49\"/>\n       <use x=\"63.623047\" xlink:href=\"#DejaVuSans-48\"/>\n      </g>\n     </g>\n    </g>\n    <g id=\"text_7\">\n     <!-- epoch -->\n     <defs>\n      <path d=\"M 56.203125 29.59375 \nL 56.203125 25.203125 \nL 14.890625 25.203125 \nQ 15.484375 15.921875 20.484375 11.0625 \nQ 25.484375 6.203125 34.421875 6.203125 \nQ 39.59375 6.203125 44.453125 7.46875 \nQ 49.3125 8.734375 54.109375 11.28125 \nL 54.109375 2.78125 \nQ 49.265625 0.734375 44.1875 -0.34375 \nQ 39.109375 -1.421875 33.890625 -1.421875 \nQ 20.796875 -1.421875 13.15625 6.1875 \nQ 5.515625 13.8125 5.515625 26.8125 \nQ 5.515625 40.234375 12.765625 48.109375 \nQ 20.015625 56 32.328125 56 \nQ 43.359375 56 49.78125 48.890625 \nQ 56.203125 41.796875 56.203125 29.59375 \nz\nM 47.21875 32.234375 \nQ 47.125 39.59375 43.09375 43.984375 \nQ 39.0625 48.390625 32.421875 48.390625 \nQ 24.90625 48.390625 20.390625 44.140625 \nQ 15.875 39.890625 15.1875 32.171875 \nz\n\" id=\"DejaVuSans-101\"/>\n      <path d=\"M 18.109375 8.203125 \nL 18.109375 -20.796875 \nL 9.078125 -20.796875 \nL 9.078125 54.6875 \nL 18.109375 54.6875 \nL 18.109375 46.390625 \nQ 20.953125 51.265625 25.265625 53.625 \nQ 29.59375 56 35.59375 56 \nQ 45.5625 56 51.78125 48.09375 \nQ 58.015625 40.1875 58.015625 27.296875 \nQ 58.015625 14.40625 51.78125 6.484375 \nQ 45.5625 -1.421875 35.59375 -1.421875 \nQ 29.59375 -1.421875 25.265625 0.953125 \nQ 20.953125 3.328125 18.109375 8.203125 \nz\nM 48.6875 27.296875 \nQ 48.6875 37.203125 44.609375 42.84375 \nQ 40.53125 48.484375 33.40625 48.484375 \nQ 26.265625 48.484375 22.1875 42.84375 \nQ 18.109375 37.203125 18.109375 27.296875 \nQ 18.109375 17.390625 22.1875 11.75 \nQ 26.265625 6.109375 33.40625 6.109375 \nQ 40.53125 6.109375 44.609375 11.75 \nQ 48.6875 17.390625 48.6875 27.296875 \nz\n\" id=\"DejaVuSans-112\"/>\n      <path d=\"M 30.609375 48.390625 \nQ 23.390625 48.390625 19.1875 42.75 \nQ 14.984375 37.109375 14.984375 27.296875 \nQ 14.984375 17.484375 19.15625 11.84375 \nQ 23.34375 6.203125 30.609375 6.203125 \nQ 37.796875 6.203125 41.984375 11.859375 \nQ 46.1875 17.53125 46.1875 27.296875 \nQ 46.1875 37.015625 41.984375 42.703125 \nQ 37.796875 48.390625 30.609375 48.390625 \nz\nM 30.609375 56 \nQ 42.328125 56 49.015625 48.375 \nQ 55.71875 40.765625 55.71875 27.296875 \nQ 55.71875 13.875 49.015625 6.21875 \nQ 42.328125 -1.421875 30.609375 -1.421875 \nQ 18.84375 -1.421875 12.171875 6.21875 \nQ 5.515625 13.875 5.515625 27.296875 \nQ 5.515625 40.765625 12.171875 48.375 \nQ 18.84375 56 30.609375 56 \nz\n\" id=\"DejaVuSans-111\"/>\n      <path d=\"M 48.78125 52.59375 \nL 48.78125 44.1875 \nQ 44.96875 46.296875 41.140625 47.34375 \nQ 37.3125 48.390625 33.40625 48.390625 \nQ 24.65625 48.390625 19.8125 42.84375 \nQ 14.984375 37.3125 14.984375 27.296875 \nQ 14.984375 17.28125 19.8125 11.734375 \nQ 24.65625 6.203125 33.40625 6.203125 \nQ 37.3125 6.203125 41.140625 7.25 \nQ 44.96875 8.296875 48.78125 10.40625 \nL 48.78125 2.09375 \nQ 45.015625 0.34375 40.984375 -0.53125 \nQ 36.96875 -1.421875 32.421875 -1.421875 \nQ 20.0625 -1.421875 12.78125 6.34375 \nQ 5.515625 14.109375 5.515625 27.296875 \nQ 5.515625 40.671875 12.859375 48.328125 \nQ 20.21875 56 33.015625 56 \nQ 37.15625 56 41.109375 55.140625 \nQ 45.0625 54.296875 48.78125 52.59375 \nz\n\" id=\"DejaVuSans-99\"/>\n      <path d=\"M 54.890625 33.015625 \nL 54.890625 0 \nL 45.90625 0 \nL 45.90625 32.71875 \nQ 45.90625 40.484375 42.875 44.328125 \nQ 39.84375 48.1875 33.796875 48.1875 \nQ 26.515625 48.1875 22.3125 43.546875 \nQ 18.109375 38.921875 18.109375 30.90625 \nL 18.109375 0 \nL 9.078125 0 \nL 9.078125 75.984375 \nL 18.109375 75.984375 \nL 18.109375 46.1875 \nQ 21.34375 51.125 25.703125 53.5625 \nQ 30.078125 56 35.796875 56 \nQ 45.21875 56 50.046875 50.171875 \nQ 54.890625 44.34375 54.890625 33.015625 \nz\n\" id=\"DejaVuSans-104\"/>\n     </defs>\n     <g transform=\"translate(112.525 171.376563)scale(0.1 -0.1)\">\n      <use xlink:href=\"#DejaVuSans-101\"/>\n      <use x=\"61.523438\" xlink:href=\"#DejaVuSans-112\"/>\n      <use x=\"125\" xlink:href=\"#DejaVuSans-111\"/>\n      <use x=\"186.181641\" xlink:href=\"#DejaVuSans-99\"/>\n      <use x=\"241.162109\" xlink:href=\"#DejaVuSans-104\"/>\n     </g>\n    </g>\n   </g>\n   <g id=\"matplotlib.axis_2\">\n    <g id=\"ytick_1\">\n     <g id=\"line2d_7\">\n      <defs>\n       <path d=\"M 0 0 \nL -3.5 0 \n\" id=\"m300661c192\" style=\"stroke:#000000;stroke-width:0.8;\"/>\n      </defs>\n      <g>\n       <use style=\"stroke:#000000;stroke-width:0.8;\" x=\"30.103125\" xlink:href=\"#m300661c192\" y=\"123.445857\"/>\n      </g>\n     </g>\n     <g id=\"text_8\">\n      <!-- 0.5 -->\n      <defs>\n       <path d=\"M 10.6875 12.40625 \nL 21 12.40625 \nL 21 0 \nL 10.6875 0 \nz\n\" id=\"DejaVuSans-46\"/>\n       <path d=\"M 10.796875 72.90625 \nL 49.515625 72.90625 \nL 49.515625 64.59375 \nL 19.828125 64.59375 \nL 19.828125 46.734375 \nQ 21.96875 47.46875 24.109375 47.828125 \nQ 26.265625 48.1875 28.421875 48.1875 \nQ 40.625 48.1875 47.75 41.5 \nQ 54.890625 34.8125 54.890625 23.390625 \nQ 54.890625 11.625 47.5625 5.09375 \nQ 40.234375 -1.421875 26.90625 -1.421875 \nQ 22.3125 -1.421875 17.546875 -0.640625 \nQ 12.796875 0.140625 7.71875 1.703125 \nL 7.71875 11.625 \nQ 12.109375 9.234375 16.796875 8.0625 \nQ 21.484375 6.890625 26.703125 6.890625 \nQ 35.15625 6.890625 40.078125 11.328125 \nQ 45.015625 15.765625 45.015625 23.390625 \nQ 45.015625 31 40.078125 35.4375 \nQ 35.15625 39.890625 26.703125 39.890625 \nQ 22.75 39.890625 18.8125 39.015625 \nQ 14.890625 38.140625 10.796875 36.28125 \nz\n\" id=\"DejaVuSans-53\"/>\n      </defs>\n      <g transform=\"translate(7.2 127.245076)scale(0.1 -0.1)\">\n       <use xlink:href=\"#DejaVuSans-48\"/>\n       <use x=\"63.623047\" xlink:href=\"#DejaVuSans-46\"/>\n       <use x=\"95.410156\" xlink:href=\"#DejaVuSans-53\"/>\n      </g>\n     </g>\n    </g>\n    <g id=\"ytick_2\">\n     <g id=\"line2d_8\">\n      <g>\n       <use style=\"stroke:#000000;stroke-width:0.8;\" x=\"30.103125\" xlink:href=\"#m300661c192\" y=\"91.998285\"/>\n      </g>\n     </g>\n     <g id=\"text_9\">\n      <!-- 1.0 -->\n      <g transform=\"translate(7.2 95.797504)scale(0.1 -0.1)\">\n       <use xlink:href=\"#DejaVuSans-49\"/>\n       <use x=\"63.623047\" xlink:href=\"#DejaVuSans-46\"/>\n       <use x=\"95.410156\" xlink:href=\"#DejaVuSans-48\"/>\n      </g>\n     </g>\n    </g>\n    <g id=\"ytick_3\">\n     <g id=\"line2d_9\">\n      <g>\n       <use style=\"stroke:#000000;stroke-width:0.8;\" x=\"30.103125\" xlink:href=\"#m300661c192\" y=\"60.550713\"/>\n      </g>\n     </g>\n     <g id=\"text_10\">\n      <!-- 1.5 -->\n      <g transform=\"translate(7.2 64.349932)scale(0.1 -0.1)\">\n       <use xlink:href=\"#DejaVuSans-49\"/>\n       <use x=\"63.623047\" xlink:href=\"#DejaVuSans-46\"/>\n       <use x=\"95.410156\" xlink:href=\"#DejaVuSans-53\"/>\n      </g>\n     </g>\n    </g>\n    <g id=\"ytick_4\">\n     <g id=\"line2d_10\">\n      <g>\n       <use style=\"stroke:#000000;stroke-width:0.8;\" x=\"30.103125\" xlink:href=\"#m300661c192\" y=\"29.103141\"/>\n      </g>\n     </g>\n     <g id=\"text_11\">\n      <!-- 2.0 -->\n      <g transform=\"translate(7.2 32.90236)scale(0.1 -0.1)\">\n       <use xlink:href=\"#DejaVuSans-50\"/>\n       <use x=\"63.623047\" xlink:href=\"#DejaVuSans-46\"/>\n       <use x=\"95.410156\" xlink:href=\"#DejaVuSans-48\"/>\n      </g>\n     </g>\n    </g>\n   </g>\n   <g id=\"line2d_11\">\n    <path clip-path=\"url(#p26424d9d8b)\" d=\"M 34.954394 13.377273 \n\" style=\"fill:none;stroke:#1f77b4;stroke-linecap:square;stroke-width:1.5;\"/>\n   </g>\n   <g id=\"line2d_12\">\n    <path clip-path=\"url(#p26424d9d8b)\" d=\"M 34.954394 13.377273 \nL 44.698573 95.015151 \n\" style=\"fill:none;stroke:#1f77b4;stroke-linecap:square;stroke-width:1.5;\"/>\n   </g>\n   <g id=\"line2d_13\">\n    <path clip-path=\"url(#p26424d9d8b)\" d=\"M 34.954394 13.377273 \nL 44.698573 95.015151 \n\" style=\"fill:none;stroke:#1f77b4;stroke-linecap:square;stroke-width:1.5;\"/>\n   </g>\n   <g id=\"line2d_14\">\n    <path clip-path=\"url(#p26424d9d8b)\" d=\"M 49.633125 104.681288 \n\" style=\"fill:none;stroke:#ff7f0e;stroke-dasharray:5.55,2.4;stroke-dashoffset:0;stroke-width:1.5;\"/>\n   </g>\n   <g id=\"line2d_15\"/>\n   <g id=\"line2d_16\">\n    <path clip-path=\"url(#p26424d9d8b)\" d=\"M 34.954394 13.377273 \nL 44.698573 95.015151 \n\" style=\"fill:none;stroke:#1f77b4;stroke-linecap:square;stroke-width:1.5;\"/>\n   </g>\n   <g id=\"line2d_17\">\n    <path clip-path=\"url(#p26424d9d8b)\" d=\"M 49.633125 104.681288 \n\" style=\"fill:none;stroke:#ff7f0e;stroke-dasharray:5.55,2.4;stroke-dashoffset:0;stroke-width:1.5;\"/>\n   </g>\n   <g id=\"line2d_18\">\n    <path clip-path=\"url(#p26424d9d8b)\" d=\"M 49.633125 109.469849 \n\" style=\"fill:none;stroke:#2ca02c;stroke-dasharray:9.6,2.4,1.5,2.4;stroke-dashoffset:0;stroke-width:1.5;\"/>\n   </g>\n   <g id=\"line2d_19\">\n    <path clip-path=\"url(#p26424d9d8b)\" d=\"M 34.954394 13.377273 \nL 44.698573 95.015151 \nL 54.442752 112.57999 \n\" style=\"fill:none;stroke:#1f77b4;stroke-linecap:square;stroke-width:1.5;\"/>\n   </g>\n   <g id=\"line2d_20\">\n    <path clip-path=\"url(#p26424d9d8b)\" d=\"M 49.633125 104.681288 \n\" style=\"fill:none;stroke:#ff7f0e;stroke-dasharray:5.55,2.4;stroke-dashoffset:0;stroke-width:1.5;\"/>\n   </g>\n   <g id=\"line2d_21\">\n    <path clip-path=\"url(#p26424d9d8b)\" d=\"M 49.633125 109.469849 \n\" style=\"fill:none;stroke:#2ca02c;stroke-dasharray:9.6,2.4,1.5,2.4;stroke-dashoffset:0;stroke-width:1.5;\"/>\n   </g>\n   <g id=\"line2d_22\">\n    <path clip-path=\"url(#p26424d9d8b)\" d=\"M 34.954394 13.377273 \nL 44.698573 95.015151 \nL 54.442752 112.57999 \nL 64.186931 119.447697 \n\" style=\"fill:none;stroke:#1f77b4;stroke-linecap:square;stroke-width:1.5;\"/>\n   </g>\n   <g id=\"line2d_23\">\n    <path clip-path=\"url(#p26424d9d8b)\" d=\"M 49.633125 104.681288 \n\" style=\"fill:none;stroke:#ff7f0e;stroke-dasharray:5.55,2.4;stroke-dashoffset:0;stroke-width:1.5;\"/>\n   </g>\n   <g id=\"line2d_24\">\n    <path clip-path=\"url(#p26424d9d8b)\" d=\"M 49.633125 109.469849 \n\" style=\"fill:none;stroke:#2ca02c;stroke-dasharray:9.6,2.4,1.5,2.4;stroke-dashoffset:0;stroke-width:1.5;\"/>\n   </g>\n   <g id=\"line2d_25\">\n    <path clip-path=\"url(#p26424d9d8b)\" d=\"M 34.954394 13.377273 \nL 44.698573 95.015151 \nL 54.442752 112.57999 \nL 64.186931 119.447697 \n\" style=\"fill:none;stroke:#1f77b4;stroke-linecap:square;stroke-width:1.5;\"/>\n   </g>\n   <g id=\"line2d_26\">\n    <path clip-path=\"url(#p26424d9d8b)\" d=\"M 49.633125 104.681288 \nL 69.163125 124.801766 \n\" style=\"fill:none;stroke:#ff7f0e;stroke-dasharray:5.55,2.4;stroke-dashoffset:0;stroke-width:1.5;\"/>\n   </g>\n   <g id=\"line2d_27\">\n    <path clip-path=\"url(#p26424d9d8b)\" d=\"M 49.633125 109.469849 \n\" style=\"fill:none;stroke:#2ca02c;stroke-dasharray:9.6,2.4,1.5,2.4;stroke-dashoffset:0;stroke-width:1.5;\"/>\n   </g>\n   <g id=\"line2d_28\">\n    <path clip-path=\"url(#p26424d9d8b)\" d=\"M 34.954394 13.377273 \nL 44.698573 95.015151 \nL 54.442752 112.57999 \nL 64.186931 119.447697 \n\" style=\"fill:none;stroke:#1f77b4;stroke-linecap:square;stroke-width:1.5;\"/>\n   </g>\n   <g id=\"line2d_29\">\n    <path clip-path=\"url(#p26424d9d8b)\" d=\"M 49.633125 104.681288 \nL 69.163125 124.801766 \n\" style=\"fill:none;stroke:#ff7f0e;stroke-dasharray:5.55,2.4;stroke-dashoffset:0;stroke-width:1.5;\"/>\n   </g>\n   <g id=\"line2d_30\">\n    <path clip-path=\"url(#p26424d9d8b)\" d=\"M 49.633125 109.469849 \nL 69.163125 103.001203 \n\" style=\"fill:none;stroke:#2ca02c;stroke-dasharray:9.6,2.4,1.5,2.4;stroke-dashoffset:0;stroke-width:1.5;\"/>\n   </g>\n   <g id=\"line2d_31\">\n    <path clip-path=\"url(#p26424d9d8b)\" d=\"M 34.954394 13.377273 \nL 44.698573 95.015151 \nL 54.442752 112.57999 \nL 64.186931 119.447697 \nL 73.93111 122.985852 \n\" style=\"fill:none;stroke:#1f77b4;stroke-linecap:square;stroke-width:1.5;\"/>\n   </g>\n   <g id=\"line2d_32\">\n    <path clip-path=\"url(#p26424d9d8b)\" d=\"M 49.633125 104.681288 \nL 69.163125 124.801766 \n\" style=\"fill:none;stroke:#ff7f0e;stroke-dasharray:5.55,2.4;stroke-dashoffset:0;stroke-width:1.5;\"/>\n   </g>\n   <g id=\"line2d_33\">\n    <path clip-path=\"url(#p26424d9d8b)\" d=\"M 49.633125 109.469849 \nL 69.163125 103.001203 \n\" style=\"fill:none;stroke:#2ca02c;stroke-dasharray:9.6,2.4,1.5,2.4;stroke-dashoffset:0;stroke-width:1.5;\"/>\n   </g>\n   <g id=\"line2d_34\">\n    <path clip-path=\"url(#p26424d9d8b)\" d=\"M 34.954394 13.377273 \nL 44.698573 95.015151 \nL 54.442752 112.57999 \nL 64.186931 119.447697 \nL 73.93111 122.985852 \nL 83.675289 125.524952 \n\" style=\"fill:none;stroke:#1f77b4;stroke-linecap:square;stroke-width:1.5;\"/>\n   </g>\n   <g id=\"line2d_35\">\n    <path clip-path=\"url(#p26424d9d8b)\" d=\"M 49.633125 104.681288 \nL 69.163125 124.801766 \n\" style=\"fill:none;stroke:#ff7f0e;stroke-dasharray:5.55,2.4;stroke-dashoffset:0;stroke-width:1.5;\"/>\n   </g>\n   <g id=\"line2d_36\">\n    <path clip-path=\"url(#p26424d9d8b)\" d=\"M 49.633125 109.469849 \nL 69.163125 103.001203 \n\" style=\"fill:none;stroke:#2ca02c;stroke-dasharray:9.6,2.4,1.5,2.4;stroke-dashoffset:0;stroke-width:1.5;\"/>\n   </g>\n   <g id=\"line2d_37\">\n    <path clip-path=\"url(#p26424d9d8b)\" d=\"M 34.954394 13.377273 \nL 44.698573 95.015151 \nL 54.442752 112.57999 \nL 64.186931 119.447697 \nL 73.93111 122.985852 \nL 83.675289 125.524952 \n\" style=\"fill:none;stroke:#1f77b4;stroke-linecap:square;stroke-width:1.5;\"/>\n   </g>\n   <g id=\"line2d_38\">\n    <path clip-path=\"url(#p26424d9d8b)\" d=\"M 49.633125 104.681288 \nL 69.163125 124.801766 \nL 88.693125 128.378626 \n\" style=\"fill:none;stroke:#ff7f0e;stroke-dasharray:5.55,2.4;stroke-dashoffset:0;stroke-width:1.5;\"/>\n   </g>\n   <g id=\"line2d_39\">\n    <path clip-path=\"url(#p26424d9d8b)\" d=\"M 49.633125 109.469849 \nL 69.163125 103.001203 \n\" style=\"fill:none;stroke:#2ca02c;stroke-dasharray:9.6,2.4,1.5,2.4;stroke-dashoffset:0;stroke-width:1.5;\"/>\n   </g>\n   <g id=\"line2d_40\">\n    <path clip-path=\"url(#p26424d9d8b)\" d=\"M 34.954394 13.377273 \nL 44.698573 95.015151 \nL 54.442752 112.57999 \nL 64.186931 119.447697 \nL 73.93111 122.985852 \nL 83.675289 125.524952 \n\" style=\"fill:none;stroke:#1f77b4;stroke-linecap:square;stroke-width:1.5;\"/>\n   </g>\n   <g id=\"line2d_41\">\n    <path clip-path=\"url(#p26424d9d8b)\" d=\"M 49.633125 104.681288 \nL 69.163125 124.801766 \nL 88.693125 128.378626 \n\" style=\"fill:none;stroke:#ff7f0e;stroke-dasharray:5.55,2.4;stroke-dashoffset:0;stroke-width:1.5;\"/>\n   </g>\n   <g id=\"line2d_42\">\n    <path clip-path=\"url(#p26424d9d8b)\" d=\"M 49.633125 109.469849 \nL 69.163125 103.001203 \nL 88.693125 101.713694 \n\" style=\"fill:none;stroke:#2ca02c;stroke-dasharray:9.6,2.4,1.5,2.4;stroke-dashoffset:0;stroke-width:1.5;\"/>\n   </g>\n   <g id=\"line2d_43\">\n    <path clip-path=\"url(#p26424d9d8b)\" d=\"M 34.954394 13.377273 \nL 44.698573 95.015151 \nL 54.442752 112.57999 \nL 64.186931 119.447697 \nL 73.93111 122.985852 \nL 83.675289 125.524952 \nL 93.419468 127.422271 \n\" style=\"fill:none;stroke:#1f77b4;stroke-linecap:square;stroke-width:1.5;\"/>\n   </g>\n   <g id=\"line2d_44\">\n    <path clip-path=\"url(#p26424d9d8b)\" d=\"M 49.633125 104.681288 \nL 69.163125 124.801766 \nL 88.693125 128.378626 \n\" style=\"fill:none;stroke:#ff7f0e;stroke-dasharray:5.55,2.4;stroke-dashoffset:0;stroke-width:1.5;\"/>\n   </g>\n   <g id=\"line2d_45\">\n    <path clip-path=\"url(#p26424d9d8b)\" d=\"M 49.633125 109.469849 \nL 69.163125 103.001203 \nL 88.693125 101.713694 \n\" style=\"fill:none;stroke:#2ca02c;stroke-dasharray:9.6,2.4,1.5,2.4;stroke-dashoffset:0;stroke-width:1.5;\"/>\n   </g>\n   <g id=\"line2d_46\">\n    <path clip-path=\"url(#p26424d9d8b)\" d=\"M 34.954394 13.377273 \nL 44.698573 95.015151 \nL 54.442752 112.57999 \nL 64.186931 119.447697 \nL 73.93111 122.985852 \nL 83.675289 125.524952 \nL 93.419468 127.422271 \nL 103.163647 128.576482 \n\" style=\"fill:none;stroke:#1f77b4;stroke-linecap:square;stroke-width:1.5;\"/>\n   </g>\n   <g id=\"line2d_47\">\n    <path clip-path=\"url(#p26424d9d8b)\" d=\"M 49.633125 104.681288 \nL 69.163125 124.801766 \nL 88.693125 128.378626 \n\" style=\"fill:none;stroke:#ff7f0e;stroke-dasharray:5.55,2.4;stroke-dashoffset:0;stroke-width:1.5;\"/>\n   </g>\n   <g id=\"line2d_48\">\n    <path clip-path=\"url(#p26424d9d8b)\" d=\"M 49.633125 109.469849 \nL 69.163125 103.001203 \nL 88.693125 101.713694 \n\" style=\"fill:none;stroke:#2ca02c;stroke-dasharray:9.6,2.4,1.5,2.4;stroke-dashoffset:0;stroke-width:1.5;\"/>\n   </g>\n   <g id=\"line2d_49\">\n    <path clip-path=\"url(#p26424d9d8b)\" d=\"M 34.954394 13.377273 \nL 44.698573 95.015151 \nL 54.442752 112.57999 \nL 64.186931 119.447697 \nL 73.93111 122.985852 \nL 83.675289 125.524952 \nL 93.419468 127.422271 \nL 103.163647 128.576482 \n\" style=\"fill:none;stroke:#1f77b4;stroke-linecap:square;stroke-width:1.5;\"/>\n   </g>\n   <g id=\"line2d_50\">\n    <path clip-path=\"url(#p26424d9d8b)\" d=\"M 49.633125 104.681288 \nL 69.163125 124.801766 \nL 88.693125 128.378626 \nL 108.223125 130.71482 \n\" style=\"fill:none;stroke:#ff7f0e;stroke-dasharray:5.55,2.4;stroke-dashoffset:0;stroke-width:1.5;\"/>\n   </g>\n   <g id=\"line2d_51\">\n    <path clip-path=\"url(#p26424d9d8b)\" d=\"M 49.633125 109.469849 \nL 69.163125 103.001203 \nL 88.693125 101.713694 \n\" style=\"fill:none;stroke:#2ca02c;stroke-dasharray:9.6,2.4,1.5,2.4;stroke-dashoffset:0;stroke-width:1.5;\"/>\n   </g>\n   <g id=\"line2d_52\">\n    <path clip-path=\"url(#p26424d9d8b)\" d=\"M 34.954394 13.377273 \nL 44.698573 95.015151 \nL 54.442752 112.57999 \nL 64.186931 119.447697 \nL 73.93111 122.985852 \nL 83.675289 125.524952 \nL 93.419468 127.422271 \nL 103.163647 128.576482 \n\" style=\"fill:none;stroke:#1f77b4;stroke-linecap:square;stroke-width:1.5;\"/>\n   </g>\n   <g id=\"line2d_53\">\n    <path clip-path=\"url(#p26424d9d8b)\" d=\"M 49.633125 104.681288 \nL 69.163125 124.801766 \nL 88.693125 128.378626 \nL 108.223125 130.71482 \n\" style=\"fill:none;stroke:#ff7f0e;stroke-dasharray:5.55,2.4;stroke-dashoffset:0;stroke-width:1.5;\"/>\n   </g>\n   <g id=\"line2d_54\">\n    <path clip-path=\"url(#p26424d9d8b)\" d=\"M 49.633125 109.469849 \nL 69.163125 103.001203 \nL 88.693125 101.713694 \nL 108.223125 100.818035 \n\" style=\"fill:none;stroke:#2ca02c;stroke-dasharray:9.6,2.4,1.5,2.4;stroke-dashoffset:0;stroke-width:1.5;\"/>\n   </g>\n   <g id=\"line2d_55\">\n    <path clip-path=\"url(#p26424d9d8b)\" d=\"M 34.954394 13.377273 \nL 44.698573 95.015151 \nL 54.442752 112.57999 \nL 64.186931 119.447697 \nL 73.93111 122.985852 \nL 83.675289 125.524952 \nL 93.419468 127.422271 \nL 103.163647 128.576482 \nL 112.907826 129.798843 \n\" style=\"fill:none;stroke:#1f77b4;stroke-linecap:square;stroke-width:1.5;\"/>\n   </g>\n   <g id=\"line2d_56\">\n    <path clip-path=\"url(#p26424d9d8b)\" d=\"M 49.633125 104.681288 \nL 69.163125 124.801766 \nL 88.693125 128.378626 \nL 108.223125 130.71482 \n\" style=\"fill:none;stroke:#ff7f0e;stroke-dasharray:5.55,2.4;stroke-dashoffset:0;stroke-width:1.5;\"/>\n   </g>\n   <g id=\"line2d_57\">\n    <path clip-path=\"url(#p26424d9d8b)\" d=\"M 49.633125 109.469849 \nL 69.163125 103.001203 \nL 88.693125 101.713694 \nL 108.223125 100.818035 \n\" style=\"fill:none;stroke:#2ca02c;stroke-dasharray:9.6,2.4,1.5,2.4;stroke-dashoffset:0;stroke-width:1.5;\"/>\n   </g>\n   <g id=\"line2d_58\">\n    <path clip-path=\"url(#p26424d9d8b)\" d=\"M 34.954394 13.377273 \nL 44.698573 95.015151 \nL 54.442752 112.57999 \nL 64.186931 119.447697 \nL 73.93111 122.985852 \nL 83.675289 125.524952 \nL 93.419468 127.422271 \nL 103.163647 128.576482 \nL 112.907826 129.798843 \nL 122.652006 131.108273 \n\" style=\"fill:none;stroke:#1f77b4;stroke-linecap:square;stroke-width:1.5;\"/>\n   </g>\n   <g id=\"line2d_59\">\n    <path clip-path=\"url(#p26424d9d8b)\" d=\"M 49.633125 104.681288 \nL 69.163125 124.801766 \nL 88.693125 128.378626 \nL 108.223125 130.71482 \n\" style=\"fill:none;stroke:#ff7f0e;stroke-dasharray:5.55,2.4;stroke-dashoffset:0;stroke-width:1.5;\"/>\n   </g>\n   <g id=\"line2d_60\">\n    <path clip-path=\"url(#p26424d9d8b)\" d=\"M 49.633125 109.469849 \nL 69.163125 103.001203 \nL 88.693125 101.713694 \nL 108.223125 100.818035 \n\" style=\"fill:none;stroke:#2ca02c;stroke-dasharray:9.6,2.4,1.5,2.4;stroke-dashoffset:0;stroke-width:1.5;\"/>\n   </g>\n   <g id=\"line2d_61\">\n    <path clip-path=\"url(#p26424d9d8b)\" d=\"M 34.954394 13.377273 \nL 44.698573 95.015151 \nL 54.442752 112.57999 \nL 64.186931 119.447697 \nL 73.93111 122.985852 \nL 83.675289 125.524952 \nL 93.419468 127.422271 \nL 103.163647 128.576482 \nL 112.907826 129.798843 \nL 122.652006 131.108273 \n\" style=\"fill:none;stroke:#1f77b4;stroke-linecap:square;stroke-width:1.5;\"/>\n   </g>\n   <g id=\"line2d_62\">\n    <path clip-path=\"url(#p26424d9d8b)\" d=\"M 49.633125 104.681288 \nL 69.163125 124.801766 \nL 88.693125 128.378626 \nL 108.223125 130.71482 \nL 127.753125 132.535131 \n\" style=\"fill:none;stroke:#ff7f0e;stroke-dasharray:5.55,2.4;stroke-dashoffset:0;stroke-width:1.5;\"/>\n   </g>\n   <g id=\"line2d_63\">\n    <path clip-path=\"url(#p26424d9d8b)\" d=\"M 49.633125 109.469849 \nL 69.163125 103.001203 \nL 88.693125 101.713694 \nL 108.223125 100.818035 \n\" style=\"fill:none;stroke:#2ca02c;stroke-dasharray:9.6,2.4,1.5,2.4;stroke-dashoffset:0;stroke-width:1.5;\"/>\n   </g>\n   <g id=\"line2d_64\">\n    <path clip-path=\"url(#p26424d9d8b)\" d=\"M 34.954394 13.377273 \nL 44.698573 95.015151 \nL 54.442752 112.57999 \nL 64.186931 119.447697 \nL 73.93111 122.985852 \nL 83.675289 125.524952 \nL 93.419468 127.422271 \nL 103.163647 128.576482 \nL 112.907826 129.798843 \nL 122.652006 131.108273 \n\" style=\"fill:none;stroke:#1f77b4;stroke-linecap:square;stroke-width:1.5;\"/>\n   </g>\n   <g id=\"line2d_65\">\n    <path clip-path=\"url(#p26424d9d8b)\" d=\"M 49.633125 104.681288 \nL 69.163125 124.801766 \nL 88.693125 128.378626 \nL 108.223125 130.71482 \nL 127.753125 132.535131 \n\" style=\"fill:none;stroke:#ff7f0e;stroke-dasharray:5.55,2.4;stroke-dashoffset:0;stroke-width:1.5;\"/>\n   </g>\n   <g id=\"line2d_66\">\n    <path clip-path=\"url(#p26424d9d8b)\" d=\"M 49.633125 109.469849 \nL 69.163125 103.001203 \nL 88.693125 101.713694 \nL 108.223125 100.818035 \nL 127.753125 100.140071 \n\" style=\"fill:none;stroke:#2ca02c;stroke-dasharray:9.6,2.4,1.5,2.4;stroke-dashoffset:0;stroke-width:1.5;\"/>\n   </g>\n   <g id=\"line2d_67\">\n    <path clip-path=\"url(#p26424d9d8b)\" d=\"M 34.954394 13.377273 \nL 44.698573 95.015151 \nL 54.442752 112.57999 \nL 64.186931 119.447697 \nL 73.93111 122.985852 \nL 83.675289 125.524952 \nL 93.419468 127.422271 \nL 103.163647 128.576482 \nL 112.907826 129.798843 \nL 122.652006 131.108273 \nL 132.396185 131.849648 \n\" style=\"fill:none;stroke:#1f77b4;stroke-linecap:square;stroke-width:1.5;\"/>\n   </g>\n   <g id=\"line2d_68\">\n    <path clip-path=\"url(#p26424d9d8b)\" d=\"M 49.633125 104.681288 \nL 69.163125 124.801766 \nL 88.693125 128.378626 \nL 108.223125 130.71482 \nL 127.753125 132.535131 \n\" style=\"fill:none;stroke:#ff7f0e;stroke-dasharray:5.55,2.4;stroke-dashoffset:0;stroke-width:1.5;\"/>\n   </g>\n   <g id=\"line2d_69\">\n    <path clip-path=\"url(#p26424d9d8b)\" d=\"M 49.633125 109.469849 \nL 69.163125 103.001203 \nL 88.693125 101.713694 \nL 108.223125 100.818035 \nL 127.753125 100.140071 \n\" style=\"fill:none;stroke:#2ca02c;stroke-dasharray:9.6,2.4,1.5,2.4;stroke-dashoffset:0;stroke-width:1.5;\"/>\n   </g>\n   <g id=\"line2d_70\">\n    <path clip-path=\"url(#p26424d9d8b)\" d=\"M 34.954394 13.377273 \nL 44.698573 95.015151 \nL 54.442752 112.57999 \nL 64.186931 119.447697 \nL 73.93111 122.985852 \nL 83.675289 125.524952 \nL 93.419468 127.422271 \nL 103.163647 128.576482 \nL 112.907826 129.798843 \nL 122.652006 131.108273 \nL 132.396185 131.849648 \nL 142.140364 132.498955 \n\" style=\"fill:none;stroke:#1f77b4;stroke-linecap:square;stroke-width:1.5;\"/>\n   </g>\n   <g id=\"line2d_71\">\n    <path clip-path=\"url(#p26424d9d8b)\" d=\"M 49.633125 104.681288 \nL 69.163125 124.801766 \nL 88.693125 128.378626 \nL 108.223125 130.71482 \nL 127.753125 132.535131 \n\" style=\"fill:none;stroke:#ff7f0e;stroke-dasharray:5.55,2.4;stroke-dashoffset:0;stroke-width:1.5;\"/>\n   </g>\n   <g id=\"line2d_72\">\n    <path clip-path=\"url(#p26424d9d8b)\" d=\"M 49.633125 109.469849 \nL 69.163125 103.001203 \nL 88.693125 101.713694 \nL 108.223125 100.818035 \nL 127.753125 100.140071 \n\" style=\"fill:none;stroke:#2ca02c;stroke-dasharray:9.6,2.4,1.5,2.4;stroke-dashoffset:0;stroke-width:1.5;\"/>\n   </g>\n   <g id=\"line2d_73\">\n    <path clip-path=\"url(#p26424d9d8b)\" d=\"M 34.954394 13.377273 \nL 44.698573 95.015151 \nL 54.442752 112.57999 \nL 64.186931 119.447697 \nL 73.93111 122.985852 \nL 83.675289 125.524952 \nL 93.419468 127.422271 \nL 103.163647 128.576482 \nL 112.907826 129.798843 \nL 122.652006 131.108273 \nL 132.396185 131.849648 \nL 142.140364 132.498955 \n\" style=\"fill:none;stroke:#1f77b4;stroke-linecap:square;stroke-width:1.5;\"/>\n   </g>\n   <g id=\"line2d_74\">\n    <path clip-path=\"url(#p26424d9d8b)\" d=\"M 49.633125 104.681288 \nL 69.163125 124.801766 \nL 88.693125 128.378626 \nL 108.223125 130.71482 \nL 127.753125 132.535131 \nL 147.283125 133.348636 \n\" style=\"fill:none;stroke:#ff7f0e;stroke-dasharray:5.55,2.4;stroke-dashoffset:0;stroke-width:1.5;\"/>\n   </g>\n   <g id=\"line2d_75\">\n    <path clip-path=\"url(#p26424d9d8b)\" d=\"M 49.633125 109.469849 \nL 69.163125 103.001203 \nL 88.693125 101.713694 \nL 108.223125 100.818035 \nL 127.753125 100.140071 \n\" style=\"fill:none;stroke:#2ca02c;stroke-dasharray:9.6,2.4,1.5,2.4;stroke-dashoffset:0;stroke-width:1.5;\"/>\n   </g>\n   <g id=\"line2d_76\">\n    <path clip-path=\"url(#p26424d9d8b)\" d=\"M 34.954394 13.377273 \nL 44.698573 95.015151 \nL 54.442752 112.57999 \nL 64.186931 119.447697 \nL 73.93111 122.985852 \nL 83.675289 125.524952 \nL 93.419468 127.422271 \nL 103.163647 128.576482 \nL 112.907826 129.798843 \nL 122.652006 131.108273 \nL 132.396185 131.849648 \nL 142.140364 132.498955 \n\" style=\"fill:none;stroke:#1f77b4;stroke-linecap:square;stroke-width:1.5;\"/>\n   </g>\n   <g id=\"line2d_77\">\n    <path clip-path=\"url(#p26424d9d8b)\" d=\"M 49.633125 104.681288 \nL 69.163125 124.801766 \nL 88.693125 128.378626 \nL 108.223125 130.71482 \nL 127.753125 132.535131 \nL 147.283125 133.348636 \n\" style=\"fill:none;stroke:#ff7f0e;stroke-dasharray:5.55,2.4;stroke-dashoffset:0;stroke-width:1.5;\"/>\n   </g>\n   <g id=\"line2d_78\">\n    <path clip-path=\"url(#p26424d9d8b)\" d=\"M 49.633125 109.469849 \nL 69.163125 103.001203 \nL 88.693125 101.713694 \nL 108.223125 100.818035 \nL 127.753125 100.140071 \nL 147.283125 99.77932 \n\" style=\"fill:none;stroke:#2ca02c;stroke-dasharray:9.6,2.4,1.5,2.4;stroke-dashoffset:0;stroke-width:1.5;\"/>\n   </g>\n   <g id=\"line2d_79\">\n    <path clip-path=\"url(#p26424d9d8b)\" d=\"M 34.954394 13.377273 \nL 44.698573 95.015151 \nL 54.442752 112.57999 \nL 64.186931 119.447697 \nL 73.93111 122.985852 \nL 83.675289 125.524952 \nL 93.419468 127.422271 \nL 103.163647 128.576482 \nL 112.907826 129.798843 \nL 122.652006 131.108273 \nL 132.396185 131.849648 \nL 142.140364 132.498955 \nL 151.884543 133.546514 \n\" style=\"fill:none;stroke:#1f77b4;stroke-linecap:square;stroke-width:1.5;\"/>\n   </g>\n   <g id=\"line2d_80\">\n    <path clip-path=\"url(#p26424d9d8b)\" d=\"M 49.633125 104.681288 \nL 69.163125 124.801766 \nL 88.693125 128.378626 \nL 108.223125 130.71482 \nL 127.753125 132.535131 \nL 147.283125 133.348636 \n\" style=\"fill:none;stroke:#ff7f0e;stroke-dasharray:5.55,2.4;stroke-dashoffset:0;stroke-width:1.5;\"/>\n   </g>\n   <g id=\"line2d_81\">\n    <path clip-path=\"url(#p26424d9d8b)\" d=\"M 49.633125 109.469849 \nL 69.163125 103.001203 \nL 88.693125 101.713694 \nL 108.223125 100.818035 \nL 127.753125 100.140071 \nL 147.283125 99.77932 \n\" style=\"fill:none;stroke:#2ca02c;stroke-dasharray:9.6,2.4,1.5,2.4;stroke-dashoffset:0;stroke-width:1.5;\"/>\n   </g>\n   <g id=\"line2d_82\">\n    <path clip-path=\"url(#p26424d9d8b)\" d=\"M 34.954394 13.377273 \nL 44.698573 95.015151 \nL 54.442752 112.57999 \nL 64.186931 119.447697 \nL 73.93111 122.985852 \nL 83.675289 125.524952 \nL 93.419468 127.422271 \nL 103.163647 128.576482 \nL 112.907826 129.798843 \nL 122.652006 131.108273 \nL 132.396185 131.849648 \nL 142.140364 132.498955 \nL 151.884543 133.546514 \nL 161.628722 133.702487 \n\" style=\"fill:none;stroke:#1f77b4;stroke-linecap:square;stroke-width:1.5;\"/>\n   </g>\n   <g id=\"line2d_83\">\n    <path clip-path=\"url(#p26424d9d8b)\" d=\"M 49.633125 104.681288 \nL 69.163125 124.801766 \nL 88.693125 128.378626 \nL 108.223125 130.71482 \nL 127.753125 132.535131 \nL 147.283125 133.348636 \n\" style=\"fill:none;stroke:#ff7f0e;stroke-dasharray:5.55,2.4;stroke-dashoffset:0;stroke-width:1.5;\"/>\n   </g>\n   <g id=\"line2d_84\">\n    <path clip-path=\"url(#p26424d9d8b)\" d=\"M 49.633125 109.469849 \nL 69.163125 103.001203 \nL 88.693125 101.713694 \nL 108.223125 100.818035 \nL 127.753125 100.140071 \nL 147.283125 99.77932 \n\" style=\"fill:none;stroke:#2ca02c;stroke-dasharray:9.6,2.4,1.5,2.4;stroke-dashoffset:0;stroke-width:1.5;\"/>\n   </g>\n   <g id=\"line2d_85\">\n    <path clip-path=\"url(#p26424d9d8b)\" d=\"M 34.954394 13.377273 \nL 44.698573 95.015151 \nL 54.442752 112.57999 \nL 64.186931 119.447697 \nL 73.93111 122.985852 \nL 83.675289 125.524952 \nL 93.419468 127.422271 \nL 103.163647 128.576482 \nL 112.907826 129.798843 \nL 122.652006 131.108273 \nL 132.396185 131.849648 \nL 142.140364 132.498955 \nL 151.884543 133.546514 \nL 161.628722 133.702487 \n\" style=\"fill:none;stroke:#1f77b4;stroke-linecap:square;stroke-width:1.5;\"/>\n   </g>\n   <g id=\"line2d_86\">\n    <path clip-path=\"url(#p26424d9d8b)\" d=\"M 49.633125 104.681288 \nL 69.163125 124.801766 \nL 88.693125 128.378626 \nL 108.223125 130.71482 \nL 127.753125 132.535131 \nL 147.283125 133.348636 \nL 166.813125 134.669327 \n\" style=\"fill:none;stroke:#ff7f0e;stroke-dasharray:5.55,2.4;stroke-dashoffset:0;stroke-width:1.5;\"/>\n   </g>\n   <g id=\"line2d_87\">\n    <path clip-path=\"url(#p26424d9d8b)\" d=\"M 49.633125 109.469849 \nL 69.163125 103.001203 \nL 88.693125 101.713694 \nL 108.223125 100.818035 \nL 127.753125 100.140071 \nL 147.283125 99.77932 \n\" style=\"fill:none;stroke:#2ca02c;stroke-dasharray:9.6,2.4,1.5,2.4;stroke-dashoffset:0;stroke-width:1.5;\"/>\n   </g>\n   <g id=\"line2d_88\">\n    <path clip-path=\"url(#p26424d9d8b)\" d=\"M 34.954394 13.377273 \nL 44.698573 95.015151 \nL 54.442752 112.57999 \nL 64.186931 119.447697 \nL 73.93111 122.985852 \nL 83.675289 125.524952 \nL 93.419468 127.422271 \nL 103.163647 128.576482 \nL 112.907826 129.798843 \nL 122.652006 131.108273 \nL 132.396185 131.849648 \nL 142.140364 132.498955 \nL 151.884543 133.546514 \nL 161.628722 133.702487 \n\" style=\"fill:none;stroke:#1f77b4;stroke-linecap:square;stroke-width:1.5;\"/>\n   </g>\n   <g id=\"line2d_89\">\n    <path clip-path=\"url(#p26424d9d8b)\" d=\"M 49.633125 104.681288 \nL 69.163125 124.801766 \nL 88.693125 128.378626 \nL 108.223125 130.71482 \nL 127.753125 132.535131 \nL 147.283125 133.348636 \nL 166.813125 134.669327 \n\" style=\"fill:none;stroke:#ff7f0e;stroke-dasharray:5.55,2.4;stroke-dashoffset:0;stroke-width:1.5;\"/>\n   </g>\n   <g id=\"line2d_90\">\n    <path clip-path=\"url(#p26424d9d8b)\" d=\"M 49.633125 109.469849 \nL 69.163125 103.001203 \nL 88.693125 101.713694 \nL 108.223125 100.818035 \nL 127.753125 100.140071 \nL 147.283125 99.77932 \nL 166.813125 99.36259 \n\" style=\"fill:none;stroke:#2ca02c;stroke-dasharray:9.6,2.4,1.5,2.4;stroke-dashoffset:0;stroke-width:1.5;\"/>\n   </g>\n   <g id=\"line2d_91\">\n    <path clip-path=\"url(#p26424d9d8b)\" d=\"M 34.954394 13.377273 \nL 44.698573 95.015151 \nL 54.442752 112.57999 \nL 64.186931 119.447697 \nL 73.93111 122.985852 \nL 83.675289 125.524952 \nL 93.419468 127.422271 \nL 103.163647 128.576482 \nL 112.907826 129.798843 \nL 122.652006 131.108273 \nL 132.396185 131.849648 \nL 142.140364 132.498955 \nL 151.884543 133.546514 \nL 161.628722 133.702487 \nL 171.372901 134.262991 \n\" style=\"fill:none;stroke:#1f77b4;stroke-linecap:square;stroke-width:1.5;\"/>\n   </g>\n   <g id=\"line2d_92\">\n    <path clip-path=\"url(#p26424d9d8b)\" d=\"M 49.633125 104.681288 \nL 69.163125 124.801766 \nL 88.693125 128.378626 \nL 108.223125 130.71482 \nL 127.753125 132.535131 \nL 147.283125 133.348636 \nL 166.813125 134.669327 \n\" style=\"fill:none;stroke:#ff7f0e;stroke-dasharray:5.55,2.4;stroke-dashoffset:0;stroke-width:1.5;\"/>\n   </g>\n   <g id=\"line2d_93\">\n    <path clip-path=\"url(#p26424d9d8b)\" d=\"M 49.633125 109.469849 \nL 69.163125 103.001203 \nL 88.693125 101.713694 \nL 108.223125 100.818035 \nL 127.753125 100.140071 \nL 147.283125 99.77932 \nL 166.813125 99.36259 \n\" style=\"fill:none;stroke:#2ca02c;stroke-dasharray:9.6,2.4,1.5,2.4;stroke-dashoffset:0;stroke-width:1.5;\"/>\n   </g>\n   <g id=\"line2d_94\">\n    <path clip-path=\"url(#p26424d9d8b)\" d=\"M 34.954394 13.377273 \nL 44.698573 95.015151 \nL 54.442752 112.57999 \nL 64.186931 119.447697 \nL 73.93111 122.985852 \nL 83.675289 125.524952 \nL 93.419468 127.422271 \nL 103.163647 128.576482 \nL 112.907826 129.798843 \nL 122.652006 131.108273 \nL 132.396185 131.849648 \nL 142.140364 132.498955 \nL 151.884543 133.546514 \nL 161.628722 133.702487 \nL 171.372901 134.262991 \nL 181.11708 134.920116 \n\" style=\"fill:none;stroke:#1f77b4;stroke-linecap:square;stroke-width:1.5;\"/>\n   </g>\n   <g id=\"line2d_95\">\n    <path clip-path=\"url(#p26424d9d8b)\" d=\"M 49.633125 104.681288 \nL 69.163125 124.801766 \nL 88.693125 128.378626 \nL 108.223125 130.71482 \nL 127.753125 132.535131 \nL 147.283125 133.348636 \nL 166.813125 134.669327 \n\" style=\"fill:none;stroke:#ff7f0e;stroke-dasharray:5.55,2.4;stroke-dashoffset:0;stroke-width:1.5;\"/>\n   </g>\n   <g id=\"line2d_96\">\n    <path clip-path=\"url(#p26424d9d8b)\" d=\"M 49.633125 109.469849 \nL 69.163125 103.001203 \nL 88.693125 101.713694 \nL 108.223125 100.818035 \nL 127.753125 100.140071 \nL 147.283125 99.77932 \nL 166.813125 99.36259 \n\" style=\"fill:none;stroke:#2ca02c;stroke-dasharray:9.6,2.4,1.5,2.4;stroke-dashoffset:0;stroke-width:1.5;\"/>\n   </g>\n   <g id=\"line2d_97\">\n    <path clip-path=\"url(#p26424d9d8b)\" d=\"M 34.954394 13.377273 \nL 44.698573 95.015151 \nL 54.442752 112.57999 \nL 64.186931 119.447697 \nL 73.93111 122.985852 \nL 83.675289 125.524952 \nL 93.419468 127.422271 \nL 103.163647 128.576482 \nL 112.907826 129.798843 \nL 122.652006 131.108273 \nL 132.396185 131.849648 \nL 142.140364 132.498955 \nL 151.884543 133.546514 \nL 161.628722 133.702487 \nL 171.372901 134.262991 \nL 181.11708 134.920116 \n\" style=\"fill:none;stroke:#1f77b4;stroke-linecap:square;stroke-width:1.5;\"/>\n   </g>\n   <g id=\"line2d_98\">\n    <path clip-path=\"url(#p26424d9d8b)\" d=\"M 49.633125 104.681288 \nL 69.163125 124.801766 \nL 88.693125 128.378626 \nL 108.223125 130.71482 \nL 127.753125 132.535131 \nL 147.283125 133.348636 \nL 166.813125 134.669327 \nL 186.343125 134.736595 \n\" style=\"fill:none;stroke:#ff7f0e;stroke-dasharray:5.55,2.4;stroke-dashoffset:0;stroke-width:1.5;\"/>\n   </g>\n   <g id=\"line2d_99\">\n    <path clip-path=\"url(#p26424d9d8b)\" d=\"M 49.633125 109.469849 \nL 69.163125 103.001203 \nL 88.693125 101.713694 \nL 108.223125 100.818035 \nL 127.753125 100.140071 \nL 147.283125 99.77932 \nL 166.813125 99.36259 \n\" style=\"fill:none;stroke:#2ca02c;stroke-dasharray:9.6,2.4,1.5,2.4;stroke-dashoffset:0;stroke-width:1.5;\"/>\n   </g>\n   <g id=\"line2d_100\">\n    <path clip-path=\"url(#p26424d9d8b)\" d=\"M 34.954394 13.377273 \nL 44.698573 95.015151 \nL 54.442752 112.57999 \nL 64.186931 119.447697 \nL 73.93111 122.985852 \nL 83.675289 125.524952 \nL 93.419468 127.422271 \nL 103.163647 128.576482 \nL 112.907826 129.798843 \nL 122.652006 131.108273 \nL 132.396185 131.849648 \nL 142.140364 132.498955 \nL 151.884543 133.546514 \nL 161.628722 133.702487 \nL 171.372901 134.262991 \nL 181.11708 134.920116 \n\" style=\"fill:none;stroke:#1f77b4;stroke-linecap:square;stroke-width:1.5;\"/>\n   </g>\n   <g id=\"line2d_101\">\n    <path clip-path=\"url(#p26424d9d8b)\" d=\"M 49.633125 104.681288 \nL 69.163125 124.801766 \nL 88.693125 128.378626 \nL 108.223125 130.71482 \nL 127.753125 132.535131 \nL 147.283125 133.348636 \nL 166.813125 134.669327 \nL 186.343125 134.736595 \n\" style=\"fill:none;stroke:#ff7f0e;stroke-dasharray:5.55,2.4;stroke-dashoffset:0;stroke-width:1.5;\"/>\n   </g>\n   <g id=\"line2d_102\">\n    <path clip-path=\"url(#p26424d9d8b)\" d=\"M 49.633125 109.469849 \nL 69.163125 103.001203 \nL 88.693125 101.713694 \nL 108.223125 100.818035 \nL 127.753125 100.140071 \nL 147.283125 99.77932 \nL 166.813125 99.36259 \nL 186.343125 99.269292 \n\" style=\"fill:none;stroke:#2ca02c;stroke-dasharray:9.6,2.4,1.5,2.4;stroke-dashoffset:0;stroke-width:1.5;\"/>\n   </g>\n   <g id=\"line2d_103\">\n    <path clip-path=\"url(#p26424d9d8b)\" d=\"M 34.954394 13.377273 \nL 44.698573 95.015151 \nL 54.442752 112.57999 \nL 64.186931 119.447697 \nL 73.93111 122.985852 \nL 83.675289 125.524952 \nL 93.419468 127.422271 \nL 103.163647 128.576482 \nL 112.907826 129.798843 \nL 122.652006 131.108273 \nL 132.396185 131.849648 \nL 142.140364 132.498955 \nL 151.884543 133.546514 \nL 161.628722 133.702487 \nL 171.372901 134.262991 \nL 181.11708 134.920116 \nL 190.861259 135.070954 \n\" style=\"fill:none;stroke:#1f77b4;stroke-linecap:square;stroke-width:1.5;\"/>\n   </g>\n   <g id=\"line2d_104\">\n    <path clip-path=\"url(#p26424d9d8b)\" d=\"M 49.633125 104.681288 \nL 69.163125 124.801766 \nL 88.693125 128.378626 \nL 108.223125 130.71482 \nL 127.753125 132.535131 \nL 147.283125 133.348636 \nL 166.813125 134.669327 \nL 186.343125 134.736595 \n\" style=\"fill:none;stroke:#ff7f0e;stroke-dasharray:5.55,2.4;stroke-dashoffset:0;stroke-width:1.5;\"/>\n   </g>\n   <g id=\"line2d_105\">\n    <path clip-path=\"url(#p26424d9d8b)\" d=\"M 49.633125 109.469849 \nL 69.163125 103.001203 \nL 88.693125 101.713694 \nL 108.223125 100.818035 \nL 127.753125 100.140071 \nL 147.283125 99.77932 \nL 166.813125 99.36259 \nL 186.343125 99.269292 \n\" style=\"fill:none;stroke:#2ca02c;stroke-dasharray:9.6,2.4,1.5,2.4;stroke-dashoffset:0;stroke-width:1.5;\"/>\n   </g>\n   <g id=\"line2d_106\">\n    <path clip-path=\"url(#p26424d9d8b)\" d=\"M 34.954394 13.377273 \nL 44.698573 95.015151 \nL 54.442752 112.57999 \nL 64.186931 119.447697 \nL 73.93111 122.985852 \nL 83.675289 125.524952 \nL 93.419468 127.422271 \nL 103.163647 128.576482 \nL 112.907826 129.798843 \nL 122.652006 131.108273 \nL 132.396185 131.849648 \nL 142.140364 132.498955 \nL 151.884543 133.546514 \nL 161.628722 133.702487 \nL 171.372901 134.262991 \nL 181.11708 134.920116 \nL 190.861259 135.070954 \nL 200.605438 136.105474 \n\" style=\"fill:none;stroke:#1f77b4;stroke-linecap:square;stroke-width:1.5;\"/>\n   </g>\n   <g id=\"line2d_107\">\n    <path clip-path=\"url(#p26424d9d8b)\" d=\"M 49.633125 104.681288 \nL 69.163125 124.801766 \nL 88.693125 128.378626 \nL 108.223125 130.71482 \nL 127.753125 132.535131 \nL 147.283125 133.348636 \nL 166.813125 134.669327 \nL 186.343125 134.736595 \n\" style=\"fill:none;stroke:#ff7f0e;stroke-dasharray:5.55,2.4;stroke-dashoffset:0;stroke-width:1.5;\"/>\n   </g>\n   <g id=\"line2d_108\">\n    <path clip-path=\"url(#p26424d9d8b)\" d=\"M 49.633125 109.469849 \nL 69.163125 103.001203 \nL 88.693125 101.713694 \nL 108.223125 100.818035 \nL 127.753125 100.140071 \nL 147.283125 99.77932 \nL 166.813125 99.36259 \nL 186.343125 99.269292 \n\" style=\"fill:none;stroke:#2ca02c;stroke-dasharray:9.6,2.4,1.5,2.4;stroke-dashoffset:0;stroke-width:1.5;\"/>\n   </g>\n   <g id=\"line2d_109\">\n    <path clip-path=\"url(#p26424d9d8b)\" d=\"M 34.954394 13.377273 \nL 44.698573 95.015151 \nL 54.442752 112.57999 \nL 64.186931 119.447697 \nL 73.93111 122.985852 \nL 83.675289 125.524952 \nL 93.419468 127.422271 \nL 103.163647 128.576482 \nL 112.907826 129.798843 \nL 122.652006 131.108273 \nL 132.396185 131.849648 \nL 142.140364 132.498955 \nL 151.884543 133.546514 \nL 161.628722 133.702487 \nL 171.372901 134.262991 \nL 181.11708 134.920116 \nL 190.861259 135.070954 \nL 200.605438 136.105474 \n\" style=\"fill:none;stroke:#1f77b4;stroke-linecap:square;stroke-width:1.5;\"/>\n   </g>\n   <g id=\"line2d_110\">\n    <path clip-path=\"url(#p26424d9d8b)\" d=\"M 49.633125 104.681288 \nL 69.163125 124.801766 \nL 88.693125 128.378626 \nL 108.223125 130.71482 \nL 127.753125 132.535131 \nL 147.283125 133.348636 \nL 166.813125 134.669327 \nL 186.343125 134.736595 \nL 205.873125 135.873765 \n\" style=\"fill:none;stroke:#ff7f0e;stroke-dasharray:5.55,2.4;stroke-dashoffset:0;stroke-width:1.5;\"/>\n   </g>\n   <g id=\"line2d_111\">\n    <path clip-path=\"url(#p26424d9d8b)\" d=\"M 49.633125 109.469849 \nL 69.163125 103.001203 \nL 88.693125 101.713694 \nL 108.223125 100.818035 \nL 127.753125 100.140071 \nL 147.283125 99.77932 \nL 166.813125 99.36259 \nL 186.343125 99.269292 \n\" style=\"fill:none;stroke:#2ca02c;stroke-dasharray:9.6,2.4,1.5,2.4;stroke-dashoffset:0;stroke-width:1.5;\"/>\n   </g>\n   <g id=\"line2d_112\">\n    <path clip-path=\"url(#p26424d9d8b)\" d=\"M 34.954394 13.377273 \nL 44.698573 95.015151 \nL 54.442752 112.57999 \nL 64.186931 119.447697 \nL 73.93111 122.985852 \nL 83.675289 125.524952 \nL 93.419468 127.422271 \nL 103.163647 128.576482 \nL 112.907826 129.798843 \nL 122.652006 131.108273 \nL 132.396185 131.849648 \nL 142.140364 132.498955 \nL 151.884543 133.546514 \nL 161.628722 133.702487 \nL 171.372901 134.262991 \nL 181.11708 134.920116 \nL 190.861259 135.070954 \nL 200.605438 136.105474 \n\" style=\"fill:none;stroke:#1f77b4;stroke-linecap:square;stroke-width:1.5;\"/>\n   </g>\n   <g id=\"line2d_113\">\n    <path clip-path=\"url(#p26424d9d8b)\" d=\"M 49.633125 104.681288 \nL 69.163125 124.801766 \nL 88.693125 128.378626 \nL 108.223125 130.71482 \nL 127.753125 132.535131 \nL 147.283125 133.348636 \nL 166.813125 134.669327 \nL 186.343125 134.736595 \nL 205.873125 135.873765 \n\" style=\"fill:none;stroke:#ff7f0e;stroke-dasharray:5.55,2.4;stroke-dashoffset:0;stroke-width:1.5;\"/>\n   </g>\n   <g id=\"line2d_114\">\n    <path clip-path=\"url(#p26424d9d8b)\" d=\"M 49.633125 109.469849 \nL 69.163125 103.001203 \nL 88.693125 101.713694 \nL 108.223125 100.818035 \nL 127.753125 100.140071 \nL 147.283125 99.77932 \nL 166.813125 99.36259 \nL 186.343125 99.269292 \nL 205.873125 98.784144 \n\" style=\"fill:none;stroke:#2ca02c;stroke-dasharray:9.6,2.4,1.5,2.4;stroke-dashoffset:0;stroke-width:1.5;\"/>\n   </g>\n   <g id=\"line2d_115\">\n    <path clip-path=\"url(#p26424d9d8b)\" d=\"M 34.954394 13.377273 \nL 44.698573 95.015151 \nL 54.442752 112.57999 \nL 64.186931 119.447697 \nL 73.93111 122.985852 \nL 83.675289 125.524952 \nL 93.419468 127.422271 \nL 103.163647 128.576482 \nL 112.907826 129.798843 \nL 122.652006 131.108273 \nL 132.396185 131.849648 \nL 142.140364 132.498955 \nL 151.884543 133.546514 \nL 161.628722 133.702487 \nL 171.372901 134.262991 \nL 181.11708 134.920116 \nL 190.861259 135.070954 \nL 200.605438 136.105474 \nL 210.349618 136.469853 \n\" style=\"fill:none;stroke:#1f77b4;stroke-linecap:square;stroke-width:1.5;\"/>\n   </g>\n   <g id=\"line2d_116\">\n    <path clip-path=\"url(#p26424d9d8b)\" d=\"M 49.633125 104.681288 \nL 69.163125 124.801766 \nL 88.693125 128.378626 \nL 108.223125 130.71482 \nL 127.753125 132.535131 \nL 147.283125 133.348636 \nL 166.813125 134.669327 \nL 186.343125 134.736595 \nL 205.873125 135.873765 \n\" style=\"fill:none;stroke:#ff7f0e;stroke-dasharray:5.55,2.4;stroke-dashoffset:0;stroke-width:1.5;\"/>\n   </g>\n   <g id=\"line2d_117\">\n    <path clip-path=\"url(#p26424d9d8b)\" d=\"M 49.633125 109.469849 \nL 69.163125 103.001203 \nL 88.693125 101.713694 \nL 108.223125 100.818035 \nL 127.753125 100.140071 \nL 147.283125 99.77932 \nL 166.813125 99.36259 \nL 186.343125 99.269292 \nL 205.873125 98.784144 \n\" style=\"fill:none;stroke:#2ca02c;stroke-dasharray:9.6,2.4,1.5,2.4;stroke-dashoffset:0;stroke-width:1.5;\"/>\n   </g>\n   <g id=\"line2d_118\">\n    <path clip-path=\"url(#p26424d9d8b)\" d=\"M 34.954394 13.377273 \nL 44.698573 95.015151 \nL 54.442752 112.57999 \nL 64.186931 119.447697 \nL 73.93111 122.985852 \nL 83.675289 125.524952 \nL 93.419468 127.422271 \nL 103.163647 128.576482 \nL 112.907826 129.798843 \nL 122.652006 131.108273 \nL 132.396185 131.849648 \nL 142.140364 132.498955 \nL 151.884543 133.546514 \nL 161.628722 133.702487 \nL 171.372901 134.262991 \nL 181.11708 134.920116 \nL 190.861259 135.070954 \nL 200.605438 136.105474 \nL 210.349618 136.469853 \nL 220.093797 136.390488 \n\" style=\"fill:none;stroke:#1f77b4;stroke-linecap:square;stroke-width:1.5;\"/>\n   </g>\n   <g id=\"line2d_119\">\n    <path clip-path=\"url(#p26424d9d8b)\" d=\"M 49.633125 104.681288 \nL 69.163125 124.801766 \nL 88.693125 128.378626 \nL 108.223125 130.71482 \nL 127.753125 132.535131 \nL 147.283125 133.348636 \nL 166.813125 134.669327 \nL 186.343125 134.736595 \nL 205.873125 135.873765 \n\" style=\"fill:none;stroke:#ff7f0e;stroke-dasharray:5.55,2.4;stroke-dashoffset:0;stroke-width:1.5;\"/>\n   </g>\n   <g id=\"line2d_120\">\n    <path clip-path=\"url(#p26424d9d8b)\" d=\"M 49.633125 109.469849 \nL 69.163125 103.001203 \nL 88.693125 101.713694 \nL 108.223125 100.818035 \nL 127.753125 100.140071 \nL 147.283125 99.77932 \nL 166.813125 99.36259 \nL 186.343125 99.269292 \nL 205.873125 98.784144 \n\" style=\"fill:none;stroke:#2ca02c;stroke-dasharray:9.6,2.4,1.5,2.4;stroke-dashoffset:0;stroke-width:1.5;\"/>\n   </g>\n   <g id=\"line2d_121\">\n    <path clip-path=\"url(#p26424d9d8b)\" d=\"M 34.954394 13.377273 \nL 44.698573 95.015151 \nL 54.442752 112.57999 \nL 64.186931 119.447697 \nL 73.93111 122.985852 \nL 83.675289 125.524952 \nL 93.419468 127.422271 \nL 103.163647 128.576482 \nL 112.907826 129.798843 \nL 122.652006 131.108273 \nL 132.396185 131.849648 \nL 142.140364 132.498955 \nL 151.884543 133.546514 \nL 161.628722 133.702487 \nL 171.372901 134.262991 \nL 181.11708 134.920116 \nL 190.861259 135.070954 \nL 200.605438 136.105474 \nL 210.349618 136.469853 \nL 220.093797 136.390488 \n\" style=\"fill:none;stroke:#1f77b4;stroke-linecap:square;stroke-width:1.5;\"/>\n   </g>\n   <g id=\"line2d_122\">\n    <path clip-path=\"url(#p26424d9d8b)\" d=\"M 49.633125 104.681288 \nL 69.163125 124.801766 \nL 88.693125 128.378626 \nL 108.223125 130.71482 \nL 127.753125 132.535131 \nL 147.283125 133.348636 \nL 166.813125 134.669327 \nL 186.343125 134.736595 \nL 205.873125 135.873765 \nL 225.403125 136.922727 \n\" style=\"fill:none;stroke:#ff7f0e;stroke-dasharray:5.55,2.4;stroke-dashoffset:0;stroke-width:1.5;\"/>\n   </g>\n   <g id=\"line2d_123\">\n    <path clip-path=\"url(#p26424d9d8b)\" d=\"M 49.633125 109.469849 \nL 69.163125 103.001203 \nL 88.693125 101.713694 \nL 108.223125 100.818035 \nL 127.753125 100.140071 \nL 147.283125 99.77932 \nL 166.813125 99.36259 \nL 186.343125 99.269292 \nL 205.873125 98.784144 \n\" style=\"fill:none;stroke:#2ca02c;stroke-dasharray:9.6,2.4,1.5,2.4;stroke-dashoffset:0;stroke-width:1.5;\"/>\n   </g>\n   <g id=\"line2d_124\">\n    <path clip-path=\"url(#p26424d9d8b)\" d=\"M 34.954394 13.377273 \nL 44.698573 95.015151 \nL 54.442752 112.57999 \nL 64.186931 119.447697 \nL 73.93111 122.985852 \nL 83.675289 125.524952 \nL 93.419468 127.422271 \nL 103.163647 128.576482 \nL 112.907826 129.798843 \nL 122.652006 131.108273 \nL 132.396185 131.849648 \nL 142.140364 132.498955 \nL 151.884543 133.546514 \nL 161.628722 133.702487 \nL 171.372901 134.262991 \nL 181.11708 134.920116 \nL 190.861259 135.070954 \nL 200.605438 136.105474 \nL 210.349618 136.469853 \nL 220.093797 136.390488 \n\" style=\"fill:none;stroke:#1f77b4;stroke-linecap:square;stroke-width:1.5;\"/>\n   </g>\n   <g id=\"line2d_125\">\n    <path clip-path=\"url(#p26424d9d8b)\" d=\"M 49.633125 104.681288 \nL 69.163125 124.801766 \nL 88.693125 128.378626 \nL 108.223125 130.71482 \nL 127.753125 132.535131 \nL 147.283125 133.348636 \nL 166.813125 134.669327 \nL 186.343125 134.736595 \nL 205.873125 135.873765 \nL 225.403125 136.922727 \n\" style=\"fill:none;stroke:#ff7f0e;stroke-dasharray:5.55,2.4;stroke-dashoffset:0;stroke-width:1.5;\"/>\n   </g>\n   <g id=\"line2d_126\">\n    <path clip-path=\"url(#p26424d9d8b)\" d=\"M 49.633125 109.469849 \nL 69.163125 103.001203 \nL 88.693125 101.713694 \nL 108.223125 100.818035 \nL 127.753125 100.140071 \nL 147.283125 99.77932 \nL 166.813125 99.36259 \nL 186.343125 99.269292 \nL 205.873125 98.784144 \nL 225.403125 98.572669 \n\" style=\"fill:none;stroke:#2ca02c;stroke-dasharray:9.6,2.4,1.5,2.4;stroke-dashoffset:0;stroke-width:1.5;\"/>\n   </g>\n   <g id=\"patch_3\">\n    <path d=\"M 30.103125 143.1 \nL 30.103125 7.2 \n\" style=\"fill:none;stroke:#000000;stroke-linecap:square;stroke-linejoin:miter;stroke-width:0.8;\"/>\n   </g>\n   <g id=\"patch_4\">\n    <path d=\"M 225.403125 143.1 \nL 225.403125 7.2 \n\" style=\"fill:none;stroke:#000000;stroke-linecap:square;stroke-linejoin:miter;stroke-width:0.8;\"/>\n   </g>\n   <g id=\"patch_5\">\n    <path d=\"M 30.103125 143.1 \nL 225.403125 143.1 \n\" style=\"fill:none;stroke:#000000;stroke-linecap:square;stroke-linejoin:miter;stroke-width:0.8;\"/>\n   </g>\n   <g id=\"patch_6\">\n    <path d=\"M 30.103125 7.2 \nL 225.403125 7.2 \n\" style=\"fill:none;stroke:#000000;stroke-linecap:square;stroke-linejoin:miter;stroke-width:0.8;\"/>\n   </g>\n   <g id=\"legend_1\">\n    <g id=\"patch_7\">\n     <path d=\"M 138.8125 60.06875 \nL 218.403125 60.06875 \nQ 220.403125 60.06875 220.403125 58.06875 \nL 220.403125 14.2 \nQ 220.403125 12.2 218.403125 12.2 \nL 138.8125 12.2 \nQ 136.8125 12.2 136.8125 14.2 \nL 136.8125 58.06875 \nQ 136.8125 60.06875 138.8125 60.06875 \nz\n\" style=\"fill:#ffffff;opacity:0.8;stroke:#cccccc;stroke-linejoin:miter;\"/>\n    </g>\n    <g id=\"line2d_127\">\n     <path d=\"M 140.8125 20.298437 \nL 160.8125 20.298437 \n\" style=\"fill:none;stroke:#1f77b4;stroke-linecap:square;stroke-width:1.5;\"/>\n    </g>\n    <g id=\"line2d_128\"/>\n    <g id=\"text_12\">\n     <!-- train_loss -->\n     <defs>\n      <path d=\"M 18.3125 70.21875 \nL 18.3125 54.6875 \nL 36.8125 54.6875 \nL 36.8125 47.703125 \nL 18.3125 47.703125 \nL 18.3125 18.015625 \nQ 18.3125 11.328125 20.140625 9.421875 \nQ 21.96875 7.515625 27.59375 7.515625 \nL 36.8125 7.515625 \nL 36.8125 0 \nL 27.59375 0 \nQ 17.1875 0 13.234375 3.875 \nQ 9.28125 7.765625 9.28125 18.015625 \nL 9.28125 47.703125 \nL 2.6875 47.703125 \nL 2.6875 54.6875 \nL 9.28125 54.6875 \nL 9.28125 70.21875 \nz\n\" id=\"DejaVuSans-116\"/>\n      <path d=\"M 41.109375 46.296875 \nQ 39.59375 47.171875 37.8125 47.578125 \nQ 36.03125 48 33.890625 48 \nQ 26.265625 48 22.1875 43.046875 \nQ 18.109375 38.09375 18.109375 28.8125 \nL 18.109375 0 \nL 9.078125 0 \nL 9.078125 54.6875 \nL 18.109375 54.6875 \nL 18.109375 46.1875 \nQ 20.953125 51.171875 25.484375 53.578125 \nQ 30.03125 56 36.53125 56 \nQ 37.453125 56 38.578125 55.875 \nQ 39.703125 55.765625 41.0625 55.515625 \nz\n\" id=\"DejaVuSans-114\"/>\n      <path d=\"M 34.28125 27.484375 \nQ 23.390625 27.484375 19.1875 25 \nQ 14.984375 22.515625 14.984375 16.5 \nQ 14.984375 11.71875 18.140625 8.90625 \nQ 21.296875 6.109375 26.703125 6.109375 \nQ 34.1875 6.109375 38.703125 11.40625 \nQ 43.21875 16.703125 43.21875 25.484375 \nL 43.21875 27.484375 \nz\nM 52.203125 31.203125 \nL 52.203125 0 \nL 43.21875 0 \nL 43.21875 8.296875 \nQ 40.140625 3.328125 35.546875 0.953125 \nQ 30.953125 -1.421875 24.3125 -1.421875 \nQ 15.921875 -1.421875 10.953125 3.296875 \nQ 6 8.015625 6 15.921875 \nQ 6 25.140625 12.171875 29.828125 \nQ 18.359375 34.515625 30.609375 34.515625 \nL 43.21875 34.515625 \nL 43.21875 35.40625 \nQ 43.21875 41.609375 39.140625 45 \nQ 35.0625 48.390625 27.6875 48.390625 \nQ 23 48.390625 18.546875 47.265625 \nQ 14.109375 46.140625 10.015625 43.890625 \nL 10.015625 52.203125 \nQ 14.9375 54.109375 19.578125 55.046875 \nQ 24.21875 56 28.609375 56 \nQ 40.484375 56 46.34375 49.84375 \nQ 52.203125 43.703125 52.203125 31.203125 \nz\n\" id=\"DejaVuSans-97\"/>\n      <path d=\"M 9.421875 54.6875 \nL 18.40625 54.6875 \nL 18.40625 0 \nL 9.421875 0 \nz\nM 9.421875 75.984375 \nL 18.40625 75.984375 \nL 18.40625 64.59375 \nL 9.421875 64.59375 \nz\n\" id=\"DejaVuSans-105\"/>\n      <path d=\"M 54.890625 33.015625 \nL 54.890625 0 \nL 45.90625 0 \nL 45.90625 32.71875 \nQ 45.90625 40.484375 42.875 44.328125 \nQ 39.84375 48.1875 33.796875 48.1875 \nQ 26.515625 48.1875 22.3125 43.546875 \nQ 18.109375 38.921875 18.109375 30.90625 \nL 18.109375 0 \nL 9.078125 0 \nL 9.078125 54.6875 \nL 18.109375 54.6875 \nL 18.109375 46.1875 \nQ 21.34375 51.125 25.703125 53.5625 \nQ 30.078125 56 35.796875 56 \nQ 45.21875 56 50.046875 50.171875 \nQ 54.890625 44.34375 54.890625 33.015625 \nz\n\" id=\"DejaVuSans-110\"/>\n      <path d=\"M 50.984375 -16.609375 \nL 50.984375 -23.578125 \nL -0.984375 -23.578125 \nL -0.984375 -16.609375 \nz\n\" id=\"DejaVuSans-95\"/>\n      <path d=\"M 9.421875 75.984375 \nL 18.40625 75.984375 \nL 18.40625 0 \nL 9.421875 0 \nz\n\" id=\"DejaVuSans-108\"/>\n      <path d=\"M 44.28125 53.078125 \nL 44.28125 44.578125 \nQ 40.484375 46.53125 36.375 47.5 \nQ 32.28125 48.484375 27.875 48.484375 \nQ 21.1875 48.484375 17.84375 46.4375 \nQ 14.5 44.390625 14.5 40.28125 \nQ 14.5 37.15625 16.890625 35.375 \nQ 19.28125 33.59375 26.515625 31.984375 \nL 29.59375 31.296875 \nQ 39.15625 29.25 43.1875 25.515625 \nQ 47.21875 21.78125 47.21875 15.09375 \nQ 47.21875 7.46875 41.1875 3.015625 \nQ 35.15625 -1.421875 24.609375 -1.421875 \nQ 20.21875 -1.421875 15.453125 -0.5625 \nQ 10.6875 0.296875 5.421875 2 \nL 5.421875 11.28125 \nQ 10.40625 8.6875 15.234375 7.390625 \nQ 20.0625 6.109375 24.8125 6.109375 \nQ 31.15625 6.109375 34.5625 8.28125 \nQ 37.984375 10.453125 37.984375 14.40625 \nQ 37.984375 18.0625 35.515625 20.015625 \nQ 33.0625 21.96875 24.703125 23.78125 \nL 21.578125 24.515625 \nQ 13.234375 26.265625 9.515625 29.90625 \nQ 5.8125 33.546875 5.8125 39.890625 \nQ 5.8125 47.609375 11.28125 51.796875 \nQ 16.75 56 26.8125 56 \nQ 31.78125 56 36.171875 55.265625 \nQ 40.578125 54.546875 44.28125 53.078125 \nz\n\" id=\"DejaVuSans-115\"/>\n     </defs>\n     <g transform=\"translate(168.8125 23.798437)scale(0.1 -0.1)\">\n      <use xlink:href=\"#DejaVuSans-116\"/>\n      <use x=\"39.208984\" xlink:href=\"#DejaVuSans-114\"/>\n      <use x=\"80.322266\" xlink:href=\"#DejaVuSans-97\"/>\n      <use x=\"141.601562\" xlink:href=\"#DejaVuSans-105\"/>\n      <use x=\"169.384766\" xlink:href=\"#DejaVuSans-110\"/>\n      <use x=\"232.763672\" xlink:href=\"#DejaVuSans-95\"/>\n      <use x=\"282.763672\" xlink:href=\"#DejaVuSans-108\"/>\n      <use x=\"310.546875\" xlink:href=\"#DejaVuSans-111\"/>\n      <use x=\"371.728516\" xlink:href=\"#DejaVuSans-115\"/>\n      <use x=\"423.828125\" xlink:href=\"#DejaVuSans-115\"/>\n     </g>\n    </g>\n    <g id=\"line2d_129\">\n     <path d=\"M 140.8125 35.254687 \nL 160.8125 35.254687 \n\" style=\"fill:none;stroke:#ff7f0e;stroke-dasharray:5.55,2.4;stroke-dashoffset:0;stroke-width:1.5;\"/>\n    </g>\n    <g id=\"line2d_130\"/>\n    <g id=\"text_13\">\n     <!-- val_loss -->\n     <defs>\n      <path d=\"M 2.984375 54.6875 \nL 12.5 54.6875 \nL 29.59375 8.796875 \nL 46.6875 54.6875 \nL 56.203125 54.6875 \nL 35.6875 0 \nL 23.484375 0 \nz\n\" id=\"DejaVuSans-118\"/>\n     </defs>\n     <g transform=\"translate(168.8125 38.754687)scale(0.1 -0.1)\">\n      <use xlink:href=\"#DejaVuSans-118\"/>\n      <use x=\"59.179688\" xlink:href=\"#DejaVuSans-97\"/>\n      <use x=\"120.458984\" xlink:href=\"#DejaVuSans-108\"/>\n      <use x=\"148.242188\" xlink:href=\"#DejaVuSans-95\"/>\n      <use x=\"198.242188\" xlink:href=\"#DejaVuSans-108\"/>\n      <use x=\"226.025391\" xlink:href=\"#DejaVuSans-111\"/>\n      <use x=\"287.207031\" xlink:href=\"#DejaVuSans-115\"/>\n      <use x=\"339.306641\" xlink:href=\"#DejaVuSans-115\"/>\n     </g>\n    </g>\n    <g id=\"line2d_131\">\n     <path d=\"M 140.8125 50.210937 \nL 160.8125 50.210937 \n\" style=\"fill:none;stroke:#2ca02c;stroke-dasharray:9.6,2.4,1.5,2.4;stroke-dashoffset:0;stroke-width:1.5;\"/>\n    </g>\n    <g id=\"line2d_132\"/>\n    <g id=\"text_14\">\n     <!-- val_acc -->\n     <g transform=\"translate(168.8125 53.710937)scale(0.1 -0.1)\">\n      <use xlink:href=\"#DejaVuSans-118\"/>\n      <use x=\"59.179688\" xlink:href=\"#DejaVuSans-97\"/>\n      <use x=\"120.458984\" xlink:href=\"#DejaVuSans-108\"/>\n      <use x=\"148.242188\" xlink:href=\"#DejaVuSans-95\"/>\n      <use x=\"198.242188\" xlink:href=\"#DejaVuSans-97\"/>\n      <use x=\"259.521484\" xlink:href=\"#DejaVuSans-99\"/>\n      <use x=\"314.501953\" xlink:href=\"#DejaVuSans-99\"/>\n     </g>\n    </g>\n   </g>\n  </g>\n </g>\n <defs>\n  <clipPath id=\"p26424d9d8b\">\n   <rect height=\"135.9\" width=\"195.3\" x=\"30.103125\" y=\"7.2\"/>\n  </clipPath>\n </defs>\n</svg>\n"
          },
          "metadata": {
            "needs_background": "light"
          }
        }
      ]
    },
    {
      "cell_type": "markdown",
      "source": [
        "## 8.3 Network in network (NiN)"
      ],
      "metadata": {
        "id": "gU_YpE5meL6v"
      }
    },
    {
      "cell_type": "markdown",
      "source": [
        "### 8.3.1 NiN Blocks"
      ],
      "metadata": {
        "id": "11i2ivuPeRye"
      }
    },
    {
      "cell_type": "code",
      "source": [
        "import torch\n",
        "from torch import nn\n",
        "from d2l import torch as d2l"
      ],
      "metadata": {
        "id": "obZ3fzjNeVRx"
      },
      "execution_count": null,
      "outputs": []
    },
    {
      "cell_type": "code",
      "source": [
        "def nin_block(out_channels, kernel_size, strides, padding):\n",
        "  return nn.Sequential(\n",
        "      nn.LazyConv2d(out_channels, kernel_size, strides, padding), nn.ReLU(),\n",
        "      nn.LazyConv2d(out_channels, kernel_size=1), nn.ReLU(),\n",
        "      nn.LazyConv2d(out_channels, kernel_size=1), nn.ReLU())"
      ],
      "metadata": {
        "id": "ldnUL5WyehPG"
      },
      "execution_count": null,
      "outputs": []
    },
    {
      "cell_type": "markdown",
      "source": [
        "### 8.3.2 NiN Model"
      ],
      "metadata": {
        "id": "TbCDyKQyfFXD"
      }
    },
    {
      "cell_type": "code",
      "source": [
        "class NiN(d2l.Classifier):\n",
        "  def __init__(self, lr=0.1, num_classes=10):\n",
        "    super().__init__()\n",
        "    self.save_hyperparameters()\n",
        "\n",
        "    self.net = nn.Sequential(\n",
        "        nin_block(96, kernel_size=11, strides=4, padding=0),\n",
        "        nn.MaxPool2d(3, stride=2),\n",
        "        nin_block(256, kernel_size=5, strides=1, padding=2),\n",
        "        nn.MaxPool2d(3, stride=2),\n",
        "        nin_block(384, kernel_size=3, strides=1, padding=1),\n",
        "        nn.MaxPool2d(3, stride=2),\n",
        "        nn.Dropout(0.5),\n",
        "        nin_block(num_classes, kernel_size=3, strides=1, padding=1),\n",
        "        nn.AdaptiveAvgPool2d((1, 1)),\n",
        "        nn.Flatten())\n",
        "    self.net.apply(d2l.init_cnn)\n"
      ],
      "metadata": {
        "id": "GRpInkG7fKAV"
      },
      "execution_count": null,
      "outputs": []
    },
    {
      "cell_type": "code",
      "source": [
        "NiN().layer_summary((1, 1, 224, 224))"
      ],
      "metadata": {
        "colab": {
          "base_uri": "https://localhost:8080/"
        },
        "id": "NTchYxjWg6Qw",
        "outputId": "df81e2f5-986d-4338-e6f7-b2741333c833"
      },
      "execution_count": null,
      "outputs": [
        {
          "output_type": "stream",
          "name": "stdout",
          "text": [
            "Sequential output shape:\t torch.Size([1, 96, 54, 54])\n",
            "MaxPool2d output shape:\t torch.Size([1, 96, 26, 26])\n",
            "Sequential output shape:\t torch.Size([1, 256, 26, 26])\n",
            "MaxPool2d output shape:\t torch.Size([1, 256, 12, 12])\n",
            "Sequential output shape:\t torch.Size([1, 384, 12, 12])\n",
            "MaxPool2d output shape:\t torch.Size([1, 384, 5, 5])\n",
            "Dropout output shape:\t torch.Size([1, 384, 5, 5])\n",
            "Sequential output shape:\t torch.Size([1, 10, 5, 5])\n",
            "AdaptiveAvgPool2d output shape:\t torch.Size([1, 10, 1, 1])\n",
            "Flatten output shape:\t torch.Size([1, 10])\n"
          ]
        },
        {
          "output_type": "stream",
          "name": "stderr",
          "text": [
            "/usr/local/lib/python3.8/dist-packages/torch/nn/modules/lazy.py:180: UserWarning: Lazy modules are a new feature under heavy development so changes to the API or functionality can happen at any moment.\n",
            "  warnings.warn('Lazy modules are a new feature under heavy development '\n"
          ]
        }
      ]
    },
    {
      "cell_type": "markdown",
      "source": [
        "### 8.3.3 Training"
      ],
      "metadata": {
        "id": "V374a0TRhZ_m"
      }
    },
    {
      "cell_type": "code",
      "source": [
        "model = NiN(lr=0.05)\n",
        "trainer = d2l.Trainer(max_epochs=10, num_gpus=1)\n",
        "data = d2l.FashionMNIST(batch_size=128, resize=(224, 224))\n",
        "model.apply_init([next(iter(data.get_dataloader(True)))[0]], d2l.init_cnn)\n",
        "trainer.fit(model, data)"
      ],
      "metadata": {
        "colab": {
          "base_uri": "https://localhost:8080/",
          "height": 262
        },
        "id": "Yd0jYcFUhcs1",
        "outputId": "388375f9-f3d4-4e5c-f46a-444da424fdf0"
      },
      "execution_count": null,
      "outputs": [
        {
          "output_type": "display_data",
          "data": {
            "text/plain": [
              "<Figure size 252x180 with 1 Axes>"
            ],
            "image/svg+xml": "<?xml version=\"1.0\" encoding=\"utf-8\" standalone=\"no\"?>\n<!DOCTYPE svg PUBLIC \"-//W3C//DTD SVG 1.1//EN\"\n  \"http://www.w3.org/Graphics/SVG/1.1/DTD/svg11.dtd\">\n<!-- Created with matplotlib (https://matplotlib.org/) -->\n<svg height=\"180.65625pt\" version=\"1.1\" viewBox=\"0 0 238.965625 180.65625\" width=\"238.965625pt\" xmlns=\"http://www.w3.org/2000/svg\" xmlns:xlink=\"http://www.w3.org/1999/xlink\">\n <defs>\n  <style type=\"text/css\">\n*{stroke-linecap:butt;stroke-linejoin:round;}\n  </style>\n </defs>\n <g id=\"figure_1\">\n  <g id=\"patch_1\">\n   <path d=\"M 0 180.65625 \nL 238.965625 180.65625 \nL 238.965625 0 \nL 0 0 \nz\n\" style=\"fill:none;\"/>\n  </g>\n  <g id=\"axes_1\">\n   <g id=\"patch_2\">\n    <path d=\"M 30.103125 143.1 \nL 225.403125 143.1 \nL 225.403125 7.2 \nL 30.103125 7.2 \nz\n\" style=\"fill:#ffffff;\"/>\n   </g>\n   <g id=\"matplotlib.axis_1\">\n    <g id=\"xtick_1\">\n     <g id=\"line2d_1\">\n      <defs>\n       <path d=\"M 0 0 \nL 0 3.5 \n\" id=\"m44a1fe7af3\" style=\"stroke:#000000;stroke-width:0.8;\"/>\n      </defs>\n      <g>\n       <use style=\"stroke:#000000;stroke-width:0.8;\" x=\"30.103125\" xlink:href=\"#m44a1fe7af3\" y=\"143.1\"/>\n      </g>\n     </g>\n     <g id=\"text_1\">\n      <!-- 0 -->\n      <defs>\n       <path d=\"M 31.78125 66.40625 \nQ 24.171875 66.40625 20.328125 58.90625 \nQ 16.5 51.421875 16.5 36.375 \nQ 16.5 21.390625 20.328125 13.890625 \nQ 24.171875 6.390625 31.78125 6.390625 \nQ 39.453125 6.390625 43.28125 13.890625 \nQ 47.125 21.390625 47.125 36.375 \nQ 47.125 51.421875 43.28125 58.90625 \nQ 39.453125 66.40625 31.78125 66.40625 \nz\nM 31.78125 74.21875 \nQ 44.046875 74.21875 50.515625 64.515625 \nQ 56.984375 54.828125 56.984375 36.375 \nQ 56.984375 17.96875 50.515625 8.265625 \nQ 44.046875 -1.421875 31.78125 -1.421875 \nQ 19.53125 -1.421875 13.0625 8.265625 \nQ 6.59375 17.96875 6.59375 36.375 \nQ 6.59375 54.828125 13.0625 64.515625 \nQ 19.53125 74.21875 31.78125 74.21875 \nz\n\" id=\"DejaVuSans-48\"/>\n      </defs>\n      <g transform=\"translate(26.921875 157.698438)scale(0.1 -0.1)\">\n       <use xlink:href=\"#DejaVuSans-48\"/>\n      </g>\n     </g>\n    </g>\n    <g id=\"xtick_2\">\n     <g id=\"line2d_2\">\n      <g>\n       <use style=\"stroke:#000000;stroke-width:0.8;\" x=\"69.163125\" xlink:href=\"#m44a1fe7af3\" y=\"143.1\"/>\n      </g>\n     </g>\n     <g id=\"text_2\">\n      <!-- 2 -->\n      <defs>\n       <path d=\"M 19.1875 8.296875 \nL 53.609375 8.296875 \nL 53.609375 0 \nL 7.328125 0 \nL 7.328125 8.296875 \nQ 12.9375 14.109375 22.625 23.890625 \nQ 32.328125 33.6875 34.8125 36.53125 \nQ 39.546875 41.84375 41.421875 45.53125 \nQ 43.3125 49.21875 43.3125 52.78125 \nQ 43.3125 58.59375 39.234375 62.25 \nQ 35.15625 65.921875 28.609375 65.921875 \nQ 23.96875 65.921875 18.8125 64.3125 \nQ 13.671875 62.703125 7.8125 59.421875 \nL 7.8125 69.390625 \nQ 13.765625 71.78125 18.9375 73 \nQ 24.125 74.21875 28.421875 74.21875 \nQ 39.75 74.21875 46.484375 68.546875 \nQ 53.21875 62.890625 53.21875 53.421875 \nQ 53.21875 48.921875 51.53125 44.890625 \nQ 49.859375 40.875 45.40625 35.40625 \nQ 44.1875 33.984375 37.640625 27.21875 \nQ 31.109375 20.453125 19.1875 8.296875 \nz\n\" id=\"DejaVuSans-50\"/>\n      </defs>\n      <g transform=\"translate(65.981875 157.698438)scale(0.1 -0.1)\">\n       <use xlink:href=\"#DejaVuSans-50\"/>\n      </g>\n     </g>\n    </g>\n    <g id=\"xtick_3\">\n     <g id=\"line2d_3\">\n      <g>\n       <use style=\"stroke:#000000;stroke-width:0.8;\" x=\"108.223125\" xlink:href=\"#m44a1fe7af3\" y=\"143.1\"/>\n      </g>\n     </g>\n     <g id=\"text_3\">\n      <!-- 4 -->\n      <defs>\n       <path d=\"M 37.796875 64.3125 \nL 12.890625 25.390625 \nL 37.796875 25.390625 \nz\nM 35.203125 72.90625 \nL 47.609375 72.90625 \nL 47.609375 25.390625 \nL 58.015625 25.390625 \nL 58.015625 17.1875 \nL 47.609375 17.1875 \nL 47.609375 0 \nL 37.796875 0 \nL 37.796875 17.1875 \nL 4.890625 17.1875 \nL 4.890625 26.703125 \nz\n\" id=\"DejaVuSans-52\"/>\n      </defs>\n      <g transform=\"translate(105.041875 157.698438)scale(0.1 -0.1)\">\n       <use xlink:href=\"#DejaVuSans-52\"/>\n      </g>\n     </g>\n    </g>\n    <g id=\"xtick_4\">\n     <g id=\"line2d_4\">\n      <g>\n       <use style=\"stroke:#000000;stroke-width:0.8;\" x=\"147.283125\" xlink:href=\"#m44a1fe7af3\" y=\"143.1\"/>\n      </g>\n     </g>\n     <g id=\"text_4\">\n      <!-- 6 -->\n      <defs>\n       <path d=\"M 33.015625 40.375 \nQ 26.375 40.375 22.484375 35.828125 \nQ 18.609375 31.296875 18.609375 23.390625 \nQ 18.609375 15.53125 22.484375 10.953125 \nQ 26.375 6.390625 33.015625 6.390625 \nQ 39.65625 6.390625 43.53125 10.953125 \nQ 47.40625 15.53125 47.40625 23.390625 \nQ 47.40625 31.296875 43.53125 35.828125 \nQ 39.65625 40.375 33.015625 40.375 \nz\nM 52.59375 71.296875 \nL 52.59375 62.3125 \nQ 48.875 64.0625 45.09375 64.984375 \nQ 41.3125 65.921875 37.59375 65.921875 \nQ 27.828125 65.921875 22.671875 59.328125 \nQ 17.53125 52.734375 16.796875 39.40625 \nQ 19.671875 43.65625 24.015625 45.921875 \nQ 28.375 48.1875 33.59375 48.1875 \nQ 44.578125 48.1875 50.953125 41.515625 \nQ 57.328125 34.859375 57.328125 23.390625 \nQ 57.328125 12.15625 50.6875 5.359375 \nQ 44.046875 -1.421875 33.015625 -1.421875 \nQ 20.359375 -1.421875 13.671875 8.265625 \nQ 6.984375 17.96875 6.984375 36.375 \nQ 6.984375 53.65625 15.1875 63.9375 \nQ 23.390625 74.21875 37.203125 74.21875 \nQ 40.921875 74.21875 44.703125 73.484375 \nQ 48.484375 72.75 52.59375 71.296875 \nz\n\" id=\"DejaVuSans-54\"/>\n      </defs>\n      <g transform=\"translate(144.101875 157.698438)scale(0.1 -0.1)\">\n       <use xlink:href=\"#DejaVuSans-54\"/>\n      </g>\n     </g>\n    </g>\n    <g id=\"xtick_5\">\n     <g id=\"line2d_5\">\n      <g>\n       <use style=\"stroke:#000000;stroke-width:0.8;\" x=\"186.343125\" xlink:href=\"#m44a1fe7af3\" y=\"143.1\"/>\n      </g>\n     </g>\n     <g id=\"text_5\">\n      <!-- 8 -->\n      <defs>\n       <path d=\"M 31.78125 34.625 \nQ 24.75 34.625 20.71875 30.859375 \nQ 16.703125 27.09375 16.703125 20.515625 \nQ 16.703125 13.921875 20.71875 10.15625 \nQ 24.75 6.390625 31.78125 6.390625 \nQ 38.8125 6.390625 42.859375 10.171875 \nQ 46.921875 13.96875 46.921875 20.515625 \nQ 46.921875 27.09375 42.890625 30.859375 \nQ 38.875 34.625 31.78125 34.625 \nz\nM 21.921875 38.8125 \nQ 15.578125 40.375 12.03125 44.71875 \nQ 8.5 49.078125 8.5 55.328125 \nQ 8.5 64.0625 14.71875 69.140625 \nQ 20.953125 74.21875 31.78125 74.21875 \nQ 42.671875 74.21875 48.875 69.140625 \nQ 55.078125 64.0625 55.078125 55.328125 \nQ 55.078125 49.078125 51.53125 44.71875 \nQ 48 40.375 41.703125 38.8125 \nQ 48.828125 37.15625 52.796875 32.3125 \nQ 56.78125 27.484375 56.78125 20.515625 \nQ 56.78125 9.90625 50.3125 4.234375 \nQ 43.84375 -1.421875 31.78125 -1.421875 \nQ 19.734375 -1.421875 13.25 4.234375 \nQ 6.78125 9.90625 6.78125 20.515625 \nQ 6.78125 27.484375 10.78125 32.3125 \nQ 14.796875 37.15625 21.921875 38.8125 \nz\nM 18.3125 54.390625 \nQ 18.3125 48.734375 21.84375 45.5625 \nQ 25.390625 42.390625 31.78125 42.390625 \nQ 38.140625 42.390625 41.71875 45.5625 \nQ 45.3125 48.734375 45.3125 54.390625 \nQ 45.3125 60.0625 41.71875 63.234375 \nQ 38.140625 66.40625 31.78125 66.40625 \nQ 25.390625 66.40625 21.84375 63.234375 \nQ 18.3125 60.0625 18.3125 54.390625 \nz\n\" id=\"DejaVuSans-56\"/>\n      </defs>\n      <g transform=\"translate(183.161875 157.698438)scale(0.1 -0.1)\">\n       <use xlink:href=\"#DejaVuSans-56\"/>\n      </g>\n     </g>\n    </g>\n    <g id=\"xtick_6\">\n     <g id=\"line2d_6\">\n      <g>\n       <use style=\"stroke:#000000;stroke-width:0.8;\" x=\"225.403125\" xlink:href=\"#m44a1fe7af3\" y=\"143.1\"/>\n      </g>\n     </g>\n     <g id=\"text_6\">\n      <!-- 10 -->\n      <defs>\n       <path d=\"M 12.40625 8.296875 \nL 28.515625 8.296875 \nL 28.515625 63.921875 \nL 10.984375 60.40625 \nL 10.984375 69.390625 \nL 28.421875 72.90625 \nL 38.28125 72.90625 \nL 38.28125 8.296875 \nL 54.390625 8.296875 \nL 54.390625 0 \nL 12.40625 0 \nz\n\" id=\"DejaVuSans-49\"/>\n      </defs>\n      <g transform=\"translate(219.040625 157.698438)scale(0.1 -0.1)\">\n       <use xlink:href=\"#DejaVuSans-49\"/>\n       <use x=\"63.623047\" xlink:href=\"#DejaVuSans-48\"/>\n      </g>\n     </g>\n    </g>\n    <g id=\"text_7\">\n     <!-- epoch -->\n     <defs>\n      <path d=\"M 56.203125 29.59375 \nL 56.203125 25.203125 \nL 14.890625 25.203125 \nQ 15.484375 15.921875 20.484375 11.0625 \nQ 25.484375 6.203125 34.421875 6.203125 \nQ 39.59375 6.203125 44.453125 7.46875 \nQ 49.3125 8.734375 54.109375 11.28125 \nL 54.109375 2.78125 \nQ 49.265625 0.734375 44.1875 -0.34375 \nQ 39.109375 -1.421875 33.890625 -1.421875 \nQ 20.796875 -1.421875 13.15625 6.1875 \nQ 5.515625 13.8125 5.515625 26.8125 \nQ 5.515625 40.234375 12.765625 48.109375 \nQ 20.015625 56 32.328125 56 \nQ 43.359375 56 49.78125 48.890625 \nQ 56.203125 41.796875 56.203125 29.59375 \nz\nM 47.21875 32.234375 \nQ 47.125 39.59375 43.09375 43.984375 \nQ 39.0625 48.390625 32.421875 48.390625 \nQ 24.90625 48.390625 20.390625 44.140625 \nQ 15.875 39.890625 15.1875 32.171875 \nz\n\" id=\"DejaVuSans-101\"/>\n      <path d=\"M 18.109375 8.203125 \nL 18.109375 -20.796875 \nL 9.078125 -20.796875 \nL 9.078125 54.6875 \nL 18.109375 54.6875 \nL 18.109375 46.390625 \nQ 20.953125 51.265625 25.265625 53.625 \nQ 29.59375 56 35.59375 56 \nQ 45.5625 56 51.78125 48.09375 \nQ 58.015625 40.1875 58.015625 27.296875 \nQ 58.015625 14.40625 51.78125 6.484375 \nQ 45.5625 -1.421875 35.59375 -1.421875 \nQ 29.59375 -1.421875 25.265625 0.953125 \nQ 20.953125 3.328125 18.109375 8.203125 \nz\nM 48.6875 27.296875 \nQ 48.6875 37.203125 44.609375 42.84375 \nQ 40.53125 48.484375 33.40625 48.484375 \nQ 26.265625 48.484375 22.1875 42.84375 \nQ 18.109375 37.203125 18.109375 27.296875 \nQ 18.109375 17.390625 22.1875 11.75 \nQ 26.265625 6.109375 33.40625 6.109375 \nQ 40.53125 6.109375 44.609375 11.75 \nQ 48.6875 17.390625 48.6875 27.296875 \nz\n\" id=\"DejaVuSans-112\"/>\n      <path d=\"M 30.609375 48.390625 \nQ 23.390625 48.390625 19.1875 42.75 \nQ 14.984375 37.109375 14.984375 27.296875 \nQ 14.984375 17.484375 19.15625 11.84375 \nQ 23.34375 6.203125 30.609375 6.203125 \nQ 37.796875 6.203125 41.984375 11.859375 \nQ 46.1875 17.53125 46.1875 27.296875 \nQ 46.1875 37.015625 41.984375 42.703125 \nQ 37.796875 48.390625 30.609375 48.390625 \nz\nM 30.609375 56 \nQ 42.328125 56 49.015625 48.375 \nQ 55.71875 40.765625 55.71875 27.296875 \nQ 55.71875 13.875 49.015625 6.21875 \nQ 42.328125 -1.421875 30.609375 -1.421875 \nQ 18.84375 -1.421875 12.171875 6.21875 \nQ 5.515625 13.875 5.515625 27.296875 \nQ 5.515625 40.765625 12.171875 48.375 \nQ 18.84375 56 30.609375 56 \nz\n\" id=\"DejaVuSans-111\"/>\n      <path d=\"M 48.78125 52.59375 \nL 48.78125 44.1875 \nQ 44.96875 46.296875 41.140625 47.34375 \nQ 37.3125 48.390625 33.40625 48.390625 \nQ 24.65625 48.390625 19.8125 42.84375 \nQ 14.984375 37.3125 14.984375 27.296875 \nQ 14.984375 17.28125 19.8125 11.734375 \nQ 24.65625 6.203125 33.40625 6.203125 \nQ 37.3125 6.203125 41.140625 7.25 \nQ 44.96875 8.296875 48.78125 10.40625 \nL 48.78125 2.09375 \nQ 45.015625 0.34375 40.984375 -0.53125 \nQ 36.96875 -1.421875 32.421875 -1.421875 \nQ 20.0625 -1.421875 12.78125 6.34375 \nQ 5.515625 14.109375 5.515625 27.296875 \nQ 5.515625 40.671875 12.859375 48.328125 \nQ 20.21875 56 33.015625 56 \nQ 37.15625 56 41.109375 55.140625 \nQ 45.0625 54.296875 48.78125 52.59375 \nz\n\" id=\"DejaVuSans-99\"/>\n      <path d=\"M 54.890625 33.015625 \nL 54.890625 0 \nL 45.90625 0 \nL 45.90625 32.71875 \nQ 45.90625 40.484375 42.875 44.328125 \nQ 39.84375 48.1875 33.796875 48.1875 \nQ 26.515625 48.1875 22.3125 43.546875 \nQ 18.109375 38.921875 18.109375 30.90625 \nL 18.109375 0 \nL 9.078125 0 \nL 9.078125 75.984375 \nL 18.109375 75.984375 \nL 18.109375 46.1875 \nQ 21.34375 51.125 25.703125 53.5625 \nQ 30.078125 56 35.796875 56 \nQ 45.21875 56 50.046875 50.171875 \nQ 54.890625 44.34375 54.890625 33.015625 \nz\n\" id=\"DejaVuSans-104\"/>\n     </defs>\n     <g transform=\"translate(112.525 171.376563)scale(0.1 -0.1)\">\n      <use xlink:href=\"#DejaVuSans-101\"/>\n      <use x=\"61.523438\" xlink:href=\"#DejaVuSans-112\"/>\n      <use x=\"125\" xlink:href=\"#DejaVuSans-111\"/>\n      <use x=\"186.181641\" xlink:href=\"#DejaVuSans-99\"/>\n      <use x=\"241.162109\" xlink:href=\"#DejaVuSans-104\"/>\n     </g>\n    </g>\n   </g>\n   <g id=\"matplotlib.axis_2\">\n    <g id=\"ytick_1\">\n     <g id=\"line2d_7\">\n      <defs>\n       <path d=\"M 0 0 \nL -3.5 0 \n\" id=\"m61f43b5f5a\" style=\"stroke:#000000;stroke-width:0.8;\"/>\n      </defs>\n      <g>\n       <use style=\"stroke:#000000;stroke-width:0.8;\" x=\"30.103125\" xlink:href=\"#m61f43b5f5a\" y=\"142.500168\"/>\n      </g>\n     </g>\n     <g id=\"text_8\">\n      <!-- 0.0 -->\n      <defs>\n       <path d=\"M 10.6875 12.40625 \nL 21 12.40625 \nL 21 0 \nL 10.6875 0 \nz\n\" id=\"DejaVuSans-46\"/>\n      </defs>\n      <g transform=\"translate(7.2 146.299387)scale(0.1 -0.1)\">\n       <use xlink:href=\"#DejaVuSans-48\"/>\n       <use x=\"63.623047\" xlink:href=\"#DejaVuSans-46\"/>\n       <use x=\"95.410156\" xlink:href=\"#DejaVuSans-48\"/>\n      </g>\n     </g>\n    </g>\n    <g id=\"ytick_2\">\n     <g id=\"line2d_8\">\n      <g>\n       <use style=\"stroke:#000000;stroke-width:0.8;\" x=\"30.103125\" xlink:href=\"#m61f43b5f5a\" y=\"114.496651\"/>\n      </g>\n     </g>\n     <g id=\"text_9\">\n      <!-- 0.5 -->\n      <defs>\n       <path d=\"M 10.796875 72.90625 \nL 49.515625 72.90625 \nL 49.515625 64.59375 \nL 19.828125 64.59375 \nL 19.828125 46.734375 \nQ 21.96875 47.46875 24.109375 47.828125 \nQ 26.265625 48.1875 28.421875 48.1875 \nQ 40.625 48.1875 47.75 41.5 \nQ 54.890625 34.8125 54.890625 23.390625 \nQ 54.890625 11.625 47.5625 5.09375 \nQ 40.234375 -1.421875 26.90625 -1.421875 \nQ 22.3125 -1.421875 17.546875 -0.640625 \nQ 12.796875 0.140625 7.71875 1.703125 \nL 7.71875 11.625 \nQ 12.109375 9.234375 16.796875 8.0625 \nQ 21.484375 6.890625 26.703125 6.890625 \nQ 35.15625 6.890625 40.078125 11.328125 \nQ 45.015625 15.765625 45.015625 23.390625 \nQ 45.015625 31 40.078125 35.4375 \nQ 35.15625 39.890625 26.703125 39.890625 \nQ 22.75 39.890625 18.8125 39.015625 \nQ 14.890625 38.140625 10.796875 36.28125 \nz\n\" id=\"DejaVuSans-53\"/>\n      </defs>\n      <g transform=\"translate(7.2 118.29587)scale(0.1 -0.1)\">\n       <use xlink:href=\"#DejaVuSans-48\"/>\n       <use x=\"63.623047\" xlink:href=\"#DejaVuSans-46\"/>\n       <use x=\"95.410156\" xlink:href=\"#DejaVuSans-53\"/>\n      </g>\n     </g>\n    </g>\n    <g id=\"ytick_3\">\n     <g id=\"line2d_9\">\n      <g>\n       <use style=\"stroke:#000000;stroke-width:0.8;\" x=\"30.103125\" xlink:href=\"#m61f43b5f5a\" y=\"86.493134\"/>\n      </g>\n     </g>\n     <g id=\"text_10\">\n      <!-- 1.0 -->\n      <g transform=\"translate(7.2 90.292353)scale(0.1 -0.1)\">\n       <use xlink:href=\"#DejaVuSans-49\"/>\n       <use x=\"63.623047\" xlink:href=\"#DejaVuSans-46\"/>\n       <use x=\"95.410156\" xlink:href=\"#DejaVuSans-48\"/>\n      </g>\n     </g>\n    </g>\n    <g id=\"ytick_4\">\n     <g id=\"line2d_10\">\n      <g>\n       <use style=\"stroke:#000000;stroke-width:0.8;\" x=\"30.103125\" xlink:href=\"#m61f43b5f5a\" y=\"58.489618\"/>\n      </g>\n     </g>\n     <g id=\"text_11\">\n      <!-- 1.5 -->\n      <g transform=\"translate(7.2 62.288836)scale(0.1 -0.1)\">\n       <use xlink:href=\"#DejaVuSans-49\"/>\n       <use x=\"63.623047\" xlink:href=\"#DejaVuSans-46\"/>\n       <use x=\"95.410156\" xlink:href=\"#DejaVuSans-53\"/>\n      </g>\n     </g>\n    </g>\n    <g id=\"ytick_5\">\n     <g id=\"line2d_11\">\n      <g>\n       <use style=\"stroke:#000000;stroke-width:0.8;\" x=\"30.103125\" xlink:href=\"#m61f43b5f5a\" y=\"30.486101\"/>\n      </g>\n     </g>\n     <g id=\"text_12\">\n      <!-- 2.0 -->\n      <g transform=\"translate(7.2 34.285319)scale(0.1 -0.1)\">\n       <use xlink:href=\"#DejaVuSans-50\"/>\n       <use x=\"63.623047\" xlink:href=\"#DejaVuSans-46\"/>\n       <use x=\"95.410156\" xlink:href=\"#DejaVuSans-48\"/>\n      </g>\n     </g>\n    </g>\n   </g>\n   <g id=\"line2d_12\">\n    <path clip-path=\"url(#pe6da559852)\" d=\"M 34.954394 13.377273 \n\" style=\"fill:none;stroke:#1f77b4;stroke-linecap:square;stroke-width:1.5;\"/>\n   </g>\n   <g id=\"line2d_13\">\n    <path clip-path=\"url(#pe6da559852)\" d=\"M 34.954394 13.377273 \nL 44.698573 13.521742 \n\" style=\"fill:none;stroke:#1f77b4;stroke-linecap:square;stroke-width:1.5;\"/>\n   </g>\n   <g id=\"line2d_14\">\n    <path clip-path=\"url(#pe6da559852)\" d=\"M 34.954394 13.377273 \nL 44.698573 13.521742 \n\" style=\"fill:none;stroke:#1f77b4;stroke-linecap:square;stroke-width:1.5;\"/>\n   </g>\n   <g id=\"line2d_15\">\n    <path clip-path=\"url(#pe6da559852)\" d=\"M 49.633125 13.542402 \n\" style=\"fill:none;stroke:#ff7f0e;stroke-dasharray:5.55,2.4;stroke-dashoffset:0;stroke-width:1.5;\"/>\n   </g>\n   <g id=\"line2d_16\"/>\n   <g id=\"line2d_17\">\n    <path clip-path=\"url(#pe6da559852)\" d=\"M 34.954394 13.377273 \nL 44.698573 13.521742 \n\" style=\"fill:none;stroke:#1f77b4;stroke-linecap:square;stroke-width:1.5;\"/>\n   </g>\n   <g id=\"line2d_18\">\n    <path clip-path=\"url(#pe6da559852)\" d=\"M 49.633125 13.542402 \n\" style=\"fill:none;stroke:#ff7f0e;stroke-dasharray:5.55,2.4;stroke-dashoffset:0;stroke-width:1.5;\"/>\n   </g>\n   <g id=\"line2d_19\">\n    <path clip-path=\"url(#pe6da559852)\" d=\"M 49.633125 136.922727 \n\" style=\"fill:none;stroke:#2ca02c;stroke-dasharray:9.6,2.4,1.5,2.4;stroke-dashoffset:0;stroke-width:1.5;\"/>\n   </g>\n   <g id=\"line2d_20\">\n    <path clip-path=\"url(#pe6da559852)\" d=\"M 34.954394 13.377273 \nL 44.698573 13.521742 \nL 54.442752 13.543704 \n\" style=\"fill:none;stroke:#1f77b4;stroke-linecap:square;stroke-width:1.5;\"/>\n   </g>\n   <g id=\"line2d_21\">\n    <path clip-path=\"url(#pe6da559852)\" d=\"M 49.633125 13.542402 \n\" style=\"fill:none;stroke:#ff7f0e;stroke-dasharray:5.55,2.4;stroke-dashoffset:0;stroke-width:1.5;\"/>\n   </g>\n   <g id=\"line2d_22\">\n    <path clip-path=\"url(#pe6da559852)\" d=\"M 49.633125 136.922727 \n\" style=\"fill:none;stroke:#2ca02c;stroke-dasharray:9.6,2.4,1.5,2.4;stroke-dashoffset:0;stroke-width:1.5;\"/>\n   </g>\n   <g id=\"line2d_23\">\n    <path clip-path=\"url(#pe6da559852)\" d=\"M 34.954394 13.377273 \nL 44.698573 13.521742 \nL 54.442752 13.543704 \nL 64.186931 13.554882 \n\" style=\"fill:none;stroke:#1f77b4;stroke-linecap:square;stroke-width:1.5;\"/>\n   </g>\n   <g id=\"line2d_24\">\n    <path clip-path=\"url(#pe6da559852)\" d=\"M 49.633125 13.542402 \n\" style=\"fill:none;stroke:#ff7f0e;stroke-dasharray:5.55,2.4;stroke-dashoffset:0;stroke-width:1.5;\"/>\n   </g>\n   <g id=\"line2d_25\">\n    <path clip-path=\"url(#pe6da559852)\" d=\"M 49.633125 136.922727 \n\" style=\"fill:none;stroke:#2ca02c;stroke-dasharray:9.6,2.4,1.5,2.4;stroke-dashoffset:0;stroke-width:1.5;\"/>\n   </g>\n   <g id=\"line2d_26\">\n    <path clip-path=\"url(#pe6da559852)\" d=\"M 34.954394 13.377273 \nL 44.698573 13.521742 \nL 54.442752 13.543704 \nL 64.186931 13.554882 \n\" style=\"fill:none;stroke:#1f77b4;stroke-linecap:square;stroke-width:1.5;\"/>\n   </g>\n   <g id=\"line2d_27\">\n    <path clip-path=\"url(#pe6da559852)\" d=\"M 49.633125 13.542402 \nL 69.163125 13.565374 \n\" style=\"fill:none;stroke:#ff7f0e;stroke-dasharray:5.55,2.4;stroke-dashoffset:0;stroke-width:1.5;\"/>\n   </g>\n   <g id=\"line2d_28\">\n    <path clip-path=\"url(#pe6da559852)\" d=\"M 49.633125 136.922727 \n\" style=\"fill:none;stroke:#2ca02c;stroke-dasharray:9.6,2.4,1.5,2.4;stroke-dashoffset:0;stroke-width:1.5;\"/>\n   </g>\n   <g id=\"line2d_29\">\n    <path clip-path=\"url(#pe6da559852)\" d=\"M 34.954394 13.377273 \nL 44.698573 13.521742 \nL 54.442752 13.543704 \nL 64.186931 13.554882 \n\" style=\"fill:none;stroke:#1f77b4;stroke-linecap:square;stroke-width:1.5;\"/>\n   </g>\n   <g id=\"line2d_30\">\n    <path clip-path=\"url(#pe6da559852)\" d=\"M 49.633125 13.542402 \nL 69.163125 13.565374 \n\" style=\"fill:none;stroke:#ff7f0e;stroke-dasharray:5.55,2.4;stroke-dashoffset:0;stroke-width:1.5;\"/>\n   </g>\n   <g id=\"line2d_31\">\n    <path clip-path=\"url(#pe6da559852)\" d=\"M 49.633125 136.922727 \nL 69.163125 136.845186 \n\" style=\"fill:none;stroke:#2ca02c;stroke-dasharray:9.6,2.4,1.5,2.4;stroke-dashoffset:0;stroke-width:1.5;\"/>\n   </g>\n   <g id=\"line2d_32\">\n    <path clip-path=\"url(#pe6da559852)\" d=\"M 34.954394 13.377273 \nL 44.698573 13.521742 \nL 54.442752 13.543704 \nL 64.186931 13.554882 \nL 73.93111 13.581215 \n\" style=\"fill:none;stroke:#1f77b4;stroke-linecap:square;stroke-width:1.5;\"/>\n   </g>\n   <g id=\"line2d_33\">\n    <path clip-path=\"url(#pe6da559852)\" d=\"M 49.633125 13.542402 \nL 69.163125 13.565374 \n\" style=\"fill:none;stroke:#ff7f0e;stroke-dasharray:5.55,2.4;stroke-dashoffset:0;stroke-width:1.5;\"/>\n   </g>\n   <g id=\"line2d_34\">\n    <path clip-path=\"url(#pe6da559852)\" d=\"M 49.633125 136.922727 \nL 69.163125 136.845186 \n\" style=\"fill:none;stroke:#2ca02c;stroke-dasharray:9.6,2.4,1.5,2.4;stroke-dashoffset:0;stroke-width:1.5;\"/>\n   </g>\n   <g id=\"line2d_35\">\n    <path clip-path=\"url(#pe6da559852)\" d=\"M 34.954394 13.377273 \nL 44.698573 13.521742 \nL 54.442752 13.543704 \nL 64.186931 13.554882 \nL 73.93111 13.581215 \nL 83.675289 13.751732 \n\" style=\"fill:none;stroke:#1f77b4;stroke-linecap:square;stroke-width:1.5;\"/>\n   </g>\n   <g id=\"line2d_36\">\n    <path clip-path=\"url(#pe6da559852)\" d=\"M 49.633125 13.542402 \nL 69.163125 13.565374 \n\" style=\"fill:none;stroke:#ff7f0e;stroke-dasharray:5.55,2.4;stroke-dashoffset:0;stroke-width:1.5;\"/>\n   </g>\n   <g id=\"line2d_37\">\n    <path clip-path=\"url(#pe6da559852)\" d=\"M 49.633125 136.922727 \nL 69.163125 136.845186 \n\" style=\"fill:none;stroke:#2ca02c;stroke-dasharray:9.6,2.4,1.5,2.4;stroke-dashoffset:0;stroke-width:1.5;\"/>\n   </g>\n   <g id=\"line2d_38\">\n    <path clip-path=\"url(#pe6da559852)\" d=\"M 34.954394 13.377273 \nL 44.698573 13.521742 \nL 54.442752 13.543704 \nL 64.186931 13.554882 \nL 73.93111 13.581215 \nL 83.675289 13.751732 \n\" style=\"fill:none;stroke:#1f77b4;stroke-linecap:square;stroke-width:1.5;\"/>\n   </g>\n   <g id=\"line2d_39\">\n    <path clip-path=\"url(#pe6da559852)\" d=\"M 49.633125 13.542402 \nL 69.163125 13.565374 \nL 88.693125 14.079789 \n\" style=\"fill:none;stroke:#ff7f0e;stroke-dasharray:5.55,2.4;stroke-dashoffset:0;stroke-width:1.5;\"/>\n   </g>\n   <g id=\"line2d_40\">\n    <path clip-path=\"url(#pe6da559852)\" d=\"M 49.633125 136.922727 \nL 69.163125 136.845186 \n\" style=\"fill:none;stroke:#2ca02c;stroke-dasharray:9.6,2.4,1.5,2.4;stroke-dashoffset:0;stroke-width:1.5;\"/>\n   </g>\n   <g id=\"line2d_41\">\n    <path clip-path=\"url(#pe6da559852)\" d=\"M 34.954394 13.377273 \nL 44.698573 13.521742 \nL 54.442752 13.543704 \nL 64.186931 13.554882 \nL 73.93111 13.581215 \nL 83.675289 13.751732 \n\" style=\"fill:none;stroke:#1f77b4;stroke-linecap:square;stroke-width:1.5;\"/>\n   </g>\n   <g id=\"line2d_42\">\n    <path clip-path=\"url(#pe6da559852)\" d=\"M 49.633125 13.542402 \nL 69.163125 13.565374 \nL 88.693125 14.079789 \n\" style=\"fill:none;stroke:#ff7f0e;stroke-dasharray:5.55,2.4;stroke-dashoffset:0;stroke-width:1.5;\"/>\n   </g>\n   <g id=\"line2d_43\">\n    <path clip-path=\"url(#pe6da559852)\" d=\"M 49.633125 136.922727 \nL 69.163125 136.845186 \nL 88.693125 133.16197 \n\" style=\"fill:none;stroke:#2ca02c;stroke-dasharray:9.6,2.4,1.5,2.4;stroke-dashoffset:0;stroke-width:1.5;\"/>\n   </g>\n   <g id=\"line2d_44\">\n    <path clip-path=\"url(#pe6da559852)\" d=\"M 34.954394 13.377273 \nL 44.698573 13.521742 \nL 54.442752 13.543704 \nL 64.186931 13.554882 \nL 73.93111 13.581215 \nL 83.675289 13.751732 \nL 93.419468 14.836268 \n\" style=\"fill:none;stroke:#1f77b4;stroke-linecap:square;stroke-width:1.5;\"/>\n   </g>\n   <g id=\"line2d_45\">\n    <path clip-path=\"url(#pe6da559852)\" d=\"M 49.633125 13.542402 \nL 69.163125 13.565374 \nL 88.693125 14.079789 \n\" style=\"fill:none;stroke:#ff7f0e;stroke-dasharray:5.55,2.4;stroke-dashoffset:0;stroke-width:1.5;\"/>\n   </g>\n   <g id=\"line2d_46\">\n    <path clip-path=\"url(#pe6da559852)\" d=\"M 49.633125 136.922727 \nL 69.163125 136.845186 \nL 88.693125 133.16197 \n\" style=\"fill:none;stroke:#2ca02c;stroke-dasharray:9.6,2.4,1.5,2.4;stroke-dashoffset:0;stroke-width:1.5;\"/>\n   </g>\n   <g id=\"line2d_47\">\n    <path clip-path=\"url(#pe6da559852)\" d=\"M 34.954394 13.377273 \nL 44.698573 13.521742 \nL 54.442752 13.543704 \nL 64.186931 13.554882 \nL 73.93111 13.581215 \nL 83.675289 13.751732 \nL 93.419468 14.836268 \nL 103.163647 17.540028 \n\" style=\"fill:none;stroke:#1f77b4;stroke-linecap:square;stroke-width:1.5;\"/>\n   </g>\n   <g id=\"line2d_48\">\n    <path clip-path=\"url(#pe6da559852)\" d=\"M 49.633125 13.542402 \nL 69.163125 13.565374 \nL 88.693125 14.079789 \n\" style=\"fill:none;stroke:#ff7f0e;stroke-dasharray:5.55,2.4;stroke-dashoffset:0;stroke-width:1.5;\"/>\n   </g>\n   <g id=\"line2d_49\">\n    <path clip-path=\"url(#pe6da559852)\" d=\"M 49.633125 136.922727 \nL 69.163125 136.845186 \nL 88.693125 133.16197 \n\" style=\"fill:none;stroke:#2ca02c;stroke-dasharray:9.6,2.4,1.5,2.4;stroke-dashoffset:0;stroke-width:1.5;\"/>\n   </g>\n   <g id=\"line2d_50\">\n    <path clip-path=\"url(#pe6da559852)\" d=\"M 34.954394 13.377273 \nL 44.698573 13.521742 \nL 54.442752 13.543704 \nL 64.186931 13.554882 \nL 73.93111 13.581215 \nL 83.675289 13.751732 \nL 93.419468 14.836268 \nL 103.163647 17.540028 \n\" style=\"fill:none;stroke:#1f77b4;stroke-linecap:square;stroke-width:1.5;\"/>\n   </g>\n   <g id=\"line2d_51\">\n    <path clip-path=\"url(#pe6da559852)\" d=\"M 49.633125 13.542402 \nL 69.163125 13.565374 \nL 88.693125 14.079789 \nL 108.223125 19.730257 \n\" style=\"fill:none;stroke:#ff7f0e;stroke-dasharray:5.55,2.4;stroke-dashoffset:0;stroke-width:1.5;\"/>\n   </g>\n   <g id=\"line2d_52\">\n    <path clip-path=\"url(#pe6da559852)\" d=\"M 49.633125 136.922727 \nL 69.163125 136.845186 \nL 88.693125 133.16197 \n\" style=\"fill:none;stroke:#2ca02c;stroke-dasharray:9.6,2.4,1.5,2.4;stroke-dashoffset:0;stroke-width:1.5;\"/>\n   </g>\n   <g id=\"line2d_53\">\n    <path clip-path=\"url(#pe6da559852)\" d=\"M 34.954394 13.377273 \nL 44.698573 13.521742 \nL 54.442752 13.543704 \nL 64.186931 13.554882 \nL 73.93111 13.581215 \nL 83.675289 13.751732 \nL 93.419468 14.836268 \nL 103.163647 17.540028 \n\" style=\"fill:none;stroke:#1f77b4;stroke-linecap:square;stroke-width:1.5;\"/>\n   </g>\n   <g id=\"line2d_54\">\n    <path clip-path=\"url(#pe6da559852)\" d=\"M 49.633125 13.542402 \nL 69.163125 13.565374 \nL 88.693125 14.079789 \nL 108.223125 19.730257 \n\" style=\"fill:none;stroke:#ff7f0e;stroke-dasharray:5.55,2.4;stroke-dashoffset:0;stroke-width:1.5;\"/>\n   </g>\n   <g id=\"line2d_55\">\n    <path clip-path=\"url(#pe6da559852)\" d=\"M 49.633125 136.922727 \nL 69.163125 136.845186 \nL 88.693125 133.16197 \nL 108.223125 130.547718 \n\" style=\"fill:none;stroke:#2ca02c;stroke-dasharray:9.6,2.4,1.5,2.4;stroke-dashoffset:0;stroke-width:1.5;\"/>\n   </g>\n   <g id=\"line2d_56\">\n    <path clip-path=\"url(#pe6da559852)\" d=\"M 34.954394 13.377273 \nL 44.698573 13.521742 \nL 54.442752 13.543704 \nL 64.186931 13.554882 \nL 73.93111 13.581215 \nL 83.675289 13.751732 \nL 93.419468 14.836268 \nL 103.163647 17.540028 \nL 112.907826 42.142309 \n\" style=\"fill:none;stroke:#1f77b4;stroke-linecap:square;stroke-width:1.5;\"/>\n   </g>\n   <g id=\"line2d_57\">\n    <path clip-path=\"url(#pe6da559852)\" d=\"M 49.633125 13.542402 \nL 69.163125 13.565374 \nL 88.693125 14.079789 \nL 108.223125 19.730257 \n\" style=\"fill:none;stroke:#ff7f0e;stroke-dasharray:5.55,2.4;stroke-dashoffset:0;stroke-width:1.5;\"/>\n   </g>\n   <g id=\"line2d_58\">\n    <path clip-path=\"url(#pe6da559852)\" d=\"M 49.633125 136.922727 \nL 69.163125 136.845186 \nL 88.693125 133.16197 \nL 108.223125 130.547718 \n\" style=\"fill:none;stroke:#2ca02c;stroke-dasharray:9.6,2.4,1.5,2.4;stroke-dashoffset:0;stroke-width:1.5;\"/>\n   </g>\n   <g id=\"line2d_59\">\n    <path clip-path=\"url(#pe6da559852)\" d=\"M 34.954394 13.377273 \nL 44.698573 13.521742 \nL 54.442752 13.543704 \nL 64.186931 13.554882 \nL 73.93111 13.581215 \nL 83.675289 13.751732 \nL 93.419468 14.836268 \nL 103.163647 17.540028 \nL 112.907826 42.142309 \nL 122.652006 56.828083 \n\" style=\"fill:none;stroke:#1f77b4;stroke-linecap:square;stroke-width:1.5;\"/>\n   </g>\n   <g id=\"line2d_60\">\n    <path clip-path=\"url(#pe6da559852)\" d=\"M 49.633125 13.542402 \nL 69.163125 13.565374 \nL 88.693125 14.079789 \nL 108.223125 19.730257 \n\" style=\"fill:none;stroke:#ff7f0e;stroke-dasharray:5.55,2.4;stroke-dashoffset:0;stroke-width:1.5;\"/>\n   </g>\n   <g id=\"line2d_61\">\n    <path clip-path=\"url(#pe6da559852)\" d=\"M 49.633125 136.922727 \nL 69.163125 136.845186 \nL 88.693125 133.16197 \nL 108.223125 130.547718 \n\" style=\"fill:none;stroke:#2ca02c;stroke-dasharray:9.6,2.4,1.5,2.4;stroke-dashoffset:0;stroke-width:1.5;\"/>\n   </g>\n   <g id=\"line2d_62\">\n    <path clip-path=\"url(#pe6da559852)\" d=\"M 34.954394 13.377273 \nL 44.698573 13.521742 \nL 54.442752 13.543704 \nL 64.186931 13.554882 \nL 73.93111 13.581215 \nL 83.675289 13.751732 \nL 93.419468 14.836268 \nL 103.163647 17.540028 \nL 112.907826 42.142309 \nL 122.652006 56.828083 \n\" style=\"fill:none;stroke:#1f77b4;stroke-linecap:square;stroke-width:1.5;\"/>\n   </g>\n   <g id=\"line2d_63\">\n    <path clip-path=\"url(#pe6da559852)\" d=\"M 49.633125 13.542402 \nL 69.163125 13.565374 \nL 88.693125 14.079789 \nL 108.223125 19.730257 \nL 127.753125 62.507403 \n\" style=\"fill:none;stroke:#ff7f0e;stroke-dasharray:5.55,2.4;stroke-dashoffset:0;stroke-width:1.5;\"/>\n   </g>\n   <g id=\"line2d_64\">\n    <path clip-path=\"url(#pe6da559852)\" d=\"M 49.633125 136.922727 \nL 69.163125 136.845186 \nL 88.693125 133.16197 \nL 108.223125 130.547718 \n\" style=\"fill:none;stroke:#2ca02c;stroke-dasharray:9.6,2.4,1.5,2.4;stroke-dashoffset:0;stroke-width:1.5;\"/>\n   </g>\n   <g id=\"line2d_65\">\n    <path clip-path=\"url(#pe6da559852)\" d=\"M 34.954394 13.377273 \nL 44.698573 13.521742 \nL 54.442752 13.543704 \nL 64.186931 13.554882 \nL 73.93111 13.581215 \nL 83.675289 13.751732 \nL 93.419468 14.836268 \nL 103.163647 17.540028 \nL 112.907826 42.142309 \nL 122.652006 56.828083 \n\" style=\"fill:none;stroke:#1f77b4;stroke-linecap:square;stroke-width:1.5;\"/>\n   </g>\n   <g id=\"line2d_66\">\n    <path clip-path=\"url(#pe6da559852)\" d=\"M 49.633125 13.542402 \nL 69.163125 13.565374 \nL 88.693125 14.079789 \nL 108.223125 19.730257 \nL 127.753125 62.507403 \n\" style=\"fill:none;stroke:#ff7f0e;stroke-dasharray:5.55,2.4;stroke-dashoffset:0;stroke-width:1.5;\"/>\n   </g>\n   <g id=\"line2d_67\">\n    <path clip-path=\"url(#pe6da559852)\" d=\"M 49.633125 136.922727 \nL 69.163125 136.845186 \nL 88.693125 133.16197 \nL 108.223125 130.547718 \nL 127.753125 119.780543 \n\" style=\"fill:none;stroke:#2ca02c;stroke-dasharray:9.6,2.4,1.5,2.4;stroke-dashoffset:0;stroke-width:1.5;\"/>\n   </g>\n   <g id=\"line2d_68\">\n    <path clip-path=\"url(#pe6da559852)\" d=\"M 34.954394 13.377273 \nL 44.698573 13.521742 \nL 54.442752 13.543704 \nL 64.186931 13.554882 \nL 73.93111 13.581215 \nL 83.675289 13.751732 \nL 93.419468 14.836268 \nL 103.163647 17.540028 \nL 112.907826 42.142309 \nL 122.652006 56.828083 \nL 132.396185 65.810774 \n\" style=\"fill:none;stroke:#1f77b4;stroke-linecap:square;stroke-width:1.5;\"/>\n   </g>\n   <g id=\"line2d_69\">\n    <path clip-path=\"url(#pe6da559852)\" d=\"M 49.633125 13.542402 \nL 69.163125 13.565374 \nL 88.693125 14.079789 \nL 108.223125 19.730257 \nL 127.753125 62.507403 \n\" style=\"fill:none;stroke:#ff7f0e;stroke-dasharray:5.55,2.4;stroke-dashoffset:0;stroke-width:1.5;\"/>\n   </g>\n   <g id=\"line2d_70\">\n    <path clip-path=\"url(#pe6da559852)\" d=\"M 49.633125 136.922727 \nL 69.163125 136.845186 \nL 88.693125 133.16197 \nL 108.223125 130.547718 \nL 127.753125 119.780543 \n\" style=\"fill:none;stroke:#2ca02c;stroke-dasharray:9.6,2.4,1.5,2.4;stroke-dashoffset:0;stroke-width:1.5;\"/>\n   </g>\n   <g id=\"line2d_71\">\n    <path clip-path=\"url(#pe6da559852)\" d=\"M 34.954394 13.377273 \nL 44.698573 13.521742 \nL 54.442752 13.543704 \nL 64.186931 13.554882 \nL 73.93111 13.581215 \nL 83.675289 13.751732 \nL 93.419468 14.836268 \nL 103.163647 17.540028 \nL 112.907826 42.142309 \nL 122.652006 56.828083 \nL 132.396185 65.810774 \nL 142.140364 77.089736 \n\" style=\"fill:none;stroke:#1f77b4;stroke-linecap:square;stroke-width:1.5;\"/>\n   </g>\n   <g id=\"line2d_72\">\n    <path clip-path=\"url(#pe6da559852)\" d=\"M 49.633125 13.542402 \nL 69.163125 13.565374 \nL 88.693125 14.079789 \nL 108.223125 19.730257 \nL 127.753125 62.507403 \n\" style=\"fill:none;stroke:#ff7f0e;stroke-dasharray:5.55,2.4;stroke-dashoffset:0;stroke-width:1.5;\"/>\n   </g>\n   <g id=\"line2d_73\">\n    <path clip-path=\"url(#pe6da559852)\" d=\"M 49.633125 136.922727 \nL 69.163125 136.845186 \nL 88.693125 133.16197 \nL 108.223125 130.547718 \nL 127.753125 119.780543 \n\" style=\"fill:none;stroke:#2ca02c;stroke-dasharray:9.6,2.4,1.5,2.4;stroke-dashoffset:0;stroke-width:1.5;\"/>\n   </g>\n   <g id=\"line2d_74\">\n    <path clip-path=\"url(#pe6da559852)\" d=\"M 34.954394 13.377273 \nL 44.698573 13.521742 \nL 54.442752 13.543704 \nL 64.186931 13.554882 \nL 73.93111 13.581215 \nL 83.675289 13.751732 \nL 93.419468 14.836268 \nL 103.163647 17.540028 \nL 112.907826 42.142309 \nL 122.652006 56.828083 \nL 132.396185 65.810774 \nL 142.140364 77.089736 \n\" style=\"fill:none;stroke:#1f77b4;stroke-linecap:square;stroke-width:1.5;\"/>\n   </g>\n   <g id=\"line2d_75\">\n    <path clip-path=\"url(#pe6da559852)\" d=\"M 49.633125 13.542402 \nL 69.163125 13.565374 \nL 88.693125 14.079789 \nL 108.223125 19.730257 \nL 127.753125 62.507403 \nL 147.283125 78.369703 \n\" style=\"fill:none;stroke:#ff7f0e;stroke-dasharray:5.55,2.4;stroke-dashoffset:0;stroke-width:1.5;\"/>\n   </g>\n   <g id=\"line2d_76\">\n    <path clip-path=\"url(#pe6da559852)\" d=\"M 49.633125 136.922727 \nL 69.163125 136.845186 \nL 88.693125 133.16197 \nL 108.223125 130.547718 \nL 127.753125 119.780543 \n\" style=\"fill:none;stroke:#2ca02c;stroke-dasharray:9.6,2.4,1.5,2.4;stroke-dashoffset:0;stroke-width:1.5;\"/>\n   </g>\n   <g id=\"line2d_77\">\n    <path clip-path=\"url(#pe6da559852)\" d=\"M 34.954394 13.377273 \nL 44.698573 13.521742 \nL 54.442752 13.543704 \nL 64.186931 13.554882 \nL 73.93111 13.581215 \nL 83.675289 13.751732 \nL 93.419468 14.836268 \nL 103.163647 17.540028 \nL 112.907826 42.142309 \nL 122.652006 56.828083 \nL 132.396185 65.810774 \nL 142.140364 77.089736 \n\" style=\"fill:none;stroke:#1f77b4;stroke-linecap:square;stroke-width:1.5;\"/>\n   </g>\n   <g id=\"line2d_78\">\n    <path clip-path=\"url(#pe6da559852)\" d=\"M 49.633125 13.542402 \nL 69.163125 13.565374 \nL 88.693125 14.079789 \nL 108.223125 19.730257 \nL 127.753125 62.507403 \nL 147.283125 78.369703 \n\" style=\"fill:none;stroke:#ff7f0e;stroke-dasharray:5.55,2.4;stroke-dashoffset:0;stroke-width:1.5;\"/>\n   </g>\n   <g id=\"line2d_79\">\n    <path clip-path=\"url(#pe6da559852)\" d=\"M 49.633125 136.922727 \nL 69.163125 136.845186 \nL 88.693125 133.16197 \nL 108.223125 130.547718 \nL 127.753125 119.780543 \nL 147.283125 108.697664 \n\" style=\"fill:none;stroke:#2ca02c;stroke-dasharray:9.6,2.4,1.5,2.4;stroke-dashoffset:0;stroke-width:1.5;\"/>\n   </g>\n   <g id=\"line2d_80\">\n    <path clip-path=\"url(#pe6da559852)\" d=\"M 34.954394 13.377273 \nL 44.698573 13.521742 \nL 54.442752 13.543704 \nL 64.186931 13.554882 \nL 73.93111 13.581215 \nL 83.675289 13.751732 \nL 93.419468 14.836268 \nL 103.163647 17.540028 \nL 112.907826 42.142309 \nL 122.652006 56.828083 \nL 132.396185 65.810774 \nL 142.140364 77.089736 \nL 151.884543 84.211169 \n\" style=\"fill:none;stroke:#1f77b4;stroke-linecap:square;stroke-width:1.5;\"/>\n   </g>\n   <g id=\"line2d_81\">\n    <path clip-path=\"url(#pe6da559852)\" d=\"M 49.633125 13.542402 \nL 69.163125 13.565374 \nL 88.693125 14.079789 \nL 108.223125 19.730257 \nL 127.753125 62.507403 \nL 147.283125 78.369703 \n\" style=\"fill:none;stroke:#ff7f0e;stroke-dasharray:5.55,2.4;stroke-dashoffset:0;stroke-width:1.5;\"/>\n   </g>\n   <g id=\"line2d_82\">\n    <path clip-path=\"url(#pe6da559852)\" d=\"M 49.633125 136.922727 \nL 69.163125 136.845186 \nL 88.693125 133.16197 \nL 108.223125 130.547718 \nL 127.753125 119.780543 \nL 147.283125 108.697664 \n\" style=\"fill:none;stroke:#2ca02c;stroke-dasharray:9.6,2.4,1.5,2.4;stroke-dashoffset:0;stroke-width:1.5;\"/>\n   </g>\n   <g id=\"line2d_83\">\n    <path clip-path=\"url(#pe6da559852)\" d=\"M 34.954394 13.377273 \nL 44.698573 13.521742 \nL 54.442752 13.543704 \nL 64.186931 13.554882 \nL 73.93111 13.581215 \nL 83.675289 13.751732 \nL 93.419468 14.836268 \nL 103.163647 17.540028 \nL 112.907826 42.142309 \nL 122.652006 56.828083 \nL 132.396185 65.810774 \nL 142.140364 77.089736 \nL 151.884543 84.211169 \nL 161.628722 100.403967 \n\" style=\"fill:none;stroke:#1f77b4;stroke-linecap:square;stroke-width:1.5;\"/>\n   </g>\n   <g id=\"line2d_84\">\n    <path clip-path=\"url(#pe6da559852)\" d=\"M 49.633125 13.542402 \nL 69.163125 13.565374 \nL 88.693125 14.079789 \nL 108.223125 19.730257 \nL 127.753125 62.507403 \nL 147.283125 78.369703 \n\" style=\"fill:none;stroke:#ff7f0e;stroke-dasharray:5.55,2.4;stroke-dashoffset:0;stroke-width:1.5;\"/>\n   </g>\n   <g id=\"line2d_85\">\n    <path clip-path=\"url(#pe6da559852)\" d=\"M 49.633125 136.922727 \nL 69.163125 136.845186 \nL 88.693125 133.16197 \nL 108.223125 130.547718 \nL 127.753125 119.780543 \nL 147.283125 108.697664 \n\" style=\"fill:none;stroke:#2ca02c;stroke-dasharray:9.6,2.4,1.5,2.4;stroke-dashoffset:0;stroke-width:1.5;\"/>\n   </g>\n   <g id=\"line2d_86\">\n    <path clip-path=\"url(#pe6da559852)\" d=\"M 34.954394 13.377273 \nL 44.698573 13.521742 \nL 54.442752 13.543704 \nL 64.186931 13.554882 \nL 73.93111 13.581215 \nL 83.675289 13.751732 \nL 93.419468 14.836268 \nL 103.163647 17.540028 \nL 112.907826 42.142309 \nL 122.652006 56.828083 \nL 132.396185 65.810774 \nL 142.140364 77.089736 \nL 151.884543 84.211169 \nL 161.628722 100.403967 \n\" style=\"fill:none;stroke:#1f77b4;stroke-linecap:square;stroke-width:1.5;\"/>\n   </g>\n   <g id=\"line2d_87\">\n    <path clip-path=\"url(#pe6da559852)\" d=\"M 49.633125 13.542402 \nL 69.163125 13.565374 \nL 88.693125 14.079789 \nL 108.223125 19.730257 \nL 127.753125 62.507403 \nL 147.283125 78.369703 \nL 166.813125 103.386139 \n\" style=\"fill:none;stroke:#ff7f0e;stroke-dasharray:5.55,2.4;stroke-dashoffset:0;stroke-width:1.5;\"/>\n   </g>\n   <g id=\"line2d_88\">\n    <path clip-path=\"url(#pe6da559852)\" d=\"M 49.633125 136.922727 \nL 69.163125 136.845186 \nL 88.693125 133.16197 \nL 108.223125 130.547718 \nL 127.753125 119.780543 \nL 147.283125 108.697664 \n\" style=\"fill:none;stroke:#2ca02c;stroke-dasharray:9.6,2.4,1.5,2.4;stroke-dashoffset:0;stroke-width:1.5;\"/>\n   </g>\n   <g id=\"line2d_89\">\n    <path clip-path=\"url(#pe6da559852)\" d=\"M 34.954394 13.377273 \nL 44.698573 13.521742 \nL 54.442752 13.543704 \nL 64.186931 13.554882 \nL 73.93111 13.581215 \nL 83.675289 13.751732 \nL 93.419468 14.836268 \nL 103.163647 17.540028 \nL 112.907826 42.142309 \nL 122.652006 56.828083 \nL 132.396185 65.810774 \nL 142.140364 77.089736 \nL 151.884543 84.211169 \nL 161.628722 100.403967 \n\" style=\"fill:none;stroke:#1f77b4;stroke-linecap:square;stroke-width:1.5;\"/>\n   </g>\n   <g id=\"line2d_90\">\n    <path clip-path=\"url(#pe6da559852)\" d=\"M 49.633125 13.542402 \nL 69.163125 13.565374 \nL 88.693125 14.079789 \nL 108.223125 19.730257 \nL 127.753125 62.507403 \nL 147.283125 78.369703 \nL 166.813125 103.386139 \n\" style=\"fill:none;stroke:#ff7f0e;stroke-dasharray:5.55,2.4;stroke-dashoffset:0;stroke-width:1.5;\"/>\n   </g>\n   <g id=\"line2d_91\">\n    <path clip-path=\"url(#pe6da559852)\" d=\"M 49.633125 136.922727 \nL 69.163125 136.845186 \nL 88.693125 133.16197 \nL 108.223125 130.547718 \nL 127.753125 119.780543 \nL 147.283125 108.697664 \nL 166.813125 100.893677 \n\" style=\"fill:none;stroke:#2ca02c;stroke-dasharray:9.6,2.4,1.5,2.4;stroke-dashoffset:0;stroke-width:1.5;\"/>\n   </g>\n   <g id=\"line2d_92\">\n    <path clip-path=\"url(#pe6da559852)\" d=\"M 34.954394 13.377273 \nL 44.698573 13.521742 \nL 54.442752 13.543704 \nL 64.186931 13.554882 \nL 73.93111 13.581215 \nL 83.675289 13.751732 \nL 93.419468 14.836268 \nL 103.163647 17.540028 \nL 112.907826 42.142309 \nL 122.652006 56.828083 \nL 132.396185 65.810774 \nL 142.140364 77.089736 \nL 151.884543 84.211169 \nL 161.628722 100.403967 \nL 171.372901 103.825868 \n\" style=\"fill:none;stroke:#1f77b4;stroke-linecap:square;stroke-width:1.5;\"/>\n   </g>\n   <g id=\"line2d_93\">\n    <path clip-path=\"url(#pe6da559852)\" d=\"M 49.633125 13.542402 \nL 69.163125 13.565374 \nL 88.693125 14.079789 \nL 108.223125 19.730257 \nL 127.753125 62.507403 \nL 147.283125 78.369703 \nL 166.813125 103.386139 \n\" style=\"fill:none;stroke:#ff7f0e;stroke-dasharray:5.55,2.4;stroke-dashoffset:0;stroke-width:1.5;\"/>\n   </g>\n   <g id=\"line2d_94\">\n    <path clip-path=\"url(#pe6da559852)\" d=\"M 49.633125 136.922727 \nL 69.163125 136.845186 \nL 88.693125 133.16197 \nL 108.223125 130.547718 \nL 127.753125 119.780543 \nL 147.283125 108.697664 \nL 166.813125 100.893677 \n\" style=\"fill:none;stroke:#2ca02c;stroke-dasharray:9.6,2.4,1.5,2.4;stroke-dashoffset:0;stroke-width:1.5;\"/>\n   </g>\n   <g id=\"line2d_95\">\n    <path clip-path=\"url(#pe6da559852)\" d=\"M 34.954394 13.377273 \nL 44.698573 13.521742 \nL 54.442752 13.543704 \nL 64.186931 13.554882 \nL 73.93111 13.581215 \nL 83.675289 13.751732 \nL 93.419468 14.836268 \nL 103.163647 17.540028 \nL 112.907826 42.142309 \nL 122.652006 56.828083 \nL 132.396185 65.810774 \nL 142.140364 77.089736 \nL 151.884543 84.211169 \nL 161.628722 100.403967 \nL 171.372901 103.825868 \nL 181.11708 107.746255 \n\" style=\"fill:none;stroke:#1f77b4;stroke-linecap:square;stroke-width:1.5;\"/>\n   </g>\n   <g id=\"line2d_96\">\n    <path clip-path=\"url(#pe6da559852)\" d=\"M 49.633125 13.542402 \nL 69.163125 13.565374 \nL 88.693125 14.079789 \nL 108.223125 19.730257 \nL 127.753125 62.507403 \nL 147.283125 78.369703 \nL 166.813125 103.386139 \n\" style=\"fill:none;stroke:#ff7f0e;stroke-dasharray:5.55,2.4;stroke-dashoffset:0;stroke-width:1.5;\"/>\n   </g>\n   <g id=\"line2d_97\">\n    <path clip-path=\"url(#pe6da559852)\" d=\"M 49.633125 136.922727 \nL 69.163125 136.845186 \nL 88.693125 133.16197 \nL 108.223125 130.547718 \nL 127.753125 119.780543 \nL 147.283125 108.697664 \nL 166.813125 100.893677 \n\" style=\"fill:none;stroke:#2ca02c;stroke-dasharray:9.6,2.4,1.5,2.4;stroke-dashoffset:0;stroke-width:1.5;\"/>\n   </g>\n   <g id=\"line2d_98\">\n    <path clip-path=\"url(#pe6da559852)\" d=\"M 34.954394 13.377273 \nL 44.698573 13.521742 \nL 54.442752 13.543704 \nL 64.186931 13.554882 \nL 73.93111 13.581215 \nL 83.675289 13.751732 \nL 93.419468 14.836268 \nL 103.163647 17.540028 \nL 112.907826 42.142309 \nL 122.652006 56.828083 \nL 132.396185 65.810774 \nL 142.140364 77.089736 \nL 151.884543 84.211169 \nL 161.628722 100.403967 \nL 171.372901 103.825868 \nL 181.11708 107.746255 \n\" style=\"fill:none;stroke:#1f77b4;stroke-linecap:square;stroke-width:1.5;\"/>\n   </g>\n   <g id=\"line2d_99\">\n    <path clip-path=\"url(#pe6da559852)\" d=\"M 49.633125 13.542402 \nL 69.163125 13.565374 \nL 88.693125 14.079789 \nL 108.223125 19.730257 \nL 127.753125 62.507403 \nL 147.283125 78.369703 \nL 166.813125 103.386139 \nL 186.343125 107.925907 \n\" style=\"fill:none;stroke:#ff7f0e;stroke-dasharray:5.55,2.4;stroke-dashoffset:0;stroke-width:1.5;\"/>\n   </g>\n   <g id=\"line2d_100\">\n    <path clip-path=\"url(#pe6da559852)\" d=\"M 49.633125 136.922727 \nL 69.163125 136.845186 \nL 88.693125 133.16197 \nL 108.223125 130.547718 \nL 127.753125 119.780543 \nL 147.283125 108.697664 \nL 166.813125 100.893677 \n\" style=\"fill:none;stroke:#2ca02c;stroke-dasharray:9.6,2.4,1.5,2.4;stroke-dashoffset:0;stroke-width:1.5;\"/>\n   </g>\n   <g id=\"line2d_101\">\n    <path clip-path=\"url(#pe6da559852)\" d=\"M 34.954394 13.377273 \nL 44.698573 13.521742 \nL 54.442752 13.543704 \nL 64.186931 13.554882 \nL 73.93111 13.581215 \nL 83.675289 13.751732 \nL 93.419468 14.836268 \nL 103.163647 17.540028 \nL 112.907826 42.142309 \nL 122.652006 56.828083 \nL 132.396185 65.810774 \nL 142.140364 77.089736 \nL 151.884543 84.211169 \nL 161.628722 100.403967 \nL 171.372901 103.825868 \nL 181.11708 107.746255 \n\" style=\"fill:none;stroke:#1f77b4;stroke-linecap:square;stroke-width:1.5;\"/>\n   </g>\n   <g id=\"line2d_102\">\n    <path clip-path=\"url(#pe6da559852)\" d=\"M 49.633125 13.542402 \nL 69.163125 13.565374 \nL 88.693125 14.079789 \nL 108.223125 19.730257 \nL 127.753125 62.507403 \nL 147.283125 78.369703 \nL 166.813125 103.386139 \nL 186.343125 107.925907 \n\" style=\"fill:none;stroke:#ff7f0e;stroke-dasharray:5.55,2.4;stroke-dashoffset:0;stroke-width:1.5;\"/>\n   </g>\n   <g id=\"line2d_103\">\n    <path clip-path=\"url(#pe6da559852)\" d=\"M 49.633125 136.922727 \nL 69.163125 136.845186 \nL 88.693125 133.16197 \nL 108.223125 130.547718 \nL 127.753125 119.780543 \nL 147.283125 108.697664 \nL 166.813125 100.893677 \nL 186.343125 99.603167 \n\" style=\"fill:none;stroke:#2ca02c;stroke-dasharray:9.6,2.4,1.5,2.4;stroke-dashoffset:0;stroke-width:1.5;\"/>\n   </g>\n   <g id=\"line2d_104\">\n    <path clip-path=\"url(#pe6da559852)\" d=\"M 34.954394 13.377273 \nL 44.698573 13.521742 \nL 54.442752 13.543704 \nL 64.186931 13.554882 \nL 73.93111 13.581215 \nL 83.675289 13.751732 \nL 93.419468 14.836268 \nL 103.163647 17.540028 \nL 112.907826 42.142309 \nL 122.652006 56.828083 \nL 132.396185 65.810774 \nL 142.140364 77.089736 \nL 151.884543 84.211169 \nL 161.628722 100.403967 \nL 171.372901 103.825868 \nL 181.11708 107.746255 \nL 190.861259 108.624144 \n\" style=\"fill:none;stroke:#1f77b4;stroke-linecap:square;stroke-width:1.5;\"/>\n   </g>\n   <g id=\"line2d_105\">\n    <path clip-path=\"url(#pe6da559852)\" d=\"M 49.633125 13.542402 \nL 69.163125 13.565374 \nL 88.693125 14.079789 \nL 108.223125 19.730257 \nL 127.753125 62.507403 \nL 147.283125 78.369703 \nL 166.813125 103.386139 \nL 186.343125 107.925907 \n\" style=\"fill:none;stroke:#ff7f0e;stroke-dasharray:5.55,2.4;stroke-dashoffset:0;stroke-width:1.5;\"/>\n   </g>\n   <g id=\"line2d_106\">\n    <path clip-path=\"url(#pe6da559852)\" d=\"M 49.633125 136.922727 \nL 69.163125 136.845186 \nL 88.693125 133.16197 \nL 108.223125 130.547718 \nL 127.753125 119.780543 \nL 147.283125 108.697664 \nL 166.813125 100.893677 \nL 186.343125 99.603167 \n\" style=\"fill:none;stroke:#2ca02c;stroke-dasharray:9.6,2.4,1.5,2.4;stroke-dashoffset:0;stroke-width:1.5;\"/>\n   </g>\n   <g id=\"line2d_107\">\n    <path clip-path=\"url(#pe6da559852)\" d=\"M 34.954394 13.377273 \nL 44.698573 13.521742 \nL 54.442752 13.543704 \nL 64.186931 13.554882 \nL 73.93111 13.581215 \nL 83.675289 13.751732 \nL 93.419468 14.836268 \nL 103.163647 17.540028 \nL 112.907826 42.142309 \nL 122.652006 56.828083 \nL 132.396185 65.810774 \nL 142.140364 77.089736 \nL 151.884543 84.211169 \nL 161.628722 100.403967 \nL 171.372901 103.825868 \nL 181.11708 107.746255 \nL 190.861259 108.624144 \nL 200.605438 111.32323 \n\" style=\"fill:none;stroke:#1f77b4;stroke-linecap:square;stroke-width:1.5;\"/>\n   </g>\n   <g id=\"line2d_108\">\n    <path clip-path=\"url(#pe6da559852)\" d=\"M 49.633125 13.542402 \nL 69.163125 13.565374 \nL 88.693125 14.079789 \nL 108.223125 19.730257 \nL 127.753125 62.507403 \nL 147.283125 78.369703 \nL 166.813125 103.386139 \nL 186.343125 107.925907 \n\" style=\"fill:none;stroke:#ff7f0e;stroke-dasharray:5.55,2.4;stroke-dashoffset:0;stroke-width:1.5;\"/>\n   </g>\n   <g id=\"line2d_109\">\n    <path clip-path=\"url(#pe6da559852)\" d=\"M 49.633125 136.922727 \nL 69.163125 136.845186 \nL 88.693125 133.16197 \nL 108.223125 130.547718 \nL 127.753125 119.780543 \nL 147.283125 108.697664 \nL 166.813125 100.893677 \nL 186.343125 99.603167 \n\" style=\"fill:none;stroke:#2ca02c;stroke-dasharray:9.6,2.4,1.5,2.4;stroke-dashoffset:0;stroke-width:1.5;\"/>\n   </g>\n   <g id=\"line2d_110\">\n    <path clip-path=\"url(#pe6da559852)\" d=\"M 34.954394 13.377273 \nL 44.698573 13.521742 \nL 54.442752 13.543704 \nL 64.186931 13.554882 \nL 73.93111 13.581215 \nL 83.675289 13.751732 \nL 93.419468 14.836268 \nL 103.163647 17.540028 \nL 112.907826 42.142309 \nL 122.652006 56.828083 \nL 132.396185 65.810774 \nL 142.140364 77.089736 \nL 151.884543 84.211169 \nL 161.628722 100.403967 \nL 171.372901 103.825868 \nL 181.11708 107.746255 \nL 190.861259 108.624144 \nL 200.605438 111.32323 \n\" style=\"fill:none;stroke:#1f77b4;stroke-linecap:square;stroke-width:1.5;\"/>\n   </g>\n   <g id=\"line2d_111\">\n    <path clip-path=\"url(#pe6da559852)\" d=\"M 49.633125 13.542402 \nL 69.163125 13.565374 \nL 88.693125 14.079789 \nL 108.223125 19.730257 \nL 127.753125 62.507403 \nL 147.283125 78.369703 \nL 166.813125 103.386139 \nL 186.343125 107.925907 \nL 205.873125 108.951782 \n\" style=\"fill:none;stroke:#ff7f0e;stroke-dasharray:5.55,2.4;stroke-dashoffset:0;stroke-width:1.5;\"/>\n   </g>\n   <g id=\"line2d_112\">\n    <path clip-path=\"url(#pe6da559852)\" d=\"M 49.633125 136.922727 \nL 69.163125 136.845186 \nL 88.693125 133.16197 \nL 108.223125 130.547718 \nL 127.753125 119.780543 \nL 147.283125 108.697664 \nL 166.813125 100.893677 \nL 186.343125 99.603167 \n\" style=\"fill:none;stroke:#2ca02c;stroke-dasharray:9.6,2.4,1.5,2.4;stroke-dashoffset:0;stroke-width:1.5;\"/>\n   </g>\n   <g id=\"line2d_113\">\n    <path clip-path=\"url(#pe6da559852)\" d=\"M 34.954394 13.377273 \nL 44.698573 13.521742 \nL 54.442752 13.543704 \nL 64.186931 13.554882 \nL 73.93111 13.581215 \nL 83.675289 13.751732 \nL 93.419468 14.836268 \nL 103.163647 17.540028 \nL 112.907826 42.142309 \nL 122.652006 56.828083 \nL 132.396185 65.810774 \nL 142.140364 77.089736 \nL 151.884543 84.211169 \nL 161.628722 100.403967 \nL 171.372901 103.825868 \nL 181.11708 107.746255 \nL 190.861259 108.624144 \nL 200.605438 111.32323 \n\" style=\"fill:none;stroke:#1f77b4;stroke-linecap:square;stroke-width:1.5;\"/>\n   </g>\n   <g id=\"line2d_114\">\n    <path clip-path=\"url(#pe6da559852)\" d=\"M 49.633125 13.542402 \nL 69.163125 13.565374 \nL 88.693125 14.079789 \nL 108.223125 19.730257 \nL 127.753125 62.507403 \nL 147.283125 78.369703 \nL 166.813125 103.386139 \nL 186.343125 107.925907 \nL 205.873125 108.951782 \n\" style=\"fill:none;stroke:#ff7f0e;stroke-dasharray:5.55,2.4;stroke-dashoffset:0;stroke-width:1.5;\"/>\n   </g>\n   <g id=\"line2d_115\">\n    <path clip-path=\"url(#pe6da559852)\" d=\"M 49.633125 136.922727 \nL 69.163125 136.845186 \nL 88.693125 133.16197 \nL 108.223125 130.547718 \nL 127.753125 119.780543 \nL 147.283125 108.697664 \nL 166.813125 100.893677 \nL 186.343125 99.603167 \nL 205.873125 99.209921 \n\" style=\"fill:none;stroke:#2ca02c;stroke-dasharray:9.6,2.4,1.5,2.4;stroke-dashoffset:0;stroke-width:1.5;\"/>\n   </g>\n   <g id=\"line2d_116\">\n    <path clip-path=\"url(#pe6da559852)\" d=\"M 34.954394 13.377273 \nL 44.698573 13.521742 \nL 54.442752 13.543704 \nL 64.186931 13.554882 \nL 73.93111 13.581215 \nL 83.675289 13.751732 \nL 93.419468 14.836268 \nL 103.163647 17.540028 \nL 112.907826 42.142309 \nL 122.652006 56.828083 \nL 132.396185 65.810774 \nL 142.140364 77.089736 \nL 151.884543 84.211169 \nL 161.628722 100.403967 \nL 171.372901 103.825868 \nL 181.11708 107.746255 \nL 190.861259 108.624144 \nL 200.605438 111.32323 \nL 210.349618 112.344121 \n\" style=\"fill:none;stroke:#1f77b4;stroke-linecap:square;stroke-width:1.5;\"/>\n   </g>\n   <g id=\"line2d_117\">\n    <path clip-path=\"url(#pe6da559852)\" d=\"M 49.633125 13.542402 \nL 69.163125 13.565374 \nL 88.693125 14.079789 \nL 108.223125 19.730257 \nL 127.753125 62.507403 \nL 147.283125 78.369703 \nL 166.813125 103.386139 \nL 186.343125 107.925907 \nL 205.873125 108.951782 \n\" style=\"fill:none;stroke:#ff7f0e;stroke-dasharray:5.55,2.4;stroke-dashoffset:0;stroke-width:1.5;\"/>\n   </g>\n   <g id=\"line2d_118\">\n    <path clip-path=\"url(#pe6da559852)\" d=\"M 49.633125 136.922727 \nL 69.163125 136.845186 \nL 88.693125 133.16197 \nL 108.223125 130.547718 \nL 127.753125 119.780543 \nL 147.283125 108.697664 \nL 166.813125 100.893677 \nL 186.343125 99.603167 \nL 205.873125 99.209921 \n\" style=\"fill:none;stroke:#2ca02c;stroke-dasharray:9.6,2.4,1.5,2.4;stroke-dashoffset:0;stroke-width:1.5;\"/>\n   </g>\n   <g id=\"line2d_119\">\n    <path clip-path=\"url(#pe6da559852)\" d=\"M 34.954394 13.377273 \nL 44.698573 13.521742 \nL 54.442752 13.543704 \nL 64.186931 13.554882 \nL 73.93111 13.581215 \nL 83.675289 13.751732 \nL 93.419468 14.836268 \nL 103.163647 17.540028 \nL 112.907826 42.142309 \nL 122.652006 56.828083 \nL 132.396185 65.810774 \nL 142.140364 77.089736 \nL 151.884543 84.211169 \nL 161.628722 100.403967 \nL 171.372901 103.825868 \nL 181.11708 107.746255 \nL 190.861259 108.624144 \nL 200.605438 111.32323 \nL 210.349618 112.344121 \nL 220.093797 113.989538 \n\" style=\"fill:none;stroke:#1f77b4;stroke-linecap:square;stroke-width:1.5;\"/>\n   </g>\n   <g id=\"line2d_120\">\n    <path clip-path=\"url(#pe6da559852)\" d=\"M 49.633125 13.542402 \nL 69.163125 13.565374 \nL 88.693125 14.079789 \nL 108.223125 19.730257 \nL 127.753125 62.507403 \nL 147.283125 78.369703 \nL 166.813125 103.386139 \nL 186.343125 107.925907 \nL 205.873125 108.951782 \n\" style=\"fill:none;stroke:#ff7f0e;stroke-dasharray:5.55,2.4;stroke-dashoffset:0;stroke-width:1.5;\"/>\n   </g>\n   <g id=\"line2d_121\">\n    <path clip-path=\"url(#pe6da559852)\" d=\"M 49.633125 136.922727 \nL 69.163125 136.845186 \nL 88.693125 133.16197 \nL 108.223125 130.547718 \nL 127.753125 119.780543 \nL 147.283125 108.697664 \nL 166.813125 100.893677 \nL 186.343125 99.603167 \nL 205.873125 99.209921 \n\" style=\"fill:none;stroke:#2ca02c;stroke-dasharray:9.6,2.4,1.5,2.4;stroke-dashoffset:0;stroke-width:1.5;\"/>\n   </g>\n   <g id=\"line2d_122\">\n    <path clip-path=\"url(#pe6da559852)\" d=\"M 34.954394 13.377273 \nL 44.698573 13.521742 \nL 54.442752 13.543704 \nL 64.186931 13.554882 \nL 73.93111 13.581215 \nL 83.675289 13.751732 \nL 93.419468 14.836268 \nL 103.163647 17.540028 \nL 112.907826 42.142309 \nL 122.652006 56.828083 \nL 132.396185 65.810774 \nL 142.140364 77.089736 \nL 151.884543 84.211169 \nL 161.628722 100.403967 \nL 171.372901 103.825868 \nL 181.11708 107.746255 \nL 190.861259 108.624144 \nL 200.605438 111.32323 \nL 210.349618 112.344121 \nL 220.093797 113.989538 \n\" style=\"fill:none;stroke:#1f77b4;stroke-linecap:square;stroke-width:1.5;\"/>\n   </g>\n   <g id=\"line2d_123\">\n    <path clip-path=\"url(#pe6da559852)\" d=\"M 49.633125 13.542402 \nL 69.163125 13.565374 \nL 88.693125 14.079789 \nL 108.223125 19.730257 \nL 127.753125 62.507403 \nL 147.283125 78.369703 \nL 166.813125 103.386139 \nL 186.343125 107.925907 \nL 205.873125 108.951782 \nL 225.403125 114.081443 \n\" style=\"fill:none;stroke:#ff7f0e;stroke-dasharray:5.55,2.4;stroke-dashoffset:0;stroke-width:1.5;\"/>\n   </g>\n   <g id=\"line2d_124\">\n    <path clip-path=\"url(#pe6da559852)\" d=\"M 49.633125 136.922727 \nL 69.163125 136.845186 \nL 88.693125 133.16197 \nL 108.223125 130.547718 \nL 127.753125 119.780543 \nL 147.283125 108.697664 \nL 166.813125 100.893677 \nL 186.343125 99.603167 \nL 205.873125 99.209921 \n\" style=\"fill:none;stroke:#2ca02c;stroke-dasharray:9.6,2.4,1.5,2.4;stroke-dashoffset:0;stroke-width:1.5;\"/>\n   </g>\n   <g id=\"line2d_125\">\n    <path clip-path=\"url(#pe6da559852)\" d=\"M 34.954394 13.377273 \nL 44.698573 13.521742 \nL 54.442752 13.543704 \nL 64.186931 13.554882 \nL 73.93111 13.581215 \nL 83.675289 13.751732 \nL 93.419468 14.836268 \nL 103.163647 17.540028 \nL 112.907826 42.142309 \nL 122.652006 56.828083 \nL 132.396185 65.810774 \nL 142.140364 77.089736 \nL 151.884543 84.211169 \nL 161.628722 100.403967 \nL 171.372901 103.825868 \nL 181.11708 107.746255 \nL 190.861259 108.624144 \nL 200.605438 111.32323 \nL 210.349618 112.344121 \nL 220.093797 113.989538 \n\" style=\"fill:none;stroke:#1f77b4;stroke-linecap:square;stroke-width:1.5;\"/>\n   </g>\n   <g id=\"line2d_126\">\n    <path clip-path=\"url(#pe6da559852)\" d=\"M 49.633125 13.542402 \nL 69.163125 13.565374 \nL 88.693125 14.079789 \nL 108.223125 19.730257 \nL 127.753125 62.507403 \nL 147.283125 78.369703 \nL 166.813125 103.386139 \nL 186.343125 107.925907 \nL 205.873125 108.951782 \nL 225.403125 114.081443 \n\" style=\"fill:none;stroke:#ff7f0e;stroke-dasharray:5.55,2.4;stroke-dashoffset:0;stroke-width:1.5;\"/>\n   </g>\n   <g id=\"line2d_127\">\n    <path clip-path=\"url(#pe6da559852)\" d=\"M 49.633125 136.922727 \nL 69.163125 136.845186 \nL 88.693125 133.16197 \nL 108.223125 130.547718 \nL 127.753125 119.780543 \nL 147.283125 108.697664 \nL 166.813125 100.893677 \nL 186.343125 99.603167 \nL 205.873125 99.209921 \nL 225.403125 96.900296 \n\" style=\"fill:none;stroke:#2ca02c;stroke-dasharray:9.6,2.4,1.5,2.4;stroke-dashoffset:0;stroke-width:1.5;\"/>\n   </g>\n   <g id=\"patch_3\">\n    <path d=\"M 30.103125 143.1 \nL 30.103125 7.2 \n\" style=\"fill:none;stroke:#000000;stroke-linecap:square;stroke-linejoin:miter;stroke-width:0.8;\"/>\n   </g>\n   <g id=\"patch_4\">\n    <path d=\"M 225.403125 143.1 \nL 225.403125 7.2 \n\" style=\"fill:none;stroke:#000000;stroke-linecap:square;stroke-linejoin:miter;stroke-width:0.8;\"/>\n   </g>\n   <g id=\"patch_5\">\n    <path d=\"M 30.103125 143.1 \nL 225.403125 143.1 \n\" style=\"fill:none;stroke:#000000;stroke-linecap:square;stroke-linejoin:miter;stroke-width:0.8;\"/>\n   </g>\n   <g id=\"patch_6\">\n    <path d=\"M 30.103125 7.2 \nL 225.403125 7.2 \n\" style=\"fill:none;stroke:#000000;stroke-linecap:square;stroke-linejoin:miter;stroke-width:0.8;\"/>\n   </g>\n   <g id=\"legend_1\">\n    <g id=\"patch_7\">\n     <path d=\"M 138.8125 60.06875 \nL 218.403125 60.06875 \nQ 220.403125 60.06875 220.403125 58.06875 \nL 220.403125 14.2 \nQ 220.403125 12.2 218.403125 12.2 \nL 138.8125 12.2 \nQ 136.8125 12.2 136.8125 14.2 \nL 136.8125 58.06875 \nQ 136.8125 60.06875 138.8125 60.06875 \nz\n\" style=\"fill:#ffffff;opacity:0.8;stroke:#cccccc;stroke-linejoin:miter;\"/>\n    </g>\n    <g id=\"line2d_128\">\n     <path d=\"M 140.8125 20.298437 \nL 160.8125 20.298437 \n\" style=\"fill:none;stroke:#1f77b4;stroke-linecap:square;stroke-width:1.5;\"/>\n    </g>\n    <g id=\"line2d_129\"/>\n    <g id=\"text_13\">\n     <!-- train_loss -->\n     <defs>\n      <path d=\"M 18.3125 70.21875 \nL 18.3125 54.6875 \nL 36.8125 54.6875 \nL 36.8125 47.703125 \nL 18.3125 47.703125 \nL 18.3125 18.015625 \nQ 18.3125 11.328125 20.140625 9.421875 \nQ 21.96875 7.515625 27.59375 7.515625 \nL 36.8125 7.515625 \nL 36.8125 0 \nL 27.59375 0 \nQ 17.1875 0 13.234375 3.875 \nQ 9.28125 7.765625 9.28125 18.015625 \nL 9.28125 47.703125 \nL 2.6875 47.703125 \nL 2.6875 54.6875 \nL 9.28125 54.6875 \nL 9.28125 70.21875 \nz\n\" id=\"DejaVuSans-116\"/>\n      <path d=\"M 41.109375 46.296875 \nQ 39.59375 47.171875 37.8125 47.578125 \nQ 36.03125 48 33.890625 48 \nQ 26.265625 48 22.1875 43.046875 \nQ 18.109375 38.09375 18.109375 28.8125 \nL 18.109375 0 \nL 9.078125 0 \nL 9.078125 54.6875 \nL 18.109375 54.6875 \nL 18.109375 46.1875 \nQ 20.953125 51.171875 25.484375 53.578125 \nQ 30.03125 56 36.53125 56 \nQ 37.453125 56 38.578125 55.875 \nQ 39.703125 55.765625 41.0625 55.515625 \nz\n\" id=\"DejaVuSans-114\"/>\n      <path d=\"M 34.28125 27.484375 \nQ 23.390625 27.484375 19.1875 25 \nQ 14.984375 22.515625 14.984375 16.5 \nQ 14.984375 11.71875 18.140625 8.90625 \nQ 21.296875 6.109375 26.703125 6.109375 \nQ 34.1875 6.109375 38.703125 11.40625 \nQ 43.21875 16.703125 43.21875 25.484375 \nL 43.21875 27.484375 \nz\nM 52.203125 31.203125 \nL 52.203125 0 \nL 43.21875 0 \nL 43.21875 8.296875 \nQ 40.140625 3.328125 35.546875 0.953125 \nQ 30.953125 -1.421875 24.3125 -1.421875 \nQ 15.921875 -1.421875 10.953125 3.296875 \nQ 6 8.015625 6 15.921875 \nQ 6 25.140625 12.171875 29.828125 \nQ 18.359375 34.515625 30.609375 34.515625 \nL 43.21875 34.515625 \nL 43.21875 35.40625 \nQ 43.21875 41.609375 39.140625 45 \nQ 35.0625 48.390625 27.6875 48.390625 \nQ 23 48.390625 18.546875 47.265625 \nQ 14.109375 46.140625 10.015625 43.890625 \nL 10.015625 52.203125 \nQ 14.9375 54.109375 19.578125 55.046875 \nQ 24.21875 56 28.609375 56 \nQ 40.484375 56 46.34375 49.84375 \nQ 52.203125 43.703125 52.203125 31.203125 \nz\n\" id=\"DejaVuSans-97\"/>\n      <path d=\"M 9.421875 54.6875 \nL 18.40625 54.6875 \nL 18.40625 0 \nL 9.421875 0 \nz\nM 9.421875 75.984375 \nL 18.40625 75.984375 \nL 18.40625 64.59375 \nL 9.421875 64.59375 \nz\n\" id=\"DejaVuSans-105\"/>\n      <path d=\"M 54.890625 33.015625 \nL 54.890625 0 \nL 45.90625 0 \nL 45.90625 32.71875 \nQ 45.90625 40.484375 42.875 44.328125 \nQ 39.84375 48.1875 33.796875 48.1875 \nQ 26.515625 48.1875 22.3125 43.546875 \nQ 18.109375 38.921875 18.109375 30.90625 \nL 18.109375 0 \nL 9.078125 0 \nL 9.078125 54.6875 \nL 18.109375 54.6875 \nL 18.109375 46.1875 \nQ 21.34375 51.125 25.703125 53.5625 \nQ 30.078125 56 35.796875 56 \nQ 45.21875 56 50.046875 50.171875 \nQ 54.890625 44.34375 54.890625 33.015625 \nz\n\" id=\"DejaVuSans-110\"/>\n      <path d=\"M 50.984375 -16.609375 \nL 50.984375 -23.578125 \nL -0.984375 -23.578125 \nL -0.984375 -16.609375 \nz\n\" id=\"DejaVuSans-95\"/>\n      <path d=\"M 9.421875 75.984375 \nL 18.40625 75.984375 \nL 18.40625 0 \nL 9.421875 0 \nz\n\" id=\"DejaVuSans-108\"/>\n      <path d=\"M 44.28125 53.078125 \nL 44.28125 44.578125 \nQ 40.484375 46.53125 36.375 47.5 \nQ 32.28125 48.484375 27.875 48.484375 \nQ 21.1875 48.484375 17.84375 46.4375 \nQ 14.5 44.390625 14.5 40.28125 \nQ 14.5 37.15625 16.890625 35.375 \nQ 19.28125 33.59375 26.515625 31.984375 \nL 29.59375 31.296875 \nQ 39.15625 29.25 43.1875 25.515625 \nQ 47.21875 21.78125 47.21875 15.09375 \nQ 47.21875 7.46875 41.1875 3.015625 \nQ 35.15625 -1.421875 24.609375 -1.421875 \nQ 20.21875 -1.421875 15.453125 -0.5625 \nQ 10.6875 0.296875 5.421875 2 \nL 5.421875 11.28125 \nQ 10.40625 8.6875 15.234375 7.390625 \nQ 20.0625 6.109375 24.8125 6.109375 \nQ 31.15625 6.109375 34.5625 8.28125 \nQ 37.984375 10.453125 37.984375 14.40625 \nQ 37.984375 18.0625 35.515625 20.015625 \nQ 33.0625 21.96875 24.703125 23.78125 \nL 21.578125 24.515625 \nQ 13.234375 26.265625 9.515625 29.90625 \nQ 5.8125 33.546875 5.8125 39.890625 \nQ 5.8125 47.609375 11.28125 51.796875 \nQ 16.75 56 26.8125 56 \nQ 31.78125 56 36.171875 55.265625 \nQ 40.578125 54.546875 44.28125 53.078125 \nz\n\" id=\"DejaVuSans-115\"/>\n     </defs>\n     <g transform=\"translate(168.8125 23.798437)scale(0.1 -0.1)\">\n      <use xlink:href=\"#DejaVuSans-116\"/>\n      <use x=\"39.208984\" xlink:href=\"#DejaVuSans-114\"/>\n      <use x=\"80.322266\" xlink:href=\"#DejaVuSans-97\"/>\n      <use x=\"141.601562\" xlink:href=\"#DejaVuSans-105\"/>\n      <use x=\"169.384766\" xlink:href=\"#DejaVuSans-110\"/>\n      <use x=\"232.763672\" xlink:href=\"#DejaVuSans-95\"/>\n      <use x=\"282.763672\" xlink:href=\"#DejaVuSans-108\"/>\n      <use x=\"310.546875\" xlink:href=\"#DejaVuSans-111\"/>\n      <use x=\"371.728516\" xlink:href=\"#DejaVuSans-115\"/>\n      <use x=\"423.828125\" xlink:href=\"#DejaVuSans-115\"/>\n     </g>\n    </g>\n    <g id=\"line2d_130\">\n     <path d=\"M 140.8125 35.254687 \nL 160.8125 35.254687 \n\" style=\"fill:none;stroke:#ff7f0e;stroke-dasharray:5.55,2.4;stroke-dashoffset:0;stroke-width:1.5;\"/>\n    </g>\n    <g id=\"line2d_131\"/>\n    <g id=\"text_14\">\n     <!-- val_loss -->\n     <defs>\n      <path d=\"M 2.984375 54.6875 \nL 12.5 54.6875 \nL 29.59375 8.796875 \nL 46.6875 54.6875 \nL 56.203125 54.6875 \nL 35.6875 0 \nL 23.484375 0 \nz\n\" id=\"DejaVuSans-118\"/>\n     </defs>\n     <g transform=\"translate(168.8125 38.754687)scale(0.1 -0.1)\">\n      <use xlink:href=\"#DejaVuSans-118\"/>\n      <use x=\"59.179688\" xlink:href=\"#DejaVuSans-97\"/>\n      <use x=\"120.458984\" xlink:href=\"#DejaVuSans-108\"/>\n      <use x=\"148.242188\" xlink:href=\"#DejaVuSans-95\"/>\n      <use x=\"198.242188\" xlink:href=\"#DejaVuSans-108\"/>\n      <use x=\"226.025391\" xlink:href=\"#DejaVuSans-111\"/>\n      <use x=\"287.207031\" xlink:href=\"#DejaVuSans-115\"/>\n      <use x=\"339.306641\" xlink:href=\"#DejaVuSans-115\"/>\n     </g>\n    </g>\n    <g id=\"line2d_132\">\n     <path d=\"M 140.8125 50.210937 \nL 160.8125 50.210937 \n\" style=\"fill:none;stroke:#2ca02c;stroke-dasharray:9.6,2.4,1.5,2.4;stroke-dashoffset:0;stroke-width:1.5;\"/>\n    </g>\n    <g id=\"line2d_133\"/>\n    <g id=\"text_15\">\n     <!-- val_acc -->\n     <g transform=\"translate(168.8125 53.710937)scale(0.1 -0.1)\">\n      <use xlink:href=\"#DejaVuSans-118\"/>\n      <use x=\"59.179688\" xlink:href=\"#DejaVuSans-97\"/>\n      <use x=\"120.458984\" xlink:href=\"#DejaVuSans-108\"/>\n      <use x=\"148.242188\" xlink:href=\"#DejaVuSans-95\"/>\n      <use x=\"198.242188\" xlink:href=\"#DejaVuSans-97\"/>\n      <use x=\"259.521484\" xlink:href=\"#DejaVuSans-99\"/>\n      <use x=\"314.501953\" xlink:href=\"#DejaVuSans-99\"/>\n     </g>\n    </g>\n   </g>\n  </g>\n </g>\n <defs>\n  <clipPath id=\"pe6da559852\">\n   <rect height=\"135.9\" width=\"195.3\" x=\"30.103125\" y=\"7.2\"/>\n  </clipPath>\n </defs>\n</svg>\n"
          },
          "metadata": {
            "needs_background": "light"
          }
        }
      ]
    },
    {
      "cell_type": "markdown",
      "source": [
        "## 8.4 Multi-Branch Networks (GoogLeNet)"
      ],
      "metadata": {
        "id": "XzHlYve0NKMe"
      }
    },
    {
      "cell_type": "markdown",
      "source": [
        "### 8.4.1 Inception Blocks"
      ],
      "metadata": {
        "id": "3ErLy7CVNR19"
      }
    },
    {
      "cell_type": "code",
      "source": [
        "import torch\n",
        "from torch import nn\n",
        "from torch.nn import functional as F\n",
        "from d2l import torch as d2l"
      ],
      "metadata": {
        "id": "8xA9vWgRNbLt"
      },
      "execution_count": 2,
      "outputs": []
    },
    {
      "cell_type": "code",
      "source": [
        "class Inception(nn.Module):\n",
        "  def __init__(self, c1, c2, c3, c4, **kwargs):\n",
        "    super(Inception, self).__init__(**kwargs)\n",
        "\n",
        "    # Branch 1\n",
        "    self.b1_1 = nn.LazyConv2d(c1, kernel_size=1)\n",
        "\n",
        "    # Branch 2\n",
        "    self.b2_1 = nn.LazyConv2d(c2[0], kernel_size=1)\n",
        "    self.b2_2 = nn.LazyConv2d(c2[1], kernel_size=3, padding=1)\n",
        "\n",
        "    # Branch 3\n",
        "    self.b3_1 = nn.LazyConv2d(c3[0], kernel_size=1)\n",
        "    self.b3_2 = nn.LazyConv2d(c3[1], kernel_size=5, padding=2)\n",
        "\n",
        "    # Branch 4\n",
        "    self.b4_1 = nn.MaxPool2d(kernel_size=3, stride=1, padding=1)\n",
        "    self.b4_2 = nn.LazyConv2d(c4, kernel_size=1)\n",
        "\n",
        "  def forward(self, x):\n",
        "    b1 = F.relu(self.b1_1(x))\n",
        "    b2 = F.relu(self.b2_2(F.relu(self.b2_1(x))))\n",
        "    b3 = F.relu(self.b3_2(F.relu(self.b3_1(x))))\n",
        "    b4 = F.relu(self.b4_2(self.b4_1(x)))\n",
        "    return torch.cat((b1, b2, b3, b4), dim=1)\n"
      ],
      "metadata": {
        "id": "07L-RYGSNr7N"
      },
      "execution_count": 20,
      "outputs": []
    },
    {
      "cell_type": "markdown",
      "source": [
        "### 8.4.2 GoogLeNet Model"
      ],
      "metadata": {
        "id": "oloFVP8gR3E5"
      }
    },
    {
      "cell_type": "code",
      "source": [
        "class GoogleNet(d2l.Classifier):\n",
        "  def b1(self):\n",
        "    return nn.Sequential(\n",
        "        nn.LazyConv2d(64, kernel_size=7, stride=2, padding=3),\n",
        "        nn.ReLU(), nn.MaxPool2d(kernel_size=3, stride=2, padding=1))"
      ],
      "metadata": {
        "id": "Ha2D6t0IR67n"
      },
      "execution_count": 21,
      "outputs": []
    },
    {
      "cell_type": "code",
      "source": [
        "@d2l.add_to_class(GoogleNet)\n",
        "def b2(self):\n",
        "  return nn.Sequential(\n",
        "      nn.LazyConv2d(64, kernel_size=1), nn.ReLU(),\n",
        "      nn.LazyConv2d(192, kernel_size=3, padding=1), nn.ReLU(),\n",
        "      nn.MaxPool2d(kernel_size=3, stride=2, padding=1))"
      ],
      "metadata": {
        "id": "ipDAoKHaSnDm"
      },
      "execution_count": 22,
      "outputs": []
    },
    {
      "cell_type": "code",
      "source": [
        "@d2l.add_to_class(GoogleNet)\n",
        "def b3(self):\n",
        "  return nn.Sequential(\n",
        "      Inception(64, (96, 128), (16, 32), 32),\n",
        "      Inception(128, (128, 192), (32, 96), 64),\n",
        "      nn.MaxPool2d(kernel_size=3, stride=2, padding=1))"
      ],
      "metadata": {
        "id": "9OP63IAxTezf"
      },
      "execution_count": 23,
      "outputs": []
    },
    {
      "cell_type": "code",
      "source": [
        "@d2l.add_to_class(GoogleNet)\n",
        "def b4(self):\n",
        "  return nn.Sequential(\n",
        "      Inception(192, (96, 208), (16, 48), 64),\n",
        "      Inception(160, (112, 224), (24, 64), 64),\n",
        "      Inception(128, (128, 256), (24, 64), 64),\n",
        "      Inception(112, (144, 288), (32, 64), 64),\n",
        "      Inception(256, (160, 320), (32, 128), 128),\n",
        "      nn.MaxPool2d(kernel_size=3, stride=2, padding=1))"
      ],
      "metadata": {
        "id": "1Nbv_2iGUDBo"
      },
      "execution_count": 24,
      "outputs": []
    },
    {
      "cell_type": "code",
      "source": [
        "@d2l.add_to_class(GoogleNet)\n",
        "def b5(self):\n",
        "  return nn.Sequential(\n",
        "      Inception(256, (160, 320), (32, 128), 128),\n",
        "      Inception(384, (192, 384), (48, 128), 128),\n",
        "      nn.AdaptiveAvgPool2d((1, 1)), nn.Flatten())"
      ],
      "metadata": {
        "id": "adBJvjPPVKCh"
      },
      "execution_count": 25,
      "outputs": []
    },
    {
      "cell_type": "code",
      "source": [
        "@d2l.add_to_class(GoogleNet)\n",
        "def __init__(self, lr=0.1, num_classes=10):\n",
        "  super(GoogleNet, self).__init__()\n",
        "  self.save_hyperparameters()\n",
        "\n",
        "  self.net = nn.Sequential(\n",
        "      self.b1(),\n",
        "      self.b2(),\n",
        "      self.b3(),\n",
        "      self.b4(),\n",
        "      self.b5(),\n",
        "      nn.LazyLinear(num_classes))\n",
        "  self.net.apply(d2l.init_cnn)"
      ],
      "metadata": {
        "id": "nyOY2v-WZQFv"
      },
      "execution_count": 26,
      "outputs": []
    },
    {
      "cell_type": "code",
      "source": [
        "model = GoogleNet().layer_summary((1, 1, 96, 96))"
      ],
      "metadata": {
        "colab": {
          "base_uri": "https://localhost:8080/"
        },
        "id": "y4zfnmblZ6Lb",
        "outputId": "bc32f0f0-5271-494f-9c0f-c04ea3cf0840"
      },
      "execution_count": 29,
      "outputs": [
        {
          "output_type": "stream",
          "name": "stdout",
          "text": [
            "Sequential output shape:\t torch.Size([1, 64, 24, 24])\n",
            "Sequential output shape:\t torch.Size([1, 192, 12, 12])\n",
            "Sequential output shape:\t torch.Size([1, 480, 6, 6])\n",
            "Sequential output shape:\t torch.Size([1, 832, 3, 3])\n",
            "Sequential output shape:\t torch.Size([1, 1024])\n",
            "Linear output shape:\t torch.Size([1, 10])\n"
          ]
        }
      ]
    },
    {
      "cell_type": "markdown",
      "source": [
        "### 8.4.3 Training"
      ],
      "metadata": {
        "id": "38A-CcogZNkY"
      }
    },
    {
      "cell_type": "code",
      "source": [
        "model = GoogleNet(lr=0.01)\n",
        "trainer = d2l.Trainer(max_epochs=10, num_gpus=1)\n",
        "data = d2l.FashionMNIST(batch_size=128, resize=(96, 96))\n",
        "model.apply_init([next(iter(data.get_dataloader(True)))[0]], d2l.init_cnn)\n",
        "trainer.fit(model, data)"
      ],
      "metadata": {
        "colab": {
          "base_uri": "https://localhost:8080/",
          "height": 262,
          "referenced_widgets": [
            "449e37d70bd845249656b83014b3c75f",
            "a85e99d332b04bf9ba42824a95925b8b",
            "bc2f9f23ab454ce0915d85b6be82d737",
            "3469fded03a2459786a3c951cea1d133",
            "c9d97d32d3ea4013a0025348fac7a5ad",
            "339daf0fe3d4480ba45774570117e396",
            "574a5b3b07c04db49b033b67f87e6907",
            "d2fae395a525424eb41dabe46b39298f",
            "67a3b644dd944234864f0682a12d4b5a",
            "0539a685941c45f38f6c4bd014fa2869",
            "2dd03e84f09b4ec4b4d8029eb6e9685b",
            "000f3883a548404f8ade488acedeea4d",
            "1d77e807a5824cacaae45902f741d09a",
            "f37c1e022da04a11b625390c047c211e",
            "72a9953d465447a9ae3aff06dde3f41a",
            "0505d60f391c48118bc2a87d4332e2eb",
            "60cb9c1596ff4c7bba7f2ec642d1332e",
            "89f1e313e39e448f81c530eaf1c85fb4",
            "355c3a99892d4247841edaa3f0a3d764",
            "bfac0474664f4d2ba7adb70de303a5ef",
            "0f40a1a2391a40a388582169515408f9",
            "f8dfd0b582dc44eea2e19c302b6f4ee9",
            "6fe7e15488f443298551c0556d3941b9",
            "de24cdbb868b43268c3026239f7ab167",
            "3d681481935847308ae80172c223ee54",
            "29079286c7644e51b4c7c1610c201f73",
            "1a2b5776782549e685b70b9cce60351d",
            "5799ae26f26b4800a9fe1874248e2ce3",
            "c371f110a8f0466ab3ee9e67cacd9a2a",
            "74cdfdddaac3443da8db96a67b37eac4",
            "f6e489711ec94794bc8abd38672e0137",
            "6d59ec51a966446c978372afc0abad9f",
            "c1b4b7bf02f2443ab9fd4941f4c1d5b7",
            "75bc9626fa484f678fd119c53420e492",
            "ee95fd536f094cb4abb8ffe3919bfc60",
            "4506bc7d68094be2933f875c1fdbe54e",
            "df06634327b4457d9ccd2331dad08537",
            "2582c68e9f57453a8a9f6e98c7e1b4d4",
            "d00897724a3d4132a3411be41ad08caf",
            "338b507aa68c432092e6f9ad84e49eb9",
            "fc1ec32dbe534772b02d657498469add",
            "d549ade5e8704f80a2de32541eca3a34",
            "f9f66ed934b2418ea0854e4e68acfeaf",
            "abddc5ff9f54437f8b86191e15bcf49b"
          ]
        },
        "id": "csdoRLluazrw",
        "outputId": "ffddba7e-6f87-4f3e-a6eb-0de79f20c1d7"
      },
      "execution_count": 28,
      "outputs": [
        {
          "output_type": "display_data",
          "data": {
            "text/plain": [
              "<Figure size 252x180 with 1 Axes>"
            ],
            "image/svg+xml": "<?xml version=\"1.0\" encoding=\"utf-8\" standalone=\"no\"?>\n<!DOCTYPE svg PUBLIC \"-//W3C//DTD SVG 1.1//EN\"\n  \"http://www.w3.org/Graphics/SVG/1.1/DTD/svg11.dtd\">\n<!-- Created with matplotlib (https://matplotlib.org/) -->\n<svg height=\"180.65625pt\" version=\"1.1\" viewBox=\"0 0 238.965625 180.65625\" width=\"238.965625pt\" xmlns=\"http://www.w3.org/2000/svg\" xmlns:xlink=\"http://www.w3.org/1999/xlink\">\n <defs>\n  <style type=\"text/css\">\n*{stroke-linecap:butt;stroke-linejoin:round;}\n  </style>\n </defs>\n <g id=\"figure_1\">\n  <g id=\"patch_1\">\n   <path d=\"M 0 180.65625 \nL 238.965625 180.65625 \nL 238.965625 0 \nL 0 0 \nz\n\" style=\"fill:none;\"/>\n  </g>\n  <g id=\"axes_1\">\n   <g id=\"patch_2\">\n    <path d=\"M 30.103125 143.1 \nL 225.403125 143.1 \nL 225.403125 7.2 \nL 30.103125 7.2 \nz\n\" style=\"fill:#ffffff;\"/>\n   </g>\n   <g id=\"matplotlib.axis_1\">\n    <g id=\"xtick_1\">\n     <g id=\"line2d_1\">\n      <defs>\n       <path d=\"M 0 0 \nL 0 3.5 \n\" id=\"mb6f9567ee8\" style=\"stroke:#000000;stroke-width:0.8;\"/>\n      </defs>\n      <g>\n       <use style=\"stroke:#000000;stroke-width:0.8;\" x=\"30.103125\" xlink:href=\"#mb6f9567ee8\" y=\"143.1\"/>\n      </g>\n     </g>\n     <g id=\"text_1\">\n      <!-- 0 -->\n      <defs>\n       <path d=\"M 31.78125 66.40625 \nQ 24.171875 66.40625 20.328125 58.90625 \nQ 16.5 51.421875 16.5 36.375 \nQ 16.5 21.390625 20.328125 13.890625 \nQ 24.171875 6.390625 31.78125 6.390625 \nQ 39.453125 6.390625 43.28125 13.890625 \nQ 47.125 21.390625 47.125 36.375 \nQ 47.125 51.421875 43.28125 58.90625 \nQ 39.453125 66.40625 31.78125 66.40625 \nz\nM 31.78125 74.21875 \nQ 44.046875 74.21875 50.515625 64.515625 \nQ 56.984375 54.828125 56.984375 36.375 \nQ 56.984375 17.96875 50.515625 8.265625 \nQ 44.046875 -1.421875 31.78125 -1.421875 \nQ 19.53125 -1.421875 13.0625 8.265625 \nQ 6.59375 17.96875 6.59375 36.375 \nQ 6.59375 54.828125 13.0625 64.515625 \nQ 19.53125 74.21875 31.78125 74.21875 \nz\n\" id=\"DejaVuSans-48\"/>\n      </defs>\n      <g transform=\"translate(26.921875 157.698438)scale(0.1 -0.1)\">\n       <use xlink:href=\"#DejaVuSans-48\"/>\n      </g>\n     </g>\n    </g>\n    <g id=\"xtick_2\">\n     <g id=\"line2d_2\">\n      <g>\n       <use style=\"stroke:#000000;stroke-width:0.8;\" x=\"69.163125\" xlink:href=\"#mb6f9567ee8\" y=\"143.1\"/>\n      </g>\n     </g>\n     <g id=\"text_2\">\n      <!-- 2 -->\n      <defs>\n       <path d=\"M 19.1875 8.296875 \nL 53.609375 8.296875 \nL 53.609375 0 \nL 7.328125 0 \nL 7.328125 8.296875 \nQ 12.9375 14.109375 22.625 23.890625 \nQ 32.328125 33.6875 34.8125 36.53125 \nQ 39.546875 41.84375 41.421875 45.53125 \nQ 43.3125 49.21875 43.3125 52.78125 \nQ 43.3125 58.59375 39.234375 62.25 \nQ 35.15625 65.921875 28.609375 65.921875 \nQ 23.96875 65.921875 18.8125 64.3125 \nQ 13.671875 62.703125 7.8125 59.421875 \nL 7.8125 69.390625 \nQ 13.765625 71.78125 18.9375 73 \nQ 24.125 74.21875 28.421875 74.21875 \nQ 39.75 74.21875 46.484375 68.546875 \nQ 53.21875 62.890625 53.21875 53.421875 \nQ 53.21875 48.921875 51.53125 44.890625 \nQ 49.859375 40.875 45.40625 35.40625 \nQ 44.1875 33.984375 37.640625 27.21875 \nQ 31.109375 20.453125 19.1875 8.296875 \nz\n\" id=\"DejaVuSans-50\"/>\n      </defs>\n      <g transform=\"translate(65.981875 157.698438)scale(0.1 -0.1)\">\n       <use xlink:href=\"#DejaVuSans-50\"/>\n      </g>\n     </g>\n    </g>\n    <g id=\"xtick_3\">\n     <g id=\"line2d_3\">\n      <g>\n       <use style=\"stroke:#000000;stroke-width:0.8;\" x=\"108.223125\" xlink:href=\"#mb6f9567ee8\" y=\"143.1\"/>\n      </g>\n     </g>\n     <g id=\"text_3\">\n      <!-- 4 -->\n      <defs>\n       <path d=\"M 37.796875 64.3125 \nL 12.890625 25.390625 \nL 37.796875 25.390625 \nz\nM 35.203125 72.90625 \nL 47.609375 72.90625 \nL 47.609375 25.390625 \nL 58.015625 25.390625 \nL 58.015625 17.1875 \nL 47.609375 17.1875 \nL 47.609375 0 \nL 37.796875 0 \nL 37.796875 17.1875 \nL 4.890625 17.1875 \nL 4.890625 26.703125 \nz\n\" id=\"DejaVuSans-52\"/>\n      </defs>\n      <g transform=\"translate(105.041875 157.698438)scale(0.1 -0.1)\">\n       <use xlink:href=\"#DejaVuSans-52\"/>\n      </g>\n     </g>\n    </g>\n    <g id=\"xtick_4\">\n     <g id=\"line2d_4\">\n      <g>\n       <use style=\"stroke:#000000;stroke-width:0.8;\" x=\"147.283125\" xlink:href=\"#mb6f9567ee8\" y=\"143.1\"/>\n      </g>\n     </g>\n     <g id=\"text_4\">\n      <!-- 6 -->\n      <defs>\n       <path d=\"M 33.015625 40.375 \nQ 26.375 40.375 22.484375 35.828125 \nQ 18.609375 31.296875 18.609375 23.390625 \nQ 18.609375 15.53125 22.484375 10.953125 \nQ 26.375 6.390625 33.015625 6.390625 \nQ 39.65625 6.390625 43.53125 10.953125 \nQ 47.40625 15.53125 47.40625 23.390625 \nQ 47.40625 31.296875 43.53125 35.828125 \nQ 39.65625 40.375 33.015625 40.375 \nz\nM 52.59375 71.296875 \nL 52.59375 62.3125 \nQ 48.875 64.0625 45.09375 64.984375 \nQ 41.3125 65.921875 37.59375 65.921875 \nQ 27.828125 65.921875 22.671875 59.328125 \nQ 17.53125 52.734375 16.796875 39.40625 \nQ 19.671875 43.65625 24.015625 45.921875 \nQ 28.375 48.1875 33.59375 48.1875 \nQ 44.578125 48.1875 50.953125 41.515625 \nQ 57.328125 34.859375 57.328125 23.390625 \nQ 57.328125 12.15625 50.6875 5.359375 \nQ 44.046875 -1.421875 33.015625 -1.421875 \nQ 20.359375 -1.421875 13.671875 8.265625 \nQ 6.984375 17.96875 6.984375 36.375 \nQ 6.984375 53.65625 15.1875 63.9375 \nQ 23.390625 74.21875 37.203125 74.21875 \nQ 40.921875 74.21875 44.703125 73.484375 \nQ 48.484375 72.75 52.59375 71.296875 \nz\n\" id=\"DejaVuSans-54\"/>\n      </defs>\n      <g transform=\"translate(144.101875 157.698438)scale(0.1 -0.1)\">\n       <use xlink:href=\"#DejaVuSans-54\"/>\n      </g>\n     </g>\n    </g>\n    <g id=\"xtick_5\">\n     <g id=\"line2d_5\">\n      <g>\n       <use style=\"stroke:#000000;stroke-width:0.8;\" x=\"186.343125\" xlink:href=\"#mb6f9567ee8\" y=\"143.1\"/>\n      </g>\n     </g>\n     <g id=\"text_5\">\n      <!-- 8 -->\n      <defs>\n       <path d=\"M 31.78125 34.625 \nQ 24.75 34.625 20.71875 30.859375 \nQ 16.703125 27.09375 16.703125 20.515625 \nQ 16.703125 13.921875 20.71875 10.15625 \nQ 24.75 6.390625 31.78125 6.390625 \nQ 38.8125 6.390625 42.859375 10.171875 \nQ 46.921875 13.96875 46.921875 20.515625 \nQ 46.921875 27.09375 42.890625 30.859375 \nQ 38.875 34.625 31.78125 34.625 \nz\nM 21.921875 38.8125 \nQ 15.578125 40.375 12.03125 44.71875 \nQ 8.5 49.078125 8.5 55.328125 \nQ 8.5 64.0625 14.71875 69.140625 \nQ 20.953125 74.21875 31.78125 74.21875 \nQ 42.671875 74.21875 48.875 69.140625 \nQ 55.078125 64.0625 55.078125 55.328125 \nQ 55.078125 49.078125 51.53125 44.71875 \nQ 48 40.375 41.703125 38.8125 \nQ 48.828125 37.15625 52.796875 32.3125 \nQ 56.78125 27.484375 56.78125 20.515625 \nQ 56.78125 9.90625 50.3125 4.234375 \nQ 43.84375 -1.421875 31.78125 -1.421875 \nQ 19.734375 -1.421875 13.25 4.234375 \nQ 6.78125 9.90625 6.78125 20.515625 \nQ 6.78125 27.484375 10.78125 32.3125 \nQ 14.796875 37.15625 21.921875 38.8125 \nz\nM 18.3125 54.390625 \nQ 18.3125 48.734375 21.84375 45.5625 \nQ 25.390625 42.390625 31.78125 42.390625 \nQ 38.140625 42.390625 41.71875 45.5625 \nQ 45.3125 48.734375 45.3125 54.390625 \nQ 45.3125 60.0625 41.71875 63.234375 \nQ 38.140625 66.40625 31.78125 66.40625 \nQ 25.390625 66.40625 21.84375 63.234375 \nQ 18.3125 60.0625 18.3125 54.390625 \nz\n\" id=\"DejaVuSans-56\"/>\n      </defs>\n      <g transform=\"translate(183.161875 157.698438)scale(0.1 -0.1)\">\n       <use xlink:href=\"#DejaVuSans-56\"/>\n      </g>\n     </g>\n    </g>\n    <g id=\"xtick_6\">\n     <g id=\"line2d_6\">\n      <g>\n       <use style=\"stroke:#000000;stroke-width:0.8;\" x=\"225.403125\" xlink:href=\"#mb6f9567ee8\" y=\"143.1\"/>\n      </g>\n     </g>\n     <g id=\"text_6\">\n      <!-- 10 -->\n      <defs>\n       <path d=\"M 12.40625 8.296875 \nL 28.515625 8.296875 \nL 28.515625 63.921875 \nL 10.984375 60.40625 \nL 10.984375 69.390625 \nL 28.421875 72.90625 \nL 38.28125 72.90625 \nL 38.28125 8.296875 \nL 54.390625 8.296875 \nL 54.390625 0 \nL 12.40625 0 \nz\n\" id=\"DejaVuSans-49\"/>\n      </defs>\n      <g transform=\"translate(219.040625 157.698438)scale(0.1 -0.1)\">\n       <use xlink:href=\"#DejaVuSans-49\"/>\n       <use x=\"63.623047\" xlink:href=\"#DejaVuSans-48\"/>\n      </g>\n     </g>\n    </g>\n    <g id=\"text_7\">\n     <!-- epoch -->\n     <defs>\n      <path d=\"M 56.203125 29.59375 \nL 56.203125 25.203125 \nL 14.890625 25.203125 \nQ 15.484375 15.921875 20.484375 11.0625 \nQ 25.484375 6.203125 34.421875 6.203125 \nQ 39.59375 6.203125 44.453125 7.46875 \nQ 49.3125 8.734375 54.109375 11.28125 \nL 54.109375 2.78125 \nQ 49.265625 0.734375 44.1875 -0.34375 \nQ 39.109375 -1.421875 33.890625 -1.421875 \nQ 20.796875 -1.421875 13.15625 6.1875 \nQ 5.515625 13.8125 5.515625 26.8125 \nQ 5.515625 40.234375 12.765625 48.109375 \nQ 20.015625 56 32.328125 56 \nQ 43.359375 56 49.78125 48.890625 \nQ 56.203125 41.796875 56.203125 29.59375 \nz\nM 47.21875 32.234375 \nQ 47.125 39.59375 43.09375 43.984375 \nQ 39.0625 48.390625 32.421875 48.390625 \nQ 24.90625 48.390625 20.390625 44.140625 \nQ 15.875 39.890625 15.1875 32.171875 \nz\n\" id=\"DejaVuSans-101\"/>\n      <path d=\"M 18.109375 8.203125 \nL 18.109375 -20.796875 \nL 9.078125 -20.796875 \nL 9.078125 54.6875 \nL 18.109375 54.6875 \nL 18.109375 46.390625 \nQ 20.953125 51.265625 25.265625 53.625 \nQ 29.59375 56 35.59375 56 \nQ 45.5625 56 51.78125 48.09375 \nQ 58.015625 40.1875 58.015625 27.296875 \nQ 58.015625 14.40625 51.78125 6.484375 \nQ 45.5625 -1.421875 35.59375 -1.421875 \nQ 29.59375 -1.421875 25.265625 0.953125 \nQ 20.953125 3.328125 18.109375 8.203125 \nz\nM 48.6875 27.296875 \nQ 48.6875 37.203125 44.609375 42.84375 \nQ 40.53125 48.484375 33.40625 48.484375 \nQ 26.265625 48.484375 22.1875 42.84375 \nQ 18.109375 37.203125 18.109375 27.296875 \nQ 18.109375 17.390625 22.1875 11.75 \nQ 26.265625 6.109375 33.40625 6.109375 \nQ 40.53125 6.109375 44.609375 11.75 \nQ 48.6875 17.390625 48.6875 27.296875 \nz\n\" id=\"DejaVuSans-112\"/>\n      <path d=\"M 30.609375 48.390625 \nQ 23.390625 48.390625 19.1875 42.75 \nQ 14.984375 37.109375 14.984375 27.296875 \nQ 14.984375 17.484375 19.15625 11.84375 \nQ 23.34375 6.203125 30.609375 6.203125 \nQ 37.796875 6.203125 41.984375 11.859375 \nQ 46.1875 17.53125 46.1875 27.296875 \nQ 46.1875 37.015625 41.984375 42.703125 \nQ 37.796875 48.390625 30.609375 48.390625 \nz\nM 30.609375 56 \nQ 42.328125 56 49.015625 48.375 \nQ 55.71875 40.765625 55.71875 27.296875 \nQ 55.71875 13.875 49.015625 6.21875 \nQ 42.328125 -1.421875 30.609375 -1.421875 \nQ 18.84375 -1.421875 12.171875 6.21875 \nQ 5.515625 13.875 5.515625 27.296875 \nQ 5.515625 40.765625 12.171875 48.375 \nQ 18.84375 56 30.609375 56 \nz\n\" id=\"DejaVuSans-111\"/>\n      <path d=\"M 48.78125 52.59375 \nL 48.78125 44.1875 \nQ 44.96875 46.296875 41.140625 47.34375 \nQ 37.3125 48.390625 33.40625 48.390625 \nQ 24.65625 48.390625 19.8125 42.84375 \nQ 14.984375 37.3125 14.984375 27.296875 \nQ 14.984375 17.28125 19.8125 11.734375 \nQ 24.65625 6.203125 33.40625 6.203125 \nQ 37.3125 6.203125 41.140625 7.25 \nQ 44.96875 8.296875 48.78125 10.40625 \nL 48.78125 2.09375 \nQ 45.015625 0.34375 40.984375 -0.53125 \nQ 36.96875 -1.421875 32.421875 -1.421875 \nQ 20.0625 -1.421875 12.78125 6.34375 \nQ 5.515625 14.109375 5.515625 27.296875 \nQ 5.515625 40.671875 12.859375 48.328125 \nQ 20.21875 56 33.015625 56 \nQ 37.15625 56 41.109375 55.140625 \nQ 45.0625 54.296875 48.78125 52.59375 \nz\n\" id=\"DejaVuSans-99\"/>\n      <path d=\"M 54.890625 33.015625 \nL 54.890625 0 \nL 45.90625 0 \nL 45.90625 32.71875 \nQ 45.90625 40.484375 42.875 44.328125 \nQ 39.84375 48.1875 33.796875 48.1875 \nQ 26.515625 48.1875 22.3125 43.546875 \nQ 18.109375 38.921875 18.109375 30.90625 \nL 18.109375 0 \nL 9.078125 0 \nL 9.078125 75.984375 \nL 18.109375 75.984375 \nL 18.109375 46.1875 \nQ 21.34375 51.125 25.703125 53.5625 \nQ 30.078125 56 35.796875 56 \nQ 45.21875 56 50.046875 50.171875 \nQ 54.890625 44.34375 54.890625 33.015625 \nz\n\" id=\"DejaVuSans-104\"/>\n     </defs>\n     <g transform=\"translate(112.525 171.376563)scale(0.1 -0.1)\">\n      <use xlink:href=\"#DejaVuSans-101\"/>\n      <use x=\"61.523438\" xlink:href=\"#DejaVuSans-112\"/>\n      <use x=\"125\" xlink:href=\"#DejaVuSans-111\"/>\n      <use x=\"186.181641\" xlink:href=\"#DejaVuSans-99\"/>\n      <use x=\"241.162109\" xlink:href=\"#DejaVuSans-104\"/>\n     </g>\n    </g>\n   </g>\n   <g id=\"matplotlib.axis_2\">\n    <g id=\"ytick_1\">\n     <g id=\"line2d_7\">\n      <defs>\n       <path d=\"M 0 0 \nL -3.5 0 \n\" id=\"mf6e3a8ba01\" style=\"stroke:#000000;stroke-width:0.8;\"/>\n      </defs>\n      <g>\n       <use style=\"stroke:#000000;stroke-width:0.8;\" x=\"30.103125\" xlink:href=\"#mf6e3a8ba01\" y=\"117.188782\"/>\n      </g>\n     </g>\n     <g id=\"text_8\">\n      <!-- 0.5 -->\n      <defs>\n       <path d=\"M 10.6875 12.40625 \nL 21 12.40625 \nL 21 0 \nL 10.6875 0 \nz\n\" id=\"DejaVuSans-46\"/>\n       <path d=\"M 10.796875 72.90625 \nL 49.515625 72.90625 \nL 49.515625 64.59375 \nL 19.828125 64.59375 \nL 19.828125 46.734375 \nQ 21.96875 47.46875 24.109375 47.828125 \nQ 26.265625 48.1875 28.421875 48.1875 \nQ 40.625 48.1875 47.75 41.5 \nQ 54.890625 34.8125 54.890625 23.390625 \nQ 54.890625 11.625 47.5625 5.09375 \nQ 40.234375 -1.421875 26.90625 -1.421875 \nQ 22.3125 -1.421875 17.546875 -0.640625 \nQ 12.796875 0.140625 7.71875 1.703125 \nL 7.71875 11.625 \nQ 12.109375 9.234375 16.796875 8.0625 \nQ 21.484375 6.890625 26.703125 6.890625 \nQ 35.15625 6.890625 40.078125 11.328125 \nQ 45.015625 15.765625 45.015625 23.390625 \nQ 45.015625 31 40.078125 35.4375 \nQ 35.15625 39.890625 26.703125 39.890625 \nQ 22.75 39.890625 18.8125 39.015625 \nQ 14.890625 38.140625 10.796875 36.28125 \nz\n\" id=\"DejaVuSans-53\"/>\n      </defs>\n      <g transform=\"translate(7.2 120.988001)scale(0.1 -0.1)\">\n       <use xlink:href=\"#DejaVuSans-48\"/>\n       <use x=\"63.623047\" xlink:href=\"#DejaVuSans-46\"/>\n       <use x=\"95.410156\" xlink:href=\"#DejaVuSans-53\"/>\n      </g>\n     </g>\n    </g>\n    <g id=\"ytick_2\">\n     <g id=\"line2d_8\">\n      <g>\n       <use style=\"stroke:#000000;stroke-width:0.8;\" x=\"30.103125\" xlink:href=\"#mf6e3a8ba01\" y=\"88.385427\"/>\n      </g>\n     </g>\n     <g id=\"text_9\">\n      <!-- 1.0 -->\n      <g transform=\"translate(7.2 92.184645)scale(0.1 -0.1)\">\n       <use xlink:href=\"#DejaVuSans-49\"/>\n       <use x=\"63.623047\" xlink:href=\"#DejaVuSans-46\"/>\n       <use x=\"95.410156\" xlink:href=\"#DejaVuSans-48\"/>\n      </g>\n     </g>\n    </g>\n    <g id=\"ytick_3\">\n     <g id=\"line2d_9\">\n      <g>\n       <use style=\"stroke:#000000;stroke-width:0.8;\" x=\"30.103125\" xlink:href=\"#mf6e3a8ba01\" y=\"59.582071\"/>\n      </g>\n     </g>\n     <g id=\"text_10\">\n      <!-- 1.5 -->\n      <g transform=\"translate(7.2 63.381289)scale(0.1 -0.1)\">\n       <use xlink:href=\"#DejaVuSans-49\"/>\n       <use x=\"63.623047\" xlink:href=\"#DejaVuSans-46\"/>\n       <use x=\"95.410156\" xlink:href=\"#DejaVuSans-53\"/>\n      </g>\n     </g>\n    </g>\n    <g id=\"ytick_4\">\n     <g id=\"line2d_10\">\n      <g>\n       <use style=\"stroke:#000000;stroke-width:0.8;\" x=\"30.103125\" xlink:href=\"#mf6e3a8ba01\" y=\"30.778715\"/>\n      </g>\n     </g>\n     <g id=\"text_11\">\n      <!-- 2.0 -->\n      <g transform=\"translate(7.2 34.577933)scale(0.1 -0.1)\">\n       <use xlink:href=\"#DejaVuSans-50\"/>\n       <use x=\"63.623047\" xlink:href=\"#DejaVuSans-46\"/>\n       <use x=\"95.410156\" xlink:href=\"#DejaVuSans-48\"/>\n      </g>\n     </g>\n    </g>\n   </g>\n   <g id=\"line2d_11\">\n    <path clip-path=\"url(#pec6d67d602)\" d=\"M 34.954394 13.377273 \n\" style=\"fill:none;stroke:#1f77b4;stroke-linecap:square;stroke-width:1.5;\"/>\n   </g>\n   <g id=\"line2d_12\">\n    <path clip-path=\"url(#pec6d67d602)\" d=\"M 34.954394 13.377273 \nL 44.698573 13.457404 \n\" style=\"fill:none;stroke:#1f77b4;stroke-linecap:square;stroke-width:1.5;\"/>\n   </g>\n   <g id=\"line2d_13\">\n    <path clip-path=\"url(#pec6d67d602)\" d=\"M 34.954394 13.377273 \nL 44.698573 13.457404 \n\" style=\"fill:none;stroke:#1f77b4;stroke-linecap:square;stroke-width:1.5;\"/>\n   </g>\n   <g id=\"line2d_14\">\n    <path clip-path=\"url(#pec6d67d602)\" d=\"M 49.633125 13.510308 \n\" style=\"fill:none;stroke:#ff7f0e;stroke-dasharray:5.55,2.4;stroke-dashoffset:0;stroke-width:1.5;\"/>\n   </g>\n   <g id=\"line2d_15\"/>\n   <g id=\"line2d_16\">\n    <path clip-path=\"url(#pec6d67d602)\" d=\"M 34.954394 13.377273 \nL 44.698573 13.457404 \n\" style=\"fill:none;stroke:#1f77b4;stroke-linecap:square;stroke-width:1.5;\"/>\n   </g>\n   <g id=\"line2d_17\">\n    <path clip-path=\"url(#pec6d67d602)\" d=\"M 49.633125 13.510308 \n\" style=\"fill:none;stroke:#ff7f0e;stroke-dasharray:5.55,2.4;stroke-dashoffset:0;stroke-width:1.5;\"/>\n   </g>\n   <g id=\"line2d_18\">\n    <path clip-path=\"url(#pec6d67d602)\" d=\"M 49.633125 136.922727 \n\" style=\"fill:none;stroke:#2ca02c;stroke-dasharray:9.6,2.4,1.5,2.4;stroke-dashoffset:0;stroke-width:1.5;\"/>\n   </g>\n   <g id=\"line2d_19\">\n    <path clip-path=\"url(#pec6d67d602)\" d=\"M 34.954394 13.377273 \nL 44.698573 13.457404 \nL 54.442752 13.560762 \n\" style=\"fill:none;stroke:#1f77b4;stroke-linecap:square;stroke-width:1.5;\"/>\n   </g>\n   <g id=\"line2d_20\">\n    <path clip-path=\"url(#pec6d67d602)\" d=\"M 49.633125 13.510308 \n\" style=\"fill:none;stroke:#ff7f0e;stroke-dasharray:5.55,2.4;stroke-dashoffset:0;stroke-width:1.5;\"/>\n   </g>\n   <g id=\"line2d_21\">\n    <path clip-path=\"url(#pec6d67d602)\" d=\"M 49.633125 136.922727 \n\" style=\"fill:none;stroke:#2ca02c;stroke-dasharray:9.6,2.4,1.5,2.4;stroke-dashoffset:0;stroke-width:1.5;\"/>\n   </g>\n   <g id=\"line2d_22\">\n    <path clip-path=\"url(#pec6d67d602)\" d=\"M 34.954394 13.377273 \nL 44.698573 13.457404 \nL 54.442752 13.560762 \nL 64.186931 13.72307 \n\" style=\"fill:none;stroke:#1f77b4;stroke-linecap:square;stroke-width:1.5;\"/>\n   </g>\n   <g id=\"line2d_23\">\n    <path clip-path=\"url(#pec6d67d602)\" d=\"M 49.633125 13.510308 \n\" style=\"fill:none;stroke:#ff7f0e;stroke-dasharray:5.55,2.4;stroke-dashoffset:0;stroke-width:1.5;\"/>\n   </g>\n   <g id=\"line2d_24\">\n    <path clip-path=\"url(#pec6d67d602)\" d=\"M 49.633125 136.922727 \n\" style=\"fill:none;stroke:#2ca02c;stroke-dasharray:9.6,2.4,1.5,2.4;stroke-dashoffset:0;stroke-width:1.5;\"/>\n   </g>\n   <g id=\"line2d_25\">\n    <path clip-path=\"url(#pec6d67d602)\" d=\"M 34.954394 13.377273 \nL 44.698573 13.457404 \nL 54.442752 13.560762 \nL 64.186931 13.72307 \n\" style=\"fill:none;stroke:#1f77b4;stroke-linecap:square;stroke-width:1.5;\"/>\n   </g>\n   <g id=\"line2d_26\">\n    <path clip-path=\"url(#pec6d67d602)\" d=\"M 49.633125 13.510308 \nL 69.163125 13.857137 \n\" style=\"fill:none;stroke:#ff7f0e;stroke-dasharray:5.55,2.4;stroke-dashoffset:0;stroke-width:1.5;\"/>\n   </g>\n   <g id=\"line2d_27\">\n    <path clip-path=\"url(#pec6d67d602)\" d=\"M 49.633125 136.922727 \n\" style=\"fill:none;stroke:#2ca02c;stroke-dasharray:9.6,2.4,1.5,2.4;stroke-dashoffset:0;stroke-width:1.5;\"/>\n   </g>\n   <g id=\"line2d_28\">\n    <path clip-path=\"url(#pec6d67d602)\" d=\"M 34.954394 13.377273 \nL 44.698573 13.457404 \nL 54.442752 13.560762 \nL 64.186931 13.72307 \n\" style=\"fill:none;stroke:#1f77b4;stroke-linecap:square;stroke-width:1.5;\"/>\n   </g>\n   <g id=\"line2d_29\">\n    <path clip-path=\"url(#pec6d67d602)\" d=\"M 49.633125 13.510308 \nL 69.163125 13.857137 \n\" style=\"fill:none;stroke:#ff7f0e;stroke-dasharray:5.55,2.4;stroke-dashoffset:0;stroke-width:1.5;\"/>\n   </g>\n   <g id=\"line2d_30\">\n    <path clip-path=\"url(#pec6d67d602)\" d=\"M 49.633125 136.922727 \nL 69.163125 129.277533 \n\" style=\"fill:none;stroke:#2ca02c;stroke-dasharray:9.6,2.4,1.5,2.4;stroke-dashoffset:0;stroke-width:1.5;\"/>\n   </g>\n   <g id=\"line2d_31\">\n    <path clip-path=\"url(#pec6d67d602)\" d=\"M 34.954394 13.377273 \nL 44.698573 13.457404 \nL 54.442752 13.560762 \nL 64.186931 13.72307 \nL 73.93111 14.067365 \n\" style=\"fill:none;stroke:#1f77b4;stroke-linecap:square;stroke-width:1.5;\"/>\n   </g>\n   <g id=\"line2d_32\">\n    <path clip-path=\"url(#pec6d67d602)\" d=\"M 49.633125 13.510308 \nL 69.163125 13.857137 \n\" style=\"fill:none;stroke:#ff7f0e;stroke-dasharray:5.55,2.4;stroke-dashoffset:0;stroke-width:1.5;\"/>\n   </g>\n   <g id=\"line2d_33\">\n    <path clip-path=\"url(#pec6d67d602)\" d=\"M 49.633125 136.922727 \nL 69.163125 129.277533 \n\" style=\"fill:none;stroke:#2ca02c;stroke-dasharray:9.6,2.4,1.5,2.4;stroke-dashoffset:0;stroke-width:1.5;\"/>\n   </g>\n   <g id=\"line2d_34\">\n    <path clip-path=\"url(#pec6d67d602)\" d=\"M 34.954394 13.377273 \nL 44.698573 13.457404 \nL 54.442752 13.560762 \nL 64.186931 13.72307 \nL 73.93111 14.067365 \nL 83.675289 15.025877 \n\" style=\"fill:none;stroke:#1f77b4;stroke-linecap:square;stroke-width:1.5;\"/>\n   </g>\n   <g id=\"line2d_35\">\n    <path clip-path=\"url(#pec6d67d602)\" d=\"M 49.633125 13.510308 \nL 69.163125 13.857137 \n\" style=\"fill:none;stroke:#ff7f0e;stroke-dasharray:5.55,2.4;stroke-dashoffset:0;stroke-width:1.5;\"/>\n   </g>\n   <g id=\"line2d_36\">\n    <path clip-path=\"url(#pec6d67d602)\" d=\"M 49.633125 136.922727 \nL 69.163125 129.277533 \n\" style=\"fill:none;stroke:#2ca02c;stroke-dasharray:9.6,2.4,1.5,2.4;stroke-dashoffset:0;stroke-width:1.5;\"/>\n   </g>\n   <g id=\"line2d_37\">\n    <path clip-path=\"url(#pec6d67d602)\" d=\"M 34.954394 13.377273 \nL 44.698573 13.457404 \nL 54.442752 13.560762 \nL 64.186931 13.72307 \nL 73.93111 14.067365 \nL 83.675289 15.025877 \n\" style=\"fill:none;stroke:#1f77b4;stroke-linecap:square;stroke-width:1.5;\"/>\n   </g>\n   <g id=\"line2d_38\">\n    <path clip-path=\"url(#pec6d67d602)\" d=\"M 49.633125 13.510308 \nL 69.163125 13.857137 \nL 88.693125 16.135585 \n\" style=\"fill:none;stroke:#ff7f0e;stroke-dasharray:5.55,2.4;stroke-dashoffset:0;stroke-width:1.5;\"/>\n   </g>\n   <g id=\"line2d_39\">\n    <path clip-path=\"url(#pec6d67d602)\" d=\"M 49.633125 136.922727 \nL 69.163125 129.277533 \n\" style=\"fill:none;stroke:#2ca02c;stroke-dasharray:9.6,2.4,1.5,2.4;stroke-dashoffset:0;stroke-width:1.5;\"/>\n   </g>\n   <g id=\"line2d_40\">\n    <path clip-path=\"url(#pec6d67d602)\" d=\"M 34.954394 13.377273 \nL 44.698573 13.457404 \nL 54.442752 13.560762 \nL 64.186931 13.72307 \nL 73.93111 14.067365 \nL 83.675289 15.025877 \n\" style=\"fill:none;stroke:#1f77b4;stroke-linecap:square;stroke-width:1.5;\"/>\n   </g>\n   <g id=\"line2d_41\">\n    <path clip-path=\"url(#pec6d67d602)\" d=\"M 49.633125 13.510308 \nL 69.163125 13.857137 \nL 88.693125 16.135585 \n\" style=\"fill:none;stroke:#ff7f0e;stroke-dasharray:5.55,2.4;stroke-dashoffset:0;stroke-width:1.5;\"/>\n   </g>\n   <g id=\"line2d_42\">\n    <path clip-path=\"url(#pec6d67d602)\" d=\"M 49.633125 136.922727 \nL 69.163125 129.277533 \nL 88.693125 127.990041 \n\" style=\"fill:none;stroke:#2ca02c;stroke-dasharray:9.6,2.4,1.5,2.4;stroke-dashoffset:0;stroke-width:1.5;\"/>\n   </g>\n   <g id=\"line2d_43\">\n    <path clip-path=\"url(#pec6d67d602)\" d=\"M 34.954394 13.377273 \nL 44.698573 13.457404 \nL 54.442752 13.560762 \nL 64.186931 13.72307 \nL 73.93111 14.067365 \nL 83.675289 15.025877 \nL 93.419468 20.497617 \n\" style=\"fill:none;stroke:#1f77b4;stroke-linecap:square;stroke-width:1.5;\"/>\n   </g>\n   <g id=\"line2d_44\">\n    <path clip-path=\"url(#pec6d67d602)\" d=\"M 49.633125 13.510308 \nL 69.163125 13.857137 \nL 88.693125 16.135585 \n\" style=\"fill:none;stroke:#ff7f0e;stroke-dasharray:5.55,2.4;stroke-dashoffset:0;stroke-width:1.5;\"/>\n   </g>\n   <g id=\"line2d_45\">\n    <path clip-path=\"url(#pec6d67d602)\" d=\"M 49.633125 136.922727 \nL 69.163125 129.277533 \nL 88.693125 127.990041 \n\" style=\"fill:none;stroke:#2ca02c;stroke-dasharray:9.6,2.4,1.5,2.4;stroke-dashoffset:0;stroke-width:1.5;\"/>\n   </g>\n   <g id=\"line2d_46\">\n    <path clip-path=\"url(#pec6d67d602)\" d=\"M 34.954394 13.377273 \nL 44.698573 13.457404 \nL 54.442752 13.560762 \nL 64.186931 13.72307 \nL 73.93111 14.067365 \nL 83.675289 15.025877 \nL 93.419468 20.497617 \nL 103.163647 52.717308 \n\" style=\"fill:none;stroke:#1f77b4;stroke-linecap:square;stroke-width:1.5;\"/>\n   </g>\n   <g id=\"line2d_47\">\n    <path clip-path=\"url(#pec6d67d602)\" d=\"M 49.633125 13.510308 \nL 69.163125 13.857137 \nL 88.693125 16.135585 \n\" style=\"fill:none;stroke:#ff7f0e;stroke-dasharray:5.55,2.4;stroke-dashoffset:0;stroke-width:1.5;\"/>\n   </g>\n   <g id=\"line2d_48\">\n    <path clip-path=\"url(#pec6d67d602)\" d=\"M 49.633125 136.922727 \nL 69.163125 129.277533 \nL 88.693125 127.990041 \n\" style=\"fill:none;stroke:#2ca02c;stroke-dasharray:9.6,2.4,1.5,2.4;stroke-dashoffset:0;stroke-width:1.5;\"/>\n   </g>\n   <g id=\"line2d_49\">\n    <path clip-path=\"url(#pec6d67d602)\" d=\"M 34.954394 13.377273 \nL 44.698573 13.457404 \nL 54.442752 13.560762 \nL 64.186931 13.72307 \nL 73.93111 14.067365 \nL 83.675289 15.025877 \nL 93.419468 20.497617 \nL 103.163647 52.717308 \n\" style=\"fill:none;stroke:#1f77b4;stroke-linecap:square;stroke-width:1.5;\"/>\n   </g>\n   <g id=\"line2d_50\">\n    <path clip-path=\"url(#pec6d67d602)\" d=\"M 49.633125 13.510308 \nL 69.163125 13.857137 \nL 88.693125 16.135585 \nL 108.223125 69.865908 \n\" style=\"fill:none;stroke:#ff7f0e;stroke-dasharray:5.55,2.4;stroke-dashoffset:0;stroke-width:1.5;\"/>\n   </g>\n   <g id=\"line2d_51\">\n    <path clip-path=\"url(#pec6d67d602)\" d=\"M 49.633125 136.922727 \nL 69.163125 129.277533 \nL 88.693125 127.990041 \n\" style=\"fill:none;stroke:#2ca02c;stroke-dasharray:9.6,2.4,1.5,2.4;stroke-dashoffset:0;stroke-width:1.5;\"/>\n   </g>\n   <g id=\"line2d_52\">\n    <path clip-path=\"url(#pec6d67d602)\" d=\"M 34.954394 13.377273 \nL 44.698573 13.457404 \nL 54.442752 13.560762 \nL 64.186931 13.72307 \nL 73.93111 14.067365 \nL 83.675289 15.025877 \nL 93.419468 20.497617 \nL 103.163647 52.717308 \n\" style=\"fill:none;stroke:#1f77b4;stroke-linecap:square;stroke-width:1.5;\"/>\n   </g>\n   <g id=\"line2d_53\">\n    <path clip-path=\"url(#pec6d67d602)\" d=\"M 49.633125 13.510308 \nL 69.163125 13.857137 \nL 88.693125 16.135585 \nL 108.223125 69.865908 \n\" style=\"fill:none;stroke:#ff7f0e;stroke-dasharray:5.55,2.4;stroke-dashoffset:0;stroke-width:1.5;\"/>\n   </g>\n   <g id=\"line2d_54\">\n    <path clip-path=\"url(#pec6d67d602)\" d=\"M 49.633125 136.922727 \nL 69.163125 129.277533 \nL 88.693125 127.990041 \nL 108.223125 116.567824 \n\" style=\"fill:none;stroke:#2ca02c;stroke-dasharray:9.6,2.4,1.5,2.4;stroke-dashoffset:0;stroke-width:1.5;\"/>\n   </g>\n   <g id=\"line2d_55\">\n    <path clip-path=\"url(#pec6d67d602)\" d=\"M 34.954394 13.377273 \nL 44.698573 13.457404 \nL 54.442752 13.560762 \nL 64.186931 13.72307 \nL 73.93111 14.067365 \nL 83.675289 15.025877 \nL 93.419468 20.497617 \nL 103.163647 52.717308 \nL 112.907826 84.170515 \n\" style=\"fill:none;stroke:#1f77b4;stroke-linecap:square;stroke-width:1.5;\"/>\n   </g>\n   <g id=\"line2d_56\">\n    <path clip-path=\"url(#pec6d67d602)\" d=\"M 49.633125 13.510308 \nL 69.163125 13.857137 \nL 88.693125 16.135585 \nL 108.223125 69.865908 \n\" style=\"fill:none;stroke:#ff7f0e;stroke-dasharray:5.55,2.4;stroke-dashoffset:0;stroke-width:1.5;\"/>\n   </g>\n   <g id=\"line2d_57\">\n    <path clip-path=\"url(#pec6d67d602)\" d=\"M 49.633125 136.922727 \nL 69.163125 129.277533 \nL 88.693125 127.990041 \nL 108.223125 116.567824 \n\" style=\"fill:none;stroke:#2ca02c;stroke-dasharray:9.6,2.4,1.5,2.4;stroke-dashoffset:0;stroke-width:1.5;\"/>\n   </g>\n   <g id=\"line2d_58\">\n    <path clip-path=\"url(#pec6d67d602)\" d=\"M 34.954394 13.377273 \nL 44.698573 13.457404 \nL 54.442752 13.560762 \nL 64.186931 13.72307 \nL 73.93111 14.067365 \nL 83.675289 15.025877 \nL 93.419468 20.497617 \nL 103.163647 52.717308 \nL 112.907826 84.170515 \nL 122.652006 96.380057 \n\" style=\"fill:none;stroke:#1f77b4;stroke-linecap:square;stroke-width:1.5;\"/>\n   </g>\n   <g id=\"line2d_59\">\n    <path clip-path=\"url(#pec6d67d602)\" d=\"M 49.633125 13.510308 \nL 69.163125 13.857137 \nL 88.693125 16.135585 \nL 108.223125 69.865908 \n\" style=\"fill:none;stroke:#ff7f0e;stroke-dasharray:5.55,2.4;stroke-dashoffset:0;stroke-width:1.5;\"/>\n   </g>\n   <g id=\"line2d_60\">\n    <path clip-path=\"url(#pec6d67d602)\" d=\"M 49.633125 136.922727 \nL 69.163125 129.277533 \nL 88.693125 127.990041 \nL 108.223125 116.567824 \n\" style=\"fill:none;stroke:#2ca02c;stroke-dasharray:9.6,2.4,1.5,2.4;stroke-dashoffset:0;stroke-width:1.5;\"/>\n   </g>\n   <g id=\"line2d_61\">\n    <path clip-path=\"url(#pec6d67d602)\" d=\"M 34.954394 13.377273 \nL 44.698573 13.457404 \nL 54.442752 13.560762 \nL 64.186931 13.72307 \nL 73.93111 14.067365 \nL 83.675289 15.025877 \nL 93.419468 20.497617 \nL 103.163647 52.717308 \nL 112.907826 84.170515 \nL 122.652006 96.380057 \n\" style=\"fill:none;stroke:#1f77b4;stroke-linecap:square;stroke-width:1.5;\"/>\n   </g>\n   <g id=\"line2d_62\">\n    <path clip-path=\"url(#pec6d67d602)\" d=\"M 49.633125 13.510308 \nL 69.163125 13.857137 \nL 88.693125 16.135585 \nL 108.223125 69.865908 \nL 127.753125 97.158112 \n\" style=\"fill:none;stroke:#ff7f0e;stroke-dasharray:5.55,2.4;stroke-dashoffset:0;stroke-width:1.5;\"/>\n   </g>\n   <g id=\"line2d_63\">\n    <path clip-path=\"url(#pec6d67d602)\" d=\"M 49.633125 136.922727 \nL 69.163125 129.277533 \nL 88.693125 127.990041 \nL 108.223125 116.567824 \n\" style=\"fill:none;stroke:#2ca02c;stroke-dasharray:9.6,2.4,1.5,2.4;stroke-dashoffset:0;stroke-width:1.5;\"/>\n   </g>\n   <g id=\"line2d_64\">\n    <path clip-path=\"url(#pec6d67d602)\" d=\"M 34.954394 13.377273 \nL 44.698573 13.457404 \nL 54.442752 13.560762 \nL 64.186931 13.72307 \nL 73.93111 14.067365 \nL 83.675289 15.025877 \nL 93.419468 20.497617 \nL 103.163647 52.717308 \nL 112.907826 84.170515 \nL 122.652006 96.380057 \n\" style=\"fill:none;stroke:#1f77b4;stroke-linecap:square;stroke-width:1.5;\"/>\n   </g>\n   <g id=\"line2d_65\">\n    <path clip-path=\"url(#pec6d67d602)\" d=\"M 49.633125 13.510308 \nL 69.163125 13.857137 \nL 88.693125 16.135585 \nL 108.223125 69.865908 \nL 127.753125 97.158112 \n\" style=\"fill:none;stroke:#ff7f0e;stroke-dasharray:5.55,2.4;stroke-dashoffset:0;stroke-width:1.5;\"/>\n   </g>\n   <g id=\"line2d_66\">\n    <path clip-path=\"url(#pec6d67d602)\" d=\"M 49.633125 136.922727 \nL 69.163125 129.277533 \nL 88.693125 127.990041 \nL 108.223125 116.567824 \nL 127.753125 107.469929 \n\" style=\"fill:none;stroke:#2ca02c;stroke-dasharray:9.6,2.4,1.5,2.4;stroke-dashoffset:0;stroke-width:1.5;\"/>\n   </g>\n   <g id=\"line2d_67\">\n    <path clip-path=\"url(#pec6d67d602)\" d=\"M 34.954394 13.377273 \nL 44.698573 13.457404 \nL 54.442752 13.560762 \nL 64.186931 13.72307 \nL 73.93111 14.067365 \nL 83.675289 15.025877 \nL 93.419468 20.497617 \nL 103.163647 52.717308 \nL 112.907826 84.170515 \nL 122.652006 96.380057 \nL 132.396185 102.078854 \n\" style=\"fill:none;stroke:#1f77b4;stroke-linecap:square;stroke-width:1.5;\"/>\n   </g>\n   <g id=\"line2d_68\">\n    <path clip-path=\"url(#pec6d67d602)\" d=\"M 49.633125 13.510308 \nL 69.163125 13.857137 \nL 88.693125 16.135585 \nL 108.223125 69.865908 \nL 127.753125 97.158112 \n\" style=\"fill:none;stroke:#ff7f0e;stroke-dasharray:5.55,2.4;stroke-dashoffset:0;stroke-width:1.5;\"/>\n   </g>\n   <g id=\"line2d_69\">\n    <path clip-path=\"url(#pec6d67d602)\" d=\"M 49.633125 136.922727 \nL 69.163125 129.277533 \nL 88.693125 127.990041 \nL 108.223125 116.567824 \nL 127.753125 107.469929 \n\" style=\"fill:none;stroke:#2ca02c;stroke-dasharray:9.6,2.4,1.5,2.4;stroke-dashoffset:0;stroke-width:1.5;\"/>\n   </g>\n   <g id=\"line2d_70\">\n    <path clip-path=\"url(#pec6d67d602)\" d=\"M 34.954394 13.377273 \nL 44.698573 13.457404 \nL 54.442752 13.560762 \nL 64.186931 13.72307 \nL 73.93111 14.067365 \nL 83.675289 15.025877 \nL 93.419468 20.497617 \nL 103.163647 52.717308 \nL 112.907826 84.170515 \nL 122.652006 96.380057 \nL 132.396185 102.078854 \nL 142.140364 106.260859 \n\" style=\"fill:none;stroke:#1f77b4;stroke-linecap:square;stroke-width:1.5;\"/>\n   </g>\n   <g id=\"line2d_71\">\n    <path clip-path=\"url(#pec6d67d602)\" d=\"M 49.633125 13.510308 \nL 69.163125 13.857137 \nL 88.693125 16.135585 \nL 108.223125 69.865908 \nL 127.753125 97.158112 \n\" style=\"fill:none;stroke:#ff7f0e;stroke-dasharray:5.55,2.4;stroke-dashoffset:0;stroke-width:1.5;\"/>\n   </g>\n   <g id=\"line2d_72\">\n    <path clip-path=\"url(#pec6d67d602)\" d=\"M 49.633125 136.922727 \nL 69.163125 129.277533 \nL 88.693125 127.990041 \nL 108.223125 116.567824 \nL 127.753125 107.469929 \n\" style=\"fill:none;stroke:#2ca02c;stroke-dasharray:9.6,2.4,1.5,2.4;stroke-dashoffset:0;stroke-width:1.5;\"/>\n   </g>\n   <g id=\"line2d_73\">\n    <path clip-path=\"url(#pec6d67d602)\" d=\"M 34.954394 13.377273 \nL 44.698573 13.457404 \nL 54.442752 13.560762 \nL 64.186931 13.72307 \nL 73.93111 14.067365 \nL 83.675289 15.025877 \nL 93.419468 20.497617 \nL 103.163647 52.717308 \nL 112.907826 84.170515 \nL 122.652006 96.380057 \nL 132.396185 102.078854 \nL 142.140364 106.260859 \n\" style=\"fill:none;stroke:#1f77b4;stroke-linecap:square;stroke-width:1.5;\"/>\n   </g>\n   <g id=\"line2d_74\">\n    <path clip-path=\"url(#pec6d67d602)\" d=\"M 49.633125 13.510308 \nL 69.163125 13.857137 \nL 88.693125 16.135585 \nL 108.223125 69.865908 \nL 127.753125 97.158112 \nL 147.283125 106.240287 \n\" style=\"fill:none;stroke:#ff7f0e;stroke-dasharray:5.55,2.4;stroke-dashoffset:0;stroke-width:1.5;\"/>\n   </g>\n   <g id=\"line2d_75\">\n    <path clip-path=\"url(#pec6d67d602)\" d=\"M 49.633125 136.922727 \nL 69.163125 129.277533 \nL 88.693125 127.990041 \nL 108.223125 116.567824 \nL 127.753125 107.469929 \n\" style=\"fill:none;stroke:#2ca02c;stroke-dasharray:9.6,2.4,1.5,2.4;stroke-dashoffset:0;stroke-width:1.5;\"/>\n   </g>\n   <g id=\"line2d_76\">\n    <path clip-path=\"url(#pec6d67d602)\" d=\"M 34.954394 13.377273 \nL 44.698573 13.457404 \nL 54.442752 13.560762 \nL 64.186931 13.72307 \nL 73.93111 14.067365 \nL 83.675289 15.025877 \nL 93.419468 20.497617 \nL 103.163647 52.717308 \nL 112.907826 84.170515 \nL 122.652006 96.380057 \nL 132.396185 102.078854 \nL 142.140364 106.260859 \n\" style=\"fill:none;stroke:#1f77b4;stroke-linecap:square;stroke-width:1.5;\"/>\n   </g>\n   <g id=\"line2d_77\">\n    <path clip-path=\"url(#pec6d67d602)\" d=\"M 49.633125 13.510308 \nL 69.163125 13.857137 \nL 88.693125 16.135585 \nL 108.223125 69.865908 \nL 127.753125 97.158112 \nL 147.283125 106.240287 \n\" style=\"fill:none;stroke:#ff7f0e;stroke-dasharray:5.55,2.4;stroke-dashoffset:0;stroke-width:1.5;\"/>\n   </g>\n   <g id=\"line2d_78\">\n    <path clip-path=\"url(#pec6d67d602)\" d=\"M 49.633125 136.922727 \nL 69.163125 129.277533 \nL 88.693125 127.990041 \nL 108.223125 116.567824 \nL 127.753125 107.469929 \nL 147.283125 103.077645 \n\" style=\"fill:none;stroke:#2ca02c;stroke-dasharray:9.6,2.4,1.5,2.4;stroke-dashoffset:0;stroke-width:1.5;\"/>\n   </g>\n   <g id=\"line2d_79\">\n    <path clip-path=\"url(#pec6d67d602)\" d=\"M 34.954394 13.377273 \nL 44.698573 13.457404 \nL 54.442752 13.560762 \nL 64.186931 13.72307 \nL 73.93111 14.067365 \nL 83.675289 15.025877 \nL 93.419468 20.497617 \nL 103.163647 52.717308 \nL 112.907826 84.170515 \nL 122.652006 96.380057 \nL 132.396185 102.078854 \nL 142.140364 106.260859 \nL 151.884543 107.294164 \n\" style=\"fill:none;stroke:#1f77b4;stroke-linecap:square;stroke-width:1.5;\"/>\n   </g>\n   <g id=\"line2d_80\">\n    <path clip-path=\"url(#pec6d67d602)\" d=\"M 49.633125 13.510308 \nL 69.163125 13.857137 \nL 88.693125 16.135585 \nL 108.223125 69.865908 \nL 127.753125 97.158112 \nL 147.283125 106.240287 \n\" style=\"fill:none;stroke:#ff7f0e;stroke-dasharray:5.55,2.4;stroke-dashoffset:0;stroke-width:1.5;\"/>\n   </g>\n   <g id=\"line2d_81\">\n    <path clip-path=\"url(#pec6d67d602)\" d=\"M 49.633125 136.922727 \nL 69.163125 129.277533 \nL 88.693125 127.990041 \nL 108.223125 116.567824 \nL 127.753125 107.469929 \nL 147.283125 103.077645 \n\" style=\"fill:none;stroke:#2ca02c;stroke-dasharray:9.6,2.4,1.5,2.4;stroke-dashoffset:0;stroke-width:1.5;\"/>\n   </g>\n   <g id=\"line2d_82\">\n    <path clip-path=\"url(#pec6d67d602)\" d=\"M 34.954394 13.377273 \nL 44.698573 13.457404 \nL 54.442752 13.560762 \nL 64.186931 13.72307 \nL 73.93111 14.067365 \nL 83.675289 15.025877 \nL 93.419468 20.497617 \nL 103.163647 52.717308 \nL 112.907826 84.170515 \nL 122.652006 96.380057 \nL 132.396185 102.078854 \nL 142.140364 106.260859 \nL 151.884543 107.294164 \nL 161.628722 112.061922 \n\" style=\"fill:none;stroke:#1f77b4;stroke-linecap:square;stroke-width:1.5;\"/>\n   </g>\n   <g id=\"line2d_83\">\n    <path clip-path=\"url(#pec6d67d602)\" d=\"M 49.633125 13.510308 \nL 69.163125 13.857137 \nL 88.693125 16.135585 \nL 108.223125 69.865908 \nL 127.753125 97.158112 \nL 147.283125 106.240287 \n\" style=\"fill:none;stroke:#ff7f0e;stroke-dasharray:5.55,2.4;stroke-dashoffset:0;stroke-width:1.5;\"/>\n   </g>\n   <g id=\"line2d_84\">\n    <path clip-path=\"url(#pec6d67d602)\" d=\"M 49.633125 136.922727 \nL 69.163125 129.277533 \nL 88.693125 127.990041 \nL 108.223125 116.567824 \nL 127.753125 107.469929 \nL 147.283125 103.077645 \n\" style=\"fill:none;stroke:#2ca02c;stroke-dasharray:9.6,2.4,1.5,2.4;stroke-dashoffset:0;stroke-width:1.5;\"/>\n   </g>\n   <g id=\"line2d_85\">\n    <path clip-path=\"url(#pec6d67d602)\" d=\"M 34.954394 13.377273 \nL 44.698573 13.457404 \nL 54.442752 13.560762 \nL 64.186931 13.72307 \nL 73.93111 14.067365 \nL 83.675289 15.025877 \nL 93.419468 20.497617 \nL 103.163647 52.717308 \nL 112.907826 84.170515 \nL 122.652006 96.380057 \nL 132.396185 102.078854 \nL 142.140364 106.260859 \nL 151.884543 107.294164 \nL 161.628722 112.061922 \n\" style=\"fill:none;stroke:#1f77b4;stroke-linecap:square;stroke-width:1.5;\"/>\n   </g>\n   <g id=\"line2d_86\">\n    <path clip-path=\"url(#pec6d67d602)\" d=\"M 49.633125 13.510308 \nL 69.163125 13.857137 \nL 88.693125 16.135585 \nL 108.223125 69.865908 \nL 127.753125 97.158112 \nL 147.283125 106.240287 \nL 166.813125 111.89663 \n\" style=\"fill:none;stroke:#ff7f0e;stroke-dasharray:5.55,2.4;stroke-dashoffset:0;stroke-width:1.5;\"/>\n   </g>\n   <g id=\"line2d_87\">\n    <path clip-path=\"url(#pec6d67d602)\" d=\"M 49.633125 136.922727 \nL 69.163125 129.277533 \nL 88.693125 127.990041 \nL 108.223125 116.567824 \nL 127.753125 107.469929 \nL 147.283125 103.077645 \n\" style=\"fill:none;stroke:#2ca02c;stroke-dasharray:9.6,2.4,1.5,2.4;stroke-dashoffset:0;stroke-width:1.5;\"/>\n   </g>\n   <g id=\"line2d_88\">\n    <path clip-path=\"url(#pec6d67d602)\" d=\"M 34.954394 13.377273 \nL 44.698573 13.457404 \nL 54.442752 13.560762 \nL 64.186931 13.72307 \nL 73.93111 14.067365 \nL 83.675289 15.025877 \nL 93.419468 20.497617 \nL 103.163647 52.717308 \nL 112.907826 84.170515 \nL 122.652006 96.380057 \nL 132.396185 102.078854 \nL 142.140364 106.260859 \nL 151.884543 107.294164 \nL 161.628722 112.061922 \n\" style=\"fill:none;stroke:#1f77b4;stroke-linecap:square;stroke-width:1.5;\"/>\n   </g>\n   <g id=\"line2d_89\">\n    <path clip-path=\"url(#pec6d67d602)\" d=\"M 49.633125 13.510308 \nL 69.163125 13.857137 \nL 88.693125 16.135585 \nL 108.223125 69.865908 \nL 127.753125 97.158112 \nL 147.283125 106.240287 \nL 166.813125 111.89663 \n\" style=\"fill:none;stroke:#ff7f0e;stroke-dasharray:5.55,2.4;stroke-dashoffset:0;stroke-width:1.5;\"/>\n   </g>\n   <g id=\"line2d_90\">\n    <path clip-path=\"url(#pec6d67d602)\" d=\"M 49.633125 136.922727 \nL 69.163125 129.277533 \nL 88.693125 127.990041 \nL 108.223125 116.567824 \nL 127.753125 107.469929 \nL 147.283125 103.077645 \nL 166.813125 101.664822 \n\" style=\"fill:none;stroke:#2ca02c;stroke-dasharray:9.6,2.4,1.5,2.4;stroke-dashoffset:0;stroke-width:1.5;\"/>\n   </g>\n   <g id=\"line2d_91\">\n    <path clip-path=\"url(#pec6d67d602)\" d=\"M 34.954394 13.377273 \nL 44.698573 13.457404 \nL 54.442752 13.560762 \nL 64.186931 13.72307 \nL 73.93111 14.067365 \nL 83.675289 15.025877 \nL 93.419468 20.497617 \nL 103.163647 52.717308 \nL 112.907826 84.170515 \nL 122.652006 96.380057 \nL 132.396185 102.078854 \nL 142.140364 106.260859 \nL 151.884543 107.294164 \nL 161.628722 112.061922 \nL 171.372901 114.151987 \n\" style=\"fill:none;stroke:#1f77b4;stroke-linecap:square;stroke-width:1.5;\"/>\n   </g>\n   <g id=\"line2d_92\">\n    <path clip-path=\"url(#pec6d67d602)\" d=\"M 49.633125 13.510308 \nL 69.163125 13.857137 \nL 88.693125 16.135585 \nL 108.223125 69.865908 \nL 127.753125 97.158112 \nL 147.283125 106.240287 \nL 166.813125 111.89663 \n\" style=\"fill:none;stroke:#ff7f0e;stroke-dasharray:5.55,2.4;stroke-dashoffset:0;stroke-width:1.5;\"/>\n   </g>\n   <g id=\"line2d_93\">\n    <path clip-path=\"url(#pec6d67d602)\" d=\"M 49.633125 136.922727 \nL 69.163125 129.277533 \nL 88.693125 127.990041 \nL 108.223125 116.567824 \nL 127.753125 107.469929 \nL 147.283125 103.077645 \nL 166.813125 101.664822 \n\" style=\"fill:none;stroke:#2ca02c;stroke-dasharray:9.6,2.4,1.5,2.4;stroke-dashoffset:0;stroke-width:1.5;\"/>\n   </g>\n   <g id=\"line2d_94\">\n    <path clip-path=\"url(#pec6d67d602)\" d=\"M 34.954394 13.377273 \nL 44.698573 13.457404 \nL 54.442752 13.560762 \nL 64.186931 13.72307 \nL 73.93111 14.067365 \nL 83.675289 15.025877 \nL 93.419468 20.497617 \nL 103.163647 52.717308 \nL 112.907826 84.170515 \nL 122.652006 96.380057 \nL 132.396185 102.078854 \nL 142.140364 106.260859 \nL 151.884543 107.294164 \nL 161.628722 112.061922 \nL 171.372901 114.151987 \nL 181.11708 115.649549 \n\" style=\"fill:none;stroke:#1f77b4;stroke-linecap:square;stroke-width:1.5;\"/>\n   </g>\n   <g id=\"line2d_95\">\n    <path clip-path=\"url(#pec6d67d602)\" d=\"M 49.633125 13.510308 \nL 69.163125 13.857137 \nL 88.693125 16.135585 \nL 108.223125 69.865908 \nL 127.753125 97.158112 \nL 147.283125 106.240287 \nL 166.813125 111.89663 \n\" style=\"fill:none;stroke:#ff7f0e;stroke-dasharray:5.55,2.4;stroke-dashoffset:0;stroke-width:1.5;\"/>\n   </g>\n   <g id=\"line2d_96\">\n    <path clip-path=\"url(#pec6d67d602)\" d=\"M 49.633125 136.922727 \nL 69.163125 129.277533 \nL 88.693125 127.990041 \nL 108.223125 116.567824 \nL 127.753125 107.469929 \nL 147.283125 103.077645 \nL 166.813125 101.664822 \n\" style=\"fill:none;stroke:#2ca02c;stroke-dasharray:9.6,2.4,1.5,2.4;stroke-dashoffset:0;stroke-width:1.5;\"/>\n   </g>\n   <g id=\"line2d_97\">\n    <path clip-path=\"url(#pec6d67d602)\" d=\"M 34.954394 13.377273 \nL 44.698573 13.457404 \nL 54.442752 13.560762 \nL 64.186931 13.72307 \nL 73.93111 14.067365 \nL 83.675289 15.025877 \nL 93.419468 20.497617 \nL 103.163647 52.717308 \nL 112.907826 84.170515 \nL 122.652006 96.380057 \nL 132.396185 102.078854 \nL 142.140364 106.260859 \nL 151.884543 107.294164 \nL 161.628722 112.061922 \nL 171.372901 114.151987 \nL 181.11708 115.649549 \n\" style=\"fill:none;stroke:#1f77b4;stroke-linecap:square;stroke-width:1.5;\"/>\n   </g>\n   <g id=\"line2d_98\">\n    <path clip-path=\"url(#pec6d67d602)\" d=\"M 49.633125 13.510308 \nL 69.163125 13.857137 \nL 88.693125 16.135585 \nL 108.223125 69.865908 \nL 127.753125 97.158112 \nL 147.283125 106.240287 \nL 166.813125 111.89663 \nL 186.343125 109.534817 \n\" style=\"fill:none;stroke:#ff7f0e;stroke-dasharray:5.55,2.4;stroke-dashoffset:0;stroke-width:1.5;\"/>\n   </g>\n   <g id=\"line2d_99\">\n    <path clip-path=\"url(#pec6d67d602)\" d=\"M 49.633125 136.922727 \nL 69.163125 129.277533 \nL 88.693125 127.990041 \nL 108.223125 116.567824 \nL 127.753125 107.469929 \nL 147.283125 103.077645 \nL 166.813125 101.664822 \n\" style=\"fill:none;stroke:#2ca02c;stroke-dasharray:9.6,2.4,1.5,2.4;stroke-dashoffset:0;stroke-width:1.5;\"/>\n   </g>\n   <g id=\"line2d_100\">\n    <path clip-path=\"url(#pec6d67d602)\" d=\"M 34.954394 13.377273 \nL 44.698573 13.457404 \nL 54.442752 13.560762 \nL 64.186931 13.72307 \nL 73.93111 14.067365 \nL 83.675289 15.025877 \nL 93.419468 20.497617 \nL 103.163647 52.717308 \nL 112.907826 84.170515 \nL 122.652006 96.380057 \nL 132.396185 102.078854 \nL 142.140364 106.260859 \nL 151.884543 107.294164 \nL 161.628722 112.061922 \nL 171.372901 114.151987 \nL 181.11708 115.649549 \n\" style=\"fill:none;stroke:#1f77b4;stroke-linecap:square;stroke-width:1.5;\"/>\n   </g>\n   <g id=\"line2d_101\">\n    <path clip-path=\"url(#pec6d67d602)\" d=\"M 49.633125 13.510308 \nL 69.163125 13.857137 \nL 88.693125 16.135585 \nL 108.223125 69.865908 \nL 127.753125 97.158112 \nL 147.283125 106.240287 \nL 166.813125 111.89663 \nL 186.343125 109.534817 \n\" style=\"fill:none;stroke:#ff7f0e;stroke-dasharray:5.55,2.4;stroke-dashoffset:0;stroke-width:1.5;\"/>\n   </g>\n   <g id=\"line2d_102\">\n    <path clip-path=\"url(#pec6d67d602)\" d=\"M 49.633125 136.922727 \nL 69.163125 129.277533 \nL 88.693125 127.990041 \nL 108.223125 116.567824 \nL 127.753125 107.469929 \nL 147.283125 103.077645 \nL 166.813125 101.664822 \nL 186.343125 101.790153 \n\" style=\"fill:none;stroke:#2ca02c;stroke-dasharray:9.6,2.4,1.5,2.4;stroke-dashoffset:0;stroke-width:1.5;\"/>\n   </g>\n   <g id=\"line2d_103\">\n    <path clip-path=\"url(#pec6d67d602)\" d=\"M 34.954394 13.377273 \nL 44.698573 13.457404 \nL 54.442752 13.560762 \nL 64.186931 13.72307 \nL 73.93111 14.067365 \nL 83.675289 15.025877 \nL 93.419468 20.497617 \nL 103.163647 52.717308 \nL 112.907826 84.170515 \nL 122.652006 96.380057 \nL 132.396185 102.078854 \nL 142.140364 106.260859 \nL 151.884543 107.294164 \nL 161.628722 112.061922 \nL 171.372901 114.151987 \nL 181.11708 115.649549 \nL 190.861259 117.055621 \n\" style=\"fill:none;stroke:#1f77b4;stroke-linecap:square;stroke-width:1.5;\"/>\n   </g>\n   <g id=\"line2d_104\">\n    <path clip-path=\"url(#pec6d67d602)\" d=\"M 49.633125 13.510308 \nL 69.163125 13.857137 \nL 88.693125 16.135585 \nL 108.223125 69.865908 \nL 127.753125 97.158112 \nL 147.283125 106.240287 \nL 166.813125 111.89663 \nL 186.343125 109.534817 \n\" style=\"fill:none;stroke:#ff7f0e;stroke-dasharray:5.55,2.4;stroke-dashoffset:0;stroke-width:1.5;\"/>\n   </g>\n   <g id=\"line2d_105\">\n    <path clip-path=\"url(#pec6d67d602)\" d=\"M 49.633125 136.922727 \nL 69.163125 129.277533 \nL 88.693125 127.990041 \nL 108.223125 116.567824 \nL 127.753125 107.469929 \nL 147.283125 103.077645 \nL 166.813125 101.664822 \nL 186.343125 101.790153 \n\" style=\"fill:none;stroke:#2ca02c;stroke-dasharray:9.6,2.4,1.5,2.4;stroke-dashoffset:0;stroke-width:1.5;\"/>\n   </g>\n   <g id=\"line2d_106\">\n    <path clip-path=\"url(#pec6d67d602)\" d=\"M 34.954394 13.377273 \nL 44.698573 13.457404 \nL 54.442752 13.560762 \nL 64.186931 13.72307 \nL 73.93111 14.067365 \nL 83.675289 15.025877 \nL 93.419468 20.497617 \nL 103.163647 52.717308 \nL 112.907826 84.170515 \nL 122.652006 96.380057 \nL 132.396185 102.078854 \nL 142.140364 106.260859 \nL 151.884543 107.294164 \nL 161.628722 112.061922 \nL 171.372901 114.151987 \nL 181.11708 115.649549 \nL 190.861259 117.055621 \nL 200.605438 118.319682 \n\" style=\"fill:none;stroke:#1f77b4;stroke-linecap:square;stroke-width:1.5;\"/>\n   </g>\n   <g id=\"line2d_107\">\n    <path clip-path=\"url(#pec6d67d602)\" d=\"M 49.633125 13.510308 \nL 69.163125 13.857137 \nL 88.693125 16.135585 \nL 108.223125 69.865908 \nL 127.753125 97.158112 \nL 147.283125 106.240287 \nL 166.813125 111.89663 \nL 186.343125 109.534817 \n\" style=\"fill:none;stroke:#ff7f0e;stroke-dasharray:5.55,2.4;stroke-dashoffset:0;stroke-width:1.5;\"/>\n   </g>\n   <g id=\"line2d_108\">\n    <path clip-path=\"url(#pec6d67d602)\" d=\"M 49.633125 136.922727 \nL 69.163125 129.277533 \nL 88.693125 127.990041 \nL 108.223125 116.567824 \nL 127.753125 107.469929 \nL 147.283125 103.077645 \nL 166.813125 101.664822 \nL 186.343125 101.790153 \n\" style=\"fill:none;stroke:#2ca02c;stroke-dasharray:9.6,2.4,1.5,2.4;stroke-dashoffset:0;stroke-width:1.5;\"/>\n   </g>\n   <g id=\"line2d_109\">\n    <path clip-path=\"url(#pec6d67d602)\" d=\"M 34.954394 13.377273 \nL 44.698573 13.457404 \nL 54.442752 13.560762 \nL 64.186931 13.72307 \nL 73.93111 14.067365 \nL 83.675289 15.025877 \nL 93.419468 20.497617 \nL 103.163647 52.717308 \nL 112.907826 84.170515 \nL 122.652006 96.380057 \nL 132.396185 102.078854 \nL 142.140364 106.260859 \nL 151.884543 107.294164 \nL 161.628722 112.061922 \nL 171.372901 114.151987 \nL 181.11708 115.649549 \nL 190.861259 117.055621 \nL 200.605438 118.319682 \n\" style=\"fill:none;stroke:#1f77b4;stroke-linecap:square;stroke-width:1.5;\"/>\n   </g>\n   <g id=\"line2d_110\">\n    <path clip-path=\"url(#pec6d67d602)\" d=\"M 49.633125 13.510308 \nL 69.163125 13.857137 \nL 88.693125 16.135585 \nL 108.223125 69.865908 \nL 127.753125 97.158112 \nL 147.283125 106.240287 \nL 166.813125 111.89663 \nL 186.343125 109.534817 \nL 205.873125 118.754696 \n\" style=\"fill:none;stroke:#ff7f0e;stroke-dasharray:5.55,2.4;stroke-dashoffset:0;stroke-width:1.5;\"/>\n   </g>\n   <g id=\"line2d_111\">\n    <path clip-path=\"url(#pec6d67d602)\" d=\"M 49.633125 136.922727 \nL 69.163125 129.277533 \nL 88.693125 127.990041 \nL 108.223125 116.567824 \nL 127.753125 107.469929 \nL 147.283125 103.077645 \nL 166.813125 101.664822 \nL 186.343125 101.790153 \n\" style=\"fill:none;stroke:#2ca02c;stroke-dasharray:9.6,2.4,1.5,2.4;stroke-dashoffset:0;stroke-width:1.5;\"/>\n   </g>\n   <g id=\"line2d_112\">\n    <path clip-path=\"url(#pec6d67d602)\" d=\"M 34.954394 13.377273 \nL 44.698573 13.457404 \nL 54.442752 13.560762 \nL 64.186931 13.72307 \nL 73.93111 14.067365 \nL 83.675289 15.025877 \nL 93.419468 20.497617 \nL 103.163647 52.717308 \nL 112.907826 84.170515 \nL 122.652006 96.380057 \nL 132.396185 102.078854 \nL 142.140364 106.260859 \nL 151.884543 107.294164 \nL 161.628722 112.061922 \nL 171.372901 114.151987 \nL 181.11708 115.649549 \nL 190.861259 117.055621 \nL 200.605438 118.319682 \n\" style=\"fill:none;stroke:#1f77b4;stroke-linecap:square;stroke-width:1.5;\"/>\n   </g>\n   <g id=\"line2d_113\">\n    <path clip-path=\"url(#pec6d67d602)\" d=\"M 49.633125 13.510308 \nL 69.163125 13.857137 \nL 88.693125 16.135585 \nL 108.223125 69.865908 \nL 127.753125 97.158112 \nL 147.283125 106.240287 \nL 166.813125 111.89663 \nL 186.343125 109.534817 \nL 205.873125 118.754696 \n\" style=\"fill:none;stroke:#ff7f0e;stroke-dasharray:5.55,2.4;stroke-dashoffset:0;stroke-width:1.5;\"/>\n   </g>\n   <g id=\"line2d_114\">\n    <path clip-path=\"url(#pec6d67d602)\" d=\"M 49.633125 136.922727 \nL 69.163125 129.277533 \nL 88.693125 127.990041 \nL 108.223125 116.567824 \nL 127.753125 107.469929 \nL 147.283125 103.077645 \nL 166.813125 101.664822 \nL 186.343125 101.790153 \nL 205.873125 98.320761 \n\" style=\"fill:none;stroke:#2ca02c;stroke-dasharray:9.6,2.4,1.5,2.4;stroke-dashoffset:0;stroke-width:1.5;\"/>\n   </g>\n   <g id=\"line2d_115\">\n    <path clip-path=\"url(#pec6d67d602)\" d=\"M 34.954394 13.377273 \nL 44.698573 13.457404 \nL 54.442752 13.560762 \nL 64.186931 13.72307 \nL 73.93111 14.067365 \nL 83.675289 15.025877 \nL 93.419468 20.497617 \nL 103.163647 52.717308 \nL 112.907826 84.170515 \nL 122.652006 96.380057 \nL 132.396185 102.078854 \nL 142.140364 106.260859 \nL 151.884543 107.294164 \nL 161.628722 112.061922 \nL 171.372901 114.151987 \nL 181.11708 115.649549 \nL 190.861259 117.055621 \nL 200.605438 118.319682 \nL 210.349618 119.593988 \n\" style=\"fill:none;stroke:#1f77b4;stroke-linecap:square;stroke-width:1.5;\"/>\n   </g>\n   <g id=\"line2d_116\">\n    <path clip-path=\"url(#pec6d67d602)\" d=\"M 49.633125 13.510308 \nL 69.163125 13.857137 \nL 88.693125 16.135585 \nL 108.223125 69.865908 \nL 127.753125 97.158112 \nL 147.283125 106.240287 \nL 166.813125 111.89663 \nL 186.343125 109.534817 \nL 205.873125 118.754696 \n\" style=\"fill:none;stroke:#ff7f0e;stroke-dasharray:5.55,2.4;stroke-dashoffset:0;stroke-width:1.5;\"/>\n   </g>\n   <g id=\"line2d_117\">\n    <path clip-path=\"url(#pec6d67d602)\" d=\"M 49.633125 136.922727 \nL 69.163125 129.277533 \nL 88.693125 127.990041 \nL 108.223125 116.567824 \nL 127.753125 107.469929 \nL 147.283125 103.077645 \nL 166.813125 101.664822 \nL 186.343125 101.790153 \nL 205.873125 98.320761 \n\" style=\"fill:none;stroke:#2ca02c;stroke-dasharray:9.6,2.4,1.5,2.4;stroke-dashoffset:0;stroke-width:1.5;\"/>\n   </g>\n   <g id=\"line2d_118\">\n    <path clip-path=\"url(#pec6d67d602)\" d=\"M 34.954394 13.377273 \nL 44.698573 13.457404 \nL 54.442752 13.560762 \nL 64.186931 13.72307 \nL 73.93111 14.067365 \nL 83.675289 15.025877 \nL 93.419468 20.497617 \nL 103.163647 52.717308 \nL 112.907826 84.170515 \nL 122.652006 96.380057 \nL 132.396185 102.078854 \nL 142.140364 106.260859 \nL 151.884543 107.294164 \nL 161.628722 112.061922 \nL 171.372901 114.151987 \nL 181.11708 115.649549 \nL 190.861259 117.055621 \nL 200.605438 118.319682 \nL 210.349618 119.593988 \nL 220.093797 120.350308 \n\" style=\"fill:none;stroke:#1f77b4;stroke-linecap:square;stroke-width:1.5;\"/>\n   </g>\n   <g id=\"line2d_119\">\n    <path clip-path=\"url(#pec6d67d602)\" d=\"M 49.633125 13.510308 \nL 69.163125 13.857137 \nL 88.693125 16.135585 \nL 108.223125 69.865908 \nL 127.753125 97.158112 \nL 147.283125 106.240287 \nL 166.813125 111.89663 \nL 186.343125 109.534817 \nL 205.873125 118.754696 \n\" style=\"fill:none;stroke:#ff7f0e;stroke-dasharray:5.55,2.4;stroke-dashoffset:0;stroke-width:1.5;\"/>\n   </g>\n   <g id=\"line2d_120\">\n    <path clip-path=\"url(#pec6d67d602)\" d=\"M 49.633125 136.922727 \nL 69.163125 129.277533 \nL 88.693125 127.990041 \nL 108.223125 116.567824 \nL 127.753125 107.469929 \nL 147.283125 103.077645 \nL 166.813125 101.664822 \nL 186.343125 101.790153 \nL 205.873125 98.320761 \n\" style=\"fill:none;stroke:#2ca02c;stroke-dasharray:9.6,2.4,1.5,2.4;stroke-dashoffset:0;stroke-width:1.5;\"/>\n   </g>\n   <g id=\"line2d_121\">\n    <path clip-path=\"url(#pec6d67d602)\" d=\"M 34.954394 13.377273 \nL 44.698573 13.457404 \nL 54.442752 13.560762 \nL 64.186931 13.72307 \nL 73.93111 14.067365 \nL 83.675289 15.025877 \nL 93.419468 20.497617 \nL 103.163647 52.717308 \nL 112.907826 84.170515 \nL 122.652006 96.380057 \nL 132.396185 102.078854 \nL 142.140364 106.260859 \nL 151.884543 107.294164 \nL 161.628722 112.061922 \nL 171.372901 114.151987 \nL 181.11708 115.649549 \nL 190.861259 117.055621 \nL 200.605438 118.319682 \nL 210.349618 119.593988 \nL 220.093797 120.350308 \n\" style=\"fill:none;stroke:#1f77b4;stroke-linecap:square;stroke-width:1.5;\"/>\n   </g>\n   <g id=\"line2d_122\">\n    <path clip-path=\"url(#pec6d67d602)\" d=\"M 49.633125 13.510308 \nL 69.163125 13.857137 \nL 88.693125 16.135585 \nL 108.223125 69.865908 \nL 127.753125 97.158112 \nL 147.283125 106.240287 \nL 166.813125 111.89663 \nL 186.343125 109.534817 \nL 205.873125 118.754696 \nL 225.403125 119.452745 \n\" style=\"fill:none;stroke:#ff7f0e;stroke-dasharray:5.55,2.4;stroke-dashoffset:0;stroke-width:1.5;\"/>\n   </g>\n   <g id=\"line2d_123\">\n    <path clip-path=\"url(#pec6d67d602)\" d=\"M 49.633125 136.922727 \nL 69.163125 129.277533 \nL 88.693125 127.990041 \nL 108.223125 116.567824 \nL 127.753125 107.469929 \nL 147.283125 103.077645 \nL 166.813125 101.664822 \nL 186.343125 101.790153 \nL 205.873125 98.320761 \n\" style=\"fill:none;stroke:#2ca02c;stroke-dasharray:9.6,2.4,1.5,2.4;stroke-dashoffset:0;stroke-width:1.5;\"/>\n   </g>\n   <g id=\"line2d_124\">\n    <path clip-path=\"url(#pec6d67d602)\" d=\"M 34.954394 13.377273 \nL 44.698573 13.457404 \nL 54.442752 13.560762 \nL 64.186931 13.72307 \nL 73.93111 14.067365 \nL 83.675289 15.025877 \nL 93.419468 20.497617 \nL 103.163647 52.717308 \nL 112.907826 84.170515 \nL 122.652006 96.380057 \nL 132.396185 102.078854 \nL 142.140364 106.260859 \nL 151.884543 107.294164 \nL 161.628722 112.061922 \nL 171.372901 114.151987 \nL 181.11708 115.649549 \nL 190.861259 117.055621 \nL 200.605438 118.319682 \nL 210.349618 119.593988 \nL 220.093797 120.350308 \n\" style=\"fill:none;stroke:#1f77b4;stroke-linecap:square;stroke-width:1.5;\"/>\n   </g>\n   <g id=\"line2d_125\">\n    <path clip-path=\"url(#pec6d67d602)\" d=\"M 49.633125 13.510308 \nL 69.163125 13.857137 \nL 88.693125 16.135585 \nL 108.223125 69.865908 \nL 127.753125 97.158112 \nL 147.283125 106.240287 \nL 166.813125 111.89663 \nL 186.343125 109.534817 \nL 205.873125 118.754696 \nL 225.403125 119.452745 \n\" style=\"fill:none;stroke:#ff7f0e;stroke-dasharray:5.55,2.4;stroke-dashoffset:0;stroke-width:1.5;\"/>\n   </g>\n   <g id=\"line2d_126\">\n    <path clip-path=\"url(#pec6d67d602)\" d=\"M 49.633125 136.922727 \nL 69.163125 129.277533 \nL 88.693125 127.990041 \nL 108.223125 116.567824 \nL 127.753125 107.469929 \nL 147.283125 103.077645 \nL 166.813125 101.664822 \nL 186.343125 101.790153 \nL 205.873125 98.320761 \nL 225.403125 98.201127 \n\" style=\"fill:none;stroke:#2ca02c;stroke-dasharray:9.6,2.4,1.5,2.4;stroke-dashoffset:0;stroke-width:1.5;\"/>\n   </g>\n   <g id=\"patch_3\">\n    <path d=\"M 30.103125 143.1 \nL 30.103125 7.2 \n\" style=\"fill:none;stroke:#000000;stroke-linecap:square;stroke-linejoin:miter;stroke-width:0.8;\"/>\n   </g>\n   <g id=\"patch_4\">\n    <path d=\"M 225.403125 143.1 \nL 225.403125 7.2 \n\" style=\"fill:none;stroke:#000000;stroke-linecap:square;stroke-linejoin:miter;stroke-width:0.8;\"/>\n   </g>\n   <g id=\"patch_5\">\n    <path d=\"M 30.103125 143.1 \nL 225.403125 143.1 \n\" style=\"fill:none;stroke:#000000;stroke-linecap:square;stroke-linejoin:miter;stroke-width:0.8;\"/>\n   </g>\n   <g id=\"patch_6\">\n    <path d=\"M 30.103125 7.2 \nL 225.403125 7.2 \n\" style=\"fill:none;stroke:#000000;stroke-linecap:square;stroke-linejoin:miter;stroke-width:0.8;\"/>\n   </g>\n   <g id=\"legend_1\">\n    <g id=\"patch_7\">\n     <path d=\"M 138.8125 60.06875 \nL 218.403125 60.06875 \nQ 220.403125 60.06875 220.403125 58.06875 \nL 220.403125 14.2 \nQ 220.403125 12.2 218.403125 12.2 \nL 138.8125 12.2 \nQ 136.8125 12.2 136.8125 14.2 \nL 136.8125 58.06875 \nQ 136.8125 60.06875 138.8125 60.06875 \nz\n\" style=\"fill:#ffffff;opacity:0.8;stroke:#cccccc;stroke-linejoin:miter;\"/>\n    </g>\n    <g id=\"line2d_127\">\n     <path d=\"M 140.8125 20.298437 \nL 160.8125 20.298437 \n\" style=\"fill:none;stroke:#1f77b4;stroke-linecap:square;stroke-width:1.5;\"/>\n    </g>\n    <g id=\"line2d_128\"/>\n    <g id=\"text_12\">\n     <!-- train_loss -->\n     <defs>\n      <path d=\"M 18.3125 70.21875 \nL 18.3125 54.6875 \nL 36.8125 54.6875 \nL 36.8125 47.703125 \nL 18.3125 47.703125 \nL 18.3125 18.015625 \nQ 18.3125 11.328125 20.140625 9.421875 \nQ 21.96875 7.515625 27.59375 7.515625 \nL 36.8125 7.515625 \nL 36.8125 0 \nL 27.59375 0 \nQ 17.1875 0 13.234375 3.875 \nQ 9.28125 7.765625 9.28125 18.015625 \nL 9.28125 47.703125 \nL 2.6875 47.703125 \nL 2.6875 54.6875 \nL 9.28125 54.6875 \nL 9.28125 70.21875 \nz\n\" id=\"DejaVuSans-116\"/>\n      <path d=\"M 41.109375 46.296875 \nQ 39.59375 47.171875 37.8125 47.578125 \nQ 36.03125 48 33.890625 48 \nQ 26.265625 48 22.1875 43.046875 \nQ 18.109375 38.09375 18.109375 28.8125 \nL 18.109375 0 \nL 9.078125 0 \nL 9.078125 54.6875 \nL 18.109375 54.6875 \nL 18.109375 46.1875 \nQ 20.953125 51.171875 25.484375 53.578125 \nQ 30.03125 56 36.53125 56 \nQ 37.453125 56 38.578125 55.875 \nQ 39.703125 55.765625 41.0625 55.515625 \nz\n\" id=\"DejaVuSans-114\"/>\n      <path d=\"M 34.28125 27.484375 \nQ 23.390625 27.484375 19.1875 25 \nQ 14.984375 22.515625 14.984375 16.5 \nQ 14.984375 11.71875 18.140625 8.90625 \nQ 21.296875 6.109375 26.703125 6.109375 \nQ 34.1875 6.109375 38.703125 11.40625 \nQ 43.21875 16.703125 43.21875 25.484375 \nL 43.21875 27.484375 \nz\nM 52.203125 31.203125 \nL 52.203125 0 \nL 43.21875 0 \nL 43.21875 8.296875 \nQ 40.140625 3.328125 35.546875 0.953125 \nQ 30.953125 -1.421875 24.3125 -1.421875 \nQ 15.921875 -1.421875 10.953125 3.296875 \nQ 6 8.015625 6 15.921875 \nQ 6 25.140625 12.171875 29.828125 \nQ 18.359375 34.515625 30.609375 34.515625 \nL 43.21875 34.515625 \nL 43.21875 35.40625 \nQ 43.21875 41.609375 39.140625 45 \nQ 35.0625 48.390625 27.6875 48.390625 \nQ 23 48.390625 18.546875 47.265625 \nQ 14.109375 46.140625 10.015625 43.890625 \nL 10.015625 52.203125 \nQ 14.9375 54.109375 19.578125 55.046875 \nQ 24.21875 56 28.609375 56 \nQ 40.484375 56 46.34375 49.84375 \nQ 52.203125 43.703125 52.203125 31.203125 \nz\n\" id=\"DejaVuSans-97\"/>\n      <path d=\"M 9.421875 54.6875 \nL 18.40625 54.6875 \nL 18.40625 0 \nL 9.421875 0 \nz\nM 9.421875 75.984375 \nL 18.40625 75.984375 \nL 18.40625 64.59375 \nL 9.421875 64.59375 \nz\n\" id=\"DejaVuSans-105\"/>\n      <path d=\"M 54.890625 33.015625 \nL 54.890625 0 \nL 45.90625 0 \nL 45.90625 32.71875 \nQ 45.90625 40.484375 42.875 44.328125 \nQ 39.84375 48.1875 33.796875 48.1875 \nQ 26.515625 48.1875 22.3125 43.546875 \nQ 18.109375 38.921875 18.109375 30.90625 \nL 18.109375 0 \nL 9.078125 0 \nL 9.078125 54.6875 \nL 18.109375 54.6875 \nL 18.109375 46.1875 \nQ 21.34375 51.125 25.703125 53.5625 \nQ 30.078125 56 35.796875 56 \nQ 45.21875 56 50.046875 50.171875 \nQ 54.890625 44.34375 54.890625 33.015625 \nz\n\" id=\"DejaVuSans-110\"/>\n      <path d=\"M 50.984375 -16.609375 \nL 50.984375 -23.578125 \nL -0.984375 -23.578125 \nL -0.984375 -16.609375 \nz\n\" id=\"DejaVuSans-95\"/>\n      <path d=\"M 9.421875 75.984375 \nL 18.40625 75.984375 \nL 18.40625 0 \nL 9.421875 0 \nz\n\" id=\"DejaVuSans-108\"/>\n      <path d=\"M 44.28125 53.078125 \nL 44.28125 44.578125 \nQ 40.484375 46.53125 36.375 47.5 \nQ 32.28125 48.484375 27.875 48.484375 \nQ 21.1875 48.484375 17.84375 46.4375 \nQ 14.5 44.390625 14.5 40.28125 \nQ 14.5 37.15625 16.890625 35.375 \nQ 19.28125 33.59375 26.515625 31.984375 \nL 29.59375 31.296875 \nQ 39.15625 29.25 43.1875 25.515625 \nQ 47.21875 21.78125 47.21875 15.09375 \nQ 47.21875 7.46875 41.1875 3.015625 \nQ 35.15625 -1.421875 24.609375 -1.421875 \nQ 20.21875 -1.421875 15.453125 -0.5625 \nQ 10.6875 0.296875 5.421875 2 \nL 5.421875 11.28125 \nQ 10.40625 8.6875 15.234375 7.390625 \nQ 20.0625 6.109375 24.8125 6.109375 \nQ 31.15625 6.109375 34.5625 8.28125 \nQ 37.984375 10.453125 37.984375 14.40625 \nQ 37.984375 18.0625 35.515625 20.015625 \nQ 33.0625 21.96875 24.703125 23.78125 \nL 21.578125 24.515625 \nQ 13.234375 26.265625 9.515625 29.90625 \nQ 5.8125 33.546875 5.8125 39.890625 \nQ 5.8125 47.609375 11.28125 51.796875 \nQ 16.75 56 26.8125 56 \nQ 31.78125 56 36.171875 55.265625 \nQ 40.578125 54.546875 44.28125 53.078125 \nz\n\" id=\"DejaVuSans-115\"/>\n     </defs>\n     <g transform=\"translate(168.8125 23.798437)scale(0.1 -0.1)\">\n      <use xlink:href=\"#DejaVuSans-116\"/>\n      <use x=\"39.208984\" xlink:href=\"#DejaVuSans-114\"/>\n      <use x=\"80.322266\" xlink:href=\"#DejaVuSans-97\"/>\n      <use x=\"141.601562\" xlink:href=\"#DejaVuSans-105\"/>\n      <use x=\"169.384766\" xlink:href=\"#DejaVuSans-110\"/>\n      <use x=\"232.763672\" xlink:href=\"#DejaVuSans-95\"/>\n      <use x=\"282.763672\" xlink:href=\"#DejaVuSans-108\"/>\n      <use x=\"310.546875\" xlink:href=\"#DejaVuSans-111\"/>\n      <use x=\"371.728516\" xlink:href=\"#DejaVuSans-115\"/>\n      <use x=\"423.828125\" xlink:href=\"#DejaVuSans-115\"/>\n     </g>\n    </g>\n    <g id=\"line2d_129\">\n     <path d=\"M 140.8125 35.254687 \nL 160.8125 35.254687 \n\" style=\"fill:none;stroke:#ff7f0e;stroke-dasharray:5.55,2.4;stroke-dashoffset:0;stroke-width:1.5;\"/>\n    </g>\n    <g id=\"line2d_130\"/>\n    <g id=\"text_13\">\n     <!-- val_loss -->\n     <defs>\n      <path d=\"M 2.984375 54.6875 \nL 12.5 54.6875 \nL 29.59375 8.796875 \nL 46.6875 54.6875 \nL 56.203125 54.6875 \nL 35.6875 0 \nL 23.484375 0 \nz\n\" id=\"DejaVuSans-118\"/>\n     </defs>\n     <g transform=\"translate(168.8125 38.754687)scale(0.1 -0.1)\">\n      <use xlink:href=\"#DejaVuSans-118\"/>\n      <use x=\"59.179688\" xlink:href=\"#DejaVuSans-97\"/>\n      <use x=\"120.458984\" xlink:href=\"#DejaVuSans-108\"/>\n      <use x=\"148.242188\" xlink:href=\"#DejaVuSans-95\"/>\n      <use x=\"198.242188\" xlink:href=\"#DejaVuSans-108\"/>\n      <use x=\"226.025391\" xlink:href=\"#DejaVuSans-111\"/>\n      <use x=\"287.207031\" xlink:href=\"#DejaVuSans-115\"/>\n      <use x=\"339.306641\" xlink:href=\"#DejaVuSans-115\"/>\n     </g>\n    </g>\n    <g id=\"line2d_131\">\n     <path d=\"M 140.8125 50.210937 \nL 160.8125 50.210937 \n\" style=\"fill:none;stroke:#2ca02c;stroke-dasharray:9.6,2.4,1.5,2.4;stroke-dashoffset:0;stroke-width:1.5;\"/>\n    </g>\n    <g id=\"line2d_132\"/>\n    <g id=\"text_14\">\n     <!-- val_acc -->\n     <g transform=\"translate(168.8125 53.710937)scale(0.1 -0.1)\">\n      <use xlink:href=\"#DejaVuSans-118\"/>\n      <use x=\"59.179688\" xlink:href=\"#DejaVuSans-97\"/>\n      <use x=\"120.458984\" xlink:href=\"#DejaVuSans-108\"/>\n      <use x=\"148.242188\" xlink:href=\"#DejaVuSans-95\"/>\n      <use x=\"198.242188\" xlink:href=\"#DejaVuSans-97\"/>\n      <use x=\"259.521484\" xlink:href=\"#DejaVuSans-99\"/>\n      <use x=\"314.501953\" xlink:href=\"#DejaVuSans-99\"/>\n     </g>\n    </g>\n   </g>\n  </g>\n </g>\n <defs>\n  <clipPath id=\"pec6d67d602\">\n   <rect height=\"135.9\" width=\"195.3\" x=\"30.103125\" y=\"7.2\"/>\n  </clipPath>\n </defs>\n</svg>\n"
          },
          "metadata": {
            "needs_background": "light"
          }
        }
      ]
    },
    {
      "cell_type": "markdown",
      "source": [
        "## 8.5 Batch Normalization"
      ],
      "metadata": {
        "id": "1DZjQLdAkDOh"
      }
    },
    {
      "cell_type": "markdown",
      "source": [
        "### 8.5.3 Implementation from Scratch"
      ],
      "metadata": {
        "id": "D0eJbBIjkPD7"
      }
    },
    {
      "cell_type": "code",
      "source": [
        "import torch\n",
        "from torch import nn\n",
        "from d2l import torch as d2l"
      ],
      "metadata": {
        "id": "hMwe-KdbkTqc"
      },
      "execution_count": 30,
      "outputs": []
    },
    {
      "cell_type": "code",
      "source": [
        "def batch_norm(X, gamma, beta, moving_mean, moving_var, eps, momentum):\n",
        "  if not torch.is_grad_enabled():   # Training Mode\n",
        "    X_hat = (X - moving_mean) / torch.sqrt(moving_var + eps)\n",
        "  else:\n",
        "    assert len(X.shape) in (2, 4)\n",
        "    if len(X.shape) == 2:            # Fully Connetced Layers\n",
        "      mean = X.mean(dim=0)\n",
        "      var = ((X - mean) ** 2).mean(dim=0)\n",
        "    else:\n",
        "      mean = X.mean(dim=(0, 2, 3), keepdim=True)\n",
        "      var = ((X - mean) ** 2).mean(dim=(0, 2, 3), keepdim=True)\n",
        "\n",
        "    X_hat = (X - mean) / torch.sqrt(var + eps)\n",
        "\n",
        "    moving_mean = (1.0 - momentum) * moving_mean + momentum * mean\n",
        "    moving_var = (1.0 - momentum) * moving_var + momentum * var\n",
        "\n",
        "  Y = gamma * X_hat + beta # Scale ans shift\n",
        "  return Y, moving_mean.data, moving_var.data"
      ],
      "metadata": {
        "id": "zuXrLet1kdp4"
      },
      "execution_count": 31,
      "outputs": []
    },
    {
      "cell_type": "code",
      "source": [
        "class BatchNorm(nn.Module):\n",
        "  def __init__(self, num_features, num_dims):\n",
        "    super().__init__()\n",
        "\n",
        "    if num_dims == 2:\n",
        "      shape = (1, num_features)     # Fully Connected Layer\n",
        "    else:\n",
        "      shape = (1, num_features, 1, 1) # Convolutional layer\n",
        "\n",
        "    self.gamma = nn.Parameter(torch.ones(shape))\n",
        "    self.beta = nn.Parameters(torch.zeros(shape))\n",
        "\n",
        "    self.moving_mean = torch.zeros(shape)\n",
        "    self.moving_var = torch.ones(shape)\n",
        "\n",
        "  def forward(self, X):\n",
        "    if self.moving_mean.device != X.device:\n",
        "      self.moving_mean = self.moving_mean.to(X.device)\n",
        "      self.moving_var = self.moving_var.to(X.device)\n",
        "\n",
        "    Y, self.moving_mean, self.moving_var = batch_norm(\n",
        "        X, self.gamma, self.beta, self.moving_mean, self.moving_var,\n",
        "        eps = 1e-5, momentum=0.1)\n",
        "    return Y"
      ],
      "metadata": {
        "id": "9x9Yd4tGqvH4"
      },
      "execution_count": 32,
      "outputs": []
    }
  ]
}