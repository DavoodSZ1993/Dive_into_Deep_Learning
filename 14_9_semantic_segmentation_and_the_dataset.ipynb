{
  "nbformat": 4,
  "nbformat_minor": 0,
  "metadata": {
    "colab": {
      "provenance": [],
      "authorship_tag": "ABX9TyP08/Y5+1YsyxZtxRgIqMh6",
      "include_colab_link": true
    },
    "kernelspec": {
      "name": "python3",
      "display_name": "Python 3"
    },
    "language_info": {
      "name": "python"
    }
  },
  "cells": [
    {
      "cell_type": "markdown",
      "metadata": {
        "id": "view-in-github",
        "colab_type": "text"
      },
      "source": [
        "<a href=\"https://colab.research.google.com/github/DavoodSZ1993/Dive_into_Deep_Learning/blob/main/14_9_semantic_segmentation_and_the_dataset.ipynb\" target=\"_parent\"><img src=\"https://colab.research.google.com/assets/colab-badge.svg\" alt=\"Open In Colab\"/></a>"
      ]
    },
    {
      "cell_type": "code",
      "execution_count": null,
      "metadata": {
        "id": "7Afu2UnAixVI"
      },
      "outputs": [],
      "source": [
        "!pip install d2l==1.0.0-alpha1.post0 --quiet"
      ]
    },
    {
      "cell_type": "markdown",
      "source": [
        "## 14.9 Semantic Segmentation and the Dataset"
      ],
      "metadata": {
        "id": "7yvC9LZbjH7k"
      }
    },
    {
      "cell_type": "markdown",
      "source": [
        "### 14.9.2 The Pascal VOC2012 Semantic Segmentation Dataset"
      ],
      "metadata": {
        "id": "_-cvxkE-jW5o"
      }
    },
    {
      "cell_type": "code",
      "source": [],
      "metadata": {
        "id": "ocyzgnr0jdjW"
      },
      "execution_count": null,
      "outputs": []
    }
  ]
}