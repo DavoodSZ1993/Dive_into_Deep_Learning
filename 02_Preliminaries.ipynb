{
  "nbformat": 4,
  "nbformat_minor": 0,
  "metadata": {
    "colab": {
      "name": "02.Preliminaries.ipynb",
      "provenance": [],
      "collapsed_sections": [],
      "authorship_tag": "ABX9TyMv5Qi1hdGKui0vSUIWryqc",
      "include_colab_link": true
    },
    "kernelspec": {
      "name": "python3",
      "display_name": "Python 3"
    },
    "language_info": {
      "name": "python"
    },
    "accelerator": "GPU"
  },
  "cells": [
    {
      "cell_type": "markdown",
      "metadata": {
        "id": "view-in-github",
        "colab_type": "text"
      },
      "source": [
        "<a href=\"https://colab.research.google.com/github/DavoodSZ1993/Dive_into_Deep_Learning/blob/main/02_Preliminaries.ipynb\" target=\"_parent\"><img src=\"https://colab.research.google.com/assets/colab-badge.svg\" alt=\"Open In Colab\"/></a>"
      ]
    },
    {
      "cell_type": "markdown",
      "source": [
        "#### Data Manipulation"
      ],
      "metadata": {
        "id": "lBQ4-WKjx1J1"
      }
    },
    {
      "cell_type": "markdown",
      "source": [
        "## 01. Getting Started"
      ],
      "metadata": {
        "id": "pFM_CXHOfJuG"
      }
    },
    {
      "cell_type": "code",
      "execution_count": null,
      "metadata": {
        "colab": {
          "base_uri": "https://localhost:8080/"
        },
        "id": "X5b71AYzcYSF",
        "outputId": "d43b8d9c-5991-4434-9cd4-631e9b44c2be"
      },
      "outputs": [
        {
          "output_type": "execute_result",
          "data": {
            "text/plain": [
              "tensor([ 0,  1,  2,  3,  4,  5,  6,  7,  8,  9, 10, 11])"
            ]
          },
          "metadata": {},
          "execution_count": 1
        }
      ],
      "source": [
        "import torch\n",
        "\n",
        "x = torch.arange(12)\n",
        "x"
      ]
    },
    {
      "cell_type": "code",
      "source": [
        "x.shape\n"
      ],
      "metadata": {
        "colab": {
          "base_uri": "https://localhost:8080/"
        },
        "id": "LewBwJtRdHSk",
        "outputId": "891ac5aa-dbe8-4855-e4c7-7114ea6f2f3a"
      },
      "execution_count": null,
      "outputs": [
        {
          "output_type": "execute_result",
          "data": {
            "text/plain": [
              "torch.Size([12])"
            ]
          },
          "metadata": {},
          "execution_count": 2
        }
      ]
    },
    {
      "cell_type": "code",
      "source": [
        "x.numel()"
      ],
      "metadata": {
        "colab": {
          "base_uri": "https://localhost:8080/"
        },
        "id": "iiUW6iKZdZaz",
        "outputId": "a6d367f8-f4bf-453c-f416-4030a3b95ebf"
      },
      "execution_count": null,
      "outputs": [
        {
          "output_type": "execute_result",
          "data": {
            "text/plain": [
              "12"
            ]
          },
          "metadata": {},
          "execution_count": 3
        }
      ]
    },
    {
      "cell_type": "code",
      "source": [
        "X = x.reshape(3, 4)\n",
        "X"
      ],
      "metadata": {
        "colab": {
          "base_uri": "https://localhost:8080/"
        },
        "id": "Frnh6m-Ddj10",
        "outputId": "6d291fc4-b905-4749-b8a0-05720b6fa797"
      },
      "execution_count": null,
      "outputs": [
        {
          "output_type": "execute_result",
          "data": {
            "text/plain": [
              "tensor([[ 0,  1,  2,  3],\n",
              "        [ 4,  5,  6,  7],\n",
              "        [ 8,  9, 10, 11]])"
            ]
          },
          "metadata": {},
          "execution_count": 4
        }
      ]
    },
    {
      "cell_type": "code",
      "source": [
        "torch.zeros((2,3,4))"
      ],
      "metadata": {
        "colab": {
          "base_uri": "https://localhost:8080/"
        },
        "id": "odC5XkXVd8s-",
        "outputId": "af4e37d7-a545-4710-ddad-90b5baa2df05"
      },
      "execution_count": null,
      "outputs": [
        {
          "output_type": "execute_result",
          "data": {
            "text/plain": [
              "tensor([[[0., 0., 0., 0.],\n",
              "         [0., 0., 0., 0.],\n",
              "         [0., 0., 0., 0.]],\n",
              "\n",
              "        [[0., 0., 0., 0.],\n",
              "         [0., 0., 0., 0.],\n",
              "         [0., 0., 0., 0.]]])"
            ]
          },
          "metadata": {},
          "execution_count": 5
        }
      ]
    },
    {
      "cell_type": "code",
      "source": [
        "torch.ones((2, 3, 4))"
      ],
      "metadata": {
        "colab": {
          "base_uri": "https://localhost:8080/"
        },
        "id": "4r4h4Kn0eLDD",
        "outputId": "d930f68e-d9bb-4128-d916-0c59ccf12232"
      },
      "execution_count": null,
      "outputs": [
        {
          "output_type": "execute_result",
          "data": {
            "text/plain": [
              "tensor([[[1., 1., 1., 1.],\n",
              "         [1., 1., 1., 1.],\n",
              "         [1., 1., 1., 1.]],\n",
              "\n",
              "        [[1., 1., 1., 1.],\n",
              "         [1., 1., 1., 1.],\n",
              "         [1., 1., 1., 1.]]])"
            ]
          },
          "metadata": {},
          "execution_count": 6
        }
      ]
    },
    {
      "cell_type": "code",
      "source": [
        "torch.randn(3, 4)"
      ],
      "metadata": {
        "colab": {
          "base_uri": "https://localhost:8080/"
        },
        "id": "BkCIhSdEem6L",
        "outputId": "9021f768-238f-4eee-ed76-5b416455111e"
      },
      "execution_count": null,
      "outputs": [
        {
          "output_type": "execute_result",
          "data": {
            "text/plain": [
              "tensor([[-1.2946, -0.9737,  1.7131, -2.3482],\n",
              "        [ 0.8105, -0.7621,  1.8324, -0.9751],\n",
              "        [-0.7596, -1.3955,  1.0214,  0.9452]])"
            ]
          },
          "metadata": {},
          "execution_count": 7
        }
      ]
    },
    {
      "cell_type": "code",
      "source": [
        "torch.tensor([[2, 1, 4, 3], [1, 2, 3, 4], [4, 3, 2, 1]])"
      ],
      "metadata": {
        "colab": {
          "base_uri": "https://localhost:8080/"
        },
        "id": "z7_W2OmOe5jV",
        "outputId": "5b0c6cca-6b02-49ff-b057-f92802ae7233"
      },
      "execution_count": null,
      "outputs": [
        {
          "output_type": "execute_result",
          "data": {
            "text/plain": [
              "tensor([[2, 1, 4, 3],\n",
              "        [1, 2, 3, 4],\n",
              "        [4, 3, 2, 1]])"
            ]
          },
          "metadata": {},
          "execution_count": 8
        }
      ]
    },
    {
      "cell_type": "markdown",
      "source": [
        "## 02. Operations"
      ],
      "metadata": {
        "id": "q80dQ6NgfQj0"
      }
    },
    {
      "cell_type": "code",
      "source": [
        "x = torch.tensor([1.0, 2, 4, 8])\n",
        "y = torch.tensor([2, 2, 2, 2])\n",
        "\n",
        "x + y, x -y, x * y, x / y, x**y "
      ],
      "metadata": {
        "id": "kRG8jPKDfVry",
        "colab": {
          "base_uri": "https://localhost:8080/"
        },
        "outputId": "52799ec3-dcee-4889-82df-223948302d75"
      },
      "execution_count": null,
      "outputs": [
        {
          "output_type": "execute_result",
          "data": {
            "text/plain": [
              "(tensor([ 3.,  4.,  6., 10.]),\n",
              " tensor([-1.,  0.,  2.,  6.]),\n",
              " tensor([ 2.,  4.,  8., 16.]),\n",
              " tensor([0.5000, 1.0000, 2.0000, 4.0000]),\n",
              " tensor([ 1.,  4., 16., 64.]))"
            ]
          },
          "metadata": {},
          "execution_count": 9
        }
      ]
    },
    {
      "cell_type": "code",
      "source": [
        "torch.exp(x)"
      ],
      "metadata": {
        "colab": {
          "base_uri": "https://localhost:8080/"
        },
        "id": "t97rzuhdvZZn",
        "outputId": "422f478f-e47e-4417-84aa-4a2df2680e00"
      },
      "execution_count": null,
      "outputs": [
        {
          "output_type": "execute_result",
          "data": {
            "text/plain": [
              "tensor([2.7183e+00, 7.3891e+00, 5.4598e+01, 2.9810e+03])"
            ]
          },
          "metadata": {},
          "execution_count": 10
        }
      ]
    },
    {
      "cell_type": "code",
      "source": [
        "X = torch.arange(12, dtype=torch.float32).reshape((3,4))\n",
        "Y = torch.tensor([[2.0, 1, 4, 3], [1, 2, 3, 4], [4, 3, 2, 1]])\n",
        "\n",
        "torch.cat((X,Y), dim=0), torch.cat((X, Y), dim=1)"
      ],
      "metadata": {
        "colab": {
          "base_uri": "https://localhost:8080/"
        },
        "id": "ZjoczyK8wEp8",
        "outputId": "f19bf8c5-c7e6-4be9-be64-5834ea83cb93"
      },
      "execution_count": null,
      "outputs": [
        {
          "output_type": "execute_result",
          "data": {
            "text/plain": [
              "(tensor([[ 0.,  1.,  2.,  3.],\n",
              "         [ 4.,  5.,  6.,  7.],\n",
              "         [ 8.,  9., 10., 11.],\n",
              "         [ 2.,  1.,  4.,  3.],\n",
              "         [ 1.,  2.,  3.,  4.],\n",
              "         [ 4.,  3.,  2.,  1.]]),\n",
              " tensor([[ 0.,  1.,  2.,  3.,  2.,  1.,  4.,  3.],\n",
              "         [ 4.,  5.,  6.,  7.,  1.,  2.,  3.,  4.],\n",
              "         [ 8.,  9., 10., 11.,  4.,  3.,  2.,  1.]]))"
            ]
          },
          "metadata": {},
          "execution_count": 11
        }
      ]
    },
    {
      "cell_type": "code",
      "source": [
        "X == Y"
      ],
      "metadata": {
        "colab": {
          "base_uri": "https://localhost:8080/"
        },
        "id": "a4-1LO4QwsZK",
        "outputId": "587d3005-386c-4213-cf20-05e25014f18d"
      },
      "execution_count": null,
      "outputs": [
        {
          "output_type": "execute_result",
          "data": {
            "text/plain": [
              "tensor([[False,  True, False,  True],\n",
              "        [False, False, False, False],\n",
              "        [False, False, False, False]])"
            ]
          },
          "metadata": {},
          "execution_count": 12
        }
      ]
    },
    {
      "cell_type": "code",
      "source": [
        "X.sum()"
      ],
      "metadata": {
        "colab": {
          "base_uri": "https://localhost:8080/"
        },
        "id": "MclfK5W9wzi4",
        "outputId": "b4d84743-4eb1-452b-c3d4-f4a1d0f0ed25"
      },
      "execution_count": null,
      "outputs": [
        {
          "output_type": "execute_result",
          "data": {
            "text/plain": [
              "tensor(66.)"
            ]
          },
          "metadata": {},
          "execution_count": 13
        }
      ]
    },
    {
      "cell_type": "markdown",
      "source": [
        "## 03. Broadcasting Mechanism"
      ],
      "metadata": {
        "id": "d094F2Sdw4Fw"
      }
    },
    {
      "cell_type": "code",
      "source": [
        "a = torch.arange(3).reshape((3, 1))\n",
        "b = torch.arange(2).reshape((1, 2))\n",
        "\n",
        "a, b"
      ],
      "metadata": {
        "colab": {
          "base_uri": "https://localhost:8080/"
        },
        "id": "iyvp3-5Vw9O9",
        "outputId": "aa015bdc-4dd8-4266-d26b-2ca32f34beb8"
      },
      "execution_count": null,
      "outputs": [
        {
          "output_type": "execute_result",
          "data": {
            "text/plain": [
              "(tensor([[0],\n",
              "         [1],\n",
              "         [2]]), tensor([[0, 1]]))"
            ]
          },
          "metadata": {},
          "execution_count": 14
        }
      ]
    },
    {
      "cell_type": "code",
      "source": [
        "a + b"
      ],
      "metadata": {
        "colab": {
          "base_uri": "https://localhost:8080/"
        },
        "id": "zmhlGs7vxdCI",
        "outputId": "de538b59-38b7-4195-891e-1d183cf3ece8"
      },
      "execution_count": null,
      "outputs": [
        {
          "output_type": "execute_result",
          "data": {
            "text/plain": [
              "tensor([[0, 1],\n",
              "        [1, 2],\n",
              "        [2, 3]])"
            ]
          },
          "metadata": {},
          "execution_count": 15
        }
      ]
    },
    {
      "cell_type": "markdown",
      "source": [
        "## 04. Indexing & Slicing"
      ],
      "metadata": {
        "id": "qkv_tk9EyLhp"
      }
    },
    {
      "cell_type": "code",
      "source": [
        "X[-1], X[1:3]"
      ],
      "metadata": {
        "colab": {
          "base_uri": "https://localhost:8080/"
        },
        "id": "eFrx4R3EyOzl",
        "outputId": "9d051791-bcfd-4880-a07e-8cebe1ddd97b"
      },
      "execution_count": null,
      "outputs": [
        {
          "output_type": "execute_result",
          "data": {
            "text/plain": [
              "(tensor([ 8.,  9., 10., 11.]), tensor([[ 4.,  5.,  6.,  7.],\n",
              "         [ 8.,  9., 10., 11.]]))"
            ]
          },
          "metadata": {},
          "execution_count": 16
        }
      ]
    },
    {
      "cell_type": "code",
      "source": [
        "X[1, 2] = 9\n",
        "X"
      ],
      "metadata": {
        "colab": {
          "base_uri": "https://localhost:8080/"
        },
        "id": "RUANdVW9yi41",
        "outputId": "3433c885-8ca7-4b2d-b0a3-2bfb5fd079a5"
      },
      "execution_count": null,
      "outputs": [
        {
          "output_type": "execute_result",
          "data": {
            "text/plain": [
              "tensor([[ 0.,  1.,  2.,  3.],\n",
              "        [ 4.,  5.,  9.,  7.],\n",
              "        [ 8.,  9., 10., 11.]])"
            ]
          },
          "metadata": {},
          "execution_count": 17
        }
      ]
    },
    {
      "cell_type": "code",
      "source": [
        "X[0:2, :] = 12\n",
        "X"
      ],
      "metadata": {
        "colab": {
          "base_uri": "https://localhost:8080/"
        },
        "id": "IBqAuQa0ywjH",
        "outputId": "6b90da22-c9cc-4bb5-ed0d-97fb94b41380"
      },
      "execution_count": null,
      "outputs": [
        {
          "output_type": "execute_result",
          "data": {
            "text/plain": [
              "tensor([[12., 12., 12., 12.],\n",
              "        [12., 12., 12., 12.],\n",
              "        [ 8.,  9., 10., 11.]])"
            ]
          },
          "metadata": {},
          "execution_count": 18
        }
      ]
    },
    {
      "cell_type": "markdown",
      "source": [
        "## 05. Saving Memory"
      ],
      "metadata": {
        "id": "DEcqPhksy17J"
      }
    },
    {
      "cell_type": "code",
      "source": [
        "before = id(Y)\n",
        "Y = Y + X\n",
        "id(Y) == before"
      ],
      "metadata": {
        "colab": {
          "base_uri": "https://localhost:8080/"
        },
        "id": "ONBKL7oly46o",
        "outputId": "82e3c154-0d89-41cf-a3ce-b8ba9b3e0ad4"
      },
      "execution_count": null,
      "outputs": [
        {
          "output_type": "execute_result",
          "data": {
            "text/plain": [
              "False"
            ]
          },
          "metadata": {},
          "execution_count": 19
        }
      ]
    },
    {
      "cell_type": "code",
      "source": [
        "Z = torch.zeros_like(Y)\n",
        "print('id(Z):', id(Z))\n",
        "\n",
        "Z[:] = X + Y\n",
        "print('id(Z):', id(Z))"
      ],
      "metadata": {
        "colab": {
          "base_uri": "https://localhost:8080/"
        },
        "id": "UYUsYKIIz8gb",
        "outputId": "3632fd7a-9423-42c0-f685-4da0129fc156"
      },
      "execution_count": null,
      "outputs": [
        {
          "output_type": "stream",
          "name": "stdout",
          "text": [
            "id(Z): 140184444420752\n",
            "id(Z): 140184444420752\n"
          ]
        }
      ]
    },
    {
      "cell_type": "code",
      "source": [
        "before = id(X)\n",
        "X +=Y\n",
        "id(X) == before"
      ],
      "metadata": {
        "colab": {
          "base_uri": "https://localhost:8080/"
        },
        "id": "II8Q6D_10Zf-",
        "outputId": "6f254321-6f49-4a0b-fcc8-117f5c1f48ad"
      },
      "execution_count": null,
      "outputs": [
        {
          "output_type": "execute_result",
          "data": {
            "text/plain": [
              "True"
            ]
          },
          "metadata": {},
          "execution_count": 21
        }
      ]
    },
    {
      "cell_type": "markdown",
      "source": [
        "## 06. Conversion to other Python Objects"
      ],
      "metadata": {
        "id": "TgANgG8k0i9H"
      }
    },
    {
      "cell_type": "code",
      "source": [
        "A = X.numpy()\n",
        "B = torch.tensor(A)\n",
        "\n",
        "type(A), type(B)"
      ],
      "metadata": {
        "colab": {
          "base_uri": "https://localhost:8080/"
        },
        "id": "kxPgc2AU0pEW",
        "outputId": "da07684d-b5c8-47be-d44b-1a62aefe05e2"
      },
      "execution_count": null,
      "outputs": [
        {
          "output_type": "execute_result",
          "data": {
            "text/plain": [
              "(numpy.ndarray, torch.Tensor)"
            ]
          },
          "metadata": {},
          "execution_count": 22
        }
      ]
    },
    {
      "cell_type": "code",
      "source": [
        "a = torch.tensor([3.5])\n",
        "a, a.item(), float(a), int(a)"
      ],
      "metadata": {
        "colab": {
          "base_uri": "https://localhost:8080/"
        },
        "id": "E8xl_oLK1F1W",
        "outputId": "05d01fb0-7d8b-4c89-9052-98790b8ade88"
      },
      "execution_count": null,
      "outputs": [
        {
          "output_type": "execute_result",
          "data": {
            "text/plain": [
              "(tensor([3.5000]), 3.5, 3.5, 3)"
            ]
          },
          "metadata": {},
          "execution_count": 23
        }
      ]
    },
    {
      "cell_type": "markdown",
      "source": [
        "#### Data Prepreocessing"
      ],
      "metadata": {
        "id": "ZO0k4ttp1oNg"
      }
    },
    {
      "cell_type": "markdown",
      "source": [
        "## 01. Reading the Dataset"
      ],
      "metadata": {
        "id": "yfrK-xPS2Yzi"
      }
    },
    {
      "cell_type": "code",
      "source": [
        "import os\n",
        "\n",
        "os.makedirs(os.path.join('..', 'data'), exist_ok=True)\n",
        "data_file = os.path.join('..', 'data', 'house_tiny.csv')\n",
        "\n",
        "with open(data_file, 'w') as f:\n",
        "  f.write('NumRooms,Alley,Price\\n')\n",
        "  f.write('NA,Pave,127500\\n')\n",
        "  f.write('2,NA,106000\\n')\n",
        "  f.write('4,NA,178100\\n')\n",
        "  f.write('NA,NA,140000\\n')"
      ],
      "metadata": {
        "id": "rObtRqis2bnk"
      },
      "execution_count": null,
      "outputs": []
    },
    {
      "cell_type": "code",
      "source": [
        "import pandas as pd\n",
        "\n",
        "data = pd.read_csv(data_file)\n",
        "print(data)"
      ],
      "metadata": {
        "colab": {
          "base_uri": "https://localhost:8080/"
        },
        "id": "xRkz3E8E4MHK",
        "outputId": "47051ced-ef63-4eca-ca0a-2133fb64c75d"
      },
      "execution_count": null,
      "outputs": [
        {
          "output_type": "stream",
          "name": "stdout",
          "text": [
            "   NumRooms Alley   Price\n",
            "0       NaN  Pave  127500\n",
            "1       2.0   NaN  106000\n",
            "2       4.0   NaN  178100\n",
            "3       NaN   NaN  140000\n"
          ]
        }
      ]
    },
    {
      "cell_type": "markdown",
      "source": [
        "## 02. Handling Missing Data"
      ],
      "metadata": {
        "id": "52yVVJHa4kGC"
      }
    },
    {
      "cell_type": "code",
      "source": [
        "inputs, outputs = data.iloc[:, 0:2], data.iloc[:,2]\n",
        "\n",
        "inputs = inputs.fillna(inputs.mean())\n",
        "print(inputs)"
      ],
      "metadata": {
        "colab": {
          "base_uri": "https://localhost:8080/"
        },
        "id": "AYGYFdcy4omS",
        "outputId": "6def7061-828d-401e-a3f3-740cf1eb97d6"
      },
      "execution_count": null,
      "outputs": [
        {
          "output_type": "stream",
          "name": "stdout",
          "text": [
            "   NumRooms Alley\n",
            "0       3.0  Pave\n",
            "1       2.0   NaN\n",
            "2       4.0   NaN\n",
            "3       3.0   NaN\n"
          ]
        }
      ]
    },
    {
      "cell_type": "code",
      "source": [
        "inputs = pd.get_dummies(inputs, dummy_na=True)\n",
        "print(inputs)"
      ],
      "metadata": {
        "colab": {
          "base_uri": "https://localhost:8080/"
        },
        "id": "s-ffsGlJ5kkF",
        "outputId": "c2e20efa-1beb-4dd2-80a6-bba0dd72ad12"
      },
      "execution_count": null,
      "outputs": [
        {
          "output_type": "stream",
          "name": "stdout",
          "text": [
            "   NumRooms  Alley_Pave  Alley_nan\n",
            "0       3.0           1          0\n",
            "1       2.0           0          1\n",
            "2       4.0           0          1\n",
            "3       3.0           0          1\n"
          ]
        }
      ]
    },
    {
      "cell_type": "markdown",
      "source": [
        "## 03. Conversion to the Tensor Format"
      ],
      "metadata": {
        "id": "nRrr43e05wzy"
      }
    },
    {
      "cell_type": "code",
      "source": [
        "import torch\n",
        "\n",
        "X, y = torch.tensor(inputs.values), torch.tensor(outputs.values)\n",
        "X,y "
      ],
      "metadata": {
        "colab": {
          "base_uri": "https://localhost:8080/"
        },
        "id": "TqJ2xI9h51OC",
        "outputId": "efb89234-b98c-4ead-ce17-eeacec316f78"
      },
      "execution_count": null,
      "outputs": [
        {
          "output_type": "execute_result",
          "data": {
            "text/plain": [
              "(tensor([[3., 1., 0.],\n",
              "         [2., 0., 1.],\n",
              "         [4., 0., 1.],\n",
              "         [3., 0., 1.]], dtype=torch.float64),\n",
              " tensor([127500, 106000, 178100, 140000]))"
            ]
          },
          "metadata": {},
          "execution_count": 28
        }
      ]
    },
    {
      "cell_type": "markdown",
      "source": [
        "#### Linear Algebra"
      ],
      "metadata": {
        "id": "ZhDQJZ9O6pOL"
      }
    },
    {
      "cell_type": "markdown",
      "source": [
        "## 01. Scalars"
      ],
      "metadata": {
        "id": "LOKhB07bAsw9"
      }
    },
    {
      "cell_type": "code",
      "source": [
        "import torch\n",
        "\n",
        "x = torch.tensor(3.0)\n",
        "y = torch.tensor(2.0)\n",
        "\n",
        "x + y, x * y, x / y, x**y"
      ],
      "metadata": {
        "colab": {
          "base_uri": "https://localhost:8080/"
        },
        "id": "kF8dB9vI6tgF",
        "outputId": "713f8d95-318b-4ee0-d0c6-00cd05e49aee"
      },
      "execution_count": null,
      "outputs": [
        {
          "output_type": "execute_result",
          "data": {
            "text/plain": [
              "(tensor(5.), tensor(6.), tensor(1.5000), tensor(9.))"
            ]
          },
          "metadata": {},
          "execution_count": 29
        }
      ]
    },
    {
      "cell_type": "markdown",
      "source": [
        "## 02. Vectors"
      ],
      "metadata": {
        "id": "csgX45NNAvxB"
      }
    },
    {
      "cell_type": "code",
      "source": [
        "x = torch.arange(4)\n",
        "x"
      ],
      "metadata": {
        "colab": {
          "base_uri": "https://localhost:8080/"
        },
        "id": "rPpsCWBxAyMj",
        "outputId": "b85288e8-917c-4872-8219-a07218458180"
      },
      "execution_count": null,
      "outputs": [
        {
          "output_type": "execute_result",
          "data": {
            "text/plain": [
              "tensor([0, 1, 2, 3])"
            ]
          },
          "metadata": {},
          "execution_count": 30
        }
      ]
    },
    {
      "cell_type": "code",
      "source": [
        "x[3]"
      ],
      "metadata": {
        "colab": {
          "base_uri": "https://localhost:8080/"
        },
        "id": "Xl0ewD3eBxW0",
        "outputId": "0fa76f07-176a-4d65-a12e-499bf2e94a14"
      },
      "execution_count": null,
      "outputs": [
        {
          "output_type": "execute_result",
          "data": {
            "text/plain": [
              "tensor(3)"
            ]
          },
          "metadata": {},
          "execution_count": 31
        }
      ]
    },
    {
      "cell_type": "code",
      "source": [
        "len(x)"
      ],
      "metadata": {
        "colab": {
          "base_uri": "https://localhost:8080/"
        },
        "id": "IPXo_utXB7lK",
        "outputId": "263af109-65fe-4513-bb4c-4996585eb1e8"
      },
      "execution_count": null,
      "outputs": [
        {
          "output_type": "execute_result",
          "data": {
            "text/plain": [
              "4"
            ]
          },
          "metadata": {},
          "execution_count": 32
        }
      ]
    },
    {
      "cell_type": "code",
      "source": [
        "x.shape"
      ],
      "metadata": {
        "colab": {
          "base_uri": "https://localhost:8080/"
        },
        "id": "xxH5tJZGCERx",
        "outputId": "58e1ff70-2fff-4864-d1ff-056970d26e7a"
      },
      "execution_count": null,
      "outputs": [
        {
          "output_type": "execute_result",
          "data": {
            "text/plain": [
              "torch.Size([4])"
            ]
          },
          "metadata": {},
          "execution_count": 33
        }
      ]
    },
    {
      "cell_type": "markdown",
      "source": [
        "## 03. Matrices"
      ],
      "metadata": {
        "id": "aScQby4xCOa8"
      }
    },
    {
      "cell_type": "code",
      "source": [
        "A = torch.arange(20).reshape(5, 4)\n",
        "A "
      ],
      "metadata": {
        "colab": {
          "base_uri": "https://localhost:8080/"
        },
        "id": "1l0CHHL4CRkp",
        "outputId": "baa366fa-18e6-4c08-85a9-8ea528893150"
      },
      "execution_count": null,
      "outputs": [
        {
          "output_type": "execute_result",
          "data": {
            "text/plain": [
              "tensor([[ 0,  1,  2,  3],\n",
              "        [ 4,  5,  6,  7],\n",
              "        [ 8,  9, 10, 11],\n",
              "        [12, 13, 14, 15],\n",
              "        [16, 17, 18, 19]])"
            ]
          },
          "metadata": {},
          "execution_count": 34
        }
      ]
    },
    {
      "cell_type": "code",
      "source": [
        "A.T"
      ],
      "metadata": {
        "colab": {
          "base_uri": "https://localhost:8080/"
        },
        "id": "R3EcgQw0C_Zx",
        "outputId": "f1ee3efc-ab13-4719-859f-c563c0d73c07"
      },
      "execution_count": null,
      "outputs": [
        {
          "output_type": "execute_result",
          "data": {
            "text/plain": [
              "tensor([[ 0,  4,  8, 12, 16],\n",
              "        [ 1,  5,  9, 13, 17],\n",
              "        [ 2,  6, 10, 14, 18],\n",
              "        [ 3,  7, 11, 15, 19]])"
            ]
          },
          "metadata": {},
          "execution_count": 35
        }
      ]
    },
    {
      "cell_type": "code",
      "source": [
        "B = torch.tensor([[1, 2, 3], [2, 0, 4], [3, 4, 5]])\n",
        "B"
      ],
      "metadata": {
        "colab": {
          "base_uri": "https://localhost:8080/"
        },
        "id": "2CUXTTDHDSzJ",
        "outputId": "59413d13-f45c-4381-c3a9-d83713e2ba5b"
      },
      "execution_count": null,
      "outputs": [
        {
          "output_type": "execute_result",
          "data": {
            "text/plain": [
              "tensor([[1, 2, 3],\n",
              "        [2, 0, 4],\n",
              "        [3, 4, 5]])"
            ]
          },
          "metadata": {},
          "execution_count": 36
        }
      ]
    },
    {
      "cell_type": "code",
      "source": [
        "B == B.T"
      ],
      "metadata": {
        "colab": {
          "base_uri": "https://localhost:8080/"
        },
        "id": "gZyYe1i6Di6z",
        "outputId": "b043b006-72fd-4757-dfc4-e9b97d165704"
      },
      "execution_count": null,
      "outputs": [
        {
          "output_type": "execute_result",
          "data": {
            "text/plain": [
              "tensor([[True, True, True],\n",
              "        [True, True, True],\n",
              "        [True, True, True]])"
            ]
          },
          "metadata": {},
          "execution_count": 37
        }
      ]
    },
    {
      "cell_type": "markdown",
      "source": [
        "## 04. Tensors"
      ],
      "metadata": {
        "id": "hrf2kDKSD--s"
      }
    },
    {
      "cell_type": "code",
      "source": [
        "X = torch.arange(24).reshape(2, 3, 4)"
      ],
      "metadata": {
        "id": "94jlXWYTEBpy"
      },
      "execution_count": null,
      "outputs": []
    },
    {
      "cell_type": "markdown",
      "source": [
        "## 05. Basic Properties of Tensor Arithmetic"
      ],
      "metadata": {
        "id": "qZ-PpWafEkOS"
      }
    },
    {
      "cell_type": "code",
      "source": [
        "A = torch.arange(20, dtype=torch.float32).reshape(5, 4)\n",
        "B = A.clone()\n",
        "A, A + B"
      ],
      "metadata": {
        "colab": {
          "base_uri": "https://localhost:8080/"
        },
        "id": "E7KSVWcFEoTv",
        "outputId": "ef691e4d-91cd-48ff-f100-3d611cba1ddb"
      },
      "execution_count": null,
      "outputs": [
        {
          "output_type": "execute_result",
          "data": {
            "text/plain": [
              "(tensor([[ 0.,  1.,  2.,  3.],\n",
              "         [ 4.,  5.,  6.,  7.],\n",
              "         [ 8.,  9., 10., 11.],\n",
              "         [12., 13., 14., 15.],\n",
              "         [16., 17., 18., 19.]]), tensor([[ 0.,  2.,  4.,  6.],\n",
              "         [ 8., 10., 12., 14.],\n",
              "         [16., 18., 20., 22.],\n",
              "         [24., 26., 28., 30.],\n",
              "         [32., 34., 36., 38.]]))"
            ]
          },
          "metadata": {},
          "execution_count": 39
        }
      ]
    },
    {
      "cell_type": "code",
      "source": [
        "A * B"
      ],
      "metadata": {
        "colab": {
          "base_uri": "https://localhost:8080/"
        },
        "id": "9Y9m_uOfFRGB",
        "outputId": "6f1985d6-5bab-4918-eaf0-118540674d4f"
      },
      "execution_count": null,
      "outputs": [
        {
          "output_type": "execute_result",
          "data": {
            "text/plain": [
              "tensor([[  0.,   1.,   4.,   9.],\n",
              "        [ 16.,  25.,  36.,  49.],\n",
              "        [ 64.,  81., 100., 121.],\n",
              "        [144., 169., 196., 225.],\n",
              "        [256., 289., 324., 361.]])"
            ]
          },
          "metadata": {},
          "execution_count": 40
        }
      ]
    },
    {
      "cell_type": "code",
      "source": [
        "a = 2\n",
        "X = torch.arange(24).reshape(2, 3, 4)\n",
        "a + X, (a * X).shape"
      ],
      "metadata": {
        "colab": {
          "base_uri": "https://localhost:8080/"
        },
        "id": "jd7z4Wekedi8",
        "outputId": "5a89a3c1-4861-483a-e456-d7aaa4d6aa0d"
      },
      "execution_count": null,
      "outputs": [
        {
          "output_type": "execute_result",
          "data": {
            "text/plain": [
              "(tensor([[[ 2,  3,  4,  5],\n",
              "          [ 6,  7,  8,  9],\n",
              "          [10, 11, 12, 13]],\n",
              " \n",
              "         [[14, 15, 16, 17],\n",
              "          [18, 19, 20, 21],\n",
              "          [22, 23, 24, 25]]]), torch.Size([2, 3, 4]))"
            ]
          },
          "metadata": {},
          "execution_count": 41
        }
      ]
    },
    {
      "cell_type": "markdown",
      "source": [
        "## 06. Reduction"
      ],
      "metadata": {
        "id": "nmKh5nNXe6qb"
      }
    },
    {
      "cell_type": "code",
      "source": [
        "x = torch.arange(4, dtype=torch.float32)\n",
        "x, x.sum()"
      ],
      "metadata": {
        "colab": {
          "base_uri": "https://localhost:8080/"
        },
        "id": "tDJ4Ji49e84z",
        "outputId": "69f8f169-f42f-42dc-9243-194b65c4d822"
      },
      "execution_count": null,
      "outputs": [
        {
          "output_type": "execute_result",
          "data": {
            "text/plain": [
              "(tensor([0., 1., 2., 3.]), tensor(6.))"
            ]
          },
          "metadata": {},
          "execution_count": 42
        }
      ]
    },
    {
      "cell_type": "code",
      "source": [
        "A.shape, A.sum()"
      ],
      "metadata": {
        "colab": {
          "base_uri": "https://localhost:8080/"
        },
        "id": "KCDMDyGAfWjv",
        "outputId": "c68824a4-1b7e-4d41-e054-ec35725d21f7"
      },
      "execution_count": null,
      "outputs": [
        {
          "output_type": "execute_result",
          "data": {
            "text/plain": [
              "(torch.Size([5, 4]), tensor(190.))"
            ]
          },
          "metadata": {},
          "execution_count": 43
        }
      ]
    },
    {
      "cell_type": "code",
      "source": [
        "A_sum_axis0 = A.sum(axis=0)\n",
        "A_sum_axis0, A_sum_axis0.shape"
      ],
      "metadata": {
        "colab": {
          "base_uri": "https://localhost:8080/"
        },
        "id": "PmVudDLIfmA6",
        "outputId": "4cc09819-7565-4d03-b690-667677d64350"
      },
      "execution_count": null,
      "outputs": [
        {
          "output_type": "execute_result",
          "data": {
            "text/plain": [
              "(tensor([40., 45., 50., 55.]), torch.Size([4]))"
            ]
          },
          "metadata": {},
          "execution_count": 44
        }
      ]
    },
    {
      "cell_type": "code",
      "source": [
        "A_sum_axis1 = A.sum(axis=1)\n",
        "A_sum_axis1, A_sum_axis1.shape"
      ],
      "metadata": {
        "colab": {
          "base_uri": "https://localhost:8080/"
        },
        "id": "iwiqfOIef_d0",
        "outputId": "78676376-f1e5-4e57-b755-ca2bf12a3a7b"
      },
      "execution_count": null,
      "outputs": [
        {
          "output_type": "execute_result",
          "data": {
            "text/plain": [
              "(tensor([ 6., 22., 38., 54., 70.]), torch.Size([5]))"
            ]
          },
          "metadata": {},
          "execution_count": 45
        }
      ]
    },
    {
      "cell_type": "code",
      "source": [
        "A.sum(axis=[0, 1])"
      ],
      "metadata": {
        "colab": {
          "base_uri": "https://localhost:8080/"
        },
        "id": "67J_IxCkgQM2",
        "outputId": "7c1e604e-7e9a-42ba-96b4-b392c330f511"
      },
      "execution_count": null,
      "outputs": [
        {
          "output_type": "execute_result",
          "data": {
            "text/plain": [
              "tensor(190.)"
            ]
          },
          "metadata": {},
          "execution_count": 46
        }
      ]
    },
    {
      "cell_type": "code",
      "source": [
        "A.mean(), A.sum() / A.numel()"
      ],
      "metadata": {
        "colab": {
          "base_uri": "https://localhost:8080/"
        },
        "id": "RweWZBc7ggQl",
        "outputId": "c1db6a91-ab00-4bd2-fece-53b289b36bae"
      },
      "execution_count": null,
      "outputs": [
        {
          "output_type": "execute_result",
          "data": {
            "text/plain": [
              "(tensor(9.5000), tensor(9.5000))"
            ]
          },
          "metadata": {},
          "execution_count": 47
        }
      ]
    },
    {
      "cell_type": "code",
      "source": [
        "A.mean(axis=0), A.sum(axis=0) / A.shape[0]"
      ],
      "metadata": {
        "colab": {
          "base_uri": "https://localhost:8080/"
        },
        "id": "Wp8eh4MtgvIV",
        "outputId": "e1eb99d6-78ae-44d2-b81c-beb58be9762e"
      },
      "execution_count": null,
      "outputs": [
        {
          "output_type": "execute_result",
          "data": {
            "text/plain": [
              "(tensor([ 8.,  9., 10., 11.]), tensor([ 8.,  9., 10., 11.]))"
            ]
          },
          "metadata": {},
          "execution_count": 48
        }
      ]
    },
    {
      "cell_type": "code",
      "source": [
        "sum_A = A.sum(axis=1, keepdims=True)\n",
        "sum_A"
      ],
      "metadata": {
        "colab": {
          "base_uri": "https://localhost:8080/"
        },
        "id": "ZIdR-p8thLhh",
        "outputId": "ae2f72d9-e7f7-4136-d5d1-fdb30c92b017"
      },
      "execution_count": null,
      "outputs": [
        {
          "output_type": "execute_result",
          "data": {
            "text/plain": [
              "tensor([[ 6.],\n",
              "        [22.],\n",
              "        [38.],\n",
              "        [54.],\n",
              "        [70.]])"
            ]
          },
          "metadata": {},
          "execution_count": 49
        }
      ]
    },
    {
      "cell_type": "code",
      "source": [
        "A / sum_A"
      ],
      "metadata": {
        "colab": {
          "base_uri": "https://localhost:8080/"
        },
        "id": "TFsPaQhjhZNQ",
        "outputId": "5699ae3b-35cd-48b2-8fbd-2533b439da72"
      },
      "execution_count": null,
      "outputs": [
        {
          "output_type": "execute_result",
          "data": {
            "text/plain": [
              "tensor([[0.0000, 0.1667, 0.3333, 0.5000],\n",
              "        [0.1818, 0.2273, 0.2727, 0.3182],\n",
              "        [0.2105, 0.2368, 0.2632, 0.2895],\n",
              "        [0.2222, 0.2407, 0.2593, 0.2778],\n",
              "        [0.2286, 0.2429, 0.2571, 0.2714]])"
            ]
          },
          "metadata": {},
          "execution_count": 50
        }
      ]
    },
    {
      "cell_type": "code",
      "source": [
        "A.cumsum(axis=0)"
      ],
      "metadata": {
        "colab": {
          "base_uri": "https://localhost:8080/"
        },
        "id": "XZtqvySehd7-",
        "outputId": "9c45672d-be76-43c5-bded-6a332b929fcf"
      },
      "execution_count": null,
      "outputs": [
        {
          "output_type": "execute_result",
          "data": {
            "text/plain": [
              "tensor([[ 0.,  1.,  2.,  3.],\n",
              "        [ 4.,  6.,  8., 10.],\n",
              "        [12., 15., 18., 21.],\n",
              "        [24., 28., 32., 36.],\n",
              "        [40., 45., 50., 55.]])"
            ]
          },
          "metadata": {},
          "execution_count": 51
        }
      ]
    },
    {
      "cell_type": "markdown",
      "source": [
        "## 07. Dot Products"
      ],
      "metadata": {
        "id": "-APfvt2ZiBUQ"
      }
    },
    {
      "cell_type": "code",
      "source": [
        "y = torch.ones(4, dtype=torch.float32)\n",
        "x, y, torch.dot(x, y)"
      ],
      "metadata": {
        "colab": {
          "base_uri": "https://localhost:8080/"
        },
        "id": "R4gFQCIBiEwC",
        "outputId": "d48fcbea-ecbd-4112-df21-3c092d03cec2"
      },
      "execution_count": null,
      "outputs": [
        {
          "output_type": "execute_result",
          "data": {
            "text/plain": [
              "(tensor([0., 1., 2., 3.]), tensor([1., 1., 1., 1.]), tensor(6.))"
            ]
          },
          "metadata": {},
          "execution_count": 52
        }
      ]
    },
    {
      "cell_type": "markdown",
      "source": [
        "## 08. Matrix-Vector Product"
      ],
      "metadata": {
        "id": "Tix9CdeajdfX"
      }
    },
    {
      "cell_type": "code",
      "source": [
        "A.shape, x.shape, torch.mv(A, x)"
      ],
      "metadata": {
        "colab": {
          "base_uri": "https://localhost:8080/"
        },
        "id": "8BgYr3VTjhD9",
        "outputId": "5551db16-5d47-4a78-a20b-1c35d1b54c7b"
      },
      "execution_count": null,
      "outputs": [
        {
          "output_type": "execute_result",
          "data": {
            "text/plain": [
              "(torch.Size([5, 4]), torch.Size([4]), tensor([ 14.,  38.,  62.,  86., 110.]))"
            ]
          },
          "metadata": {},
          "execution_count": 53
        }
      ]
    },
    {
      "cell_type": "markdown",
      "source": [
        "## 09. Matrix-Matrix Multiplication"
      ],
      "metadata": {
        "id": "ei1JW7j3kUHY"
      }
    },
    {
      "cell_type": "code",
      "source": [
        "B = torch.ones(4, 3)\n",
        "torch.mm(A, B)"
      ],
      "metadata": {
        "colab": {
          "base_uri": "https://localhost:8080/"
        },
        "id": "sMnT1UQ4kaZ8",
        "outputId": "3a84e5da-d5b3-4005-befa-4dafea9ec736"
      },
      "execution_count": null,
      "outputs": [
        {
          "output_type": "execute_result",
          "data": {
            "text/plain": [
              "tensor([[ 6.,  6.,  6.],\n",
              "        [22., 22., 22.],\n",
              "        [38., 38., 38.],\n",
              "        [54., 54., 54.],\n",
              "        [70., 70., 70.]])"
            ]
          },
          "metadata": {},
          "execution_count": 54
        }
      ]
    },
    {
      "cell_type": "markdown",
      "source": [
        "## 10. Norms"
      ],
      "metadata": {
        "id": "gzU7sP59lPnf"
      }
    },
    {
      "cell_type": "code",
      "source": [
        "u = torch.tensor([3.0, -4.0])\n",
        "torch.norm(u)"
      ],
      "metadata": {
        "colab": {
          "base_uri": "https://localhost:8080/"
        },
        "id": "ABK6oUyJlSE1",
        "outputId": "e32cef60-5dee-403d-f6b6-871b047f94ed"
      },
      "execution_count": null,
      "outputs": [
        {
          "output_type": "execute_result",
          "data": {
            "text/plain": [
              "tensor(5.)"
            ]
          },
          "metadata": {},
          "execution_count": 55
        }
      ]
    },
    {
      "cell_type": "code",
      "source": [
        "torch.abs(u).sum()"
      ],
      "metadata": {
        "colab": {
          "base_uri": "https://localhost:8080/"
        },
        "id": "iMdpVxv4lcEJ",
        "outputId": "79ea2718-cb6e-429d-8b2c-6b14d9b04ec0"
      },
      "execution_count": null,
      "outputs": [
        {
          "output_type": "execute_result",
          "data": {
            "text/plain": [
              "tensor(7.)"
            ]
          },
          "metadata": {},
          "execution_count": 56
        }
      ]
    },
    {
      "cell_type": "code",
      "source": [
        "torch.norm(torch.ones((4, 9)))"
      ],
      "metadata": {
        "colab": {
          "base_uri": "https://localhost:8080/"
        },
        "id": "yO9DFJxwln4f",
        "outputId": "4357d9ce-7d29-4b73-d097-d12f7a22c868"
      },
      "execution_count": null,
      "outputs": [
        {
          "output_type": "execute_result",
          "data": {
            "text/plain": [
              "tensor(6.)"
            ]
          },
          "metadata": {},
          "execution_count": 57
        }
      ]
    },
    {
      "cell_type": "markdown",
      "source": [
        "#### Calculus"
      ],
      "metadata": {
        "id": "EGsERVfSlymB"
      }
    },
    {
      "cell_type": "markdown",
      "source": [
        "## 01. Derivatives and Differentiation"
      ],
      "metadata": {
        "id": "OE4GEY0kn6Mj"
      }
    },
    {
      "cell_type": "code",
      "source": [
        "pip install -U d2l;"
      ],
      "metadata": {
        "colab": {
          "base_uri": "https://localhost:8080/"
        },
        "id": "U4K6tWjLo6tV",
        "outputId": "0d2d6276-91fd-4d98-dd0a-c95910a99817"
      },
      "execution_count": 1,
      "outputs": [
        {
          "output_type": "stream",
          "name": "stdout",
          "text": [
            "Requirement already satisfied: d2l in /usr/local/lib/python3.7/dist-packages (0.17.5)\n",
            "Requirement already satisfied: pandas==1.2.4 in /usr/local/lib/python3.7/dist-packages (from d2l) (1.2.4)\n",
            "Requirement already satisfied: requests==2.25.1 in /usr/local/lib/python3.7/dist-packages (from d2l) (2.25.1)\n",
            "Requirement already satisfied: matplotlib==3.5.1 in /usr/local/lib/python3.7/dist-packages (from d2l) (3.5.1)\n",
            "Requirement already satisfied: jupyter==1.0.0 in /usr/local/lib/python3.7/dist-packages (from d2l) (1.0.0)\n",
            "Requirement already satisfied: numpy==1.21.5 in /usr/local/lib/python3.7/dist-packages (from d2l) (1.21.5)\n",
            "Requirement already satisfied: jupyter-console in /usr/local/lib/python3.7/dist-packages (from jupyter==1.0.0->d2l) (5.2.0)\n",
            "Requirement already satisfied: ipykernel in /usr/local/lib/python3.7/dist-packages (from jupyter==1.0.0->d2l) (4.10.1)\n",
            "Requirement already satisfied: qtconsole in /usr/local/lib/python3.7/dist-packages (from jupyter==1.0.0->d2l) (5.3.0)\n",
            "Requirement already satisfied: nbconvert in /usr/local/lib/python3.7/dist-packages (from jupyter==1.0.0->d2l) (5.6.1)\n",
            "Requirement already satisfied: ipywidgets in /usr/local/lib/python3.7/dist-packages (from jupyter==1.0.0->d2l) (7.7.0)\n",
            "Requirement already satisfied: notebook in /usr/local/lib/python3.7/dist-packages (from jupyter==1.0.0->d2l) (5.3.1)\n",
            "Requirement already satisfied: cycler>=0.10 in /usr/local/lib/python3.7/dist-packages (from matplotlib==3.5.1->d2l) (0.11.0)\n",
            "Requirement already satisfied: fonttools>=4.22.0 in /usr/local/lib/python3.7/dist-packages (from matplotlib==3.5.1->d2l) (4.33.3)\n",
            "Requirement already satisfied: kiwisolver>=1.0.1 in /usr/local/lib/python3.7/dist-packages (from matplotlib==3.5.1->d2l) (1.4.2)\n",
            "Requirement already satisfied: pyparsing>=2.2.1 in /usr/local/lib/python3.7/dist-packages (from matplotlib==3.5.1->d2l) (3.0.8)\n",
            "Requirement already satisfied: pillow>=6.2.0 in /usr/local/lib/python3.7/dist-packages (from matplotlib==3.5.1->d2l) (7.1.2)\n",
            "Requirement already satisfied: packaging>=20.0 in /usr/local/lib/python3.7/dist-packages (from matplotlib==3.5.1->d2l) (21.3)\n",
            "Requirement already satisfied: python-dateutil>=2.7 in /usr/local/lib/python3.7/dist-packages (from matplotlib==3.5.1->d2l) (2.8.2)\n",
            "Requirement already satisfied: pytz>=2017.3 in /usr/local/lib/python3.7/dist-packages (from pandas==1.2.4->d2l) (2022.1)\n",
            "Requirement already satisfied: idna<3,>=2.5 in /usr/local/lib/python3.7/dist-packages (from requests==2.25.1->d2l) (2.10)\n",
            "Requirement already satisfied: chardet<5,>=3.0.2 in /usr/local/lib/python3.7/dist-packages (from requests==2.25.1->d2l) (3.0.4)\n",
            "Requirement already satisfied: urllib3<1.27,>=1.21.1 in /usr/local/lib/python3.7/dist-packages (from requests==2.25.1->d2l) (1.24.3)\n",
            "Requirement already satisfied: certifi>=2017.4.17 in /usr/local/lib/python3.7/dist-packages (from requests==2.25.1->d2l) (2021.10.8)\n",
            "Requirement already satisfied: typing-extensions in /usr/local/lib/python3.7/dist-packages (from kiwisolver>=1.0.1->matplotlib==3.5.1->d2l) (4.2.0)\n",
            "Requirement already satisfied: six>=1.5 in /usr/local/lib/python3.7/dist-packages (from python-dateutil>=2.7->matplotlib==3.5.1->d2l) (1.15.0)\n",
            "Requirement already satisfied: traitlets>=4.1.0 in /usr/local/lib/python3.7/dist-packages (from ipykernel->jupyter==1.0.0->d2l) (5.1.1)\n",
            "Requirement already satisfied: jupyter-client in /usr/local/lib/python3.7/dist-packages (from ipykernel->jupyter==1.0.0->d2l) (5.3.5)\n",
            "Requirement already satisfied: ipython>=4.0.0 in /usr/local/lib/python3.7/dist-packages (from ipykernel->jupyter==1.0.0->d2l) (5.5.0)\n",
            "Requirement already satisfied: tornado>=4.0 in /usr/local/lib/python3.7/dist-packages (from ipykernel->jupyter==1.0.0->d2l) (5.1.1)\n",
            "Requirement already satisfied: pexpect in /usr/local/lib/python3.7/dist-packages (from ipython>=4.0.0->ipykernel->jupyter==1.0.0->d2l) (4.8.0)\n",
            "Requirement already satisfied: pygments in /usr/local/lib/python3.7/dist-packages (from ipython>=4.0.0->ipykernel->jupyter==1.0.0->d2l) (2.6.1)\n",
            "Requirement already satisfied: decorator in /usr/local/lib/python3.7/dist-packages (from ipython>=4.0.0->ipykernel->jupyter==1.0.0->d2l) (4.4.2)\n",
            "Requirement already satisfied: setuptools>=18.5 in /usr/local/lib/python3.7/dist-packages (from ipython>=4.0.0->ipykernel->jupyter==1.0.0->d2l) (57.4.0)\n",
            "Requirement already satisfied: simplegeneric>0.8 in /usr/local/lib/python3.7/dist-packages (from ipython>=4.0.0->ipykernel->jupyter==1.0.0->d2l) (0.8.1)\n",
            "Requirement already satisfied: pickleshare in /usr/local/lib/python3.7/dist-packages (from ipython>=4.0.0->ipykernel->jupyter==1.0.0->d2l) (0.7.5)\n",
            "Requirement already satisfied: prompt-toolkit<2.0.0,>=1.0.4 in /usr/local/lib/python3.7/dist-packages (from ipython>=4.0.0->ipykernel->jupyter==1.0.0->d2l) (1.0.18)\n",
            "Requirement already satisfied: wcwidth in /usr/local/lib/python3.7/dist-packages (from prompt-toolkit<2.0.0,>=1.0.4->ipython>=4.0.0->ipykernel->jupyter==1.0.0->d2l) (0.2.5)\n",
            "Requirement already satisfied: nbformat>=4.2.0 in /usr/local/lib/python3.7/dist-packages (from ipywidgets->jupyter==1.0.0->d2l) (5.3.0)\n",
            "Requirement already satisfied: ipython-genutils~=0.2.0 in /usr/local/lib/python3.7/dist-packages (from ipywidgets->jupyter==1.0.0->d2l) (0.2.0)\n",
            "Requirement already satisfied: jupyterlab-widgets>=1.0.0 in /usr/local/lib/python3.7/dist-packages (from ipywidgets->jupyter==1.0.0->d2l) (1.1.0)\n",
            "Requirement already satisfied: widgetsnbextension~=3.6.0 in /usr/local/lib/python3.7/dist-packages (from ipywidgets->jupyter==1.0.0->d2l) (3.6.0)\n",
            "Requirement already satisfied: jupyter-core in /usr/local/lib/python3.7/dist-packages (from nbformat>=4.2.0->ipywidgets->jupyter==1.0.0->d2l) (4.10.0)\n",
            "Requirement already satisfied: jsonschema>=2.6 in /usr/local/lib/python3.7/dist-packages (from nbformat>=4.2.0->ipywidgets->jupyter==1.0.0->d2l) (4.3.3)\n",
            "Requirement already satisfied: fastjsonschema in /usr/local/lib/python3.7/dist-packages (from nbformat>=4.2.0->ipywidgets->jupyter==1.0.0->d2l) (2.15.3)\n",
            "Requirement already satisfied: importlib-metadata in /usr/local/lib/python3.7/dist-packages (from jsonschema>=2.6->nbformat>=4.2.0->ipywidgets->jupyter==1.0.0->d2l) (4.11.3)\n",
            "Requirement already satisfied: importlib-resources>=1.4.0 in /usr/local/lib/python3.7/dist-packages (from jsonschema>=2.6->nbformat>=4.2.0->ipywidgets->jupyter==1.0.0->d2l) (5.7.1)\n",
            "Requirement already satisfied: pyrsistent!=0.17.0,!=0.17.1,!=0.17.2,>=0.14.0 in /usr/local/lib/python3.7/dist-packages (from jsonschema>=2.6->nbformat>=4.2.0->ipywidgets->jupyter==1.0.0->d2l) (0.18.1)\n",
            "Requirement already satisfied: attrs>=17.4.0 in /usr/local/lib/python3.7/dist-packages (from jsonschema>=2.6->nbformat>=4.2.0->ipywidgets->jupyter==1.0.0->d2l) (21.4.0)\n",
            "Requirement already satisfied: zipp>=3.1.0 in /usr/local/lib/python3.7/dist-packages (from importlib-resources>=1.4.0->jsonschema>=2.6->nbformat>=4.2.0->ipywidgets->jupyter==1.0.0->d2l) (3.8.0)\n",
            "Requirement already satisfied: jinja2 in /usr/local/lib/python3.7/dist-packages (from notebook->jupyter==1.0.0->d2l) (2.11.3)\n",
            "Requirement already satisfied: terminado>=0.8.1 in /usr/local/lib/python3.7/dist-packages (from notebook->jupyter==1.0.0->d2l) (0.13.3)\n",
            "Requirement already satisfied: Send2Trash in /usr/local/lib/python3.7/dist-packages (from notebook->jupyter==1.0.0->d2l) (1.8.0)\n",
            "Requirement already satisfied: pyzmq>=13 in /usr/local/lib/python3.7/dist-packages (from jupyter-client->ipykernel->jupyter==1.0.0->d2l) (22.3.0)\n",
            "Requirement already satisfied: ptyprocess in /usr/local/lib/python3.7/dist-packages (from terminado>=0.8.1->notebook->jupyter==1.0.0->d2l) (0.7.0)\n",
            "Requirement already satisfied: MarkupSafe>=0.23 in /usr/local/lib/python3.7/dist-packages (from jinja2->notebook->jupyter==1.0.0->d2l) (2.0.1)\n",
            "Requirement already satisfied: bleach in /usr/local/lib/python3.7/dist-packages (from nbconvert->jupyter==1.0.0->d2l) (5.0.0)\n",
            "Requirement already satisfied: pandocfilters>=1.4.1 in /usr/local/lib/python3.7/dist-packages (from nbconvert->jupyter==1.0.0->d2l) (1.5.0)\n",
            "Requirement already satisfied: testpath in /usr/local/lib/python3.7/dist-packages (from nbconvert->jupyter==1.0.0->d2l) (0.6.0)\n",
            "Requirement already satisfied: entrypoints>=0.2.2 in /usr/local/lib/python3.7/dist-packages (from nbconvert->jupyter==1.0.0->d2l) (0.4)\n",
            "Requirement already satisfied: mistune<2,>=0.8.1 in /usr/local/lib/python3.7/dist-packages (from nbconvert->jupyter==1.0.0->d2l) (0.8.4)\n",
            "Requirement already satisfied: defusedxml in /usr/local/lib/python3.7/dist-packages (from nbconvert->jupyter==1.0.0->d2l) (0.7.1)\n",
            "Requirement already satisfied: webencodings in /usr/local/lib/python3.7/dist-packages (from bleach->nbconvert->jupyter==1.0.0->d2l) (0.5.1)\n",
            "Requirement already satisfied: qtpy>=2.0.1 in /usr/local/lib/python3.7/dist-packages (from qtconsole->jupyter==1.0.0->d2l) (2.1.0)\n"
          ]
        }
      ]
    },
    {
      "cell_type": "code",
      "source": [
        "%matplotlib inline\n",
        "import numpy as np\n",
        "from IPython import display\n",
        "from d2l import torch as d2l\n",
        "\n",
        "def f(x):\n",
        "  return 3 * x ** 2 - 4 * x"
      ],
      "metadata": {
        "id": "RVTy3ZCyn-j2"
      },
      "execution_count": null,
      "outputs": []
    },
    {
      "cell_type": "code",
      "source": [
        "def numerical_lim(f, x, h):\n",
        "  return (f(x + h) - f(x)) / h\n",
        "\n",
        "h = 0.1\n",
        "for i in range(5):\n",
        "  print(f'h={h:.5f}, numerical limit = {numerical_lim(f, 1, h):.5f}')\n",
        "  h *=0.1"
      ],
      "metadata": {
        "colab": {
          "base_uri": "https://localhost:8080/"
        },
        "id": "2haploAjpVXF",
        "outputId": "99c884ba-0fe4-4174-f44b-de1c37630aa8"
      },
      "execution_count": null,
      "outputs": [
        {
          "output_type": "stream",
          "name": "stdout",
          "text": [
            "h=0.10000, numerical limit = 2.30000\n",
            "h=0.01000, numerical limit = 2.03000\n",
            "h=0.00100, numerical limit = 2.00300\n",
            "h=0.00010, numerical limit = 2.00030\n",
            "h=0.00001, numerical limit = 2.00003\n"
          ]
        }
      ]
    },
    {
      "cell_type": "code",
      "source": [
        "def use_svg_display():\n",
        "  display.set_matplotlib_formats('svg')"
      ],
      "metadata": {
        "id": "O_Dv1c_fqrAB"
      },
      "execution_count": null,
      "outputs": []
    },
    {
      "cell_type": "code",
      "source": [
        "def set_figsize(figsize=(3.5, 2.5)):\n",
        "  use_svg_display()\n",
        "  d2l.plt.rcParams['figure.figsize'] = figsize"
      ],
      "metadata": {
        "id": "xU1GjpoTsDCv"
      },
      "execution_count": null,
      "outputs": []
    },
    {
      "cell_type": "code",
      "source": [
        "def set_axes(axes, xlabel, ylabel, xlim, ylim, xscale, yscale, legend):\n",
        "  axes.set_xlabel(xlabel)\n",
        "  axes.set_ylabel(ylabel)\n",
        "  axes.set_xscale(xscale)\n",
        "  axes.set_yscale(yscale)\n",
        "  axes.set_xlim(xlim)\n",
        "  axes.set_ylim(ylim)\n",
        "  if legend:\n",
        "    axes.legend(legend)\n",
        "  axes.grid()"
      ],
      "metadata": {
        "id": "yQYEhaI9sd0f"
      },
      "execution_count": null,
      "outputs": []
    },
    {
      "cell_type": "code",
      "source": [
        "def plot(X, Y=None, xlabel=None, ylabel=None, legend=None, xlim=None,\n",
        "         ylim=None, xscale='linear', yscale='linear',\n",
        "         fmts=('-', 'm--', 'g-.', 'r:'), figsize=(3.5, 2.5), axes=None):\n",
        "  \n",
        "  if legend is None:\n",
        "    legend = []\n",
        "\n",
        "  set_figsize(figsize)\n",
        "  axes = axes if axes else d2l.plt.gca()\n",
        "\n",
        "  def has_one_axis(X):\n",
        "    return(hasattr(X, 'ndim') and X.ndim==1 or \n",
        "           isinstance(X, list) and not hasattr(X[0], \"__len__\"))\n",
        "    \n",
        "  if has_one_axis(X):\n",
        "    X = [X]\n",
        "  if Y is None:\n",
        "    X, Y = [[]] * len(X), Y\n",
        "  elif has_one_axis(Y):\n",
        "    Y = [Y]\n",
        "  if len(X) != len(Y):\n",
        "    X = X * len(Y)\n",
        "  axes.cla()\n",
        "  for x, y, fmt in zip(X, Y, fmts):\n",
        "    if len(X):\n",
        "      axes.plot(x, y, fmt)\n",
        "    else:\n",
        "      axes.plot(y, fmt)\n",
        "      \n",
        "  set_axes(axes, xlabel, ylabel, xlim, ylim, xscale, yscale, legend)"
      ],
      "metadata": {
        "id": "lr7nwNqAV4ZA"
      },
      "execution_count": null,
      "outputs": []
    },
    {
      "cell_type": "code",
      "source": [
        "x = np.arange(0, 3, 0.1)\n",
        "plot(x, [f(x), 2 * x - 3], 'x', 'f(x)', legend=['f(x)', 'Tangent line(x=1)'])"
      ],
      "metadata": {
        "colab": {
          "base_uri": "https://localhost:8080/",
          "height": 262
        },
        "id": "e42Vj-1lcEof",
        "outputId": "d9112c09-1a81-4cc0-8f57-19bd552572b6"
      },
      "execution_count": null,
      "outputs": [
        {
          "output_type": "display_data",
          "data": {
            "text/plain": [
              "<Figure size 252x180 with 1 Axes>"
            ],
            "image/svg+xml": "<?xml version=\"1.0\" encoding=\"utf-8\" standalone=\"no\"?>\n<!DOCTYPE svg PUBLIC \"-//W3C//DTD SVG 1.1//EN\"\n  \"http://www.w3.org/Graphics/SVG/1.1/DTD/svg11.dtd\">\n<svg xmlns:xlink=\"http://www.w3.org/1999/xlink\" width=\"243.529359pt\" height=\"180.65625pt\" viewBox=\"0 0 243.529359 180.65625\" xmlns=\"http://www.w3.org/2000/svg\" version=\"1.1\">\n <metadata>\n  <rdf:RDF xmlns:dc=\"http://purl.org/dc/elements/1.1/\" xmlns:cc=\"http://creativecommons.org/ns#\" xmlns:rdf=\"http://www.w3.org/1999/02/22-rdf-syntax-ns#\">\n   <cc:Work>\n    <dc:type rdf:resource=\"http://purl.org/dc/dcmitype/StillImage\"/>\n    <dc:date>2022-05-15T07:03:45.010006</dc:date>\n    <dc:format>image/svg+xml</dc:format>\n    <dc:creator>\n     <cc:Agent>\n      <dc:title>Matplotlib v3.5.1, https://matplotlib.org/</dc:title>\n     </cc:Agent>\n    </dc:creator>\n   </cc:Work>\n  </rdf:RDF>\n </metadata>\n <defs>\n  <style type=\"text/css\">*{stroke-linejoin: round; stroke-linecap: butt}</style>\n </defs>\n <g id=\"figure_1\">\n  <g id=\"patch_1\">\n   <path d=\"M 0 180.65625 \nL 243.529359 180.65625 \nL 243.529359 0 \nL 0 0 \nL 0 180.65625 \nz\n\" style=\"fill: none\"/>\n  </g>\n  <g id=\"axes_1\">\n   <g id=\"patch_2\">\n    <path d=\"M 40.603125 143.1 \nL 235.903125 143.1 \nL 235.903125 7.2 \nL 40.603125 7.2 \nz\n\" style=\"fill: #ffffff\"/>\n   </g>\n   <g id=\"matplotlib.axis_1\">\n    <g id=\"xtick_1\">\n     <g id=\"line2d_1\">\n      <path d=\"M 49.480398 143.1 \nL 49.480398 7.2 \n\" clip-path=\"url(#p047bed8a45)\" style=\"fill: none; stroke: #b0b0b0; stroke-width: 0.8; stroke-linecap: square\"/>\n     </g>\n     <g id=\"line2d_2\">\n      <defs>\n       <path id=\"m161ba569ec\" d=\"M 0 0 \nL 0 3.5 \n\" style=\"stroke: #000000; stroke-width: 0.8\"/>\n      </defs>\n      <g>\n       <use xlink:href=\"#m161ba569ec\" x=\"49.480398\" y=\"143.1\" style=\"stroke: #000000; stroke-width: 0.8\"/>\n      </g>\n     </g>\n     <g id=\"text_1\">\n      <!-- 0 -->\n      <g transform=\"translate(46.299148 157.698438)scale(0.1 -0.1)\">\n       <defs>\n        <path id=\"DejaVuSans-30\" d=\"M 2034 4250 \nQ 1547 4250 1301 3770 \nQ 1056 3291 1056 2328 \nQ 1056 1369 1301 889 \nQ 1547 409 2034 409 \nQ 2525 409 2770 889 \nQ 3016 1369 3016 2328 \nQ 3016 3291 2770 3770 \nQ 2525 4250 2034 4250 \nz\nM 2034 4750 \nQ 2819 4750 3233 4129 \nQ 3647 3509 3647 2328 \nQ 3647 1150 3233 529 \nQ 2819 -91 2034 -91 \nQ 1250 -91 836 529 \nQ 422 1150 422 2328 \nQ 422 3509 836 4129 \nQ 1250 4750 2034 4750 \nz\n\" transform=\"scale(0.015625)\"/>\n       </defs>\n       <use xlink:href=\"#DejaVuSans-30\"/>\n      </g>\n     </g>\n    </g>\n    <g id=\"xtick_2\">\n     <g id=\"line2d_3\">\n      <path d=\"M 110.702968 143.1 \nL 110.702968 7.2 \n\" clip-path=\"url(#p047bed8a45)\" style=\"fill: none; stroke: #b0b0b0; stroke-width: 0.8; stroke-linecap: square\"/>\n     </g>\n     <g id=\"line2d_4\">\n      <g>\n       <use xlink:href=\"#m161ba569ec\" x=\"110.702968\" y=\"143.1\" style=\"stroke: #000000; stroke-width: 0.8\"/>\n      </g>\n     </g>\n     <g id=\"text_2\">\n      <!-- 1 -->\n      <g transform=\"translate(107.521718 157.698438)scale(0.1 -0.1)\">\n       <defs>\n        <path id=\"DejaVuSans-31\" d=\"M 794 531 \nL 1825 531 \nL 1825 4091 \nL 703 3866 \nL 703 4441 \nL 1819 4666 \nL 2450 4666 \nL 2450 531 \nL 3481 531 \nL 3481 0 \nL 794 0 \nL 794 531 \nz\n\" transform=\"scale(0.015625)\"/>\n       </defs>\n       <use xlink:href=\"#DejaVuSans-31\"/>\n      </g>\n     </g>\n    </g>\n    <g id=\"xtick_3\">\n     <g id=\"line2d_5\">\n      <path d=\"M 171.925539 143.1 \nL 171.925539 7.2 \n\" clip-path=\"url(#p047bed8a45)\" style=\"fill: none; stroke: #b0b0b0; stroke-width: 0.8; stroke-linecap: square\"/>\n     </g>\n     <g id=\"line2d_6\">\n      <g>\n       <use xlink:href=\"#m161ba569ec\" x=\"171.925539\" y=\"143.1\" style=\"stroke: #000000; stroke-width: 0.8\"/>\n      </g>\n     </g>\n     <g id=\"text_3\">\n      <!-- 2 -->\n      <g transform=\"translate(168.744289 157.698438)scale(0.1 -0.1)\">\n       <defs>\n        <path id=\"DejaVuSans-32\" d=\"M 1228 531 \nL 3431 531 \nL 3431 0 \nL 469 0 \nL 469 531 \nQ 828 903 1448 1529 \nQ 2069 2156 2228 2338 \nQ 2531 2678 2651 2914 \nQ 2772 3150 2772 3378 \nQ 2772 3750 2511 3984 \nQ 2250 4219 1831 4219 \nQ 1534 4219 1204 4116 \nQ 875 4013 500 3803 \nL 500 4441 \nQ 881 4594 1212 4672 \nQ 1544 4750 1819 4750 \nQ 2544 4750 2975 4387 \nQ 3406 4025 3406 3419 \nQ 3406 3131 3298 2873 \nQ 3191 2616 2906 2266 \nQ 2828 2175 2409 1742 \nQ 1991 1309 1228 531 \nz\n\" transform=\"scale(0.015625)\"/>\n       </defs>\n       <use xlink:href=\"#DejaVuSans-32\"/>\n      </g>\n     </g>\n    </g>\n    <g id=\"xtick_4\">\n     <g id=\"line2d_7\">\n      <path d=\"M 233.148109 143.1 \nL 233.148109 7.2 \n\" clip-path=\"url(#p047bed8a45)\" style=\"fill: none; stroke: #b0b0b0; stroke-width: 0.8; stroke-linecap: square\"/>\n     </g>\n     <g id=\"line2d_8\">\n      <g>\n       <use xlink:href=\"#m161ba569ec\" x=\"233.148109\" y=\"143.1\" style=\"stroke: #000000; stroke-width: 0.8\"/>\n      </g>\n     </g>\n     <g id=\"text_4\">\n      <!-- 3 -->\n      <g transform=\"translate(229.966859 157.698438)scale(0.1 -0.1)\">\n       <defs>\n        <path id=\"DejaVuSans-33\" d=\"M 2597 2516 \nQ 3050 2419 3304 2112 \nQ 3559 1806 3559 1356 \nQ 3559 666 3084 287 \nQ 2609 -91 1734 -91 \nQ 1441 -91 1130 -33 \nQ 819 25 488 141 \nL 488 750 \nQ 750 597 1062 519 \nQ 1375 441 1716 441 \nQ 2309 441 2620 675 \nQ 2931 909 2931 1356 \nQ 2931 1769 2642 2001 \nQ 2353 2234 1838 2234 \nL 1294 2234 \nL 1294 2753 \nL 1863 2753 \nQ 2328 2753 2575 2939 \nQ 2822 3125 2822 3475 \nQ 2822 3834 2567 4026 \nQ 2313 4219 1838 4219 \nQ 1578 4219 1281 4162 \nQ 984 4106 628 3988 \nL 628 4550 \nQ 988 4650 1302 4700 \nQ 1616 4750 1894 4750 \nQ 2613 4750 3031 4423 \nQ 3450 4097 3450 3541 \nQ 3450 3153 3228 2886 \nQ 3006 2619 2597 2516 \nz\n\" transform=\"scale(0.015625)\"/>\n       </defs>\n       <use xlink:href=\"#DejaVuSans-33\"/>\n      </g>\n     </g>\n    </g>\n    <g id=\"text_5\">\n     <!-- x -->\n     <g transform=\"translate(135.29375 171.376563)scale(0.1 -0.1)\">\n      <defs>\n       <path id=\"DejaVuSans-78\" d=\"M 3513 3500 \nL 2247 1797 \nL 3578 0 \nL 2900 0 \nL 1881 1375 \nL 863 0 \nL 184 0 \nL 1544 1831 \nL 300 3500 \nL 978 3500 \nL 1906 2253 \nL 2834 3500 \nL 3513 3500 \nz\n\" transform=\"scale(0.015625)\"/>\n      </defs>\n      <use xlink:href=\"#DejaVuSans-78\"/>\n     </g>\n    </g>\n   </g>\n   <g id=\"matplotlib.axis_2\">\n    <g id=\"ytick_1\">\n     <g id=\"line2d_9\">\n      <path d=\"M 40.603125 114.635514 \nL 235.903125 114.635514 \n\" clip-path=\"url(#p047bed8a45)\" style=\"fill: none; stroke: #b0b0b0; stroke-width: 0.8; stroke-linecap: square\"/>\n     </g>\n     <g id=\"line2d_10\">\n      <defs>\n       <path id=\"mf154927511\" d=\"M 0 0 \nL -3.5 0 \n\" style=\"stroke: #000000; stroke-width: 0.8\"/>\n      </defs>\n      <g>\n       <use xlink:href=\"#mf154927511\" x=\"40.603125\" y=\"114.635514\" style=\"stroke: #000000; stroke-width: 0.8\"/>\n      </g>\n     </g>\n     <g id=\"text_6\">\n      <!-- 0 -->\n      <g transform=\"translate(27.240625 118.434732)scale(0.1 -0.1)\">\n       <use xlink:href=\"#DejaVuSans-30\"/>\n      </g>\n     </g>\n    </g>\n    <g id=\"ytick_2\">\n     <g id=\"line2d_11\">\n      <path d=\"M 40.603125 77.490157 \nL 235.903125 77.490157 \n\" clip-path=\"url(#p047bed8a45)\" style=\"fill: none; stroke: #b0b0b0; stroke-width: 0.8; stroke-linecap: square\"/>\n     </g>\n     <g id=\"line2d_12\">\n      <g>\n       <use xlink:href=\"#mf154927511\" x=\"40.603125\" y=\"77.490157\" style=\"stroke: #000000; stroke-width: 0.8\"/>\n      </g>\n     </g>\n     <g id=\"text_7\">\n      <!-- 5 -->\n      <g transform=\"translate(27.240625 81.289376)scale(0.1 -0.1)\">\n       <defs>\n        <path id=\"DejaVuSans-35\" d=\"M 691 4666 \nL 3169 4666 \nL 3169 4134 \nL 1269 4134 \nL 1269 2991 \nQ 1406 3038 1543 3061 \nQ 1681 3084 1819 3084 \nQ 2600 3084 3056 2656 \nQ 3513 2228 3513 1497 \nQ 3513 744 3044 326 \nQ 2575 -91 1722 -91 \nQ 1428 -91 1123 -41 \nQ 819 9 494 109 \nL 494 744 \nQ 775 591 1075 516 \nQ 1375 441 1709 441 \nQ 2250 441 2565 725 \nQ 2881 1009 2881 1497 \nQ 2881 1984 2565 2268 \nQ 2250 2553 1709 2553 \nQ 1456 2553 1204 2497 \nQ 953 2441 691 2322 \nL 691 4666 \nz\n\" transform=\"scale(0.015625)\"/>\n       </defs>\n       <use xlink:href=\"#DejaVuSans-35\"/>\n      </g>\n     </g>\n    </g>\n    <g id=\"ytick_3\">\n     <g id=\"line2d_13\">\n      <path d=\"M 40.603125 40.344801 \nL 235.903125 40.344801 \n\" clip-path=\"url(#p047bed8a45)\" style=\"fill: none; stroke: #b0b0b0; stroke-width: 0.8; stroke-linecap: square\"/>\n     </g>\n     <g id=\"line2d_14\">\n      <g>\n       <use xlink:href=\"#mf154927511\" x=\"40.603125\" y=\"40.344801\" style=\"stroke: #000000; stroke-width: 0.8\"/>\n      </g>\n     </g>\n     <g id=\"text_8\">\n      <!-- 10 -->\n      <g transform=\"translate(20.878125 44.14402)scale(0.1 -0.1)\">\n       <use xlink:href=\"#DejaVuSans-31\"/>\n       <use xlink:href=\"#DejaVuSans-30\" x=\"63.623047\"/>\n      </g>\n     </g>\n    </g>\n    <g id=\"text_9\">\n     <!-- f(x) -->\n     <g transform=\"translate(14.798437 83.771094)rotate(-90)scale(0.1 -0.1)\">\n      <defs>\n       <path id=\"DejaVuSans-66\" d=\"M 2375 4863 \nL 2375 4384 \nL 1825 4384 \nQ 1516 4384 1395 4259 \nQ 1275 4134 1275 3809 \nL 1275 3500 \nL 2222 3500 \nL 2222 3053 \nL 1275 3053 \nL 1275 0 \nL 697 0 \nL 697 3053 \nL 147 3053 \nL 147 3500 \nL 697 3500 \nL 697 3744 \nQ 697 4328 969 4595 \nQ 1241 4863 1831 4863 \nL 2375 4863 \nz\n\" transform=\"scale(0.015625)\"/>\n       <path id=\"DejaVuSans-28\" d=\"M 1984 4856 \nQ 1566 4138 1362 3434 \nQ 1159 2731 1159 2009 \nQ 1159 1288 1364 580 \nQ 1569 -128 1984 -844 \nL 1484 -844 \nQ 1016 -109 783 600 \nQ 550 1309 550 2009 \nQ 550 2706 781 3412 \nQ 1013 4119 1484 4856 \nL 1984 4856 \nz\n\" transform=\"scale(0.015625)\"/>\n       <path id=\"DejaVuSans-29\" d=\"M 513 4856 \nL 1013 4856 \nQ 1481 4119 1714 3412 \nQ 1947 2706 1947 2009 \nQ 1947 1309 1714 600 \nQ 1481 -109 1013 -844 \nL 513 -844 \nQ 928 -128 1133 580 \nQ 1338 1288 1338 2009 \nQ 1338 2731 1133 3434 \nQ 928 4138 513 4856 \nz\n\" transform=\"scale(0.015625)\"/>\n      </defs>\n      <use xlink:href=\"#DejaVuSans-66\"/>\n      <use xlink:href=\"#DejaVuSans-28\" x=\"35.205078\"/>\n      <use xlink:href=\"#DejaVuSans-78\" x=\"74.21875\"/>\n      <use xlink:href=\"#DejaVuSans-29\" x=\"133.398438\"/>\n     </g>\n    </g>\n   </g>\n   <g id=\"line2d_15\">\n    <path d=\"M 49.480398 114.635514 \nL 55.602655 117.38427 \nL 61.724912 119.687282 \nL 67.847169 121.54455 \nL 73.969426 122.956073 \nL 80.091683 123.921853 \nL 86.21394 124.441888 \nL 92.336197 124.516178 \nL 98.458454 124.144725 \nL 104.580711 123.327527 \nL 110.702968 122.064585 \nL 116.825225 120.355898 \nL 122.947482 118.201468 \nL 129.069739 115.601293 \nL 135.191996 112.555374 \nL 141.314254 109.06371 \nL 147.436511 105.126302 \nL 153.558768 100.74315 \nL 159.681025 95.914254 \nL 165.803282 90.639614 \nL 171.925539 84.919229 \nL 178.047796 78.7531 \nL 184.170053 72.141226 \nL 190.29231 65.083608 \nL 196.414567 57.580247 \nL 202.536824 49.63114 \nL 208.659081 41.23629 \nL 214.781338 32.395695 \nL 220.903595 23.109356 \nL 227.025852 13.377273 \n\" clip-path=\"url(#p047bed8a45)\" style=\"fill: none; stroke: #1f77b4; stroke-width: 1.5; stroke-linecap: square\"/>\n   </g>\n   <g id=\"line2d_16\">\n    <path d=\"M 49.480398 136.922727 \nL 55.602655 135.436913 \nL 61.724912 133.951099 \nL 67.847169 132.465285 \nL 73.969426 130.97947 \nL 80.091683 129.493656 \nL 86.21394 128.007842 \nL 92.336197 126.522028 \nL 98.458454 125.036213 \nL 104.580711 123.550399 \nL 110.702968 122.064585 \nL 116.825225 120.578771 \nL 122.947482 119.092956 \nL 129.069739 117.607142 \nL 135.191996 116.121328 \nL 141.314254 114.635514 \nL 147.436511 113.149699 \nL 153.558768 111.663885 \nL 159.681025 110.178071 \nL 165.803282 108.692257 \nL 171.925539 107.206442 \nL 178.047796 105.720628 \nL 184.170053 104.234814 \nL 190.29231 102.749 \nL 196.414567 101.263185 \nL 202.536824 99.777371 \nL 208.659081 98.291557 \nL 214.781338 96.805743 \nL 220.903595 95.319928 \nL 227.025852 93.834114 \n\" clip-path=\"url(#p047bed8a45)\" style=\"fill: none; stroke-dasharray: 5.55,2.4; stroke-dashoffset: 0; stroke: #bf00bf; stroke-width: 1.5\"/>\n   </g>\n   <g id=\"patch_3\">\n    <path d=\"M 40.603125 143.1 \nL 40.603125 7.2 \n\" style=\"fill: none; stroke: #000000; stroke-width: 0.8; stroke-linejoin: miter; stroke-linecap: square\"/>\n   </g>\n   <g id=\"patch_4\">\n    <path d=\"M 235.903125 143.1 \nL 235.903125 7.2 \n\" style=\"fill: none; stroke: #000000; stroke-width: 0.8; stroke-linejoin: miter; stroke-linecap: square\"/>\n   </g>\n   <g id=\"patch_5\">\n    <path d=\"M 40.603125 143.1 \nL 235.903125 143.1 \n\" style=\"fill: none; stroke: #000000; stroke-width: 0.8; stroke-linejoin: miter; stroke-linecap: square\"/>\n   </g>\n   <g id=\"patch_6\">\n    <path d=\"M 40.603125 7.2 \nL 235.903125 7.2 \n\" style=\"fill: none; stroke: #000000; stroke-width: 0.8; stroke-linejoin: miter; stroke-linecap: square\"/>\n   </g>\n   <g id=\"legend_1\">\n    <g id=\"patch_7\">\n     <path d=\"M 47.603125 44.55625 \nL 168.975 44.55625 \nQ 170.975 44.55625 170.975 42.55625 \nL 170.975 14.2 \nQ 170.975 12.2 168.975 12.2 \nL 47.603125 12.2 \nQ 45.603125 12.2 45.603125 14.2 \nL 45.603125 42.55625 \nQ 45.603125 44.55625 47.603125 44.55625 \nz\n\" style=\"fill: #ffffff; opacity: 0.8; stroke: #cccccc; stroke-linejoin: miter\"/>\n    </g>\n    <g id=\"line2d_17\">\n     <path d=\"M 49.603125 20.298437 \nL 59.603125 20.298437 \nL 69.603125 20.298437 \n\" style=\"fill: none; stroke: #1f77b4; stroke-width: 1.5; stroke-linecap: square\"/>\n    </g>\n    <g id=\"text_10\">\n     <!-- f(x) -->\n     <g transform=\"translate(77.603125 23.798437)scale(0.1 -0.1)\">\n      <use xlink:href=\"#DejaVuSans-66\"/>\n      <use xlink:href=\"#DejaVuSans-28\" x=\"35.205078\"/>\n      <use xlink:href=\"#DejaVuSans-78\" x=\"74.21875\"/>\n      <use xlink:href=\"#DejaVuSans-29\" x=\"133.398438\"/>\n     </g>\n    </g>\n    <g id=\"line2d_18\">\n     <path d=\"M 49.603125 34.976562 \nL 59.603125 34.976562 \nL 69.603125 34.976562 \n\" style=\"fill: none; stroke-dasharray: 5.55,2.4; stroke-dashoffset: 0; stroke: #bf00bf; stroke-width: 1.5\"/>\n    </g>\n    <g id=\"text_11\">\n     <!-- Tangent line(x=1) -->\n     <g transform=\"translate(77.603125 38.476562)scale(0.1 -0.1)\">\n      <defs>\n       <path id=\"DejaVuSans-54\" d=\"M -19 4666 \nL 3928 4666 \nL 3928 4134 \nL 2272 4134 \nL 2272 0 \nL 1638 0 \nL 1638 4134 \nL -19 4134 \nL -19 4666 \nz\n\" transform=\"scale(0.015625)\"/>\n       <path id=\"DejaVuSans-61\" d=\"M 2194 1759 \nQ 1497 1759 1228 1600 \nQ 959 1441 959 1056 \nQ 959 750 1161 570 \nQ 1363 391 1709 391 \nQ 2188 391 2477 730 \nQ 2766 1069 2766 1631 \nL 2766 1759 \nL 2194 1759 \nz\nM 3341 1997 \nL 3341 0 \nL 2766 0 \nL 2766 531 \nQ 2569 213 2275 61 \nQ 1981 -91 1556 -91 \nQ 1019 -91 701 211 \nQ 384 513 384 1019 \nQ 384 1609 779 1909 \nQ 1175 2209 1959 2209 \nL 2766 2209 \nL 2766 2266 \nQ 2766 2663 2505 2880 \nQ 2244 3097 1772 3097 \nQ 1472 3097 1187 3025 \nQ 903 2953 641 2809 \nL 641 3341 \nQ 956 3463 1253 3523 \nQ 1550 3584 1831 3584 \nQ 2591 3584 2966 3190 \nQ 3341 2797 3341 1997 \nz\n\" transform=\"scale(0.015625)\"/>\n       <path id=\"DejaVuSans-6e\" d=\"M 3513 2113 \nL 3513 0 \nL 2938 0 \nL 2938 2094 \nQ 2938 2591 2744 2837 \nQ 2550 3084 2163 3084 \nQ 1697 3084 1428 2787 \nQ 1159 2491 1159 1978 \nL 1159 0 \nL 581 0 \nL 581 3500 \nL 1159 3500 \nL 1159 2956 \nQ 1366 3272 1645 3428 \nQ 1925 3584 2291 3584 \nQ 2894 3584 3203 3211 \nQ 3513 2838 3513 2113 \nz\n\" transform=\"scale(0.015625)\"/>\n       <path id=\"DejaVuSans-67\" d=\"M 2906 1791 \nQ 2906 2416 2648 2759 \nQ 2391 3103 1925 3103 \nQ 1463 3103 1205 2759 \nQ 947 2416 947 1791 \nQ 947 1169 1205 825 \nQ 1463 481 1925 481 \nQ 2391 481 2648 825 \nQ 2906 1169 2906 1791 \nz\nM 3481 434 \nQ 3481 -459 3084 -895 \nQ 2688 -1331 1869 -1331 \nQ 1566 -1331 1297 -1286 \nQ 1028 -1241 775 -1147 \nL 775 -588 \nQ 1028 -725 1275 -790 \nQ 1522 -856 1778 -856 \nQ 2344 -856 2625 -561 \nQ 2906 -266 2906 331 \nL 2906 616 \nQ 2728 306 2450 153 \nQ 2172 0 1784 0 \nQ 1141 0 747 490 \nQ 353 981 353 1791 \nQ 353 2603 747 3093 \nQ 1141 3584 1784 3584 \nQ 2172 3584 2450 3431 \nQ 2728 3278 2906 2969 \nL 2906 3500 \nL 3481 3500 \nL 3481 434 \nz\n\" transform=\"scale(0.015625)\"/>\n       <path id=\"DejaVuSans-65\" d=\"M 3597 1894 \nL 3597 1613 \nL 953 1613 \nQ 991 1019 1311 708 \nQ 1631 397 2203 397 \nQ 2534 397 2845 478 \nQ 3156 559 3463 722 \nL 3463 178 \nQ 3153 47 2828 -22 \nQ 2503 -91 2169 -91 \nQ 1331 -91 842 396 \nQ 353 884 353 1716 \nQ 353 2575 817 3079 \nQ 1281 3584 2069 3584 \nQ 2775 3584 3186 3129 \nQ 3597 2675 3597 1894 \nz\nM 3022 2063 \nQ 3016 2534 2758 2815 \nQ 2500 3097 2075 3097 \nQ 1594 3097 1305 2825 \nQ 1016 2553 972 2059 \nL 3022 2063 \nz\n\" transform=\"scale(0.015625)\"/>\n       <path id=\"DejaVuSans-74\" d=\"M 1172 4494 \nL 1172 3500 \nL 2356 3500 \nL 2356 3053 \nL 1172 3053 \nL 1172 1153 \nQ 1172 725 1289 603 \nQ 1406 481 1766 481 \nL 2356 481 \nL 2356 0 \nL 1766 0 \nQ 1100 0 847 248 \nQ 594 497 594 1153 \nL 594 3053 \nL 172 3053 \nL 172 3500 \nL 594 3500 \nL 594 4494 \nL 1172 4494 \nz\n\" transform=\"scale(0.015625)\"/>\n       <path id=\"DejaVuSans-20\" transform=\"scale(0.015625)\"/>\n       <path id=\"DejaVuSans-6c\" d=\"M 603 4863 \nL 1178 4863 \nL 1178 0 \nL 603 0 \nL 603 4863 \nz\n\" transform=\"scale(0.015625)\"/>\n       <path id=\"DejaVuSans-69\" d=\"M 603 3500 \nL 1178 3500 \nL 1178 0 \nL 603 0 \nL 603 3500 \nz\nM 603 4863 \nL 1178 4863 \nL 1178 4134 \nL 603 4134 \nL 603 4863 \nz\n\" transform=\"scale(0.015625)\"/>\n       <path id=\"DejaVuSans-3d\" d=\"M 678 2906 \nL 4684 2906 \nL 4684 2381 \nL 678 2381 \nL 678 2906 \nz\nM 678 1631 \nL 4684 1631 \nL 4684 1100 \nL 678 1100 \nL 678 1631 \nz\n\" transform=\"scale(0.015625)\"/>\n      </defs>\n      <use xlink:href=\"#DejaVuSans-54\"/>\n      <use xlink:href=\"#DejaVuSans-61\" x=\"44.583984\"/>\n      <use xlink:href=\"#DejaVuSans-6e\" x=\"105.863281\"/>\n      <use xlink:href=\"#DejaVuSans-67\" x=\"169.242188\"/>\n      <use xlink:href=\"#DejaVuSans-65\" x=\"232.71875\"/>\n      <use xlink:href=\"#DejaVuSans-6e\" x=\"294.242188\"/>\n      <use xlink:href=\"#DejaVuSans-74\" x=\"357.621094\"/>\n      <use xlink:href=\"#DejaVuSans-20\" x=\"396.830078\"/>\n      <use xlink:href=\"#DejaVuSans-6c\" x=\"428.617188\"/>\n      <use xlink:href=\"#DejaVuSans-69\" x=\"456.400391\"/>\n      <use xlink:href=\"#DejaVuSans-6e\" x=\"484.183594\"/>\n      <use xlink:href=\"#DejaVuSans-65\" x=\"547.5625\"/>\n      <use xlink:href=\"#DejaVuSans-28\" x=\"609.085938\"/>\n      <use xlink:href=\"#DejaVuSans-78\" x=\"648.099609\"/>\n      <use xlink:href=\"#DejaVuSans-3d\" x=\"707.279297\"/>\n      <use xlink:href=\"#DejaVuSans-31\" x=\"791.068359\"/>\n      <use xlink:href=\"#DejaVuSans-29\" x=\"854.691406\"/>\n     </g>\n    </g>\n   </g>\n  </g>\n </g>\n <defs>\n  <clipPath id=\"p047bed8a45\">\n   <rect x=\"40.603125\" y=\"7.2\" width=\"195.3\" height=\"135.9\"/>\n  </clipPath>\n </defs>\n</svg>\n"
          },
          "metadata": {
            "needs_background": "light"
          }
        }
      ]
    },
    {
      "cell_type": "markdown",
      "source": [
        "#### Automatic Differentiation\n",
        "\n",
        "## 01. A simple Example"
      ],
      "metadata": {
        "id": "x8bswI9yiDC9"
      }
    },
    {
      "cell_type": "code",
      "source": [
        "import torch\n",
        "\n",
        "x = torch.arange(4.0)\n",
        "x"
      ],
      "metadata": {
        "id": "zd4StmEiiLWL",
        "outputId": "63331bf7-c739-42fa-9cf6-90c23e6fdbc4",
        "colab": {
          "base_uri": "https://localhost:8080/"
        }
      },
      "execution_count": 1,
      "outputs": [
        {
          "output_type": "execute_result",
          "data": {
            "text/plain": [
              "tensor([0., 1., 2., 3.])"
            ]
          },
          "metadata": {},
          "execution_count": 1
        }
      ]
    },
    {
      "cell_type": "code",
      "source": [
        "x.requires_grad_(True)\n",
        "x.grad"
      ],
      "metadata": {
        "id": "utvjm1wzjMFe"
      },
      "execution_count": 2,
      "outputs": []
    },
    {
      "cell_type": "code",
      "source": [
        "y = 2 * torch.dot(x, x)\n",
        "y"
      ],
      "metadata": {
        "id": "SwJiL2BMjVvH",
        "outputId": "5e0d71ec-d9ab-4423-e1cd-cb1f28f19281",
        "colab": {
          "base_uri": "https://localhost:8080/"
        }
      },
      "execution_count": 3,
      "outputs": [
        {
          "output_type": "execute_result",
          "data": {
            "text/plain": [
              "tensor(28., grad_fn=<MulBackward0>)"
            ]
          },
          "metadata": {},
          "execution_count": 3
        }
      ]
    },
    {
      "cell_type": "code",
      "source": [
        "y.backward()\n",
        "x.grad"
      ],
      "metadata": {
        "id": "KVnEsBDMjkqq",
        "outputId": "7d4191bb-847b-40d0-ad67-767b4e433ce0",
        "colab": {
          "base_uri": "https://localhost:8080/"
        }
      },
      "execution_count": 4,
      "outputs": [
        {
          "output_type": "execute_result",
          "data": {
            "text/plain": [
              "tensor([ 0.,  4.,  8., 12.])"
            ]
          },
          "metadata": {},
          "execution_count": 4
        }
      ]
    },
    {
      "cell_type": "code",
      "source": [
        "x.grad == 4 * x"
      ],
      "metadata": {
        "id": "tuJzUB6wjtor",
        "outputId": "8d69763a-e216-4d32-d443-2c8dcbe9ca94",
        "colab": {
          "base_uri": "https://localhost:8080/"
        }
      },
      "execution_count": 5,
      "outputs": [
        {
          "output_type": "execute_result",
          "data": {
            "text/plain": [
              "tensor([True, True, True, True])"
            ]
          },
          "metadata": {},
          "execution_count": 5
        }
      ]
    },
    {
      "cell_type": "code",
      "source": [
        "x.grad.zero_()\n",
        "y = x.sum()\n",
        "y.backward()\n",
        "x.grad"
      ],
      "metadata": {
        "id": "HE70s39Fj1TN",
        "outputId": "9efffa66-649d-49d3-950f-ee9e6753dfe5",
        "colab": {
          "base_uri": "https://localhost:8080/"
        }
      },
      "execution_count": 6,
      "outputs": [
        {
          "output_type": "execute_result",
          "data": {
            "text/plain": [
              "tensor([1., 1., 1., 1.])"
            ]
          },
          "metadata": {},
          "execution_count": 6
        }
      ]
    },
    {
      "cell_type": "markdown",
      "source": [
        "## 02. Backward for Non-scalar Variables"
      ],
      "metadata": {
        "id": "3XbJkPNi5uiH"
      }
    },
    {
      "cell_type": "code",
      "source": [
        "x.grad.zero_()\n",
        "y = x * x\n",
        "y.sum().backward()\n",
        "x.grad"
      ],
      "metadata": {
        "colab": {
          "base_uri": "https://localhost:8080/"
        },
        "id": "gL2AXR675yZu",
        "outputId": "ad1930a4-0065-48b4-f464-7ff0161216fb"
      },
      "execution_count": 8,
      "outputs": [
        {
          "output_type": "execute_result",
          "data": {
            "text/plain": [
              "tensor([0., 2., 4., 6.])"
            ]
          },
          "metadata": {},
          "execution_count": 8
        }
      ]
    },
    {
      "cell_type": "markdown",
      "source": [
        "## 03. Detaching Computation"
      ],
      "metadata": {
        "id": "yLYSkmRO6veU"
      }
    },
    {
      "cell_type": "code",
      "source": [
        "x.grad.zero_()\n",
        "y = x * x\n",
        "u = y.detach()\n",
        "z = u * x\n",
        "\n",
        "z.sum().backward()\n",
        "x.grad == u"
      ],
      "metadata": {
        "colab": {
          "base_uri": "https://localhost:8080/"
        },
        "id": "FxPFKWaK6yyF",
        "outputId": "0f14d490-1153-4643-c8c4-b0497fbcfcc7"
      },
      "execution_count": 13,
      "outputs": [
        {
          "output_type": "execute_result",
          "data": {
            "text/plain": [
              "tensor([True, True, True, True])"
            ]
          },
          "metadata": {},
          "execution_count": 13
        }
      ]
    },
    {
      "cell_type": "code",
      "source": [
        "x.grad.zero_()\n",
        "y.sum().backward()\n",
        "x.grad == 2 * x"
      ],
      "metadata": {
        "colab": {
          "base_uri": "https://localhost:8080/"
        },
        "id": "q6HYLOGi7Nmy",
        "outputId": "d8900104-8dc2-4fa3-af52-1ef34a8c9ade"
      },
      "execution_count": 14,
      "outputs": [
        {
          "output_type": "execute_result",
          "data": {
            "text/plain": [
              "tensor([True, True, True, True])"
            ]
          },
          "metadata": {},
          "execution_count": 14
        }
      ]
    },
    {
      "cell_type": "markdown",
      "source": [
        "## 04. Computing the Gradient of Python Control Flow"
      ],
      "metadata": {
        "id": "LZeowq8v7wi_"
      }
    },
    {
      "cell_type": "code",
      "source": [
        "def f(a):\n",
        "  b = a * 2\n",
        "  while b.norm() < 1000:\n",
        "    b = b * 2\n",
        "  if b.sum() > 0:\n",
        "    c = b\n",
        "  else:\n",
        "    c = 100 * b\n",
        "  return c"
      ],
      "metadata": {
        "id": "vKKsh55x72ah"
      },
      "execution_count": 15,
      "outputs": []
    },
    {
      "cell_type": "code",
      "source": [
        "a = torch.rand(size=(), requires_grad=True)\n",
        "d = f(a)\n",
        "d.backward()"
      ],
      "metadata": {
        "id": "-0XH_sLb8Nbp"
      },
      "execution_count": 16,
      "outputs": []
    },
    {
      "cell_type": "code",
      "source": [
        "a.grad == d / a"
      ],
      "metadata": {
        "colab": {
          "base_uri": "https://localhost:8080/"
        },
        "id": "J0Xl7Q8M8ot0",
        "outputId": "cf5f6450-55d1-49aa-d94d-2420e739b04c"
      },
      "execution_count": 17,
      "outputs": [
        {
          "output_type": "execute_result",
          "data": {
            "text/plain": [
              "tensor(True)"
            ]
          },
          "metadata": {},
          "execution_count": 17
        }
      ]
    },
    {
      "cell_type": "markdown",
      "source": [
        "#### Probability\n",
        "## 01. Basic Probability Theory"
      ],
      "metadata": {
        "id": "3GU_CamB_jGa"
      }
    },
    {
      "cell_type": "code",
      "source": [
        "%matplotlib inline\n",
        "import torch\n",
        "from torch.distributions import multinomial\n",
        "from d2l import torch as d2l"
      ],
      "metadata": {
        "id": "uXHohOOt_qJm"
      },
      "execution_count": 2,
      "outputs": []
    },
    {
      "cell_type": "code",
      "source": [
        "fair_probes = torch.ones([6]) / 6\n",
        "multinomial.Multinomial(1, fair_probes).sample()"
      ],
      "metadata": {
        "colab": {
          "base_uri": "https://localhost:8080/"
        },
        "id": "zI0NwQWJAU2n",
        "outputId": "87bd22d6-7a3e-4882-eda5-f0843e3e09ce"
      },
      "execution_count": 3,
      "outputs": [
        {
          "output_type": "execute_result",
          "data": {
            "text/plain": [
              "tensor([0., 0., 0., 1., 0., 0.])"
            ]
          },
          "metadata": {},
          "execution_count": 3
        }
      ]
    },
    {
      "cell_type": "code",
      "source": [
        "multinomial.Multinomial(10, fair_probes).sample()"
      ],
      "metadata": {
        "colab": {
          "base_uri": "https://localhost:8080/"
        },
        "id": "fY_HkanXAmDR",
        "outputId": "11661804-63aa-4a63-9ac7-9b42a2a4979f"
      },
      "execution_count": 4,
      "outputs": [
        {
          "output_type": "execute_result",
          "data": {
            "text/plain": [
              "tensor([1., 4., 2., 1., 0., 2.])"
            ]
          },
          "metadata": {},
          "execution_count": 4
        }
      ]
    },
    {
      "cell_type": "code",
      "source": [
        "counts = multinomial.Multinomial(1000, fair_probes).sample()\n",
        "counts / 1000"
      ],
      "metadata": {
        "colab": {
          "base_uri": "https://localhost:8080/"
        },
        "id": "2FmjVehwA0p4",
        "outputId": "de9dc60b-eaf1-423c-831b-a10990d25e57"
      },
      "execution_count": 5,
      "outputs": [
        {
          "output_type": "execute_result",
          "data": {
            "text/plain": [
              "tensor([0.1730, 0.1630, 0.1540, 0.1830, 0.1440, 0.1830])"
            ]
          },
          "metadata": {},
          "execution_count": 5
        }
      ]
    },
    {
      "cell_type": "code",
      "source": [
        "counts = multinomial.Multinomial(10, fair_probes).sample((500,))\n",
        "cum_counts = counts.cumsum(dim=0)\n",
        "estimates = cum_counts / cum_counts.sum(dim=1, keepdims=True)\n",
        "\n",
        "d2l.set_figsize((6, 4.5))\n",
        "for i in range(6):\n",
        "  d2l.plt.plot(estimates[:, i].numpy(), label=(\"P(die=\" + str(i + 1) + \")\"))\n",
        "d2l.plt.axhline(y=0.167, color='black', linestyle='dashed')\n",
        "d2l.plt.gca().set_xlabel(\"Group of experiments\")\n",
        "d2l.plt.gca().set_ylabel(\"Estimated Probability\")\n",
        "d2l.plt.legend();"
      ],
      "metadata": {
        "colab": {
          "base_uri": "https://localhost:8080/",
          "height": 407
        },
        "id": "f2bZVWEiBKiX",
        "outputId": "cb4ecf9e-4a07-4d0b-980e-ff1f6ae8663f"
      },
      "execution_count": 6,
      "outputs": [
        {
          "output_type": "display_data",
          "data": {
            "text/plain": [
              "<Figure size 432x324 with 1 Axes>"
            ],
            "image/svg+xml": "<?xml version=\"1.0\" encoding=\"utf-8\" standalone=\"no\"?>\n<!DOCTYPE svg PUBLIC \"-//W3C//DTD SVG 1.1//EN\"\n  \"http://www.w3.org/Graphics/SVG/1.1/DTD/svg11.dtd\">\n<svg xmlns:xlink=\"http://www.w3.org/1999/xlink\" width=\"392.14375pt\" height=\"289.37625pt\" viewBox=\"0 0 392.14375 289.37625\" xmlns=\"http://www.w3.org/2000/svg\" version=\"1.1\">\n <metadata>\n  <rdf:RDF xmlns:dc=\"http://purl.org/dc/elements/1.1/\" xmlns:cc=\"http://creativecommons.org/ns#\" xmlns:rdf=\"http://www.w3.org/1999/02/22-rdf-syntax-ns#\">\n   <cc:Work>\n    <dc:type rdf:resource=\"http://purl.org/dc/dcmitype/StillImage\"/>\n    <dc:date>2022-05-16T08:46:05.774774</dc:date>\n    <dc:format>image/svg+xml</dc:format>\n    <dc:creator>\n     <cc:Agent>\n      <dc:title>Matplotlib v3.5.1, https://matplotlib.org/</dc:title>\n     </cc:Agent>\n    </dc:creator>\n   </cc:Work>\n  </rdf:RDF>\n </metadata>\n <defs>\n  <style type=\"text/css\">*{stroke-linejoin: round; stroke-linecap: butt}</style>\n </defs>\n <g id=\"figure_1\">\n  <g id=\"patch_1\">\n   <path d=\"M 0 289.37625 \nL 392.14375 289.37625 \nL 392.14375 0 \nL 0 0 \nL 0 289.37625 \nz\n\" style=\"fill: none\"/>\n  </g>\n  <g id=\"axes_1\">\n   <g id=\"patch_2\">\n    <path d=\"M 50.14375 251.82 \nL 384.94375 251.82 \nL 384.94375 7.2 \nL 50.14375 7.2 \nz\n\" style=\"fill: #ffffff\"/>\n   </g>\n   <g id=\"matplotlib.axis_1\">\n    <g id=\"xtick_1\">\n     <g id=\"line2d_1\">\n      <defs>\n       <path id=\"ma68882c21e\" d=\"M 0 0 \nL 0 3.5 \n\" style=\"stroke: #000000; stroke-width: 0.8\"/>\n      </defs>\n      <g>\n       <use xlink:href=\"#ma68882c21e\" x=\"65.361932\" y=\"251.82\" style=\"stroke: #000000; stroke-width: 0.8\"/>\n      </g>\n     </g>\n     <g id=\"text_1\">\n      <!-- 0 -->\n      <g transform=\"translate(62.180682 266.418437)scale(0.1 -0.1)\">\n       <defs>\n        <path id=\"DejaVuSans-30\" d=\"M 2034 4250 \nQ 1547 4250 1301 3770 \nQ 1056 3291 1056 2328 \nQ 1056 1369 1301 889 \nQ 1547 409 2034 409 \nQ 2525 409 2770 889 \nQ 3016 1369 3016 2328 \nQ 3016 3291 2770 3770 \nQ 2525 4250 2034 4250 \nz\nM 2034 4750 \nQ 2819 4750 3233 4129 \nQ 3647 3509 3647 2328 \nQ 3647 1150 3233 529 \nQ 2819 -91 2034 -91 \nQ 1250 -91 836 529 \nQ 422 1150 422 2328 \nQ 422 3509 836 4129 \nQ 1250 4750 2034 4750 \nz\n\" transform=\"scale(0.015625)\"/>\n       </defs>\n       <use xlink:href=\"#DejaVuSans-30\"/>\n      </g>\n     </g>\n    </g>\n    <g id=\"xtick_2\">\n     <g id=\"line2d_2\">\n      <g>\n       <use xlink:href=\"#ma68882c21e\" x=\"126.356649\" y=\"251.82\" style=\"stroke: #000000; stroke-width: 0.8\"/>\n      </g>\n     </g>\n     <g id=\"text_2\">\n      <!-- 100 -->\n      <g transform=\"translate(116.812899 266.418437)scale(0.1 -0.1)\">\n       <defs>\n        <path id=\"DejaVuSans-31\" d=\"M 794 531 \nL 1825 531 \nL 1825 4091 \nL 703 3866 \nL 703 4441 \nL 1819 4666 \nL 2450 4666 \nL 2450 531 \nL 3481 531 \nL 3481 0 \nL 794 0 \nL 794 531 \nz\n\" transform=\"scale(0.015625)\"/>\n       </defs>\n       <use xlink:href=\"#DejaVuSans-31\"/>\n       <use xlink:href=\"#DejaVuSans-30\" x=\"63.623047\"/>\n       <use xlink:href=\"#DejaVuSans-30\" x=\"127.246094\"/>\n      </g>\n     </g>\n    </g>\n    <g id=\"xtick_3\">\n     <g id=\"line2d_3\">\n      <g>\n       <use xlink:href=\"#ma68882c21e\" x=\"187.351365\" y=\"251.82\" style=\"stroke: #000000; stroke-width: 0.8\"/>\n      </g>\n     </g>\n     <g id=\"text_3\">\n      <!-- 200 -->\n      <g transform=\"translate(177.807615 266.418437)scale(0.1 -0.1)\">\n       <defs>\n        <path id=\"DejaVuSans-32\" d=\"M 1228 531 \nL 3431 531 \nL 3431 0 \nL 469 0 \nL 469 531 \nQ 828 903 1448 1529 \nQ 2069 2156 2228 2338 \nQ 2531 2678 2651 2914 \nQ 2772 3150 2772 3378 \nQ 2772 3750 2511 3984 \nQ 2250 4219 1831 4219 \nQ 1534 4219 1204 4116 \nQ 875 4013 500 3803 \nL 500 4441 \nQ 881 4594 1212 4672 \nQ 1544 4750 1819 4750 \nQ 2544 4750 2975 4387 \nQ 3406 4025 3406 3419 \nQ 3406 3131 3298 2873 \nQ 3191 2616 2906 2266 \nQ 2828 2175 2409 1742 \nQ 1991 1309 1228 531 \nz\n\" transform=\"scale(0.015625)\"/>\n       </defs>\n       <use xlink:href=\"#DejaVuSans-32\"/>\n       <use xlink:href=\"#DejaVuSans-30\" x=\"63.623047\"/>\n       <use xlink:href=\"#DejaVuSans-30\" x=\"127.246094\"/>\n      </g>\n     </g>\n    </g>\n    <g id=\"xtick_4\">\n     <g id=\"line2d_4\">\n      <g>\n       <use xlink:href=\"#ma68882c21e\" x=\"248.346082\" y=\"251.82\" style=\"stroke: #000000; stroke-width: 0.8\"/>\n      </g>\n     </g>\n     <g id=\"text_4\">\n      <!-- 300 -->\n      <g transform=\"translate(238.802332 266.418437)scale(0.1 -0.1)\">\n       <defs>\n        <path id=\"DejaVuSans-33\" d=\"M 2597 2516 \nQ 3050 2419 3304 2112 \nQ 3559 1806 3559 1356 \nQ 3559 666 3084 287 \nQ 2609 -91 1734 -91 \nQ 1441 -91 1130 -33 \nQ 819 25 488 141 \nL 488 750 \nQ 750 597 1062 519 \nQ 1375 441 1716 441 \nQ 2309 441 2620 675 \nQ 2931 909 2931 1356 \nQ 2931 1769 2642 2001 \nQ 2353 2234 1838 2234 \nL 1294 2234 \nL 1294 2753 \nL 1863 2753 \nQ 2328 2753 2575 2939 \nQ 2822 3125 2822 3475 \nQ 2822 3834 2567 4026 \nQ 2313 4219 1838 4219 \nQ 1578 4219 1281 4162 \nQ 984 4106 628 3988 \nL 628 4550 \nQ 988 4650 1302 4700 \nQ 1616 4750 1894 4750 \nQ 2613 4750 3031 4423 \nQ 3450 4097 3450 3541 \nQ 3450 3153 3228 2886 \nQ 3006 2619 2597 2516 \nz\n\" transform=\"scale(0.015625)\"/>\n       </defs>\n       <use xlink:href=\"#DejaVuSans-33\"/>\n       <use xlink:href=\"#DejaVuSans-30\" x=\"63.623047\"/>\n       <use xlink:href=\"#DejaVuSans-30\" x=\"127.246094\"/>\n      </g>\n     </g>\n    </g>\n    <g id=\"xtick_5\">\n     <g id=\"line2d_5\">\n      <g>\n       <use xlink:href=\"#ma68882c21e\" x=\"309.340799\" y=\"251.82\" style=\"stroke: #000000; stroke-width: 0.8\"/>\n      </g>\n     </g>\n     <g id=\"text_5\">\n      <!-- 400 -->\n      <g transform=\"translate(299.797049 266.418437)scale(0.1 -0.1)\">\n       <defs>\n        <path id=\"DejaVuSans-34\" d=\"M 2419 4116 \nL 825 1625 \nL 2419 1625 \nL 2419 4116 \nz\nM 2253 4666 \nL 3047 4666 \nL 3047 1625 \nL 3713 1625 \nL 3713 1100 \nL 3047 1100 \nL 3047 0 \nL 2419 0 \nL 2419 1100 \nL 313 1100 \nL 313 1709 \nL 2253 4666 \nz\n\" transform=\"scale(0.015625)\"/>\n       </defs>\n       <use xlink:href=\"#DejaVuSans-34\"/>\n       <use xlink:href=\"#DejaVuSans-30\" x=\"63.623047\"/>\n       <use xlink:href=\"#DejaVuSans-30\" x=\"127.246094\"/>\n      </g>\n     </g>\n    </g>\n    <g id=\"xtick_6\">\n     <g id=\"line2d_6\">\n      <g>\n       <use xlink:href=\"#ma68882c21e\" x=\"370.335515\" y=\"251.82\" style=\"stroke: #000000; stroke-width: 0.8\"/>\n      </g>\n     </g>\n     <g id=\"text_6\">\n      <!-- 500 -->\n      <g transform=\"translate(360.791765 266.418437)scale(0.1 -0.1)\">\n       <defs>\n        <path id=\"DejaVuSans-35\" d=\"M 691 4666 \nL 3169 4666 \nL 3169 4134 \nL 1269 4134 \nL 1269 2991 \nQ 1406 3038 1543 3061 \nQ 1681 3084 1819 3084 \nQ 2600 3084 3056 2656 \nQ 3513 2228 3513 1497 \nQ 3513 744 3044 326 \nQ 2575 -91 1722 -91 \nQ 1428 -91 1123 -41 \nQ 819 9 494 109 \nL 494 744 \nQ 775 591 1075 516 \nQ 1375 441 1709 441 \nQ 2250 441 2565 725 \nQ 2881 1009 2881 1497 \nQ 2881 1984 2565 2268 \nQ 2250 2553 1709 2553 \nQ 1456 2553 1204 2497 \nQ 953 2441 691 2322 \nL 691 4666 \nz\n\" transform=\"scale(0.015625)\"/>\n       </defs>\n       <use xlink:href=\"#DejaVuSans-35\"/>\n       <use xlink:href=\"#DejaVuSans-30\" x=\"63.623047\"/>\n       <use xlink:href=\"#DejaVuSans-30\" x=\"127.246094\"/>\n      </g>\n     </g>\n    </g>\n    <g id=\"text_7\">\n     <!-- Group of experiments -->\n     <g transform=\"translate(163.002344 280.096562)scale(0.1 -0.1)\">\n      <defs>\n       <path id=\"DejaVuSans-47\" d=\"M 3809 666 \nL 3809 1919 \nL 2778 1919 \nL 2778 2438 \nL 4434 2438 \nL 4434 434 \nQ 4069 175 3628 42 \nQ 3188 -91 2688 -91 \nQ 1594 -91 976 548 \nQ 359 1188 359 2328 \nQ 359 3472 976 4111 \nQ 1594 4750 2688 4750 \nQ 3144 4750 3555 4637 \nQ 3966 4525 4313 4306 \nL 4313 3634 \nQ 3963 3931 3569 4081 \nQ 3175 4231 2741 4231 \nQ 1884 4231 1454 3753 \nQ 1025 3275 1025 2328 \nQ 1025 1384 1454 906 \nQ 1884 428 2741 428 \nQ 3075 428 3337 486 \nQ 3600 544 3809 666 \nz\n\" transform=\"scale(0.015625)\"/>\n       <path id=\"DejaVuSans-72\" d=\"M 2631 2963 \nQ 2534 3019 2420 3045 \nQ 2306 3072 2169 3072 \nQ 1681 3072 1420 2755 \nQ 1159 2438 1159 1844 \nL 1159 0 \nL 581 0 \nL 581 3500 \nL 1159 3500 \nL 1159 2956 \nQ 1341 3275 1631 3429 \nQ 1922 3584 2338 3584 \nQ 2397 3584 2469 3576 \nQ 2541 3569 2628 3553 \nL 2631 2963 \nz\n\" transform=\"scale(0.015625)\"/>\n       <path id=\"DejaVuSans-6f\" d=\"M 1959 3097 \nQ 1497 3097 1228 2736 \nQ 959 2375 959 1747 \nQ 959 1119 1226 758 \nQ 1494 397 1959 397 \nQ 2419 397 2687 759 \nQ 2956 1122 2956 1747 \nQ 2956 2369 2687 2733 \nQ 2419 3097 1959 3097 \nz\nM 1959 3584 \nQ 2709 3584 3137 3096 \nQ 3566 2609 3566 1747 \nQ 3566 888 3137 398 \nQ 2709 -91 1959 -91 \nQ 1206 -91 779 398 \nQ 353 888 353 1747 \nQ 353 2609 779 3096 \nQ 1206 3584 1959 3584 \nz\n\" transform=\"scale(0.015625)\"/>\n       <path id=\"DejaVuSans-75\" d=\"M 544 1381 \nL 544 3500 \nL 1119 3500 \nL 1119 1403 \nQ 1119 906 1312 657 \nQ 1506 409 1894 409 \nQ 2359 409 2629 706 \nQ 2900 1003 2900 1516 \nL 2900 3500 \nL 3475 3500 \nL 3475 0 \nL 2900 0 \nL 2900 538 \nQ 2691 219 2414 64 \nQ 2138 -91 1772 -91 \nQ 1169 -91 856 284 \nQ 544 659 544 1381 \nz\nM 1991 3584 \nL 1991 3584 \nz\n\" transform=\"scale(0.015625)\"/>\n       <path id=\"DejaVuSans-70\" d=\"M 1159 525 \nL 1159 -1331 \nL 581 -1331 \nL 581 3500 \nL 1159 3500 \nL 1159 2969 \nQ 1341 3281 1617 3432 \nQ 1894 3584 2278 3584 \nQ 2916 3584 3314 3078 \nQ 3713 2572 3713 1747 \nQ 3713 922 3314 415 \nQ 2916 -91 2278 -91 \nQ 1894 -91 1617 61 \nQ 1341 213 1159 525 \nz\nM 3116 1747 \nQ 3116 2381 2855 2742 \nQ 2594 3103 2138 3103 \nQ 1681 3103 1420 2742 \nQ 1159 2381 1159 1747 \nQ 1159 1113 1420 752 \nQ 1681 391 2138 391 \nQ 2594 391 2855 752 \nQ 3116 1113 3116 1747 \nz\n\" transform=\"scale(0.015625)\"/>\n       <path id=\"DejaVuSans-20\" transform=\"scale(0.015625)\"/>\n       <path id=\"DejaVuSans-66\" d=\"M 2375 4863 \nL 2375 4384 \nL 1825 4384 \nQ 1516 4384 1395 4259 \nQ 1275 4134 1275 3809 \nL 1275 3500 \nL 2222 3500 \nL 2222 3053 \nL 1275 3053 \nL 1275 0 \nL 697 0 \nL 697 3053 \nL 147 3053 \nL 147 3500 \nL 697 3500 \nL 697 3744 \nQ 697 4328 969 4595 \nQ 1241 4863 1831 4863 \nL 2375 4863 \nz\n\" transform=\"scale(0.015625)\"/>\n       <path id=\"DejaVuSans-65\" d=\"M 3597 1894 \nL 3597 1613 \nL 953 1613 \nQ 991 1019 1311 708 \nQ 1631 397 2203 397 \nQ 2534 397 2845 478 \nQ 3156 559 3463 722 \nL 3463 178 \nQ 3153 47 2828 -22 \nQ 2503 -91 2169 -91 \nQ 1331 -91 842 396 \nQ 353 884 353 1716 \nQ 353 2575 817 3079 \nQ 1281 3584 2069 3584 \nQ 2775 3584 3186 3129 \nQ 3597 2675 3597 1894 \nz\nM 3022 2063 \nQ 3016 2534 2758 2815 \nQ 2500 3097 2075 3097 \nQ 1594 3097 1305 2825 \nQ 1016 2553 972 2059 \nL 3022 2063 \nz\n\" transform=\"scale(0.015625)\"/>\n       <path id=\"DejaVuSans-78\" d=\"M 3513 3500 \nL 2247 1797 \nL 3578 0 \nL 2900 0 \nL 1881 1375 \nL 863 0 \nL 184 0 \nL 1544 1831 \nL 300 3500 \nL 978 3500 \nL 1906 2253 \nL 2834 3500 \nL 3513 3500 \nz\n\" transform=\"scale(0.015625)\"/>\n       <path id=\"DejaVuSans-69\" d=\"M 603 3500 \nL 1178 3500 \nL 1178 0 \nL 603 0 \nL 603 3500 \nz\nM 603 4863 \nL 1178 4863 \nL 1178 4134 \nL 603 4134 \nL 603 4863 \nz\n\" transform=\"scale(0.015625)\"/>\n       <path id=\"DejaVuSans-6d\" d=\"M 3328 2828 \nQ 3544 3216 3844 3400 \nQ 4144 3584 4550 3584 \nQ 5097 3584 5394 3201 \nQ 5691 2819 5691 2113 \nL 5691 0 \nL 5113 0 \nL 5113 2094 \nQ 5113 2597 4934 2840 \nQ 4756 3084 4391 3084 \nQ 3944 3084 3684 2787 \nQ 3425 2491 3425 1978 \nL 3425 0 \nL 2847 0 \nL 2847 2094 \nQ 2847 2600 2669 2842 \nQ 2491 3084 2119 3084 \nQ 1678 3084 1418 2786 \nQ 1159 2488 1159 1978 \nL 1159 0 \nL 581 0 \nL 581 3500 \nL 1159 3500 \nL 1159 2956 \nQ 1356 3278 1631 3431 \nQ 1906 3584 2284 3584 \nQ 2666 3584 2933 3390 \nQ 3200 3197 3328 2828 \nz\n\" transform=\"scale(0.015625)\"/>\n       <path id=\"DejaVuSans-6e\" d=\"M 3513 2113 \nL 3513 0 \nL 2938 0 \nL 2938 2094 \nQ 2938 2591 2744 2837 \nQ 2550 3084 2163 3084 \nQ 1697 3084 1428 2787 \nQ 1159 2491 1159 1978 \nL 1159 0 \nL 581 0 \nL 581 3500 \nL 1159 3500 \nL 1159 2956 \nQ 1366 3272 1645 3428 \nQ 1925 3584 2291 3584 \nQ 2894 3584 3203 3211 \nQ 3513 2838 3513 2113 \nz\n\" transform=\"scale(0.015625)\"/>\n       <path id=\"DejaVuSans-74\" d=\"M 1172 4494 \nL 1172 3500 \nL 2356 3500 \nL 2356 3053 \nL 1172 3053 \nL 1172 1153 \nQ 1172 725 1289 603 \nQ 1406 481 1766 481 \nL 2356 481 \nL 2356 0 \nL 1766 0 \nQ 1100 0 847 248 \nQ 594 497 594 1153 \nL 594 3053 \nL 172 3053 \nL 172 3500 \nL 594 3500 \nL 594 4494 \nL 1172 4494 \nz\n\" transform=\"scale(0.015625)\"/>\n       <path id=\"DejaVuSans-73\" d=\"M 2834 3397 \nL 2834 2853 \nQ 2591 2978 2328 3040 \nQ 2066 3103 1784 3103 \nQ 1356 3103 1142 2972 \nQ 928 2841 928 2578 \nQ 928 2378 1081 2264 \nQ 1234 2150 1697 2047 \nL 1894 2003 \nQ 2506 1872 2764 1633 \nQ 3022 1394 3022 966 \nQ 3022 478 2636 193 \nQ 2250 -91 1575 -91 \nQ 1294 -91 989 -36 \nQ 684 19 347 128 \nL 347 722 \nQ 666 556 975 473 \nQ 1284 391 1588 391 \nQ 1994 391 2212 530 \nQ 2431 669 2431 922 \nQ 2431 1156 2273 1281 \nQ 2116 1406 1581 1522 \nL 1381 1569 \nQ 847 1681 609 1914 \nQ 372 2147 372 2553 \nQ 372 3047 722 3315 \nQ 1072 3584 1716 3584 \nQ 2034 3584 2315 3537 \nQ 2597 3491 2834 3397 \nz\n\" transform=\"scale(0.015625)\"/>\n      </defs>\n      <use xlink:href=\"#DejaVuSans-47\"/>\n      <use xlink:href=\"#DejaVuSans-72\" x=\"77.490234\"/>\n      <use xlink:href=\"#DejaVuSans-6f\" x=\"116.353516\"/>\n      <use xlink:href=\"#DejaVuSans-75\" x=\"177.535156\"/>\n      <use xlink:href=\"#DejaVuSans-70\" x=\"240.914062\"/>\n      <use xlink:href=\"#DejaVuSans-20\" x=\"304.390625\"/>\n      <use xlink:href=\"#DejaVuSans-6f\" x=\"336.177734\"/>\n      <use xlink:href=\"#DejaVuSans-66\" x=\"397.359375\"/>\n      <use xlink:href=\"#DejaVuSans-20\" x=\"432.564453\"/>\n      <use xlink:href=\"#DejaVuSans-65\" x=\"464.351562\"/>\n      <use xlink:href=\"#DejaVuSans-78\" x=\"524.125\"/>\n      <use xlink:href=\"#DejaVuSans-70\" x=\"583.304688\"/>\n      <use xlink:href=\"#DejaVuSans-65\" x=\"646.78125\"/>\n      <use xlink:href=\"#DejaVuSans-72\" x=\"708.304688\"/>\n      <use xlink:href=\"#DejaVuSans-69\" x=\"749.417969\"/>\n      <use xlink:href=\"#DejaVuSans-6d\" x=\"777.201172\"/>\n      <use xlink:href=\"#DejaVuSans-65\" x=\"874.613281\"/>\n      <use xlink:href=\"#DejaVuSans-6e\" x=\"936.136719\"/>\n      <use xlink:href=\"#DejaVuSans-74\" x=\"999.515625\"/>\n      <use xlink:href=\"#DejaVuSans-73\" x=\"1038.724609\"/>\n     </g>\n    </g>\n   </g>\n   <g id=\"matplotlib.axis_2\">\n    <g id=\"ytick_1\">\n     <g id=\"line2d_7\">\n      <defs>\n       <path id=\"m121c343dae\" d=\"M 0 0 \nL -3.5 0 \n\" style=\"stroke: #000000; stroke-width: 0.8\"/>\n      </defs>\n      <g>\n       <use xlink:href=\"#m121c343dae\" x=\"50.14375\" y=\"233.603619\" style=\"stroke: #000000; stroke-width: 0.8\"/>\n      </g>\n     </g>\n     <g id=\"text_8\">\n      <!-- 0.10 -->\n      <g transform=\"translate(20.878125 237.402838)scale(0.1 -0.1)\">\n       <defs>\n        <path id=\"DejaVuSans-2e\" d=\"M 684 794 \nL 1344 794 \nL 1344 0 \nL 684 0 \nL 684 794 \nz\n\" transform=\"scale(0.015625)\"/>\n       </defs>\n       <use xlink:href=\"#DejaVuSans-30\"/>\n       <use xlink:href=\"#DejaVuSans-2e\" x=\"63.623047\"/>\n       <use xlink:href=\"#DejaVuSans-31\" x=\"95.410156\"/>\n       <use xlink:href=\"#DejaVuSans-30\" x=\"159.033203\"/>\n      </g>\n     </g>\n    </g>\n    <g id=\"ytick_2\">\n     <g id=\"line2d_8\">\n      <g>\n       <use xlink:href=\"#m121c343dae\" x=\"50.14375\" y=\"187.471222\" style=\"stroke: #000000; stroke-width: 0.8\"/>\n      </g>\n     </g>\n     <g id=\"text_9\">\n      <!-- 0.15 -->\n      <g transform=\"translate(20.878125 191.270441)scale(0.1 -0.1)\">\n       <use xlink:href=\"#DejaVuSans-30\"/>\n       <use xlink:href=\"#DejaVuSans-2e\" x=\"63.623047\"/>\n       <use xlink:href=\"#DejaVuSans-31\" x=\"95.410156\"/>\n       <use xlink:href=\"#DejaVuSans-35\" x=\"159.033203\"/>\n      </g>\n     </g>\n    </g>\n    <g id=\"ytick_3\">\n     <g id=\"line2d_9\">\n      <g>\n       <use xlink:href=\"#m121c343dae\" x=\"50.14375\" y=\"141.338825\" style=\"stroke: #000000; stroke-width: 0.8\"/>\n      </g>\n     </g>\n     <g id=\"text_10\">\n      <!-- 0.20 -->\n      <g transform=\"translate(20.878125 145.138044)scale(0.1 -0.1)\">\n       <use xlink:href=\"#DejaVuSans-30\"/>\n       <use xlink:href=\"#DejaVuSans-2e\" x=\"63.623047\"/>\n       <use xlink:href=\"#DejaVuSans-32\" x=\"95.410156\"/>\n       <use xlink:href=\"#DejaVuSans-30\" x=\"159.033203\"/>\n      </g>\n     </g>\n    </g>\n    <g id=\"ytick_4\">\n     <g id=\"line2d_10\">\n      <g>\n       <use xlink:href=\"#m121c343dae\" x=\"50.14375\" y=\"95.206428\" style=\"stroke: #000000; stroke-width: 0.8\"/>\n      </g>\n     </g>\n     <g id=\"text_11\">\n      <!-- 0.25 -->\n      <g transform=\"translate(20.878125 99.005647)scale(0.1 -0.1)\">\n       <use xlink:href=\"#DejaVuSans-30\"/>\n       <use xlink:href=\"#DejaVuSans-2e\" x=\"63.623047\"/>\n       <use xlink:href=\"#DejaVuSans-32\" x=\"95.410156\"/>\n       <use xlink:href=\"#DejaVuSans-35\" x=\"159.033203\"/>\n      </g>\n     </g>\n    </g>\n    <g id=\"ytick_5\">\n     <g id=\"line2d_11\">\n      <g>\n       <use xlink:href=\"#m121c343dae\" x=\"50.14375\" y=\"49.074031\" style=\"stroke: #000000; stroke-width: 0.8\"/>\n      </g>\n     </g>\n     <g id=\"text_12\">\n      <!-- 0.30 -->\n      <g transform=\"translate(20.878125 52.87325)scale(0.1 -0.1)\">\n       <use xlink:href=\"#DejaVuSans-30\"/>\n       <use xlink:href=\"#DejaVuSans-2e\" x=\"63.623047\"/>\n       <use xlink:href=\"#DejaVuSans-33\" x=\"95.410156\"/>\n       <use xlink:href=\"#DejaVuSans-30\" x=\"159.033203\"/>\n      </g>\n     </g>\n    </g>\n    <g id=\"text_13\">\n     <!-- Estimated Probability -->\n     <g transform=\"translate(14.798438 182.786563)rotate(-90)scale(0.1 -0.1)\">\n      <defs>\n       <path id=\"DejaVuSans-45\" d=\"M 628 4666 \nL 3578 4666 \nL 3578 4134 \nL 1259 4134 \nL 1259 2753 \nL 3481 2753 \nL 3481 2222 \nL 1259 2222 \nL 1259 531 \nL 3634 531 \nL 3634 0 \nL 628 0 \nL 628 4666 \nz\n\" transform=\"scale(0.015625)\"/>\n       <path id=\"DejaVuSans-61\" d=\"M 2194 1759 \nQ 1497 1759 1228 1600 \nQ 959 1441 959 1056 \nQ 959 750 1161 570 \nQ 1363 391 1709 391 \nQ 2188 391 2477 730 \nQ 2766 1069 2766 1631 \nL 2766 1759 \nL 2194 1759 \nz\nM 3341 1997 \nL 3341 0 \nL 2766 0 \nL 2766 531 \nQ 2569 213 2275 61 \nQ 1981 -91 1556 -91 \nQ 1019 -91 701 211 \nQ 384 513 384 1019 \nQ 384 1609 779 1909 \nQ 1175 2209 1959 2209 \nL 2766 2209 \nL 2766 2266 \nQ 2766 2663 2505 2880 \nQ 2244 3097 1772 3097 \nQ 1472 3097 1187 3025 \nQ 903 2953 641 2809 \nL 641 3341 \nQ 956 3463 1253 3523 \nQ 1550 3584 1831 3584 \nQ 2591 3584 2966 3190 \nQ 3341 2797 3341 1997 \nz\n\" transform=\"scale(0.015625)\"/>\n       <path id=\"DejaVuSans-64\" d=\"M 2906 2969 \nL 2906 4863 \nL 3481 4863 \nL 3481 0 \nL 2906 0 \nL 2906 525 \nQ 2725 213 2448 61 \nQ 2172 -91 1784 -91 \nQ 1150 -91 751 415 \nQ 353 922 353 1747 \nQ 353 2572 751 3078 \nQ 1150 3584 1784 3584 \nQ 2172 3584 2448 3432 \nQ 2725 3281 2906 2969 \nz\nM 947 1747 \nQ 947 1113 1208 752 \nQ 1469 391 1925 391 \nQ 2381 391 2643 752 \nQ 2906 1113 2906 1747 \nQ 2906 2381 2643 2742 \nQ 2381 3103 1925 3103 \nQ 1469 3103 1208 2742 \nQ 947 2381 947 1747 \nz\n\" transform=\"scale(0.015625)\"/>\n       <path id=\"DejaVuSans-50\" d=\"M 1259 4147 \nL 1259 2394 \nL 2053 2394 \nQ 2494 2394 2734 2622 \nQ 2975 2850 2975 3272 \nQ 2975 3691 2734 3919 \nQ 2494 4147 2053 4147 \nL 1259 4147 \nz\nM 628 4666 \nL 2053 4666 \nQ 2838 4666 3239 4311 \nQ 3641 3956 3641 3272 \nQ 3641 2581 3239 2228 \nQ 2838 1875 2053 1875 \nL 1259 1875 \nL 1259 0 \nL 628 0 \nL 628 4666 \nz\n\" transform=\"scale(0.015625)\"/>\n       <path id=\"DejaVuSans-62\" d=\"M 3116 1747 \nQ 3116 2381 2855 2742 \nQ 2594 3103 2138 3103 \nQ 1681 3103 1420 2742 \nQ 1159 2381 1159 1747 \nQ 1159 1113 1420 752 \nQ 1681 391 2138 391 \nQ 2594 391 2855 752 \nQ 3116 1113 3116 1747 \nz\nM 1159 2969 \nQ 1341 3281 1617 3432 \nQ 1894 3584 2278 3584 \nQ 2916 3584 3314 3078 \nQ 3713 2572 3713 1747 \nQ 3713 922 3314 415 \nQ 2916 -91 2278 -91 \nQ 1894 -91 1617 61 \nQ 1341 213 1159 525 \nL 1159 0 \nL 581 0 \nL 581 4863 \nL 1159 4863 \nL 1159 2969 \nz\n\" transform=\"scale(0.015625)\"/>\n       <path id=\"DejaVuSans-6c\" d=\"M 603 4863 \nL 1178 4863 \nL 1178 0 \nL 603 0 \nL 603 4863 \nz\n\" transform=\"scale(0.015625)\"/>\n       <path id=\"DejaVuSans-79\" d=\"M 2059 -325 \nQ 1816 -950 1584 -1140 \nQ 1353 -1331 966 -1331 \nL 506 -1331 \nL 506 -850 \nL 844 -850 \nQ 1081 -850 1212 -737 \nQ 1344 -625 1503 -206 \nL 1606 56 \nL 191 3500 \nL 800 3500 \nL 1894 763 \nL 2988 3500 \nL 3597 3500 \nL 2059 -325 \nz\n\" transform=\"scale(0.015625)\"/>\n      </defs>\n      <use xlink:href=\"#DejaVuSans-45\"/>\n      <use xlink:href=\"#DejaVuSans-73\" x=\"63.183594\"/>\n      <use xlink:href=\"#DejaVuSans-74\" x=\"115.283203\"/>\n      <use xlink:href=\"#DejaVuSans-69\" x=\"154.492188\"/>\n      <use xlink:href=\"#DejaVuSans-6d\" x=\"182.275391\"/>\n      <use xlink:href=\"#DejaVuSans-61\" x=\"279.6875\"/>\n      <use xlink:href=\"#DejaVuSans-74\" x=\"340.966797\"/>\n      <use xlink:href=\"#DejaVuSans-65\" x=\"380.175781\"/>\n      <use xlink:href=\"#DejaVuSans-64\" x=\"441.699219\"/>\n      <use xlink:href=\"#DejaVuSans-20\" x=\"505.175781\"/>\n      <use xlink:href=\"#DejaVuSans-50\" x=\"536.962891\"/>\n      <use xlink:href=\"#DejaVuSans-72\" x=\"595.515625\"/>\n      <use xlink:href=\"#DejaVuSans-6f\" x=\"634.378906\"/>\n      <use xlink:href=\"#DejaVuSans-62\" x=\"695.560547\"/>\n      <use xlink:href=\"#DejaVuSans-61\" x=\"759.037109\"/>\n      <use xlink:href=\"#DejaVuSans-62\" x=\"820.316406\"/>\n      <use xlink:href=\"#DejaVuSans-69\" x=\"883.792969\"/>\n      <use xlink:href=\"#DejaVuSans-6c\" x=\"911.576172\"/>\n      <use xlink:href=\"#DejaVuSans-69\" x=\"939.359375\"/>\n      <use xlink:href=\"#DejaVuSans-74\" x=\"967.142578\"/>\n      <use xlink:href=\"#DejaVuSans-79\" x=\"1006.351562\"/>\n     </g>\n    </g>\n   </g>\n   <g id=\"line2d_12\">\n    <path d=\"M 65.361932 141.338822 \nL 65.971879 187.471217 \nL 66.581826 172.093752 \nL 67.191773 187.471217 \nL 67.80172 159.791777 \nL 68.411668 141.338822 \nL 69.021615 167.700191 \nL 69.631562 175.938128 \nL 70.241509 172.093752 \nL 71.461403 166.501952 \nL 72.071351 156.716287 \nL 73.291245 154.519507 \nL 74.511139 164.405026 \nL 75.121086 173.902865 \nL 75.731034 172.093752 \nL 76.340981 175.331117 \nL 76.950928 159.791777 \nL 77.560875 154.519507 \nL 78.170822 158.114237 \nL 79.390717 149.027562 \nL 80.000664 152.410606 \nL 81.830505 151.224342 \nL 82.440452 154.065008 \nL 83.0504 147.489817 \nL 83.660347 150.267679 \nL 84.270294 149.988652 \nL 84.880241 144.134723 \nL 85.490188 141.338822 \nL 86.100135 141.338822 \nL 86.710083 138.775919 \nL 87.32003 138.845184 \nL 89.149871 145.952071 \nL 90.979713 139.193131 \nL 91.58966 141.338822 \nL 92.199607 137.238173 \nL 92.809554 137.327319 \nL 94.029449 141.338822 \nL 94.639396 139.455866 \nL 95.249343 139.493523 \nL 96.469237 136.015861 \nL 97.079185 130.893751 \nL 98.299079 131.273582 \nL 98.909026 134.74848 \nL 99.518973 136.482788 \nL 100.12892 134.97573 \nL 101.348815 138.263332 \nL 102.568709 144.315103 \nL 103.788603 147.10538 \nL 104.398551 149.85558 \nL 105.618445 152.355516 \nL 106.228392 152.193503 \nL 108.668181 156.716287 \nL 109.278128 157.769548 \nL 109.888075 157.547509 \nL 111.107969 159.548978 \nL 111.717917 156.915998 \nL 112.937811 158.857455 \nL 113.547758 157.48516 \nL 114.767652 159.341706 \nL 115.987547 158.913068 \nL 116.597494 159.791777 \nL 117.817388 159.36758 \nL 118.427335 160.211176 \nL 119.037283 159.999119 \nL 119.64723 158.766619 \nL 120.867124 158.38775 \nL 122.087018 156.061926 \nL 122.696966 157.849372 \nL 123.306913 156.716287 \nL 123.91686 154.655397 \nL 125.746701 157.023842 \nL 126.356649 155.955031 \nL 126.966596 156.716287 \nL 127.576543 158.358549 \nL 128.796437 156.276939 \nL 130.016332 155.99772 \nL 130.626279 156.716287 \nL 131.236226 156.575214 \nL 133.066067 158.638469 \nL 133.676015 160.118387 \nL 134.285962 159.953653 \nL 134.895909 160.594086 \nL 135.505856 162.01886 \nL 136.115803 161.842109 \nL 137.335698 163.048184 \nL 137.945645 162.867281 \nL 139.775486 164.592556 \nL 140.385433 165.893167 \nL 140.995381 166.434845 \nL 141.605328 166.23567 \nL 142.215275 166.766129 \nL 142.825222 166.567477 \nL 143.435169 164.941453 \nL 144.045116 165.469616 \nL 144.655064 164.581104 \nL 145.265011 164.405026 \nL 146.484905 165.437843 \nL 147.094852 164.575879 \nL 147.704799 164.405026 \nL 149.534641 165.898515 \nL 150.144588 167.041155 \nL 150.754535 164.895794 \nL 151.364482 165.379646 \nL 151.97443 165.211529 \nL 152.584377 165.686485 \nL 153.804271 164.089044 \nL 155.024165 165.02844 \nL 156.24406 164.712567 \nL 156.854007 165.168798 \nL 157.463954 165.012024 \nL 158.073901 165.460336 \nL 159.903743 164.99646 \nL 160.51369 165.433457 \nL 161.123637 166.448868 \nL 161.733584 166.290939 \nL 162.343531 167.288298 \nL 162.953479 167.127125 \nL 163.563426 165.259332 \nL 164.173373 166.244662 \nL 165.393267 165.942772 \nL 166.613162 166.753082 \nL 167.223109 166.601807 \nL 167.833056 167.544214 \nL 168.443003 167.932802 \nL 169.662897 166.550718 \nL 170.272845 167.471621 \nL 170.882792 167.851699 \nL 171.492739 168.754647 \nL 172.102686 169.123108 \nL 172.712633 168.444866 \nL 173.932528 169.172891 \nL 174.542475 169.018262 \nL 175.152422 169.884845 \nL 175.762369 170.234937 \nL 176.372316 170.077036 \nL 176.982263 167.915094 \nL 177.592211 166.77398 \nL 178.202158 166.14119 \nL 178.812105 166.995345 \nL 181.251894 168.390284 \nL 181.861841 168.249389 \nL 183.081735 168.923149 \nL 183.691682 168.308535 \nL 184.301629 169.112412 \nL 184.911577 168.971434 \nL 185.521524 169.297852 \nL 186.131471 167.766431 \nL 186.741418 167.634294 \nL 187.351365 167.962499 \nL 188.57126 167.700191 \nL 189.181207 166.666411 \nL 189.791154 166.092795 \nL 190.401101 165.972633 \nL 191.011048 166.299353 \nL 192.230943 166.060486 \nL 192.84089 165.50341 \nL 193.450837 165.388885 \nL 194.060784 164.840236 \nL 194.670731 164.729904 \nL 195.280678 164.18945 \nL 195.890626 164.083173 \nL 196.500573 163.123568 \nL 197.11052 163.448363 \nL 197.720467 164.193409 \nL 199.550309 163.88316 \nL 200.770203 164.508457 \nL 201.38015 164.405026 \nL 201.990097 163.89244 \nL 202.600044 164.200902 \nL 204.429886 166.318807 \nL 205.64978 166.102529 \nL 206.259727 165.59811 \nL 206.869675 165.889977 \nL 208.089569 164.895794 \nL 208.699516 164.795979 \nL 209.309463 165.47561 \nL 211.749252 166.606358 \nL 212.359199 167.264472 \nL 212.969146 166.778091 \nL 213.579093 167.051961 \nL 214.189041 167.700191 \nL 215.408935 168.233826 \nL 216.018882 168.869448 \nL 216.628829 168.388346 \nL 217.238776 169.018262 \nL 217.848724 168.907985 \nL 218.458671 168.432451 \nL 219.678565 168.945615 \nL 220.288512 169.560999 \nL 220.898459 169.090345 \nL 222.728301 168.768905 \nL 223.948195 169.265721 \nL 224.558142 169.863439 \nL 225.16809 169.754976 \nL 225.778037 169.297852 \nL 226.387984 168.49601 \nL 226.997931 168.740775 \nL 227.607878 169.329267 \nL 228.217825 169.569096 \nL 228.827773 170.150137 \nL 229.43772 170.385154 \nL 230.657614 170.171571 \nL 231.267561 170.403921 \nL 231.877508 170.297851 \nL 234.317297 171.208718 \nL 235.537191 170.995368 \nL 236.147139 171.546519 \nL 238.586927 169.82761 \nL 239.196874 170.050597 \nL 240.416769 171.132661 \nL 241.026716 171.348829 \nL 242.24661 170.508451 \nL 242.856557 170.724536 \nL 243.466505 170.309345 \nL 244.076452 170.524633 \nL 245.296346 170.327424 \nL 245.906293 170.851133 \nL 246.51624 170.752102 \nL 247.126188 170.345146 \nL 247.736135 170.248466 \nL 248.346082 170.458942 \nL 248.956029 169.751498 \nL 250.175923 169.564573 \nL 251.395818 169.983119 \nL 252.005765 169.889822 \nL 252.615712 170.096682 \nL 253.225659 170.6008 \nL 253.835606 170.506402 \nL 254.445554 170.115944 \nL 255.665448 169.932071 \nL 256.275395 170.428682 \nL 257.495289 170.828516 \nL 259.325131 169.683498 \nL 259.935078 169.594916 \nL 260.545025 168.644604 \nL 261.154972 168.559803 \nL 261.76492 168.761178 \nL 262.374867 169.246075 \nL 262.984814 169.160215 \nL 263.594761 169.357892 \nL 264.204708 169.272197 \nL 264.814655 169.468333 \nL 265.424603 169.382831 \nL 266.03455 169.857032 \nL 266.644497 170.049621 \nL 267.254444 170.518955 \nL 267.864391 169.877187 \nL 268.474338 169.79174 \nL 269.084286 169.431391 \nL 269.694233 169.347786 \nL 270.30418 169.812239 \nL 270.914127 169.727988 \nL 271.524074 169.37208 \nL 272.134021 169.28963 \nL 272.743969 169.478232 \nL 273.963863 169.314157 \nL 275.183757 169.686853 \nL 275.793704 169.338259 \nL 277.013599 169.177346 \nL 278.233493 169.54549 \nL 279.453387 169.385224 \nL 280.063335 168.783024 \nL 280.673282 168.966141 \nL 281.283229 168.888311 \nL 282.503123 169.250859 \nL 283.11307 168.915175 \nL 284.942912 168.686001 \nL 285.552859 168.355583 \nL 286.772753 168.714089 \nL 287.382701 169.144652 \nL 287.992648 168.564505 \nL 288.602595 168.993129 \nL 289.822489 169.343318 \nL 290.432436 169.018262 \nL 291.042384 169.441043 \nL 291.652331 169.613518 \nL 292.262278 169.290359 \nL 292.872225 169.215622 \nL 293.482172 169.387327 \nL 295.312014 169.164711 \nL 296.531908 169.503873 \nL 297.141855 169.187781 \nL 298.36175 169.524152 \nL 298.971697 168.489658 \nL 299.581644 168.658793 \nL 300.191591 168.109952 \nL 300.801538 168.279196 \nL 301.411485 168.209752 \nL 302.021433 168.377869 \nL 303.241327 169.183436 \nL 303.851274 169.112412 \nL 304.461221 168.337435 \nL 305.071168 168.034733 \nL 305.681116 168.200733 \nL 306.291063 167.666905 \nL 309.340799 167.338632 \nL 309.950746 167.732981 \nL 310.560693 166.980648 \nL 311.17064 166.688808 \nL 311.780587 166.626211 \nL 313.610429 167.797118 \nL 314.220376 167.506831 \nL 314.830323 167.443011 \nL 316.050217 167.764176 \nL 317.270112 167.636521 \nL 317.880059 167.795482 \nL 318.490006 167.731881 \nL 319.099953 167.889851 \nL 320.319848 167.322711 \nL 320.929795 167.700191 \nL 321.539742 167.63758 \nL 322.149689 167.137986 \nL 322.759636 167.076997 \nL 323.979531 167.824244 \nL 325.809372 167.638597 \nL 326.419319 168.007443 \nL 328.249161 167.822236 \nL 328.859108 167.547994 \nL 329.469055 167.912784 \nL 330.688949 168.214124 \nL 331.298897 167.730355 \nL 331.908844 167.459454 \nL 332.518791 167.610124 \nL 333.738685 167.490979 \nL 334.348632 167.223062 \nL 334.95858 166.748091 \nL 335.568527 167.106474 \nL 336.178474 167.255907 \nL 336.788421 167.61154 \nL 338.008315 167.494251 \nL 338.618263 167.2305 \nL 339.838157 167.524842 \nL 340.448104 167.875154 \nL 341.058051 167.612901 \nL 341.667998 167.148586 \nL 342.277946 167.09186 \nL 342.887893 167.237718 \nL 344.717734 167.068446 \nL 345.327681 167.413658 \nL 345.937629 167.357096 \nL 346.547576 167.500493 \nL 347.157523 167.842529 \nL 347.76747 167.785418 \nL 348.377417 167.926959 \nL 348.987365 168.265887 \nL 349.597312 167.813093 \nL 350.207259 167.953672 \nL 350.817206 167.503463 \nL 351.427153 167.251494 \nL 352.0371 167.588264 \nL 352.647048 167.337161 \nL 353.256995 167.672322 \nL 356.916678 168.498196 \nL 357.526625 168.057171 \nL 358.136572 168.193446 \nL 358.746519 167.946303 \nL 359.356466 167.509169 \nL 359.966414 167.455096 \nL 360.576361 167.781719 \nL 361.186308 167.917156 \nL 361.796255 168.241498 \nL 362.406202 167.808226 \nL 364.236044 168.210247 \nL 364.845991 168.155624 \nL 367.28578 168.68343 \nL 367.895727 168.25713 \nL 368.505674 168.20307 \nL 369.115621 168.334135 \nL 369.725568 168.280145 \nL 369.725568 168.280145 \n\" clip-path=\"url(#p07c601fdc1)\" style=\"fill: none; stroke: #1f77b4; stroke-width: 1.5; stroke-linecap: square\"/>\n   </g>\n   <g id=\"line2d_13\">\n    <path d=\"M 65.361932 49.07402 \nL 65.971879 95.206428 \nL 66.581826 18.319091 \nL 67.191773 26.007844 \nL 67.80172 49.07402 \nL 68.411668 95.206428 \nL 69.021615 114.977454 \nL 69.631562 129.80572 \nL 70.241509 141.338822 \nL 71.461403 158.114237 \nL 72.071351 149.027562 \nL 72.681298 148.436114 \nL 73.291245 154.519507 \nL 73.901192 141.338822 \nL 74.511139 141.338822 \nL 75.731034 151.590466 \nL 76.340981 151.050905 \nL 76.950928 159.791777 \nL 77.560875 163.306629 \nL 78.170822 162.308101 \nL 78.780769 165.407899 \nL 79.390717 160.560664 \nL 80.000664 163.482377 \nL 80.610611 162.630697 \nL 81.220558 165.259332 \nL 81.830505 170.995368 \nL 82.440452 163.609633 \nL 83.0504 165.942772 \nL 83.660347 159.196521 \nL 84.270294 155.755196 \nL 85.490188 154.907174 \nL 86.100135 159.791777 \nL 86.710083 159.279205 \nL 87.32003 161.287974 \nL 87.929977 165.619035 \nL 88.539924 164.99646 \nL 89.149871 162.098409 \nL 90.369766 161.109849 \nL 90.979713 158.504365 \nL 92.199607 161.842109 \nL 92.809554 161.396395 \nL 93.419502 159.006558 \nL 94.639396 162.051334 \nL 95.249343 159.791777 \nL 95.85929 161.239071 \nL 97.079185 160.488126 \nL 97.689132 161.842109 \nL 98.299079 159.791777 \nL 98.909026 159.462266 \nL 99.518973 155.906953 \nL 101.348815 155.178542 \nL 102.568709 157.708381 \nL 103.788603 157.196839 \nL 104.398551 154.113952 \nL 105.008498 152.522437 \nL 105.618445 155.109689 \nL 106.228392 154.907174 \nL 106.838339 153.373361 \nL 107.448286 153.201435 \nL 108.058234 150.435356 \nL 108.668181 150.309007 \nL 109.278128 151.450038 \nL 109.888075 151.313392 \nL 110.498022 152.410606 \nL 111.107969 151.050905 \nL 111.717917 153.321268 \nL 112.937811 153.017906 \nL 113.547758 154.025233 \nL 114.157705 153.86861 \nL 114.767652 154.840988 \nL 115.3776 156.901562 \nL 116.597494 158.706318 \nL 117.207441 156.358674 \nL 118.427335 160.211176 \nL 120.257177 162.630697 \nL 120.867124 162.399268 \nL 121.477071 164.157003 \nL 122.087018 162.932711 \nL 122.696966 163.676616 \nL 123.91686 161.313684 \nL 124.526807 162.051334 \nL 125.136754 161.842109 \nL 126.966596 163.952741 \nL 127.576543 161.045863 \nL 128.18649 159.969216 \nL 128.796437 161.54921 \nL 129.406384 161.358546 \nL 130.016332 159.446868 \nL 130.626279 160.987803 \nL 131.236226 161.654015 \nL 131.846173 161.469331 \nL 132.45612 160.456752 \nL 133.066067 158.638469 \nL 133.676015 158.485379 \nL 134.285962 159.953653 \nL 135.505856 159.632707 \nL 136.115803 157.899169 \nL 136.72575 157.758824 \nL 137.335698 158.396178 \nL 139.775486 157.841467 \nL 140.385433 158.452451 \nL 140.995381 158.315543 \nL 141.605328 159.645328 \nL 142.215275 160.227674 \nL 142.825222 160.080111 \nL 143.435169 161.365296 \nL 144.045116 158.372325 \nL 145.265011 159.512187 \nL 146.484905 157.863863 \nL 147.094852 156.374568 \nL 147.704799 156.264016 \nL 148.314747 157.502002 \nL 148.924694 158.053455 \nL 149.534641 159.260768 \nL 150.144588 158.47372 \nL 151.364482 159.531889 \nL 151.97443 159.40466 \nL 152.584377 160.560664 \nL 153.194324 160.428087 \nL 153.804271 161.56124 \nL 154.414218 160.796025 \nL 155.024165 160.664561 \nL 155.634113 161.154078 \nL 156.854007 157.225478 \nL 157.463954 157.120961 \nL 158.073901 157.620844 \nL 158.683848 156.915998 \nL 159.293796 157.410753 \nL 159.903743 157.307735 \nL 160.51369 157.79369 \nL 162.343531 157.48516 \nL 162.953479 157.957944 \nL 163.563426 157.28582 \nL 164.173373 157.75404 \nL 164.78332 157.653937 \nL 165.393267 158.114237 \nL 166.613162 157.913344 \nL 167.223109 158.913068 \nL 167.833056 158.809088 \nL 168.443003 159.249054 \nL 169.05295 160.223426 \nL 170.272845 160.005113 \nL 170.882792 158.30706 \nL 171.492739 158.210106 \nL 172.102686 157.590006 \nL 173.932528 158.863986 \nL 174.542475 158.766619 \nL 175.762369 159.589 \nL 176.372316 159.489282 \nL 177.592211 160.290519 \nL 178.202158 160.188629 \nL 180.031999 161.35394 \nL 180.641946 160.762987 \nL 181.251894 161.144357 \nL 181.861841 161.041202 \nL 182.471788 161.895233 \nL 183.081735 161.789273 \nL 183.691682 162.157541 \nL 185.521524 161.842109 \nL 186.741418 162.559727 \nL 187.351365 161.995116 \nL 187.961312 161.892868 \nL 188.57126 162.700622 \nL 189.181207 163.048184 \nL 189.791154 163.842437 \nL 191.620995 163.517862 \nL 192.84089 164.185339 \nL 193.450837 164.951613 \nL 194.060784 165.275446 \nL 194.670731 164.729904 \nL 195.890626 165.370585 \nL 197.11052 164.298723 \nL 197.720467 163.34694 \nL 198.330414 163.667748 \nL 199.550309 165.135623 \nL 200.160256 165.444044 \nL 200.770203 165.335953 \nL 201.38015 165.640716 \nL 202.600044 163.792653 \nL 203.209992 164.10018 \nL 203.819939 163.595678 \nL 204.429886 163.90139 \nL 205.039833 163.40214 \nL 205.64978 163.306629 \nL 206.259727 163.609633 \nL 206.869675 163.514053 \nL 207.479622 164.207873 \nL 208.699516 164.014073 \nL 209.309463 163.139791 \nL 210.529358 162.957348 \nL 211.139305 162.098409 \nL 211.749252 162.012261 \nL 212.359199 161.545581 \nL 212.969146 161.462416 \nL 213.579093 161.758078 \nL 214.189041 161.298148 \nL 214.798988 161.967138 \nL 216.628829 161.718606 \nL 217.238776 162.006142 \nL 217.848724 161.923802 \nL 219.068618 162.490434 \nL 219.678565 163.133659 \nL 222.118354 162.795748 \nL 222.728301 163.425375 \nL 223.338248 163.340423 \nL 223.948195 163.963149 \nL 224.558142 163.876794 \nL 225.16809 164.141907 \nL 225.778037 164.754514 \nL 228.217825 165.782106 \nL 228.827773 166.377225 \nL 229.43772 166.626211 \nL 230.657614 166.440276 \nL 231.267561 167.024258 \nL 231.877508 167.267249 \nL 232.487456 167.172962 \nL 233.70735 167.652607 \nL 234.317297 166.894183 \nL 235.537191 168.029715 \nL 236.147139 167.934727 \nL 237.367033 168.398822 \nL 239.196874 168.11497 \nL 239.806822 167.700191 \nL 240.416769 167.929021 \nL 241.026716 167.517761 \nL 241.636663 167.745643 \nL 242.24661 167.654903 \nL 243.466505 166.845472 \nL 244.076452 167.072543 \nL 244.686399 166.359792 \nL 245.296346 165.963546 \nL 245.906293 166.19129 \nL 246.51624 165.798288 \nL 247.126188 166.025056 \nL 248.346082 165.861023 \nL 248.956029 165.474318 \nL 251.395818 165.158817 \nL 252.615712 165.603265 \nL 253.225659 164.927553 \nL 253.835606 164.55384 \nL 254.445554 164.775865 \nL 255.055501 164.700743 \nL 256.885342 163.599542 \nL 258.105237 164.041199 \nL 261.154972 163.688687 \nL 261.76492 163.048184 \nL 262.984814 162.91459 \nL 263.594761 163.131432 \nL 264.204708 162.782632 \nL 264.814655 162.717257 \nL 265.424603 162.371839 \nL 266.644497 162.802237 \nL 267.254444 162.18178 \nL 267.864391 162.673331 \nL 268.474338 162.885691 \nL 269.084286 162.27054 \nL 269.694233 162.208246 \nL 270.914127 162.630697 \nL 271.524074 162.567893 \nL 272.743969 162.984529 \nL 273.963863 163.934291 \nL 275.183757 163.803295 \nL 276.403652 164.205604 \nL 278.84344 162.893569 \nL 279.453387 163.094448 \nL 280.063335 162.510067 \nL 280.673282 162.450261 \nL 281.283229 162.130897 \nL 282.503123 162.531295 \nL 283.11307 162.987553 \nL 283.723018 162.413236 \nL 284.332965 162.610981 \nL 285.552859 162.493459 \nL 286.162806 162.18101 \nL 286.772753 162.123747 \nL 287.992648 163.018529 \nL 288.602595 162.70806 \nL 289.212542 161.897832 \nL 289.822489 162.342198 \nL 290.432436 162.28543 \nL 291.042384 162.726345 \nL 291.652331 162.172816 \nL 292.872225 162.554791 \nL 294.092119 161.951176 \nL 294.702067 161.407023 \nL 295.312014 161.35394 \nL 295.921961 161.057687 \nL 297.141855 160.954174 \nL 298.36175 161.333551 \nL 298.971697 161.281471 \nL 299.581644 161.469331 \nL 300.801538 161.365296 \nL 301.411485 161.075876 \nL 303.241327 161.632361 \nL 303.851274 161.580598 \nL 304.461221 161.763852 \nL 305.071168 161.71202 \nL 305.681116 161.426862 \nL 307.510957 161.275436 \nL 308.730851 161.637077 \nL 309.950746 161.536094 \nL 310.560693 161.714921 \nL 314.220376 161.416001 \nL 314.830323 161.592078 \nL 316.050217 161.493762 \nL 316.660165 161.668355 \nL 317.270112 162.064972 \nL 317.880059 162.237351 \nL 318.490006 161.965323 \nL 319.099953 161.91587 \nL 319.7099 162.087369 \nL 320.319848 162.037847 \nL 320.929795 161.329536 \nL 321.539742 161.282049 \nL 322.759636 162.060229 \nL 323.369583 161.793755 \nL 323.979531 161.962725 \nL 324.589478 162.347477 \nL 325.809372 162.680453 \nL 326.419319 162.630697 \nL 327.029266 162.795748 \nL 327.639214 163.174107 \nL 328.249161 163.337151 \nL 330.079002 163.185436 \nL 331.298897 163.507715 \nL 331.908844 163.878403 \nL 332.518791 163.406718 \nL 333.128738 163.775949 \nL 333.738685 163.515854 \nL 334.348632 163.674416 \nL 335.568527 164.405026 \nL 336.178474 164.560522 \nL 337.398368 164.456625 \nL 338.008315 164.610966 \nL 338.618263 164.970118 \nL 339.22821 164.712567 \nL 339.838157 164.865327 \nL 340.448104 164.609151 \nL 341.058051 164.761457 \nL 341.667998 165.11632 \nL 342.277946 165.266839 \nL 342.887893 165.619035 \nL 343.49784 165.364014 \nL 344.107787 165.311549 \nL 344.717734 165.058315 \nL 345.327681 165.407899 \nL 345.937629 165.355696 \nL 346.547576 164.90429 \nL 347.157523 165.052664 \nL 348.377417 165.744353 \nL 348.987365 165.691985 \nL 349.597312 165.837403 \nL 350.207259 165.785048 \nL 350.817206 165.929655 \nL 351.427153 166.269945 \nL 352.0371 166.021124 \nL 352.647048 166.164315 \nL 353.256995 166.501952 \nL 353.866942 166.448868 \nL 354.476889 166.201752 \nL 355.086836 166.149522 \nL 355.696783 166.290939 \nL 356.306731 166.04572 \nL 356.916678 165.994136 \nL 357.526625 166.327208 \nL 358.136572 166.275252 \nL 358.746519 166.414937 \nL 359.356466 166.745067 \nL 359.966414 166.883212 \nL 360.576361 166.259826 \nL 361.186308 166.208558 \nL 361.796255 166.346937 \nL 362.406202 166.673836 \nL 363.626097 166.947019 \nL 364.236044 166.706942 \nL 364.845991 166.842915 \nL 366.065885 166.366116 \nL 366.675832 166.315563 \nL 367.895727 166.58634 \nL 368.505674 166.35036 \nL 369.725568 166.250326 \nL 369.725568 166.250326 \n\" clip-path=\"url(#p07c601fdc1)\" style=\"fill: none; stroke: #ff7f0e; stroke-width: 1.5; stroke-linecap: square\"/>\n   </g>\n   <g id=\"line2d_14\">\n    <path d=\"M 65.361932 233.603618 \nL 65.971879 187.471217 \nL 66.581826 233.603618 \nL 67.191773 210.537421 \nL 67.80172 215.150663 \nL 68.411668 218.226153 \nL 69.021615 167.700191 \nL 69.631562 175.938128 \nL 70.241509 151.590466 \nL 70.851456 159.791777 \nL 71.461403 149.726537 \nL 72.071351 164.405026 \nL 72.681298 162.630697 \nL 73.901192 172.093752 \nL 74.511139 181.704673 \nL 75.121086 173.902865 \nL 75.731034 182.345395 \nL 76.340981 180.187165 \nL 76.950928 187.471217 \nL 77.560875 185.274436 \nL 78.170822 179.083516 \nL 78.780769 177.442437 \nL 79.390717 183.626854 \nL 80.610611 180.373925 \nL 81.220558 175.510975 \nL 82.440452 179.517365 \nL 83.660347 177.054234 \nL 84.270294 178.8214 \nL 86.100135 175.608604 \nL 86.710083 177.219573 \nL 87.32003 176.249835 \nL 87.929977 177.759134 \nL 88.539924 176.82528 \nL 89.149871 180.551364 \nL 89.759819 181.84532 \nL 90.369766 185.274436 \nL 90.979713 184.252687 \nL 91.58966 179.083516 \nL 92.199607 178.244746 \nL 93.419502 180.600446 \nL 94.029449 179.782491 \nL 94.639396 177.114975 \nL 95.249343 180.090032 \nL 96.469237 178.599609 \nL 97.079185 181.378269 \nL 97.689132 180.636797 \nL 98.299079 183.277366 \nL 98.909026 182.52847 \nL 99.518973 185.0432 \nL 100.12892 184.289684 \nL 100.738868 185.125512 \nL 101.958762 183.689877 \nL 102.568709 181.518655 \nL 103.178656 180.880875 \nL 103.788603 183.146315 \nL 104.398551 182.503118 \nL 105.008498 180.481466 \nL 105.618445 179.89725 \nL 108.058234 182.922957 \nL 109.278128 186.839266 \nL 109.888075 186.224404 \nL 110.498022 184.395726 \nL 111.107969 185.0432 \nL 111.717917 184.475605 \nL 112.327864 180.373925 \nL 112.937811 179.879817 \nL 114.157705 181.20633 \nL 114.767652 182.970499 \nL 115.3776 183.580535 \nL 116.597494 186.928494 \nL 117.207441 187.471217 \nL 118.427335 186.422754 \nL 119.037283 187.989564 \nL 119.64723 188.496389 \nL 120.867124 187.471217 \nL 122.087018 188.452765 \nL 122.696966 185.0432 \nL 123.306913 186.510126 \nL 123.91686 186.995628 \nL 124.526807 183.705317 \nL 125.136754 183.277366 \nL 125.746701 181.935332 \nL 126.356649 181.533393 \nL 126.966596 182.043876 \nL 127.576543 183.440231 \nL 128.18649 183.03542 \nL 128.796437 183.517017 \nL 129.406384 184.859959 \nL 130.016332 184.453209 \nL 130.626279 184.908313 \nL 131.236226 183.662119 \nL 132.45612 184.561974 \nL 133.066067 185.823635 \nL 133.676015 183.796964 \nL 134.285962 183.424517 \nL 135.505856 184.289684 \nL 136.115803 183.922571 \nL 136.72575 184.343606 \nL 137.335698 183.982212 \nL 137.945645 185.164599 \nL 138.555592 184.802408 \nL 139.165539 182.933612 \nL 139.775486 182.595439 \nL 140.385433 180.774585 \nL 140.995381 180.459097 \nL 141.605328 177.951834 \nL 142.215275 177.663541 \nL 144.045116 178.954472 \nL 144.655064 178.667334 \nL 145.265011 177.685566 \nL 145.874958 177.412273 \nL 146.484905 176.454537 \nL 147.704799 177.294957 \nL 148.314747 177.032511 \nL 149.534641 175.191377 \nL 150.144588 174.949568 \nL 150.754535 174.056835 \nL 151.364482 173.826424 \nL 151.97443 174.244448 \nL 152.584377 174.015933 \nL 153.804271 174.832211 \nL 155.024165 173.132769 \nL 155.634113 171.680939 \nL 156.24406 172.093752 \nL 156.854007 171.890081 \nL 157.463954 172.296089 \nL 158.073901 171.490714 \nL 158.683848 171.894055 \nL 159.903743 171.502318 \nL 160.51369 172.485544 \nL 161.123637 172.288404 \nL 161.733584 171.513482 \nL 162.343531 169.018262 \nL 162.953479 168.27327 \nL 163.563426 169.246075 \nL 164.78332 168.905744 \nL 165.393267 169.857032 \nL 166.003214 169.685244 \nL 166.613162 170.067989 \nL 167.223109 167.700191 \nL 167.833056 167.544214 \nL 169.662897 168.696409 \nL 170.882792 168.381952 \nL 172.102686 170.171571 \nL 172.712633 170.52994 \nL 173.932528 172.265567 \nL 174.542475 171.581179 \nL 175.152422 170.394585 \nL 175.762369 170.234937 \nL 176.372316 169.572863 \nL 176.982263 169.920852 \nL 177.592211 169.76636 \nL 178.202158 170.109565 \nL 178.812105 169.955719 \nL 179.422052 168.82196 \nL 180.031999 168.676542 \nL 180.641946 169.018262 \nL 181.251894 168.873339 \nL 181.861841 169.691032 \nL 182.471788 170.022179 \nL 183.081735 170.825505 \nL 183.691682 171.147455 \nL 184.301629 170.524633 \nL 184.911577 170.376479 \nL 185.521524 169.763844 \nL 186.131471 170.54828 \nL 187.351365 171.175694 \nL 187.961312 170.57124 \nL 188.57126 170.881737 \nL 189.181207 170.736924 \nL 189.791154 171.043585 \nL 190.401101 170.89939 \nL 191.011048 169.865143 \nL 191.620995 169.284406 \nL 192.230943 168.267785 \nL 192.84089 168.139552 \nL 193.450837 167.575258 \nL 194.060784 167.886717 \nL 194.670731 168.628409 \nL 195.280678 168.932031 \nL 195.890626 168.803688 \nL 196.500573 169.103695 \nL 197.11052 168.975751 \nL 197.720467 169.272197 \nL 198.330414 169.987258 \nL 199.550309 168.893013 \nL 200.160256 168.768905 \nL 200.770203 169.473379 \nL 201.38015 169.759678 \nL 201.990097 170.453498 \nL 202.600044 169.508163 \nL 203.209992 168.164712 \nL 203.819939 168.451726 \nL 204.429886 168.333324 \nL 205.64978 168.898443 \nL 206.259727 169.575036 \nL 206.869675 168.661872 \nL 207.479622 169.333694 \nL 208.699516 169.878356 \nL 211.139305 169.402698 \nL 212.359199 168.408253 \nL 212.969146 168.676542 \nL 213.579093 169.320771 \nL 214.798988 169.843393 \nL 215.408935 169.727988 \nL 216.018882 170.357588 \nL 216.628829 170.611592 \nL 217.238776 170.494496 \nL 217.848724 169.64316 \nL 218.458671 169.530848 \nL 219.068618 169.784096 \nL 219.678565 169.672114 \nL 220.288512 169.199179 \nL 220.898459 169.090345 \nL 221.508407 169.700381 \nL 222.118354 169.590448 \nL 222.728301 169.837605 \nL 223.338248 170.437728 \nL 223.948195 169.972726 \nL 224.558142 170.567748 \nL 225.16809 170.456619 \nL 225.778037 169.647339 \nL 226.387984 169.888681 \nL 226.997931 170.475069 \nL 228.217825 170.257636 \nL 228.827773 169.807138 \nL 230.047667 169.597047 \nL 230.657614 169.832367 \nL 231.267561 170.403921 \nL 231.877508 169.961122 \nL 232.487456 169.857032 \nL 233.70735 168.984949 \nL 234.317297 169.217395 \nL 234.927244 168.786778 \nL 237.367033 169.702911 \nL 238.586927 170.798806 \nL 239.806822 171.236476 \nL 241.026716 172.306593 \nL 242.24661 171.459629 \nL 242.856557 171.356487 \nL 243.466505 171.883826 \nL 244.076452 171.15228 \nL 244.686399 171.36398 \nL 246.51624 171.061705 \nL 247.126188 170.653731 \nL 247.736135 171.171102 \nL 248.346082 170.765466 \nL 248.956029 170.97355 \nL 249.565976 171.484747 \nL 250.175923 171.385579 \nL 250.785871 170.682053 \nL 251.395818 170.887676 \nL 252.005765 170.490894 \nL 252.615712 170.396249 \nL 254.445554 171.005955 \nL 255.055501 170.615153 \nL 255.665448 170.81639 \nL 256.275395 170.722515 \nL 256.885342 170.043434 \nL 258.105237 169.862325 \nL 258.715184 170.352914 \nL 259.325131 170.551195 \nL 259.935078 170.171571 \nL 260.545025 170.656605 \nL 261.154972 170.852095 \nL 261.76492 170.760722 \nL 262.374867 170.385154 \nL 262.984814 170.579668 \nL 264.204708 170.400827 \nL 264.814655 170.593513 \nL 265.424603 171.065472 \nL 266.03455 170.416212 \nL 266.644497 170.328372 \nL 267.254444 170.796867 \nL 267.864391 170.708395 \nL 268.474338 170.896709 \nL 269.694233 171.819153 \nL 270.30418 171.181152 \nL 270.914127 171.365822 \nL 271.524074 171.277254 \nL 272.134021 171.460564 \nL 272.743969 171.372229 \nL 273.353916 171.01463 \nL 275.793704 171.738201 \nL 276.403652 171.650596 \nL 277.013599 171.828625 \nL 278.233493 171.654404 \nL 278.84344 172.093752 \nL 279.453387 171.744264 \nL 281.283229 173.046731 \nL 281.893176 173.216828 \nL 282.503123 173.127531 \nL 283.11307 173.554189 \nL 283.723018 173.464452 \nL 284.332965 173.118924 \nL 285.552859 173.962836 \nL 286.162806 174.127145 \nL 286.772753 173.276634 \nL 287.382701 173.694699 \nL 288.602595 174.021171 \nL 289.212542 174.433806 \nL 289.822489 174.09408 \nL 290.432436 174.504281 \nL 291.042384 173.668811 \nL 292.262278 174.484895 \nL 292.872225 174.396259 \nL 294.092119 174.711196 \nL 294.702067 175.112144 \nL 295.312014 175.022793 \nL 295.921961 174.690477 \nL 296.531908 175.088318 \nL 297.141855 174.999737 \nL 297.751802 175.153143 \nL 298.36175 175.064863 \nL 298.971697 175.217307 \nL 299.581644 175.129303 \nL 300.801538 175.908322 \nL 302.021433 176.20496 \nL 302.63138 176.588709 \nL 303.241327 176.26258 \nL 303.851274 176.408864 \nL 304.461221 176.789162 \nL 305.681116 177.076836 \nL 306.291063 177.45257 \nL 306.90101 176.896799 \nL 308.120904 177.181036 \nL 308.730851 177.091437 \nL 309.340799 177.23236 \nL 309.950746 176.684041 \nL 310.560693 176.367399 \nL 311.17064 176.509063 \nL 311.780587 176.422228 \nL 313.610429 176.842685 \nL 314.220376 176.530291 \nL 314.830323 176.894531 \nL 315.44027 176.583525 \nL 316.050217 176.497982 \nL 316.660165 176.189451 \nL 317.270112 176.105269 \nL 317.880059 175.799172 \nL 319.7099 175.55185 \nL 320.319848 175.249987 \nL 320.929795 175.608604 \nL 322.149689 175.883464 \nL 322.759636 175.583678 \nL 323.369583 175.067695 \nL 323.979531 174.77125 \nL 324.589478 175.125934 \nL 325.199425 175.262883 \nL 325.809372 174.752483 \nL 326.419319 174.674584 \nL 327.029266 175.026202 \nL 328.249161 174.443086 \nL 328.859108 174.579719 \nL 329.469055 174.503126 \nL 330.079002 174.638989 \nL 331.298897 175.331117 \nL 332.518791 175.176254 \nL 333.128738 174.889666 \nL 333.738685 174.813581 \nL 334.348632 174.529097 \nL 334.95858 174.662458 \nL 335.568527 174.379596 \nL 337.398368 174.157846 \nL 338.618263 174.422642 \nL 339.22821 174.144083 \nL 339.838157 174.07134 \nL 340.448104 173.794802 \nL 342.277946 174.189151 \nL 342.887893 174.117109 \nL 343.49784 174.449163 \nL 344.107787 174.57833 \nL 344.717734 174.907938 \nL 346.547576 174.689955 \nL 347.157523 174.817197 \nL 347.76747 174.745045 \nL 348.377417 174.276358 \nL 348.987365 174.007684 \nL 349.597312 174.135298 \nL 350.207259 173.868082 \nL 350.817206 173.995448 \nL 352.0371 173.85678 \nL 353.256995 174.499538 \nL 353.866942 174.040268 \nL 355.086836 173.902865 \nL 355.696783 174.028032 \nL 356.306731 173.573602 \nL 356.916678 173.69892 \nL 357.526625 173.631497 \nL 358.136572 173.756182 \nL 359.356466 173.621956 \nL 359.966414 173.745885 \nL 360.576361 174.05953 \nL 361.186308 173.422671 \nL 361.796255 173.546242 \nL 362.406202 173.29118 \nL 363.016149 173.414518 \nL 363.626097 173.349061 \nL 364.236044 173.47178 \nL 364.845991 173.781521 \nL 365.455938 173.902865 \nL 366.065885 173.836955 \nL 366.675832 174.144083 \nL 367.28578 173.705904 \nL 367.895727 173.826424 \nL 369.115621 174.435813 \nL 369.725568 174.185095 \nL 369.725568 174.185095 \n\" clip-path=\"url(#p07c601fdc1)\" style=\"fill: none; stroke: #2ca02c; stroke-width: 1.5; stroke-linecap: square\"/>\n   </g>\n   <g id=\"line2d_15\">\n    <path d=\"M 65.361932 141.338822 \nL 65.971879 187.471217 \nL 66.581826 202.848681 \nL 67.191773 187.471217 \nL 67.80172 178.244746 \nL 68.411668 156.716287 \nL 69.021615 167.700191 \nL 69.631562 129.80572 \nL 70.241509 141.338822 \nL 70.851456 150.565307 \nL 71.461403 149.726537 \nL 72.071351 156.716287 \nL 73.291245 154.519507 \nL 74.511139 164.405026 \nL 75.121086 163.048184 \nL 75.731034 156.716287 \nL 76.340981 155.906953 \nL 77.560875 163.306629 \nL 78.780769 177.442437 \nL 79.390717 175.938128 \nL 80.000664 167.172962 \nL 81.220558 165.259332 \nL 81.830505 167.700191 \nL 82.440452 166.791179 \nL 83.0504 172.093752 \nL 83.660347 174.077939 \nL 84.270294 173.054843 \nL 84.880241 177.685566 \nL 85.490188 179.330206 \nL 86.100135 178.244746 \nL 86.710083 174.65667 \nL 87.929977 172.9031 \nL 88.539924 174.459516 \nL 89.149871 178.244746 \nL 89.759819 179.594961 \nL 90.369766 178.684094 \nL 90.979713 179.961291 \nL 91.58966 179.083516 \nL 92.809554 181.453954 \nL 94.029449 187.471217 \nL 94.639396 184.646788 \nL 95.249343 183.780631 \nL 96.469237 189.245546 \nL 97.079185 188.34165 \nL 97.689132 185.762619 \nL 98.299079 184.954906 \nL 98.909026 185.823635 \nL 99.518973 188.280565 \nL 100.12892 189.06199 \nL 100.738868 185.125512 \nL 101.958762 183.689877 \nL 102.568709 184.494936 \nL 103.178656 180.880875 \nL 103.788603 180.26303 \nL 104.398551 181.083665 \nL 105.008498 183.277366 \nL 105.618445 182.651423 \nL 106.228392 180.687048 \nL 106.838339 181.453954 \nL 107.448286 179.562817 \nL 108.058234 181.62346 \nL 108.668181 181.06395 \nL 109.278128 183.047574 \nL 109.888075 181.237113 \nL 110.498022 180.705141 \nL 111.107969 182.615182 \nL 111.717917 182.079127 \nL 112.937811 183.383546 \nL 114.157705 182.345395 \nL 115.987547 184.176052 \nL 117.207441 181.034143 \nL 117.817388 181.638391 \nL 119.037283 180.732775 \nL 119.64723 179.269905 \nL 120.867124 180.451068 \nL 121.477071 180.030515 \nL 122.087018 180.600446 \nL 122.696966 182.129571 \nL 123.306913 180.743582 \nL 123.91686 182.23971 \nL 124.526807 182.763831 \nL 125.136754 182.345395 \nL 125.746701 183.780631 \nL 126.356649 184.273928 \nL 126.966596 182.948433 \nL 128.18649 183.922571 \nL 128.796437 183.517017 \nL 129.406384 183.989526 \nL 130.016332 185.315503 \nL 130.626279 183.199701 \nL 131.236226 184.508588 \nL 132.45612 185.393182 \nL 133.066067 184.99985 \nL 133.676015 185.429959 \nL 134.285962 185.0432 \nL 135.505856 185.880443 \nL 136.115803 187.076923 \nL 136.72575 185.907418 \nL 137.335698 186.308215 \nL 138.555592 185.564929 \nL 139.165539 186.714951 \nL 139.775486 185.595918 \nL 140.385433 183.750866 \nL 140.995381 183.411566 \nL 141.605328 184.542176 \nL 142.215275 183.475496 \nL 142.825222 183.146315 \nL 143.435169 181.391756 \nL 144.045116 181.793392 \nL 144.655064 181.484572 \nL 145.265011 180.481466 \nL 145.874958 180.880875 \nL 146.484905 180.58579 \nL 147.094852 181.661956 \nL 148.314747 179.72637 \nL 149.534641 180.50158 \nL 150.144588 179.562817 \nL 150.754535 180.600446 \nL 151.97443 181.341739 \nL 152.584377 181.06395 \nL 153.194324 181.426292 \nL 153.804271 179.887819 \nL 155.634113 182.82702 \nL 156.24406 182.550427 \nL 156.854007 183.499556 \nL 157.463954 183.22218 \nL 158.073901 184.154509 \nL 158.683848 183.277366 \nL 159.293796 183.602052 \nL 159.903743 182.739689 \nL 160.51369 181.300645 \nL 161.123637 181.631682 \nL 161.733584 180.797985 \nL 162.343531 181.128018 \nL 162.953479 180.307809 \nL 163.563426 180.636797 \nL 164.173373 180.395703 \nL 164.78332 180.720141 \nL 165.393267 180.481466 \nL 166.003214 180.801477 \nL 166.613162 180.012696 \nL 167.223109 180.880875 \nL 167.833056 181.192842 \nL 168.443003 180.415679 \nL 169.05295 180.187165 \nL 169.662897 180.497717 \nL 170.272845 181.338013 \nL 170.882792 181.638391 \nL 171.492739 180.353646 \nL 172.712633 180.95535 \nL 173.32258 180.214442 \nL 173.932528 180.512703 \nL 174.542475 181.320236 \nL 175.762369 179.866976 \nL 176.372316 180.160617 \nL 176.982263 180.952518 \nL 177.592211 180.738385 \nL 178.202158 181.022608 \nL 178.812105 180.8104 \nL 179.422052 180.109665 \nL 180.031999 180.392706 \nL 180.641946 180.187165 \nL 181.251894 179.500701 \nL 182.471788 180.061352 \nL 183.081735 179.386162 \nL 183.691682 180.137354 \nL 184.301629 180.410139 \nL 184.911577 180.211803 \nL 185.521524 180.947445 \nL 186.741418 181.474013 \nL 187.351365 180.815308 \nL 189.181207 181.591605 \nL 189.791154 180.495105 \nL 191.011048 181.899682 \nL 191.620995 181.704673 \nL 192.230943 181.070082 \nL 192.84089 180.880875 \nL 193.450837 179.818925 \nL 194.670731 180.323949 \nL 195.280678 180.141781 \nL 195.890626 179.532158 \nL 197.11052 180.030515 \nL 197.720467 179.853035 \nL 198.940361 180.341671 \nL 199.550309 179.330206 \nL 201.38015 178.8214 \nL 203.209992 180.764755 \nL 203.819939 180.187165 \nL 205.64978 180.880875 \nL 206.259727 179.915054 \nL 206.869675 180.14548 \nL 208.699516 179.652169 \nL 209.309463 180.26912 \nL 209.91941 180.493207 \nL 210.529358 180.32938 \nL 211.139305 180.9358 \nL 212.359199 181.371065 \nL 212.969146 180.826637 \nL 213.579093 180.664803 \nL 214.189041 180.880875 \nL 214.798988 180.720141 \nL 215.408935 180.934246 \nL 216.018882 179.658479 \nL 216.628829 179.875129 \nL 217.238776 179.72098 \nL 219.068618 181.453954 \nL 219.678565 181.296025 \nL 220.288512 181.501153 \nL 220.898459 181.344269 \nL 221.508407 181.547609 \nL 222.118354 182.106996 \nL 223.338248 182.503118 \nL 223.948195 182.345395 \nL 224.558142 181.132418 \nL 225.16809 180.279473 \nL 226.387984 180.68192 \nL 226.997931 180.534013 \nL 227.607878 180.041665 \nL 228.827773 178.381943 \nL 229.43772 178.244746 \nL 230.047667 178.449022 \nL 231.267561 176.82528 \nL 231.877508 176.695768 \nL 232.487456 176.902711 \nL 233.097403 177.442437 \nL 234.317297 177.846479 \nL 234.927244 177.384927 \nL 235.537191 176.597164 \nL 236.147139 176.143339 \nL 236.757086 176.674279 \nL 237.97698 176.425431 \nL 238.586927 176.626063 \nL 239.806822 175.737194 \nL 240.416769 174.977038 \nL 242.24661 175.581423 \nL 242.856557 175.464162 \nL 243.466505 175.662594 \nL 244.076452 176.173489 \nL 244.686399 176.368169 \nL 245.296346 176.873234 \nL 246.51624 176.634752 \nL 247.126188 176.82528 \nL 247.736135 176.399446 \nL 248.956029 176.778287 \nL 249.565976 176.661315 \nL 253.835606 177.947118 \nL 254.445554 177.829403 \nL 255.055501 178.008161 \nL 256.275395 177.186934 \nL 256.885342 177.658935 \nL 257.495289 177.543997 \nL 258.105237 177.720845 \nL 258.715184 177.316294 \nL 260.545025 177.84234 \nL 261.154972 177.442437 \nL 263.594761 178.131541 \nL 265.424603 177.796035 \nL 266.644497 177.018268 \nL 267.254444 176.354984 \nL 268.474338 177.250274 \nL 269.694233 177.58571 \nL 270.30418 177.478156 \nL 270.914127 177.098256 \nL 271.524074 177.537109 \nL 272.134021 177.702009 \nL 272.743969 177.324805 \nL 273.963863 177.114975 \nL 274.57381 177.279187 \nL 275.183757 176.907578 \nL 275.793704 176.804767 \nL 276.403652 176.436677 \nL 278.233493 176.135832 \nL 278.84344 175.773834 \nL 279.453387 175.938128 \nL 280.063335 176.362848 \nL 280.673282 176.524558 \nL 281.283229 176.945235 \nL 281.893176 176.845215 \nL 282.503123 177.262648 \nL 283.11307 176.904581 \nL 283.723018 177.062524 \nL 284.332965 176.963287 \nL 284.942912 176.609029 \nL 285.552859 176.511593 \nL 286.772753 176.82528 \nL 288.602595 176.535199 \nL 289.212542 176.690283 \nL 289.822489 177.094558 \nL 290.432436 176.99792 \nL 292.262278 177.453188 \nL 292.872225 177.109929 \nL 293.482172 177.014542 \nL 294.092119 176.674279 \nL 295.312014 177.463665 \nL 295.921961 177.611791 \nL 296.531908 176.787925 \nL 297.141855 176.937055 \nL 297.751802 176.360799 \nL 298.36175 176.751161 \nL 298.971697 176.899219 \nL 299.581644 176.806856 \nL 300.191591 176.953993 \nL 300.801538 176.623547 \nL 301.411485 176.532615 \nL 302.021433 176.20496 \nL 302.63138 176.115553 \nL 303.241327 176.26258 \nL 303.851274 175.938128 \nL 304.461221 175.380543 \nL 305.071168 175.528312 \nL 305.681116 175.208178 \nL 306.291063 175.122648 \nL 306.90101 175.502369 \nL 307.510957 175.184709 \nL 308.730851 175.938128 \nL 309.950746 176.225019 \nL 310.560693 176.596339 \nL 311.17064 176.73744 \nL 313.000482 176.476521 \nL 313.610429 176.616536 \nL 314.220376 176.981463 \nL 314.830323 176.894531 \nL 315.44027 177.256997 \nL 316.050217 177.393754 \nL 316.660165 177.753264 \nL 318.490006 177.490653 \nL 319.099953 177.1827 \nL 320.319848 177.45202 \nL 320.929795 177.366037 \nL 321.539742 177.499617 \nL 322.759636 177.328641 \nL 323.369583 177.461369 \nL 323.979531 177.159272 \nL 324.589478 177.291767 \nL 325.199425 176.991499 \nL 325.809372 176.908197 \nL 326.419319 176.395143 \nL 327.029266 176.313614 \nL 328.859108 176.710548 \nL 329.469055 176.629047 \nL 330.688949 176.043937 \nL 331.298897 176.386784 \nL 332.518791 176.647442 \nL 333.128738 176.567206 \nL 333.738685 176.90575 \nL 334.348632 177.034023 \nL 334.95858 176.953457 \nL 336.178474 176.378714 \nL 336.788421 176.300155 \nL 338.618263 176.683024 \nL 339.22821 177.014542 \nL 339.838157 176.935446 \nL 341.058051 177.185628 \nL 341.667998 177.513132 \nL 342.277946 177.433624 \nL 342.887893 177.152137 \nL 343.49784 176.669976 \nL 344.107787 176.79429 \nL 345.327681 176.238987 \nL 345.937629 176.563563 \nL 346.547576 176.687024 \nL 348.377417 176.458978 \nL 351.427153 177.066896 \nL 352.0371 176.991032 \nL 353.256995 176.450165 \nL 355.086836 176.228868 \nL 356.306731 176.468931 \nL 356.916678 176.20298 \nL 357.526625 176.322565 \nL 358.136572 176.249835 \nL 358.746519 176.560235 \nL 359.356466 176.487313 \nL 359.966414 176.795954 \nL 360.576361 176.722853 \nL 361.186308 176.839894 \nL 361.796255 176.388076 \nL 362.406202 176.694394 \nL 363.626097 176.173489 \nL 364.236044 176.478377 \nL 364.845991 176.219423 \nL 365.455938 176.335818 \nL 366.065885 176.264972 \nL 366.675832 176.008026 \nL 367.28578 176.124146 \nL 367.895727 176.054152 \nL 369.115621 176.284811 \nL 369.725568 176.214914 \nL 369.725568 176.214914 \n\" clip-path=\"url(#p07c601fdc1)\" style=\"fill: none; stroke: #d62728; stroke-width: 1.5; stroke-linecap: square\"/>\n   </g>\n   <g id=\"line2d_16\">\n    <path d=\"M 65.361932 233.603618 \nL 65.971879 141.338822 \nL 66.581826 172.093752 \nL 67.191773 187.471217 \nL 67.80172 196.697701 \nL 68.411668 202.848681 \nL 69.021615 207.242243 \nL 69.631562 210.537421 \nL 70.241509 223.351975 \nL 70.851456 215.150663 \nL 72.071351 233.603618 \nL 72.681298 240.700909 \nL 73.291245 227.013276 \nL 73.901192 221.301643 \nL 74.511139 199.004319 \nL 75.121086 184.757546 \nL 75.731034 192.597038 \nL 76.340981 189.899248 \nL 76.950928 178.244746 \nL 77.560875 176.487313 \nL 78.170822 170.695802 \nL 78.780769 169.419416 \nL 80.000664 181.935332 \nL 80.610611 187.471217 \nL 81.220558 189.179828 \nL 81.830505 184.176052 \nL 82.440452 189.06199 \nL 83.0504 187.471217 \nL 84.270294 190.354502 \nL 85.490188 187.471217 \nL 86.710083 190.034134 \nL 87.32003 193.705334 \nL 88.539924 191.019862 \nL 89.149871 185.164599 \nL 90.369766 183.077655 \nL 91.58966 185.374291 \nL 92.199607 188.496389 \nL 92.809554 187.471217 \nL 93.419502 184.526599 \nL 94.029449 185.549035 \nL 95.249343 191.161816 \nL 96.469237 189.245546 \nL 97.079185 191.82334 \nL 97.689132 190.88844 \nL 98.299079 188.309987 \nL 98.909026 187.471217 \nL 99.518973 185.0432 \nL 100.12892 184.289684 \nL 101.958762 186.714951 \nL 102.568709 184.494936 \nL 103.178656 185.274436 \nL 103.788603 184.587945 \nL 104.398551 186.76149 \nL 105.008498 184.675316 \nL 105.618445 181.27433 \nL 106.228392 182.043876 \nL 106.838339 180.116787 \nL 107.448286 180.880875 \nL 108.058234 180.323949 \nL 108.668181 177.219573 \nL 109.278128 175.464162 \nL 109.888075 176.249835 \nL 110.498022 175.784351 \nL 111.107969 176.545126 \nL 111.717917 178.484397 \nL 112.327864 179.191043 \nL 112.937811 178.711907 \nL 113.547758 180.551364 \nL 114.157705 178.928185 \nL 114.767652 176.219423 \nL 115.3776 178.022419 \nL 115.987547 177.58571 \nL 116.597494 173.902865 \nL 117.207441 175.669908 \nL 117.817388 176.335818 \nL 118.427335 173.84119 \nL 119.037283 172.439321 \nL 119.64723 173.118924 \nL 120.257177 171.755786 \nL 120.867124 171.425175 \nL 121.477071 170.109565 \nL 122.087018 171.766578 \nL 122.696966 171.446279 \nL 123.306913 172.093752 \nL 123.91686 173.679067 \nL 125.136754 173.025723 \nL 125.746701 171.786211 \nL 127.576543 173.586718 \nL 128.18649 175.050964 \nL 129.406384 176.155726 \nL 130.016332 177.554914 \nL 131.236226 178.583331 \nL 131.846173 178.244746 \nL 133.066067 175.938128 \nL 133.676015 176.448432 \nL 134.285962 176.140452 \nL 134.895909 175.035538 \nL 135.505856 173.154272 \nL 136.115803 173.670928 \nL 139.165539 172.345845 \nL 140.385433 174.822023 \nL 140.995381 173.81603 \nL 144.045116 176.115553 \nL 144.655064 177.258702 \nL 145.265011 177.685566 \nL 145.874958 176.718563 \nL 147.094852 177.561293 \nL 147.704799 178.651799 \nL 148.314747 178.37944 \nL 148.924694 178.779605 \nL 149.534641 177.846479 \nL 150.144588 178.244746 \nL 150.754535 179.291724 \nL 151.364482 177.724942 \nL 151.97443 176.82528 \nL 152.584377 177.219573 \nL 153.804271 179.255868 \nL 154.414218 179.625579 \nL 155.634113 179.111659 \nL 156.24406 180.090032 \nL 156.854007 180.444428 \nL 157.463954 180.187165 \nL 158.073901 178.12413 \nL 158.683848 179.083516 \nL 159.903743 179.782491 \nL 160.51369 179.53763 \nL 161.123637 178.711907 \nL 162.343531 180.551364 \nL 163.563426 181.20633 \nL 164.173373 180.395703 \nL 164.78332 180.720141 \nL 166.003214 180.245665 \nL 167.223109 181.979272 \nL 167.833056 180.646902 \nL 168.443003 180.958416 \nL 169.05295 180.726726 \nL 169.662897 181.034143 \nL 170.272845 179.738042 \nL 170.882792 180.047618 \nL 172.102686 178.559285 \nL 172.712633 178.870263 \nL 173.932528 177.420027 \nL 174.542475 177.73216 \nL 175.762369 177.332229 \nL 176.372316 178.143901 \nL 177.592211 178.743474 \nL 178.202158 179.534468 \nL 178.812105 179.823599 \nL 180.641946 182.129571 \nL 181.861841 182.665763 \nL 182.471788 181.97358 \nL 183.081735 181.764121 \nL 183.691682 181.083665 \nL 184.301629 181.351624 \nL 186.131471 180.748408 \nL 186.741418 181.474013 \nL 187.351365 181.733366 \nL 187.961312 182.4469 \nL 189.791154 183.195535 \nL 191.011048 182.791122 \nL 191.620995 183.03542 \nL 192.230943 183.718832 \nL 194.060784 184.42475 \nL 194.670731 183.356132 \nL 195.890626 182.965261 \nL 197.720467 184.931823 \nL 198.330414 185.154068 \nL 198.940361 184.954906 \nL 200.160256 185.393182 \nL 201.990097 184.80579 \nL 202.600044 185.021711 \nL 203.209992 184.829272 \nL 203.819939 184.233865 \nL 205.039833 184.663163 \nL 205.64978 184.076197 \nL 206.259727 184.289684 \nL 206.869675 184.105344 \nL 207.479622 183.528277 \nL 208.089569 184.133982 \nL 208.699516 183.952653 \nL 209.91941 185.145214 \nL 210.529358 185.347977 \nL 211.749252 184.982747 \nL 212.969146 186.142312 \nL 213.579093 184.824282 \nL 214.189041 183.893603 \nL 214.798988 184.095679 \nL 216.018882 183.750866 \nL 216.628829 184.321622 \nL 217.238776 184.149683 \nL 218.458671 184.542176 \nL 219.068618 183.277366 \nL 219.678565 182.749011 \nL 220.288512 181.862973 \nL 220.898459 182.425494 \nL 221.508407 182.624628 \nL 222.728301 182.305813 \nL 223.338248 181.438529 \nL 223.948195 181.284889 \nL 225.16809 181.682744 \nL 226.387984 181.378269 \nL 227.607878 180.38722 \nL 228.827773 180.782889 \nL 230.047667 180.491778 \nL 230.657614 180.687048 \nL 231.877508 180.399827 \nL 232.487456 179.922286 \nL 233.097403 179.782491 \nL 233.70735 179.976785 \nL 234.317297 179.837801 \nL 234.927244 180.361208 \nL 235.537191 180.551364 \nL 236.147139 180.083474 \nL 237.367033 180.46171 \nL 237.97698 180.323949 \nL 238.586927 179.863429 \nL 239.196874 180.05133 \nL 239.806822 179.916443 \nL 240.416769 179.141755 \nL 241.026716 179.010951 \nL 241.636663 179.517365 \nL 242.24661 179.703231 \nL 242.856557 180.203787 \nL 245.296346 180.925406 \nL 245.906293 180.481466 \nL 246.51624 180.969346 \nL 248.346082 181.493935 \nL 248.956029 181.971999 \nL 249.565976 181.837896 \nL 250.785871 182.177347 \nL 252.005765 181.310214 \nL 253.225659 181.051508 \nL 255.665448 181.723096 \nL 256.275395 182.182159 \nL 256.885342 182.345395 \nL 257.495289 182.215636 \nL 258.715184 182.538823 \nL 260.545025 182.153782 \nL 261.76492 182.472349 \nL 262.374867 182.060636 \nL 262.984814 181.935332 \nL 263.594761 181.527784 \nL 264.204708 181.687033 \nL 264.814655 181.28273 \nL 265.424603 181.441759 \nL 266.03455 181.879416 \nL 266.644497 181.478193 \nL 267.864391 181.791261 \nL 268.474338 180.841416 \nL 269.084286 180.998919 \nL 269.694233 180.606275 \nL 273.353916 179.917378 \nL 274.57381 180.229511 \nL 275.183757 180.651645 \nL 275.793704 180.804694 \nL 276.403652 180.690952 \nL 277.623546 180.994176 \nL 278.233493 180.880875 \nL 278.84344 181.031091 \nL 279.453387 180.918326 \nL 280.063335 181.06758 \nL 280.673282 180.434075 \nL 281.893176 179.696095 \nL 282.503123 178.813316 \nL 283.11307 178.966365 \nL 283.723018 179.375562 \nL 284.332965 179.526205 \nL 284.942912 179.93158 \nL 286.162806 179.718945 \nL 286.772753 180.120457 \nL 287.382701 179.003087 \nL 287.992648 179.152259 \nL 288.602595 179.049227 \nL 289.212542 179.448196 \nL 289.822489 179.094872 \nL 290.432436 179.242202 \nL 291.042384 179.140036 \nL 292.262278 178.442629 \nL 292.872225 178.836813 \nL 294.092119 179.12813 \nL 294.702067 179.02789 \nL 295.312014 178.440016 \nL 295.921961 178.829003 \nL 296.531908 178.973143 \nL 297.751802 178.776113 \nL 298.36175 178.437459 \nL 298.971697 178.8214 \nL 299.581644 178.484397 \nL 300.801538 178.769252 \nL 302.63138 178.481317 \nL 303.241327 178.150349 \nL 303.851274 178.291821 \nL 304.461221 178.667334 \nL 305.071168 178.572593 \nL 306.291063 179.316512 \nL 306.90101 179.22085 \nL 307.510957 179.357483 \nL 308.120904 178.799719 \nL 308.730851 179.167396 \nL 309.340799 179.303135 \nL 309.950746 179.208696 \nL 310.560693 179.343679 \nL 311.17064 179.249612 \nL 311.780587 179.383811 \nL 312.390534 178.835603 \nL 313.000482 178.97016 \nL 313.610429 178.651799 \nL 315.44027 179.052898 \nL 316.050217 178.96136 \nL 317.270112 179.225332 \nL 317.880059 179.134042 \nL 320.319848 179.654039 \nL 321.539742 179.033705 \nL 322.149689 179.163024 \nL 322.759636 179.073603 \nL 323.369583 179.202207 \nL 323.979531 178.896027 \nL 324.589478 178.158103 \nL 326.419319 179.191043 \nL 327.029266 178.888452 \nL 327.639214 178.801328 \nL 328.859108 179.054452 \nL 330.079002 178.881055 \nL 330.688949 178.583331 \nL 333.128738 178.244746 \nL 334.348632 178.49523 \nL 334.95858 178.411364 \nL 335.568527 178.120061 \nL 336.178474 178.244746 \nL 336.788421 177.95512 \nL 339.838157 177.549181 \nL 340.448104 177.877317 \nL 341.058051 177.796654 \nL 341.667998 177.91958 \nL 342.277946 177.839178 \nL 342.887893 177.556797 \nL 343.49784 177.679448 \nL 344.717734 177.521092 \nL 345.327681 176.840719 \nL 345.937629 176.7637 \nL 346.547576 176.886735 \nL 347.157523 176.411408 \nL 347.76747 176.136973 \nL 349.597312 176.506135 \nL 350.207259 176.233845 \nL 350.817206 176.159438 \nL 351.427153 176.281663 \nL 352.0371 176.207476 \nL 352.647048 176.524558 \nL 353.256995 175.669908 \nL 354.476889 175.913849 \nL 355.086836 175.841201 \nL 355.696783 175.382014 \nL 356.306731 175.696842 \nL 356.916678 175.432499 \nL 357.526625 175.553692 \nL 358.136572 175.866196 \nL 358.746519 175.985973 \nL 360.576361 175.771661 \nL 361.186308 176.080508 \nL 361.796255 176.009167 \nL 362.406202 176.127184 \nL 363.016149 175.867365 \nL 363.626097 175.985203 \nL 364.236044 175.914632 \nL 364.845991 175.656834 \nL 365.455938 175.587211 \nL 366.065885 175.704665 \nL 366.675832 175.635235 \nL 367.895727 175.868506 \nL 368.505674 175.799172 \nL 369.115621 175.360319 \nL 369.725568 175.476797 \nL 369.725568 175.476797 \n\" clip-path=\"url(#p07c601fdc1)\" style=\"fill: none; stroke: #9467bd; stroke-width: 1.5; stroke-linecap: square\"/>\n   </g>\n   <g id=\"line2d_17\">\n    <path d=\"M 65.361932 233.603618 \nL 67.80172 233.603618 \nL 68.411668 218.226153 \nL 69.021615 207.242243 \nL 69.631562 210.537421 \nL 70.241509 202.848681 \nL 70.851456 187.471217 \nL 71.461403 183.277366 \nL 72.071351 172.093752 \nL 72.681298 169.727988 \nL 73.901192 178.244746 \nL 74.511139 181.704673 \nL 75.121086 190.184887 \nL 75.731034 177.219573 \nL 76.340981 180.187165 \nL 76.950928 187.471217 \nL 78.170822 191.665081 \nL 79.390717 187.471217 \nL 80.610611 183.922571 \nL 81.220558 185.762619 \nL 81.830505 180.880875 \nL 82.440452 179.517365 \nL 84.270294 184.587945 \nL 85.490188 192.898557 \nL 86.100135 188.789288 \nL 86.710083 192.597038 \nL 87.32003 188.718043 \nL 87.929977 182.615182 \nL 89.149871 180.551364 \nL 90.369766 183.077655 \nL 90.979713 186.398378 \nL 91.58966 187.471217 \nL 93.419502 184.526599 \nL 94.029449 177.86031 \nL 94.639396 180.880875 \nL 95.249343 178.244746 \nL 95.85929 177.521092 \nL 97.079185 179.637417 \nL 98.299079 184.954906 \nL 98.909026 182.52847 \nL 99.518973 181.805834 \nL 100.12892 184.289684 \nL 100.738868 185.125512 \nL 101.348815 184.395726 \nL 101.958762 180.664803 \nL 102.568709 180.030515 \nL 103.178656 182.345395 \nL 104.398551 178.244746 \nL 105.008498 180.481466 \nL 106.838339 182.791122 \nL 108.058234 181.62346 \nL 108.668181 182.345395 \nL 109.278128 177.991966 \nL 109.888075 179.990286 \nL 110.498022 180.705141 \nL 111.107969 177.759134 \nL 111.717917 177.286144 \nL 112.327864 179.191043 \nL 112.937811 178.711907 \nL 113.547758 177.091437 \nL 114.157705 177.78912 \nL 114.767652 176.219423 \nL 115.3776 171.352679 \nL 115.987547 168.798588 \nL 117.207441 172.451379 \nL 117.817388 169.972726 \nL 118.427335 170.695802 \nL 119.037283 170.365947 \nL 121.477071 173.085846 \nL 122.696966 172.417488 \nL 123.306913 174.015933 \nL 123.91686 173.679067 \nL 124.526807 175.232018 \nL 125.136754 175.821623 \nL 126.356649 175.138803 \nL 127.576543 172.690933 \nL 128.18649 173.276634 \nL 128.796437 172.093752 \nL 129.406384 170.062765 \nL 130.016332 169.794325 \nL 131.846173 166.501952 \nL 132.45612 167.106474 \nL 133.066067 168.523988 \nL 135.505856 167.586573 \nL 136.72575 168.705497 \nL 137.335698 167.700191 \nL 137.945645 167.480517 \nL 139.165539 168.564505 \nL 139.775486 168.343154 \nL 140.385433 168.869448 \nL 140.995381 170.125444 \nL 142.825222 169.450749 \nL 144.045116 171.857181 \nL 144.655064 171.624212 \nL 146.484905 175.077443 \nL 147.094852 175.510975 \nL 148.314747 175.01211 \nL 148.924694 174.099511 \nL 149.534641 173.86382 \nL 151.97443 175.53487 \nL 152.584377 174.015933 \nL 153.194324 173.154272 \nL 155.024165 172.50937 \nL 155.634113 172.919392 \nL 156.24406 173.939052 \nL 157.463954 174.724106 \nL 158.073901 175.711979 \nL 158.683848 176.087905 \nL 159.293796 175.268465 \nL 159.903743 176.233845 \nL 161.123637 175.792133 \nL 161.733584 176.73601 \nL 162.343531 177.091437 \nL 163.563426 178.928185 \nL 164.78332 178.469782 \nL 165.393267 177.685566 \nL 166.003214 177.466607 \nL 166.613162 176.697789 \nL 167.223109 176.487313 \nL 167.833056 176.82528 \nL 168.443003 176.073813 \nL 170.272845 175.471462 \nL 170.882792 176.335818 \nL 171.492739 176.663061 \nL 172.102686 176.46236 \nL 172.712633 175.742652 \nL 173.32258 175.549361 \nL 173.932528 174.327351 \nL 174.542475 174.144083 \nL 175.152422 174.982345 \nL 175.762369 175.304431 \nL 176.372316 175.118826 \nL 176.982263 175.436678 \nL 177.592211 176.249835 \nL 178.202158 175.566093 \nL 178.812105 174.396259 \nL 179.422052 174.711196 \nL 180.031999 173.070103 \nL 180.641946 172.417488 \nL 181.251894 172.254775 \nL 182.471788 170.022179 \nL 183.691682 169.727988 \nL 184.301629 169.112412 \nL 184.911577 169.908121 \nL 185.521524 169.763844 \nL 186.131471 170.084639 \nL 186.741418 168.556944 \nL 187.351365 168.880556 \nL 187.961312 168.744212 \nL 188.57126 167.245692 \nL 189.791154 167.893082 \nL 190.401101 167.764176 \nL 191.011048 168.082248 \nL 192.230943 169.592153 \nL 192.84089 169.896971 \nL 193.450837 170.636174 \nL 194.060784 170.062765 \nL 194.670731 170.794255 \nL 195.280678 171.087759 \nL 195.890626 171.807659 \nL 196.500573 172.093752 \nL 197.720467 170.965135 \nL 198.330414 169.565948 \nL 198.940361 169.437647 \nL 199.550309 170.145476 \nL 200.770203 169.059631 \nL 201.38015 168.935881 \nL 201.990097 169.223293 \nL 202.600044 169.916412 \nL 203.209992 169.79053 \nL 203.819939 170.475069 \nL 204.429886 169.139139 \nL 205.039833 169.018262 \nL 206.259727 169.575036 \nL 206.869675 170.245826 \nL 208.089569 169.99981 \nL 208.699516 170.269309 \nL 209.91941 168.475525 \nL 210.529358 168.36199 \nL 211.749252 168.903407 \nL 212.359199 168.408253 \nL 214.189041 169.206562 \nL 214.798988 167.968094 \nL 215.408935 167.860278 \nL 216.018882 168.125377 \nL 217.238776 167.172962 \nL 217.848724 167.437635 \nL 218.458671 166.96793 \nL 219.678565 166.766129 \nL 220.288512 167.390065 \nL 220.898459 167.648702 \nL 221.508407 166.828314 \nL 222.118354 166.729531 \nL 222.728301 165.919028 \nL 224.558142 165.637568 \nL 225.778037 166.851439 \nL 226.387984 167.10334 \nL 226.997931 166.65962 \nL 228.217825 167.1592 \nL 229.43772 166.96793 \nL 230.047667 167.213823 \nL 230.657614 167.797118 \nL 231.267561 167.362224 \nL 231.877508 167.940721 \nL 232.487456 168.179492 \nL 233.70735 167.319521 \nL 234.317297 167.557962 \nL 235.537191 167.37068 \nL 236.147139 167.606384 \nL 236.757086 166.858877 \nL 237.367033 166.7687 \nL 238.586927 167.237718 \nL 239.196874 167.147156 \nL 240.416769 167.608667 \nL 241.026716 167.198507 \nL 241.636663 167.109334 \nL 242.24661 167.654903 \nL 243.466505 167.475265 \nL 244.076452 167.072543 \nL 244.686399 167.298074 \nL 245.906293 167.123261 \nL 247.126188 167.567943 \nL 248.346082 167.393667 \nL 248.956029 167.612901 \nL 250.175923 167.440055 \nL 250.785871 167.656979 \nL 251.395818 167.570968 \nL 252.005765 168.086593 \nL 252.615712 167.700191 \nL 254.445554 167.445912 \nL 255.055501 167.657955 \nL 255.665448 168.16342 \nL 256.275395 168.077986 \nL 256.885342 168.286001 \nL 258.105237 168.115987 \nL 259.325131 168.526573 \nL 260.545025 169.506898 \nL 262.374867 170.100381 \nL 263.594761 169.923932 \nL 264.204708 170.400827 \nL 264.814655 170.593513 \nL 266.03455 170.416212 \nL 266.644497 170.885861 \nL 267.254444 171.074766 \nL 267.864391 170.708395 \nL 269.084286 171.083895 \nL 269.694233 170.995368 \nL 271.524074 171.54942 \nL 272.134021 171.189195 \nL 273.353916 171.554191 \nL 274.57381 170.305674 \nL 275.183757 169.954289 \nL 275.793704 169.871578 \nL 276.403652 170.321141 \nL 277.623546 170.683786 \nL 278.233493 171.127176 \nL 280.063335 171.65813 \nL 281.893176 171.402641 \nL 282.503123 171.576862 \nL 283.11307 171.234675 \nL 284.332965 171.581179 \nL 284.942912 171.241825 \nL 285.552859 171.414094 \nL 286.162806 171.331231 \nL 286.772753 171.502318 \nL 288.602595 171.255752 \nL 289.822489 170.593513 \nL 291.042384 170.435803 \nL 291.652331 170.605611 \nL 293.482172 170.371474 \nL 294.092119 170.78503 \nL 294.702067 170.706924 \nL 295.312014 171.117414 \nL 295.921961 171.038841 \nL 296.531908 171.20348 \nL 297.141855 171.609433 \nL 297.751802 171.77172 \nL 298.36175 171.451352 \nL 298.971697 171.853483 \nL 299.581644 172.013873 \nL 300.191591 171.934406 \nL 300.801538 171.616939 \nL 301.411485 172.014492 \nL 302.021433 171.93563 \nL 302.63138 171.147455 \nL 303.241327 171.071219 \nL 303.851274 171.230729 \nL 304.461221 171.624212 \nL 305.071168 171.781523 \nL 306.291063 171.627773 \nL 306.90101 172.016293 \nL 307.510957 172.171032 \nL 308.120904 172.093752 \nL 308.730851 171.324879 \nL 309.340799 171.02002 \nL 309.950746 171.175694 \nL 310.560693 171.559553 \nL 312.390534 172.018011 \nL 313.000482 171.489243 \nL 313.610429 171.189195 \nL 314.220376 171.341804 \nL 314.830323 170.818549 \nL 315.44027 170.522337 \nL 316.050217 170.451504 \nL 317.270112 169.865143 \nL 317.880059 170.018728 \nL 318.490006 170.393362 \nL 319.099953 170.544953 \nL 319.7099 170.475069 \nL 320.929795 171.215042 \nL 321.539742 171.363238 \nL 322.149689 171.292089 \nL 323.369583 171.586005 \nL 323.979531 171.949021 \nL 324.589478 171.877171 \nL 325.199425 171.58958 \nL 325.809372 171.734475 \nL 329.469055 171.314252 \nL 330.079002 171.457443 \nL 330.688949 171.38837 \nL 331.298897 171.108478 \nL 331.908844 171.040505 \nL 332.518791 171.393182 \nL 333.128738 171.534572 \nL 333.738685 171.466104 \nL 335.568527 171.885957 \nL 336.178474 171.81731 \nL 337.398368 172.093752 \nL 338.618263 171.545791 \nL 339.22821 171.683688 \nL 339.838157 171.616403 \nL 340.448104 171.345296 \nL 341.058051 171.279056 \nL 341.667998 170.806656 \nL 342.277946 170.741887 \nL 342.887893 170.879743 \nL 343.49784 171.218892 \nL 344.107787 171.153655 \nL 345.327681 171.826316 \nL 345.937629 171.760185 \nL 346.547576 171.894055 \nL 347.157523 171.828062 \nL 347.76747 171.961189 \nL 348.377417 171.895333 \nL 348.987365 171.631774 \nL 349.597312 171.566908 \nL 350.207259 171.896612 \nL 350.817206 172.028185 \nL 351.427153 171.766578 \nL 352.0371 171.897863 \nL 352.647048 171.637645 \nL 353.256995 171.768654 \nL 353.866942 172.093752 \nL 355.086836 172.352197 \nL 355.696783 172.28718 \nL 356.306731 172.415467 \nL 356.916678 172.735822 \nL 357.526625 172.670406 \nL 358.136572 172.221641 \nL 358.746519 171.966138 \nL 359.356466 172.284788 \nL 359.966414 171.839583 \nL 361.186308 172.093752 \nL 362.406202 171.967705 \nL 363.016149 172.093752 \nL 363.626097 172.03099 \nL 364.236044 171.780574 \nL 364.845991 171.906222 \nL 365.455938 171.84423 \nL 366.065885 171.969245 \nL 367.28578 171.845729 \nL 367.895727 171.969988 \nL 369.115621 171.847227 \nL 369.725568 172.155263 \nL 369.725568 172.155263 \n\" clip-path=\"url(#p07c601fdc1)\" style=\"fill: none; stroke: #8c564b; stroke-width: 1.5; stroke-linecap: square\"/>\n   </g>\n   <g id=\"line2d_18\">\n    <path d=\"M 50.14375 171.786207 \nL 384.94375 171.786207 \n\" clip-path=\"url(#p07c601fdc1)\" style=\"fill: none; stroke-dasharray: 5.55,2.4; stroke-dashoffset: 0; stroke: #000000; stroke-width: 1.5\"/>\n   </g>\n   <g id=\"patch_3\">\n    <path d=\"M 50.14375 251.82 \nL 50.14375 7.2 \n\" style=\"fill: none; stroke: #000000; stroke-width: 0.8; stroke-linejoin: miter; stroke-linecap: square\"/>\n   </g>\n   <g id=\"patch_4\">\n    <path d=\"M 384.94375 251.82 \nL 384.94375 7.2 \n\" style=\"fill: none; stroke: #000000; stroke-width: 0.8; stroke-linejoin: miter; stroke-linecap: square\"/>\n   </g>\n   <g id=\"patch_5\">\n    <path d=\"M 50.14375 251.82 \nL 384.94375 251.82 \n\" style=\"fill: none; stroke: #000000; stroke-width: 0.8; stroke-linejoin: miter; stroke-linecap: square\"/>\n   </g>\n   <g id=\"patch_6\">\n    <path d=\"M 50.14375 7.2 \nL 384.94375 7.2 \n\" style=\"fill: none; stroke: #000000; stroke-width: 0.8; stroke-linejoin: miter; stroke-linecap: square\"/>\n   </g>\n   <g id=\"legend_1\">\n    <g id=\"patch_7\">\n     <path d=\"M 302.089063 103.26875 \nL 377.94375 103.26875 \nQ 379.94375 103.26875 379.94375 101.26875 \nL 379.94375 14.2 \nQ 379.94375 12.2 377.94375 12.2 \nL 302.089063 12.2 \nQ 300.089063 12.2 300.089063 14.2 \nL 300.089063 101.26875 \nQ 300.089063 103.26875 302.089063 103.26875 \nz\n\" style=\"fill: #ffffff; opacity: 0.8; stroke: #cccccc; stroke-linejoin: miter\"/>\n    </g>\n    <g id=\"line2d_19\">\n     <path d=\"M 304.089063 20.298437 \nL 314.089063 20.298437 \nL 324.089063 20.298437 \n\" style=\"fill: none; stroke: #1f77b4; stroke-width: 1.5; stroke-linecap: square\"/>\n    </g>\n    <g id=\"text_14\">\n     <!-- P(die=1) -->\n     <g transform=\"translate(332.089063 23.798437)scale(0.1 -0.1)\">\n      <defs>\n       <path id=\"DejaVuSans-28\" d=\"M 1984 4856 \nQ 1566 4138 1362 3434 \nQ 1159 2731 1159 2009 \nQ 1159 1288 1364 580 \nQ 1569 -128 1984 -844 \nL 1484 -844 \nQ 1016 -109 783 600 \nQ 550 1309 550 2009 \nQ 550 2706 781 3412 \nQ 1013 4119 1484 4856 \nL 1984 4856 \nz\n\" transform=\"scale(0.015625)\"/>\n       <path id=\"DejaVuSans-3d\" d=\"M 678 2906 \nL 4684 2906 \nL 4684 2381 \nL 678 2381 \nL 678 2906 \nz\nM 678 1631 \nL 4684 1631 \nL 4684 1100 \nL 678 1100 \nL 678 1631 \nz\n\" transform=\"scale(0.015625)\"/>\n       <path id=\"DejaVuSans-29\" d=\"M 513 4856 \nL 1013 4856 \nQ 1481 4119 1714 3412 \nQ 1947 2706 1947 2009 \nQ 1947 1309 1714 600 \nQ 1481 -109 1013 -844 \nL 513 -844 \nQ 928 -128 1133 580 \nQ 1338 1288 1338 2009 \nQ 1338 2731 1133 3434 \nQ 928 4138 513 4856 \nz\n\" transform=\"scale(0.015625)\"/>\n      </defs>\n      <use xlink:href=\"#DejaVuSans-50\"/>\n      <use xlink:href=\"#DejaVuSans-28\" x=\"60.302734\"/>\n      <use xlink:href=\"#DejaVuSans-64\" x=\"99.316406\"/>\n      <use xlink:href=\"#DejaVuSans-69\" x=\"162.792969\"/>\n      <use xlink:href=\"#DejaVuSans-65\" x=\"190.576172\"/>\n      <use xlink:href=\"#DejaVuSans-3d\" x=\"252.099609\"/>\n      <use xlink:href=\"#DejaVuSans-31\" x=\"335.888672\"/>\n      <use xlink:href=\"#DejaVuSans-29\" x=\"399.511719\"/>\n     </g>\n    </g>\n    <g id=\"line2d_20\">\n     <path d=\"M 304.089063 34.976562 \nL 314.089063 34.976562 \nL 324.089063 34.976562 \n\" style=\"fill: none; stroke: #ff7f0e; stroke-width: 1.5; stroke-linecap: square\"/>\n    </g>\n    <g id=\"text_15\">\n     <!-- P(die=2) -->\n     <g transform=\"translate(332.089063 38.476562)scale(0.1 -0.1)\">\n      <use xlink:href=\"#DejaVuSans-50\"/>\n      <use xlink:href=\"#DejaVuSans-28\" x=\"60.302734\"/>\n      <use xlink:href=\"#DejaVuSans-64\" x=\"99.316406\"/>\n      <use xlink:href=\"#DejaVuSans-69\" x=\"162.792969\"/>\n      <use xlink:href=\"#DejaVuSans-65\" x=\"190.576172\"/>\n      <use xlink:href=\"#DejaVuSans-3d\" x=\"252.099609\"/>\n      <use xlink:href=\"#DejaVuSans-32\" x=\"335.888672\"/>\n      <use xlink:href=\"#DejaVuSans-29\" x=\"399.511719\"/>\n     </g>\n    </g>\n    <g id=\"line2d_21\">\n     <path d=\"M 304.089063 49.654687 \nL 314.089063 49.654687 \nL 324.089063 49.654687 \n\" style=\"fill: none; stroke: #2ca02c; stroke-width: 1.5; stroke-linecap: square\"/>\n    </g>\n    <g id=\"text_16\">\n     <!-- P(die=3) -->\n     <g transform=\"translate(332.089063 53.154687)scale(0.1 -0.1)\">\n      <use xlink:href=\"#DejaVuSans-50\"/>\n      <use xlink:href=\"#DejaVuSans-28\" x=\"60.302734\"/>\n      <use xlink:href=\"#DejaVuSans-64\" x=\"99.316406\"/>\n      <use xlink:href=\"#DejaVuSans-69\" x=\"162.792969\"/>\n      <use xlink:href=\"#DejaVuSans-65\" x=\"190.576172\"/>\n      <use xlink:href=\"#DejaVuSans-3d\" x=\"252.099609\"/>\n      <use xlink:href=\"#DejaVuSans-33\" x=\"335.888672\"/>\n      <use xlink:href=\"#DejaVuSans-29\" x=\"399.511719\"/>\n     </g>\n    </g>\n    <g id=\"line2d_22\">\n     <path d=\"M 304.089063 64.332812 \nL 314.089063 64.332812 \nL 324.089063 64.332812 \n\" style=\"fill: none; stroke: #d62728; stroke-width: 1.5; stroke-linecap: square\"/>\n    </g>\n    <g id=\"text_17\">\n     <!-- P(die=4) -->\n     <g transform=\"translate(332.089063 67.832812)scale(0.1 -0.1)\">\n      <use xlink:href=\"#DejaVuSans-50\"/>\n      <use xlink:href=\"#DejaVuSans-28\" x=\"60.302734\"/>\n      <use xlink:href=\"#DejaVuSans-64\" x=\"99.316406\"/>\n      <use xlink:href=\"#DejaVuSans-69\" x=\"162.792969\"/>\n      <use xlink:href=\"#DejaVuSans-65\" x=\"190.576172\"/>\n      <use xlink:href=\"#DejaVuSans-3d\" x=\"252.099609\"/>\n      <use xlink:href=\"#DejaVuSans-34\" x=\"335.888672\"/>\n      <use xlink:href=\"#DejaVuSans-29\" x=\"399.511719\"/>\n     </g>\n    </g>\n    <g id=\"line2d_23\">\n     <path d=\"M 304.089063 79.010937 \nL 314.089063 79.010937 \nL 324.089063 79.010937 \n\" style=\"fill: none; stroke: #9467bd; stroke-width: 1.5; stroke-linecap: square\"/>\n    </g>\n    <g id=\"text_18\">\n     <!-- P(die=5) -->\n     <g transform=\"translate(332.089063 82.510937)scale(0.1 -0.1)\">\n      <use xlink:href=\"#DejaVuSans-50\"/>\n      <use xlink:href=\"#DejaVuSans-28\" x=\"60.302734\"/>\n      <use xlink:href=\"#DejaVuSans-64\" x=\"99.316406\"/>\n      <use xlink:href=\"#DejaVuSans-69\" x=\"162.792969\"/>\n      <use xlink:href=\"#DejaVuSans-65\" x=\"190.576172\"/>\n      <use xlink:href=\"#DejaVuSans-3d\" x=\"252.099609\"/>\n      <use xlink:href=\"#DejaVuSans-35\" x=\"335.888672\"/>\n      <use xlink:href=\"#DejaVuSans-29\" x=\"399.511719\"/>\n     </g>\n    </g>\n    <g id=\"line2d_24\">\n     <path d=\"M 304.089063 93.689062 \nL 314.089063 93.689062 \nL 324.089063 93.689062 \n\" style=\"fill: none; stroke: #8c564b; stroke-width: 1.5; stroke-linecap: square\"/>\n    </g>\n    <g id=\"text_19\">\n     <!-- P(die=6) -->\n     <g transform=\"translate(332.089063 97.189062)scale(0.1 -0.1)\">\n      <defs>\n       <path id=\"DejaVuSans-36\" d=\"M 2113 2584 \nQ 1688 2584 1439 2293 \nQ 1191 2003 1191 1497 \nQ 1191 994 1439 701 \nQ 1688 409 2113 409 \nQ 2538 409 2786 701 \nQ 3034 994 3034 1497 \nQ 3034 2003 2786 2293 \nQ 2538 2584 2113 2584 \nz\nM 3366 4563 \nL 3366 3988 \nQ 3128 4100 2886 4159 \nQ 2644 4219 2406 4219 \nQ 1781 4219 1451 3797 \nQ 1122 3375 1075 2522 \nQ 1259 2794 1537 2939 \nQ 1816 3084 2150 3084 \nQ 2853 3084 3261 2657 \nQ 3669 2231 3669 1497 \nQ 3669 778 3244 343 \nQ 2819 -91 2113 -91 \nQ 1303 -91 875 529 \nQ 447 1150 447 2328 \nQ 447 3434 972 4092 \nQ 1497 4750 2381 4750 \nQ 2619 4750 2861 4703 \nQ 3103 4656 3366 4563 \nz\n\" transform=\"scale(0.015625)\"/>\n      </defs>\n      <use xlink:href=\"#DejaVuSans-50\"/>\n      <use xlink:href=\"#DejaVuSans-28\" x=\"60.302734\"/>\n      <use xlink:href=\"#DejaVuSans-64\" x=\"99.316406\"/>\n      <use xlink:href=\"#DejaVuSans-69\" x=\"162.792969\"/>\n      <use xlink:href=\"#DejaVuSans-65\" x=\"190.576172\"/>\n      <use xlink:href=\"#DejaVuSans-3d\" x=\"252.099609\"/>\n      <use xlink:href=\"#DejaVuSans-36\" x=\"335.888672\"/>\n      <use xlink:href=\"#DejaVuSans-29\" x=\"399.511719\"/>\n     </g>\n    </g>\n   </g>\n  </g>\n </g>\n <defs>\n  <clipPath id=\"p07c601fdc1\">\n   <rect x=\"50.14375\" y=\"7.2\" width=\"334.8\" height=\"244.62\"/>\n  </clipPath>\n </defs>\n</svg>\n"
          },
          "metadata": {
            "needs_background": "light"
          }
        }
      ]
    },
    {
      "cell_type": "code",
      "source": [
        " counts = multinomial.Multinomial(10, fair_probes).sample((500,))\n",
        " cum_counts = counts.cumsum(dim=0)\n",
        " cum_counts, cum_counts / cum_counts.sum(dim=1, keepdims=True)"
      ],
      "metadata": {
        "colab": {
          "base_uri": "https://localhost:8080/"
        },
        "id": "8-nCR_8HDO_5",
        "outputId": "550b3e0d-28fd-4c73-d4fc-8e075f3acb30"
      },
      "execution_count": 11,
      "outputs": [
        {
          "output_type": "execute_result",
          "data": {
            "text/plain": [
              "(tensor([[  3.,   0.,   0.,   0.,   4.,   3.],\n",
              "         [  5.,   1.,   0.,   2.,   8.,   4.],\n",
              "         [  7.,   1.,   1.,   4.,  10.,   7.],\n",
              "         ...,\n",
              "         [849., 841., 809., 815., 835., 831.],\n",
              "         [849., 844., 810., 820., 836., 831.],\n",
              "         [850., 846., 812., 824., 837., 831.]]),\n",
              " tensor([[0.3000, 0.0000, 0.0000, 0.0000, 0.4000, 0.3000],\n",
              "         [0.2500, 0.0500, 0.0000, 0.1000, 0.4000, 0.2000],\n",
              "         [0.2333, 0.0333, 0.0333, 0.1333, 0.3333, 0.2333],\n",
              "         ...,\n",
              "         [0.1705, 0.1689, 0.1624, 0.1637, 0.1677, 0.1669],\n",
              "         [0.1701, 0.1691, 0.1623, 0.1643, 0.1675, 0.1665],\n",
              "         [0.1700, 0.1692, 0.1624, 0.1648, 0.1674, 0.1662]]))"
            ]
          },
          "metadata": {},
          "execution_count": 11
        }
      ]
    }
  ]
}