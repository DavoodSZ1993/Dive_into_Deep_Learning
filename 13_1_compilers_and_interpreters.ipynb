{
  "nbformat": 4,
  "nbformat_minor": 0,
  "metadata": {
    "colab": {
      "provenance": [],
      "authorship_tag": "ABX9TyM4g2hRRSvCsNsCYPt97KtH",
      "include_colab_link": true
    },
    "kernelspec": {
      "name": "python3",
      "display_name": "Python 3"
    },
    "language_info": {
      "name": "python"
    }
  },
  "cells": [
    {
      "cell_type": "markdown",
      "metadata": {
        "id": "view-in-github",
        "colab_type": "text"
      },
      "source": [
        "<a href=\"https://colab.research.google.com/github/DavoodSZ1993/Dive_into_Deep_Learning/blob/main/13_1_compilers_and_interpreters.ipynb\" target=\"_parent\"><img src=\"https://colab.research.google.com/assets/colab-badge.svg\" alt=\"Open In Colab\"/></a>"
      ]
    },
    {
      "cell_type": "code",
      "execution_count": 1,
      "metadata": {
        "colab": {
          "base_uri": "https://localhost:8080/"
        },
        "id": "fprrFqlnngCc",
        "outputId": "c4f90106-dd69-495a-99ce-5d49ebc0ab61"
      },
      "outputs": [
        {
          "output_type": "stream",
          "name": "stdout",
          "text": [
            "\u001b[2K     \u001b[90m━━━━━━━━━━━━━━━━━━━━━━━━━━━━━━━━━━━━━━━━\u001b[0m \u001b[32m93.0/93.0 kB\u001b[0m \u001b[31m2.2 MB/s\u001b[0m eta \u001b[36m0:00:00\u001b[0m\n",
            "\u001b[2K     \u001b[90m━━━━━━━━━━━━━━━━━━━━━━━━━━━━━━━━━━━━━━━\u001b[0m \u001b[32m121.9/121.9 kB\u001b[0m \u001b[31m7.7 MB/s\u001b[0m eta \u001b[36m0:00:00\u001b[0m\n",
            "\u001b[2K     \u001b[90m━━━━━━━━━━━━━━━━━━━━━━━━━━━━━━━━━━━━━━━━\u001b[0m \u001b[32m84.9/84.9 kB\u001b[0m \u001b[31m5.9 MB/s\u001b[0m eta \u001b[36m0:00:00\u001b[0m\n",
            "\u001b[2K     \u001b[90m━━━━━━━━━━━━━━━━━━━━━━━━━━━━━━━━━━━━━━━━\u001b[0m \u001b[32m1.6/1.6 MB\u001b[0m \u001b[31m28.7 MB/s\u001b[0m eta \u001b[36m0:00:00\u001b[0m\n",
            "\u001b[?25h"
          ]
        }
      ],
      "source": [
        "!pip install d2l==1.0.0-alpha1.post0 --quiet"
      ]
    },
    {
      "cell_type": "markdown",
      "source": [
        "## 13.1 Compilers and Interpreters"
      ],
      "metadata": {
        "id": "vYJnxSM9pUz8"
      }
    },
    {
      "cell_type": "code",
      "source": [
        "def add(a, b):\n",
        "  return a + b\n",
        "\n",
        "def fancy_func(a, b, c, d):\n",
        "  e = add(a, b)\n",
        "  f = add(c, d)\n",
        "  g = add(e, f)\n",
        "  return g"
      ],
      "metadata": {
        "id": "cx5-OC-kpYY8"
      },
      "execution_count": 2,
      "outputs": []
    },
    {
      "cell_type": "code",
      "source": [
        "print(fancy_func(1, 2, 3, 4))"
      ],
      "metadata": {
        "colab": {
          "base_uri": "https://localhost:8080/"
        },
        "id": "ktdSnk5gqKg2",
        "outputId": "cb9ce338-1fd9-497c-9306-160c277afe76"
      },
      "execution_count": 3,
      "outputs": [
        {
          "output_type": "stream",
          "name": "stdout",
          "text": [
            "10\n"
          ]
        }
      ]
    },
    {
      "cell_type": "markdown",
      "source": [
        "### 13.1.1 Symbolic Programming"
      ],
      "metadata": {
        "id": "8lvTwm0nd1u3"
      }
    },
    {
      "cell_type": "code",
      "source": [
        "def add_():\n",
        "  return  '''\n",
        "def add(a, b):\n",
        "  return a + b\n",
        "'''\n",
        "\n",
        "def fancy_func_():\n",
        "  return '''\n",
        "def fancy_func(a, b, c, d):\n",
        "  e = add(a, b)\n",
        "  f = add(c, d)\n",
        "  g = add(e, f)\n",
        "  return g\n",
        "'''\n",
        "\n",
        "def evoke_():\n",
        "  return add_() + fancy_func_() + 'print(fancy_func(1, 2, 3, 4))'\n",
        "\n",
        "prog = evoke_()\n",
        "print(prog)\n",
        "y = compile(prog, '', 'exec')\n",
        "exec(y)\n"
      ],
      "metadata": {
        "colab": {
          "base_uri": "https://localhost:8080/"
        },
        "id": "9WJdh0QGeA1g",
        "outputId": "e0d358b1-b2b0-493e-c78d-b69839fbee6b"
      },
      "execution_count": 5,
      "outputs": [
        {
          "output_type": "stream",
          "name": "stdout",
          "text": [
            "\n",
            "def add(a, b):\n",
            "  return a + b\n",
            "\n",
            "def fancy_func(a, b, c, d):\n",
            "  e = add(a, b)\n",
            "  f = add(c, d)\n",
            "  g = add(e, f)\n",
            "  return g\n",
            "print(fancy_func(1, 2, 3, 4))\n",
            "10\n"
          ]
        }
      ]
    },
    {
      "cell_type": "markdown",
      "source": [
        "### 13.1.3 Hybridizing the `sequential` Class"
      ],
      "metadata": {
        "id": "L0gvU0fdnpS5"
      }
    },
    {
      "cell_type": "code",
      "source": [
        "import torch\n",
        "from torch import nn\n",
        "from d2l import torch as d2l"
      ],
      "metadata": {
        "id": "xmMxWDjVnwTe"
      },
      "execution_count": 6,
      "outputs": []
    },
    {
      "cell_type": "code",
      "source": [
        "# Factory for networks\n",
        "def get_net():\n",
        "  net = nn.Sequential(nn.Linear(512, 256),\n",
        "                      nn.ReLU(),\n",
        "                      nn.Linear(256, 128),\n",
        "                      nn.ReLU(),\n",
        "                      nn.Linear(128, 2))\n",
        "  return net"
      ],
      "metadata": {
        "id": "5biJVKhmn5Bu"
      },
      "execution_count": 7,
      "outputs": []
    },
    {
      "cell_type": "code",
      "source": [
        "x = torch.randn(size=(1, 512))\n",
        "net = get_net()\n",
        "net(x)"
      ],
      "metadata": {
        "colab": {
          "base_uri": "https://localhost:8080/"
        },
        "id": "4eOr3jsAoSXF",
        "outputId": "eb497c82-9ec1-4ebe-b2df-e328817a9596"
      },
      "execution_count": 8,
      "outputs": [
        {
          "output_type": "execute_result",
          "data": {
            "text/plain": [
              "tensor([[-0.0716,  0.0223]], grad_fn=<AddmmBackward0>)"
            ]
          },
          "metadata": {},
          "execution_count": 8
        }
      ]
    },
    {
      "cell_type": "code",
      "source": [
        "net = torch.jit.script(net)\n",
        "net(x)"
      ],
      "metadata": {
        "colab": {
          "base_uri": "https://localhost:8080/"
        },
        "id": "N2TeGz5iokM6",
        "outputId": "897730e6-5755-4027-c7b1-a69e9b658ab0"
      },
      "execution_count": 9,
      "outputs": [
        {
          "output_type": "execute_result",
          "data": {
            "text/plain": [
              "tensor([[-0.0716,  0.0223]], grad_fn=<AddmmBackward0>)"
            ]
          },
          "metadata": {},
          "execution_count": 9
        }
      ]
    },
    {
      "cell_type": "markdown",
      "source": [
        "#### Acceleration by Hybridization"
      ],
      "metadata": {
        "id": "HcQ9no6rpTUN"
      }
    },
    {
      "cell_type": "code",
      "source": [
        "class Benchmark:\n",
        "  def __init__(self, description='Done'):\n",
        "    self.description = description\n",
        "\n",
        "  def __enter__(self):\n",
        "    self.timer = d2l.Timer()\n",
        "    return self\n",
        "\n",
        "  def __exit__(self, *args):\n",
        "    print(f'{self.description}: {self.timer.stop(): .4f} sec')"
      ],
      "metadata": {
        "id": "XDbox08qpYGp"
      },
      "execution_count": 10,
      "outputs": []
    },
    {
      "cell_type": "code",
      "source": [
        "net = get_net()\n",
        "with Benchmark('Without torchscript'):\n",
        "  for i in range(1000): net(x)\n",
        "\n",
        "net = torch.jit.script(net)\n",
        "with Benchmark('With torchscript'):\n",
        "  for i in range(1000): net(x)"
      ],
      "metadata": {
        "colab": {
          "base_uri": "https://localhost:8080/"
        },
        "id": "gAt7z47YqF6E",
        "outputId": "b8e483b6-9fb5-41c7-e55e-06cf51c6cf6d"
      },
      "execution_count": 11,
      "outputs": [
        {
          "output_type": "stream",
          "name": "stdout",
          "text": [
            "Without torchscript:  0.1671 sec\n",
            "With torchscript:  0.1250 sec\n"
          ]
        }
      ]
    },
    {
      "cell_type": "markdown",
      "source": [
        "#### Serialization"
      ],
      "metadata": {
        "id": "U66zdFKZv_x-"
      }
    },
    {
      "cell_type": "code",
      "source": [
        "net.save('my_mlp')\n",
        "!ls -lh my_mlp*"
      ],
      "metadata": {
        "id": "h2avIrQOwDLA",
        "outputId": "22570baa-e986-48c5-e0c4-17a6e6493a83",
        "colab": {
          "base_uri": "https://localhost:8080/"
        }
      },
      "execution_count": 14,
      "outputs": [
        {
          "output_type": "stream",
          "name": "stdout",
          "text": [
            "-rw-r--r-- 1 root root 651K May  7 05:48 my_mlp\n"
          ]
        }
      ]
    }
  ]
}