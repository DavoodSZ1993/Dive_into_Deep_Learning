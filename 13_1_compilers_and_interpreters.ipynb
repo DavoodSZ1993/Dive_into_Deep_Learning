{
  "nbformat": 4,
  "nbformat_minor": 0,
  "metadata": {
    "colab": {
      "provenance": [],
      "authorship_tag": "ABX9TyMwIyjM3ldJNSOR5SULyFR0",
      "include_colab_link": true
    },
    "kernelspec": {
      "name": "python3",
      "display_name": "Python 3"
    },
    "language_info": {
      "name": "python"
    }
  },
  "cells": [
    {
      "cell_type": "markdown",
      "metadata": {
        "id": "view-in-github",
        "colab_type": "text"
      },
      "source": [
        "<a href=\"https://colab.research.google.com/github/DavoodSZ1993/Dive_into_Deep_Learning/blob/main/13_1_compilers_and_interpreters.ipynb\" target=\"_parent\"><img src=\"https://colab.research.google.com/assets/colab-badge.svg\" alt=\"Open In Colab\"/></a>"
      ]
    },
    {
      "cell_type": "code",
      "execution_count": 1,
      "metadata": {
        "colab": {
          "base_uri": "https://localhost:8080/"
        },
        "id": "fprrFqlnngCc",
        "outputId": "c4f90106-dd69-495a-99ce-5d49ebc0ab61"
      },
      "outputs": [
        {
          "output_type": "stream",
          "name": "stdout",
          "text": [
            "\u001b[2K     \u001b[90m━━━━━━━━━━━━━━━━━━━━━━━━━━━━━━━━━━━━━━━━\u001b[0m \u001b[32m93.0/93.0 kB\u001b[0m \u001b[31m2.2 MB/s\u001b[0m eta \u001b[36m0:00:00\u001b[0m\n",
            "\u001b[2K     \u001b[90m━━━━━━━━━━━━━━━━━━━━━━━━━━━━━━━━━━━━━━━\u001b[0m \u001b[32m121.9/121.9 kB\u001b[0m \u001b[31m7.7 MB/s\u001b[0m eta \u001b[36m0:00:00\u001b[0m\n",
            "\u001b[2K     \u001b[90m━━━━━━━━━━━━━━━━━━━━━━━━━━━━━━━━━━━━━━━━\u001b[0m \u001b[32m84.9/84.9 kB\u001b[0m \u001b[31m5.9 MB/s\u001b[0m eta \u001b[36m0:00:00\u001b[0m\n",
            "\u001b[2K     \u001b[90m━━━━━━━━━━━━━━━━━━━━━━━━━━━━━━━━━━━━━━━━\u001b[0m \u001b[32m1.6/1.6 MB\u001b[0m \u001b[31m28.7 MB/s\u001b[0m eta \u001b[36m0:00:00\u001b[0m\n",
            "\u001b[?25h"
          ]
        }
      ],
      "source": [
        "!pip install d2l==1.0.0-alpha1.post0 --quiet"
      ]
    },
    {
      "cell_type": "markdown",
      "source": [
        "## 13.1 Compilers and Interpreters"
      ],
      "metadata": {
        "id": "vYJnxSM9pUz8"
      }
    },
    {
      "cell_type": "code",
      "source": [
        "def add(a, b):\n",
        "  return a + b\n",
        "\n",
        "def fancy_func(a, b, c, d):\n",
        "  e = add(a, b)\n",
        "  f = add(c, d)\n",
        "  g = add(e, f)\n",
        "  return g"
      ],
      "metadata": {
        "id": "cx5-OC-kpYY8"
      },
      "execution_count": 2,
      "outputs": []
    },
    {
      "cell_type": "code",
      "source": [
        "print(fancy_func(1, 2, 3, 4))"
      ],
      "metadata": {
        "colab": {
          "base_uri": "https://localhost:8080/"
        },
        "id": "ktdSnk5gqKg2",
        "outputId": "cb9ce338-1fd9-497c-9306-160c277afe76"
      },
      "execution_count": 3,
      "outputs": [
        {
          "output_type": "stream",
          "name": "stdout",
          "text": [
            "10\n"
          ]
        }
      ]
    },
    {
      "cell_type": "markdown",
      "source": [
        "### 13.1.1 Symbolic Programming"
      ],
      "metadata": {
        "id": "8lvTwm0nd1u3"
      }
    },
    {
      "cell_type": "code",
      "source": [
        "def add_():\n",
        "  return  '''\n",
        "def add(a, b):\n",
        "  return a + b\n",
        "'''\n",
        "\n",
        "def fancy_func_():\n",
        "  return '''\n",
        "def fancy_func(a, b, c, d):\n",
        "  e = add(a, b)\n",
        "  f = add(c, d)\n",
        "  g = add(e, f)\n",
        "  return g\n",
        "'''\n",
        "\n",
        "def evoke_():\n",
        "  return add_() + fancy_func_() + 'print(fancy_func(1, 2, 3, 4))'\n",
        "\n",
        "prog = evoke_()\n",
        "print(prog)\n",
        "y = compile(prog, '', 'exec')\n",
        "exec(y)\n"
      ],
      "metadata": {
        "id": "9WJdh0QGeA1g",
        "outputId": "e0d358b1-b2b0-493e-c78d-b69839fbee6b",
        "colab": {
          "base_uri": "https://localhost:8080/"
        }
      },
      "execution_count": 5,
      "outputs": [
        {
          "output_type": "stream",
          "name": "stdout",
          "text": [
            "\n",
            "def add(a, b):\n",
            "  return a + b\n",
            "\n",
            "def fancy_func(a, b, c, d):\n",
            "  e = add(a, b)\n",
            "  f = add(c, d)\n",
            "  g = add(e, f)\n",
            "  return g\n",
            "print(fancy_func(1, 2, 3, 4))\n",
            "10\n"
          ]
        }
      ]
    }
  ]
}