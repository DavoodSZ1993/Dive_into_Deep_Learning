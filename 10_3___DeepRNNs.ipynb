{
  "nbformat": 4,
  "nbformat_minor": 0,
  "metadata": {
    "colab": {
      "provenance": [],
      "authorship_tag": "ABX9TyO3iYKBH0O7B+OiDGAc8Wnc",
      "include_colab_link": true
    },
    "kernelspec": {
      "name": "python3",
      "display_name": "Python 3"
    },
    "language_info": {
      "name": "python"
    },
    "accelerator": "GPU",
    "gpuClass": "standard"
  },
  "cells": [
    {
      "cell_type": "markdown",
      "metadata": {
        "id": "view-in-github",
        "colab_type": "text"
      },
      "source": [
        "<a href=\"https://colab.research.google.com/github/DavoodSZ1993/Dive_into_Deep_Learning/blob/main/10_3___DeepRNNs.ipynb\" target=\"_parent\"><img src=\"https://colab.research.google.com/assets/colab-badge.svg\" alt=\"Open In Colab\"/></a>"
      ]
    },
    {
      "cell_type": "code",
      "execution_count": 1,
      "metadata": {
        "colab": {
          "base_uri": "https://localhost:8080/"
        },
        "id": "MeuFjkTrDSCp",
        "outputId": "6100b7b3-605d-44be-c424-90142791c66b"
      },
      "outputs": [
        {
          "output_type": "stream",
          "name": "stdout",
          "text": [
            "\u001b[2K     \u001b[90m━━━━━━━━━━━━━━━━━━━━━━━━━━━━━━━━━━━━━━━━\u001b[0m \u001b[32m93.0/93.0 KB\u001b[0m \u001b[31m1.4 MB/s\u001b[0m eta \u001b[36m0:00:00\u001b[0m\n",
            "\u001b[2K     \u001b[90m━━━━━━━━━━━━━━━━━━━━━━━━━━━━━━━━━━━━━━━\u001b[0m \u001b[32m121.0/121.0 KB\u001b[0m \u001b[31m7.0 MB/s\u001b[0m eta \u001b[36m0:00:00\u001b[0m\n",
            "\u001b[2K     \u001b[90m━━━━━━━━━━━━━━━━━━━━━━━━━━━━━━━━━━━━━━━━\u001b[0m \u001b[32m83.6/83.6 KB\u001b[0m \u001b[31m3.6 MB/s\u001b[0m eta \u001b[36m0:00:00\u001b[0m\n",
            "\u001b[2K     \u001b[90m━━━━━━━━━━━━━━━━━━━━━━━━━━━━━━━━━━━━━━━━\u001b[0m \u001b[32m1.6/1.6 MB\u001b[0m \u001b[31m80.5 MB/s\u001b[0m eta \u001b[36m0:00:00\u001b[0m\n",
            "\u001b[?25h"
          ]
        }
      ],
      "source": [
        "!pip install d2l==1.0.0-alpha1.post0 --quiet"
      ]
    },
    {
      "cell_type": "markdown",
      "source": [
        "## 10.3 Deep Recurrent Neural Networks"
      ],
      "metadata": {
        "id": "cb8_CJMrDq_o"
      }
    },
    {
      "cell_type": "code",
      "source": [
        "import torch\n",
        "from torch import nn\n",
        "from d2l import torch as d2l"
      ],
      "metadata": {
        "id": "P18hOcETDyDw"
      },
      "execution_count": 2,
      "outputs": []
    },
    {
      "cell_type": "markdown",
      "source": [
        "### 10.3.1 Implementation from Scratch"
      ],
      "metadata": {
        "id": "V0xj0KakEIZh"
      }
    },
    {
      "cell_type": "code",
      "source": [
        "class StackRNNScratch(d2l.Module):\n",
        "  def __init__(self, num_inputs, num_hiddens, num_layers, sigma=0.01):\n",
        "    super().__init__()\n",
        "    self.save_hyperparameters()\n",
        "    self.rnns = nn.Sequential(*[d2l.RNNScratch(\n",
        "        num_inputs if i==0 else num_hiddens, num_hiddens, sigma)\n",
        "    for i in range(num_layers)])"
      ],
      "metadata": {
        "id": "Wd2VxfbLFj0m"
      },
      "execution_count": 3,
      "outputs": []
    },
    {
      "cell_type": "code",
      "source": [
        "@d2l.add_to_class(StackRNNScratch)\n",
        "def forward(self, inputs, Hs=None):\n",
        "  outputs = inputs\n",
        "  if Hs is None: Hs = [None] * self.num_layers\n",
        "  for i in range(self.num_layers):\n",
        "    outputs, Hs[i] = self.rnn[i](outputs, Hs[i])\n",
        "    outputs = torch.stack(outputs, 0)\n",
        "  return outputs, Hs"
      ],
      "metadata": {
        "id": "qeDW4XaVGY25"
      },
      "execution_count": 4,
      "outputs": []
    }
  ]
}