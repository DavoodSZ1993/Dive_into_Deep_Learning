{
  "nbformat": 4,
  "nbformat_minor": 0,
  "metadata": {
    "colab": {
      "provenance": [],
      "authorship_tag": "ABX9TyMHRdlX7LO8KBOaetZ/fZzE",
      "include_colab_link": true
    },
    "kernelspec": {
      "name": "python3",
      "display_name": "Python 3"
    },
    "language_info": {
      "name": "python"
    },
    "accelerator": "GPU",
    "gpuClass": "standard"
  },
  "cells": [
    {
      "cell_type": "markdown",
      "metadata": {
        "id": "view-in-github",
        "colab_type": "text"
      },
      "source": [
        "<a href=\"https://colab.research.google.com/github/DavoodSZ1993/Dive_into_Deep_Learning/blob/main/10_3___DeepRNNs.ipynb\" target=\"_parent\"><img src=\"https://colab.research.google.com/assets/colab-badge.svg\" alt=\"Open In Colab\"/></a>"
      ]
    },
    {
      "cell_type": "code",
      "execution_count": null,
      "metadata": {
        "colab": {
          "base_uri": "https://localhost:8080/"
        },
        "id": "MeuFjkTrDSCp",
        "outputId": "6100b7b3-605d-44be-c424-90142791c66b"
      },
      "outputs": [
        {
          "output_type": "stream",
          "name": "stdout",
          "text": [
            "\u001b[2K     \u001b[90m━━━━━━━━━━━━━━━━━━━━━━━━━━━━━━━━━━━━━━━━\u001b[0m \u001b[32m93.0/93.0 KB\u001b[0m \u001b[31m1.4 MB/s\u001b[0m eta \u001b[36m0:00:00\u001b[0m\n",
            "\u001b[2K     \u001b[90m━━━━━━━━━━━━━━━━━━━━━━━━━━━━━━━━━━━━━━━\u001b[0m \u001b[32m121.0/121.0 KB\u001b[0m \u001b[31m7.0 MB/s\u001b[0m eta \u001b[36m0:00:00\u001b[0m\n",
            "\u001b[2K     \u001b[90m━━━━━━━━━━━━━━━━━━━━━━━━━━━━━━━━━━━━━━━━\u001b[0m \u001b[32m83.6/83.6 KB\u001b[0m \u001b[31m3.6 MB/s\u001b[0m eta \u001b[36m0:00:00\u001b[0m\n",
            "\u001b[2K     \u001b[90m━━━━━━━━━━━━━━━━━━━━━━━━━━━━━━━━━━━━━━━━\u001b[0m \u001b[32m1.6/1.6 MB\u001b[0m \u001b[31m80.5 MB/s\u001b[0m eta \u001b[36m0:00:00\u001b[0m\n",
            "\u001b[?25h"
          ]
        }
      ],
      "source": [
        "!pip install d2l==1.0.0-alpha1.post0 --quiet"
      ]
    },
    {
      "cell_type": "markdown",
      "source": [
        "## 10.3 Deep Recurrent Neural Networks"
      ],
      "metadata": {
        "id": "cb8_CJMrDq_o"
      }
    },
    {
      "cell_type": "code",
      "source": [
        "import torch\n",
        "from torch import nn\n",
        "from d2l import torch as d2l"
      ],
      "metadata": {
        "id": "P18hOcETDyDw"
      },
      "execution_count": null,
      "outputs": []
    },
    {
      "cell_type": "markdown",
      "source": [
        "### 10.3.1 Implementation from Scratch"
      ],
      "metadata": {
        "id": "V0xj0KakEIZh"
      }
    },
    {
      "cell_type": "code",
      "source": [
        "class StackRNNScratch(d2l.Module):\n",
        "  def __init__(self, num_inputs, num_hiddens, num_layers, sigma=0.01):\n",
        "    super().__init__()\n",
        "    self.save_hyperparameters()\n",
        "    self.rnns = nn.Sequential(*[d2l.RNNScratch(\n",
        "        num_inputs if i==0 else num_hiddens, num_hiddens, sigma)\n",
        "    for i in range(num_layers)])"
      ],
      "metadata": {
        "id": "Wd2VxfbLFj0m"
      },
      "execution_count": null,
      "outputs": []
    },
    {
      "cell_type": "code",
      "source": [
        "@d2l.add_to_class(StackRNNScratch)\n",
        "def forward(self, inputs, Hs=None):\n",
        "  outputs = inputs\n",
        "  if Hs is None: Hs = [None] * self.num_layers\n",
        "  for i in range(self.num_layers):\n",
        "    outputs, Hs[i] = self.rnns[i](outputs, Hs[i])\n",
        "    outputs = torch.stack(outputs, 0)\n",
        "  return outputs, Hs"
      ],
      "metadata": {
        "id": "qeDW4XaVGY25"
      },
      "execution_count": null,
      "outputs": []
    },
    {
      "cell_type": "code",
      "source": [
        "data = d2l.TimeMachine(batch_size=1024, num_steps=32)\n",
        "rnn_block = StackRNNScratch(num_inputs=len(data.vocab), num_hiddens=32, num_layers=2)\n",
        "model = d2l.RNNLMScratch(rnn_block, vocab_size=len(data.vocab), lr=2)\n",
        "trainer = d2l.Trainer(max_epochs=100, gradient_clip_val=1, num_gpus=1)\n",
        "trainer.fit(model, data)"
      ],
      "metadata": {
        "id": "PgUwVGchHSk7"
      },
      "execution_count": null,
      "outputs": []
    },
    {
      "cell_type": "markdown",
      "source": [
        "### 10.3.2 Concise Implementation"
      ],
      "metadata": {
        "id": "eqRF5zm5JDU9"
      }
    },
    {
      "cell_type": "code",
      "source": [
        "class GRU(d2l.RNN):\n",
        "  def __init__(self, num_inputs, num_hiddens, num_layers, dropout=0):\n",
        "    d2l.Module.__init__(self)\n",
        "    self.save_hyperparameters()\n",
        "    self.rnn = nn.GRU(num_inputs, num_hiddens, num_layers, dropout=dropout)"
      ],
      "metadata": {
        "id": "_mmwREmnJJ0I"
      },
      "execution_count": null,
      "outputs": []
    },
    {
      "cell_type": "code",
      "source": [
        "gru = GRU(num_inputs=len(data.vocab), num_hiddens=32, num_layers=2)\n",
        "model = d2l.RNNLM(gru, vocab_size=len(data.vocab), lr=2)\n",
        "trainer.fit(model, data)"
      ],
      "metadata": {
        "id": "zt2TTsPXKCPI"
      },
      "execution_count": null,
      "outputs": []
    },
    {
      "cell_type": "code",
      "source": [
        "model.predict('it has', 20, data.vocab, d2l.try_gpu())"
      ],
      "metadata": {
        "colab": {
          "base_uri": "https://localhost:8080/",
          "height": 36
        },
        "id": "LEKmOOvfK8mw",
        "outputId": "3b832743-1fe2-4988-adc9-435dd7cfd525"
      },
      "execution_count": null,
      "outputs": [
        {
          "output_type": "execute_result",
          "data": {
            "text/plain": [
              "'it has i have in a move a '"
            ],
            "application/vnd.google.colaboratory.intrinsic+json": {
              "type": "string"
            }
          },
          "metadata": {},
          "execution_count": 11
        }
      ]
    }
  ]
}