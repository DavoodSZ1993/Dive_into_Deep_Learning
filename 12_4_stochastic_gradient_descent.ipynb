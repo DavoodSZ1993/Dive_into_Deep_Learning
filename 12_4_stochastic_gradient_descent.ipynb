{
  "nbformat": 4,
  "nbformat_minor": 0,
  "metadata": {
    "colab": {
      "provenance": [],
      "authorship_tag": "ABX9TyP/HgSlQpKbkhfSaVf1rHGa",
      "include_colab_link": true
    },
    "kernelspec": {
      "name": "python3",
      "display_name": "Python 3"
    },
    "language_info": {
      "name": "python"
    }
  },
  "cells": [
    {
      "cell_type": "markdown",
      "metadata": {
        "id": "view-in-github",
        "colab_type": "text"
      },
      "source": [
        "<a href=\"https://colab.research.google.com/github/DavoodSZ1993/Dive_into_Deep_Learning/blob/main/12_4_stochastic_gradient_descent.ipynb\" target=\"_parent\"><img src=\"https://colab.research.google.com/assets/colab-badge.svg\" alt=\"Open In Colab\"/></a>"
      ]
    },
    {
      "cell_type": "code",
      "execution_count": 2,
      "metadata": {
        "colab": {
          "base_uri": "https://localhost:8080/"
        },
        "id": "mJL9w0AivSCc",
        "outputId": "0d72c335-4acc-4975-af0e-82f93959c307"
      },
      "outputs": [
        {
          "output_type": "stream",
          "name": "stdout",
          "text": [
            "\u001b[2K     \u001b[90m━━━━━━━━━━━━━━━━━━━━━━━━━━━━━━━━━━━━━━━━\u001b[0m \u001b[32m93.0/93.0 kB\u001b[0m \u001b[31m4.6 MB/s\u001b[0m eta \u001b[36m0:00:00\u001b[0m\n",
            "\u001b[2K     \u001b[90m━━━━━━━━━━━━━━━━━━━━━━━━━━━━━━━━━━━━━━━\u001b[0m \u001b[32m121.2/121.2 kB\u001b[0m \u001b[31m4.2 MB/s\u001b[0m eta \u001b[36m0:00:00\u001b[0m\n",
            "\u001b[2K     \u001b[90m━━━━━━━━━━━━━━━━━━━━━━━━━━━━━━━━━━━━━━━━\u001b[0m \u001b[32m84.9/84.9 kB\u001b[0m \u001b[31m3.4 MB/s\u001b[0m eta \u001b[36m0:00:00\u001b[0m\n",
            "\u001b[2K     \u001b[90m━━━━━━━━━━━━━━━━━━━━━━━━━━━━━━━━━━━━━━━━\u001b[0m \u001b[32m1.6/1.6 MB\u001b[0m \u001b[31m11.0 MB/s\u001b[0m eta \u001b[36m0:00:00\u001b[0m\n",
            "\u001b[?25h"
          ]
        }
      ],
      "source": [
        "!pip install d2l==1.0.0-alpha1.post0 --quiet"
      ]
    },
    {
      "cell_type": "markdown",
      "source": [
        "## 12.4 Stochastic Gradient Descent"
      ],
      "metadata": {
        "id": "4x_g4alzvzHu"
      }
    },
    {
      "cell_type": "code",
      "source": [
        "%matplotlib inline\n",
        "import math\n",
        "import torch\n",
        "from d2l import torch as d2l"
      ],
      "metadata": {
        "id": "-cADE01ZwIKm"
      },
      "execution_count": 3,
      "outputs": []
    },
    {
      "cell_type": "markdown",
      "source": [
        "### 12.4.1 Stochastic Gradient Updates"
      ],
      "metadata": {
        "id": "iYEC6BSpwg08"
      }
    },
    {
      "cell_type": "code",
      "source": [
        "def f(x1, x2):\n",
        "  return x1 ** 2 + 2 * x2 **2\n",
        "\n",
        "def f_grad(x1, x2):\n",
        "  return 2 * x1, 4 * x2"
      ],
      "metadata": {
        "id": "9-SHmoCAyrCL"
      },
      "execution_count": 4,
      "outputs": []
    },
    {
      "cell_type": "code",
      "source": [
        "def sgd(x1, x2, s1, s2, f_grad):\n",
        "  g1, g2 = f_grad(x1, x2)\n",
        "  # Simulate noisy gradient\n",
        "  g1 += torch.normal(0.0, 1, (1,))\n",
        "  g2 += torch.normal(0.0, 1, (1,))\n",
        "  eta_t = eta * lr()\n",
        "  return (x1 - eta_t * g1, x2 - eta_t * g2, 0, 0)"
      ],
      "metadata": {
        "id": "nA2LmSS-y7RL"
      },
      "execution_count": 5,
      "outputs": []
    },
    {
      "cell_type": "code",
      "source": [
        "def constant_lr():\n",
        "  return 1\n",
        "\n",
        "eta = 0.1\n",
        "lr = constant_lr\n",
        "d2l.show_trace_2d(f, d2l.train_2d(sgd, steps=50, f_grad=f_grad))"
      ],
      "metadata": {
        "colab": {
          "base_uri": "https://localhost:8080/",
          "height": 373
        },
        "id": "RTiyRGGozpSk",
        "outputId": "d2233268-4fb9-4ea1-cef6-25d4440b72e9"
      },
      "execution_count": 7,
      "outputs": [
        {
          "output_type": "stream",
          "name": "stdout",
          "text": [
            "epoch 50, x1: 0.133655, x2: -0.141286\n"
          ]
        },
        {
          "output_type": "stream",
          "name": "stderr",
          "text": [
            "/usr/local/lib/python3.9/dist-packages/numpy/core/shape_base.py:65: VisibleDeprecationWarning: Creating an ndarray from ragged nested sequences (which is a list-or-tuple of lists-or-tuples-or ndarrays with different lengths or shapes) is deprecated. If you meant to do this, you must specify 'dtype=object' when creating the ndarray.\n",
            "  ary = asanyarray(ary)\n",
            "/usr/local/lib/python3.9/dist-packages/torch/functional.py:504: UserWarning: torch.meshgrid: in an upcoming release, it will be required to pass the indexing argument. (Triggered internally at ../aten/src/ATen/native/TensorShape.cpp:3483.)\n",
            "  return _VF.meshgrid(tensors, **kwargs)  # type: ignore[attr-defined]\n"
          ]
        },
        {
          "output_type": "display_data",
          "data": {
            "text/plain": [
              "<Figure size 350x250 with 1 Axes>"
            ],
            "image/svg+xml": "<?xml version=\"1.0\" encoding=\"utf-8\" standalone=\"no\"?>\n<!DOCTYPE svg PUBLIC \"-//W3C//DTD SVG 1.1//EN\"\n  \"http://www.w3.org/Graphics/SVG/1.1/DTD/svg11.dtd\">\n<svg xmlns:xlink=\"http://www.w3.org/1999/xlink\" width=\"245.120313pt\" height=\"183.35625pt\" viewBox=\"0 0 245.120313 183.35625\" xmlns=\"http://www.w3.org/2000/svg\" version=\"1.1\">\n <metadata>\n  <rdf:RDF xmlns:dc=\"http://purl.org/dc/elements/1.1/\" xmlns:cc=\"http://creativecommons.org/ns#\" xmlns:rdf=\"http://www.w3.org/1999/02/22-rdf-syntax-ns#\">\n   <cc:Work>\n    <dc:type rdf:resource=\"http://purl.org/dc/dcmitype/StillImage\"/>\n    <dc:date>2023-04-20T08:37:42.364384</dc:date>\n    <dc:format>image/svg+xml</dc:format>\n    <dc:creator>\n     <cc:Agent>\n      <dc:title>Matplotlib v3.7.1, https://matplotlib.org/</dc:title>\n     </cc:Agent>\n    </dc:creator>\n   </cc:Work>\n  </rdf:RDF>\n </metadata>\n <defs>\n  <style type=\"text/css\">*{stroke-linejoin: round; stroke-linecap: butt}</style>\n </defs>\n <g id=\"figure_1\">\n  <g id=\"patch_1\">\n   <path d=\"M 0 183.35625 \nL 245.120313 183.35625 \nL 245.120313 0 \nL 0 0 \nz\n\" style=\"fill: #ffffff\"/>\n  </g>\n  <g id=\"axes_1\">\n   <g id=\"patch_2\">\n    <path d=\"M 42.620312 145.8 \nL 237.920313 145.8 \nL 237.920313 7.2 \nL 42.620312 7.2 \nz\n\" style=\"fill: #ffffff\"/>\n   </g>\n   <g id=\"matplotlib.axis_1\">\n    <g id=\"xtick_1\">\n     <g id=\"line2d_1\">\n      <defs>\n       <path id=\"m517ba1975b\" d=\"M 0 0 \nL 0 3.5 \n\" style=\"stroke: #000000; stroke-width: 0.8\"/>\n      </defs>\n      <g>\n       <use xlink:href=\"#m517ba1975b\" x=\"88.39375\" y=\"145.8\" style=\"stroke: #000000; stroke-width: 0.8\"/>\n      </g>\n     </g>\n     <g id=\"text_1\">\n      <!-- −4 -->\n      <g transform=\"translate(81.022656 160.398438) scale(0.1 -0.1)\">\n       <defs>\n        <path id=\"DejaVuSans-2212\" d=\"M 678 2272 \nL 4684 2272 \nL 4684 1741 \nL 678 1741 \nL 678 2272 \nz\n\" transform=\"scale(0.015625)\"/>\n        <path id=\"DejaVuSans-34\" d=\"M 2419 4116 \nL 825 1625 \nL 2419 1625 \nL 2419 4116 \nz\nM 2253 4666 \nL 3047 4666 \nL 3047 1625 \nL 3713 1625 \nL 3713 1100 \nL 3047 1100 \nL 3047 0 \nL 2419 0 \nL 2419 1100 \nL 313 1100 \nL 313 1709 \nL 2253 4666 \nz\n\" transform=\"scale(0.015625)\"/>\n       </defs>\n       <use xlink:href=\"#DejaVuSans-2212\"/>\n       <use xlink:href=\"#DejaVuSans-34\" x=\"83.789062\"/>\n      </g>\n     </g>\n    </g>\n    <g id=\"xtick_2\">\n     <g id=\"line2d_2\">\n      <g>\n       <use xlink:href=\"#m517ba1975b\" x=\"149.425\" y=\"145.8\" style=\"stroke: #000000; stroke-width: 0.8\"/>\n      </g>\n     </g>\n     <g id=\"text_2\">\n      <!-- −2 -->\n      <g transform=\"translate(142.053907 160.398438) scale(0.1 -0.1)\">\n       <defs>\n        <path id=\"DejaVuSans-32\" d=\"M 1228 531 \nL 3431 531 \nL 3431 0 \nL 469 0 \nL 469 531 \nQ 828 903 1448 1529 \nQ 2069 2156 2228 2338 \nQ 2531 2678 2651 2914 \nQ 2772 3150 2772 3378 \nQ 2772 3750 2511 3984 \nQ 2250 4219 1831 4219 \nQ 1534 4219 1204 4116 \nQ 875 4013 500 3803 \nL 500 4441 \nQ 881 4594 1212 4672 \nQ 1544 4750 1819 4750 \nQ 2544 4750 2975 4387 \nQ 3406 4025 3406 3419 \nQ 3406 3131 3298 2873 \nQ 3191 2616 2906 2266 \nQ 2828 2175 2409 1742 \nQ 1991 1309 1228 531 \nz\n\" transform=\"scale(0.015625)\"/>\n       </defs>\n       <use xlink:href=\"#DejaVuSans-2212\"/>\n       <use xlink:href=\"#DejaVuSans-32\" x=\"83.789062\"/>\n      </g>\n     </g>\n    </g>\n    <g id=\"xtick_3\">\n     <g id=\"line2d_3\">\n      <g>\n       <use xlink:href=\"#m517ba1975b\" x=\"210.456251\" y=\"145.8\" style=\"stroke: #000000; stroke-width: 0.8\"/>\n      </g>\n     </g>\n     <g id=\"text_3\">\n      <!-- 0 -->\n      <g transform=\"translate(207.275001 160.398438) scale(0.1 -0.1)\">\n       <defs>\n        <path id=\"DejaVuSans-30\" d=\"M 2034 4250 \nQ 1547 4250 1301 3770 \nQ 1056 3291 1056 2328 \nQ 1056 1369 1301 889 \nQ 1547 409 2034 409 \nQ 2525 409 2770 889 \nQ 3016 1369 3016 2328 \nQ 3016 3291 2770 3770 \nQ 2525 4250 2034 4250 \nz\nM 2034 4750 \nQ 2819 4750 3233 4129 \nQ 3647 3509 3647 2328 \nQ 3647 1150 3233 529 \nQ 2819 -91 2034 -91 \nQ 1250 -91 836 529 \nQ 422 1150 422 2328 \nQ 422 3509 836 4129 \nQ 1250 4750 2034 4750 \nz\n\" transform=\"scale(0.015625)\"/>\n       </defs>\n       <use xlink:href=\"#DejaVuSans-30\"/>\n      </g>\n     </g>\n    </g>\n    <g id=\"text_4\">\n     <!-- x1 -->\n     <g transform=\"translate(134.129687 174.076563) scale(0.1 -0.1)\">\n      <defs>\n       <path id=\"DejaVuSans-78\" d=\"M 3513 3500 \nL 2247 1797 \nL 3578 0 \nL 2900 0 \nL 1881 1375 \nL 863 0 \nL 184 0 \nL 1544 1831 \nL 300 3500 \nL 978 3500 \nL 1906 2253 \nL 2834 3500 \nL 3513 3500 \nz\n\" transform=\"scale(0.015625)\"/>\n       <path id=\"DejaVuSans-31\" d=\"M 794 531 \nL 1825 531 \nL 1825 4091 \nL 703 3866 \nL 703 4441 \nL 1819 4666 \nL 2450 4666 \nL 2450 531 \nL 3481 531 \nL 3481 0 \nL 794 0 \nL 794 531 \nz\n\" transform=\"scale(0.015625)\"/>\n      </defs>\n      <use xlink:href=\"#DejaVuSans-78\"/>\n      <use xlink:href=\"#DejaVuSans-31\" x=\"59.179688\"/>\n     </g>\n    </g>\n   </g>\n   <g id=\"matplotlib.axis_2\">\n    <g id=\"ytick_1\">\n     <g id=\"line2d_4\">\n      <defs>\n       <path id=\"m0fd3b064d7\" d=\"M 0 0 \nL -3.5 0 \n\" style=\"stroke: #000000; stroke-width: 0.8\"/>\n      </defs>\n      <g>\n       <use xlink:href=\"#m0fd3b064d7\" x=\"42.620312\" y=\"145.8\" style=\"stroke: #000000; stroke-width: 0.8\"/>\n      </g>\n     </g>\n     <g id=\"text_5\">\n      <!-- −3 -->\n      <g transform=\"translate(20.878125 149.599219) scale(0.1 -0.1)\">\n       <defs>\n        <path id=\"DejaVuSans-33\" d=\"M 2597 2516 \nQ 3050 2419 3304 2112 \nQ 3559 1806 3559 1356 \nQ 3559 666 3084 287 \nQ 2609 -91 1734 -91 \nQ 1441 -91 1130 -33 \nQ 819 25 488 141 \nL 488 750 \nQ 750 597 1062 519 \nQ 1375 441 1716 441 \nQ 2309 441 2620 675 \nQ 2931 909 2931 1356 \nQ 2931 1769 2642 2001 \nQ 2353 2234 1838 2234 \nL 1294 2234 \nL 1294 2753 \nL 1863 2753 \nQ 2328 2753 2575 2939 \nQ 2822 3125 2822 3475 \nQ 2822 3834 2567 4026 \nQ 2313 4219 1838 4219 \nQ 1578 4219 1281 4162 \nQ 984 4106 628 3988 \nL 628 4550 \nQ 988 4650 1302 4700 \nQ 1616 4750 1894 4750 \nQ 2613 4750 3031 4423 \nQ 3450 4097 3450 3541 \nQ 3450 3153 3228 2886 \nQ 3006 2619 2597 2516 \nz\n\" transform=\"scale(0.015625)\"/>\n       </defs>\n       <use xlink:href=\"#DejaVuSans-2212\"/>\n       <use xlink:href=\"#DejaVuSans-33\" x=\"83.789062\"/>\n      </g>\n     </g>\n    </g>\n    <g id=\"ytick_2\">\n     <g id=\"line2d_5\">\n      <g>\n       <use xlink:href=\"#m0fd3b064d7\" x=\"42.620312\" y=\"110.261538\" style=\"stroke: #000000; stroke-width: 0.8\"/>\n      </g>\n     </g>\n     <g id=\"text_6\">\n      <!-- −2 -->\n      <g transform=\"translate(20.878125 114.060757) scale(0.1 -0.1)\">\n       <use xlink:href=\"#DejaVuSans-2212\"/>\n       <use xlink:href=\"#DejaVuSans-32\" x=\"83.789062\"/>\n      </g>\n     </g>\n    </g>\n    <g id=\"ytick_3\">\n     <g id=\"line2d_6\">\n      <g>\n       <use xlink:href=\"#m0fd3b064d7\" x=\"42.620312\" y=\"74.723076\" style=\"stroke: #000000; stroke-width: 0.8\"/>\n      </g>\n     </g>\n     <g id=\"text_7\">\n      <!-- −1 -->\n      <g transform=\"translate(20.878125 78.522295) scale(0.1 -0.1)\">\n       <use xlink:href=\"#DejaVuSans-2212\"/>\n       <use xlink:href=\"#DejaVuSans-31\" x=\"83.789062\"/>\n      </g>\n     </g>\n    </g>\n    <g id=\"ytick_4\">\n     <g id=\"line2d_7\">\n      <g>\n       <use xlink:href=\"#m0fd3b064d7\" x=\"42.620312\" y=\"39.184615\" style=\"stroke: #000000; stroke-width: 0.8\"/>\n      </g>\n     </g>\n     <g id=\"text_8\">\n      <!-- 0 -->\n      <g transform=\"translate(29.257812 42.983833) scale(0.1 -0.1)\">\n       <use xlink:href=\"#DejaVuSans-30\"/>\n      </g>\n     </g>\n    </g>\n    <g id=\"text_9\">\n     <!-- x2 -->\n     <g transform=\"translate(14.798437 82.640625) rotate(-90) scale(0.1 -0.1)\">\n      <use xlink:href=\"#DejaVuSans-78\"/>\n      <use xlink:href=\"#DejaVuSans-32\" x=\"59.179688\"/>\n     </g>\n    </g>\n   </g>\n   <g id=\"line2d_8\">\n    <path d=\"M 57.878125 110.261538 \nL 89.330994 78.30782 \nL 111.522255 62.275561 \nL 133.215728 51.463273 \nL 143.585429 45.6148 \nL 152.550646 45.707311 \nL 160.623503 34.263581 \nL 170.01417 43.081844 \nL 183.81401 37.373301 \nL 182.507284 39.724902 \nL 186.556798 42.510929 \nL 188.419964 42.861507 \nL 189.521408 43.808277 \nL 191.236489 39.479048 \nL 196.833748 38.047759 \nL 195.678556 39.322597 \nL 202.136478 39.754723 \nL 206.16664 39.66643 \nL 204.69021 41.674999 \nL 207.730774 43.641676 \nL 209.519897 42.827701 \nL 209.70698 41.390708 \nL 209.361486 40.16486 \nL 211.571193 42.788361 \nL 211.568221 47.161631 \nL 215.634839 45.776461 \nL 215.027042 46.709801 \nL 213.75789 45.061557 \nL 211.449413 45.235586 \nL 213.595186 42.791732 \nL 215.782184 41.64852 \nL 216.399555 38.926489 \nL 208.496117 45.410714 \nL 211.066346 47.144331 \nL 208.136005 41.523145 \nL 211.176729 40.072551 \nL 211.767909 39.353479 \nL 215.728057 38.926593 \nL 213.534014 39.318336 \nL 213.164038 40.97266 \nL 209.670203 40.025475 \nL 212.087521 39.989044 \nL 208.706309 38.34796 \nL 212.063178 39.440871 \nL 210.913549 42.077915 \nL 205.03348 44.46586 \nL 208.18856 42.742787 \nL 209.386604 44.183385 \nL 210.845398 52.169382 \nL 211.615137 48.548643 \nL 214.534801 44.205696 \n\" clip-path=\"url(#p39809e0bde)\" style=\"fill: none; stroke: #ff7f0e; stroke-width: 1.5; stroke-linecap: square\"/>\n    <defs>\n     <path id=\"m060781c321\" d=\"M 0 3 \nC 0.795609 3 1.55874 2.683901 2.12132 2.12132 \nC 2.683901 1.55874 3 0.795609 3 0 \nC 3 -0.795609 2.683901 -1.55874 2.12132 -2.12132 \nC 1.55874 -2.683901 0.795609 -3 0 -3 \nC -0.795609 -3 -1.55874 -2.683901 -2.12132 -2.12132 \nC -2.683901 -1.55874 -3 -0.795609 -3 0 \nC -3 0.795609 -2.683901 1.55874 -2.12132 2.12132 \nC -1.55874 2.683901 -0.795609 3 0 3 \nz\n\" style=\"stroke: #ff7f0e\"/>\n    </defs>\n    <g clip-path=\"url(#p39809e0bde)\">\n     <use xlink:href=\"#m060781c321\" x=\"57.878125\" y=\"110.261538\" style=\"fill: #ff7f0e; stroke: #ff7f0e\"/>\n     <use xlink:href=\"#m060781c321\" x=\"89.330994\" y=\"78.30782\" style=\"fill: #ff7f0e; stroke: #ff7f0e\"/>\n     <use xlink:href=\"#m060781c321\" x=\"111.522255\" y=\"62.275561\" style=\"fill: #ff7f0e; stroke: #ff7f0e\"/>\n     <use xlink:href=\"#m060781c321\" x=\"133.215728\" y=\"51.463273\" style=\"fill: #ff7f0e; stroke: #ff7f0e\"/>\n     <use xlink:href=\"#m060781c321\" x=\"143.585429\" y=\"45.6148\" style=\"fill: #ff7f0e; stroke: #ff7f0e\"/>\n     <use xlink:href=\"#m060781c321\" x=\"152.550646\" y=\"45.707311\" style=\"fill: #ff7f0e; stroke: #ff7f0e\"/>\n     <use xlink:href=\"#m060781c321\" x=\"160.623503\" y=\"34.263581\" style=\"fill: #ff7f0e; stroke: #ff7f0e\"/>\n     <use xlink:href=\"#m060781c321\" x=\"170.01417\" y=\"43.081844\" style=\"fill: #ff7f0e; stroke: #ff7f0e\"/>\n     <use xlink:href=\"#m060781c321\" x=\"183.81401\" y=\"37.373301\" style=\"fill: #ff7f0e; stroke: #ff7f0e\"/>\n     <use xlink:href=\"#m060781c321\" x=\"182.507284\" y=\"39.724902\" style=\"fill: #ff7f0e; stroke: #ff7f0e\"/>\n     <use xlink:href=\"#m060781c321\" x=\"186.556798\" y=\"42.510929\" style=\"fill: #ff7f0e; stroke: #ff7f0e\"/>\n     <use xlink:href=\"#m060781c321\" x=\"188.419964\" y=\"42.861507\" style=\"fill: #ff7f0e; stroke: #ff7f0e\"/>\n     <use xlink:href=\"#m060781c321\" x=\"189.521408\" y=\"43.808277\" style=\"fill: #ff7f0e; stroke: #ff7f0e\"/>\n     <use xlink:href=\"#m060781c321\" x=\"191.236489\" y=\"39.479048\" style=\"fill: #ff7f0e; stroke: #ff7f0e\"/>\n     <use xlink:href=\"#m060781c321\" x=\"196.833748\" y=\"38.047759\" style=\"fill: #ff7f0e; stroke: #ff7f0e\"/>\n     <use xlink:href=\"#m060781c321\" x=\"195.678556\" y=\"39.322597\" style=\"fill: #ff7f0e; stroke: #ff7f0e\"/>\n     <use xlink:href=\"#m060781c321\" x=\"202.136478\" y=\"39.754723\" style=\"fill: #ff7f0e; stroke: #ff7f0e\"/>\n     <use xlink:href=\"#m060781c321\" x=\"206.16664\" y=\"39.66643\" style=\"fill: #ff7f0e; stroke: #ff7f0e\"/>\n     <use xlink:href=\"#m060781c321\" x=\"204.69021\" y=\"41.674999\" style=\"fill: #ff7f0e; stroke: #ff7f0e\"/>\n     <use xlink:href=\"#m060781c321\" x=\"207.730774\" y=\"43.641676\" style=\"fill: #ff7f0e; stroke: #ff7f0e\"/>\n     <use xlink:href=\"#m060781c321\" x=\"209.519897\" y=\"42.827701\" style=\"fill: #ff7f0e; stroke: #ff7f0e\"/>\n     <use xlink:href=\"#m060781c321\" x=\"209.70698\" y=\"41.390708\" style=\"fill: #ff7f0e; stroke: #ff7f0e\"/>\n     <use xlink:href=\"#m060781c321\" x=\"209.361486\" y=\"40.16486\" style=\"fill: #ff7f0e; stroke: #ff7f0e\"/>\n     <use xlink:href=\"#m060781c321\" x=\"211.571193\" y=\"42.788361\" style=\"fill: #ff7f0e; stroke: #ff7f0e\"/>\n     <use xlink:href=\"#m060781c321\" x=\"211.568221\" y=\"47.161631\" style=\"fill: #ff7f0e; stroke: #ff7f0e\"/>\n     <use xlink:href=\"#m060781c321\" x=\"215.634839\" y=\"45.776461\" style=\"fill: #ff7f0e; stroke: #ff7f0e\"/>\n     <use xlink:href=\"#m060781c321\" x=\"215.027042\" y=\"46.709801\" style=\"fill: #ff7f0e; stroke: #ff7f0e\"/>\n     <use xlink:href=\"#m060781c321\" x=\"213.75789\" y=\"45.061557\" style=\"fill: #ff7f0e; stroke: #ff7f0e\"/>\n     <use xlink:href=\"#m060781c321\" x=\"211.449413\" y=\"45.235586\" style=\"fill: #ff7f0e; stroke: #ff7f0e\"/>\n     <use xlink:href=\"#m060781c321\" x=\"213.595186\" y=\"42.791732\" style=\"fill: #ff7f0e; stroke: #ff7f0e\"/>\n     <use xlink:href=\"#m060781c321\" x=\"215.782184\" y=\"41.64852\" style=\"fill: #ff7f0e; stroke: #ff7f0e\"/>\n     <use xlink:href=\"#m060781c321\" x=\"216.399555\" y=\"38.926489\" style=\"fill: #ff7f0e; stroke: #ff7f0e\"/>\n     <use xlink:href=\"#m060781c321\" x=\"208.496117\" y=\"45.410714\" style=\"fill: #ff7f0e; stroke: #ff7f0e\"/>\n     <use xlink:href=\"#m060781c321\" x=\"211.066346\" y=\"47.144331\" style=\"fill: #ff7f0e; stroke: #ff7f0e\"/>\n     <use xlink:href=\"#m060781c321\" x=\"208.136005\" y=\"41.523145\" style=\"fill: #ff7f0e; stroke: #ff7f0e\"/>\n     <use xlink:href=\"#m060781c321\" x=\"211.176729\" y=\"40.072551\" style=\"fill: #ff7f0e; stroke: #ff7f0e\"/>\n     <use xlink:href=\"#m060781c321\" x=\"211.767909\" y=\"39.353479\" style=\"fill: #ff7f0e; stroke: #ff7f0e\"/>\n     <use xlink:href=\"#m060781c321\" x=\"215.728057\" y=\"38.926593\" style=\"fill: #ff7f0e; stroke: #ff7f0e\"/>\n     <use xlink:href=\"#m060781c321\" x=\"213.534014\" y=\"39.318336\" style=\"fill: #ff7f0e; stroke: #ff7f0e\"/>\n     <use xlink:href=\"#m060781c321\" x=\"213.164038\" y=\"40.97266\" style=\"fill: #ff7f0e; stroke: #ff7f0e\"/>\n     <use xlink:href=\"#m060781c321\" x=\"209.670203\" y=\"40.025475\" style=\"fill: #ff7f0e; stroke: #ff7f0e\"/>\n     <use xlink:href=\"#m060781c321\" x=\"212.087521\" y=\"39.989044\" style=\"fill: #ff7f0e; stroke: #ff7f0e\"/>\n     <use xlink:href=\"#m060781c321\" x=\"208.706309\" y=\"38.34796\" style=\"fill: #ff7f0e; stroke: #ff7f0e\"/>\n     <use xlink:href=\"#m060781c321\" x=\"212.063178\" y=\"39.440871\" style=\"fill: #ff7f0e; stroke: #ff7f0e\"/>\n     <use xlink:href=\"#m060781c321\" x=\"210.913549\" y=\"42.077915\" style=\"fill: #ff7f0e; stroke: #ff7f0e\"/>\n     <use xlink:href=\"#m060781c321\" x=\"205.03348\" y=\"44.46586\" style=\"fill: #ff7f0e; stroke: #ff7f0e\"/>\n     <use xlink:href=\"#m060781c321\" x=\"208.18856\" y=\"42.742787\" style=\"fill: #ff7f0e; stroke: #ff7f0e\"/>\n     <use xlink:href=\"#m060781c321\" x=\"209.386604\" y=\"44.183385\" style=\"fill: #ff7f0e; stroke: #ff7f0e\"/>\n     <use xlink:href=\"#m060781c321\" x=\"210.845398\" y=\"52.169382\" style=\"fill: #ff7f0e; stroke: #ff7f0e\"/>\n     <use xlink:href=\"#m060781c321\" x=\"211.615137\" y=\"48.548643\" style=\"fill: #ff7f0e; stroke: #ff7f0e\"/>\n     <use xlink:href=\"#m060781c321\" x=\"214.534801\" y=\"44.205696\" style=\"fill: #ff7f0e; stroke: #ff7f0e\"/>\n    </g>\n   </g>\n   <g id=\"PathCollection_1\"/>\n   <g id=\"PathCollection_2\">\n    <path d=\"M 133.389338 7.2 \nL 131.354961 10.753845 \nL 131.115628 11.22768 \nL 129.618631 14.307692 \nL 128.121641 17.861537 \nL 128.064069 18.023063 \nL 126.898922 21.415384 \nL 125.900228 24.96923 \nL 125.123465 28.523076 \nL 125.012502 29.233828 \nL 124.58421 32.076922 \nL 124.262994 35.630769 \nL 124.155921 39.184616 \nL 124.262994 42.738462 \nL 124.58421 46.292308 \nL 125.012502 49.135401 \nL 125.123465 49.846154 \nL 125.900228 53.400001 \nL 126.898922 56.953846 \nL 128.064069 60.346166 \nL 128.121641 60.507693 \nL 129.618631 64.061538 \nL 131.115628 67.141548 \nL 131.354961 67.615382 \nL 133.389338 71.169229 \nL 134.167188 72.38502 \nL 135.724107 74.723076 \nL 137.218755 76.753852 \nL 138.387435 78.276924 \nL 140.270314 80.517389 \nL 141.423126 81.830766 \nL 143.321874 83.820924 \nL 144.883135 85.384613 \nL 146.373441 86.766672 \nL 148.829573 88.93846 \nL 149.425 89.428646 \nL 152.476564 91.818304 \nL 153.383783 92.492307 \nL 155.528127 93.98263 \nL 158.57969 95.988833 \nL 158.672164 96.046154 \nL 161.631253 97.76923 \nL 164.682813 99.438459 \nL 164.998499 99.600001 \nL 167.734376 100.92 \nL 170.785939 102.290771 \nL 172.861005 103.153848 \nL 173.837499 103.538045 \nL 176.889062 104.64262 \nL 179.940626 105.651142 \nL 182.992189 106.563617 \nL 183.530712 106.707695 \nL 186.04375 107.345562 \nL 189.095313 108.028995 \nL 192.146877 108.621302 \nL 195.198438 109.122485 \nL 198.250001 109.532545 \nL 201.301564 109.851478 \nL 204.353126 110.07929 \nL 207.404689 110.215975 \nL 210.456251 110.261538 \nL 210.456251 110.261538 \nL 210.456251 110.261538 \nL 213.507813 110.215975 \nL 216.559376 110.07929 \nL 219.610939 109.851478 \nL 222.662501 109.532545 \nL 225.714063 109.122485 \nL 228.765626 108.621302 \nL 231.817188 108.028995 \nL 234.868751 107.345562 \nL 237.38179 106.707695 \nL 237.920313 106.563617 \n\" clip-path=\"url(#p39809e0bde)\" style=\"fill: none; stroke: #1f77b4; stroke-width: 1.5\"/>\n   </g>\n   <g id=\"PathCollection_3\">\n    <path d=\"M 94.741 7.2 \nL 94.496869 7.827163 \nL 93.387217 10.753845 \nL 92.198295 14.307692 \nL 91.44531 16.904747 \nL 91.174923 17.861537 \nL 90.325119 21.415384 \nL 89.629825 24.96923 \nL 89.089044 28.523076 \nL 88.702769 32.076922 \nL 88.471007 35.630769 \nL 88.393757 39.184277 \nL 88.39375 39.184616 \nL 88.393757 39.184954 \nL 88.471007 42.738462 \nL 88.702769 46.292308 \nL 89.089044 49.846154 \nL 89.629825 53.400001 \nL 90.325119 56.953846 \nL 91.174923 60.507693 \nL 91.44531 61.464482 \nL 92.198295 64.061538 \nL 93.387217 67.615382 \nL 94.496869 70.542066 \nL 94.741 71.169229 \nL 96.287127 74.723076 \nL 97.548436 77.346149 \nL 98.008263 78.276924 \nL 99.931161 81.830766 \nL 100.599996 82.967996 \nL 102.061308 85.384613 \nL 103.651563 87.819658 \nL 104.403397 88.93846 \nL 106.703122 92.12466 \nL 106.976403 92.492307 \nL 109.754682 95.988822 \nL 109.801639 96.046154 \nL 112.806249 99.492307 \nL 112.903126 99.600001 \nL 115.857816 102.696925 \nL 116.308047 103.153848 \nL 118.909375 105.651142 \nL 120.04725 106.707695 \nL 121.960942 108.393495 \nL 124.155924 110.261538 \nL 125.012502 110.954971 \nL 128.064069 113.338652 \nL 128.697415 113.81539 \nL 131.115628 115.550988 \nL 133.748347 117.369232 \nL 134.167188 117.645641 \nL 137.218755 119.580512 \nL 139.426266 120.923075 \nL 140.270314 121.414565 \nL 143.321874 123.115875 \nL 145.876677 124.476926 \nL 146.373441 124.730771 \nL 149.425 126.217583 \nL 152.476564 127.631866 \nL 153.383788 128.030769 \nL 155.528127 128.936653 \nL 158.57969 130.156112 \nL 161.631253 131.305886 \nL 162.418734 131.584612 \nL 164.682813 132.355733 \nL 167.734376 133.328012 \nL 170.785939 134.233237 \nL 173.837499 135.071408 \nL 174.102859 135.138463 \nL 176.889062 135.816922 \nL 179.940626 136.495383 \nL 182.992189 137.109229 \nL 186.04375 137.65846 \nL 189.095313 138.143075 \nL 192.146877 138.563078 \nL 193.256511 138.692306 \nL 195.198438 138.910526 \nL 198.250001 139.191094 \nL 201.301564 139.409311 \nL 204.353126 139.565181 \nL 207.404689 139.658704 \nL 210.456251 139.689878 \nL 213.507813 139.658704 \nL 216.559376 139.565181 \nL 219.610939 139.409311 \nL 222.662501 139.191094 \nL 225.714063 138.910526 \nL 227.655991 138.692306 \nL 228.765626 138.563078 \nL 231.817188 138.143075 \nL 234.868751 137.65846 \nL 237.920313 137.109229 \n\" clip-path=\"url(#p39809e0bde)\" style=\"fill: none; stroke: #1f77b4; stroke-width: 1.5\"/>\n   </g>\n   <g id=\"PathCollection_4\">\n    <path d=\"M 66.101283 7.2 \nL 65.009145 10.753845 \nL 64.045489 14.307692 \nL 63.981244 14.581071 \nL 63.226219 17.861537 \nL 62.534115 21.415384 \nL 61.967845 24.96923 \nL 61.527415 28.523076 \nL 61.21282 32.076922 \nL 61.024065 35.630769 \nL 60.961145 39.184616 \nL 61.024065 42.738462 \nL 61.21282 46.292308 \nL 61.527415 49.846154 \nL 61.967845 53.400001 \nL 62.534115 56.953846 \nL 63.226219 60.507693 \nL 63.981244 63.788159 \nL 64.045489 64.061538 \nL 65.009145 67.615382 \nL 66.101283 71.169229 \nL 67.032818 73.88139 \nL 67.328125 74.723076 \nL 68.706252 78.276924 \nL 70.084378 81.521744 \nL 70.218509 81.830766 \nL 71.895191 85.384613 \nL 73.135938 87.819658 \nL 73.718821 88.93846 \nL 75.70748 92.492307 \nL 76.187512 93.294806 \nL 77.871125 96.046154 \nL 79.239071 98.146162 \nL 80.208385 99.600001 \nL 82.290631 102.544624 \nL 82.731817 103.153848 \nL 85.342191 106.563617 \nL 85.455214 106.707695 \nL 88.39375 110.261538 \nL 88.393757 110.261547 \nL 91.44531 113.68536 \nL 91.564212 113.81539 \nL 94.496869 116.873336 \nL 94.98513 117.369232 \nL 97.548436 119.85692 \nL 98.677098 120.923075 \nL 100.599996 122.662189 \nL 102.66303 124.476926 \nL 103.651563 125.31099 \nL 106.703122 127.813182 \nL 106.976403 128.030769 \nL 109.754682 130.156105 \nL 111.679511 131.584612 \nL 112.806249 132.389261 \nL 115.857816 134.501452 \nL 116.808306 135.138463 \nL 118.909375 136.495381 \nL 121.960942 138.401542 \nL 122.442758 138.692306 \nL 125.012502 140.188665 \nL 128.064069 141.903241 \nL 128.697416 142.246157 \nL 131.115628 143.511083 \nL 134.167188 145.047066 \nL 135.724104 145.8 \n\" clip-path=\"url(#p39809e0bde)\" style=\"fill: none; stroke: #1f77b4; stroke-width: 1.5\"/>\n   </g>\n   <g id=\"PathCollection_5\">\n    <path d=\"M 42.620312 72.385026 \nL 43.320213 74.723076 \nL 44.496043 78.276924 \nL 45.671872 81.521729 \nL 45.785952 81.830766 \nL 47.211915 85.384613 \nL 48.723432 88.872634 \nL 48.7525 88.93846 \nL 50.438126 92.492307 \nL 51.775006 95.129054 \nL 52.249024 96.046154 \nL 54.204398 99.600001 \nL 54.826565 100.666162 \nL 56.307021 103.153848 \nL 57.878125 105.651143 \nL 58.556253 106.707695 \nL 60.929685 110.215966 \nL 60.961151 110.261538 \nL 63.540821 113.81539 \nL 63.981244 114.393913 \nL 66.294014 117.369232 \nL 67.032818 118.277443 \nL 69.231252 120.923075 \nL 70.084378 121.906056 \nL 72.364666 124.476926 \nL 73.135938 125.31099 \nL 75.70748 128.030769 \nL 76.187512 128.518562 \nL 79.239071 131.549789 \nL 79.274952 131.584612 \nL 82.290631 134.400881 \nL 83.09947 135.138463 \nL 85.342191 137.109235 \nL 87.188189 138.692306 \nL 88.393757 139.689886 \nL 91.44531 142.152627 \nL 91.564212 142.246157 \nL 94.496869 144.474831 \nL 96.287127 145.8 \n\" clip-path=\"url(#p39809e0bde)\" style=\"fill: none; stroke: #1f77b4; stroke-width: 1.5\"/>\n   </g>\n   <g id=\"PathCollection_6\">\n    <path d=\"M 42.620312 117.645641 \nL 44.943982 120.923075 \nL 45.671872 121.90605 \nL 47.611182 124.476926 \nL 48.723432 125.891204 \nL 50.438126 128.030769 \nL 51.775006 129.633492 \nL 53.434101 131.584612 \nL 54.826565 133.160378 \nL 56.609163 135.138463 \nL 57.878125 136.495381 \nL 59.974143 138.692306 \nL 60.929685 139.658706 \nL 63.540815 142.246157 \nL 63.981244 142.667798 \nL 67.032818 145.528954 \nL 67.32812 145.8 \n\" clip-path=\"url(#p39809e0bde)\" style=\"fill: none; stroke: #1f77b4; stroke-width: 1.5\"/>\n   </g>\n   <g id=\"PathCollection_7\">\n    <path d=\"M 42.620312 145.047067 \nL 43.320214 145.8 \n\" clip-path=\"url(#p39809e0bde)\" style=\"fill: none; stroke: #1f77b4; stroke-width: 1.5\"/>\n   </g>\n   <g id=\"PathCollection_8\"/>\n   <g id=\"patch_3\">\n    <path d=\"M 42.620312 145.8 \nL 42.620312 7.2 \n\" style=\"fill: none; stroke: #000000; stroke-width: 0.8; stroke-linejoin: miter; stroke-linecap: square\"/>\n   </g>\n   <g id=\"patch_4\">\n    <path d=\"M 237.920313 145.8 \nL 237.920313 7.2 \n\" style=\"fill: none; stroke: #000000; stroke-width: 0.8; stroke-linejoin: miter; stroke-linecap: square\"/>\n   </g>\n   <g id=\"patch_5\">\n    <path d=\"M 42.620312 145.8 \nL 237.920313 145.8 \n\" style=\"fill: none; stroke: #000000; stroke-width: 0.8; stroke-linejoin: miter; stroke-linecap: square\"/>\n   </g>\n   <g id=\"patch_6\">\n    <path d=\"M 42.620312 7.2 \nL 237.920313 7.2 \n\" style=\"fill: none; stroke: #000000; stroke-width: 0.8; stroke-linejoin: miter; stroke-linecap: square\"/>\n   </g>\n  </g>\n </g>\n <defs>\n  <clipPath id=\"p39809e0bde\">\n   <rect x=\"42.620312\" y=\"7.2\" width=\"195.3\" height=\"138.6\"/>\n  </clipPath>\n </defs>\n</svg>\n"
          },
          "metadata": {}
        }
      ]
    }
  ]
}