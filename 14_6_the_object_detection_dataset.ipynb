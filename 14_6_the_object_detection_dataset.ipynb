{
  "nbformat": 4,
  "nbformat_minor": 0,
  "metadata": {
    "colab": {
      "provenance": [],
      "authorship_tag": "ABX9TyMe4KbyeHkR7jzCn7MoRLmu",
      "include_colab_link": true
    },
    "kernelspec": {
      "name": "python3",
      "display_name": "Python 3"
    },
    "language_info": {
      "name": "python"
    }
  },
  "cells": [
    {
      "cell_type": "markdown",
      "metadata": {
        "id": "view-in-github",
        "colab_type": "text"
      },
      "source": [
        "<a href=\"https://colab.research.google.com/github/DavoodSZ1993/Dive_into_Deep_Learning/blob/main/14_6_the_object_detection_dataset.ipynb\" target=\"_parent\"><img src=\"https://colab.research.google.com/assets/colab-badge.svg\" alt=\"Open In Colab\"/></a>"
      ]
    },
    {
      "cell_type": "code",
      "execution_count": 1,
      "metadata": {
        "colab": {
          "base_uri": "https://localhost:8080/"
        },
        "id": "PCf5SevGLQLf",
        "outputId": "59d403c6-9cee-4466-d13f-46f03e18fd92"
      },
      "outputs": [
        {
          "output_type": "stream",
          "name": "stdout",
          "text": [
            "\u001b[2K     \u001b[90m━━━━━━━━━━━━━━━━━━━━━━━━━━━━━━━━━━━━━━━━\u001b[0m \u001b[32m93.0/93.0 kB\u001b[0m \u001b[31m3.0 MB/s\u001b[0m eta \u001b[36m0:00:00\u001b[0m\n",
            "\u001b[2K     \u001b[90m━━━━━━━━━━━━━━━━━━━━━━━━━━━━━━━━━━━━━━━\u001b[0m \u001b[32m121.9/121.9 kB\u001b[0m \u001b[31m7.3 MB/s\u001b[0m eta \u001b[36m0:00:00\u001b[0m\n",
            "\u001b[2K     \u001b[90m━━━━━━━━━━━━━━━━━━━━━━━━━━━━━━━━━━━━━━━━\u001b[0m \u001b[32m84.9/84.9 kB\u001b[0m \u001b[31m4.4 MB/s\u001b[0m eta \u001b[36m0:00:00\u001b[0m\n",
            "\u001b[2K     \u001b[90m━━━━━━━━━━━━━━━━━━━━━━━━━━━━━━━━━━━━━━━━\u001b[0m \u001b[32m1.6/1.6 MB\u001b[0m \u001b[31m40.4 MB/s\u001b[0m eta \u001b[36m0:00:00\u001b[0m\n",
            "\u001b[?25h"
          ]
        }
      ],
      "source": [
        "!pip install d2l==1.0.0-alpha1.post0 --quiet"
      ]
    },
    {
      "cell_type": "markdown",
      "source": [
        "## 14.6 The Object Detection Dataset"
      ],
      "metadata": {
        "id": "iBicUTbbLXEM"
      }
    },
    {
      "cell_type": "markdown",
      "source": [
        "### 14.6.1 Downloading the Dataset"
      ],
      "metadata": {
        "id": "kJzk1TTPMlW9"
      }
    },
    {
      "cell_type": "code",
      "source": [
        "%matplotlib inline\n",
        "import os\n",
        "import pandas as pd\n",
        "import torch\n",
        "import torchvision\n",
        "from d2l import torch as d2l"
      ],
      "metadata": {
        "id": "p0P_CPVlLcIs"
      },
      "execution_count": 2,
      "outputs": []
    },
    {
      "cell_type": "code",
      "source": [
        "d2l.DATA_HUB['banana-detection'] = (\n",
        "    d2l.DATA_URL + 'banana-detection.zip',\n",
        "    '5de26c8fce5ccdea9f91267273464dc968d20d72')"
      ],
      "metadata": {
        "id": "2F_ucZj8M3Wi"
      },
      "execution_count": 3,
      "outputs": []
    },
    {
      "cell_type": "markdown",
      "source": [
        "### 14.6.2 Reading the Dataset"
      ],
      "metadata": {
        "id": "W3FgKm6YNKcj"
      }
    },
    {
      "cell_type": "code",
      "source": [
        "def read_data_bananas(is_train=True):\n",
        "  \"\"\"Read the banana detection dataset images and labels.\"\"\"\n",
        "  data_dir = d2l.download_extract('banana-detection')\n",
        "  csv_fname = os.path.join(data_dir, 'bananas_train' if is_train\n",
        "                           else 'bananas_val', 'label.csv')\n",
        "  csv_data = pd.read_csv(csv_fname)\n",
        "  csv_data = csv_data.set_index('img_name')\n",
        "  images, targets = [], []\n",
        "  for img_name, target in csv_data.iterrows():\n",
        "    images.append(torchvision.io.read_image(\n",
        "        os.path.join(data_dir, 'bananas_train' if is_train else\n",
        "                     'bananas_val', 'images', f'{img_name}')))\n",
        "    targets.append(list(target))\n",
        "  return images, torch.tensor(targets).unsqueeze(1) / 256"
      ],
      "metadata": {
        "id": "HGWnBceFNNsO"
      },
      "execution_count": 4,
      "outputs": []
    },
    {
      "cell_type": "code",
      "source": [
        "class BananasDataset(torch.utils.data.Dataset):\n",
        "  \"\"\"A Customized dataset to load the banana detection dataset.\"\"\"\n",
        "  def __init__(self, is_train):\n",
        "    self.features, self.labels = read_data_bananas(is_train)\n",
        "    print('read' + str(len(self.features)) + (f' training examples' if \n",
        "          is_train else f' validation examples'))\n",
        "    \n",
        "  def __getitem__(self, idx):\n",
        "    return (self.features[idx].float(), self.labels[idx])\n",
        "\n",
        "  def __len__(self):\n",
        "    return len(self.features)"
      ],
      "metadata": {
        "id": "uyyMIw2qP-bZ"
      },
      "execution_count": 5,
      "outputs": []
    },
    {
      "cell_type": "code",
      "source": [
        "def load_data_bananas(batch_size):\n",
        "  \"\"\"Load the banana detection dataset\"\"\"\n",
        "  train_iter = torch.utils.data.DataLoader(BananasDataset(is_train=True),\n",
        "                                           batch_size, shuffle=True)\n",
        "  val_iter = torch.utils.data.DataLoader(BananasDataset(is_train=False),\n",
        "                                         batch_size)\n",
        "  return train_iter, val_iter"
      ],
      "metadata": {
        "id": "XBRC0hKjRGmQ"
      },
      "execution_count": 6,
      "outputs": []
    },
    {
      "cell_type": "code",
      "source": [
        "batch_size, edge_size = 32, 256\n",
        "train_iter, _ = load_data_bananas(batch_size)\n",
        "batch = next(iter(train_iter))\n",
        "batch[0].shape, batch[1].shape"
      ],
      "metadata": {
        "colab": {
          "base_uri": "https://localhost:8080/"
        },
        "id": "xS5GRRsoSPes",
        "outputId": "e67cd345-ca33-4d1e-c230-b73da61fe324"
      },
      "execution_count": 7,
      "outputs": [
        {
          "output_type": "stream",
          "name": "stdout",
          "text": [
            "Downloading ../data/banana-detection.zip from http://d2l-data.s3-accelerate.amazonaws.com/banana-detection.zip...\n",
            "read1000 training examples\n",
            "read100 validation examples\n"
          ]
        },
        {
          "output_type": "execute_result",
          "data": {
            "text/plain": [
              "(torch.Size([32, 3, 256, 256]), torch.Size([32, 1, 5]))"
            ]
          },
          "metadata": {},
          "execution_count": 7
        }
      ]
    }
  ]
}