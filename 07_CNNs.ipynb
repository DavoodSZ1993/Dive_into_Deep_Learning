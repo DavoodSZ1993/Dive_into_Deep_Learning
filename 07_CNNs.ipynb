{
  "nbformat": 4,
  "nbformat_minor": 0,
  "metadata": {
    "colab": {
      "provenance": [],
      "authorship_tag": "ABX9TyNUAr/4lFqyqWJQruxIcHe5",
      "include_colab_link": true
    },
    "kernelspec": {
      "name": "python3",
      "display_name": "Python 3"
    },
    "language_info": {
      "name": "python"
    }
  },
  "cells": [
    {
      "cell_type": "markdown",
      "metadata": {
        "id": "view-in-github",
        "colab_type": "text"
      },
      "source": [
        "<a href=\"https://colab.research.google.com/github/DavoodSZ1993/Dive_into_Deep_Learning/blob/main/07_CNNs.ipynb\" target=\"_parent\"><img src=\"https://colab.research.google.com/assets/colab-badge.svg\" alt=\"Open In Colab\"/></a>"
      ]
    },
    {
      "cell_type": "markdown",
      "source": [
        "# 7 Convolutional Neural Networks"
      ],
      "metadata": {
        "id": "dACR8t0JX-C7"
      }
    },
    {
      "cell_type": "markdown",
      "source": [
        "## 7.2 Convolutions for Images\n",
        "\n"
      ],
      "metadata": {
        "id": "_DPwNYwBYYpY"
      }
    },
    {
      "cell_type": "markdown",
      "source": [
        "### 7.2.1 The Cross-Correlation Operation"
      ],
      "metadata": {
        "id": "9TwhUrGwbeA4"
      }
    },
    {
      "cell_type": "code",
      "execution_count": 1,
      "metadata": {
        "colab": {
          "base_uri": "https://localhost:8080/"
        },
        "id": "KnLjios0X4OW",
        "outputId": "9d1eeb2c-0c79-4ccd-d5d5-e646e237fc0f"
      },
      "outputs": [
        {
          "output_type": "stream",
          "name": "stdout",
          "text": [
            "\u001b[2K     \u001b[90m━━━━━━━━━━━━━━━━━━━━━━━━━━━━━━━━━━━━━━━━\u001b[0m \u001b[32m93.0/93.0 KB\u001b[0m \u001b[31m2.5 MB/s\u001b[0m eta \u001b[36m0:00:00\u001b[0m\n",
            "\u001b[2K     \u001b[90m━━━━━━━━━━━━━━━━━━━━━━━━━━━━━━━━━━━━━━━\u001b[0m \u001b[32m121.0/121.0 KB\u001b[0m \u001b[31m5.3 MB/s\u001b[0m eta \u001b[36m0:00:00\u001b[0m\n",
            "\u001b[2K     \u001b[90m━━━━━━━━━━━━━━━━━━━━━━━━━━━━━━━━━━━━━━━━\u001b[0m \u001b[32m83.6/83.6 KB\u001b[0m \u001b[31m5.0 MB/s\u001b[0m eta \u001b[36m0:00:00\u001b[0m\n",
            "\u001b[2K     \u001b[90m━━━━━━━━━━━━━━━━━━━━━━━━━━━━━━━━━━━━━━━━\u001b[0m \u001b[32m1.6/1.6 MB\u001b[0m \u001b[31m31.0 MB/s\u001b[0m eta \u001b[36m0:00:00\u001b[0m\n",
            "\u001b[?25h"
          ]
        }
      ],
      "source": [
        "!pip install d2l==1.0.0-alpha1.post0 --quiet"
      ]
    },
    {
      "cell_type": "code",
      "source": [
        "import torch\n",
        "from torch import nn\n",
        "from d2l import torch as d2l"
      ],
      "metadata": {
        "colab": {
          "base_uri": "https://localhost:8080/"
        },
        "id": "SVCT4lhPZIjc",
        "outputId": "0fd02e37-aebd-4f16-b203-318ed37429cd"
      },
      "execution_count": null,
      "outputs": [
        {
          "output_type": "stream",
          "name": "stderr",
          "text": [
            "/usr/local/lib/python3.8/dist-packages/torch/cuda/__init__.py:497: UserWarning: Can't initialize NVML\n",
            "  warnings.warn(\"Can't initialize NVML\")\n"
          ]
        }
      ]
    },
    {
      "cell_type": "code",
      "source": [
        "def corr2d(X, K):\n",
        "  h, w = K.shape\n",
        "  Y = torch.zeros((X.shape[0] - h + 1, X.shape[1] - w + 1))\n",
        "  \n",
        "  for i in range(Y.shape[0]):\n",
        "    for j in range(Y.shape[1]):\n",
        "      Y[i, j] = (X[i:i + h, j:j + w] * K).sum()\n",
        "\n",
        "  return Y"
      ],
      "metadata": {
        "id": "Lq1rKlOJZQti"
      },
      "execution_count": null,
      "outputs": []
    },
    {
      "cell_type": "code",
      "source": [
        "X = torch.tensor([[0.0, 1.0, 2.0],\n",
        "                  [3.0, 4.0, 5.0],\n",
        "                  [6.0, 7.0, 8.0]])\n",
        "K = torch.tensor([[0.0, 1.0],\n",
        "                  [2.0, 3.0]])\n",
        "\n",
        "corr2d(X, K)"
      ],
      "metadata": {
        "colab": {
          "base_uri": "https://localhost:8080/"
        },
        "id": "9velqgxlZ7vA",
        "outputId": "b97b0ef4-4e30-419f-98f4-b4879b70ee92"
      },
      "execution_count": null,
      "outputs": [
        {
          "output_type": "execute_result",
          "data": {
            "text/plain": [
              "tensor([[19., 25.],\n",
              "        [37., 43.]])"
            ]
          },
          "metadata": {},
          "execution_count": 4
        }
      ]
    },
    {
      "cell_type": "markdown",
      "source": [
        "### 7.2.2 Convolutional Layers"
      ],
      "metadata": {
        "id": "zbMg5EmRacxB"
      }
    },
    {
      "cell_type": "code",
      "source": [
        "class Conv2D(nn.Module):\n",
        "  def __init__(self, kernel_size):\n",
        "    super().__init__()\n",
        "\n",
        "    self.weight = nn.Parameter(torch.rand(kernel_size))\n",
        "    self.bias = nn.Parameter(torch.zeros(1))\n",
        "\n",
        "  def forward(self, X):\n",
        "    return corr2d(X, self.weight) + self.bias"
      ],
      "metadata": {
        "id": "G7e9NUVIagST"
      },
      "execution_count": null,
      "outputs": []
    },
    {
      "cell_type": "markdown",
      "source": [
        "### 7.2.3 Object Edge Detection in Images"
      ],
      "metadata": {
        "id": "BbwAJX7JbS2o"
      }
    },
    {
      "cell_type": "code",
      "source": [
        "X = torch.ones((6, 8))\n",
        "X[:, 2:6] = 0\n",
        "X, X.shape"
      ],
      "metadata": {
        "colab": {
          "base_uri": "https://localhost:8080/"
        },
        "id": "8sETmIDRbYCI",
        "outputId": "32cf49f2-00db-4f8c-9a8b-733db92ab9f7"
      },
      "execution_count": null,
      "outputs": [
        {
          "output_type": "execute_result",
          "data": {
            "text/plain": [
              "(tensor([[1., 1., 0., 0., 0., 0., 1., 1.],\n",
              "         [1., 1., 0., 0., 0., 0., 1., 1.],\n",
              "         [1., 1., 0., 0., 0., 0., 1., 1.],\n",
              "         [1., 1., 0., 0., 0., 0., 1., 1.],\n",
              "         [1., 1., 0., 0., 0., 0., 1., 1.],\n",
              "         [1., 1., 0., 0., 0., 0., 1., 1.]]), torch.Size([6, 8]))"
            ]
          },
          "metadata": {},
          "execution_count": 8
        }
      ]
    },
    {
      "cell_type": "code",
      "source": [
        "K = torch.tensor([[1.0, -1.0]])\n",
        "K.shape"
      ],
      "metadata": {
        "colab": {
          "base_uri": "https://localhost:8080/"
        },
        "id": "ruI7IY4RbswC",
        "outputId": "bc2bc789-4835-4746-a5ad-e42133a4ac51"
      },
      "execution_count": null,
      "outputs": [
        {
          "output_type": "execute_result",
          "data": {
            "text/plain": [
              "torch.Size([1, 2])"
            ]
          },
          "metadata": {},
          "execution_count": 7
        }
      ]
    },
    {
      "cell_type": "code",
      "source": [
        "Y = corr2d(X, K)\n",
        "Y"
      ],
      "metadata": {
        "colab": {
          "base_uri": "https://localhost:8080/"
        },
        "id": "a_8ruZBmcA4v",
        "outputId": "fb46fb68-7804-456d-9759-df9fbd99716e"
      },
      "execution_count": null,
      "outputs": [
        {
          "output_type": "execute_result",
          "data": {
            "text/plain": [
              "tensor([[ 0.,  1.,  0.,  0.,  0., -1.,  0.],\n",
              "        [ 0.,  1.,  0.,  0.,  0., -1.,  0.],\n",
              "        [ 0.,  1.,  0.,  0.,  0., -1.,  0.],\n",
              "        [ 0.,  1.,  0.,  0.,  0., -1.,  0.],\n",
              "        [ 0.,  1.,  0.,  0.,  0., -1.,  0.],\n",
              "        [ 0.,  1.,  0.,  0.,  0., -1.,  0.]])"
            ]
          },
          "metadata": {},
          "execution_count": 10
        }
      ]
    },
    {
      "cell_type": "code",
      "source": [
        "corr2d(X.t(), K)"
      ],
      "metadata": {
        "colab": {
          "base_uri": "https://localhost:8080/"
        },
        "id": "UJEb5frjcUTS",
        "outputId": "2d1b6eef-383d-4524-fcf6-4c29258d8608"
      },
      "execution_count": null,
      "outputs": [
        {
          "output_type": "execute_result",
          "data": {
            "text/plain": [
              "tensor([[0., 0., 0., 0., 0.],\n",
              "        [0., 0., 0., 0., 0.],\n",
              "        [0., 0., 0., 0., 0.],\n",
              "        [0., 0., 0., 0., 0.],\n",
              "        [0., 0., 0., 0., 0.],\n",
              "        [0., 0., 0., 0., 0.],\n",
              "        [0., 0., 0., 0., 0.],\n",
              "        [0., 0., 0., 0., 0.]])"
            ]
          },
          "metadata": {},
          "execution_count": 11
        }
      ]
    },
    {
      "cell_type": "markdown",
      "source": [
        "### 7.2.4 Learning a Kernel"
      ],
      "metadata": {
        "id": "LLo9XcZ9caX-"
      }
    },
    {
      "cell_type": "code",
      "source": [
        "conv2d = nn.LazyConv2d(1, kernel_size=(1, 2), bias=False)\n",
        "\n",
        "X = X.reshape((1, 1, 6, 8))\n",
        "Y = Y.reshape((1, 1, 6, 7))\n",
        "\n",
        "lr = 3e-2 # Learning rate\n",
        "num_epochs = 10\n",
        "\n",
        "for i in range(num_epochs):\n",
        "  Y_hat = conv2d(X)\n",
        "  l = (Y_hat - Y) ** 2\n",
        "  conv2d.zero_grad()\n",
        "  l.sum().backward()\n",
        "\n",
        "  # Update the kernel\n",
        "  conv2d.weight.data[:] -= lr * conv2d.weight.grad\n",
        "\n",
        "  if (i + 1) % 2 == 0:                                    # % is modulus operator in python \n",
        "    print(f'epoch {i + 1}, loss {l.sum(): .3f}')"
      ],
      "metadata": {
        "colab": {
          "base_uri": "https://localhost:8080/"
        },
        "id": "4Xi9U1xScfCC",
        "outputId": "bbedc900-55e4-4597-e2f4-9b2d74258139"
      },
      "execution_count": null,
      "outputs": [
        {
          "output_type": "stream",
          "name": "stdout",
          "text": [
            "epoch 2, loss  9.068\n",
            "epoch 4, loss  3.089\n",
            "epoch 6, loss  1.160\n",
            "epoch 8, loss  0.458\n",
            "epoch 10, loss  0.185\n"
          ]
        }
      ]
    },
    {
      "cell_type": "code",
      "source": [
        "conv2d.weight.data.reshape((1, 2))"
      ],
      "metadata": {
        "colab": {
          "base_uri": "https://localhost:8080/"
        },
        "id": "FRdW0uvjeD-5",
        "outputId": "58b5b67e-90ce-43ba-c7e4-75cee2643d4f"
      },
      "execution_count": null,
      "outputs": [
        {
          "output_type": "execute_result",
          "data": {
            "text/plain": [
              "tensor([[ 1.0358, -0.9475]])"
            ]
          },
          "metadata": {},
          "execution_count": 15
        }
      ]
    },
    {
      "cell_type": "markdown",
      "source": [
        "## 7.3 Padding and Stride"
      ],
      "metadata": {
        "id": "_Zmb4UPx1G9m"
      }
    },
    {
      "cell_type": "markdown",
      "source": [
        "### 7.3.1 Padding"
      ],
      "metadata": {
        "id": "aZ_GXU5M1MVW"
      }
    },
    {
      "cell_type": "code",
      "source": [
        "import torch\n",
        "from torch import nn"
      ],
      "metadata": {
        "id": "iSLAwFHJ1PkH"
      },
      "execution_count": null,
      "outputs": []
    },
    {
      "cell_type": "code",
      "source": [
        "def comp_conv2d(conv2d, X):\n",
        "  \n",
        "  X = X.reshape((1, 1) + X.shape)\n",
        "  Y = conv2d(X)\n",
        "\n",
        "  return Y.reshape(Y.shape[2:])"
      ],
      "metadata": {
        "id": "a4mb968t1fK2"
      },
      "execution_count": null,
      "outputs": []
    },
    {
      "cell_type": "code",
      "source": [
        "conv2d = nn.LazyConv2d(1, kernel_size=3, padding=1)\n",
        "X = torch.rand(size=(8, 8))\n",
        "\n",
        "comp_conv2d(conv2d, X).shape"
      ],
      "metadata": {
        "colab": {
          "base_uri": "https://localhost:8080/"
        },
        "id": "QPW7SM4L106y",
        "outputId": "049a1ffd-330d-49b0-d4c3-8acd3c1bf9a6"
      },
      "execution_count": null,
      "outputs": [
        {
          "output_type": "execute_result",
          "data": {
            "text/plain": [
              "torch.Size([8, 8])"
            ]
          },
          "metadata": {},
          "execution_count": 20
        }
      ]
    },
    {
      "cell_type": "code",
      "source": [
        "conv2d = nn.LazyConv2d(1, kernel_size=(5, 3), padding=(2, 1))\n",
        "\n",
        "comp_conv2d(conv2d, X).shape"
      ],
      "metadata": {
        "colab": {
          "base_uri": "https://localhost:8080/"
        },
        "id": "gFo6Tg7D2a2R",
        "outputId": "74d2eea4-70b2-463e-d35e-810cdad44a78"
      },
      "execution_count": null,
      "outputs": [
        {
          "output_type": "stream",
          "name": "stderr",
          "text": [
            "/usr/local/lib/python3.8/dist-packages/torch/nn/modules/lazy.py:180: UserWarning: Lazy modules are a new feature under heavy development so changes to the API or functionality can happen at any moment.\n",
            "  warnings.warn('Lazy modules are a new feature under heavy development '\n"
          ]
        },
        {
          "output_type": "execute_result",
          "data": {
            "text/plain": [
              "torch.Size([8, 8])"
            ]
          },
          "metadata": {},
          "execution_count": 19
        }
      ]
    },
    {
      "cell_type": "markdown",
      "source": [
        "### 7.3.2 Stride"
      ],
      "metadata": {
        "id": "fQvYpZJJ1QAm"
      }
    },
    {
      "cell_type": "code",
      "source": [
        "conv2d = nn.LazyConv2d(1, kernel_size=3, padding=1, stride=2)\n",
        "\n",
        "comp_conv2d(conv2d, X).shape"
      ],
      "metadata": {
        "colab": {
          "base_uri": "https://localhost:8080/"
        },
        "id": "iRCXI91b6kZ-",
        "outputId": "21514fdf-def8-430c-b059-a7f9f3991ecf"
      },
      "execution_count": null,
      "outputs": [
        {
          "output_type": "stream",
          "name": "stderr",
          "text": [
            "/usr/local/lib/python3.8/dist-packages/torch/nn/modules/lazy.py:180: UserWarning: Lazy modules are a new feature under heavy development so changes to the API or functionality can happen at any moment.\n",
            "  warnings.warn('Lazy modules are a new feature under heavy development '\n"
          ]
        },
        {
          "output_type": "execute_result",
          "data": {
            "text/plain": [
              "torch.Size([4, 4])"
            ]
          },
          "metadata": {},
          "execution_count": 21
        }
      ]
    },
    {
      "cell_type": "code",
      "source": [
        "conv2d = nn.LazyConv2d(1, kernel_size=(3, 5), padding=(0, 1), stride=(3, 4))\n",
        "\n",
        "comp_conv2d(conv2d, X).shape"
      ],
      "metadata": {
        "colab": {
          "base_uri": "https://localhost:8080/"
        },
        "id": "Kfugwm7N7BeA",
        "outputId": "36e2bfac-b89c-46c7-bc2b-09f330a827d5"
      },
      "execution_count": null,
      "outputs": [
        {
          "output_type": "stream",
          "name": "stderr",
          "text": [
            "/usr/local/lib/python3.8/dist-packages/torch/nn/modules/lazy.py:180: UserWarning: Lazy modules are a new feature under heavy development so changes to the API or functionality can happen at any moment.\n",
            "  warnings.warn('Lazy modules are a new feature under heavy development '\n"
          ]
        },
        {
          "output_type": "execute_result",
          "data": {
            "text/plain": [
              "torch.Size([2, 2])"
            ]
          },
          "metadata": {},
          "execution_count": 23
        }
      ]
    },
    {
      "cell_type": "markdown",
      "source": [
        "## 7.4 Multiple Input and Multiple Output Channels"
      ],
      "metadata": {
        "id": "TOjyqgzSEeMi"
      }
    },
    {
      "cell_type": "markdown",
      "source": [
        "### 7.4.1 Multiple Input Channels"
      ],
      "metadata": {
        "id": "opQDPyLgEkUB"
      }
    },
    {
      "cell_type": "code",
      "source": [
        "import torch\n",
        "from d2l import torch as d2l"
      ],
      "metadata": {
        "id": "YD0SQaWREofj",
        "colab": {
          "base_uri": "https://localhost:8080/"
        },
        "outputId": "7688fe42-3a29-4647-a347-17aa62bad366"
      },
      "execution_count": 2,
      "outputs": [
        {
          "output_type": "stream",
          "name": "stderr",
          "text": [
            "/usr/local/lib/python3.8/dist-packages/torch/cuda/__init__.py:497: UserWarning: Can't initialize NVML\n",
            "  warnings.warn(\"Can't initialize NVML\")\n"
          ]
        }
      ]
    },
    {
      "cell_type": "code",
      "source": [
        "def corr2d_multi_in(X, K):\n",
        "  return sum(d2l.corr2d(x, k) for x, k in zip(X, K))  # loop of the channles"
      ],
      "metadata": {
        "id": "IpWh9EbREwn4"
      },
      "execution_count": 7,
      "outputs": []
    },
    {
      "cell_type": "code",
      "source": [
        "X = torch.tensor([[[0.0, 1.0, 2.0], [3.0, 4.0, 5.0], [6.0, 7.0, 8.0]],\n",
        "                  [[1.0, 2.0, 3.0], [4.0, 5.0, 6.0], [7.0, 8.0, 9.0]]]) # 2 (channels) x 3(Height) x 3(width)\n",
        "K = torch.tensor([[[0.0, 1.0], [2.0, 3.0]], [[1.0, 2.0], [3.0, 4.0]]])  # 2 (channels) x 2 (height) x 2 (width)\n",
        "\n",
        "X.shape, K.shape"
      ],
      "metadata": {
        "colab": {
          "base_uri": "https://localhost:8080/"
        },
        "id": "4Dj-siXgFGsq",
        "outputId": "f3fb232b-8c79-46a1-a6d6-e1b143a3932d"
      },
      "execution_count": 8,
      "outputs": [
        {
          "output_type": "execute_result",
          "data": {
            "text/plain": [
              "(torch.Size([2, 3, 3]), torch.Size([2, 2, 2]))"
            ]
          },
          "metadata": {},
          "execution_count": 8
        }
      ]
    },
    {
      "cell_type": "code",
      "source": [
        "corr2d_multi_in(X, K)"
      ],
      "metadata": {
        "colab": {
          "base_uri": "https://localhost:8080/"
        },
        "id": "wKsfzzB2GbEQ",
        "outputId": "90c4061c-9091-4c4e-bb32-430507d1b2f0"
      },
      "execution_count": 9,
      "outputs": [
        {
          "output_type": "execute_result",
          "data": {
            "text/plain": [
              "tensor([[ 56.,  72.],\n",
              "        [104., 120.]])"
            ]
          },
          "metadata": {},
          "execution_count": 9
        }
      ]
    },
    {
      "cell_type": "markdown",
      "source": [
        "### 7.4.2 Multiple Output Channels"
      ],
      "metadata": {
        "id": "tPmjYs6OGtFG"
      }
    },
    {
      "cell_type": "code",
      "source": [
        "def corr2d_multi_in_out(X, K):\n",
        "  return torch.stack([corr2d_multi_in(X, k) for k in K], 0)"
      ],
      "metadata": {
        "id": "f2L9G3KHG03B"
      },
      "execution_count": 10,
      "outputs": []
    },
    {
      "cell_type": "code",
      "source": [
        "K = torch.stack((K, K, K), 0)\n",
        "K.shape"
      ],
      "metadata": {
        "colab": {
          "base_uri": "https://localhost:8080/"
        },
        "id": "vGaCCKQ6HP1w",
        "outputId": "a7415c9a-10a6-42cf-fb58-564d0611f4f9"
      },
      "execution_count": 11,
      "outputs": [
        {
          "output_type": "execute_result",
          "data": {
            "text/plain": [
              "torch.Size([3, 2, 2, 2])"
            ]
          },
          "metadata": {},
          "execution_count": 11
        }
      ]
    },
    {
      "cell_type": "code",
      "source": [
        "corr2d_multi_in_out(X, K)"
      ],
      "metadata": {
        "colab": {
          "base_uri": "https://localhost:8080/"
        },
        "id": "Ikz8RgzqHYnZ",
        "outputId": "70f1bcb7-34b8-4b38-8d60-44f8332ea445"
      },
      "execution_count": 12,
      "outputs": [
        {
          "output_type": "execute_result",
          "data": {
            "text/plain": [
              "tensor([[[ 56.,  72.],\n",
              "         [104., 120.]],\n",
              "\n",
              "        [[ 56.,  72.],\n",
              "         [104., 120.]],\n",
              "\n",
              "        [[ 56.,  72.],\n",
              "         [104., 120.]]])"
            ]
          },
          "metadata": {},
          "execution_count": 12
        }
      ]
    },
    {
      "cell_type": "code",
      "source": [
        "K = torch.tensor([[[0.0, 1.0], [2.0, 3.0]], [[1.0, 2.0], [3.0, 4.0]]]) \n",
        "K = torch.stack((K, K + 1, K + 2), 0)\n",
        "\n",
        "corr2d_multi_in_out(X, K)"
      ],
      "metadata": {
        "colab": {
          "base_uri": "https://localhost:8080/"
        },
        "id": "6dPYePGxHh4O",
        "outputId": "74c8c3b0-1541-4db3-fab9-2f9d3026b5f3"
      },
      "execution_count": 13,
      "outputs": [
        {
          "output_type": "execute_result",
          "data": {
            "text/plain": [
              "tensor([[[ 56.,  72.],\n",
              "         [104., 120.]],\n",
              "\n",
              "        [[ 76., 100.],\n",
              "         [148., 172.]],\n",
              "\n",
              "        [[ 96., 128.],\n",
              "         [192., 224.]]])"
            ]
          },
          "metadata": {},
          "execution_count": 13
        }
      ]
    },
    {
      "cell_type": "markdown",
      "source": [
        "### 7.4.3 1 $\\times$ 1 Convolutional Layer"
      ],
      "metadata": {
        "id": "UEbBe1GAh1fC"
      }
    },
    {
      "cell_type": "code",
      "source": [
        "def corr2d_multi_in_out_1x1(X, K):\n",
        "  c_i, h, w = X.shape\n",
        "  c_o = K.shape[0]\n",
        "  X = X.reshape((c_i, h*w))\n",
        "  K = K.reshape((c_o, c_i))\n",
        "\n",
        "  Y = torch.matmul(K, X)\n",
        "  return Y.reshape((c_o, h, w))"
      ],
      "metadata": {
        "id": "V-_aTZU1h-x5"
      },
      "execution_count": 14,
      "outputs": []
    },
    {
      "cell_type": "code",
      "source": [
        "X = torch.normal(0, 1, (3, 3, 3))\n",
        "K = torch.normal(0, 1, (2, 3, 1, 1))"
      ],
      "metadata": {
        "id": "4qCJFDpyjXzB"
      },
      "execution_count": 16,
      "outputs": []
    },
    {
      "cell_type": "code",
      "source": [
        "Y1 = corr2d_multi_in_out_1x1(X, K)\n",
        "Y2 = corr2d_multi_in_out(X, K)\n",
        "\n",
        "assert float(torch.abs(Y1 - Y2).sum()) < 1e-6"
      ],
      "metadata": {
        "id": "5thHKqmJjjl6"
      },
      "execution_count": 17,
      "outputs": []
    },
    {
      "cell_type": "markdown",
      "source": [
        "## 7.5 Pooling"
      ],
      "metadata": {
        "id": "5OmKdABKsVEp"
      }
    },
    {
      "cell_type": "markdown",
      "source": [
        "### 7.5.1 Maximum Pooling and Average pooling"
      ],
      "metadata": {
        "id": "Yp9K0mWDsf9A"
      }
    },
    {
      "cell_type": "code",
      "source": [
        "import torch\n",
        "from torch import nn\n",
        "from d2l import torch as d2l"
      ],
      "metadata": {
        "id": "p7K9xrSnslWv"
      },
      "execution_count": 23,
      "outputs": []
    },
    {
      "cell_type": "code",
      "source": [
        "def pool2d(X, pool_size, mode='max'):\n",
        "  \n",
        "  p_h, p_w = pool_size\n",
        "  Y = torch.zeros((X.shape[0] - p_h + 1, X.shape[1] - p_w + 1))  # same as convolution\n",
        "\n",
        "  for i in range(Y.shape[0]):\n",
        "    for j in range(Y.shape[1]):\n",
        "      if mode == 'max':\n",
        "        Y[i, j] = X[i: i + p_h, j:j + p_w].max()\n",
        "      elif mode == 'mean':\n",
        "        Y[i, j] = X[i: i + p_h, j: j + p_w].mean()\n",
        "\n",
        "  return Y"
      ],
      "metadata": {
        "id": "o1RzktRysvp4"
      },
      "execution_count": 24,
      "outputs": []
    },
    {
      "cell_type": "code",
      "source": [
        "X = torch.tensor([[0.0, 1.0, 2.0],\n",
        "                  [3.0, 4.0, 5.0],\n",
        "                  [6.0, 7.0, 8.0]])\n",
        "pool2d(X, (2, 2))"
      ],
      "metadata": {
        "id": "EyXcSZJQtw2K",
        "outputId": "091b0856-b52e-4553-ccae-482dd3a66c0f",
        "colab": {
          "base_uri": "https://localhost:8080/"
        }
      },
      "execution_count": 25,
      "outputs": [
        {
          "output_type": "execute_result",
          "data": {
            "text/plain": [
              "tensor([[4., 5.],\n",
              "        [7., 8.]])"
            ]
          },
          "metadata": {},
          "execution_count": 25
        }
      ]
    },
    {
      "cell_type": "code",
      "source": [
        "pool2d(X, (2, 2), mode='mean')"
      ],
      "metadata": {
        "id": "nnYVAcdDuHsh",
        "outputId": "254be4ab-fe0c-412f-ef0f-eb9a0c93a536",
        "colab": {
          "base_uri": "https://localhost:8080/"
        }
      },
      "execution_count": 26,
      "outputs": [
        {
          "output_type": "execute_result",
          "data": {
            "text/plain": [
              "tensor([[2., 3.],\n",
              "        [5., 6.]])"
            ]
          },
          "metadata": {},
          "execution_count": 26
        }
      ]
    },
    {
      "cell_type": "markdown",
      "source": [
        "### 7.5.2 Padding and Stride"
      ],
      "metadata": {
        "id": "aTEmZ0mTuPQo"
      }
    },
    {
      "cell_type": "code",
      "source": [
        "X = torch.arange(16, dtype=torch.float32).reshape((1, 1, 4, 4)) # batch x channels x Height x Width\n",
        "\n",
        "X"
      ],
      "metadata": {
        "id": "FBNk-dVxuVn3",
        "outputId": "98a537d7-4358-4d8d-965e-07b6578399d4",
        "colab": {
          "base_uri": "https://localhost:8080/"
        }
      },
      "execution_count": 27,
      "outputs": [
        {
          "output_type": "execute_result",
          "data": {
            "text/plain": [
              "tensor([[[[ 0.,  1.,  2.,  3.],\n",
              "          [ 4.,  5.,  6.,  7.],\n",
              "          [ 8.,  9., 10., 11.],\n",
              "          [12., 13., 14., 15.]]]])"
            ]
          },
          "metadata": {},
          "execution_count": 27
        }
      ]
    },
    {
      "cell_type": "code",
      "source": [
        "pool2d = nn.MaxPool2d(3)\n",
        "\n",
        "pool2d(X)"
      ],
      "metadata": {
        "id": "CbY6nm3_umf6",
        "outputId": "414283c8-45e0-4572-82f6-087284945e3c",
        "colab": {
          "base_uri": "https://localhost:8080/"
        }
      },
      "execution_count": 28,
      "outputs": [
        {
          "output_type": "execute_result",
          "data": {
            "text/plain": [
              "tensor([[[[10.]]]])"
            ]
          },
          "metadata": {},
          "execution_count": 28
        }
      ]
    },
    {
      "cell_type": "code",
      "source": [
        "pool2d = nn.MaxPool2d(3, padding=1, stride=2)\n",
        "pool2d(X)"
      ],
      "metadata": {
        "id": "mrAzK0HEu85I",
        "outputId": "c9f726ca-796a-4302-95ca-1b298c5558b7",
        "colab": {
          "base_uri": "https://localhost:8080/"
        }
      },
      "execution_count": 29,
      "outputs": [
        {
          "output_type": "execute_result",
          "data": {
            "text/plain": [
              "tensor([[[[ 5.,  7.],\n",
              "          [13., 15.]]]])"
            ]
          },
          "metadata": {},
          "execution_count": 29
        }
      ]
    },
    {
      "cell_type": "code",
      "source": [
        "pool2d = nn.MaxPool2d((2, 3), stride=(2, 3), padding=(0, 1))\n",
        "pool2d(X)"
      ],
      "metadata": {
        "id": "X1uCWliWvPEw",
        "outputId": "2c42c2ad-51ff-4c41-b663-2d969a7681bb",
        "colab": {
          "base_uri": "https://localhost:8080/"
        }
      },
      "execution_count": 30,
      "outputs": [
        {
          "output_type": "execute_result",
          "data": {
            "text/plain": [
              "tensor([[[[ 5.,  7.],\n",
              "          [13., 15.]]]])"
            ]
          },
          "metadata": {},
          "execution_count": 30
        }
      ]
    }
  ]
}