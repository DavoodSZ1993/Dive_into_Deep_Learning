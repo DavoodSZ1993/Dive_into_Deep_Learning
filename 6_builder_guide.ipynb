{
  "nbformat": 4,
  "nbformat_minor": 0,
  "metadata": {
    "colab": {
      "provenance": [],
      "authorship_tag": "ABX9TyO7zBA5UhQMThD+5nS21cAx",
      "include_colab_link": true
    },
    "kernelspec": {
      "name": "python3",
      "display_name": "Python 3"
    },
    "language_info": {
      "name": "python"
    }
  },
  "cells": [
    {
      "cell_type": "markdown",
      "metadata": {
        "id": "view-in-github",
        "colab_type": "text"
      },
      "source": [
        "<a href=\"https://colab.research.google.com/github/DavoodSZ1993/Dive_into_Deep_Learning/blob/main/6_builder_guide.ipynb\" target=\"_parent\"><img src=\"https://colab.research.google.com/assets/colab-badge.svg\" alt=\"Open In Colab\"/></a>"
      ]
    },
    {
      "cell_type": "markdown",
      "source": [
        "## 6.1 Layers and Modules"
      ],
      "metadata": {
        "id": "n_CJMyK1DIzm"
      }
    },
    {
      "cell_type": "code",
      "execution_count": 1,
      "metadata": {
        "id": "jfyw74atDDrW"
      },
      "outputs": [],
      "source": [
        "import torch\n",
        "from torch import nn\n",
        "from torch.nn import functional as F"
      ]
    },
    {
      "cell_type": "code",
      "source": [
        "net = nn.Sequential(nn.LazyLinear(256),   # input x 256\n",
        "                    nn.ReLU(),            \n",
        "                    nn.LazyLinear(10))    # 256 x 10\n",
        "\n",
        "X = torch.rand(2, 20) # two samples (rows) & 20 features (columns)\n",
        "X.shape, net(X).shape"
      ],
      "metadata": {
        "colab": {
          "base_uri": "https://localhost:8080/"
        },
        "id": "CMZWejB-DqGe",
        "outputId": "4f4ce4e3-3cf4-4efa-b3f2-c8a8f10c9c21"
      },
      "execution_count": 8,
      "outputs": [
        {
          "output_type": "execute_result",
          "data": {
            "text/plain": [
              "(torch.Size([2, 20]), torch.Size([2, 10]))"
            ]
          },
          "metadata": {},
          "execution_count": 8
        }
      ]
    },
    {
      "cell_type": "markdown",
      "source": [
        "### 6.1.1 A Custom Module"
      ],
      "metadata": {
        "id": "lT9rf0w0E7EI"
      }
    },
    {
      "cell_type": "code",
      "source": [],
      "metadata": {
        "id": "L2C7c8fUE_DT"
      },
      "execution_count": null,
      "outputs": []
    }
  ]
}