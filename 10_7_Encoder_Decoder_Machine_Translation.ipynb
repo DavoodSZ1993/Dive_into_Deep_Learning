{
  "nbformat": 4,
  "nbformat_minor": 0,
  "metadata": {
    "colab": {
      "provenance": [],
      "authorship_tag": "ABX9TyNPTV7G5Og/Bkd4Eih9xhqc",
      "include_colab_link": true
    },
    "kernelspec": {
      "name": "python3",
      "display_name": "Python 3"
    },
    "language_info": {
      "name": "python"
    }
  },
  "cells": [
    {
      "cell_type": "markdown",
      "metadata": {
        "id": "view-in-github",
        "colab_type": "text"
      },
      "source": [
        "<a href=\"https://colab.research.google.com/github/DavoodSZ1993/Dive_into_Deep_Learning/blob/main/10_7_Encoder_Decoder_Machine_Translation.ipynb\" target=\"_parent\"><img src=\"https://colab.research.google.com/assets/colab-badge.svg\" alt=\"Open In Colab\"/></a>"
      ]
    },
    {
      "cell_type": "code",
      "execution_count": 1,
      "metadata": {
        "colab": {
          "base_uri": "https://localhost:8080/"
        },
        "id": "69-ixkzJHk6K",
        "outputId": "a36c2dc8-1eff-4e8b-d076-68fcd0fee81d"
      },
      "outputs": [
        {
          "output_type": "stream",
          "name": "stdout",
          "text": [
            "\u001b[2K     \u001b[90m━━━━━━━━━━━━━━━━━━━━━━━━━━━━━━━━━━━━━━━━\u001b[0m \u001b[32m93.0/93.0 KB\u001b[0m \u001b[31m2.2 MB/s\u001b[0m eta \u001b[36m0:00:00\u001b[0m\n",
            "\u001b[2K     \u001b[90m━━━━━━━━━━━━━━━━━━━━━━━━━━━━━━━━━━━━━━━\u001b[0m \u001b[32m121.0/121.0 KB\u001b[0m \u001b[31m7.5 MB/s\u001b[0m eta \u001b[36m0:00:00\u001b[0m\n",
            "\u001b[2K     \u001b[90m━━━━━━━━━━━━━━━━━━━━━━━━━━━━━━━━━━━━━━━━\u001b[0m \u001b[32m83.6/83.6 KB\u001b[0m \u001b[31m6.0 MB/s\u001b[0m eta \u001b[36m0:00:00\u001b[0m\n",
            "\u001b[2K     \u001b[90m━━━━━━━━━━━━━━━━━━━━━━━━━━━━━━━━━━━━━━━━\u001b[0m \u001b[32m1.6/1.6 MB\u001b[0m \u001b[31m37.5 MB/s\u001b[0m eta \u001b[36m0:00:00\u001b[0m\n",
            "\u001b[?25h"
          ]
        }
      ],
      "source": [
        "!pip install d2l==1.0.0-alpha1.post0 --quiet"
      ]
    },
    {
      "cell_type": "markdown",
      "source": [
        "## 10.7 Encoder-Decoder Seq2Seq for Machine Translation"
      ],
      "metadata": {
        "id": "a5s8r8zZIEQK"
      }
    },
    {
      "cell_type": "code",
      "source": [
        "import collections\n",
        "import math\n",
        "import torch\n",
        "from torch import nn\n",
        "from torch.nn import functional as F\n",
        "from d2l import torch as d2l"
      ],
      "metadata": {
        "colab": {
          "base_uri": "https://localhost:8080/"
        },
        "id": "Ub05IP-4ILXT",
        "outputId": "24d34f29-5f84-4a34-a11f-485d619de3ac"
      },
      "execution_count": 2,
      "outputs": [
        {
          "output_type": "stream",
          "name": "stderr",
          "text": [
            "/usr/local/lib/python3.8/dist-packages/torch/cuda/__init__.py:497: UserWarning: Can't initialize NVML\n",
            "  warnings.warn(\"Can't initialize NVML\")\n"
          ]
        }
      ]
    },
    {
      "cell_type": "markdown",
      "source": [
        "### 10.7.2 Encoding"
      ],
      "metadata": {
        "id": "4_RUz2dlIbRq"
      }
    },
    {
      "cell_type": "code",
      "source": [
        "def init_seq2seq(module):\n",
        "  \"\"\"Initialize weights for Seq2Seq.\"\"\"\n",
        "  if type(module) == nn.Linear:\n",
        "    nn.init.xavier_uniform_(module.weight)\n",
        "  if type(module) == nn.GRU:\n",
        "    for param in module._flat_weights_names:\n",
        "      if \"weight\" in param:\n",
        "        nn.init.xavier_uniform(module._parameters[param])"
      ],
      "metadata": {
        "id": "SJt1QHR2Ih0E"
      },
      "execution_count": 3,
      "outputs": []
    },
    {
      "cell_type": "code",
      "source": [
        "class Seq2SeqEncoder(d2l.Encoder):\n",
        "  \"\"\"The RNN encoder for sequence to sequence learning.\"\"\"\n",
        "  def __init__(self, vocab_size, embed_size, num_hiddens, num_layers, \n",
        "               dropout=0):\n",
        "    super().__init__()\n",
        "    self.embedding = nn.Embedding(vocab_size, embed_size)\n",
        "    self.rnn = d2l.GRU(embed_size, num_hiddens, num_layers, dropout)\n",
        "    self.apply(init_seq2seq)\n",
        "\n",
        "  def forward(self, X, *args):\n",
        "    # X shape: (batch_size, num_steps)\n",
        "    embs = self.embedding(X.t().type(torch.int64))\n",
        "    outputs, state = self.rnn(embs)\n",
        "    return outputs, state"
      ],
      "metadata": {
        "id": "vv0biujfKW-h"
      },
      "execution_count": 4,
      "outputs": []
    },
    {
      "cell_type": "code",
      "source": [
        "vocab_size, embed_size, num_hiddens, num_layers = 10, 8, 16, 2\n",
        "batch_size, num_steps = 4, 9\n",
        "\n",
        "encoder = Seq2SeqEncoder(vocab_size, embed_size, num_hiddens, num_layers)\n",
        "X = torch.zeros((batch_size, num_steps))\n",
        "enc_outputs, enc_state = encoder(X)\n",
        "\n",
        "d2l.check_shape(enc_outputs, (num_steps, batch_size, num_hiddens))"
      ],
      "metadata": {
        "colab": {
          "base_uri": "https://localhost:8080/"
        },
        "id": "70slQSgBMORV",
        "outputId": "0927dfbf-e3fc-43db-b265-226c73359da3"
      },
      "execution_count": 5,
      "outputs": [
        {
          "output_type": "stream",
          "name": "stderr",
          "text": [
            "<ipython-input-3-13dda837ebc2>:8: UserWarning: nn.init.xavier_uniform is now deprecated in favor of nn.init.xavier_uniform_.\n",
            "  nn.init.xavier_uniform(module._parameters[param])\n"
          ]
        }
      ]
    },
    {
      "cell_type": "code",
      "source": [
        "d2l.check_shape(enc_state, (num_layers, batch_size, num_hiddens))"
      ],
      "metadata": {
        "id": "zr6jSqBiNPso"
      },
      "execution_count": 6,
      "outputs": []
    },
    {
      "cell_type": "markdown",
      "source": [
        "### 10.7.3 Decoder"
      ],
      "metadata": {
        "id": "LByaAbsRXkCh"
      }
    },
    {
      "cell_type": "code",
      "source": [
        "class Seq2SeqDecoder(d2l.Decoder):\n",
        "  def __init__(self, vocab_size, embed_size, num_hiddens, num_layers,\n",
        "               dropout=0):\n",
        "    super().__init__()\n",
        "    self.embedding = nn.Embedding(vocab_size, embed_size)\n",
        "    self.rnn = d2l.GRU(embed_size+num_hiddens, num_hiddens, \n",
        "                       num_layers, dropout)\n",
        "    self.dense = nn.LazyLinear(vocab_size)\n",
        "    self.apply(init_seq2seq)\n",
        "\n",
        "  def init_state(self, enc_all_outputs, *args):\n",
        "    return enc_all_outputs\n",
        "\n",
        "  def forward(self, X, state):                                                   # X shape: (batch_size, num_steps)\n",
        "    embs = self.embedding(X.t().type(torch.int32))                               # embs shape: (num_steps, batch_size, embed_size)\n",
        "    enc_output, hidden_state = state\n",
        "    context = enc_output[-1]                                                     # context shape: (batch_size, num_hiddens)\n",
        "    context = context.repeat(embs.shape[0], 1, 1)                                # Broadcast context to (num_steps, batch_size, num_hiddens)\n",
        "    embs_and_context = torch.cat((embs, context), -1)                            # concat at the feature dimension\n",
        "    outputs, hidden_state = self.rnn(embs_and_context, hidden_state)\n",
        "    outputs = self.dense(outputs).swapaxes(0, 1)\n",
        "    return outputs, [enc_output, hidden_state]                                   # output shape: (batch_size, num_steps, vocab_size)\n",
        "                                                                                 # hidden_state shape: (num_layers, batch_size, num_hiddens)"
      ],
      "metadata": {
        "id": "G9r9a_NyXnGK"
      },
      "execution_count": 7,
      "outputs": []
    },
    {
      "cell_type": "code",
      "source": [
        "decoder = Seq2SeqDecoder(vocab_size, embed_size, num_hiddens, num_layers)\n",
        "state = decoder.init_state(encoder(X))\n",
        "dec_outputs, state = decoder(X, state)\n",
        "d2l.check_shape(dec_outputs, (batch_size, num_steps, vocab_size))\n",
        "d2l.check_shape(state[1], (num_layers, batch_size, num_hiddens))"
      ],
      "metadata": {
        "id": "lwnOg4CXbI7M",
        "outputId": "21daf720-2436-48b2-f9f5-3c2efdac0447",
        "colab": {
          "base_uri": "https://localhost:8080/"
        }
      },
      "execution_count": 8,
      "outputs": [
        {
          "output_type": "stream",
          "name": "stderr",
          "text": [
            "/usr/local/lib/python3.8/dist-packages/torch/nn/modules/lazy.py:180: UserWarning: Lazy modules are a new feature under heavy development so changes to the API or functionality can happen at any moment.\n",
            "  warnings.warn('Lazy modules are a new feature under heavy development '\n",
            "<ipython-input-3-13dda837ebc2>:8: UserWarning: nn.init.xavier_uniform is now deprecated in favor of nn.init.xavier_uniform_.\n",
            "  nn.init.xavier_uniform(module._parameters[param])\n"
          ]
        }
      ]
    },
    {
      "cell_type": "markdown",
      "source": [
        "### 10.7.4 Encoder-Decoder for Sequence to Sequence Learning"
      ],
      "metadata": {
        "id": "N-7vpxUvWKtX"
      }
    },
    {
      "cell_type": "code",
      "source": [
        "class Seq2Seq(d2l.EncoderDecoder):\n",
        "  def __init__(self, encoder, decoder, tgt_pad, lr):\n",
        "    super().__init__()\n",
        "    self.save_hyperparameters()\n",
        "\n",
        "  def validation_step(self, batch):\n",
        "    Y_hat = self(*batch[:-1])\n",
        "    self.plot('loss', self.loss(Y_hat, batch[-1]), train=False)\n",
        "\n",
        "  def configure_optimizers(self):\n",
        "    return torch.optim.Adam(self.parameters(), lr=self.lr)"
      ],
      "metadata": {
        "id": "0FU6j-3lWbm-"
      },
      "execution_count": 9,
      "outputs": []
    }
  ]
}