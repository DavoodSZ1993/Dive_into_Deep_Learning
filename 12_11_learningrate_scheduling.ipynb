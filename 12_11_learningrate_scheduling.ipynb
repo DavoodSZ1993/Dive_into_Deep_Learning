{
  "nbformat": 4,
  "nbformat_minor": 0,
  "metadata": {
    "colab": {
      "provenance": [],
      "authorship_tag": "ABX9TyOnDS+i5YyDt266jKGsIsMy",
      "include_colab_link": true
    },
    "kernelspec": {
      "name": "python3",
      "display_name": "Python 3"
    },
    "language_info": {
      "name": "python"
    }
  },
  "cells": [
    {
      "cell_type": "markdown",
      "metadata": {
        "id": "view-in-github",
        "colab_type": "text"
      },
      "source": [
        "<a href=\"https://colab.research.google.com/github/DavoodSZ1993/Dive_into_Deep_Learning/blob/main/12_11_learningrate_scheduling.ipynb\" target=\"_parent\"><img src=\"https://colab.research.google.com/assets/colab-badge.svg\" alt=\"Open In Colab\"/></a>"
      ]
    },
    {
      "cell_type": "code",
      "execution_count": null,
      "metadata": {
        "id": "ADjB70E-ZUyJ"
      },
      "outputs": [],
      "source": [
        "!pip install d2l==1.0.0-alpha1.post0 --quiet"
      ]
    },
    {
      "cell_type": "markdown",
      "source": [
        "## 12.11 Learning Rate Scheduling"
      ],
      "metadata": {
        "id": "6QMDm1A3Zdln"
      }
    },
    {
      "cell_type": "markdown",
      "source": [
        "### 12.11.1 Toy Problem"
      ],
      "metadata": {
        "id": "YRHxT6gMZhd-"
      }
    },
    {
      "cell_type": "code",
      "source": [],
      "metadata": {
        "id": "LPTIoyyqZl23"
      },
      "execution_count": null,
      "outputs": []
    }
  ]
}