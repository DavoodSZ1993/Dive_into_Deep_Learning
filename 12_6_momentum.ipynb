{
  "nbformat": 4,
  "nbformat_minor": 0,
  "metadata": {
    "colab": {
      "provenance": [],
      "authorship_tag": "ABX9TyP7Ttkh1gF7dwL8PueGMQf4",
      "include_colab_link": true
    },
    "kernelspec": {
      "name": "python3",
      "display_name": "Python 3"
    },
    "language_info": {
      "name": "python"
    }
  },
  "cells": [
    {
      "cell_type": "markdown",
      "metadata": {
        "id": "view-in-github",
        "colab_type": "text"
      },
      "source": [
        "<a href=\"https://colab.research.google.com/github/DavoodSZ1993/Dive_into_Deep_Learning/blob/main/12_6_momentum.ipynb\" target=\"_parent\"><img src=\"https://colab.research.google.com/assets/colab-badge.svg\" alt=\"Open In Colab\"/></a>"
      ]
    },
    {
      "cell_type": "code",
      "execution_count": null,
      "metadata": {
        "id": "yRHyfJILQJPP"
      },
      "outputs": [],
      "source": [
        "!pip install d2l==1.0.0-alpha1.post0 --quiet"
      ]
    },
    {
      "cell_type": "markdown",
      "source": [
        "## 12.6 Momentum\n"
      ],
      "metadata": {
        "id": "RYvxBgkUQRlq"
      }
    },
    {
      "cell_type": "markdown",
      "source": [
        "### 12.6.1 Basics"
      ],
      "metadata": {
        "id": "ysq41hSnQchE"
      }
    },
    {
      "cell_type": "markdown",
      "source": [
        "#### An Ill-conditioned Problem"
      ],
      "metadata": {
        "id": "ZBsPn26pQfCS"
      }
    },
    {
      "cell_type": "code",
      "source": [],
      "metadata": {
        "id": "Wqh_0oyuQY8C"
      },
      "execution_count": null,
      "outputs": []
    }
  ]
}