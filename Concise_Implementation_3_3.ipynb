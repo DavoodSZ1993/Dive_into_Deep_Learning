{
  "nbformat": 4,
  "nbformat_minor": 0,
  "metadata": {
    "colab": {
      "provenance": [],
      "authorship_tag": "ABX9TyMz28Y/YZKbdgBjmatVdJeU",
      "include_colab_link": true
    },
    "kernelspec": {
      "name": "python3",
      "display_name": "Python 3"
    },
    "language_info": {
      "name": "python"
    }
  },
  "cells": [
    {
      "cell_type": "markdown",
      "metadata": {
        "id": "view-in-github",
        "colab_type": "text"
      },
      "source": [
        "<a href=\"https://colab.research.google.com/github/DavoodSZ1993/Dive_into_Deep_Learning/blob/main/Concise_Implementation_3_3.ipynb\" target=\"_parent\"><img src=\"https://colab.research.google.com/assets/colab-badge.svg\" alt=\"Open In Colab\"/></a>"
      ]
    },
    {
      "cell_type": "markdown",
      "source": [
        "## 1. Generating the Dataset"
      ],
      "metadata": {
        "id": "6XO1tqkpm2sV"
      }
    },
    {
      "cell_type": "code",
      "execution_count": 2,
      "metadata": {
        "id": "6gNmL21Oksem"
      },
      "outputs": [],
      "source": [
        "import numpy as np\n",
        "import torch\n",
        "from torch.utils import data"
      ]
    },
    {
      "cell_type": "code",
      "source": [
        "def synthetic_data(w, b, num_examples):\n",
        "  \"\"\"Generate y = Xw + b + noise.\"\"\"\n",
        "  X = torch.normal(0, 1, (num_examples, len(w)))\n",
        "  y = torch.matmul(X, w) + b\n",
        "  y += torch.normal(0, 0.01, y.shape)\n",
        "  return X, y.reshape((-1, 1))"
      ],
      "metadata": {
        "id": "VAr4JOQqlffU"
      },
      "execution_count": 3,
      "outputs": []
    },
    {
      "cell_type": "code",
      "source": [
        "true_w = torch.tensor([2, -3.4])\n",
        "true_b = 4.2\n",
        "features, labels = synthetic_data(true_w, true_b, 1000)\n",
        "features.shape, labels.shape"
      ],
      "metadata": {
        "colab": {
          "base_uri": "https://localhost:8080/"
        },
        "id": "33HqjleBmVDx",
        "outputId": "60776df8-07a9-4302-b2e3-80c6665ef0c3"
      },
      "execution_count": 6,
      "outputs": [
        {
          "output_type": "execute_result",
          "data": {
            "text/plain": [
              "(torch.Size([1000, 2]), torch.Size([1000, 1]))"
            ]
          },
          "metadata": {},
          "execution_count": 6
        }
      ]
    },
    {
      "cell_type": "markdown",
      "source": [
        "## 2. Reading the Dataset"
      ],
      "metadata": {
        "id": "84EiQW47m6_Y"
      }
    },
    {
      "cell_type": "code",
      "source": [
        "def load_array(data_arrays, batch_size, is_train=True):\n",
        "  \"\"\"COnstruct a PyTorch data iterator.\"\"\"\n",
        "  dataset = data.TensorDataset(*data_arrays)\n",
        "  return data.DataLoader(dataset, batch_size, shuffle=is_train)"
      ],
      "metadata": {
        "id": "gbJPmFfXm_oA"
      },
      "execution_count": 16,
      "outputs": []
    },
    {
      "cell_type": "code",
      "source": [
        "batch_size = 10\n",
        "data_iter = load_array((features, labels), batch_size)\n",
        "dataset = data.TensorDataset(features, labels)"
      ],
      "metadata": {
        "id": "tAA4ukExoHj6"
      },
      "execution_count": 18,
      "outputs": []
    },
    {
      "cell_type": "code",
      "source": [
        "next(iter(data_iter))"
      ],
      "metadata": {
        "colab": {
          "base_uri": "https://localhost:8080/"
        },
        "id": "TGsk5EKRq8tz",
        "outputId": "fc7e6f15-a2bb-4e9e-cea4-3673a180f69e"
      },
      "execution_count": 19,
      "outputs": [
        {
          "output_type": "execute_result",
          "data": {
            "text/plain": [
              "[tensor([[ 0.2916, -0.1712],\n",
              "         [ 1.3457,  0.6209],\n",
              "         [-0.2227,  0.9179],\n",
              "         [-2.0014,  0.5752],\n",
              "         [-0.2617, -0.3859],\n",
              "         [ 0.4759,  0.6198],\n",
              "         [ 1.4187, -0.5441],\n",
              "         [ 0.4516,  1.8962],\n",
              "         [-0.1000, -1.2828],\n",
              "         [-0.6610, -1.2406]]), tensor([[ 5.3550],\n",
              "         [ 4.7676],\n",
              "         [ 0.6251],\n",
              "         [-1.7772],\n",
              "         [ 5.0049],\n",
              "         [ 3.0301],\n",
              "         [ 8.8946],\n",
              "         [-1.3385],\n",
              "         [ 8.3631],\n",
              "         [ 7.0924]])]"
            ]
          },
          "metadata": {},
          "execution_count": 19
        }
      ]
    },
    {
      "cell_type": "markdown",
      "source": [
        "## 3. Defining the Model"
      ],
      "metadata": {
        "id": "58q7S105rHlP"
      }
    },
    {
      "cell_type": "code",
      "source": [
        "from torch import nn\n",
        "\n",
        "net = nn.Sequential(nn.Linear(2, 1))"
      ],
      "metadata": {
        "id": "0PUTwU16rNMC"
      },
      "execution_count": 20,
      "outputs": []
    },
    {
      "cell_type": "markdown",
      "source": [
        "## 4. Initializing Model Parameters"
      ],
      "metadata": {
        "id": "ft3QvbkzrYXo"
      }
    },
    {
      "cell_type": "code",
      "source": [
        "net[0].weight.data.normal_(0, 0.01)\n",
        "net[0].bias.data.fill_(0)"
      ],
      "metadata": {
        "colab": {
          "base_uri": "https://localhost:8080/"
        },
        "id": "8aXqJsW2rcVR",
        "outputId": "bc525f63-821a-4213-8ff2-164f38a613c0"
      },
      "execution_count": 21,
      "outputs": [
        {
          "output_type": "execute_result",
          "data": {
            "text/plain": [
              "tensor([0.])"
            ]
          },
          "metadata": {},
          "execution_count": 21
        }
      ]
    },
    {
      "cell_type": "markdown",
      "source": [
        "## 5. Defining the Loss Function"
      ],
      "metadata": {
        "id": "hzE4855hrqhM"
      }
    },
    {
      "cell_type": "code",
      "source": [
        "loss = nn.MSELoss()"
      ],
      "metadata": {
        "id": "aHkL2TXHru5h"
      },
      "execution_count": 23,
      "outputs": []
    },
    {
      "cell_type": "markdown",
      "source": [
        "## 6. Defining the Optimization Algorithm"
      ],
      "metadata": {
        "id": "-94i7Ub3r5xg"
      }
    },
    {
      "cell_type": "code",
      "source": [
        "trainer = torch.optim.SGD(net.parameters(), lr=0.03)"
      ],
      "metadata": {
        "id": "2NWJBLZOrz4Q"
      },
      "execution_count": 22,
      "outputs": []
    },
    {
      "cell_type": "markdown",
      "source": [
        "## 7. Training"
      ],
      "metadata": {
        "id": "asWdeIapsEJR"
      }
    },
    {
      "cell_type": "code",
      "source": [
        "num_epochs = 3\n",
        "for epoch in range(num_epochs):\n",
        "  for X, y in data_iter:\n",
        "    l = loss(net(X), y)\n",
        "    trainer.zero_grad()\n",
        "    l.backward()\n",
        "    trainer.step()\n",
        "  l = loss(net(features), labels)\n",
        "  print(f'epoch {epoch + 1}, loss{l:f}')"
      ],
      "metadata": {
        "colab": {
          "base_uri": "https://localhost:8080/"
        },
        "id": "1BNNsQ7BsHog",
        "outputId": "4804bfdb-e102-4884-98b2-5c070d89ed19"
      },
      "execution_count": 24,
      "outputs": [
        {
          "output_type": "stream",
          "name": "stdout",
          "text": [
            "epoch 1, loss0.000303\n",
            "epoch 2, loss0.000102\n",
            "epoch 3, loss0.000102\n"
          ]
        }
      ]
    },
    {
      "cell_type": "code",
      "source": [
        "w = net[0].weight.data\n",
        "print('error in estimating w:', true_w - w.reshape(true_w.shape))\n",
        "b = net[0].bias.data\n",
        "print('error in estimating b:', true_b - b)"
      ],
      "metadata": {
        "colab": {
          "base_uri": "https://localhost:8080/"
        },
        "id": "0qnuT0sssssj",
        "outputId": "4f80fefc-af3a-486d-a9f7-32e355d8ef62"
      },
      "execution_count": 25,
      "outputs": [
        {
          "output_type": "stream",
          "name": "stdout",
          "text": [
            "error in estimating w: tensor([-0.0008, -0.0007])\n",
            "error in estimating b: tensor([-0.0001])\n"
          ]
        }
      ]
    }
  ]
}