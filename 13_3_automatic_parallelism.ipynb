{
  "nbformat": 4,
  "nbformat_minor": 0,
  "metadata": {
    "colab": {
      "provenance": [],
      "gpuType": "T4",
      "authorship_tag": "ABX9TyPAPPSjicmaYbPhwk90evzI",
      "include_colab_link": true
    },
    "kernelspec": {
      "name": "python3",
      "display_name": "Python 3"
    },
    "language_info": {
      "name": "python"
    },
    "accelerator": "GPU",
    "gpuClass": "standard"
  },
  "cells": [
    {
      "cell_type": "markdown",
      "metadata": {
        "id": "view-in-github",
        "colab_type": "text"
      },
      "source": [
        "<a href=\"https://colab.research.google.com/github/DavoodSZ1993/Dive_into_Deep_Learning/blob/main/13_3_automatic_parallelism.ipynb\" target=\"_parent\"><img src=\"https://colab.research.google.com/assets/colab-badge.svg\" alt=\"Open In Colab\"/></a>"
      ]
    },
    {
      "cell_type": "code",
      "execution_count": 1,
      "metadata": {
        "colab": {
          "base_uri": "https://localhost:8080/"
        },
        "id": "nettM1RGImS3",
        "outputId": "28f82b74-f3b0-41a6-8fec-601232ed0419"
      },
      "outputs": [
        {
          "output_type": "stream",
          "name": "stdout",
          "text": [
            "\u001b[2K     \u001b[90m━━━━━━━━━━━━━━━━━━━━━━━━━━━━━━━━━━━━━━━━\u001b[0m \u001b[32m93.0/93.0 kB\u001b[0m \u001b[31m3.7 MB/s\u001b[0m eta \u001b[36m0:00:00\u001b[0m\n",
            "\u001b[2K     \u001b[90m━━━━━━━━━━━━━━━━━━━━━━━━━━━━━━━━━━━━━━━\u001b[0m \u001b[32m121.9/121.9 kB\u001b[0m \u001b[31m7.0 MB/s\u001b[0m eta \u001b[36m0:00:00\u001b[0m\n",
            "\u001b[2K     \u001b[90m━━━━━━━━━━━━━━━━━━━━━━━━━━━━━━━━━━━━━━━━\u001b[0m \u001b[32m84.9/84.9 kB\u001b[0m \u001b[31m4.9 MB/s\u001b[0m eta \u001b[36m0:00:00\u001b[0m\n",
            "\u001b[2K     \u001b[90m━━━━━━━━━━━━━━━━━━━━━━━━━━━━━━━━━━━━━━━━\u001b[0m \u001b[32m1.6/1.6 MB\u001b[0m \u001b[31m48.1 MB/s\u001b[0m eta \u001b[36m0:00:00\u001b[0m\n",
            "\u001b[?25h"
          ]
        }
      ],
      "source": [
        "!pip install d2l==1.0.0-alpha1.post0 --quiet"
      ]
    },
    {
      "cell_type": "markdown",
      "source": [
        "## 13.3 Automatic Parallelism"
      ],
      "metadata": {
        "id": "4SapVaIXIwV9"
      }
    },
    {
      "cell_type": "code",
      "source": [
        "import torch\n",
        "from d2l import torch as d2l"
      ],
      "metadata": {
        "id": "y81h6jl_I0-V"
      },
      "execution_count": 2,
      "outputs": []
    },
    {
      "cell_type": "markdown",
      "source": [
        "### 13.3.1 Parallel Computation on GPUs"
      ],
      "metadata": {
        "id": "06v3-dmiK4E2"
      }
    },
    {
      "cell_type": "code",
      "source": [
        "devices = d2l.try_all_gpus()\n",
        "def run(x):\n",
        "  return [x.mm(x) for _ in range(50)]\n",
        "\n",
        "devices"
      ],
      "metadata": {
        "id": "to70U7OPK9Ec",
        "outputId": "d226b45b-b05c-4fef-babf-cdb8a9eb89fc",
        "colab": {
          "base_uri": "https://localhost:8080/"
        }
      },
      "execution_count": 5,
      "outputs": [
        {
          "output_type": "execute_result",
          "data": {
            "text/plain": [
              "[device(type='cuda', index=0)]"
            ]
          },
          "metadata": {},
          "execution_count": 5
        }
      ]
    },
    {
      "cell_type": "code",
      "source": [
        "# Only one device is available on Google Colab\n",
        "x_gpu1 = torch.rand(size=(4000, 4000), device=devices[0])\n",
        "x_gpu2 = torch.rand(size=(4000, 4000), device=devices[0])"
      ],
      "metadata": {
        "id": "T_IA3p9uLLjj"
      },
      "execution_count": 6,
      "outputs": []
    },
    {
      "cell_type": "code",
      "source": [
        "run(x_gpu1)\n",
        "run(x_gpu2)  # Warm-up all devices\n",
        "torch.cuda.synchronize(devices[0])\n",
        "torch.cuda.synchronize(devices[0])\n",
        "\n",
        "with d2l.Benchmark('GPU1 time'):\n",
        "  run(x_gpu1)\n",
        "  torch.cuda.synchronize(devices[0])\n",
        "\n",
        "with d2l.Benchmark('GPU1 time'):\n",
        "  run(x_gpu2)\n",
        "  torch.cuda.synchronize(devices[0])"
      ],
      "metadata": {
        "id": "12Djh6jdMtZM",
        "outputId": "46145cf5-9fe4-4878-9e76-bcfc1e89adbb",
        "colab": {
          "base_uri": "https://localhost:8080/"
        }
      },
      "execution_count": 8,
      "outputs": [
        {
          "output_type": "stream",
          "name": "stdout",
          "text": [
            "GPU1 time: 1.6695 sec\n",
            "GPU1 time: 1.6653 sec\n"
          ]
        }
      ]
    },
    {
      "cell_type": "code",
      "source": [
        "with d2l.Benchmark('GPU1 & GPU1'):\n",
        "  run(x_gpu1)\n",
        "  run(x_gpu2)\n",
        "  torch.cuda.synchronize()"
      ],
      "metadata": {
        "id": "CGyuqEstNiIe",
        "outputId": "8ec20480-9e8d-4fa6-a738-3a760da6b54b",
        "colab": {
          "base_uri": "https://localhost:8080/"
        }
      },
      "execution_count": 9,
      "outputs": [
        {
          "output_type": "stream",
          "name": "stdout",
          "text": [
            "GPU1 & GPU1: 3.3979 sec\n"
          ]
        }
      ]
    }
  ]
}