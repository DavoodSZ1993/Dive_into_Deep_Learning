{
  "nbformat": 4,
  "nbformat_minor": 0,
  "metadata": {
    "colab": {
      "provenance": [],
      "authorship_tag": "ABX9TyNWaE1ICsAJ4+xHAE7Mi3yl",
      "include_colab_link": true
    },
    "kernelspec": {
      "name": "python3",
      "display_name": "Python 3"
    },
    "language_info": {
      "name": "python"
    }
  },
  "cells": [
    {
      "cell_type": "markdown",
      "metadata": {
        "id": "view-in-github",
        "colab_type": "text"
      },
      "source": [
        "<a href=\"https://colab.research.google.com/github/DavoodSZ1993/Dive_into_Deep_Learning/blob/main/14_7_single_shot_multibox_detection.ipynb\" target=\"_parent\"><img src=\"https://colab.research.google.com/assets/colab-badge.svg\" alt=\"Open In Colab\"/></a>"
      ]
    },
    {
      "cell_type": "code",
      "execution_count": 1,
      "metadata": {
        "colab": {
          "base_uri": "https://localhost:8080/"
        },
        "id": "H4K4qP9aQVnp",
        "outputId": "069bc63e-89d6-4988-fd62-5e7d91113852"
      },
      "outputs": [
        {
          "output_type": "stream",
          "name": "stdout",
          "text": [
            "\u001b[2K     \u001b[90m━━━━━━━━━━━━━━━━━━━━━━━━━━━━━━━━━━━━━━━━\u001b[0m \u001b[32m93.0/93.0 kB\u001b[0m \u001b[31m2.9 MB/s\u001b[0m eta \u001b[36m0:00:00\u001b[0m\n",
            "\u001b[2K     \u001b[90m━━━━━━━━━━━━━━━━━━━━━━━━━━━━━━━━━━━━━━━\u001b[0m \u001b[32m121.9/121.9 kB\u001b[0m \u001b[31m3.3 MB/s\u001b[0m eta \u001b[36m0:00:00\u001b[0m\n",
            "\u001b[2K     \u001b[90m━━━━━━━━━━━━━━━━━━━━━━━━━━━━━━━━━━━━━━━━\u001b[0m \u001b[32m84.9/84.9 kB\u001b[0m \u001b[31m6.3 MB/s\u001b[0m eta \u001b[36m0:00:00\u001b[0m\n",
            "\u001b[2K     \u001b[90m━━━━━━━━━━━━━━━━━━━━━━━━━━━━━━━━━━━━━━━━\u001b[0m \u001b[32m1.6/1.6 MB\u001b[0m \u001b[31m54.5 MB/s\u001b[0m eta \u001b[36m0:00:00\u001b[0m\n",
            "\u001b[?25h"
          ]
        }
      ],
      "source": [
        "!pip install d2l==1.0.0-alpha1.post0 --quiet"
      ]
    },
    {
      "cell_type": "markdown",
      "source": [
        "## 14.7 Single Shot Multibox Detection"
      ],
      "metadata": {
        "id": "0Knz2ZtfQgZx"
      }
    },
    {
      "cell_type": "markdown",
      "source": [
        "### 14.7.1 Model"
      ],
      "metadata": {
        "id": "c27r7vl_dltd"
      }
    },
    {
      "cell_type": "markdown",
      "source": [
        "#### Class Prediction Layer"
      ],
      "metadata": {
        "id": "3ssF6tCGdpI7"
      }
    },
    {
      "cell_type": "code",
      "source": [
        "%matplotlib inline\n",
        "import torch\n",
        "import torchvision\n",
        "from torch import nn\n",
        "from torch.nn import functional as F\n",
        "from d2l import torch as d2l"
      ],
      "metadata": {
        "id": "_w7jZ4cZdslp"
      },
      "execution_count": 2,
      "outputs": []
    },
    {
      "cell_type": "code",
      "source": [
        "def cls_predictor(num_inputs, num_anchors, num_classes):\n",
        "  return nn.Conv2d(num_inputs, num_anchors * (num_classes + 1), \n",
        "                   kernel_size=3, padding=1)"
      ],
      "metadata": {
        "id": "LE8S7jYVehdi"
      },
      "execution_count": 3,
      "outputs": []
    },
    {
      "cell_type": "markdown",
      "source": [
        "#### Bounding Box Prediction Layer"
      ],
      "metadata": {
        "id": "_k_c1QPNloyp"
      }
    },
    {
      "cell_type": "code",
      "source": [
        "def bbox_predictor(num_inputs, num_anchors):\n",
        "  return nn.Conv2d(num_inputs, num_anchors * 4, kernel_size=3, padding=1)"
      ],
      "metadata": {
        "id": "VsX-po6tltfc"
      },
      "execution_count": 4,
      "outputs": []
    },
    {
      "cell_type": "markdown",
      "source": [
        "#### Concatenating Predictions for Multiple Scales"
      ],
      "metadata": {
        "id": "2SBUxxB5bq1s"
      }
    },
    {
      "cell_type": "code",
      "source": [
        "def forward(x, block):\n",
        "  return block(x)\n",
        "\n",
        "Y1 = forward(torch.zeros((2, 8, 20, 20)), cls_predictor(8, 5, 10))\n",
        "Y2 = forward(torch.zeros((2, 16, 10, 10)), cls_predictor(16, 3, 10))\n",
        "Y1.shape, Y2.shape"
      ],
      "metadata": {
        "colab": {
          "base_uri": "https://localhost:8080/"
        },
        "id": "nD5PXrxjbxNE",
        "outputId": "2320e67b-8c24-4acc-8542-b66fbef3640c"
      },
      "execution_count": 5,
      "outputs": [
        {
          "output_type": "execute_result",
          "data": {
            "text/plain": [
              "(torch.Size([2, 55, 20, 20]), torch.Size([2, 33, 10, 10]))"
            ]
          },
          "metadata": {},
          "execution_count": 5
        }
      ]
    },
    {
      "cell_type": "code",
      "source": [
        "def flatten_pred(pred):\n",
        "  return torch.flatten(pred.permute(0, 2, 3, 1), start_dim=1)\n",
        "\n",
        "def concat_preds(preds):\n",
        "  return torch.cat([flatten_pred(p) for p in preds], dim=1)"
      ],
      "metadata": {
        "id": "4Y70TC_jdMpi"
      },
      "execution_count": 6,
      "outputs": []
    },
    {
      "cell_type": "code",
      "source": [
        "concat_preds([Y1, Y2]).shape"
      ],
      "metadata": {
        "colab": {
          "base_uri": "https://localhost:8080/"
        },
        "id": "Za537TmYeDb2",
        "outputId": "8e620df3-cf8c-4a94-deda-5bcb081a98fb"
      },
      "execution_count": 7,
      "outputs": [
        {
          "output_type": "execute_result",
          "data": {
            "text/plain": [
              "torch.Size([2, 25300])"
            ]
          },
          "metadata": {},
          "execution_count": 7
        }
      ]
    },
    {
      "cell_type": "markdown",
      "source": [
        "#### Downsampling Block"
      ],
      "metadata": {
        "id": "R3SVbv4uexrF"
      }
    },
    {
      "cell_type": "code",
      "source": [
        "def down_sample_blk(in_channels, out_channels):\n",
        "  blk = []\n",
        "  for _ in range(2):\n",
        "    blk.append(nn.Conv2d(in_channels, out_channels, \n",
        "                         kernel_size=3, padding=1))\n",
        "    blk.append(nn.BatchNorm2d(out_channels))\n",
        "    blk.append(nn.ReLU())\n",
        "    in_channels = out_channels\n",
        "  blk.append(nn.MaxPool2d(2))\n",
        "  return nn.Sequential(*blk)"
      ],
      "metadata": {
        "id": "hOzqC4ZTe3SE"
      },
      "execution_count": 8,
      "outputs": []
    },
    {
      "cell_type": "code",
      "source": [
        "forward(torch.zeros((2, 3, 20, 20)), down_sample_blk(3, 10)).shape"
      ],
      "metadata": {
        "colab": {
          "base_uri": "https://localhost:8080/"
        },
        "id": "QRDe0-ftfkzt",
        "outputId": "a3b5ffe3-1a20-448c-d4e1-010979adfffb"
      },
      "execution_count": 9,
      "outputs": [
        {
          "output_type": "execute_result",
          "data": {
            "text/plain": [
              "torch.Size([2, 10, 10, 10])"
            ]
          },
          "metadata": {},
          "execution_count": 9
        }
      ]
    },
    {
      "cell_type": "markdown",
      "source": [
        "#### Base Network Block"
      ],
      "metadata": {
        "id": "TtcUl_plgqxh"
      }
    },
    {
      "cell_type": "code",
      "source": [
        "def base_net():\n",
        "  blk = []\n",
        "  num_filters = [3, 16, 32, 64]\n",
        "  for i in range(len(num_filters) - 1):\n",
        "    blk.append(down_sample_blk(num_filters[i], num_filters[i+1]))\n",
        "  return nn.Sequential(*blk)\n",
        "\n",
        "forward(torch.zeros((2, 3, 256, 256)), base_net()).shape"
      ],
      "metadata": {
        "colab": {
          "base_uri": "https://localhost:8080/"
        },
        "id": "WwNnWz2JgtZV",
        "outputId": "d5d12030-7bcb-4184-be4c-2f98989f6ae9"
      },
      "execution_count": 12,
      "outputs": [
        {
          "output_type": "execute_result",
          "data": {
            "text/plain": [
              "torch.Size([2, 64, 32, 32])"
            ]
          },
          "metadata": {},
          "execution_count": 12
        }
      ]
    },
    {
      "cell_type": "markdown",
      "source": [
        "#### The Complete Model"
      ],
      "metadata": {
        "id": "DZUBUh0Shx5u"
      }
    },
    {
      "cell_type": "code",
      "source": [
        "def get_blk(i):\n",
        "  if i == 0:\n",
        "    blk = base_net()\n",
        "  elif i == 1:\n",
        "    blk = down_sample_blk(64, 128)\n",
        "  elif i == 4:\n",
        "    blk = nn.AdaptiveMaxPool12d((1, 1))\n",
        "  else:\n",
        "    blk = down_sample_blk(128, 128)\n",
        "  return blk"
      ],
      "metadata": {
        "id": "YaRvI9hSh0yl"
      },
      "execution_count": 13,
      "outputs": []
    },
    {
      "cell_type": "code",
      "source": [
        "def blk_forward(X, blk, size, ratio, cls_predictor, bbox_predictor):\n",
        "  Y = blk(X)\n",
        "  anchors = d2l.multibox_prior(Y, sizes=size, ratios=ratio)\n",
        "  cls_preds = cls_predictor(Y)\n",
        "  bbox_preds = bbox_predictor(Y)\n",
        "  return (Y, anchors, cls_preds, bbox_preds)"
      ],
      "metadata": {
        "id": "YyGx4-VRiVwr"
      },
      "execution_count": 14,
      "outputs": []
    },
    {
      "cell_type": "code",
      "source": [
        "sizes = [[0.2, 0.272], [0.37, 0.447], [0.54, 0.619], [0.71, 00.79],\n",
        "         [0.88, 0.961]]\n",
        "ratios = [[1, 2, 0.5]] * 5\n",
        "num_anchors = len(sizes[0]) + len(ratios[0]) - 1"
      ],
      "metadata": {
        "id": "zOjHrypRjWXK"
      },
      "execution_count": 16,
      "outputs": []
    },
    {
      "cell_type": "code",
      "source": [
        "class TinySSD(nn.Module):\n",
        "  def __init__(self, num_classes, **kwargs):\n",
        "    super(TinySSD, self).__init__(**kwargs)\n",
        "    self.num_classes = num_classes\n",
        "    idx_to_in_channels = [64, 128, 128, 128, 128]\n",
        "    for i in range(5):\n",
        "      setattr(self, f'blk_{i}', get_blk(i))\n",
        "      setattr(self, f'cls_{i}', cls_predictor(idx_to_in_channels[i],\n",
        "                                              num_anchors, num_classes))\n",
        "      setattr(self, f'bbox_{i}', bbox_predictor(idx_to_in_channels[i],\n",
        "                                                num_anchors))\n",
        "      \n",
        "  def forward(self, X):\n",
        "    anchors, cls_preds, bbox_preds = [None] * 5, [None] * 5, [None] * 5\n",
        "    for i in range(5):\n",
        "      X, anchors[i], cls_preds[i], bbox_preds[i] = blk_forward(\n",
        "          X, getattr(self, f'blk_{i}'), sizes[i], ratios[i], \n",
        "          getattr(self, f'cls_{i}'), getattr(self, f'bbox_{i}'))\n",
        "    anchors = torch.cat(anchors, dim=1)\n",
        "    cls_preds = concat_preds(cls_preds)\n",
        "    "
      ],
      "metadata": {
        "id": "wfMvTTb0kGyX"
      },
      "execution_count": null,
      "outputs": []
    }
  ]
}