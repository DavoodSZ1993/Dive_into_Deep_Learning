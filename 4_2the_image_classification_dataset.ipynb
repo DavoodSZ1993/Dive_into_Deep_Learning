{
  "nbformat": 4,
  "nbformat_minor": 0,
  "metadata": {
    "colab": {
      "provenance": [],
      "authorship_tag": "ABX9TyMP5tPuqdX1Ws1qcsKU9WiT",
      "include_colab_link": true
    },
    "kernelspec": {
      "name": "python3",
      "display_name": "Python 3"
    },
    "language_info": {
      "name": "python"
    }
  },
  "cells": [
    {
      "cell_type": "markdown",
      "metadata": {
        "id": "view-in-github",
        "colab_type": "text"
      },
      "source": [
        "<a href=\"https://colab.research.google.com/github/DavoodSZ1993/Dive_into_Deep_Learning/blob/main/4_2the_image_classification_dataset.ipynb\" target=\"_parent\"><img src=\"https://colab.research.google.com/assets/colab-badge.svg\" alt=\"Open In Colab\"/></a>"
      ]
    },
    {
      "cell_type": "code",
      "source": [
        "!pip install d2l==1.0.0-alpha1.post0"
      ],
      "metadata": {
        "id": "IBroNRfknE31"
      },
      "execution_count": null,
      "outputs": []
    },
    {
      "cell_type": "code",
      "execution_count": 9,
      "metadata": {
        "id": "zW2hrHvLifBn"
      },
      "outputs": [],
      "source": [
        "%matplotlib inline\n",
        "import time\n",
        "import torch\n",
        "import torchvision\n",
        "from torchvision import transforms\n",
        "from matplotlib_inline import backend_inline\n",
        "import collections\n",
        "import inspect\n"
      ]
    },
    {
      "cell_type": "code",
      "source": [
        "def use_svg_display():\n",
        "  \"\"\"Use the svg (Scalable Vector Graphics) format to display a plot in Jupyter.\"\"\"\n",
        "  backend_inline.set_matplotlib_formats('svg')\n",
        "\n",
        "use_svg_display()"
      ],
      "metadata": {
        "id": "VawQPr5ijLzy"
      },
      "execution_count": 10,
      "outputs": []
    },
    {
      "cell_type": "markdown",
      "source": [
        "## 1. Object-oriented Design for Implementation"
      ],
      "metadata": {
        "id": "5lecVYOLnvKn"
      }
    },
    {
      "cell_type": "code",
      "source": [
        "import numpy as np\n",
        "from torch import nn\n",
        "from d2l import torch as d2l"
      ],
      "metadata": {
        "id": "HQX6RMCKn1L8"
      },
      "execution_count": 11,
      "outputs": []
    },
    {
      "cell_type": "markdown",
      "source": [
        "### 1.1 Utilities"
      ],
      "metadata": {
        "id": "AHrNfjw6p-sj"
      }
    },
    {
      "cell_type": "code",
      "source": [
        "def add_to_class(Class):\n",
        "  def wrapper(obj):\n",
        "    setattr(Class, obj.__name__, obj)\n",
        "  return wrapper"
      ],
      "metadata": {
        "id": "k2ccEXnQqDGc"
      },
      "execution_count": 12,
      "outputs": []
    },
    {
      "cell_type": "code",
      "source": [
        "class A:\n",
        "  def __init__(self):\n",
        "    self.b = 1\n",
        "\n",
        "a = A()"
      ],
      "metadata": {
        "id": "-wJIM_pQshu1"
      },
      "execution_count": 13,
      "outputs": []
    },
    {
      "cell_type": "code",
      "source": [
        "@add_to_class(A)\n",
        "def do(self):\n",
        "  print('Class attribute \"b\" is', self.b)\n",
        "\n",
        "a.do()"
      ],
      "metadata": {
        "colab": {
          "base_uri": "https://localhost:8080/"
        },
        "id": "PqWTaAhGtMgd",
        "outputId": "d3c44073-01a3-4fca-b3bb-bfd50f73f09a"
      },
      "execution_count": 14,
      "outputs": [
        {
          "output_type": "stream",
          "name": "stdout",
          "text": [
            "Class attribute \"b\" is 1\n"
          ]
        }
      ]
    },
    {
      "cell_type": "code",
      "source": [
        "class Hyperparameters:\n",
        "  def save_hyperparameters(self, ignore=[]):\n",
        "    \"\"\"Save function arguments into class attributes.\"\"\"\n",
        "    frame = inspect.currentframe().f_back\n",
        "    _, _, _, local_vars = inspect.getargvalues(frame)\n",
        "    self.hparams = {k:v for k, v in local_vars.items() if k not in set(ignore+['self']) and not k.startswith('_')}\n",
        "    for k, v in self.hparams.items():\n",
        "      setattr(self, k, v)"
      ],
      "metadata": {
        "id": "Sdk-F0KquI2-"
      },
      "execution_count": 15,
      "outputs": []
    },
    {
      "cell_type": "code",
      "source": [
        "# Call the fully implemented GyperParameters class saved in d2l\n",
        "class B(Hyperparameters):\n",
        "  def __init__(self, a, b, c):\n",
        "    self.save_hyperparameters(ignore=['c'])\n",
        "    print('self.a=', self.a, 'self.b=', self.b)\n",
        "    print('There is no self.c=', not hasattr(self, 'c'))"
      ],
      "metadata": {
        "id": "VEhbhbxbxAMB"
      },
      "execution_count": 16,
      "outputs": []
    },
    {
      "cell_type": "code",
      "source": [
        "b = B(a=1, b=2, c=3)"
      ],
      "metadata": {
        "id": "sMBuKERvxqGR",
        "outputId": "cc5ad7a3-82db-4eb6-caaf-d5e4d059d99b",
        "colab": {
          "base_uri": "https://localhost:8080/"
        }
      },
      "execution_count": 17,
      "outputs": [
        {
          "output_type": "stream",
          "name": "stdout",
          "text": [
            "self.a= 1 self.b= 2\n",
            "There is no self.c= True\n"
          ]
        }
      ]
    }
  ]
}