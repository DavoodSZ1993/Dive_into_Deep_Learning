{
  "nbformat": 4,
  "nbformat_minor": 0,
  "metadata": {
    "colab": {
      "provenance": [],
      "authorship_tag": "ABX9TyNpU+aYhTFWmIx2gwKXdoTI",
      "include_colab_link": true
    },
    "kernelspec": {
      "name": "python3",
      "display_name": "Python 3"
    },
    "language_info": {
      "name": "python"
    }
  },
  "cells": [
    {
      "cell_type": "markdown",
      "metadata": {
        "id": "view-in-github",
        "colab_type": "text"
      },
      "source": [
        "<a href=\"https://colab.research.google.com/github/DavoodSZ1993/Dive_into_Deep_Learning/blob/main/4_2the_image_classification_dataset.ipynb\" target=\"_parent\"><img src=\"https://colab.research.google.com/assets/colab-badge.svg\" alt=\"Open In Colab\"/></a>"
      ]
    },
    {
      "cell_type": "code",
      "source": [
        "!pip install d2l==1.0.0-alpha1.post0"
      ],
      "metadata": {
        "id": "IBroNRfknE31"
      },
      "execution_count": null,
      "outputs": []
    },
    {
      "cell_type": "code",
      "execution_count": 7,
      "metadata": {
        "id": "zW2hrHvLifBn"
      },
      "outputs": [],
      "source": [
        "%matplotlib inline\n",
        "import time\n",
        "import torch\n",
        "import torchvision\n",
        "from torchvision import transforms\n",
        "from matplotlib_inline import backend_inline"
      ]
    },
    {
      "cell_type": "code",
      "source": [
        "def use_svg_display():\n",
        "  \"\"\"Use the svg (Scalable Vector Graphics) format to display a plot in Jupyter.\"\"\"\n",
        "  backend_inline.set_matplotlib_formats('svg')\n",
        "\n",
        "use_svg_display()"
      ],
      "metadata": {
        "id": "VawQPr5ijLzy"
      },
      "execution_count": 8,
      "outputs": []
    },
    {
      "cell_type": "markdown",
      "source": [
        "## 1. Object-oriented Design for Implementation"
      ],
      "metadata": {
        "id": "5lecVYOLnvKn"
      }
    },
    {
      "cell_type": "code",
      "source": [
        "import numpy as np\n",
        "from torch import nn\n",
        "from d2l import torch as d2l"
      ],
      "metadata": {
        "id": "HQX6RMCKn1L8"
      },
      "execution_count": null,
      "outputs": []
    },
    {
      "cell_type": "markdown",
      "source": [
        "### 1.1 Utilities"
      ],
      "metadata": {
        "id": "AHrNfjw6p-sj"
      }
    },
    {
      "cell_type": "code",
      "source": [
        "def add_to_class(Class):\n",
        "  def wrapper(obj):\n",
        "    setattr(Class, obj.__name__, obj)\n",
        "  return wrapper"
      ],
      "metadata": {
        "id": "k2ccEXnQqDGc"
      },
      "execution_count": 10,
      "outputs": []
    },
    {
      "cell_type": "code",
      "source": [
        "class A:\n",
        "  def __init__(self):\n",
        "    self.b = 1\n",
        "\n",
        "a = A()"
      ],
      "metadata": {
        "id": "-wJIM_pQshu1"
      },
      "execution_count": 11,
      "outputs": []
    },
    {
      "cell_type": "code",
      "source": [
        "@add_to_class(A)\n",
        "def do(self):\n",
        "  print('Class attribute \"b\" is', self.b)\n",
        "\n",
        "a.do()"
      ],
      "metadata": {
        "colab": {
          "base_uri": "https://localhost:8080/"
        },
        "id": "PqWTaAhGtMgd",
        "outputId": "2ad98144-82d6-4a8e-889b-b15f13c9d077"
      },
      "execution_count": 12,
      "outputs": [
        {
          "output_type": "stream",
          "name": "stdout",
          "text": [
            "Class attribute \"b\" is 1\n"
          ]
        }
      ]
    }
  ]
}